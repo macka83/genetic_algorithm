{
 "cells": [
  {
   "cell_type": "markdown",
   "id": "d1c50c7f",
   "metadata": {},
   "source": [
    "https://www.geeksforgeeks.org/building-an-undirected-graph-and-finding-shortest-path-using-dictionaries-in-python/"
   ]
  },
  {
   "cell_type": "code",
   "execution_count": 1,
   "id": "7277a8ba",
   "metadata": {},
   "outputs": [],
   "source": [
    "from collections import defaultdict\n",
    "import numpy as np"
   ]
  },
  {
   "cell_type": "markdown",
   "id": "95166626",
   "metadata": {},
   "source": [
    "generate network from out up, calculate down"
   ]
  },
  {
   "cell_type": "code",
   "execution_count": 9,
   "id": "4f46a9a8",
   "metadata": {},
   "outputs": [],
   "source": [
    "\n",
    "# n_mid = 0\n",
    "# edges = [['2in','2out'],\n",
    "#   ['0in','0out'],\n",
    "#   ['2in','0mid'],\n",
    "#   ['0mid','2out'],\n",
    "#   ['0mid','0mid'],\n",
    "#   ['0mid','0out']]\n",
    "\n",
    "\n",
    "# n_mid = 0\n",
    "# edges = [['2in','0out'],\n",
    "#       ['0in','0mid'],\n",
    "#       ['0mid','0mid'],\n",
    "#       ['0in','1out'],\n",
    "#       ['2in','1out']]\n",
    "\n",
    "n_mid = 1\n",
    "edges = [['1mid','0mid'],\n",
    "      ['0mid','2out'],\n",
    "      ['1in','1out'],\n",
    "      ['0in','0mid'],\n",
    "      ['0in','2out'],\n",
    "      ['0in','0out'],\n",
    "      ['0mid','0mid'],\n",
    "      ['2in','0mid'],\n",
    "      ['0mid','1out'],\n",
    "      ['0in','1out']]"
   ]
  },
  {
   "cell_type": "code",
   "execution_count": 3,
   "id": "d3ebd388",
   "metadata": {},
   "outputs": [
    {
     "name": "stdout",
     "output_type": "stream",
     "text": [
      "defaultdict(<class 'list'>, {'1mid': ['0mid'], '0mid': ['1mid', '2out', '0in', '0mid', '0mid', '2in', '1out'], '2out': ['0mid', '0in'], '1in': ['1out'], '1out': ['1in', '0mid', '0in'], '0in': ['0mid', '2out', '0out', '1out'], '0out': ['0in'], '2in': ['0mid']})\n",
      "\n",
      "defaultdict(<class 'list'>, {'1mid': ['0mid'], '0mid': ['0in', '2in', '0mid', '1mid'], '2out': ['0mid', '0in'], '1out': ['1in', '0mid', '0in'], '0out': ['0in']})\n",
      "\n"
     ]
    }
   ],
   "source": [
    "graph = defaultdict(list)\n",
    "     \n",
    "# Loop to iterate over every\n",
    "# edge of the graph\n",
    "for edge in edges:\n",
    "    a, b = edge[0], edge[1]\n",
    "\n",
    "    # Creating the graph\n",
    "    # as adjacency list\n",
    "    graph[a].append(b)\n",
    "    graph[b].append(a)\n",
    "print(graph)\n",
    "print()\n",
    "list_to_pop = [key for key in graph if 'in' in key]\n",
    "\n",
    "for key in list_to_pop:\n",
    "    graph.pop(key)\n",
    "    \n",
    "# print(graph)\n",
    "# print()\n",
    "\n",
    "for mid in graph:\n",
    "    if 'mid' in mid:\n",
    "        list_mid_connection = [out_neroun for out_neroun in list(set(graph[mid])) if 'out' not in out_neroun]\n",
    "        graph[mid] = list_mid_connection\n",
    "        \n",
    "print(graph)\n",
    "print()\n",
    "\n"
   ]
  },
  {
   "cell_type": "code",
   "execution_count": 4,
   "id": "6a1ad85c",
   "metadata": {},
   "outputs": [],
   "source": [
    "# for key_out in graph:\n",
    "#     if 'out' in key_out:\n",
    "#         for val_out in graph[key_out]:\n",
    "#             if 'in' in val_out:\n",
    "#                 print(val_out, key_out)\n",
    "#             elif 'mid' in val_out:\n",
    "#                 print(val_out, key_out)\n",
    "#                 for key_mid in graph:\n",
    "#                     if 'mid' in key_mid and val_out == key_mid:\n",
    "#                         for mid_val in graph[key_mid]:\n",
    "#                             print(mid_val, val_out)\n"
   ]
  },
  {
   "cell_type": "markdown",
   "id": "036eada9",
   "metadata": {},
   "source": [
    "neuron creation refine version"
   ]
  },
  {
   "cell_type": "code",
   "execution_count": 5,
   "id": "e83a8602",
   "metadata": {},
   "outputs": [
    {
     "name": "stdout",
     "output_type": "stream",
     "text": [
      "defaultdict(<class 'list'>, {'2out': ['0mid', '0in'], '1out': ['1in', '0mid', '0in'], '0out': ['0in']})\n",
      "\n"
     ]
    }
   ],
   "source": [
    "def get_neuron_dict(edges, key):\n",
    "    graph = defaultdict(list)\n",
    "\n",
    "    # Loop to iterate over every\n",
    "    # edge of the graph\n",
    "    for edge in edges:\n",
    "        a, b = edge[0], edge[1]\n",
    "\n",
    "        # Creating the graph\n",
    "        # as adjacency list\n",
    "        if key in b:\n",
    "    #         graph[a].append(b)\n",
    "            graph[b].append(a)\n",
    "    return graph\n",
    "graph = get_neuron_dict(edges, 'out')        \n",
    "print(graph)\n",
    "print()"
   ]
  },
  {
   "cell_type": "code",
   "execution_count": 6,
   "id": "26ec2bfd",
   "metadata": {},
   "outputs": [
    {
     "name": "stdout",
     "output_type": "stream",
     "text": [
      "key 2out\n",
      "defaultdict(<class 'list'>, {'0mid': ['1mid', '0in', '0mid', '2in']})\n",
      "\n",
      "key 1out\n",
      "defaultdict(<class 'list'>, {'0mid': ['1mid', '0in', '0mid', '2in']})\n",
      "\n",
      "key 0out\n",
      "\n"
     ]
    }
   ],
   "source": [
    "for key in graph:\n",
    "    print('key', key)\n",
    "    for val in graph[key]:\n",
    "        if 'mid' in val:\n",
    "            graph_mid = get_neuron_dict(edges, 'mid')\n",
    "            print(graph_mid)\n",
    "    print()"
   ]
  },
  {
   "cell_type": "markdown",
   "id": "a901fa72",
   "metadata": {},
   "source": [
    "new algoritm for neuron creation"
   ]
  },
  {
   "cell_type": "code",
   "execution_count": 8,
   "id": "1b949263",
   "metadata": {},
   "outputs": [
    {
     "ename": "RuntimeError",
     "evalue": "dictionary changed size during iteration",
     "output_type": "error",
     "traceback": [
      "\u001b[1;31m---------------------------------------------------------------------------\u001b[0m",
      "\u001b[1;31mRuntimeError\u001b[0m                              Traceback (most recent call last)",
      "\u001b[1;32m~\\AppData\\Local\\Temp/ipykernel_15628/3821643576.py\u001b[0m in \u001b[0;36m<module>\u001b[1;34m\u001b[0m\n\u001b[0;32m      6\u001b[0m         \u001b[0mout\u001b[0m\u001b[1;33m[\u001b[0m\u001b[0mout_neuron\u001b[0m\u001b[1;33m[\u001b[0m\u001b[1;36m1\u001b[0m\u001b[1;33m]\u001b[0m\u001b[1;33m]\u001b[0m \u001b[1;33m=\u001b[0m \u001b[1;33m[\u001b[0m\u001b[0mout_neuron\u001b[0m\u001b[1;33m[\u001b[0m\u001b[1;36m0\u001b[0m\u001b[1;33m]\u001b[0m\u001b[1;33m]\u001b[0m\u001b[1;33m\u001b[0m\u001b[1;33m\u001b[0m\u001b[0m\n\u001b[0;32m      7\u001b[0m \u001b[1;33m\u001b[0m\u001b[0m\n\u001b[1;32m----> 8\u001b[1;33m \u001b[1;32mfor\u001b[0m \u001b[0mkey\u001b[0m \u001b[1;32min\u001b[0m \u001b[0mout\u001b[0m\u001b[1;33m:\u001b[0m\u001b[1;33m\u001b[0m\u001b[1;33m\u001b[0m\u001b[0m\n\u001b[0m\u001b[0;32m      9\u001b[0m     \u001b[1;32mfor\u001b[0m \u001b[0mmid\u001b[0m \u001b[1;32min\u001b[0m \u001b[0mout\u001b[0m\u001b[1;33m[\u001b[0m\u001b[0mkey\u001b[0m\u001b[1;33m]\u001b[0m\u001b[1;33m:\u001b[0m\u001b[1;33m\u001b[0m\u001b[1;33m\u001b[0m\u001b[0m\n\u001b[0;32m     10\u001b[0m         \u001b[1;32mif\u001b[0m \u001b[1;34m'mid'\u001b[0m \u001b[1;32min\u001b[0m \u001b[0mmid\u001b[0m\u001b[1;33m:\u001b[0m\u001b[1;33m\u001b[0m\u001b[1;33m\u001b[0m\u001b[0m\n",
      "\u001b[1;31mRuntimeError\u001b[0m: dictionary changed size during iteration"
     ]
    }
   ],
   "source": [
    "out = {}\n",
    "for out_neuron in edges:\n",
    "    if 'out' in out_neuron[1] and out_neuron[1] in out:        \n",
    "        out[out_neuron[1]].append(out_neuron[0])\n",
    "    elif 'out' in out_neuron[1] and out_neuron[1] not in out:\n",
    "        out[out_neuron[1]] = [out_neuron[0]]\n",
    "\n",
    "for key in out:\n",
    "    for mid in out[key]:\n",
    "        if 'mid' in mid:\n",
    "            item_list = []\n",
    "            for item in edges:\n",
    "                if item[1] == mid and item not in item_list: \n",
    "                    item_list.append(item[0])\n",
    "            out[mid] = item_list\n",
    "                    "
   ]
  },
  {
   "cell_type": "code",
   "execution_count": null,
   "id": "73d037c1",
   "metadata": {},
   "outputs": [],
   "source": [
    "item_list"
   ]
  },
  {
   "cell_type": "code",
   "execution_count": null,
   "id": "25c0d867",
   "metadata": {},
   "outputs": [],
   "source": [
    "# Function to build the graph\n",
    "def build_graph(edges):\n",
    "    \n",
    "    graph = defaultdict(list)\n",
    "     \n",
    "    # Loop to iterate over every\n",
    "    # edge of the graph\n",
    "    for edge in edges:\n",
    "        a, b = edge[0], edge[1]\n",
    "         \n",
    "        # Creating the graph\n",
    "        # as adjacency list\n",
    "        graph[a].append(b)\n",
    "        graph[b].append(a)\n",
    "    return graph\n"
   ]
  },
  {
   "cell_type": "code",
   "execution_count": null,
   "id": "978e96af",
   "metadata": {},
   "outputs": [],
   "source": [
    "edges = [\n",
    "        [\"A\", \"B\"], [\"A\", \"E\"],\n",
    "        [\"A\", \"C\"], [\"B\", \"D\"],\n",
    "        [\"B\", \"E\"], [\"C\", \"F\"],\n",
    "        [\"C\", \"G\"], [\"D\", \"E\"]\n",
    "    ]"
   ]
  },
  {
   "cell_type": "code",
   "execution_count": null,
   "id": "e6cef12c",
   "metadata": {},
   "outputs": [],
   "source": [
    "graph = build_graph(edges)\n",
    "\n",
    "print(graph)"
   ]
  },
  {
   "cell_type": "code",
   "execution_count": null,
   "id": "f320881d",
   "metadata": {},
   "outputs": [],
   "source": []
  },
  {
   "cell_type": "code",
   "execution_count": null,
   "id": "8a1f3d8a",
   "metadata": {},
   "outputs": [],
   "source": [
    "edges = [['2in','2out'],\n",
    "  ['0in','0out'],\n",
    "  ['2in','0mid'],\n",
    "  ['0mid','2out'],\n",
    "  ['0mid','0mid'],\n",
    "  ['0mid','0out']]\n",
    "\n",
    "graph = build_graph(edges)"
   ]
  },
  {
   "cell_type": "code",
   "execution_count": null,
   "id": "fac77f44",
   "metadata": {},
   "outputs": [],
   "source": [
    "graph"
   ]
  },
  {
   "cell_type": "code",
   "execution_count": null,
   "id": "2f3b26d3",
   "metadata": {},
   "outputs": [],
   "source": []
  }
 ],
 "metadata": {
  "kernelspec": {
   "display_name": "Python 3 (ipykernel)",
   "language": "python",
   "name": "python3"
  },
  "language_info": {
   "codemirror_mode": {
    "name": "ipython",
    "version": 3
   },
   "file_extension": ".py",
   "mimetype": "text/x-python",
   "name": "python",
   "nbconvert_exporter": "python",
   "pygments_lexer": "ipython3",
   "version": "3.9.7"
  }
 },
 "nbformat": 4,
 "nbformat_minor": 5
}
