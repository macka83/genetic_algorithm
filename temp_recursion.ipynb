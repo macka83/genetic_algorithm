{
 "cells": [
  {
   "cell_type": "markdown",
   "id": "d1c50c7f",
   "metadata": {},
   "source": [
    "https://www.geeksforgeeks.org/building-an-undirected-graph-and-finding-shortest-path-using-dictionaries-in-python/"
   ]
  },
  {
   "cell_type": "markdown",
   "id": "95166626",
   "metadata": {},
   "source": [
    "generate network from out up, calculate down"
   ]
  },
  {
   "cell_type": "code",
   "execution_count": 1,
   "id": "4f46a9a8",
   "metadata": {
    "code_folding": []
   },
   "outputs": [],
   "source": [
    "\n",
    "# n_mid = 0\n",
    "# n_out = 2\n",
    "# edges = [['2in','2out'],\n",
    "#   ['0in','0out'],\n",
    "#   ['2in','0mid'],\n",
    "#   ['0mid','2out'],\n",
    "#   ['0mid','0mid'],\n",
    "#   ['0mid','0out']]\n",
    "\n",
    "\n",
    "# n_out = 2\n",
    "# edges = [['0in', '0mid'],\n",
    "#          ['2in', '1mid'],\n",
    "#          ['0mid', '1mid'],\n",
    "#          ['0in', '0out'],\n",
    "#          ['1mid', '1mid'],\n",
    "#          ['0mid', '0mid'],\n",
    "#          ['2in', '1mid'],\n",
    "#          ['1mid', '0mid'],\n",
    "#          ['0mid', '0out'],\n",
    "#          ['2in', '1out'],\n",
    "#          ['0mid', '2out'],\n",
    "#          ['1mid', '0mid'],\n",
    "#          ['0mid', '0mid'],\n",
    "#          ['0in', '0mid'],\n",
    "#          ['0in', '1out'],\n",
    "#          ['0in', '0mid']]\n",
    "\n",
    "n_mid = 1\n",
    "n_out = 2\n",
    "edges = [['1mid','0mid'],\n",
    "      ['0mid','2out'],\n",
    "      ['1in','1out'],\n",
    "      ['0in','0mid'],\n",
    "      ['0in','2out'],\n",
    "      ['0in','0out'],\n",
    "      ['0mid','0mid'],\n",
    "      ['2in','0mid'],\n",
    "      ['0mid','1out'],\n",
    "      ['0in','1out']]"
   ]
  },
  {
   "cell_type": "markdown",
   "id": "824befc0",
   "metadata": {},
   "source": [
    "new algoritm for neuron creation"
   ]
  },
  {
   "cell_type": "code",
   "execution_count": 2,
   "id": "20a2d95b",
   "metadata": {},
   "outputs": [
    {
     "data": {
      "text/plain": [
       "[['1mid', '0mid'],\n",
       " ['0in', '0mid'],\n",
       " ['0mid', '0mid'],\n",
       " ['2in', '0mid'],\n",
       " ['0in', '0out'],\n",
       " ['1in', '1out'],\n",
       " ['0mid', '1out'],\n",
       " ['0in', '1out'],\n",
       " ['0mid', '2out'],\n",
       " ['0in', '2out']]"
      ]
     },
     "execution_count": 2,
     "metadata": {},
     "output_type": "execute_result"
    }
   ],
   "source": [
    "out = {f'{n}out':{} for n in range(n_out+1)}\n",
    "sorted(edges, key=lambda x: x[1])"
   ]
  },
  {
   "cell_type": "code",
   "execution_count": 3,
   "id": "f9b76e7b",
   "metadata": {
    "scrolled": true
   },
   "outputs": [
    {
     "data": {
      "text/plain": [
       "{'0out': {'0in': {}},\n",
       " '1out': {'1in': {},\n",
       "  '0mid': {'1mid': {}, '0in': {}, '0mid': {}, '2in': {}},\n",
       "  '0in': {}},\n",
       " '2out': {'0mid': {'1mid': {}, '0in': {}, '0mid': {}, '2in': {}}, '0in': {}}}"
      ]
     },
     "execution_count": 3,
     "metadata": {},
     "output_type": "execute_result"
    }
   ],
   "source": [
    "out = {f'{n}out':{} for n in range(n_out+1)}\n",
    "\n",
    "def mid_neuron(out, edges):\n",
    "    for key in out:\n",
    "        for item in edges:\n",
    "            if key == item[1] and 'mid' in item[0] and key != item[0]:\n",
    "                out[key].update({item[0]:{}})\n",
    "                mid_neuron(out[key], edges)\n",
    "                \n",
    "            elif key == item[1] and 'mid' in item[0] and key == item[0]:\n",
    "                out[key].update({item[0]:{}})\n",
    "                \n",
    "            elif key == item[1] and 'mid' not in item[0]:\n",
    "                out[key].update({item[0]:{}})\n",
    "\n",
    "mid_neuron(out, edges)\n",
    "\n",
    "out"
   ]
  },
  {
   "cell_type": "code",
   "execution_count": null,
   "id": "1d3de85e",
   "metadata": {},
   "outputs": [],
   "source": []
  }
 ],
 "metadata": {
  "kernelspec": {
   "display_name": "Python 3 (ipykernel)",
   "language": "python",
   "name": "python3"
  },
  "language_info": {
   "codemirror_mode": {
    "name": "ipython",
    "version": 3
   },
   "file_extension": ".py",
   "mimetype": "text/x-python",
   "name": "python",
   "nbconvert_exporter": "python",
   "pygments_lexer": "ipython3",
   "version": "3.9.7"
  }
 },
 "nbformat": 4,
 "nbformat_minor": 5
}
