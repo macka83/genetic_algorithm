{
 "cells": [
  {
   "cell_type": "markdown",
   "id": "d1c50c7f",
   "metadata": {},
   "source": [
    "https://www.geeksforgeeks.org/building-an-undirected-graph-and-finding-shortest-path-using-dictionaries-in-python/"
   ]
  },
  {
   "cell_type": "code",
   "execution_count": 1,
   "id": "7277a8ba",
   "metadata": {},
   "outputs": [],
   "source": [
    "# from collections import defaultdict\n",
    "# import numpy as np"
   ]
  },
  {
   "cell_type": "markdown",
   "id": "95166626",
   "metadata": {},
   "source": [
    "generate network from out up, calculate down"
   ]
  },
  {
   "cell_type": "code",
   "execution_count": 2,
   "id": "4f46a9a8",
   "metadata": {},
   "outputs": [],
   "source": [
    "\n",
    "# n_mid = 0\n",
    "# n_out = 2\n",
    "# edges = [['2in','2out'],\n",
    "#   ['0in','0out'],\n",
    "#   ['2in','0mid'],\n",
    "#   ['0mid','2out'],\n",
    "#   ['0mid','0mid'],\n",
    "#   ['0mid','0out']]\n",
    "\n",
    "\n",
    "# n_mid = 0\n",
    "# n_out = 1\n",
    "# edges = [['2in','0out'],\n",
    "#       ['0in','0mid'],\n",
    "#       ['0mid','0mid'],\n",
    "#       ['0in','1out'],\n",
    "#       ['2in','1out']]\n",
    "\n",
    "n_mid = 1\n",
    "n_out = 2\n",
    "edges = [['1mid','0mid'],\n",
    "      ['0mid','2out'],\n",
    "      ['1in','1out'],\n",
    "      ['0in','0mid'],\n",
    "      ['0in','2out'],\n",
    "      ['0in','0out'],\n",
    "      ['0mid','0mid'],\n",
    "      ['2in','0mid'],\n",
    "      ['0mid','1out'],\n",
    "      ['0in','1out']]"
   ]
  },
  {
   "cell_type": "markdown",
   "id": "824befc0",
   "metadata": {},
   "source": [
    "new algoritm for neuron creation"
   ]
  },
  {
   "cell_type": "code",
   "execution_count": 3,
   "id": "a2db01a6",
   "metadata": {},
   "outputs": [
    {
     "data": {
      "text/plain": [
       "[['1mid', '0mid'],\n",
       " ['0in', '0mid'],\n",
       " ['0mid', '0mid'],\n",
       " ['2in', '0mid'],\n",
       " ['0in', '0out'],\n",
       " ['1in', '1out'],\n",
       " ['0mid', '1out'],\n",
       " ['0in', '1out'],\n",
       " ['0mid', '2out'],\n",
       " ['0in', '2out']]"
      ]
     },
     "execution_count": 3,
     "metadata": {},
     "output_type": "execute_result"
    }
   ],
   "source": [
    "out = {f'{n}out':{} for n in range(n_out+1)}\n",
    "edges = sorted(edges, key = lambda x: x[1])\n",
    "edges"
   ]
  },
  {
   "cell_type": "code",
   "execution_count": 4,
   "id": "d24b73a4",
   "metadata": {},
   "outputs": [
    {
     "data": {
      "text/plain": [
       "{'0out': {}, '1out': {}, '2out': {}}"
      ]
     },
     "execution_count": 4,
     "metadata": {},
     "output_type": "execute_result"
    }
   ],
   "source": [
    "out"
   ]
  },
  {
   "cell_type": "code",
   "execution_count": 5,
   "id": "f9b76e7b",
   "metadata": {},
   "outputs": [],
   "source": [
    "\n",
    "def mid_neuron(out, edges):\n",
    "    for key in out:\n",
    "        for item in edges:\n",
    "            if key == item[1] and 'mid' in item[0]:\n",
    "                out[key].update({item[0]:{}})\n",
    "                edges.remove(item)\n",
    "                mid_neuron(out[key], edges)\n",
    "            elif key == item[1] and 'mid' not in item[0]:\n",
    "                out[key].update({item[0]:{}})\n",
    "\n",
    "mid_neuron(out, edges)"
   ]
  },
  {
   "cell_type": "code",
   "execution_count": 6,
   "id": "6d7ec315",
   "metadata": {},
   "outputs": [
    {
     "data": {
      "text/plain": [
       "{'0out': {'0in': {}},\n",
       " '1out': {'1in': {}, '0mid': {'1mid': {}, '0mid': {'0in': {}, '2in': {}}}},\n",
       " '2out': {'0mid': {'0in': {}, '2in': {}}}}"
      ]
     },
     "execution_count": 6,
     "metadata": {},
     "output_type": "execute_result"
    }
   ],
   "source": [
    "out"
   ]
  },
  {
   "cell_type": "code",
   "execution_count": null,
   "id": "4c7e0e19",
   "metadata": {},
   "outputs": [],
   "source": []
  }
 ],
 "metadata": {
  "kernelspec": {
   "display_name": "Python 3 (ipykernel)",
   "language": "python",
   "name": "python3"
  },
  "language_info": {
   "codemirror_mode": {
    "name": "ipython",
    "version": 3
   },
   "file_extension": ".py",
   "mimetype": "text/x-python",
   "name": "python",
   "nbconvert_exporter": "python",
   "pygments_lexer": "ipython3",
   "version": "3.9.7"
  }
 },
 "nbformat": 4,
 "nbformat_minor": 5
}
