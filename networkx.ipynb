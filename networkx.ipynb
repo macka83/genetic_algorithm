{
 "cells": [
  {
   "cell_type": "markdown",
   "id": "e28d1996",
   "metadata": {},
   "source": [
    "https://stackoverflow.com/questions/63528705/how-to-modify-edge-labels-in-digraph-of-networkx"
   ]
  },
  {
   "cell_type": "code",
   "execution_count": 1,
   "id": "142b8431",
   "metadata": {
    "ExecuteTime": {
     "end_time": "2022-05-23T19:53:43.324935Z",
     "start_time": "2022-05-23T19:53:42.349392Z"
    }
   },
   "outputs": [],
   "source": [
    "import numpy as np\n",
    "from collections import Counter\n",
    "import copy"
   ]
  },
  {
   "cell_type": "code",
   "execution_count": 9,
   "id": "cca7832e",
   "metadata": {},
   "outputs": [],
   "source": [
    "edges = {'in_0out_1': ['in_0', 'out_1', -3.6377842209674958],\n",
    "'mid_2mid_0': ['mid_2', 'mid_0', 0.6165115214405615],\n",
    "'in_1mid_1': ['in_1', 'mid_1', 3.6368075690523423],\n",
    "'in_0mid_1': ['in_0', 'mid_1', -2.76795360903403],\n",
    "'mid_0out_0': ['mid_0', 'out_0', -0.7665496719059972],\n",
    "'mid_0out_1': ['mid_0', 'out_1', 2.0047001373416755],\n",
    "'in_2mid_2': ['in_2', 'mid_2', -1.34533801312376],\n",
    "'in_1mid_2': ['in_1', 'mid_2', -1.34533801312376],         \n",
    "'in_mid_1_0': ['in_1', 'mid_0', 2.136059819929803],\n",
    "'mid_0mid_0': ['mid_0', 'mid_0', -1.8265832443155807],\n",
    "'mid_out_1_0': ['mid_1', 'out_0', 2.9330077826949488],\n",
    "'in_0out_0': ['in_0', 'out_0', 2.913596825881276],\n",
    "'in_1out_2': ['in_1', 'out_2', 3.5933465588280176]}\n",
    "\n",
    "edges = [tuple(edges[i]) for i in edges]"
   ]
  },
  {
   "cell_type": "code",
   "execution_count": 10,
   "id": "2e9fdf44",
   "metadata": {
    "ExecuteTime": {
     "end_time": "2022-05-23T19:53:43.372565Z",
     "start_time": "2022-05-23T19:53:43.360546Z"
    }
   },
   "outputs": [],
   "source": [
    "d = {}\n",
    "for item in edges:\n",
    "    if item[1] in d:\n",
    "        d[item[1]].update({item[0]:item[2]})\n",
    "    else:\n",
    "        d[item[1]] = {item[0]:item[2]}"
   ]
  },
  {
   "cell_type": "code",
   "execution_count": 11,
   "id": "6f200e0c",
   "metadata": {
    "ExecuteTime": {
     "end_time": "2022-05-23T19:53:43.388402Z",
     "start_time": "2022-05-23T19:53:43.374223Z"
    }
   },
   "outputs": [],
   "source": [
    "dic = {}\n",
    "for i in sorted(d):\n",
    "    dic[i] = d[i] "
   ]
  },
  {
   "cell_type": "code",
   "execution_count": 12,
   "id": "5f17b06c",
   "metadata": {},
   "outputs": [
    {
     "data": {
      "text/plain": [
       "{'mid_0': {'mid_2': 0.6165115214405615,\n",
       "  'in_1': 2.136059819929803,\n",
       "  'mid_0': -1.8265832443155807},\n",
       " 'mid_1': {'in_1': 3.6368075690523423, 'in_0': -2.76795360903403},\n",
       " 'mid_2': {'in_2': -1.34533801312376, 'in_1': -1.34533801312376},\n",
       " 'out_0': {'mid_0': -0.7665496719059972,\n",
       "  'mid_1': 2.9330077826949488,\n",
       "  'in_0': 2.913596825881276},\n",
       " 'out_1': {'in_0': -3.6377842209674958, 'mid_0': 2.0047001373416755},\n",
       " 'out_2': {'in_1': 3.5933465588280176}}"
      ]
     },
     "execution_count": 12,
     "metadata": {},
     "output_type": "execute_result"
    }
   ],
   "source": [
    "dic"
   ]
  },
  {
   "cell_type": "markdown",
   "id": "ba18b4bc",
   "metadata": {},
   "source": [
    "calculate weight sum"
   ]
  },
  {
   "cell_type": "code",
   "execution_count": 13,
   "id": "b1851d74",
   "metadata": {},
   "outputs": [],
   "source": [
    "def mid_to_weight(dic):\n",
    "    \n",
    "    for key in dic:\n",
    "        if 'mid' in key and isinstance(dic[key], dict):\n",
    "            if set(i[:2] for i in dic[key]) == set(['in']):\n",
    "                dic[key] = np.tanh(sum(dic[key].values()))\n",
    "                mid_to_weight(dic)\n",
    "                \n",
    "            elif key in dic[key].keys() and Counter(i[:2] for i in dic[key])['mi'] == 1:\n",
    "                dic[key] = np.tanh(sum(dic[key].values()))\n",
    "                mid_to_weight(dic)\n",
    "                \n",
    "mid_to_weight(dic) "
   ]
  },
  {
   "cell_type": "code",
   "execution_count": 14,
   "id": "7334cca7",
   "metadata": {
    "ExecuteTime": {
     "end_time": "2022-05-23T19:57:41.488591Z",
     "start_time": "2022-05-23T19:57:41.471795Z"
    },
    "scrolled": true
   },
   "outputs": [],
   "source": [
    "def out_to_weight(dic):\n",
    "    for key in dic:\n",
    "#         print('key', key)\n",
    "        if 'mid' in key and isinstance(dic[key], dict):\n",
    "            for sub_key in dic[key]:\n",
    "                if 'mid' in sub_key and sub_key != key:\n",
    "                    dic[key][sub_key] += dic[sub_key]\n",
    "\n",
    "            dic[key] = np.tanh(sum(dic[key].values()))\n",
    "            out_to_weight(dic)\n",
    "                \n",
    "        elif 'out' in key and isinstance(dic[key], dict):\n",
    "            for sub_key in dic[key]:\n",
    "                if 'mid' in sub_key:\n",
    "                    dic[key][sub_key] += dic[sub_key]\n",
    "            dic[key] = np.tanh(sum(dic[key].values()))\n",
    "            out_to_weight(dic)\n",
    "            \n",
    "out_to_weight(dic)            "
   ]
  },
  {
   "cell_type": "code",
   "execution_count": 15,
   "id": "14df26cd",
   "metadata": {},
   "outputs": [
    {
     "data": {
      "text/plain": [
       "{'mid_0': -0.06476010575008019,\n",
       " 'mid_1': 0.7007913892899983,\n",
       " 'mid_2': -0.990838963146438,\n",
       " 'out_0': 0.9999783181727204,\n",
       " 'out_1': -0.9351390288575294,\n",
       " 'out_2': 0.9984879701176493}"
      ]
     },
     "execution_count": 15,
     "metadata": {},
     "output_type": "execute_result"
    }
   ],
   "source": [
    "dic"
   ]
  },
  {
   "cell_type": "code",
   "execution_count": null,
   "id": "d405a787",
   "metadata": {},
   "outputs": [],
   "source": []
  }
 ],
 "metadata": {
  "kernelspec": {
   "display_name": "Python 3 (ipykernel)",
   "language": "python",
   "name": "python3"
  },
  "language_info": {
   "codemirror_mode": {
    "name": "ipython",
    "version": 3
   },
   "file_extension": ".py",
   "mimetype": "text/x-python",
   "name": "python",
   "nbconvert_exporter": "python",
   "pygments_lexer": "ipython3",
   "version": "3.9.12"
  }
 },
 "nbformat": 4,
 "nbformat_minor": 5
}
