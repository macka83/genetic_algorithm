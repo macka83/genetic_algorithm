{
 "cells": [
  {
   "cell_type": "code",
   "execution_count": null,
   "id": "64e1e30b",
   "metadata": {
    "ExecuteTime": {
     "end_time": "2022-05-26T17:41:03.500911Z",
     "start_time": "2022-05-26T17:41:00.872828Z"
    }
   },
   "outputs": [],
   "source": [
    "from genetic_algorithm import *\n",
    "import re\n",
    "import json\n",
    "import numpy as np\n",
    "from collections import Counter\n",
    "import copy"
   ]
  },
  {
   "cell_type": "markdown",
   "id": "a4aa7361",
   "metadata": {},
   "source": [
    "## hexadecimal generator"
   ]
  },
  {
   "cell_type": "code",
   "execution_count": null,
   "id": "e85a93ac",
   "metadata": {
    "ExecuteTime": {
     "end_time": "2022-05-25T20:18:00.266385Z",
     "start_time": "2022-05-25T20:18:00.252349Z"
    }
   },
   "outputs": [],
   "source": [
    "nr_of_input = 3\n",
    "nr_of_actions = 3\n",
    "nr_of_inner = 2\n",
    "nr_of_genes = 16\n",
    "nr_individuals = 20\n",
    "\n",
    "individuals = generate_initial_genomes_for_population(nr_individuals, nr_of_genes, nr_of_input, nr_of_actions, nr_of_inner)"
   ]
  },
  {
   "cell_type": "code",
<<<<<<< HEAD
   "execution_count": null,
=======
   "execution_count": 12,
>>>>>>> 9f334cc8dae4c331317393b75d89e2c7a27b58f6
   "id": "2aff38fc",
   "metadata": {
    "ExecuteTime": {
     "end_time": "2022-05-25T20:18:00.314295Z",
     "start_time": "2022-05-25T20:18:00.267926Z"
    },
    "scrolled": true
   },
<<<<<<< HEAD
   "outputs": [],
=======
   "outputs": [
    {
     "name": "stdout",
     "output_type": "stream",
     "text": [
      "{\n",
      "    \"out0\": -0.9884078125303537,\n",
      "    \"out1\": -0.024533525331122213,\n",
      "    \"out2\": 0.9999958776168677\n",
      "}\n",
      "\n",
      "{\n",
      "    \"out0\": 0.990212978082521,\n",
      "    \"out1\": 0.18688186258306475,\n",
      "    \"out2\": -0.7154683334692711\n",
      "}\n",
      "\n",
      "{\n",
      "    \"out0\": 0.9707445912193801,\n",
      "    \"out1\": -0.9062512248140372,\n",
      "    \"out2\": 0.9999465053683078\n",
      "}\n",
      "\n",
      "{\n",
      "    \"out0\": -0.9995595383453032,\n",
      "    \"out1\": -0.7256442035892058,\n",
      "    \"out2\": -0.9991728549445408\n",
      "}\n",
      "\n",
      "{\n",
      "    \"out0\": -0.7166295074933271,\n",
      "    \"out1\": 0.9922863514483884,\n",
      "    \"out2\": 0.9911279204224654\n",
      "}\n",
      "\n",
      "{\n",
      "    \"out1\": -0.7060798213246395,\n",
      "    \"out2\": 0.9976642696956707\n",
      "}\n",
      "\n",
      "{\n",
      "    \"out0\": -0.9985415944465937,\n",
      "    \"out1\": 0.9974827632002929,\n",
      "    \"out2\": -0.37388850638715293\n",
      "}\n",
      "\n",
      "{\n",
      "    \"out0\": -0.9732186436726274,\n",
      "    \"out1\": 0.99998466736118,\n",
      "    \"out2\": -0.9997679230866032\n",
      "}\n",
      "\n",
      "{\n",
      "    \"out0\": -0.994024807806663,\n",
      "    \"out1\": 0.9793372597238998,\n",
      "    \"out2\": -0.9999839494749168\n",
      "}\n",
      "\n",
      "{\n",
      "    \"out0\": -0.7814352787011383,\n",
      "    \"out2\": -0.9999480668342098\n",
      "}\n",
      "\n",
      "{\n",
      "    \"out0\": 0.9954545371171831,\n",
      "    \"out1\": -0.9609759136121143\n",
      "}\n",
      "\n",
      "{\n",
      "    \"out0\": 0.9380511396490635,\n",
      "    \"out1\": -0.9999420021146238,\n",
      "    \"out2\": -0.9414215460151049\n",
      "}\n",
      "\n",
      "{\n",
      "    \"out0\": -0.8252101185091307,\n",
      "    \"out1\": -0.9610562703268689,\n",
      "    \"out2\": -0.6111712413788489\n",
      "}\n",
      "\n",
      "{\n",
      "    \"out0\": 0.9803516018114022,\n",
      "    \"out1\": 0.8173621846266598\n",
      "}\n",
      "\n",
      "{\n",
      "    \"out0\": 0.9806052617390352,\n",
      "    \"out1\": -0.9784207496108782\n",
      "}\n",
      "\n",
      "{\n",
      "    \"out1\": -0.6817533838206209,\n",
      "    \"out2\": 0.9695675412542732\n",
      "}\n",
      "\n",
      "{\n",
      "    \"out0\": 0.9965410449365603,\n",
      "    \"out1\": 0.995694853148519,\n",
      "    \"out2\": -0.996120846389062\n",
      "}\n",
      "\n",
      "{\n",
      "    \"out0\": -0.982196663767931,\n",
      "    \"out1\": 0.9998703119589748\n",
      "}\n",
      "\n",
      "{\n",
      "    \"out0\": 0.9992754161315802,\n",
      "    \"out1\": -0.8940314590127808\n",
      "}\n",
      "\n",
      "{\n",
      "    \"out0\": -0.9347228893666815,\n",
      "    \"out1\": -0.9950663538944671,\n",
      "    \"out2\": 0.15424296632259943\n",
      "}\n",
      "\n"
     ]
    }
   ],
>>>>>>> 9f334cc8dae4c331317393b75d89e2c7a27b58f6
   "source": [
    "## sum duplicates\n",
    "individuals_sum_dup = sum_duplicated_neurons(individuals)\n",
    "\n",
    "## remove self loops\n",
    "individuals_sum_dup_no_self_loop = remove_self_loop(individuals_sum_dup)\n",
    "\n",
    "## brain generator\n",
    "for individual in individuals_sum_dup_no_self_loop:\n",
    "#     try:\n",
    "    edges = individuals_sum_dup_no_self_loop[individual]\n",
    "    edges = [tuple(edges[i]) for i in edges]\n",
    "\n",
    "    ## preprocessing\n",
    "    remove_mid_with_no_predecessor(edges) \n",
    "    dic = weight_sum_preprocessing(edges)\n",
    "\n",
    "    ## calculate weight sum\n",
<<<<<<< HEAD
    "#     except:\n",
    "#         print(individual)\n",
    "#         print(edges)\n",
    "        \n",
    "#         continue\n",
    "    try:\n",
    "        mid_to_weight(dic)\n",
    "    except:\n",
    "        print('mid_to_weight', individual)\n",
    "        print(edges)\n",
    "        print()\n",
    "        continue   \n",
    "    try:    \n",
    "        out_to_weight(dic)\n",
    "    except:\n",
    "        print('out_to_weight', individual)\n",
    "        print(edges)\n",
    "        print()    "
   ]
  },
  {
   "cell_type": "code",
   "execution_count": null,
   "id": "cf323226",
   "metadata": {
    "ExecuteTime": {
     "end_time": "2022-05-25T20:19:19.818810Z",
     "start_time": "2022-05-25T20:19:19.801269Z"
    }
   },
   "outputs": [],
   "source": [
    "individuals_sum_dup_no_self_loop[2]"
   ]
  },
  {
   "cell_type": "code",
   "execution_count": null,
   "id": "c5dcfa88",
   "metadata": {},
   "outputs": [],
   "source": [
    "edges = individuals_sum_dup_no_self_loop[2]\n",
    "edges = [tuple(edges[i]) for i in edges]\n",
    "edges"
   ]
  },
  {
   "cell_type": "code",
   "execution_count": null,
   "id": "8296f309",
   "metadata": {
    "ExecuteTime": {
     "end_time": "2022-05-26T17:41:06.275625Z",
     "start_time": "2022-05-26T17:41:06.261640Z"
    }
   },
   "outputs": [],
   "source": [
    "edges = [('mid0', 'mid1', 2.602655272394323),\n",
    " ('mid0', 'out2', -1.8113230581413093),\n",
    " ('mid1', 'out0', 1.7328246604608577),\n",
    " ('in1', 'mid1', 3.0427590416603083),\n",
    " ('mid0', 'out0', -1.9767434762704106),\n",
    " ('mid1', 'mid1', -2.559560506638181),\n",
    " ('in2', 'out1', 2.1034640622615597),\n",
    " ('in0', 'out2', 1.4107736914390356),\n",
    " ('in2', 'mid1', -1.4333587669769572)]"
   ]
  },
  {
   "cell_type": "code",
   "execution_count": 4,
   "id": "f91e0e49",
   "metadata": {
    "ExecuteTime": {
     "end_time": "2022-05-26T17:56:53.693493Z",
     "start_time": "2022-05-26T17:56:53.671691Z"
    }
   },
   "outputs": [
    {
     "name": "stdout",
     "output_type": "stream",
     "text": [
      "('mid1', 'out0', 1.7328246604608577)\n",
      "('mid1', 'out0', 1.7328246604608577)\n",
      "('mid1', 'out0', 1.7328246604608577)\n",
      "('mid1', 'out0', 1.7328246604608577)\n"
     ]
    }
   ],
   "source": [
    "for i_nr, i in enumerate(edges):\n",
    "    for j_nr, j in enumerate(edges):\n",
    "        if i[0] != i[1] and i[0] == j[1]:\n",
    "            print(i)\n",
    "            "
   ]
  },
  {
   "cell_type": "code",
   "execution_count": null,
   "id": "44de995f",
   "metadata": {
    "ExecuteTime": {
     "end_time": "2022-05-25T20:18:46.569646Z",
     "start_time": "2022-05-25T20:18:46.551845Z"
    }
   },
   "outputs": [],
   "source": [
    "dic = weight_sum_preprocessing(edges)\n",
    "dic"
   ]
  },
  {
   "cell_type": "code",
   "execution_count": null,
   "id": "0f470420",
   "metadata": {
    "ExecuteTime": {
     "end_time": "2022-05-25T20:23:34.656989Z",
     "start_time": "2022-05-25T20:23:34.640105Z"
    }
   },
   "outputs": [],
   "source": [
    "def mid_to_weight(dic):\n",
    "    '''weight for clear input ie. no nested weights: 0mid:{0in, 1in} or 0mid:{0mid, 0in}'''\n",
    "    for key in dic:\n",
    "        \n",
    "        if 'mid' in key and isinstance(dic[key], dict):\n",
    "#             print(key)\n",
    "            if set(i[:2] for i in dic[key]) == set(['in']):\n",
    "                \n",
    "                dic[key] = np.tanh(sum(dic[key].values()))\n",
    "                mid_to_weight(dic)\n",
    "                \n",
    "            elif key in dic[key].keys() and Counter(i[:2] for i in dic[key])['mi'] == 1:\n",
    "                \n",
    "#                 print(dic[key])\n",
    "                dic[key] = np.tanh(sum(dic[key].values()))\n",
    "                mid_to_weight(dic)\n",
    "mid_to_weight(dic)\n",
    "dic"
   ]
  },
  {
   "cell_type": "code",
   "execution_count": null,
   "id": "00930ed8",
   "metadata": {
    "ExecuteTime": {
     "end_time": "2022-05-25T20:18:00.771818Z",
     "start_time": "2022-05-25T20:18:00.364222Z"
    }
   },
   "outputs": [],
   "source": [
    "def out_to_weight(dic):\n",
    "    '''weight for nested input ie.  0mid:{1mid} or out:{0mid, 0in}\n",
    "    use 'mid' neuron only if feeded with 'in' neurons'''\n",
    "    for key in dic:\n",
    "        if 'mid' in key and isinstance(dic[key], dict):\n",
    "            for sub_key in dic[key]:\n",
    "                if dic[sub_key] and 'mid' in sub_key and isinstance(dic[sub_key], float):\n",
    "#                     print(sub_key, dic[sub_key])\n",
    "                    dic[key][sub_key] += dic[sub_key]\n",
    "\n",
    "            dic[key] = np.tanh(sum(dic[key].values()))\n",
    "            out_to_weight(dic)\n",
    "                \n",
    "        elif 'out' in key and isinstance(dic[key], dict):\n",
    "            for sub_key in dic[key]:\n",
    "                if 'mid' in sub_key and sub_key in dic:\n",
    "                    dic[key][sub_key] += dic[sub_key]\n",
    "            dic[key] = np.tanh(sum(dic[key].values()))\n",
    "            out_to_weight(dic)\n",
    "            \n",
    "out_to_weight(dic)\n",
    "dic"
   ]
  },
  {
   "cell_type": "code",
   "execution_count": null,
   "id": "0c327ef6",
   "metadata": {},
   "outputs": [],
   "source": [
    "dic[sub_key]"
   ]
  },
  {
   "cell_type": "code",
   "execution_count": null,
   "id": "6ddc8a5e",
   "metadata": {
    "ExecuteTime": {
     "end_time": "2022-05-25T20:18:00.773785Z",
     "start_time": "2022-05-25T20:18:00.773785Z"
    }
   },
   "outputs": [],
   "source": [
    "mid_to_weight(dic)\n",
    "dic"
   ]
  },
  {
   "cell_type": "code",
   "execution_count": null,
   "id": "a0d7d912",
   "metadata": {
    "ExecuteTime": {
     "end_time": "2022-05-25T20:18:00.775786Z",
     "start_time": "2022-05-25T20:18:00.775786Z"
    }
   },
   "outputs": [],
   "source": [
    "dic"
   ]
  },
  {
   "cell_type": "code",
   "execution_count": null,
   "id": "a21f5a28",
   "metadata": {},
   "outputs": [],
   "source": []
  },
  {
   "cell_type": "code",
   "execution_count": null,
   "id": "b9b6a4c1",
   "metadata": {},
   "outputs": [],
   "source": []
  },
  {
   "cell_type": "code",
   "execution_count": null,
   "id": "55b0fa52",
   "metadata": {
    "ExecuteTime": {
     "end_time": "2022-05-25T20:18:45.042556Z",
     "start_time": "2022-05-25T20:18:45.029004Z"
    }
   },
   "outputs": [],
   "source": [
    "edges = [('in1', 'out0', 1.4279871814436136), ('in0', 'out0', -3.0119945063329774), ('mid1', 'out0', -1.1555012971158247), ('in1', 'mid1', -1.2089729894704715), ('mid1', 'out2', -2.6342743781474134), ('mid0', 'out0', -3.9923088661681674)]"
=======
    "    mid_to_weight(dic)\n",
    "    out_to_weight(dic)\n",
    "       \n",
    "    dic = {k:v for k, v in dic.items() if 'out' in k}    \n",
    "    print(json.dumps(dic, indent=4, sort_keys=True))\n",
    "    print()"
>>>>>>> 9f334cc8dae4c331317393b75d89e2c7a27b58f6
   ]
  }
 ],
 "metadata": {
  "kernelspec": {
   "display_name": "Python 3 (ipykernel)",
   "language": "python",
   "name": "python3"
  },
  "language_info": {
   "codemirror_mode": {
    "name": "ipython",
    "version": 3
   },
   "file_extension": ".py",
   "mimetype": "text/x-python",
   "name": "python",
   "nbconvert_exporter": "python",
   "pygments_lexer": "ipython3",
   "version": "3.9.12"
  }
 },
 "nbformat": 4,
 "nbformat_minor": 5
}
