{
 "cells": [
  {
   "cell_type": "code",
   "execution_count": 1,
   "id": "64e1e30b",
   "metadata": {
    "ExecuteTime": {
     "end_time": "2022-05-29T13:05:39.957027Z",
     "start_time": "2022-05-29T13:05:39.931004Z"
    }
   },
   "outputs": [
    {
     "ename": "IndentationError",
     "evalue": "expected an indented block (genetic_algorithm.py, line 89)",
     "output_type": "error",
     "traceback": [
      "Traceback \u001b[1;36m(most recent call last)\u001b[0m:\n",
      "  File \u001b[0;32m~\\Anaconda3\\lib\\site-packages\\IPython\\core\\interactiveshell.py:3397\u001b[0m in \u001b[0;35mrun_code\u001b[0m\n    exec(code_obj, self.user_global_ns, self.user_ns)\n",
      "\u001b[1;36m  Input \u001b[1;32mIn [1]\u001b[1;36m in \u001b[1;35m<cell line: 1>\u001b[1;36m\u001b[0m\n\u001b[1;33m    from genetic_algorithm import *\u001b[0m\n",
      "\u001b[1;36m  File \u001b[1;32m~\\Documents\\genetic_algorithm\\genetic_algorithm.py:89\u001b[1;36m\u001b[0m\n\u001b[1;33m    def split_genome(hexval):\u001b[0m\n\u001b[1;37m                             ^\u001b[0m\n\u001b[1;31mIndentationError\u001b[0m\u001b[1;31m:\u001b[0m expected an indented block\n"
     ]
    }
   ],
   "source": [
    "from genetic_algorithm import *\n",
    "import re\n",
    "import json\n",
    "import numpy as np\n",
    "from numpy.random import default_rng\n",
    "from collections import Counter\n",
    "import copy\n",
    "import matplotlib.pyplot as plt"
   ]
  },
  {
   "cell_type": "markdown",
   "id": "a4aa7361",
   "metadata": {},
   "source": [
    "## hexadecimal generator"
   ]
  },
  {
   "cell_type": "code",
   "execution_count": 2,
   "id": "e85a93ac",
   "metadata": {
    "ExecuteTime": {
     "end_time": "2022-05-27T20:01:01.782792Z",
     "start_time": "2022-05-27T20:01:01.735730Z"
    }
   },
   "outputs": [],
   "source": [
    "nr_of_input = 3\n",
    "nr_of_actions = 3\n",
    "nr_of_inner = 2\n",
    "nr_of_genes = 16\n",
    "nr_individuals = 4\n",
    "\n",
    "individuals = generate_initial_genomes_for_population(nr_individuals, nr_of_genes, nr_of_input, nr_of_actions, nr_of_inner)"
   ]
  },
  {
   "cell_type": "code",
   "execution_count": 3,
   "id": "153d2d10",
   "metadata": {
    "ExecuteTime": {
     "end_time": "2022-05-27T20:01:01.798304Z",
     "start_time": "2022-05-27T20:01:01.784347Z"
    }
   },
   "outputs": [],
   "source": [
    "## world size\n",
    "world_size_x = 128\n",
    "world_size_y = 128\n",
    "\n",
    "rng = default_rng()\n",
    "x = rng.choice(world_size_x, size=nr_individuals, replace=False)\n",
    "y = rng.choice(world_size_y, size=nr_individuals, replace=False)\n"
   ]
  },
  {
   "cell_type": "markdown",
   "id": "97385a42",
   "metadata": {},
   "source": [
    "## initial brain and position generator"
   ]
  },
  {
   "cell_type": "code",
   "execution_count": 4,
   "id": "2aff38fc",
   "metadata": {
    "ExecuteTime": {
     "end_time": "2022-05-27T20:01:01.813305Z",
     "start_time": "2022-05-27T20:01:01.799301Z"
    },
    "scrolled": true
   },
   "outputs": [],
   "source": [
    "initial_dic_of_output_neurons = {}\n",
    "\n",
    "## sum duplicates\n",
    "individuals_sum_dup = sum_duplicated_neurons(individuals)\n",
    "\n",
    "## remove self loops\n",
    "individuals_sum_dup_no_self_loop = remove_self_loop(individuals_sum_dup)\n",
    "\n",
    "## brain generator\n",
    "for individual in individuals_sum_dup_no_self_loop:\n",
    "    \n",
    "    ## init brain neuron generator\n",
    "    \n",
    "    ## preprocessing\n",
    "    edges = individuals_sum_dup_no_self_loop[individual]\n",
    "    edges = [tuple(edges[i]) for i in edges]\n",
    "\n",
    "    remove_mid_with_no_predecessor(edges) \n",
    "    dic = weight_sum_preprocessing(edges)\n",
    "\n",
    "    ## calculate weight sum\n",
    "    mid_to_weight(dic)\n",
    "    out_to_weight(dic)\n",
    "       \n",
    "    dic = {k:v for k, v in dic.items() if 'out' in k}    \n",
    "    \n",
    "    initial_dic_of_output_neurons[individual] = {}\n",
    "    initial_dic_of_output_neurons[individual]['output'] = dic\n",
    "    \n",
    "    ## position\n",
    "#     initial_dic_of_output_neurons[individual]['position'] = {}\n",
    "#     initial_dic_of_output_neurons[individual]['position']['x'] = x[individual]\n",
    "#     initial_dic_of_output_neurons[individual]['position']['y'] = y[individual] \n",
    "    \n",
    "    ## position history\n",
    "    initial_dic_of_output_neurons[individual]['history_position'] = [(x[individual], y[individual])]"
   ]
  },
  {
   "cell_type": "code",
   "execution_count": 5,
   "id": "37a4e64d",
   "metadata": {
    "ExecuteTime": {
     "end_time": "2022-05-27T20:01:01.829301Z",
     "start_time": "2022-05-27T20:01:01.814301Z"
    }
   },
   "outputs": [
    {
     "data": {
      "text/plain": [
       "{0: {'output': {'out0': -0.3773868456335161,\n",
       "   'out1': -0.9937793533910032,\n",
       "   'out2': 0.6629433488186646},\n",
       "  'history_position': [(56, 86)]},\n",
       " 1: {'output': {'out0': -0.6491238145100007,\n",
       "   'out1': -0.9938525052518815,\n",
       "   'out2': 0.996742499582871},\n",
       "  'history_position': [(108, 57)]},\n",
       " 2: {'output': {'out0': -0.5770437074250989,\n",
       "   'out1': 0.9996225397838105,\n",
       "   'out2': -0.8923346831380427},\n",
       "  'history_position': [(116, 98)]},\n",
       " 3: {'output': {'out0': 0.7206053313883478,\n",
       "   'out1': 0.3851296468432839,\n",
       "   'out2': -0.9983551724925369},\n",
       "  'history_position': [(45, 58)]},\n",
       " 4: {'output': {'out0': 0.9611346334877263, 'out2': 0.9926729215935661},\n",
       "  'history_position': [(18, 107)]},\n",
       " 5: {'output': {'out0': -0.8415034007186649,\n",
       "   'out1': -0.9945782401205644,\n",
       "   'out2': 0.9984068410980266},\n",
       "  'history_position': [(127, 123)]},\n",
       " 6: {'output': {'out0': 0.9971004923295347,\n",
       "   'out1': 0.9878636573119111,\n",
       "   'out2': -0.9987185068899346},\n",
       "  'history_position': [(34, 84)]},\n",
       " 7: {'output': {'out0': 0.9999973134051139,\n",
       "   'out1': 0.9225458813539921,\n",
       "   'out2': -0.8206961164787452},\n",
       "  'history_position': [(6, 118)]},\n",
       " 8: {'output': {'out1': 0.7576071934917666, 'out2': 0.9418234365498362},\n",
       "  'history_position': [(13, 5)]},\n",
       " 9: {'output': {'out0': 0.998416229955183,\n",
       "   'out1': 0.5384029097864849,\n",
       "   'out2': -0.9994375125989279},\n",
       "  'history_position': [(10, 74)]},\n",
       " 10: {'output': {'out0': -0.9894833179377968,\n",
       "   'out1': -0.9913202138781968,\n",
       "   'out2': 0.99943138743387},\n",
       "  'history_position': [(113, 10)]},\n",
       " 11: {'output': {'out0': -0.995631246137306,\n",
       "   'out1': 0.7036021016307912,\n",
       "   'out2': -0.7088390441574732},\n",
       "  'history_position': [(53, 110)]},\n",
       " 12: {'output': {'out0': -0.9999275399283446,\n",
       "   'out1': 0.9998424126436882,\n",
       "   'out2': 0.9753078212489108},\n",
       "  'history_position': [(8, 29)]},\n",
       " 13: {'output': {'out0': -0.995356522379674,\n",
       "   'out1': -0.9848301869176244,\n",
       "   'out2': 0.49956522716404345},\n",
       "  'history_position': [(25, 112)]},\n",
       " 14: {'output': {'out2': -0.235045985994217}, 'history_position': [(36, 67)]},\n",
       " 15: {'output': {'out0': 0.9999998664314091,\n",
       "   'out1': -0.7758114688499226,\n",
       "   'out2': 0.0241781866629419},\n",
       "  'history_position': [(71, 9)]},\n",
       " 16: {'output': {'out0': -0.999944153766699,\n",
       "   'out1': -0.9678598174327679,\n",
       "   'out2': -0.999469631044159},\n",
       "  'history_position': [(1, 60)]},\n",
       " 17: {'output': {'out0': 0.5815616565026368,\n",
       "   'out1': 0.9999658535741917,\n",
       "   'out2': -0.9999903592421301},\n",
       "  'history_position': [(123, 59)]},\n",
       " 18: {'output': {'out0': -0.9947314680305396,\n",
       "   'out1': -0.9504639637838547,\n",
       "   'out2': -0.3097897966052658},\n",
       "  'history_position': [(66, 23)]},\n",
       " 19: {'output': {'out0': -0.9780524524137499, 'out2': 0.9996196465732791},\n",
       "  'history_position': [(43, 40)]}}"
      ]
     },
     "execution_count": 5,
     "metadata": {},
     "output_type": "execute_result"
    }
   ],
   "source": [
    "initial_dic_of_output_neurons"
   ]
  },
  {
   "cell_type": "code",
   "execution_count": 25,
   "id": "675d302d",
   "metadata": {
    "ExecuteTime": {
     "end_time": "2022-05-27T20:23:03.597160Z",
     "start_time": "2022-05-27T20:23:03.581159Z"
    }
   },
   "outputs": [],
   "source": [
    "a = [(3, 0),(4,1),(5,2)]"
   ]
  },
  {
   "cell_type": "code",
   "execution_count": 9,
   "id": "fb0ff57e",
   "metadata": {
    "ExecuteTime": {
     "end_time": "2022-05-27T20:15:26.036428Z",
     "start_time": "2022-05-27T20:15:26.011830Z"
    }
   },
   "outputs": [
    {
     "name": "stdout",
     "output_type": "stream",
     "text": [
      "(-1.0, 3.0)\n"
     ]
    }
   ],
   "source": [
    "def slope_intercept(x1,y1,x2,y2):\n",
    "    a = (y2 - y1) / (x2 - x1)\n",
    "    b = y1 - a * x1     \n",
    "    return a,b\n",
    "\n",
    "print(slope_intercept(3,0,2,1))"
   ]
  },
  {
   "cell_type": "code",
   "execution_count": 21,
   "id": "8ca05899",
   "metadata": {
    "ExecuteTime": {
     "end_time": "2022-05-27T20:22:17.197947Z",
     "start_time": "2022-05-27T20:22:17.180390Z"
    }
   },
   "outputs": [
    {
     "data": {
      "text/plain": [
       "[(3, 0), (4, 1), (5, 2)]"
      ]
     },
     "execution_count": 21,
     "metadata": {},
     "output_type": "execute_result"
    }
   ],
   "source": [
    "a"
   ]
  },
  {
   "cell_type": "code",
   "execution_count": 26,
   "id": "c09bb447",
   "metadata": {
    "ExecuteTime": {
     "end_time": "2022-05-27T20:23:05.833265Z",
     "start_time": "2022-05-27T20:23:05.820276Z"
    }
   },
   "outputs": [
    {
     "name": "stdout",
     "output_type": "stream",
     "text": [
      "3\n"
     ]
    }
   ],
   "source": [
    "if a[-2][0] == a[-1][0]:\n",
    "    x = a[-1][0]\n",
    "elif a[-2][0] > a[-1][0]:\n",
    "    x = a[-2][0] + 1\n",
    "elif a[-2][0] < a[-1][0]:\n",
    "    x = a[-2][0] - 1\n",
    "print(x)"
   ]
  },
  {
   "cell_type": "code",
   "execution_count": 22,
   "id": "91e7bb9d",
   "metadata": {
    "ExecuteTime": {
     "end_time": "2022-05-27T20:22:29.407155Z",
     "start_time": "2022-05-27T20:22:29.397644Z"
    }
   },
   "outputs": [
    {
     "data": {
      "text/plain": [
       "4"
      ]
     },
     "execution_count": 22,
     "metadata": {},
     "output_type": "execute_result"
    }
   ],
   "source": [
    "a[-2][0]"
   ]
  },
  {
   "cell_type": "code",
   "execution_count": null,
   "id": "89c5b605",
   "metadata": {},
   "outputs": [],
   "source": []
  }
 ],
 "metadata": {
  "kernelspec": {
   "display_name": "Python 3 (ipykernel)",
   "language": "python",
   "name": "python3"
  },
  "language_info": {
   "codemirror_mode": {
    "name": "ipython",
    "version": 3
   },
   "file_extension": ".py",
   "mimetype": "text/x-python",
   "name": "python",
   "nbconvert_exporter": "python",
   "pygments_lexer": "ipython3",
   "version": "3.9.12"
  }
 },
 "nbformat": 4,
 "nbformat_minor": 5
}
