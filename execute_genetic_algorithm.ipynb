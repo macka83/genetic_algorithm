{
 "cells": [
  {
   "cell_type": "code",
   "execution_count": 2,
   "id": "64e1e30b",
   "metadata": {},
   "outputs": [],
   "source": [
    "from genetic_algorithm import *\n",
    "import re"
   ]
  },
  {
   "cell_type": "markdown",
   "id": "a4aa7361",
   "metadata": {},
   "source": [
    "## hexadecimal generator"
   ]
  },
  {
   "cell_type": "code",
   "execution_count": 3,
   "id": "e85a93ac",
   "metadata": {},
   "outputs": [],
   "source": [
    "nr_of_input = 3\n",
    "nr_of_actions = 3\n",
    "nr_of_inner = 2\n",
    "nr_of_genes = 8\n",
    "nr_individuals = 4\n",
    "\n",
    "res = generate_initial_genomes_for_population(nr_individuals, nr_of_genes, nr_of_input, nr_of_actions, nr_of_inner)"
   ]
  },
  {
   "cell_type": "markdown",
   "id": "991e86ea",
   "metadata": {},
   "source": [
    "## Sumuj duble"
   ]
  },
  {
   "cell_type": "code",
   "execution_count": 4,
   "id": "0ac99015",
   "metadata": {},
   "outputs": [],
   "source": [
    "dic = {}\n",
    "for nr in res:\n",
    "    dic[nr] = {}\n",
    "    for i in res[nr]:\n",
    "        total = dic.get(i.differ_neuron, 0) + i.weight\n",
    "        n_output = f'{i.output_id}{i.output_type}'\n",
    "        n_input = f'{i.input_id}{i.input_type}'\n",
    "        dic[nr][i.differ_neuron] = [n_input, n_output, total]"
   ]
  },
  {
   "cell_type": "code",
   "execution_count": 5,
   "id": "350be9b2",
   "metadata": {
    "scrolled": true
   },
   "outputs": [
    {
     "data": {
      "text/plain": [
       "{'0in0out': ['0in', '0out', 3.0150465435678315],\n",
       " '2in1out': ['2in', '1out', 3.404120250267053],\n",
       " '1in1out': ['1in', '1out', -3.155562337860522],\n",
       " '1in1mid': ['1in', '1mid', -1.953425911796124],\n",
       " '1mid0out': ['1mid', '0out', -3.4273157332519455],\n",
       " '1in2out': ['1in', '2out', -0.3454906149855028],\n",
       " '2in1mid': ['2in', '1mid', -2.1621852586601555]}"
      ]
     },
     "execution_count": 5,
     "metadata": {},
     "output_type": "execute_result"
    }
   ],
   "source": [
    "dic[0]"
   ]
  },
  {
   "cell_type": "markdown",
   "id": "69161a40",
   "metadata": {},
   "source": [
    "## brain generator"
   ]
  },
  {
   "cell_type": "code",
   "execution_count": 11,
   "id": "6c6f70cf",
   "metadata": {},
   "outputs": [
    {
     "data": {
      "text/plain": [
       "{'0in0out': ['0in', '0out', 3.0150465435678315],\n",
       " '2in1out': ['2in', '1out', 3.404120250267053],\n",
       " '1in1out': ['1in', '1out', -3.155562337860522],\n",
       " '1in1mid': ['1in', '1mid', -1.953425911796124],\n",
       " '1mid0out': ['1mid', '0out', -3.4273157332519455],\n",
       " '1in2out': ['1in', '2out', -0.3454906149855028],\n",
       " '2in1mid': ['2in', '1mid', -2.1621852586601555]}"
      ]
     },
     "execution_count": 11,
     "metadata": {},
     "output_type": "execute_result"
    }
   ],
   "source": [
    "dic[0]"
   ]
  },
  {
   "cell_type": "code",
   "execution_count": 17,
   "id": "5082e508",
   "metadata": {},
   "outputs": [
    {
     "ename": "SyntaxError",
     "evalue": "invalid syntax (Temp/ipykernel_2724/725247609.py, line 2)",
     "output_type": "error",
     "traceback": [
      "\u001b[1;36m  File \u001b[1;32m\"C:\\Users\\umag\\AppData\\Local\\Temp/ipykernel_2724/725247609.py\"\u001b[1;36m, line \u001b[1;32m2\u001b[0m\n\u001b[1;33m    brain.update({dic[0][i][1]:{}}) for i in dic[0] if 'out' in dic[0][i][1]\u001b[0m\n\u001b[1;37m                                    ^\u001b[0m\n\u001b[1;31mSyntaxError\u001b[0m\u001b[1;31m:\u001b[0m invalid syntax\n"
     ]
    }
   ],
   "source": [
    "brain = {}\n",
    "brain.update({dic[0][i][1]:{}}) for i in dic[0] if 'out' in dic[0][i][1]\n",
    "#         brain.update({dic[0][i][1]:{}})"
   ]
  },
  {
   "cell_type": "code",
   "execution_count": null,
   "id": "acfc2e31",
   "metadata": {},
   "outputs": [],
   "source": [
    "brain = {f'{n}out':{} for n in range(n_out+1)}\n",
    "\n",
    "def mid_neuron(brain, edges):\n",
    "    for key inbrain:\n",
    "        for item in edges:\n",
    "            if key == item[1] and 'mid' in item[0] and key != item[0]:\n",
    "                brain[key].update({item[0]:{}})\n",
    "                mid_neuron(brain[key], edges)\n",
    "                \n",
    "            elif key == item[1] and 'mid' in item[0] and key == item[0]:\n",
    "                brain[key].update({item[0]:{}})\n",
    "                \n",
    "            elif key == item[1] and 'mid' not in item[0]:\n",
    "                brain[key].update({item[0]:{}})\n",
    "\n",
    "mid_neuron(brain, edges)\n",
    "\n",
    "out"
   ]
  },
  {
   "cell_type": "code",
   "execution_count": null,
   "id": "11fb3ed5",
   "metadata": {},
   "outputs": [],
   "source": []
  }
 ],
 "metadata": {
  "kernelspec": {
   "display_name": "Python 3 (ipykernel)",
   "language": "python",
   "name": "python3"
  },
  "language_info": {
   "codemirror_mode": {
    "name": "ipython",
    "version": 3
   },
   "file_extension": ".py",
   "mimetype": "text/x-python",
   "name": "python",
   "nbconvert_exporter": "python",
   "pygments_lexer": "ipython3",
   "version": "3.9.7"
  }
 },
 "nbformat": 4,
 "nbformat_minor": 5
}
