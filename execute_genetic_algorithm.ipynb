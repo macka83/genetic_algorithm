{
 "cells": [
  {
   "cell_type": "markdown",
   "id": "6499aef8",
   "metadata": {
    "ExecuteTime": {
     "end_time": "2022-06-28T19:40:02.442018Z",
     "start_time": "2022-06-28T19:40:00.122777Z"
    }
   },
   "source": [
    "!jt -t chesterish\n",
    "# !jt -r"
   ]
  },
  {
   "cell_type": "code",
   "execution_count": 1,
   "id": "07647a75",
   "metadata": {
    "ExecuteTime": {
     "end_time": "2022-07-01T19:40:31.240869Z",
     "start_time": "2022-07-01T19:40:31.224512Z"
    }
   },
   "outputs": [],
   "source": [
    "from genetic_algorithm import *\n",
    "from numpy.random import default_rng\n",
    "from tqdm import tqdm\n",
    "from itertools import product #combinations_with_replacement\n",
    "%matplotlib notebook\n",
    "\n",
    "import matplotlib.pyplot as plt\n",
    "import math\n",
    "from matplotlib.animation import FuncAnimation\n",
    "\n",
    "import copy\n",
    "from collections import Counter\n",
    "import pandas as pd"
   ]
  },
  {
   "cell_type": "code",
   "execution_count": 2,
   "id": "89c5b605",
   "metadata": {
    "ExecuteTime": {
     "end_time": "2022-07-01T19:40:31.479709Z",
     "start_time": "2022-07-01T19:40:31.244914Z"
    }
   },
   "outputs": [],
   "source": [
    "## hexadecimal generator\n",
    "\n",
    "nr_of_input = 2\n",
    "nr_of_actions = 5\n",
    "nr_of_inner = 3\n",
    "nr_of_genes = 8\n",
    "nr_individuals = 1200\n",
    "\n",
    "individuals = generate_initial_genomes_for_population(nr_individuals, nr_of_genes, nr_of_input, nr_of_actions, nr_of_inner)\n",
    "\n",
    "## world size\n",
    "ws = 128\n",
    "world_size_x = ws\n",
    "world_size_y = ws\n",
    "\n",
    "##TODo if world_size_x != world_size_y fit then limit coord_full_list \n",
    "\n",
    "coord_full_list = np.array(list(product(range(ws), repeat=2)))\n",
    "ind = np.random.choice(len(coord_full_list), nr_individuals, replace=False)\n",
    "pos = coord_full_list[ind]\n",
    "\n",
    "## initial brain and position generator\n",
    "\n",
    "result = calculate_individual_output_weights(individuals)\n",
    "\n",
    "## assign position and remove brains without output\n",
    "\n",
    "indiv_to_del = []\n",
    "for indiv in result:\n",
    "    if result[indiv]['out']:\n",
    "        result[indiv]['position'] = [list(pos[indiv])]\n",
    "    else:\n",
    "        indiv_to_del.append(indiv)\n",
    "\n",
    "for key in indiv_to_del:\n",
    "    del result[key] "
   ]
  },
  {
   "cell_type": "code",
   "execution_count": 3,
   "id": "637c08b0",
   "metadata": {
    "scrolled": true
   },
   "outputs": [],
   "source": [
    "# rr = copy.copy(result)\n",
    "# rr"
   ]
  },
  {
   "cell_type": "code",
   "execution_count": null,
   "id": "40079ed6",
   "metadata": {
    "ExecuteTime": {
     "end_time": "2022-07-01T19:41:07.110319Z",
     "start_time": "2022-07-01T19:40:31.519085Z"
    }
   },
   "outputs": [
    {
     "name": "stderr",
     "output_type": "stream",
     "text": [
      " 30%|█████████▉                       | 36/120 [00:11<00:29,  2.83it/s]"
     ]
    }
   ],
   "source": [
    "nr_of_errors = 0\n",
    "\n",
    "k = 120\n",
    "n = 0\n",
    "pbar = tqdm(total=k, initial=n)\n",
    "\n",
    "while k>n: \n",
    "    pbar.update(1)\n",
    "    for indiv in result:\n",
    "        x, y = result[indiv]['position'][-1][0], result[indiv]['position'][-1][1]\n",
    "        if n<1:\n",
    "            calculate_position(result, indiv, x, y, world_size_x, world_size_y)    \n",
    "        elif n >= 1:\n",
    "            apply_input(result, indiv)\n",
    "            calculate_position(result, indiv, x, y, world_size_x, world_size_y)\n",
    "#     if n>1:\n",
    "    last_pos_list = {obj:result[obj]['position'][-1] for obj in result}\n",
    "#     print(n)\n",
    "#     print(last_pos_list)\n",
    "#     print()\n",
    "    for key_1, val_1 in last_pos_list.items():\n",
    "        last_pos_list_copy = copy.copy(last_pos_list)\n",
    "        del last_pos_list_copy[key_1]\n",
    "        for key_2, val_2 in last_pos_list_copy.items():\n",
    "            if val_1 == val_2:\n",
    "#                 print(key_1, val_1, key_2, val_2)\n",
    "#                 print(result[key_1]['position'][-1], result[key_1]['position'][-2])\n",
    "                result[key_2]['position'][-1] = result[key_2]['position'][-2]\n",
    "                result[key_1]['position'][-1] = result[key_1]['position'][-2]\n",
    "#     else:\n",
    "#         last_pos_list = {obj:result[obj]['position'][-1] for obj in result}\n",
    "    n += 1\n",
    "pbar.close()\n"
   ]
  },
  {
   "cell_type": "code",
   "execution_count": null,
   "id": "805f22ec",
   "metadata": {},
   "outputs": [],
   "source": [
    "result"
   ]
  },
  {
   "cell_type": "code",
   "execution_count": null,
   "id": "3033fcf7",
   "metadata": {},
   "outputs": [],
   "source": [
    "# position_list = list(map(sum, zip(*[[0, -1], [1, 0], [0, 0], [0, 1]])))\n",
    "# print(position_list)\n",
    "# position_list = make_smaller_(position_list)\n",
    "# print(position_list, x,y)\n",
    "# position_list = list(map(sum, zip(*[[x, y]] + [position_list])))\n",
    "# print(position_list)"
   ]
  },
  {
   "cell_type": "code",
   "execution_count": null,
   "id": "18f0598e",
   "metadata": {},
   "outputs": [],
   "source": [
    "# result[key_1]['position'][-1]"
   ]
  },
  {
   "cell_type": "code",
   "execution_count": null,
   "id": "b49ba07e",
   "metadata": {},
   "outputs": [],
   "source": []
  },
  {
   "cell_type": "code",
   "execution_count": null,
   "id": "cb901355",
   "metadata": {},
   "outputs": [],
   "source": [
    "df = pd.DataFrame()\n",
    "for key in result:\n",
    "    df[key] = pd.Series(result[key]['position']).apply(lambda x: '.'.join((str(x[0]),str(x[1]))))\n",
    "\n",
    "print(Counter(df.iloc[-1,:]).most_common())\n",
    "\n",
    "df"
   ]
  },
  {
   "cell_type": "code",
   "execution_count": null,
   "id": "5e5d5cb8",
   "metadata": {},
   "outputs": [],
   "source": [
    "df.iloc[0,:].head(30)\n"
   ]
  },
  {
   "cell_type": "code",
   "execution_count": null,
   "id": "59c3ab4e",
   "metadata": {},
   "outputs": [],
   "source": [
    "# last_pos_list= [[tuple(result[obj]['position'][-1])] for obj in result]"
   ]
  },
  {
   "cell_type": "code",
   "execution_count": null,
   "id": "77a1c24b",
   "metadata": {
    "scrolled": true
   },
   "outputs": [],
   "source": [
    "# from itertools import chain\n",
    "# Counter(chain(* l)).most_common()"
   ]
  },
  {
   "cell_type": "markdown",
   "id": "18bbb981",
   "metadata": {},
   "source": [
    "generate dictionary of coords "
   ]
  },
  {
   "cell_type": "code",
   "execution_count": null,
   "id": "ecb9c93d",
   "metadata": {
    "ExecuteTime": {
     "end_time": "2022-07-01T19:41:07.118321Z",
     "start_time": "2022-07-01T19:41:07.118321Z"
    }
   },
   "outputs": [],
   "source": [
    "coords = [{'x':[], 'y':[]} for key in range(len(result[indiv]['position']))]\n",
    "for indiv in result:\n",
    "    for pos_nr, pos in enumerate(result[indiv]['position']):\n",
    "        coords[pos_nr]['x'].append(pos[0])\n",
    "        coords[pos_nr]['y'].append(pos[1])"
   ]
  },
  {
   "cell_type": "markdown",
   "id": "9108641f",
   "metadata": {},
   "source": [
    "visualisation"
   ]
  },
  {
   "cell_type": "code",
   "execution_count": null,
   "id": "2654710a",
   "metadata": {
    "ExecuteTime": {
     "end_time": "2022-07-01T19:41:07.128420Z",
     "start_time": "2022-07-01T19:41:07.128420Z"
    },
    "scrolled": false
   },
   "outputs": [],
   "source": [
    "def update(i):\n",
    "    ax.clear()\n",
    "    ax.set_facecolor(plt.cm.Blues(.2))\n",
    "\n",
    "    ax.set_xlim([0,world_size_x])\n",
    "    ax.set_ylim([0,world_size_y])\n",
    "    ax.set_title('moving')\n",
    "    ax.scatter(x=coords[i]['x'],y=coords[i]['y'], c='red', s=2, marker='o')\n",
    "    [spine.set_visible(False) for spine in ax.spines.values()] #remove chart \n",
    "    \n",
    "fig, ax = plt.subplots(figsize=(6,6))\n",
    "anime = FuncAnimation(\n",
    "    fig = fig,\n",
    "    func = update,\n",
    "    frames = len(coords),\n",
    "    interval = 10, repeat=False\n",
    ")\n"
   ]
  },
  {
   "cell_type": "markdown",
   "id": "4aa9b18c",
   "metadata": {},
   "source": [
    "### mutation"
   ]
  },
  {
   "cell_type": "markdown",
   "id": "c9d7f120",
   "metadata": {},
   "source": [
    "hexa to binary"
   ]
  },
  {
   "cell_type": "code",
   "execution_count": 14,
   "id": "8e973d32",
   "metadata": {
    "ExecuteTime": {
     "end_time": "2022-07-01T19:40:31.511868Z",
     "start_time": "2022-07-01T19:40:31.483580Z"
    }
   },
   "outputs": [
    {
     "data": {
      "text/plain": [
       "'00011010001100001101001001111100'"
      ]
     },
     "execution_count": 14,
     "metadata": {},
     "output_type": "execute_result"
    }
   ],
   "source": [
    "binary = bin(int(individuals[0][0].hex_id, 16))[2:]\n",
    "if len(binary) < 32:\n",
    "    factor = 32 - len(binary)\n",
    "    binary = '0' * factor + binary\n",
    "binary"
   ]
  },
  {
   "cell_type": "code",
   "execution_count": null,
   "id": "878906b5",
   "metadata": {},
   "outputs": [],
   "source": []
  },
  {
   "cell_type": "code",
   "execution_count": null,
   "id": "c57f8d5f",
   "metadata": {},
   "outputs": [],
   "source": []
  }
 ],
 "metadata": {
  "kernelspec": {
   "display_name": "Python 3 (ipykernel)",
   "language": "python",
   "name": "python3"
  },
  "language_info": {
   "codemirror_mode": {
    "name": "ipython",
    "version": 3
   },
   "file_extension": ".py",
   "mimetype": "text/x-python",
   "name": "python",
   "nbconvert_exporter": "python",
   "pygments_lexer": "ipython3",
   "version": "3.9.12"
  }
 },
 "nbformat": 4,
 "nbformat_minor": 5
}
