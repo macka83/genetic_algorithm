{
 "cells": [
  {
   "cell_type": "code",
   "execution_count": 2,
   "id": "64e1e30b",
   "metadata": {},
   "outputs": [],
   "source": [
    "from genetic_algorithm import *\n",
    "import re"
   ]
  },
  {
   "cell_type": "markdown",
   "id": "a4aa7361",
   "metadata": {},
   "source": [
    "## hexadecimal generator"
   ]
  },
  {
   "cell_type": "code",
   "execution_count": 3,
   "id": "e85a93ac",
   "metadata": {},
   "outputs": [],
   "source": [
    "nr_of_input = 3\n",
    "nr_of_actions = 3\n",
    "nr_of_inner = 2\n",
    "nr_of_genes = 16\n",
    "nr_individuals = 4\n",
    "\n",
    "res = generate_initial_genomes_for_population(nr_individuals, nr_of_genes, nr_of_input, nr_of_actions, nr_of_inner)"
   ]
  },
  {
   "cell_type": "markdown",
   "id": "991e86ea",
   "metadata": {},
   "source": [
    "## Sumuj duble"
   ]
  },
  {
   "cell_type": "code",
   "execution_count": 4,
   "id": "0ac99015",
   "metadata": {},
   "outputs": [],
   "source": [
    "dic = {}\n",
    "for nr in res:\n",
    "    dic[nr] = {}\n",
    "    for i in res[nr]:\n",
    "        total = dic.get(i.differ_neuron, 0) + i.weight \n",
    "        dic[nr][i.differ_neuron] = total"
   ]
  },
  {
   "cell_type": "markdown",
   "id": "74f4fa7d",
   "metadata": {},
   "source": [
    "## grupuj "
   ]
  },
  {
   "cell_type": "code",
   "execution_count": 5,
   "id": "690c4e8e",
   "metadata": {},
   "outputs": [
    {
     "data": {
      "text/plain": [
       "{0: {'1mid0mid': -1.2304593316038455,\n",
       "  '0mid2out': -0.04578055852281398,\n",
       "  '1in1out': -2.3072180680604304,\n",
       "  '0in0mid': -1.2122691896841142,\n",
       "  '0in2out': 1.574851213184801,\n",
       "  '0in0out': -2.7428048222188313,\n",
       "  '0mid0mid': -1.1343811994506332,\n",
       "  '2in0mid': -3.2233175644742866,\n",
       "  '0mid1out': 0.8535937738440409,\n",
       "  '0in1out': 1.13633450328094},\n",
       " 1: {'0mid1out': 3.5564779490309784,\n",
       "  '0mid0out': 2.7408515183885243,\n",
       "  '1mid1mid': -2.4274683351136885,\n",
       "  '1mid0out': 0.5907523271783915,\n",
       "  '0in0out': 2.4424843583091715,\n",
       "  '1mid0mid': -3.7046848771555014,\n",
       "  '1in1out': -2.499252250877461,\n",
       "  '0in0mid': -1.2360750801159774,\n",
       "  '0in2out': 3.6448649473523576,\n",
       "  '0mid1mid': -3.0544788646421486,\n",
       "  '0mid0mid': 0.6178544178238975,\n",
       "  '1in1mid': 2.617305051121624},\n",
       " 2: {'1in0mid': -1.481092629330078,\n",
       "  '1mid1mid': 1.6876545093850146,\n",
       "  '1mid1out': 2.7360903403021517,\n",
       "  '0in0out': -0.7136883869983214,\n",
       "  '2in0mid': 2.653807416450481,\n",
       "  '0in2out': -3.1995116740424234,\n",
       "  '2in1out': 3.061315428048222,\n",
       "  '0in1mid': 0.810010682130322,\n",
       "  '1in1mid': 0.8471234549061498,\n",
       "  '0in0mid': 1.0308560964443767,\n",
       "  '0mid2out': -1.8008240500534107,\n",
       "  '2in1mid': 2.217610254845109,\n",
       "  '0mid1out': 2.3550740119029454,\n",
       "  '1mid0mid': 0.1296505417366092},\n",
       " 3: {'0mid0mid': 0.5736609186632077,\n",
       "  '2in1out': 2.018495345643217,\n",
       "  '1mid1mid': 0.396398596062872,\n",
       "  '1mid2out': -1.2154433084083627,\n",
       "  '0in0out': -0.6930566152907065,\n",
       "  '1in1mid': -1.9523271783915763,\n",
       "  '1in0mid': 1.1001983824202655,\n",
       "  '2in1mid': 0.9392949793987486,\n",
       "  '0in0mid': -2.4072028078742562,\n",
       "  '1mid1out': -2.416481001068213,\n",
       "  '0mid0out': 1.3978330535632535,\n",
       "  '1mid0out': -0.27016633602929957,\n",
       "  '0mid2out': -0.9855638638791393,\n",
       "  '0mid1out': 3.310972073859301}}"
      ]
     },
     "execution_count": 5,
     "metadata": {},
     "output_type": "execute_result"
    }
   ],
   "source": [
    "dic"
   ]
  },
  {
   "cell_type": "code",
   "execution_count": 13,
   "id": "c042cc6f",
   "metadata": {},
   "outputs": [
    {
     "name": "stdout",
     "output_type": "stream",
     "text": [
      "{'0mid1out': -2.8990691286433696, '0in2out': -2.022279871814436, '0in0out': -1.7821455821761025, '0mid0mid': -2.805066381809858, '0mid0out': -2.48020753853197}\n",
      "{'0mid1out': -2.8990691286433696, '0in2out': -2.022279871814436, '0in0out': -1.7821455821761025, '0mid0mid': -2.805066381809858, '0mid0out': -2.48020753853197}\n"
     ]
    }
   ],
   "source": [
    "# wybierz wszystkie in_mid\n",
    "\n",
    "nr_neuronu = 3\n",
    "print(dic[nr_neuronu])\n",
    "list_of_keys = []\n",
    "for i in dic[nr_neuronu]:\n",
    "    if 'in' in i and 'mid' in i:\n",
    "        print('in_mid', i)\n",
    "        list_of_keys.append(i)\n",
    "        \n",
    "for i in list_of_keys:\n",
    "    dic[nr_neuronu].pop(i)\n",
    "\n",
    "print(dic[nr_neuronu])"
   ]
  },
  {
   "cell_type": "code",
   "execution_count": 14,
   "id": "09693ab6",
   "metadata": {},
   "outputs": [
    {
     "data": {
      "text/plain": [
       "{'0mid1out': -2.8990691286433696,\n",
       " '0in2out': -2.022279871814436,\n",
       " '0in0out': -1.7821455821761025,\n",
       " '0mid0mid': -2.805066381809858,\n",
       " '0mid0out': -2.48020753853197}"
      ]
     },
     "execution_count": 14,
     "metadata": {},
     "output_type": "execute_result"
    }
   ],
   "source": [
    "dic[nr_neuronu]"
   ]
  },
  {
   "cell_type": "code",
   "execution_count": 10,
   "id": "99e59ff4",
   "metadata": {},
   "outputs": [
    {
     "data": {
      "text/plain": [
       "{'0mid': ['2in0mid', '0in0mid']}"
      ]
     },
     "execution_count": 10,
     "metadata": {},
     "output_type": "execute_result"
    }
   ],
   "source": [
    "list_of_out = ['0mid']\n",
    "\n",
    "d = {}\n",
    "for n in list_of_out:\n",
    "    d[n] = [k for k in list_of_keys if n in k]\n",
    "    \n",
    "d"
   ]
  },
  {
   "cell_type": "code",
   "execution_count": null,
   "id": "2a74873c",
   "metadata": {},
   "outputs": [],
   "source": []
  }
 ],
 "metadata": {
  "kernelspec": {
   "display_name": "Python 3 (ipykernel)",
   "language": "python",
   "name": "python3"
  },
  "language_info": {
   "codemirror_mode": {
    "name": "ipython",
    "version": 3
   },
   "file_extension": ".py",
   "mimetype": "text/x-python",
   "name": "python",
   "nbconvert_exporter": "python",
   "pygments_lexer": "ipython3",
   "version": "3.9.7"
  }
 },
 "nbformat": 4,
 "nbformat_minor": 5
}
