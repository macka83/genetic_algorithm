{
 "cells": [
  {
   "cell_type": "code",
   "execution_count": 1,
   "id": "64e1e30b",
   "metadata": {
    "ExecuteTime": {
     "end_time": "2022-05-29T13:05:39.957027Z",
     "start_time": "2022-05-29T13:05:39.931004Z"
    }
   },
   "outputs": [],
   "source": [
    "from genetic_algorithm import *\n",
    "import re\n",
    "import json\n",
    "import numpy as np\n",
    "from numpy.random import default_rng\n",
    "from collections import Counter\n",
    "import copy\n",
    "import matplotlib.pyplot as plt\n",
    "# from itertools import product"
   ]
  },
  {
   "cell_type": "markdown",
   "id": "a4aa7361",
   "metadata": {},
   "source": [
    "## hexadecimal generator"
   ]
  },
  {
   "cell_type": "code",
   "execution_count": 10,
   "id": "e85a93ac",
   "metadata": {
    "ExecuteTime": {
     "end_time": "2022-05-27T20:01:01.782792Z",
     "start_time": "2022-05-27T20:01:01.735730Z"
    }
   },
   "outputs": [],
   "source": [
    "nr_of_input = 3\n",
    "nr_of_actions = 3\n",
    "nr_of_inner = 3\n",
    "nr_of_genes = 16\n",
    "nr_individuals = 4\n",
    "\n",
    "individuals = generate_initial_genomes_for_population(nr_individuals, nr_of_genes, nr_of_input, nr_of_actions, nr_of_inner)"
   ]
  },
  {
   "cell_type": "code",
   "execution_count": 11,
   "id": "153d2d10",
   "metadata": {
    "ExecuteTime": {
     "end_time": "2022-05-27T20:01:01.798304Z",
     "start_time": "2022-05-27T20:01:01.784347Z"
    }
   },
   "outputs": [],
   "source": [
    "## world size\n",
    "world_size_x = 128\n",
    "world_size_y = 128\n",
    "\n",
    "rng = default_rng()\n",
    "x = rng.choice(world_size_x, size=nr_individuals, replace=False)\n",
    "y = rng.choice(world_size_y, size=nr_individuals, replace=False)\n"
   ]
  },
  {
   "cell_type": "code",
   "execution_count": 12,
   "id": "688473c6",
   "metadata": {},
   "outputs": [],
   "source": [
    "individuals_sum_dup = sum_duplicated_neurons(individuals)"
   ]
  },
  {
   "cell_type": "markdown",
   "id": "97385a42",
   "metadata": {},
   "source": [
    "## initial brain and position generator"
   ]
  },
  {
   "cell_type": "code",
   "execution_count": 13,
   "id": "8611dba8",
   "metadata": {},
   "outputs": [
    {
     "name": "stdout",
     "output_type": "stream",
     "text": [
      "0\n",
      "{'out2': {'mid0': -0.8027080636332302, 'mid1': {'in2': -1.477674347627041, 'in1': 0.8046390965969785, 'mid0': 2.1775675263238212}, 'out2': {'mid1': -1.0157179917594994}}, 'out1': {'out1': {'in1': 0.36282618647947507}}, 'out0': {'mid0': -0.8027080636332302, 'mid1': {'in2': -1.477674347627041, 'in1': 0.8046390965969785, 'mid0': 2.1775675263238212}, 'mid2': {'in1': -1.2309476575614222, 'mid0': 3.6696474896993743, 'mid1': -3.249565084694033}, 'out0': {'mid1': 1.1674652830764536, 'in1': -2.353486952540821, 'mid2': 1.6059819929803143, 'in0': 2.8919884022585074, 'mid0': 1.0667480543262629}}}\n",
      "\n",
      "1\n",
      "{'out2': {'mid2': -0.985832393806578, 'out2': {'mid2': 3.661101785441782}}, 'out1': {'mid0': {'in2': -1.3317869678010072, 'in1': -0.9715244925988097, 'mid2': 2.5182969632229515, 'mid0': -3.9030672974210288}, 'mid2': -0.985832393806578, 'out1': {'in1': -0.023561727453074926, 'mid2': 2.3359072180680602, 'mid0': -0.31521440561574854, 'in2': -1.109842820082405}}, 'out0': {'mid0': {'in1': -0.9715244925988097, 'mid2': 2.5182969632229515, 'mid0': -3.9030672974210288, 'in2': -1.3317869678010072}, 'mid2': -0.985832393806578, 'out0': {'in1': 1.3492446207843736, 'mid0': -3.509232412635434}}}\n",
      "\n",
      "2\n",
      "{'out1': {'mid0': -0.9932601268772491, 'mid1': {'in2': 1.9490309781779338, 'mid1': 0.2787120402868915, 'in1': 3.349793987486647, 'in0': 3.031771707614833, 'mid0': 2.0582939111857166}, 'out1': {'in0': -3.313169540668396, 'mid1': 3.3834884785594386}}, 'out0': {'mid0': -0.9932601268772491, 'mid1': {'in2': 1.9490309781779338, 'mid1': 0.2787120402868915, 'in1': 3.349793987486647, 'in0': 3.031771707614833, 'mid0': 2.0582939111857166}, 'out0': {'mid1': -0.4642759041660308, 'in0': 3.6653746375705785, 'mid0': -1.399664275904166}}}\n",
      "\n",
      "3\n",
      "{'out2': {'mid0': {'mid2': 3.9008698306119336, 'in0': -2.3938959255302916, 'mid1': -2.1100564626888447}, 'mid1': {'mid2': 3.031039218678468}, 'mid2': 0.9514482838388795, 'out2': {'in0': 0.8009766519151533, 'mid0': -2.685548603692965, 'in2': -3.1588585380741647}}, 'out1': {'mid0': {'mid2': 3.9008698306119336, 'in0': -2.3938959255302916, 'mid1': -2.1100564626888447}, 'mid1': {'mid2': 3.031039218678468}, 'mid2': 0.9514482838388795, 'out1': {'mid2': -1.270746223103922, 'mid0': 2.547352357698764, 'in2': -2.556508469403327}}, 'out0': {'mid0': {'mid2': 3.9008698306119336, 'in0': -2.3938959255302916, 'mid1': -2.1100564626888447}, 'mid1': {'mid2': 3.031039218678468}, 'mid2': 0.9514482838388795, 'out0': {'mid0': -2.103708225240348}}}\n",
      "\n"
     ]
    }
   ],
   "source": [
    "initial_dic_of_output_neurons = {}\n",
    "\n",
    "## sum duplicates\n",
    "individuals_sum_dup = sum_duplicated_neurons(individuals)\n",
    "\n",
    "## brain generator\n",
    "for individual in individuals_sum_dup:\n",
    "    \n",
    "    ## init brain neuron generator\n",
    "    print(individual)\n",
    "    ## preprocessing\n",
    "    edges = individuals_sum_dup[individual]\n",
    "    edges = [tuple(edges[i]) for i in edges]\n",
    "    edges_no_weight = [i[:-1] for i in edges]\n",
    "    \n",
    "    G = nx.MultiDiGraph()\n",
    "    G.add_edges_from(edges)\n",
    "    \n",
    "    out_list = list(set([i[1] for i in edges if 'out' in i[1]]))\n",
    "    init_list = list(set([i[0] for i in edges if 'in' in i[0]]))\n",
    "\n",
    "    # generate dict of paths\n",
    "    dic_of_paths = generate_dict_of_paths(out_list, init_list, G)\n",
    "\n",
    "    lis = filtered_neurons_paths(dic_of_paths)\n",
    "    \n",
    "    dic = append_weight_to_neurons_in_path(lis, edges_no_weight, edges)\n",
    "    print(dic)\n",
    "    \n",
    "        \n",
    "        \n",
    "\n",
    "#     print(dic)\n",
    "    print()"
   ]
  },
  {
   "cell_type": "code",
   "execution_count": 18,
   "id": "0d63ce9e",
   "metadata": {},
   "outputs": [],
   "source": [
    "def out_to_weight(dic):\n",
    "    '''weight for nested input ie.  0mid:{1mid} or out:{0mid, 0in}\n",
    "    use 'mid' neuron only if feeded with 'in' neurons'''\n",
    "    for key in dic:\n",
    "        if 'mid' in key and isinstance(dic[key], dict):\n",
    "            for sub_key in dic[key]:\n",
    "                if 'mid' in sub_key and sub_key != key:\n",
    "                    dic[key][sub_key] += dic[sub_key]\n",
    "\n",
    "            dic[key] = np.tanh(sum(dic[key].values()))\n",
    "            out_to_weight(dic)\n",
    "                \n",
    "        elif 'out' in key and isinstance(dic[key], dict):\n",
    "            for sub_key in dic[key]:\n",
    "                if 'mid' in sub_key and sub_key in dic:\n",
    "                    dic[key][sub_key] += dic[sub_key]\n",
    "            dic[key] = np.tanh(sum(dic[key].values()))\n",
    "            out_to_weight(dic)"
   ]
  },
  {
   "cell_type": "code",
   "execution_count": 20,
   "id": "bf51b475",
   "metadata": {},
   "outputs": [
    {
     "ename": "TypeError",
     "evalue": "unsupported operand type(s) for +=: 'float' and 'dict'",
     "output_type": "error",
     "traceback": [
      "\u001b[1;31m---------------------------------------------------------------------------\u001b[0m",
      "\u001b[1;31mTypeError\u001b[0m                                 Traceback (most recent call last)",
      "Input \u001b[1;32mIn [20]\u001b[0m, in \u001b[0;36m<cell line: 1>\u001b[1;34m()\u001b[0m\n\u001b[1;32m----> 1\u001b[0m \u001b[43mout_to_weight\u001b[49m\u001b[43m(\u001b[49m\u001b[43mdic\u001b[49m\u001b[43m[\u001b[49m\u001b[38;5;124;43m'\u001b[39;49m\u001b[38;5;124;43mout0\u001b[39;49m\u001b[38;5;124;43m'\u001b[39;49m\u001b[43m]\u001b[49m\u001b[43m)\u001b[49m\n\u001b[0;32m      2\u001b[0m remove_mid_from_dict(dic[\u001b[38;5;124m'\u001b[39m\u001b[38;5;124mout0\u001b[39m\u001b[38;5;124m'\u001b[39m])\n",
      "Input \u001b[1;32mIn [18]\u001b[0m, in \u001b[0;36mout_to_weight\u001b[1;34m(dic)\u001b[0m\n\u001b[0;32m      6\u001b[0m \u001b[38;5;28;01mfor\u001b[39;00m sub_key \u001b[38;5;129;01min\u001b[39;00m dic[key]:\n\u001b[0;32m      7\u001b[0m     \u001b[38;5;28;01mif\u001b[39;00m \u001b[38;5;124m'\u001b[39m\u001b[38;5;124mmid\u001b[39m\u001b[38;5;124m'\u001b[39m \u001b[38;5;129;01min\u001b[39;00m sub_key \u001b[38;5;129;01mand\u001b[39;00m sub_key \u001b[38;5;241m!=\u001b[39m key:\n\u001b[1;32m----> 8\u001b[0m         dic[key][sub_key] \u001b[38;5;241m+\u001b[39m\u001b[38;5;241m=\u001b[39m dic[sub_key]\n\u001b[0;32m     10\u001b[0m dic[key] \u001b[38;5;241m=\u001b[39m np\u001b[38;5;241m.\u001b[39mtanh(\u001b[38;5;28msum\u001b[39m(dic[key]\u001b[38;5;241m.\u001b[39mvalues()))\n\u001b[0;32m     11\u001b[0m out_to_weight(dic)\n",
      "\u001b[1;31mTypeError\u001b[0m: unsupported operand type(s) for +=: 'float' and 'dict'"
     ]
    }
   ],
   "source": [
    "out_to_weight(dic['out0'])\n",
    "remove_mid_from_dict(dic['out0'])"
   ]
  },
  {
   "cell_type": "code",
   "execution_count": 41,
   "id": "6f8a2b93",
   "metadata": {},
   "outputs": [],
   "source": [
    "d = {'mid0': -0.9968891785861455,\n",
    " 'mid1': -0.4076410405214311,\n",
    " 'out0': 0.9588224118999349}"
   ]
  },
  {
   "cell_type": "code",
   "execution_count": 43,
   "id": "03db40e1",
   "metadata": {},
   "outputs": [],
   "source": [
    "def remove_mid_from_dict(dic):\n",
    "    mid_list = [i for i in dic if 'mid' in i]\n",
    "    for mid in mid_list:\n",
    "        dic.pop(mid)\n",
    "\n",
    "remove_mid_from_dict(d)    "
   ]
  },
  {
   "cell_type": "code",
   "execution_count": 44,
   "id": "aef8a48e",
   "metadata": {},
   "outputs": [
    {
     "data": {
      "text/plain": [
       "{'out0': 0.9588224118999349}"
      ]
     },
     "execution_count": 44,
     "metadata": {},
     "output_type": "execute_result"
    }
   ],
   "source": [
    "d"
   ]
  },
  {
   "cell_type": "code",
   "execution_count": null,
   "id": "100a8e17",
   "metadata": {},
   "outputs": [],
   "source": []
  },
  {
   "cell_type": "code",
   "execution_count": 8,
   "id": "2aff38fc",
   "metadata": {
    "ExecuteTime": {
     "end_time": "2022-05-27T20:01:01.813305Z",
     "start_time": "2022-05-27T20:01:01.799301Z"
    },
    "scrolled": true
   },
   "outputs": [],
   "source": [
    "initial_dic_of_output_neurons = {}\n",
    "\n",
    "## sum duplicates\n",
    "individuals_sum_dup = sum_duplicated_neurons(individuals)\n",
    "\n",
    "## remove self loops\n",
    "individuals_sum_dup_no_self_loop = remove_self_loop(individuals_sum_dup)\n",
    "\n",
    "## brain generator\n",
    "for individual in individuals_sum_dup_no_self_loop:\n",
    "    \n",
    "    ## init brain neuron generator\n",
    "    \n",
    "    ## preprocessing\n",
    "    edges = individuals_sum_dup_no_self_loop[individual]\n",
    "    edges = [tuple(edges[i]) for i in edges]\n",
    "\n",
    "    remove_mid_with_no_predecessor(edges) \n",
    "    dic = weight_sum_preprocessing(edges)\n",
    "\n",
    "    ## calculate weight sum\n",
    "    mid_to_weight(dic)\n",
    "    out_to_weight(dic)\n",
    "       \n",
    "    dic = {k:v for k, v in dic.items() if 'out' in k}    \n",
    "    \n",
    "    initial_dic_of_output_neurons[individual] = {}\n",
    "    initial_dic_of_output_neurons[individual]['output'] = dic\n",
    "    \n",
    "    ## position\n",
    "#     initial_dic_of_output_neurons[individual]['position'] = {}\n",
    "#     initial_dic_of_output_neurons[individual]['position']['x'] = x[individual]\n",
    "#     initial_dic_of_output_neurons[individual]['position']['y'] = y[individual] \n",
    "    \n",
    "    ## position history\n",
    "    initial_dic_of_output_neurons[individual]['history_position'] = [(x[individual], y[individual])]"
   ]
  },
  {
   "cell_type": "code",
   "execution_count": 9,
   "id": "37a4e64d",
   "metadata": {
    "ExecuteTime": {
     "end_time": "2022-05-27T20:01:01.829301Z",
     "start_time": "2022-05-27T20:01:01.814301Z"
    }
   },
   "outputs": [
    {
     "data": {
      "text/plain": [
       "{0: {'output': {'out0': -0.9941392171560546,\n",
       "   'out1': -0.3995677412004998,\n",
       "   'out2': -0.559667317504093},\n",
       "  'history_position': [(90, 1)]},\n",
       " 1: {'output': {'out0': -0.07093210467435282,\n",
       "   'out1': -0.4384494215569999,\n",
       "   'out2': 0.5525715141627122},\n",
       "  'history_position': [(23, 123)]},\n",
       " 2: {'output': {'out0': 0.9984096476650253,\n",
       "   'out1': 0.8128864397791226,\n",
       "   'out2': 0.9895769484375675},\n",
       "  'history_position': [(119, 73)]},\n",
       " 3: {'output': {'out1': -0.9999982503498028, 'out2': 0.9998047532689923},\n",
       "  'history_position': [(121, 93)]}}"
      ]
     },
     "execution_count": 9,
     "metadata": {},
     "output_type": "execute_result"
    }
   ],
   "source": [
    "initial_dic_of_output_neurons"
   ]
  },
  {
   "cell_type": "code",
   "execution_count": 10,
   "id": "675d302d",
   "metadata": {
    "ExecuteTime": {
     "end_time": "2022-05-27T20:23:03.597160Z",
     "start_time": "2022-05-27T20:23:03.581159Z"
    }
   },
   "outputs": [],
   "source": [
    "a = [(3, 0),(4,1),(5,2)]"
   ]
  },
  {
   "cell_type": "code",
   "execution_count": 11,
   "id": "fb0ff57e",
   "metadata": {
    "ExecuteTime": {
     "end_time": "2022-05-27T20:15:26.036428Z",
     "start_time": "2022-05-27T20:15:26.011830Z"
    }
   },
   "outputs": [
    {
     "name": "stdout",
     "output_type": "stream",
     "text": [
      "(-1.0, 3.0)\n"
     ]
    }
   ],
   "source": [
    "def slope_intercept(x1,y1,x2,y2):\n",
    "    a = (y2 - y1) / (x2 - x1)\n",
    "    b = y1 - a * x1     \n",
    "    return a,b\n",
    "\n",
    "print(slope_intercept(3,0,2,1))"
   ]
  },
  {
   "cell_type": "code",
   "execution_count": 12,
   "id": "8ca05899",
   "metadata": {
    "ExecuteTime": {
     "end_time": "2022-05-27T20:22:17.197947Z",
     "start_time": "2022-05-27T20:22:17.180390Z"
    }
   },
   "outputs": [
    {
     "data": {
      "text/plain": [
       "[(3, 0), (4, 1), (5, 2)]"
      ]
     },
     "execution_count": 12,
     "metadata": {},
     "output_type": "execute_result"
    }
   ],
   "source": [
    "a"
   ]
  },
  {
   "cell_type": "code",
   "execution_count": 13,
   "id": "c09bb447",
   "metadata": {
    "ExecuteTime": {
     "end_time": "2022-05-27T20:23:05.833265Z",
     "start_time": "2022-05-27T20:23:05.820276Z"
    }
   },
   "outputs": [
    {
     "name": "stdout",
     "output_type": "stream",
     "text": [
      "3\n"
     ]
    }
   ],
   "source": [
    "if a[-2][0] == a[-1][0]:\n",
    "    x = a[-1][0]\n",
    "elif a[-2][0] > a[-1][0]:\n",
    "    x = a[-2][0] + 1\n",
    "elif a[-2][0] < a[-1][0]:\n",
    "    x = a[-2][0] - 1\n",
    "print(x)"
   ]
  },
  {
   "cell_type": "code",
   "execution_count": 14,
   "id": "91e7bb9d",
   "metadata": {
    "ExecuteTime": {
     "end_time": "2022-05-27T20:22:29.407155Z",
     "start_time": "2022-05-27T20:22:29.397644Z"
    }
   },
   "outputs": [
    {
     "data": {
      "text/plain": [
       "4"
      ]
     },
     "execution_count": 14,
     "metadata": {},
     "output_type": "execute_result"
    }
   ],
   "source": [
    "a[-2][0]"
   ]
  },
  {
   "cell_type": "code",
   "execution_count": null,
   "id": "89c5b605",
   "metadata": {},
   "outputs": [],
   "source": []
  }
 ],
 "metadata": {
  "kernelspec": {
   "display_name": "Python 3 (ipykernel)",
   "language": "python",
   "name": "python3"
  },
  "language_info": {
   "codemirror_mode": {
    "name": "ipython",
    "version": 3
   },
   "file_extension": ".py",
   "mimetype": "text/x-python",
   "name": "python",
   "nbconvert_exporter": "python",
   "pygments_lexer": "ipython3",
   "version": "3.9.12"
  }
 },
 "nbformat": 4,
 "nbformat_minor": 5
}
