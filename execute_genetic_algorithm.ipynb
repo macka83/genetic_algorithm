{
 "cells": [
  {
   "cell_type": "code",
   "execution_count": 1,
   "id": "64e1e30b",
   "metadata": {},
   "outputs": [],
   "source": [
    "from genetic_algorithm import *\n",
    "import re\n",
    "import json"
   ]
  },
  {
   "cell_type": "markdown",
   "id": "a4aa7361",
   "metadata": {},
   "source": [
    "## hexadecimal generator"
   ]
  },
  {
   "cell_type": "code",
   "execution_count": 2,
   "id": "e85a93ac",
   "metadata": {},
   "outputs": [],
   "source": [
    "nr_of_input = 3\n",
    "nr_of_actions = 3\n",
    "nr_of_inner = 2\n",
    "nr_of_genes = 16\n",
    "nr_individuals = 4\n",
    "\n",
    "res = generate_initial_genomes_for_population(nr_individuals, nr_of_genes, nr_of_input, nr_of_actions, nr_of_inner)"
   ]
  },
  {
   "cell_type": "markdown",
   "id": "991e86ea",
   "metadata": {},
   "source": [
    "## Sumuj duble"
   ]
  },
  {
   "cell_type": "code",
   "execution_count": null,
   "id": "0ac99015",
   "metadata": {},
   "outputs": [],
   "source": []
  },
  {
   "cell_type": "code",
   "execution_count": 3,
   "id": "2aff38fc",
   "metadata": {},
   "outputs": [],
   "source": [
    "dic = sum_duplicated_neurons(res)"
   ]
  },
  {
   "cell_type": "markdown",
   "id": "69161a40",
   "metadata": {},
   "source": [
    "## brain generator"
   ]
  },
  {
   "cell_type": "code",
   "execution_count": 4,
   "id": "6625f189",
   "metadata": {},
   "outputs": [
    {
     "data": {
      "text/plain": [
       "{'0in1out': ['0in', '1out', -3.6377842209674958],\n",
       " '1mid0mid': ['1mid', '0mid', 0.6165115214405615],\n",
       " '1in1mid': ['1in', '1mid', 3.6368075690523423],\n",
       " '0in1mid': ['0in', '1mid', -2.76795360903403],\n",
       " '0mid0out': ['0mid', '0out', -0.7665496719059972],\n",
       " '0mid1out': ['0mid', '1out', 2.0047001373416755],\n",
       " '0mid1mid': ['0mid', '1mid', -1.34533801312376],\n",
       " '1in0mid': ['1in', '0mid', 2.136059819929803],\n",
       " '0mid0mid': ['0mid', '0mid', -1.8265832443155807],\n",
       " '1mid0out': ['1mid', '0out', 2.9330077826949488],\n",
       " '0in0out': ['0in', '0out', 2.913596825881276],\n",
       " '1in2out': ['1in', '2out', 3.5933465588280176]}"
      ]
     },
     "execution_count": 4,
     "metadata": {},
     "output_type": "execute_result"
    }
   ],
   "source": [
    "edges = dic[1]\n",
    "\n",
    "brain = generate_brain_output_dictionary(edges)\n",
    "edges"
   ]
  },
  {
   "cell_type": "code",
   "execution_count": 7,
   "id": "acfc2e31",
   "metadata": {},
   "outputs": [
    {
     "name": "stdout",
     "output_type": "stream",
     "text": [
      "item ['0in', '1out', -3.6377842209674958]\n",
      "3 1out 0in -3.6377842209674958\n",
      "item ['1mid', '0mid', 0.6165115214405615]\n",
      "item ['1in', '1mid', 3.6368075690523423]\n",
      "item ['0in', '1mid', -2.76795360903403]\n",
      "item ['0mid', '0out', -0.7665496719059972]\n",
      "item ['0mid', '1out', 2.0047001373416755]\n",
      "1 1out 0mid 2.0047001373416755\n",
      "item ['0mid', '1mid', -1.34533801312376]\n",
      "item ['1in', '0mid', 2.136059819929803]\n",
      "item ['0mid', '0mid', -1.8265832443155807]\n",
      "item ['1mid', '0out', 2.9330077826949488]\n",
      "item ['0in', '0out', 2.913596825881276]\n",
      "item ['1in', '2out', 3.5933465588280176]\n",
      "item ['0in', '1out', -3.6377842209674958]\n",
      "item ['1mid', '0mid', 0.6165115214405615]\n",
      "item ['1in', '1mid', 3.6368075690523423]\n",
      "item ['0in', '1mid', -2.76795360903403]\n",
      "item ['0mid', '0out', -0.7665496719059972]\n",
      "1 0out 0mid -0.7665496719059972\n",
      "item ['0mid', '1out', 2.0047001373416755]\n",
      "item ['0mid', '1mid', -1.34533801312376]\n",
      "item ['1in', '0mid', 2.136059819929803]\n",
      "item ['0mid', '0mid', -1.8265832443155807]\n",
      "item ['1mid', '0out', 2.9330077826949488]\n",
      "1 0out 1mid 2.9330077826949488\n",
      "item ['0in', '0out', 2.913596825881276]\n",
      "3 0out 0in 2.913596825881276\n",
      "item ['1in', '2out', 3.5933465588280176]\n",
      "item ['0in', '1out', -3.6377842209674958]\n",
      "item ['1mid', '0mid', 0.6165115214405615]\n",
      "item ['1in', '1mid', 3.6368075690523423]\n",
      "item ['0in', '1mid', -2.76795360903403]\n",
      "item ['0mid', '0out', -0.7665496719059972]\n",
      "item ['0mid', '1out', 2.0047001373416755]\n",
      "item ['0mid', '1mid', -1.34533801312376]\n",
      "item ['1in', '0mid', 2.136059819929803]\n",
      "item ['0mid', '0mid', -1.8265832443155807]\n",
      "item ['1mid', '0out', 2.9330077826949488]\n",
      "item ['0in', '0out', 2.913596825881276]\n",
      "item ['1in', '2out', 3.5933465588280176]\n",
      "3 2out 1in 3.5933465588280176\n"
     ]
    },
    {
     "data": {
      "text/plain": [
       "{'1out': {'0in': {'w': -3.6377842209674958},\n",
       "  '0mid': {'w': 2.0047001373416755}},\n",
       " '0out': {'0mid': {'w': -0.7665496719059972},\n",
       "  '1mid': {'w': 2.9330077826949488},\n",
       "  '0in': {'w': 2.913596825881276}},\n",
       " '2out': {'1in': {'w': 3.5933465588280176}}}"
      ]
     },
     "execution_count": 7,
     "metadata": {},
     "output_type": "execute_result"
    }
   ],
   "source": [
    "def mid_neuron(brain, edges):\n",
    "    for key in brain:\n",
    "        if 'out' in key:\n",
    "            for pair in edges:\n",
    "                item = edges[pair]\n",
    "                print('item', item)\n",
    "                if key == item[1] and 'mid' in item[0] and key != item[0]:\n",
    "                    brain[key].update({item[0]: {'w':item[2]}})\n",
    "                    mid_neuron(brain[key], edges)\n",
    "                    print('1',key,item[0],item[2])\n",
    "#                 elif key == item[1] and 'mid' in item[0] and key == item[0]:\n",
    "#                     brain[key].update({item[0]:{'w':item[2]}})\n",
    "#                     print('2', key,item[0],item[2])\n",
    "                elif key == item[1] and 'mid' not in item[0]:\n",
    "                    brain[key].update({item[0]:{'w':item[2]}})\n",
    "                    print('3', key,item[0],item[2])\n",
    "        \n",
    "                \n",
    "mid_neuron(brain, edges)\n",
    "brain"
   ]
  },
  {
   "cell_type": "code",
   "execution_count": 6,
   "id": "2c3e5a25",
   "metadata": {
    "scrolled": true
   },
   "outputs": [
    {
     "name": "stdout",
     "output_type": "stream",
     "text": [
      "if 1out {'0in': {'w': -3.6377842209674958}, '0mid': {'w': 2.0047001373416755}}\n",
      "if 0out {'0mid': {'w': -0.7665496719059972}, '1mid': {'w': 2.9330077826949488}, '0in': {'w': 2.913596825881276}}\n",
      "else 2out {'1in': {'w': 3.5933465588280176}}\n"
     ]
    }
   ],
   "source": [
    "analyze_brain(brain)"
   ]
  },
  {
   "cell_type": "markdown",
   "id": "c0bf6b4b",
   "metadata": {},
   "source": [
    "get dictionary depth  \n",
    "https://stackoverflow.com/questions/23499017/know-the-depth-of-a-dictionary\n",
    "https://www.tutorialspoint.com/find-depth-of-a-dictionary-in-python"
   ]
  },
  {
   "cell_type": "markdown",
   "id": "ec147961",
   "metadata": {},
   "source": [
    "https://stackoverflow.com/questions/47265412/custom-connections-between-layers-keras"
   ]
  }
 ],
 "metadata": {
  "kernelspec": {
   "display_name": "Python 3 (ipykernel)",
   "language": "python",
   "name": "python3"
  },
  "language_info": {
   "codemirror_mode": {
    "name": "ipython",
    "version": 3
   },
   "file_extension": ".py",
   "mimetype": "text/x-python",
   "name": "python",
   "nbconvert_exporter": "python",
   "pygments_lexer": "ipython3",
   "version": "3.9.12"
  }
 },
 "nbformat": 4,
 "nbformat_minor": 5
}
