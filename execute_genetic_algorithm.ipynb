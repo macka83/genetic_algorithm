{
 "cells": [
  {
   "cell_type": "code",
   "execution_count": 26,
   "id": "64e1e30b",
   "metadata": {},
   "outputs": [],
   "source": [
    "from genetic_algorithm import *\n",
    "import re\n",
    "import json"
   ]
  },
  {
   "cell_type": "markdown",
   "id": "a4aa7361",
   "metadata": {},
   "source": [
    "## hexadecimal generator"
   ]
  },
  {
   "cell_type": "code",
   "execution_count": 35,
   "id": "e85a93ac",
   "metadata": {},
   "outputs": [],
   "source": [
    "nr_of_input = 3\n",
    "nr_of_actions = 3\n",
    "nr_of_inner = 2\n",
    "nr_of_genes = 16\n",
    "nr_individuals = 4\n",
    "\n",
    "res = generate_initial_genomes_for_population(nr_individuals, nr_of_genes, nr_of_input, nr_of_actions, nr_of_inner)"
   ]
  },
  {
   "cell_type": "markdown",
   "id": "991e86ea",
   "metadata": {},
   "source": [
    "## Sumuj duble"
   ]
  },
  {
   "cell_type": "code",
   "execution_count": 36,
   "id": "0ac99015",
   "metadata": {},
   "outputs": [],
   "source": [
    "dic = {}\n",
    "for nr in res:\n",
    "    dic[nr] = {}\n",
    "    for i in res[nr]:\n",
    "        total = dic.get(i.differ_neuron, 0) + i.weight\n",
    "        n_output = f'{i.output_id}{i.output_type}'\n",
    "        n_input = f'{i.input_id}{i.input_type}'\n",
    "        dic[nr][i.differ_neuron] = [n_input, n_output, total]"
   ]
  },
  {
   "cell_type": "code",
   "execution_count": 37,
   "id": "82f070e4",
   "metadata": {},
   "outputs": [
    {
     "data": {
      "text/plain": [
       "{0: {'0in0out': ['0in', '0out', 1.577903250419655],\n",
       "  '0in2out': ['0in', '2out', -0.34732183732641536],\n",
       "  '0mid0mid': ['0mid', '0mid', 2.3337097512589655],\n",
       "  '1mid1out': ['1mid', '1out', 2.5819014191973144],\n",
       "  '2in0mid': ['2in', '0mid', -3.416816725164047],\n",
       "  '1mid0mid': ['1mid', '0mid', 1.3601098733404549],\n",
       "  '1in1mid': ['1in', '1mid', -3.1037997863573934],\n",
       "  '0in0mid': ['0in', '0mid', 3.574301846482527],\n",
       "  '0mid1mid': ['0mid', '1mid', 3.2246604608576224],\n",
       "  '0mid2out': ['0mid', '2out', 2.71057530901877],\n",
       "  '1mid0out': ['1mid', '0out', 2.9505875171677096],\n",
       "  '1in0mid': ['1in', '0mid', 0.4690370822524035]},\n",
       " 1: {'1in0mid': ['1in', '0mid', 3.1365176255150313],\n",
       "  '0in2out': ['0in', '2out', 3.6263085609644437],\n",
       "  '0mid0mid': ['0mid', '0mid', 0.8476117808637266],\n",
       "  '1in2out': ['1in', '2out', -3.767434762704105],\n",
       "  '1mid1mid': ['1mid', '1mid', 3.9686250572256982],\n",
       "  '1in1out': ['1in', '1out', 0.17665191515336487],\n",
       "  '2in0mid': ['2in', '0mid', 0.3450022890279261],\n",
       "  '1mid2out': ['1mid', '2out', -0.6086983061193346],\n",
       "  '1mid0mid': ['1mid', '0mid', -1.7914237753700595],\n",
       "  '1in1mid': ['1in', '1mid', -3.1631313902029605],\n",
       "  '1mid1out': ['1mid', '1out', -1.1453685334961086],\n",
       "  '1mid0out': ['1mid', '0out', -1.3364260643979857],\n",
       "  '2in2out': ['2in', '2out', 1.629421638943995]},\n",
       " 2: {'0mid0out': ['0mid', '0out', 3.548420570730963],\n",
       "  '0in1mid': ['0in', '1mid', 2.782847550740119],\n",
       "  '0in0mid': ['0in', '0mid', -2.2166336029299556],\n",
       "  '1mid1out': ['1mid', '1out', 2.3547077674347627],\n",
       "  '1in1out': ['1in', '1out', 3.954951930413551],\n",
       "  '2in2out': ['2in', '2out', 3.963375553181749],\n",
       "  '1in2out': ['1in', '2out', 1.8107126506943385],\n",
       "  '2in1mid': ['2in', '1mid', -0.6715702731573325],\n",
       "  '2in1out': ['2in', '1out', -1.6498092476728217],\n",
       "  '1mid1mid': ['1mid', '1mid', 1.0014344575003815],\n",
       "  '0mid2out': ['0mid', '2out', 1.3800091561117045],\n",
       "  '1in1mid': ['1in', '1mid', -3.1843735693575463]},\n",
       " 3: {'2in2out': ['2in', '2out', 2.174515489088967],\n",
       "  '1in1mid': ['1in', '1mid', 1.3234854265222036],\n",
       "  '2in1out': ['2in', '1out', 3.0672974210285364],\n",
       "  '1mid1out': ['1mid', '1out', 0.7731420723332825],\n",
       "  '0mid0mid': ['0mid', '0mid', 1.9215626430642454],\n",
       "  '1in0mid': ['1in', '0mid', -1.939874866473371],\n",
       "  '0in1mid': ['0in', '1mid', 1.1099649015717992],\n",
       "  '0mid2out': ['0mid', '2out', 3.6661071265069434],\n",
       "  '0in1out': ['0in', '1out', 1.0295132000610407],\n",
       "  '0mid1out': ['0mid', '1out', -3.6224019533038305],\n",
       "  '2in0mid': ['2in', '0mid', 0.13514420875934685],\n",
       "  '1mid2out': ['1mid', '2out', -0.2358614375095376],\n",
       "  '1mid0mid': ['1mid', '0mid', -3.6746528307645354]}}"
      ]
     },
     "execution_count": 37,
     "metadata": {},
     "output_type": "execute_result"
    }
   ],
   "source": [
    "dic"
   ]
  },
  {
   "cell_type": "markdown",
   "id": "69161a40",
   "metadata": {},
   "source": [
    "## brain generator"
   ]
  },
  {
   "cell_type": "code",
   "execution_count": 38,
   "id": "6625f189",
   "metadata": {},
   "outputs": [],
   "source": [
    "edges = dic[1]\n",
    "\n",
    "brain = {}\n",
    "for i in edges:\n",
    "    if 'out' in edges[i][1]:\n",
    "        brain.update({edges[i][1]:{}})"
   ]
  },
  {
   "cell_type": "code",
   "execution_count": 39,
   "id": "dcc58bd2",
   "metadata": {},
   "outputs": [
    {
     "data": {
      "text/plain": [
       "{'2out': {}, '1out': {}, '0out': {}}"
      ]
     },
     "execution_count": 39,
     "metadata": {},
     "output_type": "execute_result"
    }
   ],
   "source": [
    "brain"
   ]
  },
  {
   "cell_type": "code",
   "execution_count": 40,
   "id": "acfc2e31",
   "metadata": {},
   "outputs": [
    {
     "name": "stdout",
     "output_type": "stream",
     "text": [
      "2out 0in 3.6263085609644437\n",
      "2out 1in -3.767434762704105\n",
      "1mid 1mid 3.9686250572256982\n",
      "1mid 1in -3.1631313902029605\n",
      "2out 1mid -0.6086983061193346\n",
      "2out 2in 1.629421638943995\n",
      "1out 1in 0.17665191515336487\n",
      "1mid 1mid 3.9686250572256982\n",
      "1mid 1in -3.1631313902029605\n",
      "1out 1mid -1.1453685334961086\n",
      "1mid 1mid 3.9686250572256982\n",
      "1mid 1in -3.1631313902029605\n",
      "0out 1mid -1.3364260643979857\n"
     ]
    },
    {
     "data": {
      "text/plain": [
       "{'2out': {'0in': {'w': 3.6263085609644437},\n",
       "  '1in': {'w': -3.767434762704105},\n",
       "  '1mid': {'w': -0.6086983061193346,\n",
       "   '1mid': {'w': 3.9686250572256982},\n",
       "   '1in': {'w': -3.1631313902029605}},\n",
       "  '2in': {'w': 1.629421638943995}},\n",
       " '1out': {'1in': {'w': 0.17665191515336487},\n",
       "  '1mid': {'w': -1.1453685334961086,\n",
       "   '1mid': {'w': 3.9686250572256982},\n",
       "   '1in': {'w': -3.1631313902029605}}},\n",
       " '0out': {'1mid': {'w': -1.3364260643979857,\n",
       "   '1mid': {'w': 3.9686250572256982},\n",
       "   '1in': {'w': -3.1631313902029605}}}}"
      ]
     },
     "execution_count": 40,
     "metadata": {},
     "output_type": "execute_result"
    }
   ],
   "source": [
    "def mid_neuron(brain, edges):\n",
    "    for key in brain:\n",
    "        for pair in edges:\n",
    "            item = edges[pair]\n",
    "            if key == item[1] and 'mid' in item[0] and key != item[0]:\n",
    "                brain[key].update({item[0]: {'w':item[2]}})\n",
    "                mid_neuron(brain[key], edges)\n",
    "                print(key,item[0],item[2])\n",
    "            elif key == item[1] and 'mid' in item[0] and key == item[0]:\n",
    "                brain[key].update({item[0]:{'w':item[2]}})\n",
    "                print(key,item[0],item[2])\n",
    "            elif key == item[1] and 'mid' not in item[0]:\n",
    "                brain[key].update({item[0]:{'w':item[2]}})\n",
    "                print(key,item[0],item[2])\n",
    "                \n",
    "mid_neuron(brain, edges)\n",
    "brain"
   ]
  },
  {
   "cell_type": "code",
   "execution_count": 49,
   "id": "ff6e6cac",
   "metadata": {},
   "outputs": [
    {
     "data": {
      "text/plain": [
       "{'w': -0.6086983061193346,\n",
       " '1mid': {'w': 3.9686250572256982},\n",
       " '1in': {'w': -3.1631313902029605}}"
      ]
     },
     "execution_count": 49,
     "metadata": {},
     "output_type": "execute_result"
    }
   ],
   "source": [
    "brain.get('2out').get('1mid')"
   ]
  },
  {
   "cell_type": "code",
   "execution_count": null,
   "id": "b4d60b10",
   "metadata": {},
   "outputs": [],
   "source": []
  },
  {
   "cell_type": "code",
   "execution_count": null,
   "id": "27994d79",
   "metadata": {},
   "outputs": [],
   "source": []
  },
  {
   "cell_type": "code",
   "execution_count": 8,
   "id": "2c3e5a25",
   "metadata": {
    "scrolled": true
   },
   "outputs": [
    {
     "name": "stdout",
     "output_type": "stream",
     "text": [
      "if 0out {'1mid': {'w': -0.9322142530138867, '0in': {'w': -1.3670685182359226}}, '2in': {'w': 2.8326567984129407}}\n",
      "if 2out {'1in': {'w': 1.8580802685792768}, '2in': {'w': 2.509507095986571}}\n",
      "else 1out {'1mid': {'w': 2.574820692812452, '0in': {'w': -1.3670685182359226}}}\n"
     ]
    }
   ],
   "source": [
    "def analyze_brain(brain):\n",
    "    for k, v in brain.items():\n",
    "        if isinstance(v, dict) and len(v) >= 2:\n",
    "            print('if', k, v)\n",
    "#             analyze_brain(brain)\n",
    "        else:\n",
    "            print('else', k, v)\n",
    "            \n",
    "analyze_brain(brain)"
   ]
  },
  {
   "cell_type": "markdown",
   "id": "c0bf6b4b",
   "metadata": {},
   "source": [
    "get dictionary depth  \n",
    "https://stackoverflow.com/questions/23499017/know-the-depth-of-a-dictionary\n",
    "https://www.tutorialspoint.com/find-depth-of-a-dictionary-in-python"
   ]
  },
  {
   "cell_type": "markdown",
   "id": "ec147961",
   "metadata": {},
   "source": [
    "https://stackoverflow.com/questions/47265412/custom-connections-between-layers-keras"
   ]
  }
 ],
 "metadata": {
  "kernelspec": {
   "display_name": "Python 3 (ipykernel)",
   "language": "python",
   "name": "python3"
  },
  "language_info": {
   "codemirror_mode": {
    "name": "ipython",
    "version": 3
   },
   "file_extension": ".py",
   "mimetype": "text/x-python",
   "name": "python",
   "nbconvert_exporter": "python",
   "pygments_lexer": "ipython3",
   "version": "3.9.7"
  }
 },
 "nbformat": 4,
 "nbformat_minor": 5
}
