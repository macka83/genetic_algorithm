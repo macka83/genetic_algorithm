{
 "cells": [
  {
   "cell_type": "markdown",
   "id": "6499aef8",
   "metadata": {
    "ExecuteTime": {
     "end_time": "2022-06-28T19:40:02.442018Z",
     "start_time": "2022-06-28T19:40:00.122777Z"
    }
   },
   "source": [
    "!jt -t chesterish\n",
    "# !jt -r"
   ]
  },
  {
   "cell_type": "code",
   "execution_count": 7,
   "id": "07647a75",
   "metadata": {
    "ExecuteTime": {
     "end_time": "2022-08-18T13:50:27.702499Z",
     "start_time": "2022-08-18T13:50:26.718811Z"
    }
   },
   "outputs": [],
   "source": [
    "from genetic_algorithm import *\n",
    "from movement import *\n",
    "from numpy.random import default_rng\n",
    "import pickle\n",
    "\n",
    "import binascii\n",
    "\n",
    "\n",
    "import matplotlib.pyplot as plt\n",
    "import math\n",
    "from matplotlib.animation import FuncAnimation\n",
    "# %matplotlib notebook\n",
    "\n",
    "import copy\n",
    "from collections import Counter\n",
    "import pandas as pd"
   ]
  },
  {
   "cell_type": "code",
   "execution_count": 8,
   "id": "89c5b605",
   "metadata": {
    "ExecuteTime": {
     "end_time": "2022-08-18T13:50:27.717944Z",
     "start_time": "2022-08-18T13:50:27.702499Z"
    }
   },
   "outputs": [],
   "source": [
    "## hexadecimal generator\n",
    "\n",
    "nr_of_input = 2\n",
    "nr_of_actions = 5\n",
    "nr_of_inner = 2\n",
    "nr_of_genes = 8\n",
    "nr_individuals = 600\n",
    "\n",
    "nr_of_generations = 100\n",
    "\n",
    "## world size\n",
    "world_size = 100\n",
    "world_size_x = world_size\n",
    "world_size_y = world_size"
   ]
  },
  {
   "cell_type": "markdown",
   "id": "531da81b",
   "metadata": {},
   "source": [
    "## generations"
   ]
  },
  {
   "cell_type": "code",
   "execution_count": null,
   "id": "6acb13d2",
   "metadata": {},
   "outputs": [],
   "source": [
    "# for gen_nr in range(nr_of_generations):\n",
    "#     print(gen_nr)\n",
    "#     if gen_nr == 0:\n",
    "#         result = initial_population(nr_individuals, nr_of_genes, nr_of_input, nr_of_actions, nr_of_inner, world_size)\n",
    "#         result, a,b,c,d,e = steps_in_generation(world_size*1.2, result, world_size_x, world_size_y)\n",
    "#         print(a,b,c,d,e)"
   ]
  },
  {
   "cell_type": "code",
   "execution_count": 9,
   "id": "33949ec2",
   "metadata": {
    "ExecuteTime": {
     "end_time": "2022-08-18T13:52:11.586109Z",
     "start_time": "2022-08-18T13:50:27.719929Z"
    },
    "scrolled": true
   },
   "outputs": [
    {
     "name": "stdout",
     "output_type": "stream",
     "text": [
      "0\n"
     ]
    },
    {
     "ename": "AttributeError",
     "evalue": "'tuple' object has no attribute 'update'",
     "output_type": "error",
     "traceback": [
      "\u001b[1;31m---------------------------------------------------------------------------\u001b[0m",
      "\u001b[1;31mAttributeError\u001b[0m                            Traceback (most recent call last)",
      "\u001b[1;32m~\\AppData\\Local\\Temp\\ipykernel_8172\\18160954.py\u001b[0m in \u001b[0;36m<module>\u001b[1;34m\u001b[0m\n\u001b[0;32m     12\u001b[0m             \u001b[0mresult\u001b[0m \u001b[1;33m=\u001b[0m \u001b[0mnext_generation\u001b[0m\u001b[1;33m(\u001b[0m\u001b[0mresult\u001b[0m\u001b[1;33m,\u001b[0m\u001b[0mnr_of_input\u001b[0m\u001b[1;33m,\u001b[0m \u001b[0mnr_of_actions\u001b[0m\u001b[1;33m,\u001b[0m \u001b[0mnr_of_inner\u001b[0m\u001b[1;33m,\u001b[0m \u001b[0mworld_size\u001b[0m\u001b[1;33m,\u001b[0m \u001b[0mnr_individuals\u001b[0m\u001b[1;33m)\u001b[0m\u001b[1;33m\u001b[0m\u001b[1;33m\u001b[0m\u001b[0m\n\u001b[0;32m     13\u001b[0m             \u001b[0mresult\u001b[0m \u001b[1;33m=\u001b[0m \u001b[0msteps_in_generation\u001b[0m\u001b[1;33m(\u001b[0m\u001b[0mworld_size\u001b[0m\u001b[1;33m*\u001b[0m\u001b[1;36m1.2\u001b[0m\u001b[1;33m,\u001b[0m \u001b[0mresult\u001b[0m\u001b[1;33m,\u001b[0m \u001b[0mworld_size_x\u001b[0m\u001b[1;33m,\u001b[0m \u001b[0mworld_size_y\u001b[0m\u001b[1;33m)\u001b[0m\u001b[1;33m\u001b[0m\u001b[1;33m\u001b[0m\u001b[0m\n\u001b[1;32m---> 14\u001b[1;33m     \u001b[0mresult\u001b[0m\u001b[1;33m.\u001b[0m\u001b[0mupdate\u001b[0m\u001b[1;33m(\u001b[0m\u001b[0mresult\u001b[0m\u001b[1;33m)\u001b[0m\u001b[1;33m\u001b[0m\u001b[1;33m\u001b[0m\u001b[0m\n\u001b[0m\u001b[0;32m     15\u001b[0m \u001b[1;33m\u001b[0m\u001b[0m\n\u001b[0;32m     16\u001b[0m     \u001b[0mdic_color\u001b[0m \u001b[1;33m=\u001b[0m \u001b[1;33m{\u001b[0m\u001b[1;33m}\u001b[0m\u001b[1;33m\u001b[0m\u001b[1;33m\u001b[0m\u001b[0m\n",
      "\u001b[1;31mAttributeError\u001b[0m: 'tuple' object has no attribute 'update'"
     ]
    }
   ],
   "source": [
    "time_list = []\n",
    "result = {}\n",
    "for gen_nr in range(nr_of_generations):\n",
    "    print(gen_nr)\n",
    "    if gen_nr == 0:\n",
    "        result = initial_population(nr_individuals, nr_of_genes, nr_of_input, nr_of_actions, nr_of_inner, world_size)\n",
    "        result = steps_in_generation(world_size*1.2, result, world_size_x, world_size_y)\n",
    "    else:\n",
    "        \n",
    "        result = asexual_reproduction_and_mutation(world_size, result, nr_individuals)\n",
    "        if result:\n",
    "            result = next_generation(result,nr_of_input, nr_of_actions, nr_of_inner, world_size, nr_individuals)\n",
    "            result = steps_in_generation(world_size*1.2, result, world_size_x, world_size_y)\n",
    "    result.update(result)\n",
    "    \n",
    "    dic_color = {}\n",
    "    for indiv in result:\n",
    "        rgb_colors = list(map(hex_to_rgb, result[indiv]['genome']))\n",
    "        color = tuple(pd.DataFrame(rgb_colors).median()) \n",
    "        dic_color[indiv] = color\n",
    "        \n",
    "    coords = generate_dictionary_of_coords(result, world_size*2, dic_color)\n",
    "    \n",
    "    def update(i):\n",
    "        ax.clear()\n",
    "        ax.set_facecolor(plt.cm.Blues(.2))\n",
    "\n",
    "        ax.set_xlim([0,world_size_x])\n",
    "        ax.set_ylim([0,world_size_y])\n",
    "        ax.set_title('moving')\n",
    "        ax.scatter(x=coords[i]['x'],y=coords[i]['y'], c=coords[i]['color'], s=20, marker='o')\n",
    "        [spine.set_visible(False) for spine in ax.spines.values()]\n",
    "\n",
    "\n",
    "    fig, ax = plt.subplots(figsize=(6,6))\n",
    "    myAnimation = FuncAnimation(\n",
    "        fig = fig,\n",
    "        func = update,\n",
    "        frames = len(coords),\n",
    "        interval = 10, repeat=False\n",
    "    )\n",
    "    myAnimation.save(f'./output/generation-{gen_nr}.gif', writer='imagemagick' , fps=10)\n",
    "    # create a binary pickle file \n",
    "    f = open(f'./output/generation-{gen_nr}.pkl',\"wb\")\n",
    "    pickle.dump(result, f)\n",
    "    f.close()"
   ]
  },
  {
   "cell_type": "code",
   "execution_count": 58,
   "id": "ca6925d6",
   "metadata": {},
   "outputs": [],
   "source": [
    "def steps_in_generation(result, world_size_x, world_size_y, n):\n",
    "    for indiv in result:\n",
    "        position = result[indiv]['position']\n",
    "        x, y = position[-1][0], position[-1][1]\n",
    "        if n<1:\n",
    "            calculate_position(result, indiv, x, y, world_size_x, world_size_y)\n",
    "\n",
    "        elif n >= 1:\n",
    "            apply_input(result, indiv)\n",
    "            calculate_position(result, indiv, x, y, world_size_x, world_size_y)\n",
    "\n",
    "        # prevent_overlap_movement(last_pos_list, result)\n",
    "        for prev in sorted(result.keys()): \n",
    "            if prev != indiv and result[prev]['position'][-1] == position[-1]:\n",
    "                position[-1] = position[-2]\n"
   ]
  },
  {
   "cell_type": "code",
   "execution_count": 10,
   "id": "2b2968b6",
   "metadata": {},
   "outputs": [
    {
     "name": "stdout",
     "output_type": "stream",
     "text": [
      "0\n",
      "1\n"
     ]
    },
    {
     "ename": "KeyboardInterrupt",
     "evalue": "",
     "output_type": "error",
     "traceback": [
      "\u001b[1;31m---------------------------------------------------------------------------\u001b[0m",
      "\u001b[1;31mKeyboardInterrupt\u001b[0m                         Traceback (most recent call last)",
      "\u001b[1;32m~\\AppData\\Local\\Temp\\ipykernel_8172\\2493411749.py\u001b[0m in \u001b[0;36m<module>\u001b[1;34m\u001b[0m\n\u001b[0;32m      8\u001b[0m         \u001b[1;32mif\u001b[0m \u001b[0mresult\u001b[0m\u001b[1;33m:\u001b[0m\u001b[1;33m\u001b[0m\u001b[1;33m\u001b[0m\u001b[0m\n\u001b[0;32m      9\u001b[0m             \u001b[0mresult\u001b[0m \u001b[1;33m=\u001b[0m \u001b[0mnext_generation\u001b[0m\u001b[1;33m(\u001b[0m\u001b[0mresult\u001b[0m\u001b[1;33m,\u001b[0m\u001b[0mnr_of_input\u001b[0m\u001b[1;33m,\u001b[0m \u001b[0mnr_of_actions\u001b[0m\u001b[1;33m,\u001b[0m \u001b[0mnr_of_inner\u001b[0m\u001b[1;33m,\u001b[0m \u001b[0mworld_size\u001b[0m\u001b[1;33m,\u001b[0m \u001b[0mnr_individuals\u001b[0m\u001b[1;33m)\u001b[0m\u001b[1;33m\u001b[0m\u001b[1;33m\u001b[0m\u001b[0m\n\u001b[1;32m---> 10\u001b[1;33m             \u001b[0msteps_in_generation\u001b[0m\u001b[1;33m(\u001b[0m\u001b[0mworld_size\u001b[0m\u001b[1;33m*\u001b[0m\u001b[1;36m1.2\u001b[0m\u001b[1;33m,\u001b[0m \u001b[0mresult\u001b[0m\u001b[1;33m,\u001b[0m \u001b[0mworld_size_x\u001b[0m\u001b[1;33m,\u001b[0m \u001b[0mworld_size_y\u001b[0m\u001b[1;33m)\u001b[0m\u001b[1;33m\u001b[0m\u001b[1;33m\u001b[0m\u001b[0m\n\u001b[0m",
      "\u001b[1;32m~\\GitHub\\genetic_algorithm\\movement.py\u001b[0m in \u001b[0;36msteps_in_generation\u001b[1;34m(world_size, result, world_size_x, world_size_y)\u001b[0m\n\u001b[0;32m     35\u001b[0m             \u001b[1;31m# prevent_overlap_movement(last_pos_list, result)\u001b[0m\u001b[1;33m\u001b[0m\u001b[1;33m\u001b[0m\u001b[0m\n\u001b[0;32m     36\u001b[0m             \u001b[1;32mfor\u001b[0m \u001b[0mprev\u001b[0m \u001b[1;32min\u001b[0m \u001b[0msorted\u001b[0m\u001b[1;33m(\u001b[0m\u001b[0mresult\u001b[0m\u001b[1;33m.\u001b[0m\u001b[0mkeys\u001b[0m\u001b[1;33m(\u001b[0m\u001b[1;33m)\u001b[0m\u001b[1;33m)\u001b[0m\u001b[1;33m:\u001b[0m\u001b[1;33m\u001b[0m\u001b[1;33m\u001b[0m\u001b[0m\n\u001b[1;32m---> 37\u001b[1;33m                 \u001b[1;32mif\u001b[0m \u001b[0mprev\u001b[0m \u001b[1;33m!=\u001b[0m \u001b[0mindiv\u001b[0m \u001b[1;32mand\u001b[0m \u001b[0mresult\u001b[0m\u001b[1;33m[\u001b[0m\u001b[0mprev\u001b[0m\u001b[1;33m]\u001b[0m\u001b[1;33m[\u001b[0m\u001b[1;34m'position'\u001b[0m\u001b[1;33m]\u001b[0m\u001b[1;33m[\u001b[0m\u001b[1;33m-\u001b[0m\u001b[1;36m1\u001b[0m\u001b[1;33m]\u001b[0m \u001b[1;33m==\u001b[0m \u001b[0mresult\u001b[0m\u001b[1;33m[\u001b[0m\u001b[0mindiv\u001b[0m\u001b[1;33m]\u001b[0m\u001b[1;33m[\u001b[0m\u001b[1;34m'position'\u001b[0m\u001b[1;33m]\u001b[0m\u001b[1;33m[\u001b[0m\u001b[1;33m-\u001b[0m\u001b[1;36m1\u001b[0m\u001b[1;33m]\u001b[0m\u001b[1;33m:\u001b[0m\u001b[1;33m\u001b[0m\u001b[1;33m\u001b[0m\u001b[0m\n\u001b[0m\u001b[0;32m     38\u001b[0m                     \u001b[0mresult\u001b[0m\u001b[1;33m[\u001b[0m\u001b[0mindiv\u001b[0m\u001b[1;33m]\u001b[0m\u001b[1;33m[\u001b[0m\u001b[1;34m'position'\u001b[0m\u001b[1;33m]\u001b[0m\u001b[1;33m[\u001b[0m\u001b[1;33m-\u001b[0m\u001b[1;36m1\u001b[0m\u001b[1;33m]\u001b[0m \u001b[1;33m=\u001b[0m \u001b[0mresult\u001b[0m\u001b[1;33m[\u001b[0m\u001b[0mindiv\u001b[0m\u001b[1;33m]\u001b[0m\u001b[1;33m[\u001b[0m\u001b[1;34m'position'\u001b[0m\u001b[1;33m]\u001b[0m\u001b[1;33m[\u001b[0m\u001b[1;33m-\u001b[0m\u001b[1;36m2\u001b[0m\u001b[1;33m]\u001b[0m\u001b[1;33m\u001b[0m\u001b[1;33m\u001b[0m\u001b[0m\n\u001b[0;32m     39\u001b[0m \u001b[1;33m\u001b[0m\u001b[0m\n",
      "\u001b[1;31mKeyboardInterrupt\u001b[0m: "
     ]
    }
   ],
   "source": [
    "for gen_nr in range(nr_of_generations):\n",
    "    print(gen_nr)\n",
    "    if gen_nr == 0:\n",
    "        s0 = time.time()\n",
    "        result = initial_population(nr_individuals, nr_of_genes, nr_of_input, nr_of_actions, nr_of_inner, world_size)\n",
    "        steps_in_generation(world_size*1.2, result, world_size_x, world_size_y)\n",
    "        e0 = time.time()\n",
    "    else:\n",
    "        s1 = time.time()\n",
    "        result = asexual_reproduction_and_mutation(world_size, result, nr_individuals)\n",
    "        if result:\n",
    "            result = next_generation(result,nr_of_input, nr_of_actions, nr_of_inner, world_size, nr_individuals)\n",
    "            steps_in_generation(world_size*1.2, result, world_size_x, world_size_y)\n",
    "        e1 = time.time()\n",
    "    print(s1-s0)"
   ]
  },
  {
   "cell_type": "code",
   "execution_count": 4,
   "id": "c07cfa7d",
   "metadata": {
    "scrolled": true
   },
   "outputs": [],
   "source": [
    "def steps_in_generation(world_size, result, world_size_x, world_size_y):\n",
    "    n = 0\n",
    "    while  world_size>n:\n",
    "        for indiv in result:\n",
    "            x, y = result[indiv]['position'][-1][0], result[indiv]['position'][-1][1]\n",
    "            if n<1:\n",
    "                calculate_position(result, indiv, x, y, world_size_x, world_size_y)\n",
    "            elif n >= 1:\n",
    "                apply_input(result, indiv)\n",
    "                calculate_position(result, indiv, x, y, world_size_x, world_size_y)\n",
    "            # prevent_overlap_movement(last_pos_list, result)\n",
    "            for prev in sorted(result.keys()): \n",
    "                if prev != indiv and result[prev]['position'][-1] == result[indiv]['position'][-1]:\n",
    "                    result[indiv]['position'][-1] = result[indiv]['position'][-2]\n",
    "        n += 1\n",
    "    yield result"
   ]
  },
  {
   "cell_type": "code",
   "execution_count": 5,
   "id": "8f3a7386",
   "metadata": {},
   "outputs": [],
   "source": [
    "rr = steps_in_generation(world_size, result, world_size_x, world_size_y)"
   ]
  },
  {
   "cell_type": "code",
   "execution_count": null,
   "id": "30cc267b",
   "metadata": {},
   "outputs": [],
   "source": []
  }
 ],
 "metadata": {
  "kernelspec": {
   "display_name": "Python 3 (ipykernel)",
   "language": "python",
   "name": "python3"
  },
  "language_info": {
   "codemirror_mode": {
    "name": "ipython",
    "version": 3
   },
   "file_extension": ".py",
   "mimetype": "text/x-python",
   "name": "python",
   "nbconvert_exporter": "python",
   "pygments_lexer": "ipython3",
   "version": "3.9.15"
  }
 },
 "nbformat": 4,
 "nbformat_minor": 5
}
