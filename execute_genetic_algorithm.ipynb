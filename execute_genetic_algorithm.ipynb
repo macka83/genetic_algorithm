{
 "cells": [
  {
   "cell_type": "code",
   "execution_count": 148,
   "id": "64e1e30b",
   "metadata": {
    "ExecuteTime": {
     "end_time": "2022-05-29T13:05:39.957027Z",
     "start_time": "2022-05-29T13:05:39.931004Z"
    }
   },
   "outputs": [],
   "source": [
    "from genetic_algorithm import *\n",
    "import re\n",
    "import json\n",
    "import numpy as np\n",
    "from numpy.random import default_rng\n",
    "from collections import Counter\n",
    "import copy\n",
    "import matplotlib.pyplot as plt\n",
    "from itertools import groupby"
   ]
  },
  {
   "cell_type": "markdown",
   "id": "a4aa7361",
   "metadata": {},
   "source": [
    "## hexadecimal generator"
   ]
  },
  {
   "cell_type": "code",
   "execution_count": 104,
   "id": "e85a93ac",
   "metadata": {
    "ExecuteTime": {
     "end_time": "2022-05-27T20:01:01.782792Z",
     "start_time": "2022-05-27T20:01:01.735730Z"
    }
   },
   "outputs": [],
   "source": [
    "nr_of_input = 3\n",
    "nr_of_actions = 3\n",
    "nr_of_inner = 3\n",
    "nr_of_genes = 16\n",
    "nr_individuals = 4\n",
    "\n",
    "individuals = generate_initial_genomes_for_population(nr_individuals, nr_of_genes, nr_of_input, nr_of_actions, nr_of_inner)"
   ]
  },
  {
   "cell_type": "code",
   "execution_count": 105,
   "id": "153d2d10",
   "metadata": {
    "ExecuteTime": {
     "end_time": "2022-05-27T20:01:01.798304Z",
     "start_time": "2022-05-27T20:01:01.784347Z"
    }
   },
   "outputs": [],
   "source": [
    "## world size\n",
    "world_size_x = 128\n",
    "world_size_y = 128\n",
    "\n",
    "rng = default_rng()\n",
    "x = rng.choice(world_size_x, size=nr_individuals, replace=False)\n",
    "y = rng.choice(world_size_y, size=nr_individuals, replace=False)\n"
   ]
  },
  {
   "cell_type": "code",
   "execution_count": 106,
   "id": "688473c6",
   "metadata": {},
   "outputs": [],
   "source": [
    "individuals_sum_dup = sum_duplicated_neurons(individuals)"
   ]
  },
  {
   "cell_type": "code",
   "execution_count": 107,
   "id": "b2cfeea8",
   "metadata": {},
   "outputs": [
    {
     "data": {
      "text/plain": [
       "{0: {'mid1mid0': ['mid1', 'mid0', 1.13486952540821],\n",
       "  'mid1out0': ['mid1', 'out0', 2.3404242331756446],\n",
       "  'in2mid2': ['in2', 'mid2', 1.2403479322447735],\n",
       "  'mid2mid0': ['mid2', 'mid0', -2.447978025331909],\n",
       "  'mid2mid2': ['mid2', 'mid2', 1.6388219136273463],\n",
       "  'mid2mid1': ['mid2', 'mid1', 1.250846940332672],\n",
       "  'in0mid0': ['in0', 'mid0', 3.156538989775675],\n",
       "  'mid1out1': ['mid1', 'out1', -3.569296505417366],\n",
       "  'in0out1': ['in0', 'out1', -3.273004730657714],\n",
       "  'mid2out0': ['mid2', 'out0', -3.7868457195177783],\n",
       "  'mid0mid1': ['mid0', 'mid1', 3.0093087135663055],\n",
       "  'mid0out2': ['mid0', 'out2', -2.1627956661071264],\n",
       "  'in1mid1': ['in1', 'mid1', 2.3538531970090033],\n",
       "  'in0out2': ['in0', 'out2', 3.043125286128491]},\n",
       " 1: {'mid2out1': ['mid2', 'out1', -3.156172745307493],\n",
       "  'in2mid1': ['in2', 'mid1', 1.2403479322447735],\n",
       "  'mid2out0': ['mid2', 'out0', -1.5421333740271632],\n",
       "  'mid1mid1': ['mid1', 'mid1', -2.569449107279109],\n",
       "  'mid0out1': ['mid0', 'out1', -2.9427743018464825],\n",
       "  'in0mid1': ['in0', 'mid1', 1.1351136883869983],\n",
       "  'mid2mid0': ['mid2', 'mid0', -3.5945673737219592],\n",
       "  'mid0out2': ['mid0', 'out2', 0.16481001068213033],\n",
       "  'in2mid2': ['in2', 'mid2', -2.2349458263390813],\n",
       "  'in1out0': ['in1', 'out0', -3.270807263848619],\n",
       "  'mid1out2': ['mid1', 'out2', 3.4185258660155653],\n",
       "  'in2out1': ['in2', 'out1', -0.8907065466198688],\n",
       "  'mid0mid0': ['mid0', 'mid0', 3.7198229818403785],\n",
       "  'in0mid2': ['in0', 'mid2', -2.3001373416755686]},\n",
       " 2: {'mid0mid2': ['mid0', 'mid2', -2.85634060735541],\n",
       "  'mid2mid2': ['mid2', 'mid2', 3.6724553639554403],\n",
       "  'in1out1': ['in1', 'out1', 2.2930566152907064],\n",
       "  'in1mid2': ['in1', 'mid2', -0.8036624446818251],\n",
       "  'in0out0': ['in0', 'out0', -3.4303677704868],\n",
       "  'mid1out2': ['mid1', 'out2', 2.3068518235922477],\n",
       "  'mid0out1': ['mid0', 'out1', 0.9142682740729436],\n",
       "  'in0out2': ['in0', 'out2', 2.768686097970395],\n",
       "  'mid1mid0': ['mid1', 'mid0', -0.314848161147566],\n",
       "  'mid0mid0': ['mid0', 'mid0', -2.081855638638791],\n",
       "  'mid0out2': ['mid0', 'out2', 2.290737066992217],\n",
       "  'in1mid0': ['in1', 'mid0', 1.185655424996185],\n",
       "  'in0mid1': ['in0', 'mid1', 2.1083473218373263]},\n",
       " 3: {'mid2out2': ['mid2', 'out2', 2.781260491377995],\n",
       "  'in0mid1': ['in0', 'mid1', 2.6107126506943383],\n",
       "  'in1mid0': ['in1', 'mid0', -0.5662139478101633],\n",
       "  'in2out2': ['in2', 'out2', -0.7702121165878224],\n",
       "  'in2mid0': ['in2', 'mid0', 0.7963375553181749],\n",
       "  'in1mid2': ['in1', 'mid2', -1.6290553944758126],\n",
       "  'mid2mid0': ['mid2', 'mid0', 2.0595147260796582],\n",
       "  'mid0out0': ['mid0', 'out0', 0.44828322905539447],\n",
       "  'in0mid0': ['in0', 'mid0', -3.914787120402869],\n",
       "  'mid1out0': ['mid1', 'out0', 1.1159468945521136],\n",
       "  'mid2out1': ['mid2', 'out1', 3.1503128338165727]}}"
      ]
     },
     "execution_count": 107,
     "metadata": {},
     "output_type": "execute_result"
    }
   ],
   "source": [
    "individuals_sum_dup"
   ]
  },
  {
   "cell_type": "markdown",
   "id": "97385a42",
   "metadata": {},
   "source": [
    "## initial brain and position generator"
   ]
  },
  {
   "cell_type": "code",
   "execution_count": 5,
   "id": "8611dba8",
   "metadata": {},
   "outputs": [
    {
     "name": "stdout",
     "output_type": "stream",
     "text": [
      "0\n",
      "dic_list_plus_weight {'mid0': {'mid1': -2.308194719975584, 'mid0': 0.95309018770029, 'in0': -3.715672211200977}, 'mid1': 0.9895215628286798, 'out1': {'mid0': 1.3575461620631772}}\n",
      "dic_list_plus_weight {'mid0': {'mid1': -2.308194719975584, 'mid0': 0.95309018770029, 'in0': -3.715672211200977}, 'mid1': 0.9895215628286798, 'out0': {'in1': -3.0837784220967497, 'mid0': -2.6151075843125287, 'in2': -2.4857012055547076}}\n",
      "dic_list_plus_weight {'mid0': {'mid1': -2.308194719975584, 'mid0': 0.95309018770029, 'in0': -3.715672211200977}, 'mid1': 0.9895215628286798, 'out2': {'mid0': 1.3311765603540364}}\n",
      "\n",
      "1\n",
      "dic_list_plus_weight {'mid0': {'mid1': 0.6427590416603083, 'mid0': 1.0666259728368686, 'mid2': 1.8130321989928277}, 'mid1': {'in0': 2.1298336639707003, 'mid0': 1.3155501297115826}, 'mid2': {'mid1': -1.8760262475202198, 'in2': 2.867816267358462, 'mid2': -2.1082252403479322}, 'out1': {'mid0': 1.365969784831375, 'mid1': 0.9870288417518693}}\n"
     ]
    },
    {
     "ename": "TypeError",
     "evalue": "unsupported operand type(s) for +=: 'float' and 'dict'",
     "output_type": "error",
     "traceback": [
      "\u001b[1;31m---------------------------------------------------------------------------\u001b[0m",
      "\u001b[1;31mTypeError\u001b[0m                                 Traceback (most recent call last)",
      "Input \u001b[1;32mIn [5]\u001b[0m, in \u001b[0;36m<cell line: 7>\u001b[1;34m()\u001b[0m\n\u001b[0;32m     23\u001b[0m     dic_of_paths \u001b[38;5;241m=\u001b[39m generate_dict_of_paths(out_list, init_list, G)\n\u001b[0;32m     25\u001b[0m     lis \u001b[38;5;241m=\u001b[39m filtered_neurons_paths(dic_of_paths)\n\u001b[1;32m---> 27\u001b[0m     dic \u001b[38;5;241m=\u001b[39m \u001b[43mappend_weight_to_neurons_in_path\u001b[49m\u001b[43m(\u001b[49m\u001b[43mlis\u001b[49m\u001b[43m,\u001b[49m\u001b[43m \u001b[49m\u001b[43medges_no_weight\u001b[49m\u001b[43m,\u001b[49m\u001b[43m \u001b[49m\u001b[43medges\u001b[49m\u001b[43m)\u001b[49m\n\u001b[0;32m     28\u001b[0m \u001b[38;5;66;03m#     print(dic)\u001b[39;00m\n\u001b[0;32m     29\u001b[0m     \n\u001b[0;32m     30\u001b[0m         \n\u001b[0;32m     31\u001b[0m         \n\u001b[0;32m     32\u001b[0m \n\u001b[0;32m     33\u001b[0m \u001b[38;5;66;03m#     print(dic)\u001b[39;00m\n\u001b[0;32m     34\u001b[0m     \u001b[38;5;28mprint\u001b[39m()\n",
      "File \u001b[1;32m~\\Documents\\genetic_algorithm\\genetic_algorithm.py:345\u001b[0m, in \u001b[0;36mappend_weight_to_neurons_in_path\u001b[1;34m(lis, edges_no_weight, edges)\u001b[0m\n\u001b[0;32m    343\u001b[0m         \u001b[38;5;28mprint\u001b[39m(\u001b[38;5;124m'\u001b[39m\u001b[38;5;124mdic_list_plus_weight\u001b[39m\u001b[38;5;124m'\u001b[39m, dic_list_plus_weight)\n\u001b[0;32m    344\u001b[0m \u001b[38;5;66;03m#         for out_key in dic_list_plus_weight:\u001b[39;00m\n\u001b[1;32m--> 345\u001b[0m         \u001b[43mout_to_weight\u001b[49m\u001b[43m(\u001b[49m\u001b[43mdic_list_plus_weight\u001b[49m\u001b[43m)\u001b[49m\n\u001b[0;32m    346\u001b[0m         remove_mid_from_dict(dic_list_plus_weight)\n\u001b[0;32m    349\u001b[0m         dic[out] \u001b[38;5;241m=\u001b[39m dic_list_plus_weight\n",
      "File \u001b[1;32m~\\Documents\\genetic_algorithm\\genetic_algorithm.py:256\u001b[0m, in \u001b[0;36mout_to_weight\u001b[1;34m(dic)\u001b[0m\n\u001b[0;32m    254\u001b[0m \u001b[38;5;28;01mfor\u001b[39;00m sub_key \u001b[38;5;129;01min\u001b[39;00m dic[key]:\n\u001b[0;32m    255\u001b[0m     \u001b[38;5;28;01mif\u001b[39;00m \u001b[38;5;124m'\u001b[39m\u001b[38;5;124mmid\u001b[39m\u001b[38;5;124m'\u001b[39m \u001b[38;5;129;01min\u001b[39;00m sub_key \u001b[38;5;129;01mand\u001b[39;00m sub_key \u001b[38;5;241m!=\u001b[39m key:\n\u001b[1;32m--> 256\u001b[0m         dic[key][sub_key] \u001b[38;5;241m+\u001b[39m\u001b[38;5;241m=\u001b[39m dic[sub_key]\n\u001b[0;32m    258\u001b[0m dic[key] \u001b[38;5;241m=\u001b[39m np\u001b[38;5;241m.\u001b[39mtanh(\u001b[38;5;28msum\u001b[39m(dic[key]\u001b[38;5;241m.\u001b[39mvalues()))\n\u001b[0;32m    259\u001b[0m out_to_weight(dic)\n",
      "\u001b[1;31mTypeError\u001b[0m: unsupported operand type(s) for +=: 'float' and 'dict'"
     ]
    }
   ],
   "source": [
    "initial_dic_of_output_neurons = {}\n",
    "\n",
    "## sum duplicates\n",
    "individuals_sum_dup = sum_duplicated_neurons(individuals)\n",
    "\n",
    "## brain generator\n",
    "for individual in individuals_sum_dup:\n",
    "    \n",
    "    ## init brain neuron generator\n",
    "    print(individual)\n",
    "    ## preprocessing\n",
    "    edges = individuals_sum_dup[individual]\n",
    "    edges = [tuple(edges[i]) for i in edges]\n",
    "    edges_no_weight = [i[:-1] for i in edges]\n",
    "    \n",
    "    G = nx.MultiDiGraph()\n",
    "    G.add_edges_from(edges)\n",
    "    \n",
    "    out_list = list(set([i[1] for i in edges if 'out' in i[1]]))\n",
    "    init_list = list(set([i[0] for i in edges if 'in' in i[0]]))\n",
    "\n",
    "    # generate dict of paths\n",
    "    dic_of_paths = generate_dict_of_paths(out_list, init_list, G)\n",
    "\n",
    "    lis = filtered_neurons_paths(dic_of_paths)\n",
    "    \n",
    "    dic = append_weight_to_neurons_in_path(lis, edges_no_weight, edges)\n",
    "#     print(dic)\n",
    "    \n",
    "        \n",
    "        \n",
    "\n",
    "#     print(dic)\n",
    "    print()"
   ]
  },
  {
   "cell_type": "code",
   "execution_count": 165,
   "id": "fbd7f798",
   "metadata": {},
   "outputs": [],
   "source": [
    "def remove_self_loop(dic):\n",
    "    '''remove neurons if self looped ie: Amid->Bmid, Bmid->Amid'''\n",
    "    for nr in dic:\n",
    "        list_of_dup = []\n",
    "        for key_1 in dic[nr]:\n",
    "            for key_2 in dic[nr]:\n",
    "                if key_1 != key_2 and sorted(key_1) == sorted(key_2):\n",
    "                    list_of_dup.append(sorted([key_1, key_2]))\n",
    "                    \n",
    "        list_of_dup.sort()\n",
    "        list_of_dup\n",
    "        \n",
    "    return dic"
   ]
  },
  {
   "cell_type": "code",
   "execution_count": 166,
   "id": "00c3bf87",
   "metadata": {},
   "outputs": [],
   "source": [
    "d = {'0':{'12':('1','2'),'23': ('2','3'),'34': ('3','4'),'32': ('3','2'), '43': ('4','3')}}\n",
    "a, b= remove_self_loop(d)"
   ]
  },
  {
   "cell_type": "code",
   "execution_count": 170,
   "id": "fa371dbf",
   "metadata": {},
   "outputs": [],
   "source": [
    "b.sort()\n",
    "b = list(b for b,_ in itertools.groupby(b))\n",
    "for i in b:\n",
    "    rand_int = random.randint(0, 1)\n",
    "    del d['0'][i[rand_int]]"
   ]
  },
  {
   "cell_type": "code",
   "execution_count": 171,
   "id": "9b4257a3",
   "metadata": {},
   "outputs": [
    {
     "data": {
      "text/plain": [
       "{'0': {'12': ('1', '2'), '23': ('2', '3'), '34': ('3', '4')}}"
      ]
     },
     "execution_count": 171,
     "metadata": {},
     "output_type": "execute_result"
    }
   ],
   "source": [
    "d"
   ]
  },
  {
   "cell_type": "code",
   "execution_count": null,
   "id": "07669b0e",
   "metadata": {},
   "outputs": [],
   "source": []
  },
  {
   "cell_type": "code",
   "execution_count": null,
   "id": "2aff38fc",
   "metadata": {
    "ExecuteTime": {
     "end_time": "2022-05-27T20:01:01.813305Z",
     "start_time": "2022-05-27T20:01:01.799301Z"
    },
    "scrolled": true
   },
   "outputs": [],
   "source": [
    "initial_dic_of_output_neurons = {}\n",
    "\n",
    "## sum duplicates\n",
    "individuals_sum_dup = sum_duplicated_neurons(individuals)\n",
    "\n",
    "## remove self loops\n",
    "individuals_sum_dup_no_self_loop = remove_self_loop(individuals_sum_dup)\n",
    "\n",
    "## brain generator\n",
    "for individual in individuals_sum_dup_no_self_loop:\n",
    "    \n",
    "    ## init brain neuron generator\n",
    "    \n",
    "    ## preprocessing\n",
    "    edges = individuals_sum_dup_no_self_loop[individual]\n",
    "    edges = [tuple(edges[i]) for i in edges]\n",
    "\n",
    "    remove_mid_with_no_predecessor(edges) \n",
    "    dic = weight_sum_preprocessing(edges)\n",
    "\n",
    "    ## calculate weight sum\n",
    "    mid_to_weight(dic)\n",
    "    out_to_weight(dic)\n",
    "       \n",
    "    dic = {k:v for k, v in dic.items() if 'out' in k}    \n",
    "    \n",
    "    initial_dic_of_output_neurons[individual] = {}\n",
    "    initial_dic_of_output_neurons[individual]['output'] = dic\n",
    "    \n",
    "    ## position\n",
    "#     initial_dic_of_output_neurons[individual]['position'] = {}\n",
    "#     initial_dic_of_output_neurons[individual]['position']['x'] = x[individual]\n",
    "#     initial_dic_of_output_neurons[individual]['position']['y'] = y[individual] \n",
    "    \n",
    "    ## position history\n",
    "    initial_dic_of_output_neurons[individual]['history_position'] = [(x[individual], y[individual])]"
   ]
  },
  {
   "cell_type": "code",
   "execution_count": null,
   "id": "37a4e64d",
   "metadata": {
    "ExecuteTime": {
     "end_time": "2022-05-27T20:01:01.829301Z",
     "start_time": "2022-05-27T20:01:01.814301Z"
    }
   },
   "outputs": [],
   "source": [
    "initial_dic_of_output_neurons"
   ]
  },
  {
   "cell_type": "code",
   "execution_count": null,
   "id": "675d302d",
   "metadata": {
    "ExecuteTime": {
     "end_time": "2022-05-27T20:23:03.597160Z",
     "start_time": "2022-05-27T20:23:03.581159Z"
    }
   },
   "outputs": [],
   "source": [
    "a = [(3, 0),(4,1),(5,2)]"
   ]
  },
  {
   "cell_type": "code",
   "execution_count": null,
   "id": "fb0ff57e",
   "metadata": {
    "ExecuteTime": {
     "end_time": "2022-05-27T20:15:26.036428Z",
     "start_time": "2022-05-27T20:15:26.011830Z"
    }
   },
   "outputs": [],
   "source": [
    "def slope_intercept(x1,y1,x2,y2):\n",
    "    a = (y2 - y1) / (x2 - x1)\n",
    "    b = y1 - a * x1     \n",
    "    return a,b\n",
    "\n",
    "print(slope_intercept(3,0,2,1))"
   ]
  },
  {
   "cell_type": "code",
   "execution_count": null,
   "id": "8ca05899",
   "metadata": {
    "ExecuteTime": {
     "end_time": "2022-05-27T20:22:17.197947Z",
     "start_time": "2022-05-27T20:22:17.180390Z"
    }
   },
   "outputs": [],
   "source": [
    "a"
   ]
  },
  {
   "cell_type": "code",
   "execution_count": null,
   "id": "c09bb447",
   "metadata": {
    "ExecuteTime": {
     "end_time": "2022-05-27T20:23:05.833265Z",
     "start_time": "2022-05-27T20:23:05.820276Z"
    }
   },
   "outputs": [],
   "source": [
    "if a[-2][0] == a[-1][0]:\n",
    "    x = a[-1][0]\n",
    "elif a[-2][0] > a[-1][0]:\n",
    "    x = a[-2][0] + 1\n",
    "elif a[-2][0] < a[-1][0]:\n",
    "    x = a[-2][0] - 1\n",
    "print(x)"
   ]
  },
  {
   "cell_type": "code",
   "execution_count": null,
   "id": "91e7bb9d",
   "metadata": {
    "ExecuteTime": {
     "end_time": "2022-05-27T20:22:29.407155Z",
     "start_time": "2022-05-27T20:22:29.397644Z"
    }
   },
   "outputs": [],
   "source": [
    "a[-2][0]"
   ]
  },
  {
   "cell_type": "code",
   "execution_count": null,
   "id": "89c5b605",
   "metadata": {},
   "outputs": [],
   "source": []
  }
 ],
 "metadata": {
  "kernelspec": {
   "display_name": "Python 3 (ipykernel)",
   "language": "python",
   "name": "python3"
  },
  "language_info": {
   "codemirror_mode": {
    "name": "ipython",
    "version": 3
   },
   "file_extension": ".py",
   "mimetype": "text/x-python",
   "name": "python",
   "nbconvert_exporter": "python",
   "pygments_lexer": "ipython3",
   "version": "3.9.12"
  }
 },
 "nbformat": 4,
 "nbformat_minor": 5
}
