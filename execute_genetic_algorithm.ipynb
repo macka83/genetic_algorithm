{
 "cells": [
  {
   "cell_type": "markdown",
   "id": "6499aef8",
   "metadata": {
    "ExecuteTime": {
     "end_time": "2022-06-28T19:40:02.442018Z",
     "start_time": "2022-06-28T19:40:00.122777Z"
    }
   },
   "source": [
    "!jt -t chesterish\n",
    "# !jt -r"
   ]
  },
  {
   "cell_type": "code",
   "execution_count": 1,
   "id": "07647a75",
   "metadata": {
    "ExecuteTime": {
     "end_time": "2022-06-28T19:46:59.994032Z",
     "start_time": "2022-06-28T19:46:59.988448Z"
    }
   },
   "outputs": [],
   "source": [
    "from genetic_algorithm import *\n",
    "from numpy.random import default_rng\n",
    "import matplotlib.pyplot as plt\n",
    "\n",
    "import copy"
   ]
  },
  {
   "cell_type": "code",
   "execution_count": 2,
   "id": "89c5b605",
   "metadata": {
    "ExecuteTime": {
     "end_time": "2022-06-28T19:47:00.632234Z",
     "start_time": "2022-06-28T19:47:00.601568Z"
    }
   },
   "outputs": [],
   "source": [
    "\n",
    "# ## hexadecimal generator\n",
    "\n",
    "nr_of_input = 2\n",
    "nr_of_actions = 5\n",
    "nr_of_inner = 3\n",
    "nr_of_genes = 16\n",
    "nr_individuals = 4\n",
    "\n",
    "individuals = generate_initial_genomes_for_population(nr_individuals, nr_of_genes, nr_of_input, nr_of_actions, nr_of_inner)\n",
    "\n",
    "## world size\n",
    "world_size_x = 20\n",
    "world_size_y = 20\n",
    "\n",
    "rng = default_rng()\n",
    "x = rng.choice(world_size_x, size=nr_individuals, replace=False)\n",
    "y = rng.choice(world_size_y, size=nr_individuals, replace=False)\n",
    "\n",
    "# ## initial brain and position generator\n",
    "\n",
    "result = calculate_individual_output_weights(individuals)\n",
    "\n",
    "for indiv in result:\n",
    "    result[indiv]['position'] = [[x[indiv], y[indiv]]]"
   ]
  },
  {
   "cell_type": "code",
   "execution_count": 3,
   "id": "42a6aff2",
   "metadata": {},
   "outputs": [
    {
     "data": {
      "text/plain": [
       "{0: {'out': {'out2': 0.0, 'out3': 0.0, 'out0': 0.175, 'out1': 0.998},\n",
       "  'src': {'mid2out2': ['mid2', 'out2', -1.9774759652067755],\n",
       "   'mid0out3': ['mid0', 'out3', -2.9369143903555623],\n",
       "   'mid1mid2': ['mid1', 'mid2', -3.2725164047001374],\n",
       "   'in1out0': ['in1', 'out0', -0.7746070502060125],\n",
       "   'mid1out3': ['mid1', 'out3', -3.453319090492904],\n",
       "   'mid1out1': ['mid1', 'out1', 3.2448039066076606],\n",
       "   'in1out3': ['in1', 'out3', 1.2155653898977568],\n",
       "   'in0out2': ['in0', 'out2', 0.2420875934686403],\n",
       "   'in0mid1': ['in0', 'mid1', 3.697237906302457],\n",
       "   'in1mid2': ['in1', 'mid2', -1.0071722875019076],\n",
       "   'in1out2': ['in1', 'out2', -3.301693880665344],\n",
       "   'in0mid0': ['in0', 'mid0', 3.8073554097359987]},\n",
       "  'in': ['in1', 'in0'],\n",
       "  'position': [[15, 2]]},\n",
       " 1: {'out': {'out0': 0.0, 'out3': 0.482, 'out4': 0.782, 'out1': 0.968},\n",
       "  'src': {'mid2out0': ['mid2', 'out0', -1.5717991759499466],\n",
       "   'in1mid2': ['in1', 'mid2', 3.1252861284907674],\n",
       "   'in1out3': ['in1', 'out3', -0.9593163436593927],\n",
       "   'in0mid2': ['in0', 'mid2', 3.2869220204486496],\n",
       "   'mid1out4': ['mid1', 'out4', -2.4325957576682438],\n",
       "   'mid1mid0': ['mid1', 'mid0', 0.7404242331756448],\n",
       "   'mid2out3': ['mid2', 'out3', 0.24636044559743628],\n",
       "   'in0mid1': ['in0', 'mid1', -0.740668396154433],\n",
       "   'mid2out4': ['mid2', 'out4', -0.33413703647184495],\n",
       "   'mid1out0': ['mid1', 'out0', -2.5489394170608883],\n",
       "   'mid0out4': ['mid0', 'out4', 2.2796276514573477],\n",
       "   'in1mid1': ['in1', 'mid1', 2.472272241721349],\n",
       "   'in1out0': ['in1', 'out0', -0.9422249351442088],\n",
       "   'in1out1': ['in1', 'out1', 1.6990080878986724]},\n",
       "  'in': ['in1', 'in0'],\n",
       "  'position': [[6, 12]]},\n",
       " 2: {'out': {'out1': 0.022, 'out4': 0.029, 'out2': 0.975},\n",
       "  'src': {'in1mid2': ['in1', 'mid2', -3.3264764230123607],\n",
       "   'mid1mid0': ['mid1', 'mid0', 2.044864947352358],\n",
       "   'mid0mid2': ['mid0', 'mid2', -3.7772012818556386],\n",
       "   'mid1out1': ['mid1', 'out1', -1.968564016481001],\n",
       "   'in0mid0': ['in0', 'mid0', -0.7271173508316802],\n",
       "   'in1mid0': ['in1', 'mid0', -2.9153059667327943],\n",
       "   'mid1out4': ['mid1', 'out4', -1.75016023195483],\n",
       "   'mid0out2': ['mid0', 'out2', 1.8300015260186173],\n",
       "   'in0out1': ['in0', 'out1', 0.06506943384709293],\n",
       "   'mid2mid1': ['mid2', 'mid1', -1.4046696169693271],\n",
       "   'in1mid1': ['in1', 'mid1', -1.717320311307798]},\n",
       "  'in': ['in1', 'in0'],\n",
       "  'position': [[9, 17]]},\n",
       " 3: {'out': {'out2': 0.983, 'out3': 0.995, 'out1': 0.189, 'out0': 0.523},\n",
       "  'src': {'in1out2': ['in1', 'out2', -0.18300015260186175],\n",
       "   'in1mid2': ['in1', 'mid2', -2.7746680909507098],\n",
       "   'mid0out2': ['mid0', 'out2', 2.1983213795208303],\n",
       "   'in0mid1': ['in0', 'mid1', 0.8125743934075996],\n",
       "   'mid0out3': ['mid0', 'out3', 2.635617274530749],\n",
       "   'in0mid0': ['in0', 'mid0', 1.8307340149549824],\n",
       "   'in1mid1': ['in1', 'mid1', -0.5240958339691745],\n",
       "   'mid1mid0': ['mid1', 'mid0', 3.6839310239584924],\n",
       "   'in0out1': ['in0', 'out1', -0.7271173508316802],\n",
       "   'mid1out0': ['mid1', 'out0', -1.7983824202655272]},\n",
       "  'in': ['in1', 'in0'],\n",
       "  'position': [[11, 19]]}}"
      ]
     },
     "execution_count": 3,
     "metadata": {},
     "output_type": "execute_result"
    }
   ],
   "source": [
    "result"
   ]
  },
  {
   "cell_type": "code",
   "execution_count": 4,
   "id": "c33e99d9",
   "metadata": {
    "ExecuteTime": {
     "end_time": "2022-06-28T19:43:47.353763Z",
     "start_time": "2022-06-28T19:43:47.353343Z"
    }
   },
   "outputs": [],
   "source": [
    "## def sum_duplicated_neurons_with_input(res, input_list):\n",
    "##     '''input_list - list of neuron and its weight'''\n",
    "# res = copy.copy(individuals)\n",
    "# dic = {}\n",
    "# for nr in res:\n",
    "# #     print(nr)\n",
    "#     dic[nr] = {}\n",
    "#     for i in res[nr]:\n",
    "#         n_output = f'{i.output_type}{i.output_id}'\n",
    "#         n_input = f'{i.input_type}{i.input_id}'\n",
    "#         dic[nr][i.differ_neuron] = [n_input, n_output, i.weight]\n",
    "##     return dic\n",
    "##     pass"
   ]
  },
  {
   "cell_type": "code",
   "execution_count": 5,
   "id": "40079ed6",
   "metadata": {
    "ExecuteTime": {
     "end_time": "2022-06-28T19:55:54.191637Z",
     "start_time": "2022-06-28T19:55:54.163719Z"
    },
    "scrolled": true
   },
   "outputs": [],
   "source": [
    "k = 1\n",
    "n = 0\n",
    "while k>n: \n",
    "    for indiv in result:\n",
    "        x, y = result[indiv]['position'][-1][0], result[indiv]['position'][-1][1]\n",
    "        position_list = []\n",
    "        for out in result[indiv]['out']:\n",
    "#             if 'out' in out:\n",
    "            new_pos = move(out, result[indiv]['out'][out])\n",
    "            position_list.append(new_pos)\n",
    "        \n",
    "        position_list = list(map(sum, zip(*position_list)))\n",
    "        position_list = make_smaller_(position_list)\n",
    "        position_list = list(map(sum, zip(*[[x, y]] + [position_list])))\n",
    "                            \n",
    "        position_list[0] = normalize_position_if_outside_world(position_list[0], world_size_x)\n",
    "        position_list[1] = normalize_position_if_outside_world(position_list[1], world_size_y)\n",
    "#         print('norm', position_list)\n",
    "        result[indiv]['position'].append(position_list)\n",
    "######### if n>=1 proceed with neurons #######        \n",
    "        \n",
    "        \n",
    "    last_pos_list = [result[obj]['position'][-1] for obj in result]\n",
    "    \n",
    "    for obj in range(len(last_pos_list)):\n",
    "        for i_nr, i in enumerate(last_pos_list[obj+1:], start=obj+1):\n",
    "            if last_pos_list[obj] == i:\n",
    "                result[i_nr]['position'][-1] = result[i_nr]['position'][-2]     \n",
    "    n += 1\n",
    "#     print()        \n",
    "# result"
   ]
  },
  {
   "cell_type": "code",
   "execution_count": 6,
   "id": "f0823664",
   "metadata": {},
   "outputs": [
    {
     "data": {
      "text/plain": [
       "{0: {'out': {'out2': 0.0, 'out3': 0.0, 'out0': 0.175, 'out1': 0.998},\n",
       "  'src': {'mid2out2': ['mid2', 'out2', -1.9774759652067755],\n",
       "   'mid0out3': ['mid0', 'out3', -2.9369143903555623],\n",
       "   'mid1mid2': ['mid1', 'mid2', -3.2725164047001374],\n",
       "   'in1out0': ['in1', 'out0', -0.7746070502060125],\n",
       "   'mid1out3': ['mid1', 'out3', -3.453319090492904],\n",
       "   'mid1out1': ['mid1', 'out1', 3.2448039066076606],\n",
       "   'in1out3': ['in1', 'out3', 1.2155653898977568],\n",
       "   'in0out2': ['in0', 'out2', 0.2420875934686403],\n",
       "   'in0mid1': ['in0', 'mid1', 3.697237906302457],\n",
       "   'in1mid2': ['in1', 'mid2', -1.0071722875019076],\n",
       "   'in1out2': ['in1', 'out2', -3.301693880665344],\n",
       "   'in0mid0': ['in0', 'mid0', 3.8073554097359987]},\n",
       "  'in': ['in1', 'in0'],\n",
       "  'position': [[15, 2], [15, 1]]},\n",
       " 1: {'out': {'out0': 0.0, 'out3': 0.482, 'out4': 0.782, 'out1': 0.968},\n",
       "  'src': {'mid2out0': ['mid2', 'out0', -1.5717991759499466],\n",
       "   'in1mid2': ['in1', 'mid2', 3.1252861284907674],\n",
       "   'in1out3': ['in1', 'out3', -0.9593163436593927],\n",
       "   'in0mid2': ['in0', 'mid2', 3.2869220204486496],\n",
       "   'mid1out4': ['mid1', 'out4', -2.4325957576682438],\n",
       "   'mid1mid0': ['mid1', 'mid0', 0.7404242331756448],\n",
       "   'mid2out3': ['mid2', 'out3', 0.24636044559743628],\n",
       "   'in0mid1': ['in0', 'mid1', -0.740668396154433],\n",
       "   'mid2out4': ['mid2', 'out4', -0.33413703647184495],\n",
       "   'mid1out0': ['mid1', 'out0', -2.5489394170608883],\n",
       "   'mid0out4': ['mid0', 'out4', 2.2796276514573477],\n",
       "   'in1mid1': ['in1', 'mid1', 2.472272241721349],\n",
       "   'in1out0': ['in1', 'out0', -0.9422249351442088],\n",
       "   'in1out1': ['in1', 'out1', 1.6990080878986724]},\n",
       "  'in': ['in1', 'in0'],\n",
       "  'position': [[6, 12], [5, 11]]},\n",
       " 2: {'out': {'out1': 0.022, 'out4': 0.029, 'out2': 0.975},\n",
       "  'src': {'in1mid2': ['in1', 'mid2', -3.3264764230123607],\n",
       "   'mid1mid0': ['mid1', 'mid0', 2.044864947352358],\n",
       "   'mid0mid2': ['mid0', 'mid2', -3.7772012818556386],\n",
       "   'mid1out1': ['mid1', 'out1', -1.968564016481001],\n",
       "   'in0mid0': ['in0', 'mid0', -0.7271173508316802],\n",
       "   'in1mid0': ['in1', 'mid0', -2.9153059667327943],\n",
       "   'mid1out4': ['mid1', 'out4', -1.75016023195483],\n",
       "   'mid0out2': ['mid0', 'out2', 1.8300015260186173],\n",
       "   'in0out1': ['in0', 'out1', 0.06506943384709293],\n",
       "   'mid2mid1': ['mid2', 'mid1', -1.4046696169693271],\n",
       "   'in1mid1': ['in1', 'mid1', -1.717320311307798]},\n",
       "  'in': ['in1', 'in0'],\n",
       "  'position': [[9, 17], [10, 17]]},\n",
       " 3: {'out': {'out2': 0.983, 'out3': 0.995, 'out1': 0.189, 'out0': 0.523},\n",
       "  'src': {'in1out2': ['in1', 'out2', -0.18300015260186175],\n",
       "   'in1mid2': ['in1', 'mid2', -2.7746680909507098],\n",
       "   'mid0out2': ['mid0', 'out2', 2.1983213795208303],\n",
       "   'in0mid1': ['in0', 'mid1', 0.8125743934075996],\n",
       "   'mid0out3': ['mid0', 'out3', 2.635617274530749],\n",
       "   'in0mid0': ['in0', 'mid0', 1.8307340149549824],\n",
       "   'in1mid1': ['in1', 'mid1', -0.5240958339691745],\n",
       "   'mid1mid0': ['mid1', 'mid0', 3.6839310239584924],\n",
       "   'in0out1': ['in0', 'out1', -0.7271173508316802],\n",
       "   'mid1out0': ['mid1', 'out0', -1.7983824202655272]},\n",
       "  'in': ['in1', 'in0'],\n",
       "  'position': [[11, 19], [11, 20]]}}"
      ]
     },
     "execution_count": 6,
     "metadata": {},
     "output_type": "execute_result"
    }
   ],
   "source": [
    "result"
   ]
  },
  {
   "cell_type": "code",
   "execution_count": 7,
   "id": "871b6e27",
   "metadata": {},
   "outputs": [
    {
     "name": "stdout",
     "output_type": "stream",
     "text": [
      "('in1', 0)\n",
      "('in0', 0)\n"
     ]
    }
   ],
   "source": [
    "# def apply_input(result, nr_of_individual):\n",
    "#     '''apply input regarding position of other individuals'''\n",
    "nr_of_individual = 0\n",
    "pos = result[nr_of_individual]['position']\n",
    "in_keys = result[nr_of_individual]['in']\n",
    "\n",
    "del result[nr_of_individual]\n",
    "\n",
    "for key in in_keys:\n",
    "    print(input_neuron(key, pos, result))"
   ]
  },
  {
   "cell_type": "code",
   "execution_count": 8,
   "id": "e6592e4b",
   "metadata": {},
   "outputs": [
    {
     "data": {
      "text/plain": [
       "{'out': {'out0': 0.0, 'out3': 0.482, 'out4': 0.782, 'out1': 0.968},\n",
       " 'src': {'mid2out0': ['mid2', 'out0', -1.5717991759499466],\n",
       "  'in1mid2': ['in1', 'mid2', 3.1252861284907674],\n",
       "  'in1out3': ['in1', 'out3', -0.9593163436593927],\n",
       "  'in0mid2': ['in0', 'mid2', 3.2869220204486496],\n",
       "  'mid1out4': ['mid1', 'out4', -2.4325957576682438],\n",
       "  'mid1mid0': ['mid1', 'mid0', 0.7404242331756448],\n",
       "  'mid2out3': ['mid2', 'out3', 0.24636044559743628],\n",
       "  'in0mid1': ['in0', 'mid1', -0.740668396154433],\n",
       "  'mid2out4': ['mid2', 'out4', -0.33413703647184495],\n",
       "  'mid1out0': ['mid1', 'out0', -2.5489394170608883],\n",
       "  'mid0out4': ['mid0', 'out4', 2.2796276514573477],\n",
       "  'in1mid1': ['in1', 'mid1', 2.472272241721349],\n",
       "  'in1out0': ['in1', 'out0', -0.9422249351442088],\n",
       "  'in1out1': ['in1', 'out1', 1.6990080878986724]},\n",
       " 'in': ['in1', 'in0'],\n",
       " 'position': [[6, 12], [5, 11]]}"
      ]
     },
     "execution_count": 8,
     "metadata": {},
     "output_type": "execute_result"
    }
   ],
   "source": [
    "result[1]"
   ]
  },
  {
   "cell_type": "code",
   "execution_count": null,
   "id": "a72b2968",
   "metadata": {},
   "outputs": [],
   "source": []
  },
  {
   "cell_type": "code",
   "execution_count": 9,
   "id": "44a7d51e",
   "metadata": {
    "ExecuteTime": {
     "end_time": "2022-06-28T19:43:47.379079Z",
     "start_time": "2022-06-28T19:43:47.379079Z"
    }
   },
   "outputs": [
    {
     "data": {
      "text/plain": [
       "4"
      ]
     },
     "execution_count": 9,
     "metadata": {},
     "output_type": "execute_result"
    }
   ],
   "source": [
    "a = [(3, 0),(4,1),(5,2)]\n",
    "\n",
    "def slope_intercept(x1,y1,x2,y2):\n",
    "    a = (y2 - y1) / (x2 - x1)\n",
    "    b = y1 - a * x1     \n",
    "    return a,b\n",
    "\n",
    "# print(slope_intercept(3,0,2,1))\n",
    "\n",
    "if a[-2][0] == a[-1][0]:\n",
    "    x = a[-1][0]\n",
    "elif a[-2][0] > a[-1][0]:\n",
    "    x = a[-2][0] + 1\n",
    "elif a[-2][0] < a[-1][0]:\n",
    "    x = a[-2][0] - 1\n",
    "# print(x)\n",
    "\n",
    "a[-2][0]\n",
    "\n"
   ]
  },
  {
   "cell_type": "code",
   "execution_count": null,
   "id": "032bc083",
   "metadata": {},
   "outputs": [],
   "source": []
  }
 ],
 "metadata": {
  "kernelspec": {
   "display_name": "Python 3 (ipykernel)",
   "language": "python",
   "name": "python3"
  },
  "language_info": {
   "codemirror_mode": {
    "name": "ipython",
    "version": 3
   },
   "file_extension": ".py",
   "mimetype": "text/x-python",
   "name": "python",
   "nbconvert_exporter": "python",
   "pygments_lexer": "ipython3",
   "version": "3.9.12"
  }
 },
 "nbformat": 4,
 "nbformat_minor": 5
}
