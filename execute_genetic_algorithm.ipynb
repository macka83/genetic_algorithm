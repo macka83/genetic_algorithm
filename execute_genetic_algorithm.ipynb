{
 "cells": [
  {
   "cell_type": "code",
   "execution_count": 1,
   "id": "64e1e30b",
   "metadata": {},
   "outputs": [],
   "source": [
    "from genetic_algorithm import *\n",
    "import re"
   ]
  },
  {
   "cell_type": "markdown",
   "id": "a4aa7361",
   "metadata": {},
   "source": [
    "## hexadecimal generator"
   ]
  },
  {
   "cell_type": "code",
   "execution_count": 2,
   "id": "e85a93ac",
   "metadata": {},
   "outputs": [],
   "source": [
    "nr_of_input = 3\n",
    "nr_of_actions = 3\n",
    "nr_of_inner = 2\n",
    "nr_of_genes = 8\n",
    "nr_individuals = 4\n",
    "\n",
    "res = generate_initial_genomes_for_population(nr_individuals, nr_of_genes, nr_of_input, nr_of_actions, nr_of_inner)"
   ]
  },
  {
   "cell_type": "markdown",
   "id": "991e86ea",
   "metadata": {},
   "source": [
    "## Sumuj duble"
   ]
  },
  {
   "cell_type": "code",
   "execution_count": 3,
   "id": "0ac99015",
   "metadata": {},
   "outputs": [],
   "source": [
    "dic = {}\n",
    "for nr in res:\n",
    "    dic[nr] = {}\n",
    "    for i in res[nr]:\n",
    "        total = dic.get(i.differ_neuron, 0) + i.weight\n",
    "        n_output = f'{i.output_id}{i.output_type}'\n",
    "        n_input = f'{i.input_id}{i.input_type}'\n",
    "        dic[nr][i.differ_neuron] = [n_input, n_output, total]"
   ]
  },
  {
   "cell_type": "code",
   "execution_count": 4,
   "id": "350be9b2",
   "metadata": {
    "scrolled": true
   },
   "outputs": [
    {
     "data": {
      "text/plain": [
       "{'1mid1mid': ['1mid', '1mid', -3.881703036777049],\n",
       " '0mid0mid': ['0mid', '0mid', 1.9260796581718298],\n",
       " '2in0out': ['2in', '0out', -3.9874256065924003],\n",
       " '0in2out': ['0in', '2out', -1.7628567068518235],\n",
       " '0in0out': ['0in', '0out', 3.0210285365481457],\n",
       " '2in2out': ['2in', '2out', -1.8582023500686708]}"
      ]
     },
     "execution_count": 4,
     "metadata": {},
     "output_type": "execute_result"
    }
   ],
   "source": [
    "dic[0]"
   ]
  },
  {
   "cell_type": "markdown",
   "id": "69161a40",
   "metadata": {},
   "source": [
    "## brain generator"
   ]
  },
  {
   "cell_type": "code",
   "execution_count": 5,
   "id": "2693e63b",
   "metadata": {},
   "outputs": [
    {
     "data": {
      "text/plain": [
       "{'0in1out': ['0in', '1out', -2.3924309476575614],\n",
       " '1mid1out': ['1mid', '1out', -3.1390813367923087],\n",
       " '0mid0out': ['0mid', '0out', 2.1551045322752937],\n",
       " '1in0mid': ['1in', '0mid', 2.3464062261559593],\n",
       " '0mid2out': ['0mid', '2out', 1.634304898519762],\n",
       " '1in1mid': ['1in', '1mid', -2.8568289333129866],\n",
       " '1mid0out': ['1mid', '0out', -0.9993590721806807],\n",
       " '1in2out': ['1in', '2out', 3.9349305661529073]}"
      ]
     },
     "execution_count": 5,
     "metadata": {},
     "output_type": "execute_result"
    }
   ],
   "source": [
    "dic[1]"
   ]
  },
  {
   "cell_type": "code",
   "execution_count": 6,
   "id": "459b295c",
   "metadata": {},
   "outputs": [],
   "source": [
    "edges = dic[1]\n",
    "\n",
    "brain = {}\n",
    "for i in edges:\n",
    "    if 'out' in edges[i][1]:\n",
    "        brain.update({edges[i][1]:{}})"
   ]
  },
  {
   "cell_type": "code",
   "execution_count": 7,
   "id": "acfc2e31",
   "metadata": {},
   "outputs": [
    {
     "data": {
      "text/plain": [
       "{'1out': {'0in': {-2.3924309476575614},\n",
       "  '1mid': {'1in': {-2.8568289333129866}}},\n",
       " '0out': {'0mid': {'1in': {2.3464062261559593}},\n",
       "  '1mid': {'1in': {-2.8568289333129866}}},\n",
       " '2out': {'0mid': {'1in': {2.3464062261559593}}, '1in': {3.9349305661529073}}}"
      ]
     },
     "execution_count": 7,
     "metadata": {},
     "output_type": "execute_result"
    }
   ],
   "source": [
    "\n",
    "\n",
    "def mid_neuron(brain, edges):\n",
    "    for key in brain:\n",
    "        for pair in edges:\n",
    "            item = edges[pair]\n",
    "            if key == item[1] and 'mid' in item[0] and key != item[0]:\n",
    "                brain[key].update({item[0]:{}})\n",
    "                mid_neuron(brain[key], edges)\n",
    "                \n",
    "            elif key == item[1] and 'mid' in item[0] and key == item[0]:\n",
    "                brain[key].update({item[0]:{item[2]}})\n",
    "                \n",
    "            elif key == item[1] and 'mid' not in item[0]:\n",
    "                brain[key].update({item[0]:{item[2]}})\n",
    "\n",
    "mid_neuron(brain, edges)\n",
    "\n",
    "brain"
   ]
  },
  {
   "cell_type": "code",
   "execution_count": 8,
   "id": "610b64bf",
   "metadata": {
    "scrolled": true
   },
   "outputs": [
    {
     "data": {
      "text/plain": [
       "{'0in1out': ['0in', '1out', -2.3924309476575614],\n",
       " '1mid1out': ['1mid', '1out', -3.1390813367923087],\n",
       " '0mid0out': ['0mid', '0out', 2.1551045322752937],\n",
       " '1in0mid': ['1in', '0mid', 2.3464062261559593],\n",
       " '0mid2out': ['0mid', '2out', 1.634304898519762],\n",
       " '1in1mid': ['1in', '1mid', -2.8568289333129866],\n",
       " '1mid0out': ['1mid', '0out', -0.9993590721806807],\n",
       " '1in2out': ['1in', '2out', 3.9349305661529073]}"
      ]
     },
     "execution_count": 8,
     "metadata": {},
     "output_type": "execute_result"
    }
   ],
   "source": [
    "edges"
   ]
  },
  {
   "cell_type": "code",
   "execution_count": 9,
   "id": "812e3fdd",
   "metadata": {},
   "outputs": [
    {
     "data": {
      "text/plain": [
       "{'0mid': {'1in': {2.3464062261559593}}, '1mid': {'1in': {-2.8568289333129866}}}"
      ]
     },
     "execution_count": 9,
     "metadata": {},
     "output_type": "execute_result"
    }
   ],
   "source": [
    "brain['0out']"
   ]
  },
  {
   "cell_type": "code",
   "execution_count": null,
   "id": "a23029b5",
   "metadata": {},
   "outputs": [],
   "source": []
  }
 ],
 "metadata": {
  "kernelspec": {
   "display_name": "Python 3 (ipykernel)",
   "language": "python",
   "name": "python3"
  },
  "language_info": {
   "codemirror_mode": {
    "name": "ipython",
    "version": 3
   },
   "file_extension": ".py",
   "mimetype": "text/x-python",
   "name": "python",
   "nbconvert_exporter": "python",
   "pygments_lexer": "ipython3",
   "version": "3.9.7"
  }
 },
 "nbformat": 4,
 "nbformat_minor": 5
}
