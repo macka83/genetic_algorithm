{
 "cells": [
  {
   "cell_type": "markdown",
   "id": "6499aef8",
   "metadata": {
    "ExecuteTime": {
     "end_time": "2022-06-28T19:40:02.442018Z",
     "start_time": "2022-06-28T19:40:00.122777Z"
    }
   },
   "source": [
    "!jt -t chesterish\n",
    "# !jt -r"
   ]
  },
  {
   "cell_type": "code",
   "execution_count": 1,
   "id": "07647a75",
   "metadata": {
    "ExecuteTime": {
     "end_time": "2022-07-06T17:54:32.230761Z",
     "start_time": "2022-07-06T17:54:29.822786Z"
    }
   },
   "outputs": [],
   "source": [
    "from genetic_algorithm import *\n",
    "from numpy.random import default_rng\n",
    "\n",
    "\n",
    "import binascii\n",
    "\n",
    "\n",
    "import matplotlib.pyplot as plt\n",
    "import math\n",
    "from matplotlib.animation import FuncAnimation\n",
    "%matplotlib notebook\n",
    "\n",
    "import copy\n",
    "from collections import Counter\n",
    "import pandas as pd"
   ]
  },
  {
   "cell_type": "code",
   "execution_count": 2,
   "id": "89c5b605",
   "metadata": {
    "ExecuteTime": {
     "end_time": "2022-07-06T17:54:32.421139Z",
     "start_time": "2022-07-06T17:54:32.236940Z"
    }
   },
   "outputs": [],
   "source": [
    "## hexadecimal generator\n",
    "\n",
    "nr_of_input = 2\n",
    "nr_of_actions = 5\n",
    "nr_of_inner = 3\n",
    "nr_of_genes = 8\n",
    "nr_individuals = 500\n",
    "\n",
    "## world size\n",
    "world_size = 100\n",
    "world_size_x = world_size\n",
    "world_size_y = world_size"
   ]
  },
  {
   "cell_type": "code",
   "execution_count": null,
   "id": "5f685e58",
   "metadata": {},
   "outputs": [],
   "source": [
    "\n",
    "\n"
   ]
  },
  {
   "cell_type": "code",
   "execution_count": null,
   "id": "37b68917",
   "metadata": {},
   "outputs": [],
   "source": []
  },
  {
   "cell_type": "markdown",
   "id": "531da81b",
   "metadata": {},
   "source": [
    "## generations"
   ]
  },
  {
   "cell_type": "code",
   "execution_count": 3,
   "id": "33949ec2",
   "metadata": {},
   "outputs": [
    {
     "name": "stdout",
     "output_type": "stream",
     "text": [
      "0\n"
     ]
    },
    {
     "name": "stderr",
     "output_type": "stream",
     "text": [
      "  8%|██████▍                                                                          | 16/200 [00:05<01:35,  1.93it/s]"
     ]
    },
    {
     "ename": "KeyboardInterrupt",
     "evalue": "",
     "output_type": "error",
     "traceback": [
      "\u001b[1;31m---------------------------------------------------------------------------\u001b[0m",
      "\u001b[1;31mKeyboardInterrupt\u001b[0m                         Traceback (most recent call last)",
      "Input \u001b[1;32mIn [3]\u001b[0m, in \u001b[0;36m<cell line: 2>\u001b[1;34m()\u001b[0m\n\u001b[0;32m      4\u001b[0m     \u001b[38;5;28;01mif\u001b[39;00m gen_nr \u001b[38;5;241m==\u001b[39m \u001b[38;5;241m0\u001b[39m:\n\u001b[0;32m      5\u001b[0m         result \u001b[38;5;241m=\u001b[39m initial_population(nr_individuals, nr_of_genes, nr_of_input, nr_of_actions, nr_of_inner, world_size)\n\u001b[1;32m----> 6\u001b[0m         result \u001b[38;5;241m=\u001b[39m \u001b[43msteps_in_generation\u001b[49m\u001b[43m(\u001b[49m\u001b[43mworld_size\u001b[49m\u001b[38;5;241;43m*\u001b[39;49m\u001b[38;5;241;43m2\u001b[39;49m\u001b[43m,\u001b[49m\u001b[43m \u001b[49m\u001b[43mresult\u001b[49m\u001b[43m,\u001b[49m\u001b[43m \u001b[49m\u001b[43mworld_size_x\u001b[49m\u001b[43m,\u001b[49m\u001b[43m \u001b[49m\u001b[43mworld_size_y\u001b[49m\u001b[43m)\u001b[49m\n\u001b[0;32m      7\u001b[0m \u001b[38;5;66;03m#         print(result[0])\u001b[39;00m\n\u001b[0;32m      8\u001b[0m     \u001b[38;5;28;01melse\u001b[39;00m:\n\u001b[0;32m     10\u001b[0m         result \u001b[38;5;241m=\u001b[39m asexual_reproduction_and_mutation(world_size, result, nr_individuals)\n",
      "File \u001b[1;32m~\\Documents\\genetic_algorithm\\genetic_algorithm.py:512\u001b[0m, in \u001b[0;36msteps_in_generation\u001b[1;34m(world_size, result, world_size_x, world_size_y)\u001b[0m\n\u001b[0;32m    509\u001b[0m             calculate_position(result, indiv, x, y, world_size_x, world_size_y)\n\u001b[0;32m    511\u001b[0m     last_pos_list \u001b[38;5;241m=\u001b[39m {obj:result[obj][\u001b[38;5;124m'\u001b[39m\u001b[38;5;124mposition\u001b[39m\u001b[38;5;124m'\u001b[39m][\u001b[38;5;241m-\u001b[39m\u001b[38;5;241m1\u001b[39m] \u001b[38;5;28;01mfor\u001b[39;00m obj \u001b[38;5;129;01min\u001b[39;00m result}\n\u001b[1;32m--> 512\u001b[0m     \u001b[43mprevent_overlap_movement\u001b[49m\u001b[43m(\u001b[49m\u001b[43mlast_pos_list\u001b[49m\u001b[43m,\u001b[49m\u001b[43m \u001b[49m\u001b[43mresult\u001b[49m\u001b[43m)\u001b[49m\n\u001b[0;32m    513\u001b[0m     n \u001b[38;5;241m+\u001b[39m\u001b[38;5;241m=\u001b[39m \u001b[38;5;241m1\u001b[39m\n\u001b[0;32m    514\u001b[0m pbar\u001b[38;5;241m.\u001b[39mclose()\n",
      "File \u001b[1;32m~\\Documents\\genetic_algorithm\\genetic_algorithm.py:398\u001b[0m, in \u001b[0;36mprevent_overlap_movement\u001b[1;34m(last_pos_list, result)\u001b[0m\n\u001b[0;32m    396\u001b[0m     pos2_minus[\u001b[38;5;241m-\u001b[39m\u001b[38;5;241m1\u001b[39m] \u001b[38;5;241m=\u001b[39m pos2_minus[\u001b[38;5;241m-\u001b[39m\u001b[38;5;241m2\u001b[39m]\n\u001b[0;32m    397\u001b[0m     last_pos_list[key_2] \u001b[38;5;241m=\u001b[39m pos2_minus[\u001b[38;5;241m-\u001b[39m\u001b[38;5;241m2\u001b[39m]\n\u001b[1;32m--> 398\u001b[0m     \u001b[43mprevent_overlap_movement\u001b[49m\u001b[43m(\u001b[49m\u001b[43mlast_pos_list\u001b[49m\u001b[43m,\u001b[49m\u001b[43m \u001b[49m\u001b[43mresult\u001b[49m\u001b[43m)\u001b[49m\n\u001b[0;32m    399\u001b[0m     list_of_resuls\u001b[38;5;241m.\u001b[39mappend(\u001b[38;5;241m2\u001b[39m)\n\u001b[0;32m    400\u001b[0m \u001b[38;5;28;01melif\u001b[39;00m pos2_minus[\u001b[38;5;241m-\u001b[39m\u001b[38;5;241m1\u001b[39m]\u001b[38;5;241m==\u001b[39m pos2_minus[\u001b[38;5;241m-\u001b[39m\u001b[38;5;241m2\u001b[39m] \u001b[38;5;129;01mand\u001b[39;00m pos1_minus[\u001b[38;5;241m-\u001b[39m\u001b[38;5;241m1\u001b[39m] \u001b[38;5;241m!=\u001b[39m pos1_minus[\u001b[38;5;241m-\u001b[39m\u001b[38;5;241m2\u001b[39m]:\n",
      "File \u001b[1;32m~\\Documents\\genetic_algorithm\\genetic_algorithm.py:403\u001b[0m, in \u001b[0;36mprevent_overlap_movement\u001b[1;34m(last_pos_list, result)\u001b[0m\n\u001b[0;32m    401\u001b[0m     pos1_minus[\u001b[38;5;241m-\u001b[39m\u001b[38;5;241m1\u001b[39m] \u001b[38;5;241m=\u001b[39m pos1_minus[\u001b[38;5;241m-\u001b[39m\u001b[38;5;241m2\u001b[39m]\n\u001b[0;32m    402\u001b[0m     last_pos_list[key_1] \u001b[38;5;241m=\u001b[39m pos1_minus[\u001b[38;5;241m-\u001b[39m\u001b[38;5;241m2\u001b[39m]\n\u001b[1;32m--> 403\u001b[0m     \u001b[43mprevent_overlap_movement\u001b[49m\u001b[43m(\u001b[49m\u001b[43mlast_pos_list\u001b[49m\u001b[43m,\u001b[49m\u001b[43m \u001b[49m\u001b[43mresult\u001b[49m\u001b[43m)\u001b[49m\n\u001b[0;32m    404\u001b[0m     list_of_resuls\u001b[38;5;241m.\u001b[39mappend(\u001b[38;5;241m1\u001b[39m)\n\u001b[0;32m    405\u001b[0m \u001b[38;5;28;01melse\u001b[39;00m:\n",
      "File \u001b[1;32m~\\Documents\\genetic_algorithm\\genetic_algorithm.py:398\u001b[0m, in \u001b[0;36mprevent_overlap_movement\u001b[1;34m(last_pos_list, result)\u001b[0m\n\u001b[0;32m    396\u001b[0m     pos2_minus[\u001b[38;5;241m-\u001b[39m\u001b[38;5;241m1\u001b[39m] \u001b[38;5;241m=\u001b[39m pos2_minus[\u001b[38;5;241m-\u001b[39m\u001b[38;5;241m2\u001b[39m]\n\u001b[0;32m    397\u001b[0m     last_pos_list[key_2] \u001b[38;5;241m=\u001b[39m pos2_minus[\u001b[38;5;241m-\u001b[39m\u001b[38;5;241m2\u001b[39m]\n\u001b[1;32m--> 398\u001b[0m     \u001b[43mprevent_overlap_movement\u001b[49m\u001b[43m(\u001b[49m\u001b[43mlast_pos_list\u001b[49m\u001b[43m,\u001b[49m\u001b[43m \u001b[49m\u001b[43mresult\u001b[49m\u001b[43m)\u001b[49m\n\u001b[0;32m    399\u001b[0m     list_of_resuls\u001b[38;5;241m.\u001b[39mappend(\u001b[38;5;241m2\u001b[39m)\n\u001b[0;32m    400\u001b[0m \u001b[38;5;28;01melif\u001b[39;00m pos2_minus[\u001b[38;5;241m-\u001b[39m\u001b[38;5;241m1\u001b[39m]\u001b[38;5;241m==\u001b[39m pos2_minus[\u001b[38;5;241m-\u001b[39m\u001b[38;5;241m2\u001b[39m] \u001b[38;5;129;01mand\u001b[39;00m pos1_minus[\u001b[38;5;241m-\u001b[39m\u001b[38;5;241m1\u001b[39m] \u001b[38;5;241m!=\u001b[39m pos1_minus[\u001b[38;5;241m-\u001b[39m\u001b[38;5;241m2\u001b[39m]:\n",
      "    \u001b[1;31m[... skipping similar frames: prevent_overlap_movement at line 398 (1 times)]\u001b[0m\n",
      "File \u001b[1;32m~\\Documents\\genetic_algorithm\\genetic_algorithm.py:403\u001b[0m, in \u001b[0;36mprevent_overlap_movement\u001b[1;34m(last_pos_list, result)\u001b[0m\n\u001b[0;32m    401\u001b[0m     pos1_minus[\u001b[38;5;241m-\u001b[39m\u001b[38;5;241m1\u001b[39m] \u001b[38;5;241m=\u001b[39m pos1_minus[\u001b[38;5;241m-\u001b[39m\u001b[38;5;241m2\u001b[39m]\n\u001b[0;32m    402\u001b[0m     last_pos_list[key_1] \u001b[38;5;241m=\u001b[39m pos1_minus[\u001b[38;5;241m-\u001b[39m\u001b[38;5;241m2\u001b[39m]\n\u001b[1;32m--> 403\u001b[0m     \u001b[43mprevent_overlap_movement\u001b[49m\u001b[43m(\u001b[49m\u001b[43mlast_pos_list\u001b[49m\u001b[43m,\u001b[49m\u001b[43m \u001b[49m\u001b[43mresult\u001b[49m\u001b[43m)\u001b[49m\n\u001b[0;32m    404\u001b[0m     list_of_resuls\u001b[38;5;241m.\u001b[39mappend(\u001b[38;5;241m1\u001b[39m)\n\u001b[0;32m    405\u001b[0m \u001b[38;5;28;01melse\u001b[39;00m:\n",
      "    \u001b[1;31m[... skipping similar frames: prevent_overlap_movement at line 403 (7 times), prevent_overlap_movement at line 398 (7 times)]\u001b[0m\n",
      "File \u001b[1;32m~\\Documents\\genetic_algorithm\\genetic_algorithm.py:398\u001b[0m, in \u001b[0;36mprevent_overlap_movement\u001b[1;34m(last_pos_list, result)\u001b[0m\n\u001b[0;32m    396\u001b[0m     pos2_minus[\u001b[38;5;241m-\u001b[39m\u001b[38;5;241m1\u001b[39m] \u001b[38;5;241m=\u001b[39m pos2_minus[\u001b[38;5;241m-\u001b[39m\u001b[38;5;241m2\u001b[39m]\n\u001b[0;32m    397\u001b[0m     last_pos_list[key_2] \u001b[38;5;241m=\u001b[39m pos2_minus[\u001b[38;5;241m-\u001b[39m\u001b[38;5;241m2\u001b[39m]\n\u001b[1;32m--> 398\u001b[0m     \u001b[43mprevent_overlap_movement\u001b[49m\u001b[43m(\u001b[49m\u001b[43mlast_pos_list\u001b[49m\u001b[43m,\u001b[49m\u001b[43m \u001b[49m\u001b[43mresult\u001b[49m\u001b[43m)\u001b[49m\n\u001b[0;32m    399\u001b[0m     list_of_resuls\u001b[38;5;241m.\u001b[39mappend(\u001b[38;5;241m2\u001b[39m)\n\u001b[0;32m    400\u001b[0m \u001b[38;5;28;01melif\u001b[39;00m pos2_minus[\u001b[38;5;241m-\u001b[39m\u001b[38;5;241m1\u001b[39m]\u001b[38;5;241m==\u001b[39m pos2_minus[\u001b[38;5;241m-\u001b[39m\u001b[38;5;241m2\u001b[39m] \u001b[38;5;129;01mand\u001b[39;00m pos1_minus[\u001b[38;5;241m-\u001b[39m\u001b[38;5;241m1\u001b[39m] \u001b[38;5;241m!=\u001b[39m pos1_minus[\u001b[38;5;241m-\u001b[39m\u001b[38;5;241m2\u001b[39m]:\n",
      "    \u001b[1;31m[... skipping similar frames: prevent_overlap_movement at line 403 (1 times)]\u001b[0m\n",
      "File \u001b[1;32m~\\Documents\\genetic_algorithm\\genetic_algorithm.py:403\u001b[0m, in \u001b[0;36mprevent_overlap_movement\u001b[1;34m(last_pos_list, result)\u001b[0m\n\u001b[0;32m    401\u001b[0m     pos1_minus[\u001b[38;5;241m-\u001b[39m\u001b[38;5;241m1\u001b[39m] \u001b[38;5;241m=\u001b[39m pos1_minus[\u001b[38;5;241m-\u001b[39m\u001b[38;5;241m2\u001b[39m]\n\u001b[0;32m    402\u001b[0m     last_pos_list[key_1] \u001b[38;5;241m=\u001b[39m pos1_minus[\u001b[38;5;241m-\u001b[39m\u001b[38;5;241m2\u001b[39m]\n\u001b[1;32m--> 403\u001b[0m     \u001b[43mprevent_overlap_movement\u001b[49m\u001b[43m(\u001b[49m\u001b[43mlast_pos_list\u001b[49m\u001b[43m,\u001b[49m\u001b[43m \u001b[49m\u001b[43mresult\u001b[49m\u001b[43m)\u001b[49m\n\u001b[0;32m    404\u001b[0m     list_of_resuls\u001b[38;5;241m.\u001b[39mappend(\u001b[38;5;241m1\u001b[39m)\n\u001b[0;32m    405\u001b[0m \u001b[38;5;28;01melse\u001b[39;00m:\n",
      "File \u001b[1;32m~\\Documents\\genetic_algorithm\\genetic_algorithm.py:390\u001b[0m, in \u001b[0;36mprevent_overlap_movement\u001b[1;34m(last_pos_list, result)\u001b[0m\n\u001b[0;32m    388\u001b[0m \u001b[38;5;28;01mdel\u001b[39;00m last_pos_list_copy[key_1]\n\u001b[0;32m    389\u001b[0m list_of_keys \u001b[38;5;241m=\u001b[39m []\n\u001b[1;32m--> 390\u001b[0m \u001b[38;5;28;01mfor\u001b[39;00m key_2, val_2 \u001b[38;5;129;01min\u001b[39;00m last_pos_list_copy\u001b[38;5;241m.\u001b[39mitems():\n\u001b[0;32m    391\u001b[0m     \u001b[38;5;28;01mif\u001b[39;00m val_1 \u001b[38;5;241m==\u001b[39m val_2:\n\u001b[0;32m    392\u001b[0m         pos2_minus \u001b[38;5;241m=\u001b[39m result[key_2][\u001b[38;5;124m'\u001b[39m\u001b[38;5;124mposition\u001b[39m\u001b[38;5;124m'\u001b[39m]\n",
      "\u001b[1;31mKeyboardInterrupt\u001b[0m: "
     ]
    }
   ],
   "source": [
    "result = {}\n",
    "for gen_nr in range(30):\n",
    "    print(gen_nr)\n",
    "    if gen_nr == 0:\n",
    "        result = initial_population(nr_individuals, nr_of_genes, nr_of_input, nr_of_actions, nr_of_inner, world_size)\n",
    "        result = steps_in_generation(world_size*2, result, world_size_x, world_size_y)\n",
    "#         print(result[0])\n",
    "    else:\n",
    "        \n",
    "        result = asexual_reproduction_and_mutation(world_size, result, nr_individuals)\n",
    "        \n",
    "        result = next_generation(result,nr_of_input, nr_of_actions, nr_of_inner, world_size, nr_individuals)\n",
    "#         print(result[0])\n",
    "        result = steps_in_generation(world_size*2, result, world_size_x, world_size_y)\n",
    "        \n",
    "#     coords = generate_dictionary_of_coords(result, world_size+1)\n",
    "    \n",
    "    result.update(result)\n",
    "    \n",
    "    dic_color = {}\n",
    "    for indiv in result:\n",
    "        rgb_colors = list(map(hex_to_rgb, result[indiv]['genome']))\n",
    "        color = tuple(pd.DataFrame(rgb_colors).median()) \n",
    "        dic_color[indiv] = color\n",
    "        \n",
    "    coords = generate_dictionary_of_coords(result, world_size*2, dic_color)\n",
    "    \n",
    "    def update(i):\n",
    "        ax.clear()\n",
    "        ax.set_facecolor(plt.cm.Blues(.2))\n",
    "\n",
    "        ax.set_xlim([0,world_size_x])\n",
    "        ax.set_ylim([0,world_size_y])\n",
    "        ax.set_title('moving')\n",
    "        ax.scatter(x=coords[i]['x'],y=coords[i]['y'], c=coords[i]['color'], s=20, marker='o')\n",
    "#         ax.scatter(x=coords[i]['x'],y=coords[i]['y'], c='red', s=2, marker='o')\n",
    "        [spine.set_visible(False) for spine in ax.spines.values()]\n",
    "\n",
    "\n",
    "    fig, ax = plt.subplots(figsize=(6,6))\n",
    "    myAnimation = FuncAnimation(\n",
    "        fig = fig,\n",
    "        func = update,\n",
    "        frames = len(coords),\n",
    "        interval = 10, repeat=False\n",
    "    )\n",
    "    myAnimation.save(f'generation-{gen_nr}.gif', writer='imagemagick' , fps=10)"
   ]
  },
  {
   "cell_type": "code",
   "execution_count": null,
   "id": "15a44524",
   "metadata": {
    "scrolled": false
   },
   "outputs": [],
   "source": [
    "result"
   ]
  },
  {
   "cell_type": "code",
   "execution_count": null,
   "id": "023bb67c",
   "metadata": {},
   "outputs": [],
   "source": []
  }
 ],
 "metadata": {
  "kernelspec": {
   "display_name": "Python 3 (ipykernel)",
   "language": "python",
   "name": "python3"
  },
  "language_info": {
   "codemirror_mode": {
    "name": "ipython",
    "version": 3
   },
   "file_extension": ".py",
   "mimetype": "text/x-python",
   "name": "python",
   "nbconvert_exporter": "python",
   "pygments_lexer": "ipython3",
   "version": "3.9.12"
  }
 },
 "nbformat": 4,
 "nbformat_minor": 5
}
