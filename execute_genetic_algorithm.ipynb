{
 "cells": [
  {
   "cell_type": "code",
   "execution_count": 3,
   "id": "07647a75",
   "metadata": {
    "ExecuteTime": {
     "end_time": "2022-06-28T17:24:34.560444Z",
     "start_time": "2022-06-28T17:24:34.554410Z"
    }
   },
   "outputs": [],
   "source": [
    "from genetic_algorithm import *\n",
    "from numpy.random import default_rng\n",
    "import matplotlib.pyplot as plt\n",
    "\n",
    "import copy"
   ]
  },
  {
   "cell_type": "code",
   "execution_count": 2,
   "id": "89c5b605",
   "metadata": {
    "ExecuteTime": {
     "end_time": "2022-06-28T17:23:57.711014Z",
     "start_time": "2022-06-28T17:23:57.618231Z"
    }
   },
   "outputs": [
    {
     "name": "stdout",
     "output_type": "stream",
     "text": [
      "{0: {'out0': 0.002, 'out1': 0.025, 'out3': 0.038, 'out4': 0.173, 'position': [[6, 5]]}, 1: {'out1': 0.003, 'out2': 0.999, 'out4': 0.68, 'out0': 0.77, 'out3': 0.999, 'position': [[15, 17]]}, 2: {'out2': 0.0, 'out1': 0.994, 'out4': 0.04, 'out3': 0.002, 'position': [[5, 9]]}, 3: {'out1': 0.708, 'out4': 0.991, 'out0': 0.013, 'out2': 1.0, 'position': [[13, 3]]}}\n"
     ]
    }
   ],
   "source": [
    "\n",
    "# ## hexadecimal generator\n",
    "\n",
    "nr_of_input = 2\n",
    "nr_of_actions = 5\n",
    "nr_of_inner = 3\n",
    "nr_of_genes = 16\n",
    "nr_individuals = 4\n",
    "\n",
    "individuals = generate_initial_genomes_for_population(nr_individuals, nr_of_genes, nr_of_input, nr_of_actions, nr_of_inner)\n",
    "\n",
    "## world size\n",
    "world_size_x = 20\n",
    "world_size_y = 20\n",
    "\n",
    "rng = default_rng()\n",
    "x = rng.choice(world_size_x, size=nr_individuals, replace=False)\n",
    "y = rng.choice(world_size_y, size=nr_individuals, replace=False)\n",
    "\n",
    "# ## initial brain and position generator\n",
    "\n",
    "result = calculate_individual_output_weights(individuals)\n",
    "\n",
    "for indiv in result:\n",
    "    result[indiv]['position'] = [[x[indiv], y[indiv]]]\n",
    "\n",
    "print(result)\n",
    "\n"
   ]
  },
  {
   "cell_type": "code",
   "execution_count": 10,
   "id": "55ddc844",
   "metadata": {
    "ExecuteTime": {
     "end_time": "2022-06-28T17:36:25.341725Z",
     "start_time": "2022-06-28T17:36:25.326968Z"
    }
   },
   "outputs": [],
   "source": [
    "def sum_duplicated_neurons(res):\n",
    "    '''sum duplicatd neurons and return bunch neurons dictionary'''\n",
    "    dic = {}\n",
    "    for nr in res:\n",
    "        dic[nr] = {}\n",
    "        for i in res[nr]:\n",
    "            total = dic.get(i.differ_neuron, 0) + i.weight\n",
    "            print(dic.get(i.differ_neuron, 0), i.weight)\n",
    "            n_output = f'{i.output_type}{i.output_id}'\n",
    "            n_input = f'{i.input_type}{i.input_id}'\n",
    "            dic[nr][i.differ_neuron] = [n_input, n_output, total]\n",
    "    return dic\n",
    " "
   ]
  },
  {
   "cell_type": "code",
   "execution_count": 11,
   "id": "a9eb4c58",
   "metadata": {
    "ExecuteTime": {
     "end_time": "2022-06-28T17:36:25.899252Z",
     "start_time": "2022-06-28T17:36:25.872913Z"
    }
   },
   "outputs": [
    {
     "name": "stdout",
     "output_type": "stream",
     "text": [
      "0 -0.5237295895009919\n",
      "0 -2.0431558065008395\n",
      "0 -0.8422401953303831\n",
      "0 -3.000885090798108\n",
      "0 -2.6901877002899437\n",
      "0 -1.6938806653441172\n",
      "0 -1.6173355714939723\n",
      "0 -0.9828780711124676\n",
      "0 1.140607355409736\n",
      "0 0.9584617732336335\n",
      "0 3.9016023195482985\n",
      "0 3.076819777201282\n",
      "0 -0.7838852433999695\n",
      "0 1.064794750495956\n",
      "0 2.799084388829544\n",
      "0 -3.3453990538684573\n",
      "0 -3.451976194109568\n",
      "0 -3.975827865099954\n",
      "0 -2.5368533496108654\n",
      "0 1.320189226308561\n",
      "0 -2.050114451396307\n",
      "0 1.500625667633145\n",
      "0 3.7784220967495803\n",
      "0 0.6038150465435679\n",
      "0 3.6123912711735082\n",
      "0 3.246513047459179\n",
      "0 2.777109720738593\n",
      "0 0.37613306882343966\n",
      "0 -3.973508316801465\n",
      "0 0.03772318022279872\n",
      "0 -2.146070502060125\n",
      "0 1.3317869678010072\n",
      "0 1.891286433694491\n",
      "0 2.3681367312681214\n",
      "0 2.579581870898825\n",
      "0 -1.6102548451091103\n",
      "0 -2.591057530901877\n",
      "0 2.2201739661223865\n",
      "0 -0.8745917900198382\n",
      "0 -2.0412025026705325\n",
      "0 0.6065008393102396\n",
      "0 -1.5853502212726995\n",
      "0 1.159896230734015\n",
      "0 1.00753853197009\n",
      "0 -0.42704104990080877\n",
      "0 2.7702731573325194\n",
      "0 -3.99414008850908\n",
      "0 -3.1403021516862504\n",
      "0 -1.3286128490767588\n",
      "0 -1.997131084999237\n",
      "0 0.6889058446513048\n",
      "0 3.920647031893789\n",
      "0 -0.3912711735083168\n",
      "0 -2.6179154585685946\n",
      "0 -2.3865710361666412\n",
      "0 -1.1566000305203723\n",
      "0 -1.5594689455211355\n",
      "0 -2.164504806958645\n",
      "0 -2.7094765756142225\n",
      "0 2.9292232565237297\n",
      "0 0.8164810010682131\n",
      "0 -3.425484510911033\n",
      "0 3.828109262933008\n",
      "0 -3.4759041660308254\n"
     ]
    },
    {
     "data": {
      "text/plain": [
       "{0: {'mid2out0': ['mid2', 'out0', -3.000885090798108],\n",
       "  'in1mid1': ['in1', 'mid1', -3.3453990538684573],\n",
       "  'mid0out1': ['mid0', 'out1', -0.8422401953303831],\n",
       "  'in1mid0': ['in1', 'mid0', -2.6901877002899437],\n",
       "  'in1mid2': ['in1', 'mid2', -1.6938806653441172],\n",
       "  'in1out3': ['in1', 'out3', -1.6173355714939723],\n",
       "  'mid2out1': ['mid2', 'out1', -0.9828780711124676],\n",
       "  'in0mid1': ['in0', 'mid1', 1.140607355409736],\n",
       "  'mid0out2': ['mid0', 'out2', 0.9584617732336335],\n",
       "  'mid1out0': ['mid1', 'out0', 3.9016023195482985],\n",
       "  'in0mid2': ['in0', 'mid2', 3.076819777201282],\n",
       "  'in0out4': ['in0', 'out4', -0.7838852433999695],\n",
       "  'mid2mid1': ['mid2', 'mid1', 1.064794750495956],\n",
       "  'mid2mid0': ['mid2', 'mid0', 2.799084388829544]},\n",
       " 1: {'mid1mid1': ['mid1', 'mid1', 1.3317869678010072],\n",
       "  'in0out1': ['in0', 'out1', -3.975827865099954],\n",
       "  'in0mid2': ['in0', 'mid2', -2.5368533496108654],\n",
       "  'in1mid2': ['in1', 'mid2', 1.320189226308561],\n",
       "  'mid2out2': ['mid2', 'out2', -2.050114451396307],\n",
       "  'in1out4': ['in1', 'out4', 0.37613306882343966],\n",
       "  'mid1out1': ['mid1', 'out1', 3.7784220967495803],\n",
       "  'in0out0': ['in0', 'out0', 0.6038150465435679],\n",
       "  'in0out3': ['in0', 'out3', 3.6123912711735082],\n",
       "  'in0out2': ['in0', 'out2', 3.246513047459179],\n",
       "  'mid2mid1': ['mid2', 'mid1', 2.777109720738593],\n",
       "  'mid1mid2': ['mid1', 'mid2', -3.973508316801465],\n",
       "  'mid0mid0': ['mid0', 'mid0', 0.03772318022279872],\n",
       "  'mid1out2': ['mid1', 'out2', -2.146070502060125]},\n",
       " 2: {'mid0out2': ['mid0', 'out2', -0.42704104990080877],\n",
       "  'in1mid0': ['in1', 'mid0', 2.3681367312681214],\n",
       "  'mid0out1': ['mid0', 'out1', 2.579581870898825],\n",
       "  'in1mid1': ['in1', 'mid1', -0.8745917900198382],\n",
       "  'mid0mid1': ['mid0', 'mid1', -2.591057530901877],\n",
       "  'in0out2': ['in0', 'out2', -3.99414008850908],\n",
       "  'in1mid2': ['in1', 'mid2', -2.0412025026705325],\n",
       "  'mid2out2': ['mid2', 'out2', 0.6065008393102396],\n",
       "  'in1out4': ['in1', 'out4', -1.5853502212726995],\n",
       "  'mid2mid0': ['mid2', 'mid0', 2.7702731573325194],\n",
       "  'in1out3': ['in1', 'out3', -3.1403021516862504]},\n",
       " 3: {'mid1out1': ['mid1', 'out1', -1.3286128490767588],\n",
       "  'mid2mid0': ['mid2', 'mid0', -1.997131084999237],\n",
       "  'mid1mid2': ['mid1', 'mid2', 0.6889058446513048],\n",
       "  'in1out4': ['in1', 'out4', 3.920647031893789],\n",
       "  'in1mid1': ['in1', 'mid1', -0.3912711735083168],\n",
       "  'mid0mid1': ['mid0', 'mid1', -2.6179154585685946],\n",
       "  'mid2mid1': ['mid2', 'mid1', -2.3865710361666412],\n",
       "  'in1out1': ['in1', 'out1', -1.1566000305203723],\n",
       "  'mid0out4': ['mid0', 'out4', -1.5594689455211355],\n",
       "  'in1out0': ['in1', 'out0', -2.164504806958645],\n",
       "  'mid2mid2': ['mid2', 'mid2', -2.7094765756142225],\n",
       "  'mid2out1': ['mid2', 'out1', 2.9292232565237297],\n",
       "  'in1out2': ['in1', 'out2', 3.828109262933008],\n",
       "  'in0mid1': ['in0', 'mid1', -3.4759041660308254]}}"
      ]
     },
     "execution_count": 11,
     "metadata": {},
     "output_type": "execute_result"
    }
   ],
   "source": [
    "sum_duplicated_neurons(res)"
   ]
  },
  {
   "cell_type": "code",
   "execution_count": 15,
   "id": "c33e99d9",
   "metadata": {
    "ExecuteTime": {
     "end_time": "2022-06-28T17:43:52.819287Z",
     "start_time": "2022-06-28T17:43:52.806821Z"
    }
   },
   "outputs": [],
   "source": [
    "# def sum_duplicated_neurons_with_input(res, input_list):\n",
    "#     '''input_list - list of neuron and its weight'''\n",
    "\n",
    "\n",
    "\n",
    "res = copy.copy(individuals)\n",
    "dic = {}\n",
    "for nr in res:\n",
    "#     print(nr)\n",
    "    dic[nr] = {}\n",
    "    for i in res[nr]:\n",
    "        n_output = f'{i.output_type}{i.output_id}'\n",
    "        n_input = f'{i.input_type}{i.input_id}'\n",
    "        dic[nr][i.differ_neuron] = [n_input, n_output, i.weight]\n",
    "#     return dic\n",
    "#     pass"
   ]
  },
  {
   "cell_type": "code",
   "execution_count": 16,
   "id": "86ca71e1",
   "metadata": {
    "ExecuteTime": {
     "end_time": "2022-06-28T17:43:59.605689Z",
     "start_time": "2022-06-28T17:43:59.595691Z"
    }
   },
   "outputs": [
    {
     "data": {
      "text/plain": [
       "{0: {'mid2out0': ['mid2', 'out0', -3.000885090798108],\n",
       "  'in1mid1': ['in1', 'mid1', -3.3453990538684573],\n",
       "  'mid0out1': ['mid0', 'out1', -0.8422401953303831],\n",
       "  'in1mid0': ['in1', 'mid0', -2.6901877002899437],\n",
       "  'in1mid2': ['in1', 'mid2', -1.6938806653441172],\n",
       "  'in1out3': ['in1', 'out3', -1.6173355714939723],\n",
       "  'mid2out1': ['mid2', 'out1', -0.9828780711124676],\n",
       "  'in0mid1': ['in0', 'mid1', 1.140607355409736],\n",
       "  'mid0out2': ['mid0', 'out2', 0.9584617732336335],\n",
       "  'mid1out0': ['mid1', 'out0', 3.9016023195482985],\n",
       "  'in0mid2': ['in0', 'mid2', 3.076819777201282],\n",
       "  'in0out4': ['in0', 'out4', -0.7838852433999695],\n",
       "  'mid2mid1': ['mid2', 'mid1', 1.064794750495956],\n",
       "  'mid2mid0': ['mid2', 'mid0', 2.799084388829544]},\n",
       " 1: {'mid1mid1': ['mid1', 'mid1', 1.3317869678010072],\n",
       "  'in0out1': ['in0', 'out1', -3.975827865099954],\n",
       "  'in0mid2': ['in0', 'mid2', -2.5368533496108654],\n",
       "  'in1mid2': ['in1', 'mid2', 1.320189226308561],\n",
       "  'mid2out2': ['mid2', 'out2', -2.050114451396307],\n",
       "  'in1out4': ['in1', 'out4', 0.37613306882343966],\n",
       "  'mid1out1': ['mid1', 'out1', 3.7784220967495803],\n",
       "  'in0out0': ['in0', 'out0', 0.6038150465435679],\n",
       "  'in0out3': ['in0', 'out3', 3.6123912711735082],\n",
       "  'in0out2': ['in0', 'out2', 3.246513047459179],\n",
       "  'mid2mid1': ['mid2', 'mid1', 2.777109720738593],\n",
       "  'mid1mid2': ['mid1', 'mid2', -3.973508316801465],\n",
       "  'mid0mid0': ['mid0', 'mid0', 0.03772318022279872],\n",
       "  'mid1out2': ['mid1', 'out2', -2.146070502060125]},\n",
       " 2: {'mid0out2': ['mid0', 'out2', -0.42704104990080877],\n",
       "  'in1mid0': ['in1', 'mid0', 2.3681367312681214],\n",
       "  'mid0out1': ['mid0', 'out1', 2.579581870898825],\n",
       "  'in1mid1': ['in1', 'mid1', -0.8745917900198382],\n",
       "  'mid0mid1': ['mid0', 'mid1', -2.591057530901877],\n",
       "  'in0out2': ['in0', 'out2', -3.99414008850908],\n",
       "  'in1mid2': ['in1', 'mid2', -2.0412025026705325],\n",
       "  'mid2out2': ['mid2', 'out2', 0.6065008393102396],\n",
       "  'in1out4': ['in1', 'out4', -1.5853502212726995],\n",
       "  'mid2mid0': ['mid2', 'mid0', 2.7702731573325194],\n",
       "  'in1out3': ['in1', 'out3', -3.1403021516862504]},\n",
       " 3: {'mid1out1': ['mid1', 'out1', -1.3286128490767588],\n",
       "  'mid2mid0': ['mid2', 'mid0', -1.997131084999237],\n",
       "  'mid1mid2': ['mid1', 'mid2', 0.6889058446513048],\n",
       "  'in1out4': ['in1', 'out4', 3.920647031893789],\n",
       "  'in1mid1': ['in1', 'mid1', -0.3912711735083168],\n",
       "  'mid0mid1': ['mid0', 'mid1', -2.6179154585685946],\n",
       "  'mid2mid1': ['mid2', 'mid1', -2.3865710361666412],\n",
       "  'in1out1': ['in1', 'out1', -1.1566000305203723],\n",
       "  'mid0out4': ['mid0', 'out4', -1.5594689455211355],\n",
       "  'in1out0': ['in1', 'out0', -2.164504806958645],\n",
       "  'mid2mid2': ['mid2', 'mid2', -2.7094765756142225],\n",
       "  'mid2out1': ['mid2', 'out1', 2.9292232565237297],\n",
       "  'in1out2': ['in1', 'out2', 3.828109262933008],\n",
       "  'in0mid1': ['in0', 'mid1', -3.4759041660308254]}}"
      ]
     },
     "execution_count": 16,
     "metadata": {},
     "output_type": "execute_result"
    }
   ],
   "source": [
    "dic"
   ]
  },
  {
   "cell_type": "code",
   "execution_count": 13,
   "id": "99f51368",
   "metadata": {
    "ExecuteTime": {
     "end_time": "2022-06-28T17:38:24.119606Z",
     "start_time": "2022-06-28T17:38:24.102213Z"
    }
   },
   "outputs": [
    {
     "data": {
      "text/plain": [
       "('in0mid1', '1e526f38', 0, 'in', 1, 'mid', -3.4759041660308254)"
      ]
     },
     "execution_count": 13,
     "metadata": {},
     "output_type": "execute_result"
    }
   ],
   "source": [
    "i.differ_neuron, i.hex_id, i.input_id, i.input_type, i.output_id, i.output_type, i.weight"
   ]
  },
  {
   "cell_type": "code",
   "execution_count": 24,
   "id": "abf341a4",
   "metadata": {
    "ExecuteTime": {
     "end_time": "2022-06-24T21:47:42.493603Z",
     "start_time": "2022-06-24T21:47:42.472118Z"
    }
   },
   "outputs": [
    {
     "data": {
      "text/plain": [
       "{0: {'in0out1': ['in0', 'out1', -0.883015412788036],\n",
       "  'in1mid1': ['in1', 'mid1', 0.38272546925072487],\n",
       "  'mid2mid1': ['mid2', 'mid1', -2.0950404394933617],\n",
       "  'mid0out3': ['mid0', 'out3', -3.5861437509537617],\n",
       "  'in1mid0': ['in1', 'mid0', 0.6108957729284298],\n",
       "  'mid0out2': ['mid0', 'out2', 3.2749580344880207],\n",
       "  'in0out2': ['in0', 'out2', -0.04712345490614985],\n",
       "  'mid1mid2': ['mid1', 'mid2', 0.3857775064855791],\n",
       "  'mid0mid2': ['mid0', 'mid2', -0.6193193956966275],\n",
       "  'mid1mid1': ['mid1', 'mid1', 2.8210590569204945],\n",
       "  'mid0out1': ['mid0', 'out1', 2.8969937433236685],\n",
       "  'in0mid1': ['in0', 'mid1', -0.40763009308713566],\n",
       "  'in0mid2': ['in0', 'mid2', -1.0878681519914544]},\n",
       " 1: {'in0out2': ['in0', 'out2', 0.5482679688692202],\n",
       "  'mid0out1': ['mid0', 'out1', 2.695681367312681],\n",
       "  'in1out0': ['in1', 'out0', -1.2385167099038608],\n",
       "  'mid2out0': ['mid2', 'out0', 0.40067144819166794],\n",
       "  'mid2out4': ['mid2', 'out4', -1.9290096139172899],\n",
       "  'mid1mid1': ['mid1', 'mid1', 2.865862963528155],\n",
       "  'in0out4': ['in0', 'out4', -0.900961391728979],\n",
       "  'in1out2': ['in1', 'out2', 1.7916679383488479],\n",
       "  'mid1mid0': ['mid1', 'mid0', 2.3703341980772166],\n",
       "  'in1out1': ['in1', 'out1', -3.6540210590569204],\n",
       "  'in1out4': ['in1', 'out4', 1.05466198687624],\n",
       "  'in1mid0': ['in1', 'mid0', -1.2442545399053868],\n",
       "  'in0mid0': ['in0', 'mid0', 3.552083015412788],\n",
       "  'in0mid1': ['in0', 'mid1', -1.140607355409736]},\n",
       " 2: {'in1mid2': ['in1', 'mid2', 2.611200976651915],\n",
       "  'mid0mid1': ['mid0', 'mid1', -0.3452464520067145],\n",
       "  'mid0out1': ['mid0', 'out1', -0.6256676331451244],\n",
       "  'in0mid2': ['in0', 'mid2', 1.333862353120708],\n",
       "  'mid1out3': ['mid1', 'out3', -1.019624599420113],\n",
       "  'in1mid1': ['in1', 'mid1', -1.6433389287349305],\n",
       "  'mid0mid2': ['mid0', 'mid2', -3.7634060735540973],\n",
       "  'mid2mid0': ['mid2', 'mid0', 1.9257134137036471],\n",
       "  'mid2out4': ['mid2', 'out4', -3.848252708683046],\n",
       "  'in0out4': ['in0', 'out4', -2.7365786662597285],\n",
       "  'in0mid1': ['in0', 'mid1', 1.0293911185716467],\n",
       "  'in0out3': ['in0', 'out3', 2.048039066076606],\n",
       "  'in1out4': ['in1', 'out4', 0.5271478712040287],\n",
       "  'in1out3': ['in1', 'out3', 1.8072943689913017]},\n",
       " 3: {'in1mid1': ['in1', 'mid1', -0.2055852281397833],\n",
       "  'mid1mid2': ['mid1', 'mid2', 0.4850297573630398],\n",
       "  'mid2mid2': ['mid2', 'mid2', -3.3621242179154587],\n",
       "  'mid1mid1': ['mid1', 'mid1', 2.7408515183885243],\n",
       "  'in0out0': ['in0', 'out0', -1.2441324584159927],\n",
       "  'mid2mid1': ['mid2', 'mid1', 1.3190904929040135],\n",
       "  'in1mid0': ['in1', 'mid0', 2.7705173203113076],\n",
       "  'mid2out3': ['mid2', 'out3', -3.8752327178391575],\n",
       "  'in1mid2': ['in1', 'mid2', 3.726659545246452],\n",
       "  'in0mid0': ['in0', 'mid0', 1.5185716465740882],\n",
       "  'mid0mid1': ['mid0', 'mid1', -0.08240500534106517],\n",
       "  'mid2mid0': ['mid2', 'mid0', -2.1135968258812756],\n",
       "  'mid1out3': ['mid1', 'out3', -0.9898367160079353],\n",
       "  'mid0mid2': ['mid0', 'mid2', -1.85319700900351]}}"
      ]
     },
     "execution_count": 24,
     "metadata": {},
     "output_type": "execute_result"
    }
   ],
   "source": [
    "sum_duplicated_neurons(individuals)"
   ]
  },
  {
   "cell_type": "code",
   "execution_count": null,
   "id": "0762b87e",
   "metadata": {},
   "outputs": [],
   "source": []
  },
  {
   "cell_type": "code",
   "execution_count": 3,
   "id": "9222f90b",
   "metadata": {
    "ExecuteTime": {
     "end_time": "2022-06-24T20:37:27.263873Z",
     "start_time": "2022-06-24T20:37:27.240266Z"
    }
   },
   "outputs": [],
   "source": [
    "result = {0: {'out3': 1.0, 'out2': 0.087, 'out0': 0.995, 'out4': 0.992, 'out1': 0.069, 'position': [[14, 4]]},\n",
    "          1: {'out1': 0.004, 'out2': 0.318, 'out4': 0.966, 'out3': 0.005, 'out0': 0.997, 'position': [[4, 5]]},\n",
    "          2: {'out4': 1.0, 'out0': 0.048, 'out2': 0.88, 'out1': 0.732, 'out3': 0.831, 'position': [[3, 3]]},\n",
    "          3: {'out2': 0.536, 'out1': 1.0, 'out4': 0.067, 'position': [[17, 15]]}}"
   ]
  },
  {
   "cell_type": "code",
   "execution_count": 17,
   "id": "40079ed6",
   "metadata": {
    "ExecuteTime": {
     "end_time": "2022-06-28T17:47:49.457476Z",
     "start_time": "2022-06-28T17:47:49.410189Z"
    },
    "scrolled": true
   },
   "outputs": [],
   "source": [
    "k = 5\n",
    "n = 0\n",
    "while k>n:  \n",
    "    for indiv in result:\n",
    "        x, y = result[indiv]['position'][-1][0], result[indiv]['position'][-1][1]\n",
    "\n",
    "        position_list = []\n",
    "        for out in result[indiv]:\n",
    "            if 'out' in out:\n",
    "                new_pos = move(out, result[indiv][out])\n",
    "\n",
    "                position_list.append(new_pos)\n",
    "        \n",
    "        position_list = list(map(sum, zip(*position_list)))\n",
    "        position_list = make_smaller_(position_list)\n",
    "        position_list = list(map(sum, zip(*[[x, y]] + [position_list])))\n",
    "                            \n",
    "        position_list[0] = normalize_position_if_outside_world(position_list[0], world_size_x)\n",
    "        position_list[1] = normalize_position_if_outside_world(position_list[1], world_size_y)\n",
    "#         print('norm', position_list)\n",
    "        result[indiv]['position'].append(position_list)\n",
    "    \n",
    "    last_pos_list = [result[obj]['position'][-1] for obj in result]\n",
    "   \n",
    "    for obj in range(len(last_pos_list)):\n",
    "        for i_nr, i in enumerate(last_pos_list[obj+1:], start=obj+1):\n",
    "            if last_pos_list[obj] == i:\n",
    "                result[i_nr]['position'][-1] = result[i_nr]['position'][-2]     \n",
    "    n += 1\n",
    "#     print()        \n",
    "# result"
   ]
  },
  {
   "cell_type": "code",
   "execution_count": 18,
   "id": "ab60a44a",
   "metadata": {
    "ExecuteTime": {
     "end_time": "2022-06-28T17:48:02.466154Z",
     "start_time": "2022-06-28T17:48:02.442820Z"
    }
   },
   "outputs": [
    {
     "data": {
      "text/plain": [
       "{0: {'out0': 0.002,\n",
       "  'out1': 0.025,\n",
       "  'out3': 0.038,\n",
       "  'out4': 0.173,\n",
       "  'position': [[6, 5], [5, 5], [4, 4], [4, 4], [4, 3], [4, 3]]},\n",
       " 1: {'out1': 0.003,\n",
       "  'out2': 0.999,\n",
       "  'out4': 0.68,\n",
       "  'out0': 0.77,\n",
       "  'out3': 0.999,\n",
       "  'position': [[15, 17], [14, 17], [14, 16], [13, 16], [13, 15], [12, 16]]},\n",
       " 2: {'out2': 0.0,\n",
       "  'out1': 0.994,\n",
       "  'out4': 0.04,\n",
       "  'out3': 0.002,\n",
       "  'position': [[5, 9], [5, 8], [5, 7], [5, 6], [5, 5], [5, 4]]},\n",
       " 3: {'out1': 0.708,\n",
       "  'out4': 0.991,\n",
       "  'out0': 0.013,\n",
       "  'out2': 1.0,\n",
       "  'position': [[13, 3], [13, 2], [13, 1], [13, 0], [13, 0], [14, 0]]}}"
      ]
     },
     "execution_count": 18,
     "metadata": {},
     "output_type": "execute_result"
    }
   ],
   "source": [
    "result"
   ]
  },
  {
   "cell_type": "code",
   "execution_count": 5,
   "id": "44a7d51e",
   "metadata": {
    "ExecuteTime": {
     "end_time": "2022-06-24T20:37:27.339028Z",
     "start_time": "2022-06-24T20:37:27.311882Z"
    }
   },
   "outputs": [
    {
     "data": {
      "text/plain": [
       "4"
      ]
     },
     "execution_count": 5,
     "metadata": {},
     "output_type": "execute_result"
    }
   ],
   "source": [
    "a = [(3, 0),(4,1),(5,2)]\n",
    "\n",
    "def slope_intercept(x1,y1,x2,y2):\n",
    "    a = (y2 - y1) / (x2 - x1)\n",
    "    b = y1 - a * x1     \n",
    "    return a,b\n",
    "\n",
    "# print(slope_intercept(3,0,2,1))\n",
    "\n",
    "if a[-2][0] == a[-1][0]:\n",
    "    x = a[-1][0]\n",
    "elif a[-2][0] > a[-1][0]:\n",
    "    x = a[-2][0] + 1\n",
    "elif a[-2][0] < a[-1][0]:\n",
    "    x = a[-2][0] - 1\n",
    "# print(x)\n",
    "\n",
    "a[-2][0]\n",
    "\n"
   ]
  },
  {
   "cell_type": "code",
   "execution_count": null,
   "id": "032bc083",
   "metadata": {},
   "outputs": [],
   "source": []
  }
 ],
 "metadata": {
  "kernelspec": {
   "display_name": "Python 3 (ipykernel)",
   "language": "python",
   "name": "python3"
  },
  "language_info": {
   "codemirror_mode": {
    "name": "ipython",
    "version": 3
   },
   "file_extension": ".py",
   "mimetype": "text/x-python",
   "name": "python",
   "nbconvert_exporter": "python",
   "pygments_lexer": "ipython3",
   "version": "3.9.12"
  }
 },
 "nbformat": 4,
 "nbformat_minor": 5
}
