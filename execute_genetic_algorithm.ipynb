{
 "cells": [
  {
   "cell_type": "code",
   "execution_count": 1,
   "id": "07647a75",
   "metadata": {
    "ExecuteTime": {
     "end_time": "2022-06-13T20:52:59.991098Z",
     "start_time": "2022-06-13T20:52:59.675983Z"
    }
   },
   "outputs": [],
   "source": [
    "from genetic_algorithm import *\n",
    "from numpy.random import default_rng"
   ]
  },
  {
   "cell_type": "code",
   "execution_count": 2,
   "id": "89c5b605",
   "metadata": {
    "ExecuteTime": {
     "end_time": "2022-06-13T20:53:00.036101Z",
     "start_time": "2022-06-13T20:52:59.996887Z"
    }
   },
   "outputs": [
    {
     "name": "stdout",
     "output_type": "stream",
     "text": [
      "{0: {'out3': 0.533, 'out0': 0.992, 'out1': 0.661, 'out2': 0.305}, 1: {'out4': 0.435, 'out1': 0.006, 'out0': 0.904}, 2: {'out2': 0.0, 'out3': 0.879, 'out0': 0.88, 'out1': 0.999, 'out4': 0.566}, 3: {'out3': 0.893, 'out2': 0.167, 'out4': 0.971, 'out0': 0.002}}\n"
     ]
    }
   ],
   "source": [
    "\n",
    "# ## hexadecimal generator\n",
    "\n",
    "nr_of_input = 3\n",
    "nr_of_actions = 5\n",
    "nr_of_inner = 3\n",
    "nr_of_genes = 16\n",
    "nr_individuals = 4\n",
    "\n",
    "individuals = generate_initial_genomes_for_population(nr_individuals, nr_of_genes, nr_of_input, nr_of_actions, nr_of_inner)\n",
    "\n",
    "## world size\n",
    "world_size_x = 20\n",
    "world_size_y = 20\n",
    "\n",
    "rng = default_rng()\n",
    "x = rng.choice(world_size_x, size=nr_individuals, replace=False)\n",
    "y = rng.choice(world_size_y, size=nr_individuals, replace=False)\n",
    "\n",
    "# ## initial brain and position generator\n",
    "\n",
    "result = calculate_individual_output_weights(individuals)\n",
    "print(result)\n",
    "\n"
   ]
  },
  {
   "cell_type": "code",
   "execution_count": 3,
   "id": "34bfa09f",
   "metadata": {
    "ExecuteTime": {
     "end_time": "2022-06-13T20:53:00.055359Z",
     "start_time": "2022-06-13T20:53:00.047001Z"
    }
   },
   "outputs": [],
   "source": [
    "for indiv in result:\n",
    "    result[indiv]['position'] = [(x[indiv], y[indiv])]"
   ]
  },
  {
   "cell_type": "code",
   "execution_count": 4,
   "id": "ef6175cc",
   "metadata": {
    "ExecuteTime": {
     "end_time": "2022-06-13T20:53:00.091011Z",
     "start_time": "2022-06-13T20:53:00.059483Z"
    }
   },
   "outputs": [
    {
     "data": {
      "text/plain": [
       "{0: {'out3': 0.533,\n",
       "  'out0': 0.992,\n",
       "  'out1': 0.661,\n",
       "  'out2': 0.305,\n",
       "  'position': [(2, 9)]},\n",
       " 1: {'out4': 0.435, 'out1': 0.006, 'out0': 0.904, 'position': [(4, 15)]},\n",
       " 2: {'out2': 0.0,\n",
       "  'out3': 0.879,\n",
       "  'out0': 0.88,\n",
       "  'out1': 0.999,\n",
       "  'out4': 0.566,\n",
       "  'position': [(15, 13)]},\n",
       " 3: {'out3': 0.893,\n",
       "  'out2': 0.167,\n",
       "  'out4': 0.971,\n",
       "  'out0': 0.002,\n",
       "  'position': [(3, 14)]}}"
      ]
     },
     "execution_count": 4,
     "metadata": {},
     "output_type": "execute_result"
    }
   ],
   "source": [
    "result"
   ]
  },
  {
   "cell_type": "code",
   "execution_count": 5,
   "id": "40079ed6",
   "metadata": {
    "ExecuteTime": {
     "end_time": "2022-06-13T20:53:00.189793Z",
     "start_time": "2022-06-13T20:53:00.096139Z"
    },
    "scrolled": true
   },
   "outputs": [
    {
     "name": "stdout",
     "output_type": "stream",
     "text": [
      "[-1, 0]\n",
      "[-1, 1]\n",
      "[-1, 0]\n",
      "[-1, -1]\n",
      "[0, 1]\n",
      "[0, 0]\n",
      "[-1, -1]\n",
      "[-1, -1]\n",
      "[0, 0]\n",
      "[-1, 1]\n",
      "[-1, 0]\n",
      "[-1, -1]\n",
      "[1, 0]\n",
      "[-1, -1]\n",
      "[-1, -1]\n",
      "[-1, -1]\n",
      "[0, 0]\n",
      "[0, 1]\n",
      "[-1, 0]\n",
      "[-1, -1]\n",
      "[-1, 0]\n",
      "[0, 1]\n",
      "[-1, -1]\n",
      "[-1, -1]\n",
      "[-1, 0]\n",
      "[0, 0]\n",
      "[-1, -1]\n",
      "[-1, -1]\n",
      "[-1, 0]\n",
      "[-1, 1]\n",
      "[-1, -1]\n",
      "[-1, -1]\n",
      "[-1, 1]\n",
      "[-1, 1]\n",
      "[-1, -1]\n",
      "[-1, -1]\n",
      "[-1, 0]\n",
      "[-1, 1]\n",
      "[-1, -1]\n",
      "[-1, -1]\n",
      "[0, 1]\n",
      "[-1, 0]\n",
      "[-1, 0]\n",
      "[-1, -1]\n",
      "[0, 0]\n",
      "[0, 1]\n",
      "[0, -1]\n",
      "[-1, -1]\n",
      "[1, 0]\n",
      "[-1, 0]\n",
      "[-1, 0]\n",
      "[-1, -1]\n",
      "[0, 0]\n",
      "[-1, 1]\n",
      "[-1, -1]\n",
      "[-1, -1]\n",
      "[-1, 0]\n",
      "[0, 1]\n",
      "[-1, -1]\n",
      "[-1, -1]\n"
     ]
    },
    {
     "data": {
      "text/plain": [
       "{0: {'out3': 0.533,\n",
       "  'out0': 0.992,\n",
       "  'out1': 0.661,\n",
       "  'out2': 0.305,\n",
       "  'position': [(2, 9),\n",
       "   [1, 9],\n",
       "   [1, 10],\n",
       "   [1, 10],\n",
       "   [2, 10],\n",
       "   [2, 10],\n",
       "   [1, 10],\n",
       "   [0, 10],\n",
       "   [0, 10],\n",
       "   [0, 11],\n",
       "   [0, 11],\n",
       "   [0, 12],\n",
       "   [0, 12],\n",
       "   [1, 12],\n",
       "   [1, 12],\n",
       "   [0, 12]]},\n",
       " 1: {'out4': 0.435,\n",
       "  'out1': 0.006,\n",
       "  'out0': 0.904,\n",
       "  'position': [(4, 15),\n",
       "   [3, 16],\n",
       "   [3, 16],\n",
       "   [2, 17],\n",
       "   [1, 16],\n",
       "   [1, 17],\n",
       "   [1, 18],\n",
       "   [1, 18],\n",
       "   [0, 19],\n",
       "   [0, 20],\n",
       "   [0, 20],\n",
       "   [0, 20],\n",
       "   [0, 20],\n",
       "   [0, 20],\n",
       "   [0, 20],\n",
       "   [0, 20]]},\n",
       " 2: {'out2': 0.0,\n",
       "  'out3': 0.879,\n",
       "  'out0': 0.88,\n",
       "  'out1': 0.999,\n",
       "  'out4': 0.566,\n",
       "  'position': [(15, 13),\n",
       "   [14, 13],\n",
       "   [13, 12],\n",
       "   [12, 12],\n",
       "   [11, 11],\n",
       "   [10, 11],\n",
       "   [9, 10],\n",
       "   [8, 9],\n",
       "   [7, 8],\n",
       "   [6, 7],\n",
       "   [5, 6],\n",
       "   [4, 6],\n",
       "   [4, 5],\n",
       "   [3, 5],\n",
       "   [2, 4],\n",
       "   [1, 3]]},\n",
       " 3: {'out3': 0.893,\n",
       "  'out2': 0.167,\n",
       "  'out4': 0.971,\n",
       "  'out0': 0.002,\n",
       "  'position': [(3, 14),\n",
       "   [2, 13],\n",
       "   [1, 12],\n",
       "   [0, 11],\n",
       "   [0, 10],\n",
       "   [0, 9],\n",
       "   [0, 8],\n",
       "   [0, 7],\n",
       "   [0, 6],\n",
       "   [0, 5],\n",
       "   [0, 4],\n",
       "   [0, 3],\n",
       "   [0, 2],\n",
       "   [0, 1],\n",
       "   [0, 0],\n",
       "   [0, 0]]}}"
      ]
     },
     "execution_count": 5,
     "metadata": {},
     "output_type": "execute_result"
    }
   ],
   "source": [
    "k = 15\n",
    "n = 0\n",
    "while k>n:  \n",
    "    for indiv in result:\n",
    "        x = result[indiv]['position'][-1][0]\n",
    "        y = result[indiv]['position'][-1][1]\n",
    "        position_list = []\n",
    "        for out in result[indiv]:\n",
    "            if 'out' in out:\n",
    "                new_pos = move(x, y, out, result[indiv][out])\n",
    "                position_list.append(new_pos)\n",
    "        \n",
    "        position_list = list(map(sum, zip(*position_list)))\n",
    "        \n",
    "        position_list = make_smaller_(position_list)\n",
    "        print(position_list)\n",
    "        position_list = list(map(sum, zip(*[[x, y]] + [position_list])))\n",
    "\n",
    "        position_list[0] = normalize_position_if_outside_world(position_list[0], world_size_x)\n",
    "        position_list[1] = normalize_position_if_outside_world(position_list[1], world_size_y)\n",
    "        \n",
    "        \n",
    "        result[indiv]['position'].append(position_list)\n",
    "    n += 1\n",
    "            \n",
    "result"
   ]
  },
  {
   "cell_type": "code",
   "execution_count": null,
   "id": "18eef9b0",
   "metadata": {},
   "outputs": [],
   "source": []
  },
  {
   "cell_type": "code",
   "execution_count": 6,
   "id": "96906bdb",
   "metadata": {
    "ExecuteTime": {
     "end_time": "2022-06-13T20:53:00.213998Z",
     "start_time": "2022-06-13T20:53:00.194743Z"
    }
   },
   "outputs": [
    {
     "data": {
      "text/plain": [
       "[-1, -2]"
      ]
     },
     "execution_count": 6,
     "metadata": {},
     "output_type": "execute_result"
    }
   ],
   "source": [
    "position_list = [-2,-2]\n",
    "make_smaller_(position_list)\n"
   ]
  },
  {
   "cell_type": "code",
   "execution_count": 7,
   "id": "0a13c245",
   "metadata": {
    "ExecuteTime": {
     "end_time": "2022-06-13T20:53:00.238829Z",
     "start_time": "2022-06-13T20:53:00.219195Z"
    }
   },
   "outputs": [
    {
     "data": {
      "text/plain": [
       "[-1, 0]"
      ]
     },
     "execution_count": 7,
     "metadata": {},
     "output_type": "execute_result"
    }
   ],
   "source": [
    "l = [-2, 0]\n",
    "l[l.index(-2)] = -1\n",
    "l"
   ]
  },
  {
   "cell_type": "code",
   "execution_count": null,
   "id": "7f28c018",
   "metadata": {},
   "outputs": [],
   "source": []
  },
  {
   "cell_type": "code",
   "execution_count": 8,
   "id": "44a7d51e",
   "metadata": {
    "ExecuteTime": {
     "end_time": "2022-06-13T20:53:00.277312Z",
     "start_time": "2022-06-13T20:53:00.245074Z"
    }
   },
   "outputs": [
    {
     "data": {
      "text/plain": [
       "4"
      ]
     },
     "execution_count": 8,
     "metadata": {},
     "output_type": "execute_result"
    }
   ],
   "source": [
    "a = [(3, 0),(4,1),(5,2)]\n",
    "\n",
    "def slope_intercept(x1,y1,x2,y2):\n",
    "    a = (y2 - y1) / (x2 - x1)\n",
    "    b = y1 - a * x1     \n",
    "    return a,b\n",
    "\n",
    "# print(slope_intercept(3,0,2,1))\n",
    "\n",
    "if a[-2][0] == a[-1][0]:\n",
    "    x = a[-1][0]\n",
    "elif a[-2][0] > a[-1][0]:\n",
    "    x = a[-2][0] + 1\n",
    "elif a[-2][0] < a[-1][0]:\n",
    "    x = a[-2][0] - 1\n",
    "# print(x)\n",
    "\n",
    "a[-2][0]\n",
    "\n"
   ]
  },
  {
   "cell_type": "code",
   "execution_count": null,
   "id": "032bc083",
   "metadata": {},
   "outputs": [],
   "source": []
  }
 ],
 "metadata": {
  "kernelspec": {
   "display_name": "Python 3 (ipykernel)",
   "language": "python",
   "name": "python3"
  },
  "language_info": {
   "codemirror_mode": {
    "name": "ipython",
    "version": 3
   },
   "file_extension": ".py",
   "mimetype": "text/x-python",
   "name": "python",
   "nbconvert_exporter": "python",
   "pygments_lexer": "ipython3",
   "version": "3.9.12"
  }
 },
 "nbformat": 4,
 "nbformat_minor": 5
}
