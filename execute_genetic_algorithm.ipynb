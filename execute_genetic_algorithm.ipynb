{
 "cells": [
  {
   "cell_type": "markdown",
   "id": "6499aef8",
   "metadata": {
    "ExecuteTime": {
     "end_time": "2022-06-28T19:40:02.442018Z",
     "start_time": "2022-06-28T19:40:00.122777Z"
    }
   },
   "source": [
    "!jt -t chesterish\n",
    "# !jt -r"
   ]
  },
  {
   "cell_type": "code",
   "execution_count": 1,
   "id": "07647a75",
   "metadata": {
    "ExecuteTime": {
     "end_time": "2022-06-28T19:46:59.994032Z",
     "start_time": "2022-06-28T19:46:59.988448Z"
    }
   },
   "outputs": [],
   "source": [
    "from genetic_algorithm import *\n",
    "from numpy.random import default_rng\n",
    "import matplotlib.pyplot as plt\n",
    "\n",
    "import copy"
   ]
  },
  {
   "cell_type": "code",
   "execution_count": 2,
   "id": "89c5b605",
   "metadata": {
    "ExecuteTime": {
     "end_time": "2022-06-28T19:47:00.632234Z",
     "start_time": "2022-06-28T19:47:00.601568Z"
    }
   },
   "outputs": [],
   "source": [
    "\n",
    "# ## hexadecimal generator\n",
    "\n",
    "nr_of_input = 2\n",
    "nr_of_actions = 5\n",
    "nr_of_inner = 3\n",
    "nr_of_genes = 16\n",
    "nr_individuals = 4\n",
    "\n",
    "individuals = generate_initial_genomes_for_population(nr_individuals, nr_of_genes, nr_of_input, nr_of_actions, nr_of_inner)\n",
    "\n",
    "## world size\n",
    "world_size_x = 20\n",
    "world_size_y = 20\n",
    "\n",
    "rng = default_rng()\n",
    "x = rng.choice(world_size_x, size=nr_individuals, replace=False)\n",
    "y = rng.choice(world_size_y, size=nr_individuals, replace=False)\n",
    "\n",
    "# ## initial brain and position generator\n",
    "\n",
    "result = calculate_individual_output_weights(individuals)\n",
    "\n",
    "for indiv in result:\n",
    "    result[indiv]['position'] = [[x[indiv], y[indiv]]]"
   ]
  },
  {
   "cell_type": "code",
   "execution_count": 3,
   "id": "42a6aff2",
   "metadata": {},
   "outputs": [
    {
     "data": {
      "text/plain": [
       "{0: {'out': {'out0': 1.0, 'out2': 0.0, 'out1': 0.874, 'out4': 0.86},\n",
       "  'src': {'mid1mid1': ['mid1', 'mid1', 2.8662292079963376],\n",
       "   'mid2mid0': ['mid2', 'mid0', -3.540607355409736],\n",
       "   'mid0mid0': ['mid0', 'mid0', 1.0351289485731725],\n",
       "   'in0out0': ['in0', 'out0', 1.14072943689913],\n",
       "   'mid2mid2': ['mid2', 'mid2', 1.2366854875629483],\n",
       "   'in0out2': ['in0', 'out2', -1.3856249046238365],\n",
       "   'in1out0': ['in1', 'out0', 3.9216236838089427],\n",
       "   'in1mid2': ['in1', 'mid2', -1.77445444834427],\n",
       "   'in1out2': ['in1', 'out2', -3.575766824355257],\n",
       "   'mid1out1': ['mid1', 'out1', 0.6972073859301083],\n",
       "   'mid0out4': ['mid0', 'out4', 0.36490157179917593],\n",
       "   'mid2out0': ['mid2', 'out0', 3.7872119639859605],\n",
       "   'mid1out2': ['mid1', 'out2', 0.732733099343812]},\n",
       "  'in': ['in0', 'in1'],\n",
       "  'position': [[4, 9]]},\n",
       " 1: {'out': {'out0': 1.0},\n",
       "  'src': {'in0mid2': ['in0', 'mid2', 3.22429421638944],\n",
       "   'mid2mid1': ['mid2', 'mid1', 0.45450938501449717],\n",
       "   'mid0mid2': ['mid0', 'mid2', -2.972440103769266],\n",
       "   'mid1mid0': ['mid1', 'mid0', 0.36758736456584773],\n",
       "   'in1mid1': ['in1', 'mid1', 2.5370975125896535],\n",
       "   'in1mid2': ['in1', 'mid2', -0.6625362429421638],\n",
       "   'mid2out0': ['mid2', 'out0', 1.2590264001220814],\n",
       "   'mid1mid1': ['mid1', 'mid1', 1.434091255913322],\n",
       "   'mid1out0': ['mid1', 'out0', 0.48197772012818557],\n",
       "   'mid0out0': ['mid0', 'out0', 3.67916984587212]},\n",
       "  'in': ['in0', 'in1'],\n",
       "  'position': [[7, 8]]},\n",
       " 2: {'out': {'out1': 1.0, 'out3': 0.072, 'out4': 0.221, 'out2': 0.013},\n",
       "  'src': {'in0out1': ['in0', 'out1', -1.741736609186632],\n",
       "   'mid0mid2': ['mid0', 'mid2', 3.8261559591027012],\n",
       "   'mid0out3': ['mid0', 'out3', -1.2746528307645353],\n",
       "   'mid0mid1': ['mid0', 'mid1', 0.1453990538684572],\n",
       "   'mid0out4': ['mid0', 'out4', 1.0779795513505264],\n",
       "   'in1mid1': ['in1', 'mid1', -0.4100717228750191],\n",
       "   'mid1mid1': ['mid1', 'mid1', -3.4896993743323668],\n",
       "   'in1mid0': ['in1', 'mid0', 3.2664123302304287],\n",
       "   'in1out4': ['in1', 'out4', 1.9788188615901114],\n",
       "   'mid0out1': ['mid0', 'out1', 2.2802380589043185],\n",
       "   'in0mid2': ['in0', 'mid2', -0.3440256371127728],\n",
       "   'mid2out4': ['mid2', 'out4', -3.6869830611933465],\n",
       "   'in0mid0': ['in0', 'mid0', -0.1623683808942469],\n",
       "   'in1mid2': ['in1', 'mid2', -3.210743171066687],\n",
       "   'in0out2': ['in0', 'out2', -2.1563253471692354],\n",
       "   'mid2out1': ['mid2', 'out1', 3.275934686403174]},\n",
       "  'in': ['in0', 'in1'],\n",
       "  'position': [[2, 0]]},\n",
       " 3: {'out': {'out4': 0.008, 'out0': 0.045, 'out2': 0.999},\n",
       "  'src': {'in1mid1': ['in1', 'mid1', -1.702304288112315],\n",
       "   'in1mid0': ['in1', 'mid0', -2.539539142377537],\n",
       "   'mid0out4': ['mid0', 'out4', 0.5437509537616358],\n",
       "   'mid0mid1': ['mid0', 'mid1', 3.4989775675263237],\n",
       "   'mid1out0': ['mid1', 'out0', 0.9064550587517167],\n",
       "   'in1out0': ['in1', 'out0', -3.177292842972684],\n",
       "   'mid0mid2': ['mid0', 'mid2', 2.899435373111552],\n",
       "   'in0mid2': ['in0', 'mid2', 1.6152601861742713],\n",
       "   'in0out2': ['in0', 'out2', 3.25151838852434],\n",
       "   'mid1mid1': ['mid1', 'mid1', -0.636166641233023],\n",
       "   'in1out4': ['in1', 'out4', -2.704837479017244],\n",
       "   'mid2out0': ['mid2', 'out0', 2.6699221730505114],\n",
       "   'in0out0': ['in0', 'out0', -1.5423775370059514],\n",
       "   'mid2mid2': ['mid2', 'mid2', 2.420143445750038]},\n",
       "  'in': ['in0', 'in1'],\n",
       "  'position': [[8, 7]]}}"
      ]
     },
     "execution_count": 3,
     "metadata": {},
     "output_type": "execute_result"
    }
   ],
   "source": [
    "result"
   ]
  },
  {
   "cell_type": "code",
   "execution_count": 4,
   "id": "c33e99d9",
   "metadata": {
    "ExecuteTime": {
     "end_time": "2022-06-28T19:43:47.353763Z",
     "start_time": "2022-06-28T19:43:47.353343Z"
    }
   },
   "outputs": [],
   "source": [
    "## def sum_duplicated_neurons_with_input(res, input_list):\n",
    "##     '''input_list - list of neuron and its weight'''\n",
    "# res = copy.copy(individuals)\n",
    "# dic = {}\n",
    "# for nr in res:\n",
    "# #     print(nr)\n",
    "#     dic[nr] = {}\n",
    "#     for i in res[nr]:\n",
    "#         n_output = f'{i.output_type}{i.output_id}'\n",
    "#         n_input = f'{i.input_type}{i.input_id}'\n",
    "#         dic[nr][i.differ_neuron] = [n_input, n_output, i.weight]\n",
    "##     return dic\n",
    "##     pass"
   ]
  },
  {
   "cell_type": "code",
   "execution_count": 5,
   "id": "40079ed6",
   "metadata": {
    "ExecuteTime": {
     "end_time": "2022-06-28T19:55:54.191637Z",
     "start_time": "2022-06-28T19:55:54.163719Z"
    },
    "scrolled": true
   },
   "outputs": [],
   "source": [
    "k = 1\n",
    "n = 0\n",
    "while k>n: \n",
    "    for indiv in result:\n",
    "        x, y = result[indiv]['position'][-1][0], result[indiv]['position'][-1][1]\n",
    "        position_list = []\n",
    "        for out in result[indiv]['out']:\n",
    "#             if 'out' in out:\n",
    "            new_pos = move(out, result[indiv]['out'][out])\n",
    "            position_list.append(new_pos)\n",
    "        \n",
    "        position_list = list(map(sum, zip(*position_list)))\n",
    "        position_list = make_smaller_(position_list)\n",
    "        position_list = list(map(sum, zip(*[[x, y]] + [position_list])))\n",
    "                            \n",
    "        position_list[0] = normalize_position_if_outside_world(position_list[0], world_size_x)\n",
    "        position_list[1] = normalize_position_if_outside_world(position_list[1], world_size_y)\n",
    "#         print('norm', position_list)\n",
    "        result[indiv]['position'].append(position_list)\n",
    "######### if n>=1 proceed with neurons #######        \n",
    "        \n",
    "        \n",
    "    last_pos_list = [result[obj]['position'][-1] for obj in result]\n",
    "    \n",
    "    for obj in range(len(last_pos_list)):\n",
    "        for i_nr, i in enumerate(last_pos_list[obj+1:], start=obj+1):\n",
    "            if last_pos_list[obj] == i:\n",
    "                result[i_nr]['position'][-1] = result[i_nr]['position'][-2]     \n",
    "    n += 1\n",
    "#     print()        \n",
    "# result"
   ]
  },
  {
   "cell_type": "code",
   "execution_count": 6,
   "id": "f0823664",
   "metadata": {},
   "outputs": [
    {
     "data": {
      "text/plain": [
       "{0: {'out': {'out0': 1.0, 'out2': 0.0, 'out1': 0.874, 'out4': 0.86},\n",
       "  'src': {'mid1mid1': ['mid1', 'mid1', 2.8662292079963376],\n",
       "   'mid2mid0': ['mid2', 'mid0', -3.540607355409736],\n",
       "   'mid0mid0': ['mid0', 'mid0', 1.0351289485731725],\n",
       "   'in0out0': ['in0', 'out0', 1.14072943689913],\n",
       "   'mid2mid2': ['mid2', 'mid2', 1.2366854875629483],\n",
       "   'in0out2': ['in0', 'out2', -1.3856249046238365],\n",
       "   'in1out0': ['in1', 'out0', 3.9216236838089427],\n",
       "   'in1mid2': ['in1', 'mid2', -1.77445444834427],\n",
       "   'in1out2': ['in1', 'out2', -3.575766824355257],\n",
       "   'mid1out1': ['mid1', 'out1', 0.6972073859301083],\n",
       "   'mid0out4': ['mid0', 'out4', 0.36490157179917593],\n",
       "   'mid2out0': ['mid2', 'out0', 3.7872119639859605],\n",
       "   'mid1out2': ['mid1', 'out2', 0.732733099343812]},\n",
       "  'in': ['in0', 'in1'],\n",
       "  'position': [[4, 9], [3, 8]]},\n",
       " 1: {'out': {'out0': 1.0},\n",
       "  'src': {'in0mid2': ['in0', 'mid2', 3.22429421638944],\n",
       "   'mid2mid1': ['mid2', 'mid1', 0.45450938501449717],\n",
       "   'mid0mid2': ['mid0', 'mid2', -2.972440103769266],\n",
       "   'mid1mid0': ['mid1', 'mid0', 0.36758736456584773],\n",
       "   'in1mid1': ['in1', 'mid1', 2.5370975125896535],\n",
       "   'in1mid2': ['in1', 'mid2', -0.6625362429421638],\n",
       "   'mid2out0': ['mid2', 'out0', 1.2590264001220814],\n",
       "   'mid1mid1': ['mid1', 'mid1', 1.434091255913322],\n",
       "   'mid1out0': ['mid1', 'out0', 0.48197772012818557],\n",
       "   'mid0out0': ['mid0', 'out0', 3.67916984587212]},\n",
       "  'in': ['in0', 'in1'],\n",
       "  'position': [[7, 8], [7, 9]]},\n",
       " 2: {'out': {'out1': 1.0, 'out3': 0.072, 'out4': 0.221, 'out2': 0.013},\n",
       "  'src': {'in0out1': ['in0', 'out1', -1.741736609186632],\n",
       "   'mid0mid2': ['mid0', 'mid2', 3.8261559591027012],\n",
       "   'mid0out3': ['mid0', 'out3', -1.2746528307645353],\n",
       "   'mid0mid1': ['mid0', 'mid1', 0.1453990538684572],\n",
       "   'mid0out4': ['mid0', 'out4', 1.0779795513505264],\n",
       "   'in1mid1': ['in1', 'mid1', -0.4100717228750191],\n",
       "   'mid1mid1': ['mid1', 'mid1', -3.4896993743323668],\n",
       "   'in1mid0': ['in1', 'mid0', 3.2664123302304287],\n",
       "   'in1out4': ['in1', 'out4', 1.9788188615901114],\n",
       "   'mid0out1': ['mid0', 'out1', 2.2802380589043185],\n",
       "   'in0mid2': ['in0', 'mid2', -0.3440256371127728],\n",
       "   'mid2out4': ['mid2', 'out4', -3.6869830611933465],\n",
       "   'in0mid0': ['in0', 'mid0', -0.1623683808942469],\n",
       "   'in1mid2': ['in1', 'mid2', -3.210743171066687],\n",
       "   'in0out2': ['in0', 'out2', -2.1563253471692354],\n",
       "   'mid2out1': ['mid2', 'out1', 3.275934686403174]},\n",
       "  'in': ['in0', 'in1'],\n",
       "  'position': [[2, 0], [2, 0]]},\n",
       " 3: {'out': {'out4': 0.008, 'out0': 0.045, 'out2': 0.999},\n",
       "  'src': {'in1mid1': ['in1', 'mid1', -1.702304288112315],\n",
       "   'in1mid0': ['in1', 'mid0', -2.539539142377537],\n",
       "   'mid0out4': ['mid0', 'out4', 0.5437509537616358],\n",
       "   'mid0mid1': ['mid0', 'mid1', 3.4989775675263237],\n",
       "   'mid1out0': ['mid1', 'out0', 0.9064550587517167],\n",
       "   'in1out0': ['in1', 'out0', -3.177292842972684],\n",
       "   'mid0mid2': ['mid0', 'mid2', 2.899435373111552],\n",
       "   'in0mid2': ['in0', 'mid2', 1.6152601861742713],\n",
       "   'in0out2': ['in0', 'out2', 3.25151838852434],\n",
       "   'mid1mid1': ['mid1', 'mid1', -0.636166641233023],\n",
       "   'in1out4': ['in1', 'out4', -2.704837479017244],\n",
       "   'mid2out0': ['mid2', 'out0', 2.6699221730505114],\n",
       "   'in0out0': ['in0', 'out0', -1.5423775370059514],\n",
       "   'mid2mid2': ['mid2', 'mid2', 2.420143445750038]},\n",
       "  'in': ['in0', 'in1'],\n",
       "  'position': [[8, 7], [9, 7]]}}"
      ]
     },
     "execution_count": 6,
     "metadata": {},
     "output_type": "execute_result"
    }
   ],
   "source": [
    "result"
   ]
  },
  {
   "cell_type": "code",
   "execution_count": 11,
   "id": "871b6e27",
   "metadata": {},
   "outputs": [
    {
     "ename": "KeyError",
     "evalue": "0",
     "output_type": "error",
     "traceback": [
      "\u001b[1;31m---------------------------------------------------------------------------\u001b[0m",
      "\u001b[1;31mKeyError\u001b[0m                                  Traceback (most recent call last)",
      "Input \u001b[1;32mIn [11]\u001b[0m, in \u001b[0;36m<cell line: 4>\u001b[1;34m()\u001b[0m\n\u001b[0;32m      1\u001b[0m \u001b[38;5;66;03m# def apply_input(result, nr_of_individual):\u001b[39;00m\n\u001b[0;32m      2\u001b[0m \u001b[38;5;66;03m#     '''apply input regarding position of other individuals'''\u001b[39;00m\n\u001b[0;32m      3\u001b[0m nr_of_individual \u001b[38;5;241m=\u001b[39m \u001b[38;5;241m0\u001b[39m\n\u001b[1;32m----> 4\u001b[0m pos \u001b[38;5;241m=\u001b[39m \u001b[43mresult\u001b[49m\u001b[43m[\u001b[49m\u001b[43mnr_of_individual\u001b[49m\u001b[43m]\u001b[49m[\u001b[38;5;124m'\u001b[39m\u001b[38;5;124mposition\u001b[39m\u001b[38;5;124m'\u001b[39m]\n\u001b[0;32m      5\u001b[0m in_keys \u001b[38;5;241m=\u001b[39m result[nr_of_individual][\u001b[38;5;124m'\u001b[39m\u001b[38;5;124min\u001b[39m\u001b[38;5;124m'\u001b[39m]\n\u001b[0;32m      7\u001b[0m \u001b[38;5;28;01mdel\u001b[39;00m result[nr_of_individual]\n",
      "\u001b[1;31mKeyError\u001b[0m: 0"
     ]
    }
   ],
   "source": [
    "# def apply_input(result, nr_of_individual):\n",
    "#     '''apply input regarding position of other individuals'''\n",
    "nr_of_individual = 0\n",
    "pos = result[nr_of_individual]['position']\n",
    "in_keys = result[nr_of_individual]['in']\n",
    "\n",
    "del result[nr_of_individual]\n",
    "\n",
    "for key in in_keys:\n",
    "    in_weight = input_neuron(key, pos, result)\n",
    "    for i in result[1]['src']:\n",
    "        if in_weight[0] == result[1]['src'][i][0]:\n",
    "            result[1]['src'][i][2] += in_weight[1]\n",
    "            "
   ]
  },
  {
   "cell_type": "code",
   "execution_count": 10,
   "id": "e6592e4b",
   "metadata": {},
   "outputs": [
    {
     "name": "stdout",
     "output_type": "stream",
     "text": [
      "['in0', 'mid2', 3.22429421638944]\n",
      "['in1', 'mid1', 2.5370975125896535]\n",
      "['in1', 'mid2', -0.6625362429421638]\n"
     ]
    }
   ],
   "source": [
    "for j in [('in0', 0), ('in1', 0)]:\n",
    "    for i in result[1]['src']:\n",
    "        if j[0] == result[1]['src'][i][0]:\n",
    "            result[1]['src'][i][2] += j[1]\n",
    "            "
   ]
  },
  {
   "cell_type": "code",
   "execution_count": null,
   "id": "a72b2968",
   "metadata": {},
   "outputs": [],
   "source": []
  },
  {
   "cell_type": "code",
   "execution_count": 9,
   "id": "44a7d51e",
   "metadata": {
    "ExecuteTime": {
     "end_time": "2022-06-28T19:43:47.379079Z",
     "start_time": "2022-06-28T19:43:47.379079Z"
    }
   },
   "outputs": [
    {
     "data": {
      "text/plain": [
       "4"
      ]
     },
     "execution_count": 9,
     "metadata": {},
     "output_type": "execute_result"
    }
   ],
   "source": [
    "a = [(3, 0),(4,1),(5,2)]\n",
    "\n",
    "def slope_intercept(x1,y1,x2,y2):\n",
    "    a = (y2 - y1) / (x2 - x1)\n",
    "    b = y1 - a * x1     \n",
    "    return a,b\n",
    "\n",
    "# print(slope_intercept(3,0,2,1))\n",
    "\n",
    "if a[-2][0] == a[-1][0]:\n",
    "    x = a[-1][0]\n",
    "elif a[-2][0] > a[-1][0]:\n",
    "    x = a[-2][0] + 1\n",
    "elif a[-2][0] < a[-1][0]:\n",
    "    x = a[-2][0] - 1\n",
    "# print(x)\n",
    "\n",
    "a[-2][0]\n",
    "\n"
   ]
  },
  {
   "cell_type": "code",
   "execution_count": null,
   "id": "032bc083",
   "metadata": {},
   "outputs": [],
   "source": []
  }
 ],
 "metadata": {
  "kernelspec": {
   "display_name": "Python 3 (ipykernel)",
   "language": "python",
   "name": "python3"
  },
  "language_info": {
   "codemirror_mode": {
    "name": "ipython",
    "version": 3
   },
   "file_extension": ".py",
   "mimetype": "text/x-python",
   "name": "python",
   "nbconvert_exporter": "python",
   "pygments_lexer": "ipython3",
   "version": "3.9.12"
  }
 },
 "nbformat": 4,
 "nbformat_minor": 5
}
