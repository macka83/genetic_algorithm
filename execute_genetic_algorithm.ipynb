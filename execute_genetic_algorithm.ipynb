{
 "cells": [
  {
   "cell_type": "markdown",
   "id": "6499aef8",
   "metadata": {
    "ExecuteTime": {
     "end_time": "2022-06-28T19:40:02.442018Z",
     "start_time": "2022-06-28T19:40:00.122777Z"
    }
   },
   "source": [
    "!jt -t chesterish\n",
    "# !jt -r"
   ]
  },
  {
   "cell_type": "code",
   "execution_count": 1,
   "id": "07647a75",
   "metadata": {
    "ExecuteTime": {
     "end_time": "2022-07-06T17:54:32.230761Z",
     "start_time": "2022-07-06T17:54:29.822786Z"
    }
   },
   "outputs": [],
   "source": [
    "from genetic_algorithm import *\n",
    "from numpy.random import default_rng\n",
    "from tqdm import tqdm\n",
    "from itertools import product #combinations_with_replacement\n",
    "import binascii\n",
    "%matplotlib notebook\n",
    "\n",
    "import matplotlib.pyplot as plt\n",
    "import math\n",
    "from matplotlib.animation import FuncAnimation\n",
    "\n",
    "import copy\n",
    "from collections import Counter\n",
    "import pandas as pd"
   ]
  },
  {
   "cell_type": "code",
   "execution_count": 2,
   "id": "89c5b605",
   "metadata": {
    "ExecuteTime": {
     "end_time": "2022-07-06T17:54:32.421139Z",
     "start_time": "2022-07-06T17:54:32.236940Z"
    }
   },
   "outputs": [],
   "source": [
    "## hexadecimal generator\n",
    "\n",
    "nr_of_input = 2\n",
    "nr_of_actions = 5\n",
    "nr_of_inner = 3\n",
    "nr_of_genes = 8\n",
    "nr_individuals = 500\n",
    "\n",
    "individuals = generate_initial_genomes_for_population(nr_individuals, nr_of_genes, nr_of_input, nr_of_actions, nr_of_inner)\n",
    "\n",
    "## world size\n",
    "ws = 40\n",
    "world_size_x = ws\n",
    "world_size_y = ws\n",
    "\n",
    "##TODo if world_size_x != world_size_y fit then limit coord_full_list \n",
    "\n",
    "coord_full_list = np.array(list(product(range(ws), repeat=2)))\n",
    "ind = np.random.choice(len(coord_full_list), nr_individuals, replace=False)\n",
    "pos = coord_full_list[ind]\n",
    "\n",
    "## initial brain and position generator\n",
    "\n",
    "result = calculate_individual_output_weights(individuals)\n",
    "\n",
    "## add genome\n",
    "\n",
    "for indiv in result:\n",
    "    result[indiv]['genome'] = [i.hex_id for i in individuals[indiv]]\n",
    "    \n",
    "## assign position and remove brains without output\n",
    "\n",
    "indiv_to_del = []\n",
    "for indiv in result:\n",
    "    if result[indiv]['out']:\n",
    "        result[indiv]['position'] = [list(pos[indiv])]\n",
    "    else:\n",
    "        indiv_to_del.append(indiv)\n",
    "\n",
    "for key in indiv_to_del:\n",
    "    del result[key] "
   ]
  },
  {
   "cell_type": "code",
   "execution_count": 3,
   "id": "a2ecd7fe",
   "metadata": {
    "ExecuteTime": {
     "end_time": "2022-07-06T17:54:32.430031Z",
     "start_time": "2022-07-06T17:54:32.424220Z"
    },
    "scrolled": true
   },
   "outputs": [],
   "source": [
    "# result"
   ]
  },
  {
   "cell_type": "code",
   "execution_count": 4,
   "id": "45dfae6f",
   "metadata": {
    "ExecuteTime": {
     "end_time": "2022-07-06T17:54:32.456378Z",
     "start_time": "2022-07-06T17:54:32.436695Z"
    }
   },
   "outputs": [],
   "source": [
    "def prevent_overlap_movement(last_pos_list, result):\n",
    "    '''check if last position of each individual ovrlap with another. If yes then last posotion is switched to last but one. \n",
    "    last_pos_list - dictionary of individuals kesy and last position\n",
    "    result- total info about all individuals'''\n",
    "    list_of_resuls = []\n",
    "    for key_1, val_1 in last_pos_list.items():\n",
    "        last_pos_list_copy = copy.copy(last_pos_list)\n",
    "        del last_pos_list_copy[key_1]\n",
    "        list_of_keys = []\n",
    "        for key_2, val_2 in last_pos_list_copy.items():\n",
    "            if val_1 == val_2:\n",
    "                pos2_minus = result[key_2]['position']\n",
    "                pos1_minus = result[key_1]['position']\n",
    "                \n",
    "                if pos2_minus[-1] != pos2_minus[-2]:\n",
    "                    pos2_minus[-1] = pos2_minus[-2]\n",
    "                    last_pos_list[key_2] = pos2_minus[-2]\n",
    "                    prevent_overlap_movement(last_pos_list, result)\n",
    "                    list_of_resuls.append(2)\n",
    "                elif pos2_minus[-1]== pos2_minus[-2] and pos1_minus[-1] != pos1_minus[-2]:\n",
    "                    pos1_minus[-1] = pos1_minus[-2]\n",
    "                    last_pos_list[key_1] = pos1_minus[-2]\n",
    "                    prevent_overlap_movement(last_pos_list, result)\n",
    "                    list_of_resuls.append(1)\n",
    "                else:\n",
    "                    list_of_resuls.append([[key_1, key_2]])\n",
    "#     print(list_of_resuls)"
   ]
  },
  {
   "cell_type": "code",
   "execution_count": 5,
   "id": "40079ed6",
   "metadata": {
    "ExecuteTime": {
     "end_time": "2022-07-06T17:56:28.777813Z",
     "start_time": "2022-07-06T17:54:32.461677Z"
    },
    "scrolled": true
   },
   "outputs": [
    {
     "name": "stderr",
     "output_type": "stream",
     "text": [
      " 35%|████████████████████████████▋                                                     | 14/40 [01:49<04:58, 11.49s/it]"
     ]
    },
    {
     "ename": "KeyboardInterrupt",
     "evalue": "",
     "output_type": "error",
     "traceback": [
      "\u001b[1;31m---------------------------------------------------------------------------\u001b[0m",
      "\u001b[1;31mKeyboardInterrupt\u001b[0m                         Traceback (most recent call last)",
      "Input \u001b[1;32mIn [5]\u001b[0m, in \u001b[0;36m<cell line: 7>\u001b[1;34m()\u001b[0m\n\u001b[0;32m     19\u001b[0m             calculate_position(result, indiv, x, y, world_size_x, world_size_y)\n\u001b[0;32m     20\u001b[0m     last_pos_list \u001b[38;5;241m=\u001b[39m {obj:result[obj][\u001b[38;5;124m'\u001b[39m\u001b[38;5;124mposition\u001b[39m\u001b[38;5;124m'\u001b[39m][\u001b[38;5;241m-\u001b[39m\u001b[38;5;241m1\u001b[39m] \u001b[38;5;28;01mfor\u001b[39;00m obj \u001b[38;5;129;01min\u001b[39;00m result}\n\u001b[1;32m---> 21\u001b[0m     \u001b[43mprevent_overlap_movement\u001b[49m\u001b[43m(\u001b[49m\u001b[43mlast_pos_list\u001b[49m\u001b[43m,\u001b[49m\u001b[43m \u001b[49m\u001b[43mresult\u001b[49m\u001b[43m)\u001b[49m\n\u001b[0;32m     22\u001b[0m \u001b[38;5;66;03m#     print()\u001b[39;00m\n\u001b[0;32m     23\u001b[0m     n \u001b[38;5;241m+\u001b[39m\u001b[38;5;241m=\u001b[39m \u001b[38;5;241m1\u001b[39m\n",
      "Input \u001b[1;32mIn [4]\u001b[0m, in \u001b[0;36mprevent_overlap_movement\u001b[1;34m(last_pos_list, result)\u001b[0m\n\u001b[0;32m     21\u001b[0m     pos1_minus[\u001b[38;5;241m-\u001b[39m\u001b[38;5;241m1\u001b[39m] \u001b[38;5;241m=\u001b[39m pos1_minus[\u001b[38;5;241m-\u001b[39m\u001b[38;5;241m2\u001b[39m]\n\u001b[0;32m     22\u001b[0m     last_pos_list[key_1] \u001b[38;5;241m=\u001b[39m pos1_minus[\u001b[38;5;241m-\u001b[39m\u001b[38;5;241m2\u001b[39m]\n\u001b[1;32m---> 23\u001b[0m     \u001b[43mprevent_overlap_movement\u001b[49m\u001b[43m(\u001b[49m\u001b[43mlast_pos_list\u001b[49m\u001b[43m,\u001b[49m\u001b[43m \u001b[49m\u001b[43mresult\u001b[49m\u001b[43m)\u001b[49m\n\u001b[0;32m     24\u001b[0m     list_of_resuls\u001b[38;5;241m.\u001b[39mappend(\u001b[38;5;241m1\u001b[39m)\n\u001b[0;32m     25\u001b[0m \u001b[38;5;28;01melse\u001b[39;00m:\n",
      "Input \u001b[1;32mIn [4]\u001b[0m, in \u001b[0;36mprevent_overlap_movement\u001b[1;34m(last_pos_list, result)\u001b[0m\n\u001b[0;32m     16\u001b[0m     pos2_minus[\u001b[38;5;241m-\u001b[39m\u001b[38;5;241m1\u001b[39m] \u001b[38;5;241m=\u001b[39m pos2_minus[\u001b[38;5;241m-\u001b[39m\u001b[38;5;241m2\u001b[39m]\n\u001b[0;32m     17\u001b[0m     last_pos_list[key_2] \u001b[38;5;241m=\u001b[39m pos2_minus[\u001b[38;5;241m-\u001b[39m\u001b[38;5;241m2\u001b[39m]\n\u001b[1;32m---> 18\u001b[0m     \u001b[43mprevent_overlap_movement\u001b[49m\u001b[43m(\u001b[49m\u001b[43mlast_pos_list\u001b[49m\u001b[43m,\u001b[49m\u001b[43m \u001b[49m\u001b[43mresult\u001b[49m\u001b[43m)\u001b[49m\n\u001b[0;32m     19\u001b[0m     list_of_resuls\u001b[38;5;241m.\u001b[39mappend(\u001b[38;5;241m2\u001b[39m)\n\u001b[0;32m     20\u001b[0m \u001b[38;5;28;01melif\u001b[39;00m pos2_minus[\u001b[38;5;241m-\u001b[39m\u001b[38;5;241m1\u001b[39m]\u001b[38;5;241m==\u001b[39m pos2_minus[\u001b[38;5;241m-\u001b[39m\u001b[38;5;241m2\u001b[39m] \u001b[38;5;129;01mand\u001b[39;00m pos1_minus[\u001b[38;5;241m-\u001b[39m\u001b[38;5;241m1\u001b[39m] \u001b[38;5;241m!=\u001b[39m pos1_minus[\u001b[38;5;241m-\u001b[39m\u001b[38;5;241m2\u001b[39m]:\n",
      "Input \u001b[1;32mIn [4]\u001b[0m, in \u001b[0;36mprevent_overlap_movement\u001b[1;34m(last_pos_list, result)\u001b[0m\n\u001b[0;32m     16\u001b[0m     pos2_minus[\u001b[38;5;241m-\u001b[39m\u001b[38;5;241m1\u001b[39m] \u001b[38;5;241m=\u001b[39m pos2_minus[\u001b[38;5;241m-\u001b[39m\u001b[38;5;241m2\u001b[39m]\n\u001b[0;32m     17\u001b[0m     last_pos_list[key_2] \u001b[38;5;241m=\u001b[39m pos2_minus[\u001b[38;5;241m-\u001b[39m\u001b[38;5;241m2\u001b[39m]\n\u001b[1;32m---> 18\u001b[0m     \u001b[43mprevent_overlap_movement\u001b[49m\u001b[43m(\u001b[49m\u001b[43mlast_pos_list\u001b[49m\u001b[43m,\u001b[49m\u001b[43m \u001b[49m\u001b[43mresult\u001b[49m\u001b[43m)\u001b[49m\n\u001b[0;32m     19\u001b[0m     list_of_resuls\u001b[38;5;241m.\u001b[39mappend(\u001b[38;5;241m2\u001b[39m)\n\u001b[0;32m     20\u001b[0m \u001b[38;5;28;01melif\u001b[39;00m pos2_minus[\u001b[38;5;241m-\u001b[39m\u001b[38;5;241m1\u001b[39m]\u001b[38;5;241m==\u001b[39m pos2_minus[\u001b[38;5;241m-\u001b[39m\u001b[38;5;241m2\u001b[39m] \u001b[38;5;129;01mand\u001b[39;00m pos1_minus[\u001b[38;5;241m-\u001b[39m\u001b[38;5;241m1\u001b[39m] \u001b[38;5;241m!=\u001b[39m pos1_minus[\u001b[38;5;241m-\u001b[39m\u001b[38;5;241m2\u001b[39m]:\n",
      "    \u001b[1;31m[... skipping similar frames: prevent_overlap_movement at line 18 (1 times)]\u001b[0m\n",
      "Input \u001b[1;32mIn [4]\u001b[0m, in \u001b[0;36mprevent_overlap_movement\u001b[1;34m(last_pos_list, result)\u001b[0m\n\u001b[0;32m     21\u001b[0m     pos1_minus[\u001b[38;5;241m-\u001b[39m\u001b[38;5;241m1\u001b[39m] \u001b[38;5;241m=\u001b[39m pos1_minus[\u001b[38;5;241m-\u001b[39m\u001b[38;5;241m2\u001b[39m]\n\u001b[0;32m     22\u001b[0m     last_pos_list[key_1] \u001b[38;5;241m=\u001b[39m pos1_minus[\u001b[38;5;241m-\u001b[39m\u001b[38;5;241m2\u001b[39m]\n\u001b[1;32m---> 23\u001b[0m     \u001b[43mprevent_overlap_movement\u001b[49m\u001b[43m(\u001b[49m\u001b[43mlast_pos_list\u001b[49m\u001b[43m,\u001b[49m\u001b[43m \u001b[49m\u001b[43mresult\u001b[49m\u001b[43m)\u001b[49m\n\u001b[0;32m     24\u001b[0m     list_of_resuls\u001b[38;5;241m.\u001b[39mappend(\u001b[38;5;241m1\u001b[39m)\n\u001b[0;32m     25\u001b[0m \u001b[38;5;28;01melse\u001b[39;00m:\n",
      "    \u001b[1;31m[... skipping similar frames: prevent_overlap_movement at line 18 (80 times), prevent_overlap_movement at line 23 (54 times)]\u001b[0m\n",
      "Input \u001b[1;32mIn [4]\u001b[0m, in \u001b[0;36mprevent_overlap_movement\u001b[1;34m(last_pos_list, result)\u001b[0m\n\u001b[0;32m     21\u001b[0m     pos1_minus[\u001b[38;5;241m-\u001b[39m\u001b[38;5;241m1\u001b[39m] \u001b[38;5;241m=\u001b[39m pos1_minus[\u001b[38;5;241m-\u001b[39m\u001b[38;5;241m2\u001b[39m]\n\u001b[0;32m     22\u001b[0m     last_pos_list[key_1] \u001b[38;5;241m=\u001b[39m pos1_minus[\u001b[38;5;241m-\u001b[39m\u001b[38;5;241m2\u001b[39m]\n\u001b[1;32m---> 23\u001b[0m     \u001b[43mprevent_overlap_movement\u001b[49m\u001b[43m(\u001b[49m\u001b[43mlast_pos_list\u001b[49m\u001b[43m,\u001b[49m\u001b[43m \u001b[49m\u001b[43mresult\u001b[49m\u001b[43m)\u001b[49m\n\u001b[0;32m     24\u001b[0m     list_of_resuls\u001b[38;5;241m.\u001b[39mappend(\u001b[38;5;241m1\u001b[39m)\n\u001b[0;32m     25\u001b[0m \u001b[38;5;28;01melse\u001b[39;00m:\n",
      "    \u001b[1;31m[... skipping similar frames: prevent_overlap_movement at line 18 (3 times)]\u001b[0m\n",
      "Input \u001b[1;32mIn [4]\u001b[0m, in \u001b[0;36mprevent_overlap_movement\u001b[1;34m(last_pos_list, result)\u001b[0m\n\u001b[0;32m     16\u001b[0m     pos2_minus[\u001b[38;5;241m-\u001b[39m\u001b[38;5;241m1\u001b[39m] \u001b[38;5;241m=\u001b[39m pos2_minus[\u001b[38;5;241m-\u001b[39m\u001b[38;5;241m2\u001b[39m]\n\u001b[0;32m     17\u001b[0m     last_pos_list[key_2] \u001b[38;5;241m=\u001b[39m pos2_minus[\u001b[38;5;241m-\u001b[39m\u001b[38;5;241m2\u001b[39m]\n\u001b[1;32m---> 18\u001b[0m     \u001b[43mprevent_overlap_movement\u001b[49m\u001b[43m(\u001b[49m\u001b[43mlast_pos_list\u001b[49m\u001b[43m,\u001b[49m\u001b[43m \u001b[49m\u001b[43mresult\u001b[49m\u001b[43m)\u001b[49m\n\u001b[0;32m     19\u001b[0m     list_of_resuls\u001b[38;5;241m.\u001b[39mappend(\u001b[38;5;241m2\u001b[39m)\n\u001b[0;32m     20\u001b[0m \u001b[38;5;28;01melif\u001b[39;00m pos2_minus[\u001b[38;5;241m-\u001b[39m\u001b[38;5;241m1\u001b[39m]\u001b[38;5;241m==\u001b[39m pos2_minus[\u001b[38;5;241m-\u001b[39m\u001b[38;5;241m2\u001b[39m] \u001b[38;5;129;01mand\u001b[39;00m pos1_minus[\u001b[38;5;241m-\u001b[39m\u001b[38;5;241m1\u001b[39m] \u001b[38;5;241m!=\u001b[39m pos1_minus[\u001b[38;5;241m-\u001b[39m\u001b[38;5;241m2\u001b[39m]:\n",
      "Input \u001b[1;32mIn [4]\u001b[0m, in \u001b[0;36mprevent_overlap_movement\u001b[1;34m(last_pos_list, result)\u001b[0m\n\u001b[0;32m      7\u001b[0m last_pos_list_copy \u001b[38;5;241m=\u001b[39m copy\u001b[38;5;241m.\u001b[39mcopy(last_pos_list)\n\u001b[0;32m      8\u001b[0m \u001b[38;5;28;01mdel\u001b[39;00m last_pos_list_copy[key_1]\n\u001b[1;32m----> 9\u001b[0m list_of_keys \u001b[38;5;241m=\u001b[39m []\n\u001b[0;32m     10\u001b[0m \u001b[38;5;28;01mfor\u001b[39;00m key_2, val_2 \u001b[38;5;129;01min\u001b[39;00m last_pos_list_copy\u001b[38;5;241m.\u001b[39mitems():\n\u001b[0;32m     11\u001b[0m     \u001b[38;5;28;01mif\u001b[39;00m val_1 \u001b[38;5;241m==\u001b[39m val_2:\n",
      "\u001b[1;31mKeyboardInterrupt\u001b[0m: "
     ]
    }
   ],
   "source": [
    "nr_of_errors = 0\n",
    "\n",
    "k = ws\n",
    "n = 0\n",
    "pbar = tqdm(total=k, initial=n)\n",
    "\n",
    "while k>n: \n",
    "#     print(n)\n",
    "    pos_list = [tuple(result[obj]['position'][-1]) for obj in result]\n",
    "    res = list(set([ele for ele in pos_list if pos_list.count(ele) > 1]))\n",
    "#     print(res)\n",
    "    pbar.update(1)\n",
    "    for indiv in result:\n",
    "        x, y = result[indiv]['position'][-1][0], result[indiv]['position'][-1][1]\n",
    "        if n<1:\n",
    "            calculate_position(result, indiv, x, y, world_size_x, world_size_y)    \n",
    "        elif n >= 1:\n",
    "            apply_input(result, indiv)\n",
    "            calculate_position(result, indiv, x, y, world_size_x, world_size_y)\n",
    "    last_pos_list = {obj:result[obj]['position'][-1] for obj in result}\n",
    "    prevent_overlap_movement(last_pos_list, result)\n",
    "#     print()\n",
    "    n += 1\n",
    "pbar.close()\n"
   ]
  },
  {
   "cell_type": "code",
   "execution_count": null,
   "id": "cb901355",
   "metadata": {
    "ExecuteTime": {
     "end_time": "2022-07-06T17:56:28.783816Z",
     "start_time": "2022-07-06T17:56:28.783816Z"
    }
   },
   "outputs": [],
   "source": [
    "df = pd.DataFrame()\n",
    "for key in result:\n",
    "    df[key] = pd.Series(result[key]['position']).apply(lambda x: '.'.join((str(x[0]),str(x[1]))))\n",
    "\n",
    "print(Counter(df.iloc[-1,:]).most_common(10))\n",
    "\n",
    "# df"
   ]
  },
  {
   "cell_type": "markdown",
   "id": "18bbb981",
   "metadata": {},
   "source": [
    "generate dictionary of coords "
   ]
  },
  {
   "cell_type": "code",
   "execution_count": null,
   "id": "ecb9c93d",
   "metadata": {
    "ExecuteTime": {
     "end_time": "2022-07-06T17:56:28.784851Z",
     "start_time": "2022-07-06T17:56:28.784851Z"
    }
   },
   "outputs": [],
   "source": [
    "coords = [{'x':[], 'y':[]} for key in range(len(result[indiv]['position']))]\n",
    "for indiv in result:\n",
    "    for pos_nr, pos in enumerate(result[indiv]['position']):\n",
    "        coords[pos_nr]['x'].append(pos[0])\n",
    "        coords[pos_nr]['y'].append(pos[1])"
   ]
  },
  {
   "cell_type": "markdown",
   "id": "9108641f",
   "metadata": {},
   "source": [
    "visualisation"
   ]
  },
  {
   "cell_type": "code",
   "execution_count": null,
   "id": "2654710a",
   "metadata": {
    "ExecuteTime": {
     "end_time": "2022-07-06T17:56:28.798627Z",
     "start_time": "2022-07-06T17:56:28.798627Z"
    },
    "scrolled": false
   },
   "outputs": [],
   "source": [
    "def update(i):\n",
    "    ax.clear()\n",
    "    ax.set_facecolor(plt.cm.Blues(.2))\n",
    "\n",
    "    ax.set_xlim([0,world_size_x])\n",
    "    ax.set_ylim([0,world_size_y])\n",
    "    ax.set_title('moving')\n",
    "    ax.scatter(x=coords[i]['x'],y=coords[i]['y'], c='red', s=2, marker='o')\n",
    "    [spine.set_visible(False) for spine in ax.spines.values()] #remove chart \n",
    "    \n",
    "fig, ax = plt.subplots(figsize=(6,6))\n",
    "anime = FuncAnimation(\n",
    "    fig = fig,\n",
    "    func = update,\n",
    "    frames = len(coords),\n",
    "    interval = 10, repeat=False\n",
    ")\n"
   ]
  },
  {
   "cell_type": "markdown",
   "id": "4aa9b18c",
   "metadata": {},
   "source": [
    "### mutation"
   ]
  },
  {
   "cell_type": "markdown",
   "id": "c9d7f120",
   "metadata": {},
   "source": [
    "hexa to binary"
   ]
  },
  {
   "cell_type": "code",
   "execution_count": null,
   "id": "8e973d32",
   "metadata": {
    "ExecuteTime": {
     "end_time": "2022-07-06T17:56:28.802724Z",
     "start_time": "2022-07-06T17:56:28.802724Z"
    }
   },
   "outputs": [],
   "source": [
    "binary = bin(int(result[0]['genome'][0], 16))[2:]\n",
    "if len(binary) < 32:\n",
    "    factor = 32 - len(binary)\n",
    "    binary = '0' * factor + binary\n",
    "print(binary, result[0]['genome'][0])\n",
    "\n",
    "print(hex(int(binary, 2))[2:])"
   ]
  },
  {
   "cell_type": "code",
   "execution_count": null,
   "id": "5a84e818",
   "metadata": {
    "ExecuteTime": {
     "end_time": "2022-07-06T17:56:28.806182Z",
     "start_time": "2022-07-06T17:56:28.806182Z"
    }
   },
   "outputs": [],
   "source": [
    "weight = 0.001\n",
    "for i in range(10):\n",
    "    ind = np.random.randint(0, len(binary))\n",
    "    if int(binary[ind])==1:\n",
    "        mutant = np.random.choice(2, 1, p=[weight, 1-weight])\n",
    "        print('p0')\n",
    "    else:\n",
    "        mutant = np.random.choice(2, 1, p=[1-weight, weight])\n",
    "        print('p1')\n",
    "    \n",
    "    binary_to_ints = [i for i in list(binary)]\n",
    "    print(mutant)\n",
    "    binary_to_ints[ind] = str(mutant[0])\n",
    "    \n",
    "    print(ind)\n",
    "    print(''.join(binary_to_ints))  \n",
    "    print(binary)\n",
    "    print()"
   ]
  },
  {
   "cell_type": "code",
   "execution_count": null,
   "id": "56d02e05",
   "metadata": {
    "ExecuteTime": {
     "end_time": "2022-07-06T17:56:28.810592Z",
     "start_time": "2022-07-06T17:56:28.810592Z"
    }
   },
   "outputs": [],
   "source": [
    "str(mutant[0])"
   ]
  },
  {
   "cell_type": "code",
   "execution_count": null,
   "id": "4dd2e429",
   "metadata": {},
   "outputs": [],
   "source": []
  },
  {
   "cell_type": "code",
   "execution_count": null,
   "id": "1f2bbb95",
   "metadata": {
    "ExecuteTime": {
     "end_time": "2022-07-06T17:56:28.814388Z",
     "start_time": "2022-07-06T17:56:28.814388Z"
    }
   },
   "outputs": [],
   "source": [
    "binary_to_ints"
   ]
  },
  {
   "cell_type": "code",
   "execution_count": null,
   "id": "59ffe4c1",
   "metadata": {
    "ExecuteTime": {
     "end_time": "2022-07-06T17:56:28.818600Z",
     "start_time": "2022-07-06T17:56:28.818600Z"
    }
   },
   "outputs": [],
   "source": [
    "[int(i) for i in list(binary)]"
   ]
  },
  {
   "cell_type": "code",
   "execution_count": null,
   "id": "37d28148",
   "metadata": {},
   "outputs": [],
   "source": []
  }
 ],
 "metadata": {
  "kernelspec": {
   "display_name": "Python 3 (ipykernel)",
   "language": "python",
   "name": "python3"
  },
  "language_info": {
   "codemirror_mode": {
    "name": "ipython",
    "version": 3
   },
   "file_extension": ".py",
   "mimetype": "text/x-python",
   "name": "python",
   "nbconvert_exporter": "python",
   "pygments_lexer": "ipython3",
   "version": "3.9.12"
  }
 },
 "nbformat": 4,
 "nbformat_minor": 5
}
