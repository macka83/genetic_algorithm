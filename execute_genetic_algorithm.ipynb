{
 "cells": [
  {
   "cell_type": "markdown",
   "id": "6499aef8",
   "metadata": {
    "ExecuteTime": {
     "end_time": "2022-06-28T19:40:02.442018Z",
     "start_time": "2022-06-28T19:40:00.122777Z"
    }
   },
   "source": [
    "!jt -t chesterish\n",
    "# !jt -r"
   ]
  },
  {
   "cell_type": "code",
   "execution_count": 1,
   "id": "07647a75",
   "metadata": {
    "ExecuteTime": {
     "end_time": "2022-08-18T13:50:27.702499Z",
     "start_time": "2022-08-18T13:50:26.718811Z"
    }
   },
   "outputs": [],
   "source": [
    "from genetic_algorithm import *\n",
    "from movement import *\n",
    "from numpy.random import default_rng\n",
    "import pickle\n",
    "\n",
    "import binascii\n",
    "\n",
    "\n",
    "import matplotlib.pyplot as plt\n",
    "import math\n",
    "from matplotlib.animation import FuncAnimation\n",
    "# %matplotlib notebook\n",
    "\n",
    "import copy\n",
    "from collections import Counter\n",
    "import pandas as pd"
   ]
  },
  {
   "cell_type": "code",
   "execution_count": 2,
   "id": "89c5b605",
   "metadata": {
    "ExecuteTime": {
     "end_time": "2022-08-18T13:50:27.717944Z",
     "start_time": "2022-08-18T13:50:27.702499Z"
    }
   },
   "outputs": [],
   "source": [
    "## hexadecimal generator\n",
    "\n",
    "nr_of_input = 2\n",
    "nr_of_actions = 5\n",
    "nr_of_inner = 2\n",
    "nr_of_genes = 8\n",
    "nr_individuals = 600\n",
    "\n",
    "nr_of_generations = 100\n",
    "\n",
    "## world size\n",
    "world_size = 100\n",
    "world_size_x = world_size\n",
    "world_size_y = world_size"
   ]
  },
  {
   "cell_type": "markdown",
   "id": "531da81b",
   "metadata": {},
   "source": [
    "## generations"
   ]
  },
  {
   "cell_type": "code",
   "execution_count": null,
   "id": "33949ec2",
   "metadata": {
    "ExecuteTime": {
     "end_time": "2022-08-18T13:52:11.586109Z",
     "start_time": "2022-08-18T13:50:27.719929Z"
    }
   },
   "outputs": [],
   "source": [
    "time_list = []\n",
    "result = {}\n",
    "for gen_nr in range(nr_of_generations):\n",
    "    print(gen_nr)\n",
    "    if gen_nr == 0:\n",
    "        result = initial_population(nr_individuals, nr_of_genes, nr_of_input, nr_of_actions, nr_of_inner, world_size)\n",
    "        result, a,b,c,d = steps_in_generation(world_size*1.2, result, world_size_x, world_size_y)\n",
    "#         print(result[0])\n",
    "    else:\n",
    "        \n",
    "        result = asexual_reproduction_and_mutation(world_size, result, nr_individuals)\n",
    "        if result:\n",
    "            result = next_generation(result,nr_of_input, nr_of_actions, nr_of_inner, world_size, nr_individuals)\n",
    "            result, a,b,c,d  = steps_in_generation(world_size*1.2, result, world_size_x, world_size_y)\n",
    "            time_list.append([a,b,c,d])\n",
    "    result.update(result)\n",
    "    \n",
    "    dic_color = {}\n",
    "    for indiv in result:\n",
    "        rgb_colors = list(map(hex_to_rgb, result[indiv]['genome']))\n",
    "        color = tuple(pd.DataFrame(rgb_colors).median()) \n",
    "        dic_color[indiv] = color\n",
    "        \n",
    "    coords = generate_dictionary_of_coords(result, world_size*2, dic_color)\n",
    "    \n",
    "    def update(i):\n",
    "        ax.clear()\n",
    "        ax.set_facecolor(plt.cm.Blues(.2))\n",
    "\n",
    "        ax.set_xlim([0,world_size_x])\n",
    "        ax.set_ylim([0,world_size_y])\n",
    "        ax.set_title('moving')\n",
    "        ax.scatter(x=coords[i]['x'],y=coords[i]['y'], c=coords[i]['color'], s=20, marker='o')\n",
    "        [spine.set_visible(False) for spine in ax.spines.values()]\n",
    "\n",
    "\n",
    "    fig, ax = plt.subplots(figsize=(6,6))\n",
    "    myAnimation = FuncAnimation(\n",
    "        fig = fig,\n",
    "        func = update,\n",
    "        frames = len(coords),\n",
    "        interval = 10, repeat=False\n",
    "    )\n",
    "    myAnimation.save(f'./output/generation-{gen_nr}.gif', writer='imagemagick' , fps=10)\n",
    "    # create a binary pickle file \n",
    "    f = open(f'./output/generation-{gen_nr}.pkl',\"wb\")\n",
    "    pickle.dump(result, f)\n",
    "    f.close()"
   ]
  },
  {
   "cell_type": "code",
   "execution_count": 3,
   "id": "6acb13d2",
   "metadata": {},
   "outputs": [
    {
     "name": "stdout",
     "output_type": "stream",
     "text": [
      "0\n"
     ]
    },
    {
     "name": "stderr",
     "output_type": "stream",
     "text": [
      "\r",
      "  0%|                                                                                        | 0/120.0 [00:00<?, ?it/s]"
     ]
    },
    {
     "ename": "TypeError",
     "evalue": "calculate_position() takes 5 positional arguments but 6 were given",
     "output_type": "error",
     "traceback": [
      "\u001b[1;31m---------------------------------------------------------------------------\u001b[0m",
      "\u001b[1;31mTypeError\u001b[0m                                 Traceback (most recent call last)",
      "\u001b[1;32m~\\AppData\\Local\\Temp\\ipykernel_8080\\672281553.py\u001b[0m in \u001b[0;36m<module>\u001b[1;34m\u001b[0m\n\u001b[0;32m      3\u001b[0m     \u001b[1;32mif\u001b[0m \u001b[0mgen_nr\u001b[0m \u001b[1;33m==\u001b[0m \u001b[1;36m0\u001b[0m\u001b[1;33m:\u001b[0m\u001b[1;33m\u001b[0m\u001b[1;33m\u001b[0m\u001b[0m\n\u001b[0;32m      4\u001b[0m         \u001b[0mresult\u001b[0m \u001b[1;33m=\u001b[0m \u001b[0minitial_population\u001b[0m\u001b[1;33m(\u001b[0m\u001b[0mnr_individuals\u001b[0m\u001b[1;33m,\u001b[0m \u001b[0mnr_of_genes\u001b[0m\u001b[1;33m,\u001b[0m \u001b[0mnr_of_input\u001b[0m\u001b[1;33m,\u001b[0m \u001b[0mnr_of_actions\u001b[0m\u001b[1;33m,\u001b[0m \u001b[0mnr_of_inner\u001b[0m\u001b[1;33m,\u001b[0m \u001b[0mworld_size\u001b[0m\u001b[1;33m)\u001b[0m\u001b[1;33m\u001b[0m\u001b[1;33m\u001b[0m\u001b[0m\n\u001b[1;32m----> 5\u001b[1;33m         \u001b[0mresult\u001b[0m\u001b[1;33m,\u001b[0m \u001b[0ma\u001b[0m\u001b[1;33m,\u001b[0m\u001b[0mb\u001b[0m\u001b[1;33m,\u001b[0m\u001b[0mc\u001b[0m\u001b[1;33m,\u001b[0m\u001b[0md\u001b[0m \u001b[1;33m=\u001b[0m \u001b[0msteps_in_generation\u001b[0m\u001b[1;33m(\u001b[0m\u001b[0mworld_size\u001b[0m\u001b[1;33m*\u001b[0m\u001b[1;36m1.2\u001b[0m\u001b[1;33m,\u001b[0m \u001b[0mresult\u001b[0m\u001b[1;33m,\u001b[0m \u001b[0mworld_size_x\u001b[0m\u001b[1;33m,\u001b[0m \u001b[0mworld_size_y\u001b[0m\u001b[1;33m)\u001b[0m\u001b[1;33m\u001b[0m\u001b[1;33m\u001b[0m\u001b[0m\n\u001b[0m",
      "\u001b[1;32m~\\GitHub\\genetic_algorithm\\movement.py\u001b[0m in \u001b[0;36msteps_in_generation\u001b[1;34m(world_size, result, world_size_x, world_size_y)\u001b[0m\n\u001b[0;32m     17\u001b[0m \u001b[1;33m\u001b[0m\u001b[0m\n\u001b[0;32m     18\u001b[0m                 \u001b[0mstart_1\u001b[0m \u001b[1;33m=\u001b[0m \u001b[0mtime\u001b[0m\u001b[1;33m.\u001b[0m\u001b[0mtime\u001b[0m\u001b[1;33m(\u001b[0m\u001b[1;33m)\u001b[0m\u001b[1;33m\u001b[0m\u001b[1;33m\u001b[0m\u001b[0m\n\u001b[1;32m---> 19\u001b[1;33m                 \u001b[0mcalculate_position\u001b[0m\u001b[1;33m(\u001b[0m\u001b[0mresult\u001b[0m\u001b[1;33m,\u001b[0m \u001b[0mindiv\u001b[0m\u001b[1;33m,\u001b[0m \u001b[0mx\u001b[0m\u001b[1;33m,\u001b[0m \u001b[0my\u001b[0m\u001b[1;33m,\u001b[0m \u001b[0mworld_size_x\u001b[0m\u001b[1;33m,\u001b[0m \u001b[0mworld_size_y\u001b[0m\u001b[1;33m)\u001b[0m\u001b[1;33m\u001b[0m\u001b[1;33m\u001b[0m\u001b[0m\n\u001b[0m\u001b[0;32m     20\u001b[0m                 \u001b[0mend_1\u001b[0m \u001b[1;33m=\u001b[0m \u001b[0mtime\u001b[0m\u001b[1;33m.\u001b[0m\u001b[0mtime\u001b[0m\u001b[1;33m(\u001b[0m\u001b[1;33m)\u001b[0m\u001b[1;33m\u001b[0m\u001b[1;33m\u001b[0m\u001b[0m\n\u001b[0;32m     21\u001b[0m \u001b[1;33m\u001b[0m\u001b[0m\n",
      "\u001b[1;31mTypeError\u001b[0m: calculate_position() takes 5 positional arguments but 6 were given"
     ]
    }
   ],
   "source": [
    "for gen_nr in range(nr_of_generations):\n",
    "    print(gen_nr)\n",
    "    if gen_nr == 0:\n",
    "        result = initial_population(nr_individuals, nr_of_genes, nr_of_input, nr_of_actions, nr_of_inner, world_size)\n",
    "        result, a,b,c,d = steps_in_generation(world_size*1.2, result, world_size_x, world_size_y)"
   ]
  },
  {
   "cell_type": "code",
   "execution_count": 23,
   "id": "a34a18ef",
   "metadata": {},
   "outputs": [
    {
     "data": {
      "text/plain": [
       "{'out': {'out1': 0.448, 'out4': 0.881, 'out0': 0.001},\n",
       " 'brain': {'mid1out1': ['mid1', 'out1', -0.10499008087898673],\n",
       "  'in0mid0': ['in0', 'mid0', 3.3734777964291163],\n",
       "  'mid0out4': ['mid0', 'out4', 3.335144208759347],\n",
       "  'mid1out0': ['mid1', 'out0', -3.259453685334961],\n",
       "  'mid1mid1': ['mid1', 'mid1', -3.0694948878376316],\n",
       "  'in1mid0': ['in1', 'mid0', -0.9453990538684572],\n",
       "  'in1mid1': ['in1', 'mid1', 0.5249504043949336]},\n",
       " 'in': ['in0', 'in1'],\n",
       " 'genome': ['b590035c',\n",
       "  '5e2eebf1',\n",
       "  '9ebbeab7',\n",
       "  '8bb7684b',\n",
       "  '81136237',\n",
       "  'dab8991a',\n",
       "  '7b241e40',\n",
       "  '392990cc'],\n",
       " 'position': [[5, 61]]}"
      ]
     },
     "execution_count": 23,
     "metadata": {},
     "output_type": "execute_result"
    }
   ],
   "source": [
    "result[1]"
   ]
  },
  {
   "cell_type": "code",
   "execution_count": 65,
   "id": "f0c13481",
   "metadata": {},
   "outputs": [
    {
     "data": {
      "text/plain": [
       "array([[ 0, -1],\n",
       "       [ 1,  1],\n",
       "       [ 0,  1]])"
      ]
     },
     "execution_count": 65,
     "metadata": {},
     "output_type": "execute_result"
    }
   ],
   "source": [
    "position_list = np.array(list(move(out, result[1]['out'][out]) for out in result[1]['out']))\n",
    "position_list"
   ]
  },
  {
   "cell_type": "code",
   "execution_count": 66,
   "id": "b32d8f2a",
   "metadata": {},
   "outputs": [
    {
     "data": {
      "text/plain": [
       "array([ 5, 61])"
      ]
     },
     "execution_count": 66,
     "metadata": {},
     "output_type": "execute_result"
    }
   ],
   "source": [
    "np.array(result[1]['position'][-1])"
   ]
  },
  {
   "cell_type": "code",
   "execution_count": 53,
   "id": "25857d7a",
   "metadata": {},
   "outputs": [
    {
     "name": "stdout",
     "output_type": "stream",
     "text": [
      "[1]\n",
      "[1]\n",
      "[1]\n",
      "[0]\n",
      "[1]\n",
      "[0]\n",
      "[0]\n",
      "[1]\n",
      "[1]\n",
      "[1]\n"
     ]
    }
   ],
   "source": [
    "\n",
    "for factor in position_list:\n",
    "    result[1]['position']"
   ]
  },
  {
   "cell_type": "code",
   "execution_count": 19,
   "id": "77db001d",
   "metadata": {},
   "outputs": [],
   "source": [
    "def calculate_position(result, indiv, x, y, world_size_x, world_size_y):\n",
    "\n",
    "    position_list = (move(out, result[indiv]['out'][out]) for out in result[indiv]['out'])\n",
    "\n",
    "    if position_list:\n",
    "        position_list = make_smaller_(list(map(sum, zip(*position_list))))\n",
    "        position_list = list(map(sum, zip(*[[x, y]] + [position_list])))\n",
    "\n",
    "        position_list[0] = normalize_position_if_outside_world(position_list[0], world_size_x)\n",
    "        position_list[1] = normalize_position_if_outside_world(position_list[1], world_size_y)\n",
    "\n",
    "        result[indiv]['position'].append(position_list)\n",
    "        \n",
    "def move(key, weight):\n",
    "    factor_1 = np.random.choice(2, 1, p=[weight, 1-weight])\n",
    "    if 'out0' in key:\n",
    "        return [0, int(factor_1)]\n",
    "    elif 'out1' in key:\n",
    "        return [0, int(-factor_1)]\n",
    "    elif 'out2' in key:\n",
    "        return [int(+factor_1), 0]\n",
    "    elif 'out3' in key:\n",
    "        return [int(-factor_1), 0]\n",
    "    elif 'out4' in key:\n",
    "        x,y = np.random.choice(2, 2)\n",
    "        return [x,y]\n",
    "\n",
    "def make_smaller_(l):\n",
    "    '''-2 to -1, 2 to 1'''\n",
    "    for i_nr, i in enumerate(l):\n",
    "        if i == -2:\n",
    "            l[i_nr] = -1\n",
    "        elif i == 2:\n",
    "            l[i_nr] = 1\n",
    "    return l\n",
    "  \n",
    "def normalize_position_if_outside_world(position, max_border):\n",
    "    '''limit position to world border'''\n",
    "    if position < 0:\n",
    "        position = 0\n",
    "    elif position > max_border:\n",
    "        position = max_border\n",
    "    return position\n"
   ]
  },
  {
   "cell_type": "code",
   "execution_count": null,
   "id": "94469429",
   "metadata": {},
   "outputs": [],
   "source": [
    "calculate_position(result, indiv, x, y, world_size_x, world_size_y)"
   ]
  }
 ],
 "metadata": {
  "kernelspec": {
   "display_name": "Python 3 (ipykernel)",
   "language": "python",
   "name": "python3"
  },
  "language_info": {
   "codemirror_mode": {
    "name": "ipython",
    "version": 3
   },
   "file_extension": ".py",
   "mimetype": "text/x-python",
   "name": "python",
   "nbconvert_exporter": "python",
   "pygments_lexer": "ipython3",
   "version": "3.9.15"
  }
 },
 "nbformat": 4,
 "nbformat_minor": 5
}
