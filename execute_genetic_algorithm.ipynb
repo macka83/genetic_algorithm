{
 "cells": [
  {
   "cell_type": "code",
   "execution_count": 2,
   "id": "64e1e30b",
   "metadata": {},
   "outputs": [],
   "source": [
    "from genetic_algorithm import *\n",
    "import re"
   ]
  },
  {
   "cell_type": "markdown",
   "id": "a4aa7361",
   "metadata": {},
   "source": [
    "## hexadecimal generator"
   ]
  },
  {
   "cell_type": "code",
   "execution_count": 7,
   "id": "e85a93ac",
   "metadata": {},
   "outputs": [],
   "source": [
    "nr_of_input = 3\n",
    "nr_of_actions = 3\n",
    "nr_of_inner = 1\n",
    "nr_of_genes = 15\n",
    "nr_individuals = 4\n",
    "\n",
    "res = generate_initial_genomes_for_population(nr_individuals, nr_of_genes, nr_of_input, nr_of_actions, nr_of_inner)"
   ]
  },
  {
   "cell_type": "markdown",
   "id": "991e86ea",
   "metadata": {},
   "source": [
    "## Sumuj duble"
   ]
  },
  {
   "cell_type": "code",
   "execution_count": 8,
   "id": "0ac99015",
   "metadata": {},
   "outputs": [],
   "source": [
    "dic = {}\n",
    "for nr in res:\n",
    "    dic[nr] = {}\n",
    "    for i in res[nr]:\n",
    "        total = dic.get(i.differ_neuron, 0) + i.weight \n",
    "        dic[nr][i.differ_neuron] = total"
   ]
  },
  {
   "cell_type": "markdown",
   "id": "74f4fa7d",
   "metadata": {},
   "source": [
    "## grupuj "
   ]
  },
  {
   "cell_type": "code",
   "execution_count": 13,
   "id": "c042cc6f",
   "metadata": {},
   "outputs": [
    {
     "name": "stdout",
     "output_type": "stream",
     "text": [
      "{'0mid1out': -2.8990691286433696, '0in2out': -2.022279871814436, '0in0out': -1.7821455821761025, '0mid0mid': -2.805066381809858, '0mid0out': -2.48020753853197}\n",
      "{'0mid1out': -2.8990691286433696, '0in2out': -2.022279871814436, '0in0out': -1.7821455821761025, '0mid0mid': -2.805066381809858, '0mid0out': -2.48020753853197}\n"
     ]
    }
   ],
   "source": [
    "# wybierz wszystkie in_mid\n",
    "\n",
    "nr_neuronu = 3\n",
    "print(dic[nr_neuronu])\n",
    "list_of_keys = []\n",
    "for i in dic[nr_neuronu]:\n",
    "    if 'in' in i and 'mid' in i:\n",
    "        print('in_mid', i)\n",
    "        list_of_keys.append(i)\n",
    "        \n",
    "for i in list_of_keys:\n",
    "    dic[nr_neuronu].pop(i)\n",
    "\n",
    "print(dic[nr_neuronu])"
   ]
  },
  {
   "cell_type": "code",
   "execution_count": 14,
   "id": "09693ab6",
   "metadata": {},
   "outputs": [
    {
     "data": {
      "text/plain": [
       "{'0mid1out': -2.8990691286433696,\n",
       " '0in2out': -2.022279871814436,\n",
       " '0in0out': -1.7821455821761025,\n",
       " '0mid0mid': -2.805066381809858,\n",
       " '0mid0out': -2.48020753853197}"
      ]
     },
     "execution_count": 14,
     "metadata": {},
     "output_type": "execute_result"
    }
   ],
   "source": [
    "dic[nr_neuronu]"
   ]
  },
  {
   "cell_type": "code",
   "execution_count": 10,
   "id": "99e59ff4",
   "metadata": {},
   "outputs": [
    {
     "data": {
      "text/plain": [
       "{'0mid': ['2in0mid', '0in0mid']}"
      ]
     },
     "execution_count": 10,
     "metadata": {},
     "output_type": "execute_result"
    }
   ],
   "source": [
    "list_of_out = ['0mid']\n",
    "\n",
    "d = {}\n",
    "for n in list_of_out:\n",
    "    d[n] = [k for k in list_of_keys if n in k]\n",
    "    \n",
    "d"
   ]
  },
  {
   "cell_type": "code",
   "execution_count": null,
   "id": "2a74873c",
   "metadata": {},
   "outputs": [],
   "source": []
  }
 ],
 "metadata": {
  "kernelspec": {
   "display_name": "Python 3 (ipykernel)",
   "language": "python",
   "name": "python3"
  },
  "language_info": {
   "codemirror_mode": {
    "name": "ipython",
    "version": 3
   },
   "file_extension": ".py",
   "mimetype": "text/x-python",
   "name": "python",
   "nbconvert_exporter": "python",
   "pygments_lexer": "ipython3",
   "version": "3.9.7"
  }
 },
 "nbformat": 4,
 "nbformat_minor": 5
}
