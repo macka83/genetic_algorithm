{
 "cells": [
  {
   "cell_type": "code",
   "execution_count": 1,
   "id": "64e1e30b",
   "metadata": {
    "ExecuteTime": {
     "end_time": "2022-05-25T20:18:00.250387Z",
     "start_time": "2022-05-25T20:17:59.464584Z"
    }
   },
   "outputs": [],
   "source": [
    "from genetic_algorithm import *\n",
    "import re\n",
    "import json\n",
    "import numpy as np\n",
    "from collections import Counter\n",
    "import copy"
   ]
  },
  {
   "cell_type": "markdown",
   "id": "a4aa7361",
   "metadata": {},
   "source": [
    "## hexadecimal generator"
   ]
  },
  {
   "cell_type": "code",
   "execution_count": 2,
   "id": "e85a93ac",
   "metadata": {
    "ExecuteTime": {
     "end_time": "2022-05-25T20:18:00.266385Z",
     "start_time": "2022-05-25T20:18:00.252349Z"
    }
   },
   "outputs": [],
   "source": [
    "nr_of_input = 3\n",
    "nr_of_actions = 3\n",
    "nr_of_inner = 2\n",
    "nr_of_genes = 16\n",
    "nr_individuals = 4\n",
    "\n",
    "individuals = generate_initial_genomes_for_population(nr_individuals, nr_of_genes, nr_of_input, nr_of_actions, nr_of_inner)"
   ]
  },
  {
   "cell_type": "code",
   "execution_count": 3,
   "id": "2aff38fc",
   "metadata": {
    "ExecuteTime": {
     "end_time": "2022-05-25T20:18:00.314295Z",
     "start_time": "2022-05-25T20:18:00.267926Z"
    },
    "scrolled": true
   },
   "outputs": [
    {
     "name": "stdout",
     "output_type": "stream",
     "text": [
      "out_to_weight 1\n",
      "[('in1', 'out0', 1.4279871814436136), ('in0', 'out0', -3.0119945063329774), ('mid1', 'out0', -1.1555012971158247), ('in1', 'mid1', -1.2089729894704715), ('mid1', 'out2', -2.6342743781474134), ('mid0', 'out0', -3.9923088661681674)]\n",
      "\n"
     ]
    }
   ],
   "source": [
    "## sum duplicates\n",
    "individuals_sum_dup = sum_duplicated_neurons(individuals)\n",
    "\n",
    "## remove self loops\n",
    "individuals_sum_dup_no_self_loop = remove_self_loop(individuals_sum_dup)\n",
    "\n",
    "## brain generator\n",
    "# one individual to change to multiple\n",
    "for individual in individuals_sum_dup_no_self_loop:\n",
    "#     try:\n",
    "    edges = individuals_sum_dup_no_self_loop[individual]\n",
    "    edges = [tuple(edges[i]) for i in edges]\n",
    "\n",
    "    ## preprocessing\n",
    "    dic = weight_sum_preprocessing(edges)\n",
    "\n",
    "    ## calculate weight sum\n",
    "#     except:\n",
    "#         print(individual)\n",
    "#         print(edges)\n",
    "        \n",
    "#         continue\n",
    "    try:\n",
    "        mid_to_weight(dic)\n",
    "    except:\n",
    "        print('mid_to_weight', individual)\n",
    "        print(edges)\n",
    "        print()\n",
    "        continue   \n",
    "    try:    \n",
    "        out_to_weight(dic)\n",
    "    except:\n",
    "        print('out_to_weight', individual)\n",
    "        print(edges)\n",
    "        print()    "
   ]
  },
  {
   "cell_type": "code",
   "execution_count": 10,
   "id": "cf323226",
   "metadata": {
    "ExecuteTime": {
     "end_time": "2022-05-25T20:19:19.818810Z",
     "start_time": "2022-05-25T20:19:19.801269Z"
    }
   },
   "outputs": [
    {
     "data": {
      "text/plain": [
       "{'1in0out': ['in1', 'out0', 1.4279871814436136],\n",
       " '0in0out': ['in0', 'out0', -3.0119945063329774],\n",
       " '1mid0out': ['mid1', 'out0', -1.1555012971158247],\n",
       " '1in1mid': ['in1', 'mid1', -1.2089729894704715],\n",
       " '1mid2out': ['mid1', 'out2', -2.6342743781474134],\n",
       " '0mid0out': ['mid0', 'out0', -3.9923088661681674]}"
      ]
     },
     "execution_count": 10,
     "metadata": {},
     "output_type": "execute_result"
    }
   ],
   "source": [
    "individuals_sum_dup_no_self_loop[1]"
   ]
  },
  {
   "cell_type": "code",
   "execution_count": 8,
   "id": "55b0fa52",
   "metadata": {
    "ExecuteTime": {
     "end_time": "2022-05-25T20:18:45.042556Z",
     "start_time": "2022-05-25T20:18:45.029004Z"
    }
   },
   "outputs": [],
   "source": [
    "edges = [('in1', 'out0', 1.4279871814436136), ('in0', 'out0', -3.0119945063329774), ('mid1', 'out0', -1.1555012971158247), ('in1', 'mid1', -1.2089729894704715), ('mid1', 'out2', -2.6342743781474134), ('mid0', 'out0', -3.9923088661681674)]"
   ]
  },
  {
   "cell_type": "code",
   "execution_count": 9,
   "id": "44de995f",
   "metadata": {
    "ExecuteTime": {
     "end_time": "2022-05-25T20:18:46.569646Z",
     "start_time": "2022-05-25T20:18:46.551845Z"
    }
   },
   "outputs": [
    {
     "data": {
      "text/plain": [
       "{'mid1': {'in1': -1.2089729894704715},\n",
       " 'out0': {'in1': 1.4279871814436136,\n",
       "  'in0': -3.0119945063329774,\n",
       "  'mid1': -1.1555012971158247,\n",
       "  'mid0': -3.9923088661681674},\n",
       " 'out2': {'mid1': -2.6342743781474134}}"
      ]
     },
     "execution_count": 9,
     "metadata": {},
     "output_type": "execute_result"
    }
   ],
   "source": [
    "dic = weight_sum_preprocessing(edges)\n",
    "dic"
   ]
  },
  {
   "cell_type": "code",
   "execution_count": 11,
   "id": "0f470420",
   "metadata": {
    "ExecuteTime": {
     "end_time": "2022-05-25T20:23:34.656989Z",
     "start_time": "2022-05-25T20:23:34.640105Z"
    }
   },
   "outputs": [
    {
     "name": "stdout",
     "output_type": "stream",
     "text": [
      "mid1\n"
     ]
    },
    {
     "data": {
      "text/plain": [
       "{'mid1': -0.83637115452817,\n",
       " 'out0': {'in1': 1.4279871814436136,\n",
       "  'in0': -3.0119945063329774,\n",
       "  'mid1': -1.1555012971158247,\n",
       "  'mid0': -3.9923088661681674},\n",
       " 'out2': {'mid1': -2.6342743781474134}}"
      ]
     },
     "execution_count": 11,
     "metadata": {},
     "output_type": "execute_result"
    }
   ],
   "source": [
    "def mid_to_weight(dic):\n",
    "    '''weight for clear input ie. no nested weights: 0mid:{0in, 1in} or 0mid:{0mid, 0in}'''\n",
    "    for key in dic:\n",
    "        \n",
    "        if 'mid' in key and isinstance(dic[key], dict):\n",
    "            print(key)\n",
    "            if set(i[:2] for i in dic[key]) == set(['in']):\n",
    "                \n",
    "                dic[key] = np.tanh(sum(dic[key].values()))\n",
    "                mid_to_weight(dic)\n",
    "                \n",
    "            elif key in dic[key].keys() and Counter(i[:2] for i in dic[key])['mi'] == 1:\n",
    "                \n",
    "                print(dic[key])\n",
    "                dic[key] = np.tanh(sum(dic[key].values()))\n",
    "                mid_to_weight(dic)\n",
    "mid_to_weight(dic)\n",
    "dic"
   ]
  },
  {
   "cell_type": "code",
   "execution_count": null,
   "id": "b9b6a4c1",
   "metadata": {},
   "outputs": [],
   "source": []
  },
  {
   "cell_type": "code",
   "execution_count": 7,
   "id": "00930ed8",
   "metadata": {
    "ExecuteTime": {
     "end_time": "2022-05-25T20:18:00.771818Z",
     "start_time": "2022-05-25T20:18:00.364222Z"
    }
   },
   "outputs": [
    {
     "ename": "TypeError",
     "evalue": "unsupported operand type(s) for +=: 'float' and 'dict'",
     "output_type": "error",
     "traceback": [
      "\u001b[1;31m---------------------------------------------------------------------------\u001b[0m",
      "\u001b[1;31mTypeError\u001b[0m                                 Traceback (most recent call last)",
      "Input \u001b[1;32mIn [7]\u001b[0m, in \u001b[0;36m<cell line: 19>\u001b[1;34m()\u001b[0m\n\u001b[0;32m     16\u001b[0m             dic[key] \u001b[38;5;241m=\u001b[39m np\u001b[38;5;241m.\u001b[39mtanh(\u001b[38;5;28msum\u001b[39m(dic[key]\u001b[38;5;241m.\u001b[39mvalues()))\n\u001b[0;32m     17\u001b[0m             out_to_weight(dic)\n\u001b[1;32m---> 19\u001b[0m \u001b[43mout_to_weight\u001b[49m\u001b[43m(\u001b[49m\u001b[43mdic\u001b[49m\u001b[43m)\u001b[49m\n",
      "Input \u001b[1;32mIn [7]\u001b[0m, in \u001b[0;36mout_to_weight\u001b[1;34m(dic)\u001b[0m\n\u001b[0;32m      5\u001b[0m \u001b[38;5;28;01mfor\u001b[39;00m sub_key \u001b[38;5;129;01min\u001b[39;00m dic[key]:\n\u001b[0;32m      6\u001b[0m     \u001b[38;5;28;01mif\u001b[39;00m \u001b[38;5;124m'\u001b[39m\u001b[38;5;124mmid\u001b[39m\u001b[38;5;124m'\u001b[39m \u001b[38;5;129;01min\u001b[39;00m sub_key \u001b[38;5;129;01mand\u001b[39;00m sub_key \u001b[38;5;241m!=\u001b[39m key:\n\u001b[1;32m----> 7\u001b[0m         dic[key][sub_key] \u001b[38;5;241m+\u001b[39m\u001b[38;5;241m=\u001b[39m dic[sub_key]\n\u001b[0;32m      9\u001b[0m dic[key] \u001b[38;5;241m=\u001b[39m np\u001b[38;5;241m.\u001b[39mtanh(\u001b[38;5;28msum\u001b[39m(dic[key]\u001b[38;5;241m.\u001b[39mvalues()))\n\u001b[0;32m     10\u001b[0m out_to_weight(dic)\n",
      "\u001b[1;31mTypeError\u001b[0m: unsupported operand type(s) for +=: 'float' and 'dict'"
     ]
    }
   ],
   "source": [
    "def out_to_weight(dic):\n",
    "    '''weight for nested input ie.  0mid:{1mid} or out:{0mid, 0in}'''\n",
    "    for key in dic:\n",
    "        if 'mid' in key and isinstance(dic[key], dict):\n",
    "            for sub_key in dic[key]:\n",
    "                if 'mid' in sub_key and sub_key != key:\n",
    "                    dic[key][sub_key] += dic[sub_key]\n",
    "\n",
    "            dic[key] = np.tanh(sum(dic[key].values()))\n",
    "            out_to_weight(dic)\n",
    "                \n",
    "        elif 'out' in key and isinstance(dic[key], dict):\n",
    "            for sub_key in dic[key]:\n",
    "                if 'mid' in sub_key:\n",
    "                    dic[key][sub_key] += dic[sub_key]\n",
    "            dic[key] = np.tanh(sum(dic[key].values()))\n",
    "            out_to_weight(dic)\n",
    "            \n",
    "out_to_weight(dic)"
   ]
  },
  {
   "cell_type": "code",
   "execution_count": null,
   "id": "6ddc8a5e",
   "metadata": {
    "ExecuteTime": {
     "end_time": "2022-05-25T20:18:00.773785Z",
     "start_time": "2022-05-25T20:18:00.773785Z"
    }
   },
   "outputs": [],
   "source": [
    "mid_to_weight(dic)\n",
    "dic"
   ]
  },
  {
   "cell_type": "code",
   "execution_count": null,
   "id": "a0d7d912",
   "metadata": {
    "ExecuteTime": {
     "end_time": "2022-05-25T20:18:00.775786Z",
     "start_time": "2022-05-25T20:18:00.775786Z"
    }
   },
   "outputs": [],
   "source": [
    "dic"
   ]
  },
  {
   "cell_type": "code",
   "execution_count": null,
   "id": "a21f5a28",
   "metadata": {},
   "outputs": [],
   "source": []
  }
 ],
 "metadata": {
  "kernelspec": {
   "display_name": "Python 3 (ipykernel)",
   "language": "python",
   "name": "python3"
  },
  "language_info": {
   "codemirror_mode": {
    "name": "ipython",
    "version": 3
   },
   "file_extension": ".py",
   "mimetype": "text/x-python",
   "name": "python",
   "nbconvert_exporter": "python",
   "pygments_lexer": "ipython3",
   "version": "3.9.12"
  }
 },
 "nbformat": 4,
 "nbformat_minor": 5
}
