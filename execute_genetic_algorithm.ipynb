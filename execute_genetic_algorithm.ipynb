{
 "cells": [
  {
   "cell_type": "code",
   "execution_count": 1,
   "id": "64e1e30b",
   "metadata": {
    "ExecuteTime": {
     "end_time": "2022-06-09T20:23:36.842253Z",
     "start_time": "2022-06-09T20:23:35.900185Z"
    }
   },
   "outputs": [],
   "source": [
    "from genetic_algorithm import *\n",
    "import re\n",
    "import json\n",
    "import numpy as np\n",
    "from numpy.random import default_rng\n",
    "from collections import Counter\n",
    "import copy\n",
    "import matplotlib.pyplot as plt\n",
    "from itertools import groupby"
   ]
  },
  {
   "cell_type": "markdown",
   "id": "a4aa7361",
   "metadata": {},
   "source": [
    "## hexadecimal generator"
   ]
  },
  {
   "cell_type": "code",
   "execution_count": 2,
   "id": "e85a93ac",
   "metadata": {
    "ExecuteTime": {
     "end_time": "2022-06-09T20:23:36.857618Z",
     "start_time": "2022-06-09T20:23:36.844186Z"
    }
   },
   "outputs": [],
   "source": [
    "nr_of_input = 3\n",
    "nr_of_actions = 3\n",
    "nr_of_inner = 3\n",
    "nr_of_genes = 16\n",
    "nr_individuals = 20\n",
    "\n",
    "individuals = generate_initial_genomes_for_population(nr_individuals, nr_of_genes, nr_of_input, nr_of_actions, nr_of_inner)"
   ]
  },
  {
   "cell_type": "code",
   "execution_count": 3,
   "id": "153d2d10",
   "metadata": {
    "ExecuteTime": {
     "end_time": "2022-06-09T20:23:36.888430Z",
     "start_time": "2022-06-09T20:23:36.859476Z"
    }
   },
   "outputs": [],
   "source": [
    "## world size\n",
    "world_size_x = 128\n",
    "world_size_y = 128\n",
    "\n",
    "rng = default_rng()\n",
    "x = rng.choice(world_size_x, size=nr_individuals, replace=False)\n",
    "y = rng.choice(world_size_y, size=nr_individuals, replace=False)\n"
   ]
  },
  {
   "cell_type": "markdown",
   "id": "97385a42",
   "metadata": {},
   "source": [
    "## initial brain and position generator"
   ]
  },
  {
   "cell_type": "code",
   "execution_count": 4,
   "id": "b0d09d3b",
   "metadata": {
    "ExecuteTime": {
     "end_time": "2022-06-09T20:23:36.904431Z",
     "start_time": "2022-06-09T20:23:36.890363Z"
    }
   },
   "outputs": [
    {
     "data": {
      "text/plain": [
       "{0: {'out0': -0.9775416889115359, 'out2': -0.5036075766707244},\n",
       " 1: {'out0': -0.9995150576282305},\n",
       " 2: {'out0': 0.3407549750922074,\n",
       "  'out1': 0.9999872080489036,\n",
       "  'out2': -0.9882320342077552},\n",
       " 3: {'out2': 0.7576049299074075,\n",
       "  'out0': -0.9908077387331163,\n",
       "  'out1': -0.9735391697077685},\n",
       " 4: {'out1': 0.9995531838963165,\n",
       "  'out0': -0.9842394760404756,\n",
       "  'out2': 0.5507150151397648},\n",
       " 5: {'out2': -0.8989904248826663, 'out1': -0.7924486419480982},\n",
       " 6: {'out0': -0.9999924564397398,\n",
       "  'out1': -0.9996431491180161,\n",
       "  'out2': -0.8961190198319132},\n",
       " 7: {'out1': 0.8363435094103504,\n",
       "  'out2': 0.8913287600743904,\n",
       "  'out0': 0.12634467434455482},\n",
       " 8: {'out1': -0.483665643470365,\n",
       "  'out0': 0.720677959325343,\n",
       "  'out2': 0.9999033658671803},\n",
       " 9: {'out0': 0.9953866897850054,\n",
       "  'out1': 0.9598711939213289,\n",
       "  'out2': -0.9648420911475897},\n",
       " 10: {'out1': 0.9989281314178676, 'out0': 0.9625988555325256},\n",
       " 11: {'out0': 0.831161508453067, 'out1': -0.9992608765374487},\n",
       " 12: {'out1': -0.9992804710482831, 'out0': -0.7607783197158753},\n",
       " 13: {'out0': 0.9601296125851376,\n",
       "  'out1': 0.5782638796617074,\n",
       "  'out2': 0.6204733962307674},\n",
       " 14: {'out0': 0.9692069004800855,\n",
       "  'out2': 0.9915615791854092,\n",
       "  'out1': -0.9991443131700074},\n",
       " 15: {'out1': 0.9233418074102243, 'out2': -0.9996754788593177},\n",
       " 16: {'out0': 0.9988911498062097,\n",
       "  'out1': -0.561030264715011,\n",
       "  'out2': 0.9799278979800857},\n",
       " 17: {'out2': 0.9983370367919279,\n",
       "  'out1': -0.8612943409018115,\n",
       "  'out0': -0.6932105560472287},\n",
       " 18: {'out0': -0.06777325549843943,\n",
       "  'out2': -0.9966013651661098,\n",
       "  'out1': 0.9845445163252395},\n",
       " 19: {'out2': -0.9974052557353978,\n",
       "  'out0': -0.9998205055051865,\n",
       "  'out1': -0.993309150776005}}"
      ]
     },
     "execution_count": 4,
     "metadata": {},
     "output_type": "execute_result"
    }
   ],
   "source": [
    "calculate_individual_output_weights(individuals)"
   ]
  },
  {
   "cell_type": "code",
   "execution_count": 5,
   "id": "675d302d",
   "metadata": {
    "ExecuteTime": {
     "end_time": "2022-06-09T20:23:36.920430Z",
     "start_time": "2022-06-09T20:23:36.906361Z"
    }
   },
   "outputs": [],
   "source": [
    "a = [(3, 0),(4,1),(5,2)]"
   ]
  },
  {
   "cell_type": "code",
   "execution_count": 6,
   "id": "fb0ff57e",
   "metadata": {
    "ExecuteTime": {
     "end_time": "2022-06-09T20:23:36.936516Z",
     "start_time": "2022-06-09T20:23:36.922360Z"
    }
   },
   "outputs": [
    {
     "name": "stdout",
     "output_type": "stream",
     "text": [
      "(-1.0, 3.0)\n"
     ]
    }
   ],
   "source": [
    "def slope_intercept(x1,y1,x2,y2):\n",
    "    a = (y2 - y1) / (x2 - x1)\n",
    "    b = y1 - a * x1     \n",
    "    return a,b\n",
    "\n",
    "print(slope_intercept(3,0,2,1))"
   ]
  },
  {
   "cell_type": "code",
   "execution_count": 7,
   "id": "8ca05899",
   "metadata": {
    "ExecuteTime": {
     "end_time": "2022-06-09T20:23:36.952155Z",
     "start_time": "2022-06-09T20:23:36.938156Z"
    }
   },
   "outputs": [
    {
     "data": {
      "text/plain": [
       "[(3, 0), (4, 1), (5, 2)]"
      ]
     },
     "execution_count": 7,
     "metadata": {},
     "output_type": "execute_result"
    }
   ],
   "source": [
    "a"
   ]
  },
  {
   "cell_type": "code",
   "execution_count": 8,
   "id": "c09bb447",
   "metadata": {
    "ExecuteTime": {
     "end_time": "2022-06-09T20:23:36.968155Z",
     "start_time": "2022-06-09T20:23:36.954160Z"
    }
   },
   "outputs": [
    {
     "name": "stdout",
     "output_type": "stream",
     "text": [
      "3\n"
     ]
    }
   ],
   "source": [
    "if a[-2][0] == a[-1][0]:\n",
    "    x = a[-1][0]\n",
    "elif a[-2][0] > a[-1][0]:\n",
    "    x = a[-2][0] + 1\n",
    "elif a[-2][0] < a[-1][0]:\n",
    "    x = a[-2][0] - 1\n",
    "print(x)"
   ]
  },
  {
   "cell_type": "code",
   "execution_count": 9,
   "id": "91e7bb9d",
   "metadata": {
    "ExecuteTime": {
     "end_time": "2022-06-09T20:23:36.984108Z",
     "start_time": "2022-06-09T20:23:36.968953Z"
    }
   },
   "outputs": [
    {
     "data": {
      "text/plain": [
       "4"
      ]
     },
     "execution_count": 9,
     "metadata": {},
     "output_type": "execute_result"
    }
   ],
   "source": [
    "a[-2][0]"
   ]
  },
  {
   "cell_type": "code",
   "execution_count": null,
   "id": "89c5b605",
   "metadata": {},
   "outputs": [],
   "source": []
  }
 ],
 "metadata": {
  "kernelspec": {
   "display_name": "Python 3 (ipykernel)",
   "language": "python",
   "name": "python3"
  },
  "language_info": {
   "codemirror_mode": {
    "name": "ipython",
    "version": 3
   },
   "file_extension": ".py",
   "mimetype": "text/x-python",
   "name": "python",
   "nbconvert_exporter": "python",
   "pygments_lexer": "ipython3",
   "version": "3.9.12"
  }
 },
 "nbformat": 4,
 "nbformat_minor": 5
}
