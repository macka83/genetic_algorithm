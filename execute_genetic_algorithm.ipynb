{
 "cells": [
  {
   "cell_type": "markdown",
   "id": "6499aef8",
   "metadata": {
    "ExecuteTime": {
     "end_time": "2022-06-28T19:40:02.442018Z",
     "start_time": "2022-06-28T19:40:00.122777Z"
    }
   },
   "source": [
    "!jt -t chesterish\n",
    "# !jt -r"
   ]
  },
  {
   "cell_type": "code",
   "execution_count": 1,
   "id": "07647a75",
   "metadata": {
    "ExecuteTime": {
     "end_time": "2022-07-06T17:54:32.230761Z",
     "start_time": "2022-07-06T17:54:29.822786Z"
    }
   },
   "outputs": [],
   "source": [
    "from genetic_algorithm import *\n",
    "from numpy.random import default_rng\n",
    "from tqdm import tqdm\n",
    "from itertools import product #combinations_with_replacement\n",
    "import binascii\n",
    "%matplotlib notebook\n",
    "\n",
    "import matplotlib.pyplot as plt\n",
    "import math\n",
    "from matplotlib.animation import FuncAnimation\n",
    "\n",
    "import copy\n",
    "from collections import Counter\n",
    "import pandas as pd"
   ]
  },
  {
   "cell_type": "code",
   "execution_count": 2,
   "id": "89c5b605",
   "metadata": {
    "ExecuteTime": {
     "end_time": "2022-07-06T17:54:32.421139Z",
     "start_time": "2022-07-06T17:54:32.236940Z"
    }
   },
   "outputs": [],
   "source": [
    "## hexadecimal generator\n",
    "\n",
    "nr_of_input = 2\n",
    "nr_of_actions = 5\n",
    "nr_of_inner = 3\n",
    "nr_of_genes = 8\n",
    "nr_individuals = 500\n",
    "\n",
    "individuals = generate_initial_genomes_for_population(nr_individuals, nr_of_genes, nr_of_input, nr_of_actions, nr_of_inner)\n",
    "\n",
    "## world size\n",
    "ws = 40\n",
    "world_size_x = ws\n",
    "world_size_y = ws\n",
    "\n",
    "##TODo if world_size_x != world_size_y fit then limit coord_full_list \n",
    "\n",
    "coord_full_list = np.array(list(product(range(ws), repeat=2)))\n",
    "ind = np.random.choice(len(coord_full_list), nr_individuals, replace=False)\n",
    "pos = coord_full_list[ind]\n",
    "\n",
    "## initial brain and position generator\n",
    "\n",
    "result = calculate_individual_output_weights(individuals)\n",
    "\n",
    "## add genome\n",
    "\n",
    "for indiv in result:\n",
    "    result[indiv]['genome'] = [i.hex_id for i in individuals[indiv]]\n",
    "    \n",
    "## assign position and remove brains without output\n",
    "\n",
    "indiv_to_del = []\n",
    "for indiv in result:\n",
    "    if result[indiv]['out']:\n",
    "        result[indiv]['position'] = [list(pos[indiv])]\n",
    "    else:\n",
    "        indiv_to_del.append(indiv)\n",
    "\n",
    "for key in indiv_to_del:\n",
    "    del result[key] "
   ]
  },
  {
   "cell_type": "code",
   "execution_count": null,
   "id": "40079ed6",
   "metadata": {
    "ExecuteTime": {
     "end_time": "2022-07-06T17:56:28.777813Z",
     "start_time": "2022-07-06T17:54:32.461677Z"
    },
    "scrolled": true
   },
   "outputs": [
    {
     "name": "stderr",
     "output_type": "stream",
     "text": [
      " 35%|████████████████████████████▋                                                     | 14/40 [00:25<01:04,  2.49s/it]"
     ]
    }
   ],
   "source": [
    "k = ws\n",
    "n = 0\n",
    "pbar = tqdm(total=k, initial=n)\n",
    "\n",
    "while k>n: \n",
    "    pos_list = [tuple(result[obj]['position'][-1]) for obj in result]\n",
    "    res = list(set([ele for ele in pos_list if pos_list.count(ele) > 1]))\n",
    "    pbar.update(1)\n",
    "    for indiv in result:\n",
    "        x, y = result[indiv]['position'][-1][0], result[indiv]['position'][-1][1]\n",
    "        if n<1:\n",
    "            calculate_position(result, indiv, x, y, world_size_x, world_size_y)    \n",
    "        elif n >= 1:\n",
    "            apply_input(result, indiv)\n",
    "            calculate_position(result, indiv, x, y, world_size_x, world_size_y)\n",
    "    last_pos_list = {obj:result[obj]['position'][-1] for obj in result}\n",
    "    prevent_overlap_movement(last_pos_list, result)\n",
    "    n += 1\n",
    "pbar.close()\n",
    "\n",
    "## overlap check\n",
    "df = pd.DataFrame()\n",
    "for key in result:\n",
    "    df[key] = pd.Series(result[key]['position']).apply(lambda x: '.'.join((str(x[0]),str(x[1]))))\n",
    "\n",
    "print(Counter(df.iloc[-1,:]).most_common(10))\n",
    "\n",
    "## visualisation\n",
    "coords = generate_dictionary_of_coords(result)\n",
    " \n",
    "fig, ax = plt.subplots(figsize=(6,6))\n",
    "anime = FuncAnimation(\n",
    "    fig = fig,\n",
    "    func = update,\n",
    "    frames = len(coords),\n",
    "    interval = 10, repeat=False\n",
    ")\n"
   ]
  },
  {
   "cell_type": "markdown",
   "id": "4aa9b18c",
   "metadata": {},
   "source": [
    "### mutation"
   ]
  },
  {
   "cell_type": "markdown",
   "id": "c9d7f120",
   "metadata": {},
   "source": [
    "hexa to binary"
   ]
  },
  {
   "cell_type": "code",
   "execution_count": null,
   "id": "7795a434",
   "metadata": {},
   "outputs": [],
   "source": [
    "result[0]['genome']"
   ]
  },
  {
   "cell_type": "code",
   "execution_count": null,
   "id": "5a84e818",
   "metadata": {
    "ExecuteTime": {
     "end_time": "2022-07-06T17:56:28.806182Z",
     "start_time": "2022-07-06T17:56:28.806182Z"
    }
   },
   "outputs": [],
   "source": [
    "aa = ['d5bba35f',\n",
    " 'd2b747d2',\n",
    " '6892268f',\n",
    " 'd614a25a',\n",
    " '5a4dddcf',\n",
    " 'ca99c460',\n",
    " '7cddec5a',\n",
    " 'e7bc8cc5']\n",
    "print(aa)\n",
    "genome = copy.copy(aa)\n",
    "\n",
    "for gene_nr, gene in enumerate(genome):\n",
    "    binary_gene = hexval_to_bin(gene)\n",
    "    binary_mutated = mutation(binary_gene, weight=0.09)\n",
    "    if binary_mutated != binary_gene:\n",
    "        genome[gene_nr] = hex(int(binary_mutated, 2))[2:]\n"
   ]
  },
  {
   "cell_type": "code",
   "execution_count": null,
   "id": "6c427d90",
   "metadata": {},
   "outputs": [],
   "source": []
  }
 ],
 "metadata": {
  "kernelspec": {
   "display_name": "Python 3 (ipykernel)",
   "language": "python",
   "name": "python3"
  },
  "language_info": {
   "codemirror_mode": {
    "name": "ipython",
    "version": 3
   },
   "file_extension": ".py",
   "mimetype": "text/x-python",
   "name": "python",
   "nbconvert_exporter": "python",
   "pygments_lexer": "ipython3",
   "version": "3.9.12"
  }
 },
 "nbformat": 4,
 "nbformat_minor": 5
}
