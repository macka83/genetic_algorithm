{
 "cells": [
  {
   "cell_type": "code",
   "execution_count": 1,
   "id": "64e1e30b",
   "metadata": {},
   "outputs": [],
   "source": [
    "from genetic_algorithm import *\n",
    "import re"
   ]
  },
  {
   "cell_type": "markdown",
   "id": "a4aa7361",
   "metadata": {},
   "source": [
    "## hexadecimal generator"
   ]
  },
  {
   "cell_type": "code",
   "execution_count": 2,
   "id": "e85a93ac",
   "metadata": {},
   "outputs": [],
   "source": [
    "nr_of_input = 3\n",
    "nr_of_actions = 3\n",
    "nr_of_inner = 2\n",
    "nr_of_genes = 16\n",
    "nr_individuals = 4\n",
    "\n",
    "res = generate_initial_genomes_for_population(nr_individuals, nr_of_genes, nr_of_input, nr_of_actions, nr_of_inner)"
   ]
  },
  {
   "cell_type": "markdown",
   "id": "991e86ea",
   "metadata": {},
   "source": [
    "## Sumuj duble"
   ]
  },
  {
   "cell_type": "code",
   "execution_count": 3,
   "id": "0ac99015",
   "metadata": {},
   "outputs": [],
   "source": [
    "dic = {}\n",
    "for nr in res:\n",
    "    dic[nr] = {}\n",
    "    for i in res[nr]:\n",
    "        total = dic.get(i.differ_neuron, 0) + i.weight \n",
    "        dic[nr][i.differ_neuron] = total"
   ]
  },
  {
   "cell_type": "code",
   "execution_count": 10,
   "id": "0d3e3fc0",
   "metadata": {},
   "outputs": [
    {
     "data": {
      "text/plain": [
       "{0: {'0in0mid': 1.6253929497939874,\n",
       "  '2in1mid': 0.23341980772165422,\n",
       "  '0mid1mid': -3.3510148023805892,\n",
       "  '0in0out': 1.9818708988249656,\n",
       "  '1mid1mid': -1.4913474744391881,\n",
       "  '0mid0mid': 2.5132916221577903,\n",
       "  '1mid0mid': 1.530657714024111,\n",
       "  '0mid0out': 1.5410346406226156,\n",
       "  '2in1out': 3.8995269342285974,\n",
       "  '0mid2out': 2.293178696780101,\n",
       "  '0in1out': -2.2880512742255457},\n",
       " 1: {'1in0mid': -3.2976651915153363,\n",
       "  '0mid1mid': 1.1972531664886312,\n",
       "  '1mid1mid': 0.9621242179154585,\n",
       "  '2in1mid': 2.9021211658782238,\n",
       "  '0in0out': -3.3322142530138867,\n",
       "  '0in0mid': -0.6807263848618953,\n",
       "  '1in1out': 3.14701663360293,\n",
       "  '2in0out': -3.044224019533038,\n",
       "  '1mid1out': -2.351533648710514,\n",
       "  '2in0mid': 0.0068365634060735545,\n",
       "  '1in1mid': 2.9942926903708225},\n",
       " 2: {'0in2out': 1.1929803143598352,\n",
       "  '0mid1out': -0.17579734472760566,\n",
       "  '1in1mid': 3.2775217457652985,\n",
       "  '0in1mid': -3.360903403021517,\n",
       "  '1mid1mid': -3.424874103464062,\n",
       "  '2in1mid': 0.34243857775064857,\n",
       "  '0mid2out': 2.992217305051122,\n",
       "  '1in2out': 1.3497329467419503,\n",
       "  '0in1out': -1.26513047459179,\n",
       "  '2in0out': -0.8260033572409583,\n",
       "  '0in0mid': -0.7860827102090645,\n",
       "  '2in2out': -0.6867083778422097},\n",
       " 3: {'0mid1mid': -2.1183580039676486,\n",
       "  '2in0mid': 0.6137036471844957,\n",
       "  '0mid0out': -3.2479780253319093,\n",
       "  '2in1out': -1.6303982908591486,\n",
       "  '0mid0mid': -0.7576377231802228,\n",
       "  '1in1mid': -1.9544025637112772,\n",
       "  '1in1out': 1.8258507553792156,\n",
       "  '2in2out': 0.2508774607050206,\n",
       "  '1in0out': -0.39432321074317106,\n",
       "  '0mid2out': -3.469800091561117,\n",
       "  '1mid1mid': -0.49235464672669005,\n",
       "  '1in0mid': -0.1777506485579124,\n",
       "  '0in2out': -2.0418129101175033,\n",
       "  '1mid0mid': -2.828506027773539}}"
      ]
     },
     "execution_count": 10,
     "metadata": {},
     "output_type": "execute_result"
    }
   ],
   "source": [
    "dic"
   ]
  },
  {
   "cell_type": "code",
   "execution_count": 8,
   "id": "ac9148cc",
   "metadata": {},
   "outputs": [],
   "source": [
    "nr = 0\n",
    "\n",
    "n_out = 0\n",
    "pair_list = []\n",
    "for pair in res[nr]:\n",
    "    n_output = f'{pair.output_id}{pair.output_type}'\n",
    "    n_input = f'{pair.input_id}{pair.input_type}'\n",
    "    if pair.output_type == 'out' and pair.output_id > n_out:\n",
    "        n_out = pair.output_id\n",
    "    pair_list.append([n_input, n_output])\n"
   ]
  },
  {
   "cell_type": "code",
   "execution_count": 9,
   "id": "5b1ee8cc",
   "metadata": {},
   "outputs": [
    {
     "name": "stdout",
     "output_type": "stream",
     "text": [
      "2\n"
     ]
    },
    {
     "data": {
      "text/plain": [
       "[['0in', '0mid'],\n",
       " ['2in', '1mid'],\n",
       " ['0mid', '1mid'],\n",
       " ['0in', '0out'],\n",
       " ['1mid', '1mid'],\n",
       " ['0mid', '0mid'],\n",
       " ['2in', '1mid'],\n",
       " ['1mid', '0mid'],\n",
       " ['0mid', '0out'],\n",
       " ['2in', '1out'],\n",
       " ['0mid', '2out'],\n",
       " ['1mid', '0mid'],\n",
       " ['0mid', '0mid'],\n",
       " ['0in', '0mid'],\n",
       " ['0in', '1out'],\n",
       " ['0in', '0mid']]"
      ]
     },
     "execution_count": 9,
     "metadata": {},
     "output_type": "execute_result"
    }
   ],
   "source": [
    "print(n_out)\n",
    "pair_list"
   ]
  },
  {
   "cell_type": "markdown",
   "id": "74f4fa7d",
   "metadata": {},
   "source": [
    "## grupuj "
   ]
  },
  {
   "cell_type": "code",
   "execution_count": 4,
   "id": "690c4e8e",
   "metadata": {},
   "outputs": [
    {
     "data": {
      "text/plain": [
       "{0: {'0mid0out': -2.4527392034182816,\n",
       "  '2in1out': 0.6819471997558371,\n",
       "  '1mid1mid': 0.5615748512131848,\n",
       "  '0mid1mid': 1.9885853807416451,\n",
       "  '2in0out': 1.6363802838394628,\n",
       "  '1mid0out': 3.5900503586143753,\n",
       "  '1mid0mid': -0.5934381199450633,\n",
       "  '0in0out': -0.060552418739508625,\n",
       "  '1in1mid': 0.32839920647031895,\n",
       "  '1in0out': 0.3309629177475965,\n",
       "  '1mid2out': -0.7902334808484663},\n",
       " 1: {'0mid0mid': -2.417945978940943,\n",
       "  '2in1out': -3.955074011902945,\n",
       "  '2in1mid': 3.791362734625362,\n",
       "  '1mid2out': -0.9140241110941554,\n",
       "  '1mid0out': 0.5950251793071876,\n",
       "  '2in2out': 1.3392339386540515,\n",
       "  '0mid1mid': -0.20753853197009003,\n",
       "  '0in1out': -3.5414619258354954,\n",
       "  '0mid1out': -2.6472150160231953,\n",
       "  '0in0out': -1.0152296658019229,\n",
       "  '1in1mid': -2.257530901877003,\n",
       "  '1in2out': 2.3616664123302304},\n",
       " 2: {'1mid2out': 1.927788799023348,\n",
       "  '1in0mid': -1.1938348847855944,\n",
       "  '1in2out': -0.7515336487105143,\n",
       "  '1mid0out': -1.0256065924004272,\n",
       "  '1in0out': 2.5771402411109414,\n",
       "  '0in0out': 3.6756294826796885,\n",
       "  '2in0out': 0.8017091408515183,\n",
       "  '0in1out': -1.6184343048985197,\n",
       "  '0mid0mid': 3.6778269494887836,\n",
       "  '1mid1mid': 1.521989928277125,\n",
       "  '0mid1mid': 2.538928734930566,\n",
       "  '0in1mid': -2.9361819014191974,\n",
       "  '0in2out': -0.4348542652220357},\n",
       " 3: {'1in2out': -3.0238364108042117,\n",
       "  '2in1mid': -1.7905692049443003,\n",
       "  '1mid2out': 1.9102090645505876,\n",
       "  '0mid1out': -1.16209369754311,\n",
       "  '0in0mid': -0.04053105447886464,\n",
       "  '0mid0out': 2.7059362124217916,\n",
       "  '0mid1mid': -0.8734930566152908,\n",
       "  '1in0mid': 0.3086220051884633,\n",
       "  '0mid2out': -1.1895620326567984,\n",
       "  '0in2out': -3.9445750038150464,\n",
       "  '2in2out': -2.4849687166183427,\n",
       "  '0in1mid': -2.6258507553792154,\n",
       "  '1mid1out': -0.8537158553334351,\n",
       "  '1mid1mid': 2.4036624446818253}}"
      ]
     },
     "execution_count": 4,
     "metadata": {},
     "output_type": "execute_result"
    }
   ],
   "source": [
    "dic"
   ]
  },
  {
   "cell_type": "code",
   "execution_count": 5,
   "id": "c042cc6f",
   "metadata": {},
   "outputs": [
    {
     "name": "stdout",
     "output_type": "stream",
     "text": [
      "{'1in2out': -3.0238364108042117, '2in1mid': -1.7905692049443003, '1mid2out': 1.9102090645505876, '0mid1out': -1.16209369754311, '0in0mid': -0.04053105447886464, '0mid0out': 2.7059362124217916, '0mid1mid': -0.8734930566152908, '1in0mid': 0.3086220051884633, '0mid2out': -1.1895620326567984, '0in2out': -3.9445750038150464, '2in2out': -2.4849687166183427, '0in1mid': -2.6258507553792154, '1mid1out': -0.8537158553334351, '1mid1mid': 2.4036624446818253}\n",
      "in_mid 2in1mid\n",
      "in_mid 0in0mid\n",
      "in_mid 1in0mid\n",
      "in_mid 0in1mid\n",
      "{'1in2out': -3.0238364108042117, '1mid2out': 1.9102090645505876, '0mid1out': -1.16209369754311, '0mid0out': 2.7059362124217916, '0mid1mid': -0.8734930566152908, '0mid2out': -1.1895620326567984, '0in2out': -3.9445750038150464, '2in2out': -2.4849687166183427, '1mid1out': -0.8537158553334351, '1mid1mid': 2.4036624446818253}\n"
     ]
    }
   ],
   "source": [
    "# wybierz wszystkie in_mid\n",
    "\n",
    "nr_neuronu = 3\n",
    "print(dic[nr_neuronu])\n",
    "list_of_keys = []\n",
    "for i in dic[nr_neuronu]:\n",
    "    if 'in' in i and 'mid' in i:\n",
    "        print('in_mid', i)\n",
    "        list_of_keys.append(i)\n",
    "        \n",
    "for i in list_of_keys:\n",
    "    dic[nr_neuronu].pop(i)\n",
    "\n",
    "print(dic[nr_neuronu])"
   ]
  },
  {
   "cell_type": "code",
   "execution_count": 6,
   "id": "09693ab6",
   "metadata": {},
   "outputs": [
    {
     "data": {
      "text/plain": [
       "{'1in2out': -3.0238364108042117,\n",
       " '1mid2out': 1.9102090645505876,\n",
       " '0mid1out': -1.16209369754311,\n",
       " '0mid0out': 2.7059362124217916,\n",
       " '0mid1mid': -0.8734930566152908,\n",
       " '0mid2out': -1.1895620326567984,\n",
       " '0in2out': -3.9445750038150464,\n",
       " '2in2out': -2.4849687166183427,\n",
       " '1mid1out': -0.8537158553334351,\n",
       " '1mid1mid': 2.4036624446818253}"
      ]
     },
     "execution_count": 6,
     "metadata": {},
     "output_type": "execute_result"
    }
   ],
   "source": [
    "dic[nr_neuronu]"
   ]
  },
  {
   "cell_type": "code",
   "execution_count": 7,
   "id": "99e59ff4",
   "metadata": {},
   "outputs": [
    {
     "data": {
      "text/plain": [
       "{'0mid': ['0in0mid', '1in0mid']}"
      ]
     },
     "execution_count": 7,
     "metadata": {},
     "output_type": "execute_result"
    }
   ],
   "source": [
    "list_of_out = ['0mid']\n",
    "\n",
    "d = {}\n",
    "for n in list_of_out:\n",
    "    d[n] = [k for k in list_of_keys if n in k]\n",
    "    \n",
    "d"
   ]
  },
  {
   "cell_type": "code",
   "execution_count": null,
   "id": "2a74873c",
   "metadata": {},
   "outputs": [],
   "source": []
  }
 ],
 "metadata": {
  "kernelspec": {
   "display_name": "Python 3 (ipykernel)",
   "language": "python",
   "name": "python3"
  },
  "language_info": {
   "codemirror_mode": {
    "name": "ipython",
    "version": 3
   },
   "file_extension": ".py",
   "mimetype": "text/x-python",
   "name": "python",
   "nbconvert_exporter": "python",
   "pygments_lexer": "ipython3",
   "version": "3.9.7"
  }
 },
 "nbformat": 4,
 "nbformat_minor": 5
}
