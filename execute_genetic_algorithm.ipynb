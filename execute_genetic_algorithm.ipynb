{
 "cells": [
  {
   "cell_type": "code",
   "execution_count": 1,
   "id": "64e1e30b",
   "metadata": {
    "ExecuteTime": {
     "end_time": "2022-05-25T19:51:11.489480Z",
     "start_time": "2022-05-25T19:51:10.714222Z"
    }
   },
   "outputs": [],
   "source": [
    "from genetic_algorithm import *\n",
    "import re\n",
    "import json\n",
    "import numpy as np\n",
    "from collections import Counter\n",
    "import copy"
   ]
  },
  {
   "cell_type": "markdown",
   "id": "a4aa7361",
   "metadata": {},
   "source": [
    "## hexadecimal generator"
   ]
  },
  {
   "cell_type": "code",
   "execution_count": 2,
   "id": "e85a93ac",
   "metadata": {
    "ExecuteTime": {
     "end_time": "2022-05-25T19:51:11.505456Z",
     "start_time": "2022-05-25T19:51:11.490423Z"
    }
   },
   "outputs": [],
   "source": [
    "nr_of_input = 3\n",
    "nr_of_actions = 3\n",
    "nr_of_inner = 2\n",
    "nr_of_genes = 16\n",
    "nr_individuals = 4\n",
    "\n",
    "individuals = generate_initial_genomes_for_population(nr_individuals, nr_of_genes, nr_of_input, nr_of_actions, nr_of_inner)"
   ]
  },
  {
   "cell_type": "code",
   "execution_count": 7,
   "id": "2aff38fc",
   "metadata": {
    "ExecuteTime": {
     "end_time": "2022-05-25T19:54:18.534412Z",
     "start_time": "2022-05-25T19:54:18.509666Z"
    },
    "scrolled": true
   },
   "outputs": [
    {
     "name": "stdout",
     "output_type": "stream",
     "text": [
      "mid_to_weight 0\n",
      "[('1mid', '1mid', 3.230642453837937), ('0in', '0mid', -1.3017549214100412), ('0mid', '1out', -1.385991149092019), ('1mid', '1out', 2.9065160994964137), ('0mid', '0out', -2.036319243094766), ('1mid', '2out', -2.326506943384709), ('1in', '0mid', -0.12867388982145583), ('0in', '2out', 2.68188615901114), ('1in', '1mid', -2.455791240653136), ('0mid', '0mid', -0.7721654204181291), ('2in', '0mid', 3.7680451701510758), ('0mid', '2out', 1.8157179917594994), ('1mid', '0mid', -2.731329162215779)]\n",
      "\n",
      "mid_to_weight 1\n",
      "[('1mid', '2out', 2.97402716313139), ('0in', '0out', -2.705325804974821), ('0mid', '0out', 0.25612696474896995), ('0in', '0mid', 0.24636044559743628), ('0mid', '0mid', 2.0812452311918204)]\n",
      "\n",
      "mid_to_weight 2\n",
      "[('0in', '0mid', -2.650633297726232), ('1mid', '1mid', 1.679352968106211), ('1mid', '0out', 1.8092476728216085), ('1in', '0out', -1.152815504349153), ('1in', '1mid', -1.5775370059514726), ('2in', '0mid', -3.554280482221883), ('1mid', '1out', -2.4712955898061955), ('0mid', '2out', 3.7870898824965664), ('0mid', '0out', 3.5324278956203266)]\n",
      "\n"
     ]
    }
   ],
   "source": [
    "## sum duplicates\n",
    "individuals_sum_dup = sum_duplicated_neurons(individuals)\n",
    "\n",
    "## remove self loops\n",
    "individuals_sum_dup_no_self_loop = remove_self_loop(individuals_sum_dup)\n",
    "\n",
    "## brain generator\n",
    "# one individual to change to multiple\n",
    "for individual in individuals_sum_dup_no_self_loop:\n",
    "#     try:\n",
    "    edges = individuals_sum_dup_no_self_loop[individual]\n",
    "    edges = [tuple(edges[i]) for i in edges]\n",
    "\n",
    "    ## preprocessing\n",
    "    dic = weight_sum_preprocessing(edges)\n",
    "\n",
    "    ## calculate weight sum\n",
    "#     except:\n",
    "#         print(individual)\n",
    "#         print(edges)\n",
    "        \n",
    "#         continue\n",
    "    try:\n",
    "        mid_to_weight(dic)\n",
    "    except:\n",
    "        print('mid_to_weight', individual)\n",
    "        print(edges)\n",
    "        print()\n",
    "        continue   \n",
    "    try:    \n",
    "        out_to_weight(dic)\n",
    "    except:\n",
    "        print('mid_to_weight', individual)\n",
    "        print(edges)\n",
    "        print()    "
   ]
  },
  {
   "cell_type": "code",
   "execution_count": 5,
   "id": "16f5f551",
   "metadata": {
    "ExecuteTime": {
     "end_time": "2022-05-25T19:51:29.450697Z",
     "start_time": "2022-05-25T19:51:29.435053Z"
    }
   },
   "outputs": [
    {
     "data": {
      "text/plain": [
       "{'0mid': -0.9665860251799056,\n",
       " '0out': -0.6046523034543023,\n",
       " '1mid': -0.9941823553520475,\n",
       " '1out': 0.9998599242145619}"
      ]
     },
     "execution_count": 5,
     "metadata": {},
     "output_type": "execute_result"
    }
   ],
   "source": [
    "dic"
   ]
  },
  {
   "cell_type": "code",
   "execution_count": null,
   "id": "6fd3e0b7",
   "metadata": {},
   "outputs": [],
   "source": []
  }
 ],
 "metadata": {
  "kernelspec": {
   "display_name": "Python 3 (ipykernel)",
   "language": "python",
   "name": "python3"
  },
  "language_info": {
   "codemirror_mode": {
    "name": "ipython",
    "version": 3
   },
   "file_extension": ".py",
   "mimetype": "text/x-python",
   "name": "python",
   "nbconvert_exporter": "python",
   "pygments_lexer": "ipython3",
   "version": "3.9.12"
  }
 },
 "nbformat": 4,
 "nbformat_minor": 5
}
