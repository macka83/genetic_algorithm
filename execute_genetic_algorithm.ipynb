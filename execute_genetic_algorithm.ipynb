{
 "cells": [
  {
   "cell_type": "code",
   "execution_count": 1,
   "id": "64e1e30b",
   "metadata": {},
   "outputs": [],
   "source": [
    "from genetic_algorithm import *\n",
    "import re\n",
    "import json"
   ]
  },
  {
   "cell_type": "markdown",
   "id": "a4aa7361",
   "metadata": {},
   "source": [
    "## hexadecimal generator"
   ]
  },
  {
   "cell_type": "code",
   "execution_count": 2,
   "id": "e85a93ac",
   "metadata": {},
   "outputs": [],
   "source": [
    "nr_of_input = 3\n",
    "nr_of_actions = 3\n",
    "nr_of_inner = 2\n",
    "nr_of_genes = 16\n",
    "nr_individuals = 4\n",
    "\n",
    "res = generate_initial_genomes_for_population(nr_individuals, nr_of_genes, nr_of_input, nr_of_actions, nr_of_inner)"
   ]
  },
  {
   "cell_type": "markdown",
   "id": "991e86ea",
   "metadata": {},
   "source": [
    "## Sumuj duble"
   ]
  },
  {
   "cell_type": "code",
   "execution_count": null,
   "id": "0ac99015",
   "metadata": {},
   "outputs": [],
   "source": []
  },
  {
   "cell_type": "code",
   "execution_count": 3,
   "id": "f1e96d55",
   "metadata": {},
   "outputs": [],
   "source": [
    "dic = sum_duplicated_neurons(res)"
   ]
  },
  {
   "cell_type": "code",
   "execution_count": 4,
   "id": "82f070e4",
   "metadata": {},
   "outputs": [
    {
     "data": {
      "text/plain": [
       "{'0in1mid': ['0in', '1mid', -3.235159468945521],\n",
       " '1in0out': ['1in', '0out', -2.6499008087898672],\n",
       " '0mid1out': ['0mid', '1out', -2.272424843583092],\n",
       " '2in1mid': ['2in', '1mid', 0.3360903403021517],\n",
       " '1in0mid': ['1in', '0mid', 0.662658324431558],\n",
       " '2in0mid': ['2in', '0mid', 2.478254234701663],\n",
       " '1mid1out': ['1mid', '1out', 2.032900961391729],\n",
       " '1mid0mid': ['1mid', '0mid', -3.4864031741187245],\n",
       " '1mid2out': ['1mid', '2out', 2.6215779032504196],\n",
       " '2in0out': ['2in', '0out', 0.08911948725774455],\n",
       " '1in1mid': ['1in', '1mid', 1.1221730505112162],\n",
       " '1mid1mid': ['1mid', '1mid', 2.393773844040897],\n",
       " '0mid2out': ['0mid', '2out', -0.3567221120097665],\n",
       " '0in0out': ['0in', '0out', 0.5204333892873493]}"
      ]
     },
     "execution_count": 4,
     "metadata": {},
     "output_type": "execute_result"
    }
   ],
   "source": [
    "dic[1]"
   ]
  },
  {
   "cell_type": "markdown",
   "id": "69161a40",
   "metadata": {},
   "source": [
    "## brain generator"
   ]
  },
  {
   "cell_type": "code",
   "execution_count": 5,
   "id": "6625f189",
   "metadata": {},
   "outputs": [],
   "source": [
    "edges = dic[1]\n",
    "brain = generate_brain_output_dictionary(edges)"
   ]
  },
  {
   "cell_type": "code",
   "execution_count": 6,
   "id": "9285068e",
   "metadata": {},
   "outputs": [
    {
     "data": {
      "text/plain": [
       "{'0out': {}, '1out': {}, '2out': {}}"
      ]
     },
     "execution_count": 6,
     "metadata": {},
     "output_type": "execute_result"
    }
   ],
   "source": [
    "brain"
   ]
  },
  {
   "cell_type": "code",
   "execution_count": 7,
   "id": "acfc2e31",
   "metadata": {},
   "outputs": [
    {
     "name": "stdout",
     "output_type": "stream",
     "text": [
      "item ['0in', '1mid', -3.235159468945521]\n",
      "item ['1in', '0out', -2.6499008087898672]\n",
      "3 0out 1in -2.6499008087898672\n",
      "item ['0mid', '1out', -2.272424843583092]\n",
      "item ['2in', '1mid', 0.3360903403021517]\n",
      "item ['1in', '0mid', 0.662658324431558]\n",
      "item ['2in', '0mid', 2.478254234701663]\n",
      "item ['1mid', '1out', 2.032900961391729]\n",
      "item ['1mid', '0mid', -3.4864031741187245]\n",
      "item ['1mid', '2out', 2.6215779032504196]\n",
      "item ['2in', '0out', 0.08911948725774455]\n",
      "3 0out 2in 0.08911948725774455\n",
      "item ['1in', '1mid', 1.1221730505112162]\n",
      "item ['1mid', '1mid', 2.393773844040897]\n",
      "item ['0mid', '2out', -0.3567221120097665]\n",
      "item ['0in', '0out', 0.5204333892873493]\n",
      "3 0out 0in 0.5204333892873493\n",
      "item ['0in', '1mid', -3.235159468945521]\n",
      "item ['1in', '0out', -2.6499008087898672]\n",
      "item ['0mid', '1out', -2.272424843583092]\n",
      "1 1out 0mid -2.272424843583092\n",
      "item ['2in', '1mid', 0.3360903403021517]\n",
      "item ['1in', '0mid', 0.662658324431558]\n",
      "item ['2in', '0mid', 2.478254234701663]\n",
      "item ['1mid', '1out', 2.032900961391729]\n",
      "1 1out 1mid 2.032900961391729\n",
      "item ['1mid', '0mid', -3.4864031741187245]\n",
      "item ['1mid', '2out', 2.6215779032504196]\n",
      "item ['2in', '0out', 0.08911948725774455]\n",
      "item ['1in', '1mid', 1.1221730505112162]\n",
      "item ['1mid', '1mid', 2.393773844040897]\n",
      "item ['0mid', '2out', -0.3567221120097665]\n",
      "item ['0in', '0out', 0.5204333892873493]\n",
      "item ['0in', '1mid', -3.235159468945521]\n",
      "item ['1in', '0out', -2.6499008087898672]\n",
      "item ['0mid', '1out', -2.272424843583092]\n",
      "item ['2in', '1mid', 0.3360903403021517]\n",
      "item ['1in', '0mid', 0.662658324431558]\n",
      "item ['2in', '0mid', 2.478254234701663]\n",
      "item ['1mid', '1out', 2.032900961391729]\n",
      "item ['1mid', '0mid', -3.4864031741187245]\n",
      "item ['1mid', '2out', 2.6215779032504196]\n",
      "1 2out 1mid 2.6215779032504196\n",
      "item ['2in', '0out', 0.08911948725774455]\n",
      "item ['1in', '1mid', 1.1221730505112162]\n",
      "item ['1mid', '1mid', 2.393773844040897]\n",
      "item ['0mid', '2out', -0.3567221120097665]\n",
      "1 2out 0mid -0.3567221120097665\n",
      "item ['0in', '0out', 0.5204333892873493]\n"
     ]
    },
    {
     "data": {
      "text/plain": [
       "{'0out': {'1in': {'w': -2.6499008087898672},\n",
       "  '2in': {'w': 0.08911948725774455},\n",
       "  '0in': {'w': 0.5204333892873493}},\n",
       " '1out': {'0mid': {'w': -2.272424843583092}, '1mid': {'w': 2.032900961391729}},\n",
       " '2out': {'1mid': {'w': 2.6215779032504196},\n",
       "  '0mid': {'w': -0.3567221120097665}}}"
      ]
     },
     "execution_count": 7,
     "metadata": {},
     "output_type": "execute_result"
    }
   ],
   "source": [
    "def mid_neuron(brain, edges):\n",
    "    for key in brain:\n",
    "        if 'out' in key:\n",
    "            for pair in edges:\n",
    "                item = edges[pair]\n",
    "                if key == item[1] and 'mid' in item[0] and key != item[0]:\n",
    "                    brain[key].update({item[0]: {'w':item[2]}})\n",
    "                    mid_neuron(brain[key], edges)\n",
    "                elif key == item[1] and 'mid' in item[0] and key == item[0]:\n",
    "                    brain[key].update({item[0]:{'w':item[2]}})\n",
    "                    print('2', key,item[0],item[2])\n",
    "                elif key == item[1] and 'mid' not in item[0]:\n",
    "                    brain[key].update({item[0]:{'w':item[2]}})\n",
    "                    print('3', key,item[0],item[2])\n",
    "                \n",
    "mid_neuron(brain, edges)\n",
    "brain"
   ]
  },
  {
   "cell_type": "code",
   "execution_count": 9,
   "id": "2c3e5a25",
   "metadata": {
    "scrolled": true
   },
   "outputs": [
    {
     "name": "stdout",
     "output_type": "stream",
     "text": [
      "if 0out {'1in': {'w': -2.6499008087898672}, '2in': {'w': 0.08911948725774455}, '0in': {'w': 0.5204333892873493}}\n",
      "if 1out {'0mid': {'w': -2.272424843583092}, '1mid': {'w': 2.032900961391729}}\n",
      "if 2out {'1mid': {'w': 2.6215779032504196}, '0mid': {'w': -0.3567221120097665}}\n"
     ]
    }
   ],
   "source": [
    "analyze_brain(brain)"
   ]
  },
  {
   "cell_type": "code",
   "execution_count": 10,
   "id": "ff6e6cac",
   "metadata": {},
   "outputs": [],
   "source": [
    "brain.get('2out').get('1in')"
   ]
  },
  {
   "cell_type": "code",
   "execution_count": 11,
   "id": "27994d79",
   "metadata": {},
   "outputs": [
    {
     "data": {
      "text/plain": [
       "{'0out': {'1in': {'w': -2.6499008087898672},\n",
       "  '2in': {'w': 0.08911948725774455},\n",
       "  '0in': {'w': 0.5204333892873493}},\n",
       " '1out': {'0mid': {'w': -2.272424843583092}, '1mid': {'w': 2.032900961391729}},\n",
       " '2out': {'1mid': {'w': 2.6215779032504196},\n",
       "  '0mid': {'w': -0.3567221120097665}}}"
      ]
     },
     "execution_count": 11,
     "metadata": {},
     "output_type": "execute_result"
    }
   ],
   "source": [
    "brain"
   ]
  },
  {
   "cell_type": "markdown",
   "id": "c0bf6b4b",
   "metadata": {},
   "source": [
    "get dictionary depth  \n",
    "https://stackoverflow.com/questions/23499017/know-the-depth-of-a-dictionary\n",
    "https://www.tutorialspoint.com/find-depth-of-a-dictionary-in-python"
   ]
  },
  {
   "cell_type": "markdown",
   "id": "ec147961",
   "metadata": {},
   "source": [
    "https://stackoverflow.com/questions/47265412/custom-connections-between-layers-keras"
   ]
  }
 ],
 "metadata": {
  "kernelspec": {
   "display_name": "Python 3 (ipykernel)",
   "language": "python",
   "name": "python3"
  },
  "language_info": {
   "codemirror_mode": {
    "name": "ipython",
    "version": 3
   },
   "file_extension": ".py",
   "mimetype": "text/x-python",
   "name": "python",
   "nbconvert_exporter": "python",
   "pygments_lexer": "ipython3",
   "version": "3.9.12"
  }
 },
 "nbformat": 4,
 "nbformat_minor": 5
}
