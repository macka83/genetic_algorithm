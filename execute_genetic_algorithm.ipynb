{
 "cells": [
  {
   "cell_type": "code",
   "execution_count": null,
   "id": "64e1e30b",
   "metadata": {
    "ExecuteTime": {
     "end_time": "2022-05-29T13:05:39.957027Z",
     "start_time": "2022-05-29T13:05:39.931004Z"
    }
   },
   "outputs": [],
   "source": [
    "from genetic_algorithm import *\n",
    "import re\n",
    "import json\n",
    "import numpy as np\n",
    "from numpy.random import default_rng\n",
    "from collections import Counter\n",
    "import copy\n",
    "import matplotlib.pyplot as plt\n",
    "from itertools import groupby"
   ]
  },
  {
   "cell_type": "markdown",
   "id": "a4aa7361",
   "metadata": {},
   "source": [
    "## hexadecimal generator"
   ]
  },
  {
   "cell_type": "code",
   "execution_count": null,
   "id": "e85a93ac",
   "metadata": {
    "ExecuteTime": {
     "end_time": "2022-05-27T20:01:01.782792Z",
     "start_time": "2022-05-27T20:01:01.735730Z"
    }
   },
   "outputs": [],
   "source": [
    "nr_of_input = 3\n",
    "nr_of_actions = 3\n",
    "nr_of_inner = 3\n",
    "nr_of_genes = 16\n",
    "nr_individuals = 100\n",
    "\n",
    "individuals = generate_initial_genomes_for_population(nr_individuals, nr_of_genes, nr_of_input, nr_of_actions, nr_of_inner)"
   ]
  },
  {
   "cell_type": "code",
   "execution_count": null,
   "id": "153d2d10",
   "metadata": {
    "ExecuteTime": {
     "end_time": "2022-05-27T20:01:01.798304Z",
     "start_time": "2022-05-27T20:01:01.784347Z"
    }
   },
   "outputs": [],
   "source": [
    "## world size\n",
    "world_size_x = 128\n",
    "world_size_y = 128\n",
    "\n",
    "rng = default_rng()\n",
    "x = rng.choice(world_size_x, size=nr_individuals, replace=False)\n",
    "y = rng.choice(world_size_y, size=nr_individuals, replace=False)\n"
   ]
  },
  {
   "cell_type": "code",
   "execution_count": null,
   "id": "688473c6",
   "metadata": {},
   "outputs": [],
   "source": [
    "individuals_sum_dup = sum_duplicated_neurons(individuals)"
   ]
  },
  {
   "cell_type": "markdown",
   "id": "97385a42",
   "metadata": {},
   "source": [
    "## initial brain and position generator"
   ]
  },
  {
   "cell_type": "code",
   "execution_count": null,
   "id": "8611dba8",
   "metadata": {
    "scrolled": true
   },
   "outputs": [],
   "source": [
    "initial_dic_of_output_neurons = {}\n",
    "\n",
    "## sum duplicates\n",
    "individuals_sum_dup = sum_duplicated_neurons(individuals)\n",
    "\n",
    "## brain generator\n",
    "for individual in individuals_sum_dup:\n",
    "    \n",
    "    ## init brain neuron generator\n",
    "    print(individual)\n",
    "    ## preprocessing\n",
    "    edges = individuals_sum_dup[individual]\n",
    "    edges = [tuple(edges[i]) for i in edges]\n",
    "    edges_no_weight = [i[:-1] for i in edges]\n",
    "    \n",
    "    G = nx.MultiDiGraph()\n",
    "    G.add_edges_from(edges)\n",
    "    \n",
    "    out_list = list(set([i[1] for i in edges if 'out' in i[1]]))\n",
    "    init_list = list(set([i[0] for i in edges if 'in' in i[0]]))\n",
    "\n",
    "    # generate dict of paths\n",
    "    dic_of_paths = generate_dict_of_paths(out_list, init_list, G)\n",
    "\n",
    "    lis = filtered_neurons_paths(dic_of_paths)\n",
    "    \n",
    "    dic = append_weight_to_neurons_in_path(lis, edges_no_weight, edges)\n",
    "\n",
    "    initial_dic_of_output_neurons[individual] = dic\n",
    "        \n",
    "        \n",
    "\n",
    "#     print(dic)\n",
    "    print()"
   ]
  },
  {
   "cell_type": "markdown",
   "id": "99856040",
   "metadata": {},
   "source": [
    "mid predecessors variants"
   ]
  },
  {
   "cell_type": "code",
   "execution_count": 2,
   "id": "7ebdfc10",
   "metadata": {
    "ExecuteTime": {
     "end_time": "2022-06-05T21:06:53.467577Z",
     "start_time": "2022-06-05T21:06:53.444000Z"
    },
    "collapsed": true
   },
   "outputs": [
    {
     "name": "stdout",
     "output_type": "stream",
     "text": [
      "()\n",
      "('in1',)\n",
      "('in2',)\n",
      "('mid1',)\n",
      "('mid2',)\n",
      "('mid3',)\n",
      "('in1', 'in2')\n",
      "('in1', 'mid1')\n",
      "('in1', 'mid2')\n",
      "('in1', 'mid3')\n",
      "('in2', 'mid1')\n",
      "('in2', 'mid2')\n",
      "('in2', 'mid3')\n",
      "('mid1', 'mid2')\n",
      "('mid1', 'mid3')\n",
      "('mid2', 'mid3')\n",
      "('in1', 'in2', 'mid1')\n",
      "('in1', 'in2', 'mid2')\n",
      "('in1', 'in2', 'mid3')\n",
      "('in1', 'mid1', 'mid2')\n",
      "('in1', 'mid1', 'mid3')\n",
      "('in1', 'mid2', 'mid3')\n",
      "('in2', 'mid1', 'mid2')\n",
      "('in2', 'mid1', 'mid3')\n",
      "('in2', 'mid2', 'mid3')\n",
      "('mid1', 'mid2', 'mid3')\n",
      "('in1', 'in2', 'mid1', 'mid2')\n",
      "('in1', 'in2', 'mid1', 'mid3')\n",
      "('in1', 'in2', 'mid2', 'mid3')\n",
      "('in1', 'mid1', 'mid2', 'mid3')\n",
      "('in2', 'mid1', 'mid2', 'mid3')\n",
      "('in1', 'in2', 'mid1', 'mid2', 'mid3')\n"
     ]
    }
   ],
   "source": [
    "from itertools import combinations\n",
    "\n",
    "sample_list = ['in1', 'in2', 'mid1', 'mid2', 'mid3']\n",
    "list_combinations = list()\n",
    "\n",
    "for n in range(len(sample_list) + 1):\n",
    "    list_combinations += list(combinations(sample_list, n))\n",
    "for i in list_combinations:\n",
    "    print(i)"
   ]
  },
  {
   "attachments": {},
   "cell_type": "markdown",
   "id": "de7c650b",
   "metadata": {},
   "source": [
    "key: mid1  \n",
    "1. in2\n",
    "2. mid1\n",
    "3. mid2\n",
    "4. in1, in2\n",
    "5. in1, mid1\n",
    "6. in1, mid2\n",
    "7. mid1, mid2\n",
    "8. mid2, mid3\n",
    "9. in1, in2, mid1\n",
    "10. in1, in2, mid2\n",
    "11. in1, mid1, mid2\n",
    "12. in1, mid2, mid3\n",
    "13. mid1, mid2, mid3\n",
    "14. in1, in2, mid1, mid2\n",
    "15. in1, in2, mid2, mid3\n",
    "16. in1, mid1, mid2, mid3\n",
    "17. in1, in2, mid1, mid2, mid3\n"
   ]
  },
  {
   "cell_type": "code",
   "execution_count": 14,
   "id": "49c601d7",
   "metadata": {},
   "outputs": [],
   "source": [
    "l = [{'mid1': {'in2':{1}}},\n",
    "{'mid1': {'mid1':{1}}},\n",
    "{'mid1': {'mid2':{1}}},\n",
    "{'mid1': {'in1':{1}, 'in2':{2}}},\n",
    "{'mid1': {'in1':{1}, 'mid1':{2}}},\n",
    "{'mid1': {'in1':{1}, 'mid2':{2}}},\n",
    "{'mid1': {'mid1':{1}, 'mid2':{2}}},\n",
    "{'mid1': {'mid2':{1}, 'mid3':{2}}},\n",
    "{'mid1': {'in1':{1}, 'in2':{2}, 'mid1':{3}}},\n",
    "{'mid1': {'in1':{1}, 'in2':{2}, 'mid2':{3}}},\n",
    "{'mid1': {'in1':{1}, 'mid1':{2}, 'mid2':{3}}},\n",
    "{'mid1': {'in1':{1}, 'mid2':{2}, 'mid3':{3}}},\n",
    "{'mid1': {'mid1':{1}, 'mid2':{2}, 'mid3':{3}}},\n",
    "{'mid1': {'in1':{1}, 'in2':{2}, 'mid1':{3}, 'mid2':{4}}},\n",
    "{'mid1': {'in1':{1}, 'in2':{2}, 'mid2':{}, 'mid3':{4}}},\n",
    "{'mid1': {'in1':{1}, 'mid1':{2}, 'mid2':{3}, 'mid3':{4}}},\n",
    "{'mid1': {'in1':{1}, 'in2':{2}, 'mid1':{3}, 'mid2':{4}, 'mid3':{5}}}]\n"
   ]
  },
  {
   "cell_type": "code",
   "execution_count": 46,
   "id": "02b5b3bd",
   "metadata": {
    "scrolled": false
   },
   "outputs": [
    {
     "name": "stdout",
     "output_type": "stream",
     "text": [
      "mid1 False\n",
      "1x in dict_keys(['in2'])\n",
      "mid1 False\n",
      "1x mid dict_keys(['mid2'])\n",
      "mid1 False\n",
      "1x in dict_keys(['in1', 'in2'])\n",
      "mid1 False\n",
      "in mid dict_keys(['in1', 'mid2'])\n",
      "mid1 False\n",
      "1x mid dict_keys(['mid2', 'mid3'])\n",
      "mid1 False\n",
      "in mid dict_keys(['in1', 'in2', 'mid2'])\n",
      "mid1 False\n",
      "in mid dict_keys(['in1', 'mid2', 'mid3'])\n",
      "mid1 False\n",
      "in mid dict_keys(['in1', 'in2', 'mid2', 'mid3'])\n"
     ]
    }
   ],
   "source": [
    "for dic in l:\n",
    "    for key in dic:\n",
    "        key_list = dic[key].keys()\n",
    "        if_loop = key in key_list\n",
    "        neuron_set = set(i[:2] for i in key_list)\n",
    "        \n",
    "#         print()\n",
    "#         print(dic[key].keys())\n",
    "#         print()\n",
    "        if not if_loop:\n",
    "            print(key, if_loop)\n",
    "            if len(neuron_set) == 1 and 'in' in neuron_set:\n",
    "                print('1x in', key_list)\n",
    "#                 pass\n",
    "            elif len(neuron_set) == 1 and 'mi' in neuron_set:\n",
    "                print('1x mid', key_list)\n",
    "#                 pass\n",
    "            elif len(neuron_set) > 1:\n",
    "                print('in mid', key_list)\n",
    "#                 pass\n",
    "#             else:\n",
    "                \n",
    "#                 print('else', key_list)\n",
    "            \n"
   ]
  },
  {
   "cell_type": "code",
   "execution_count": 23,
   "id": "fda41539",
   "metadata": {},
   "outputs": [
    {
     "data": {
      "text/plain": [
       "{'in', 'mi'}"
      ]
     },
     "execution_count": 23,
     "metadata": {},
     "output_type": "execute_result"
    }
   ],
   "source": [
    "set(i[:2] for i in dic[key].keys())"
   ]
  },
  {
   "cell_type": "code",
   "execution_count": null,
   "id": "7654c473",
   "metadata": {},
   "outputs": [],
   "source": []
  },
  {
   "cell_type": "code",
   "execution_count": null,
   "id": "ae0b9e11",
   "metadata": {},
   "outputs": [],
   "source": []
  },
  {
   "cell_type": "code",
   "execution_count": 5,
   "id": "bbf0066f",
   "metadata": {},
   "outputs": [
    {
     "data": {
      "text/plain": [
       "{'mid0': {'mid0': 1.8478254234701663,\n",
       "  'in1': 1.7749427743018464,\n",
       "  'mid2': -3.906241416145277},\n",
       " 'mid1': -0.9999224478418683,\n",
       " 'mid2': {'in1': -0.07153975278498398, 'mid1': -0.792797192125744},\n",
       " 'out1': {'in1': -3.3650541736609187,\n",
       "  'mid0': 0.92733099343812,\n",
       "  'mid2': -3.8355562337860523}}"
      ]
     },
     "execution_count": 5,
     "metadata": {},
     "output_type": "execute_result"
    }
   ],
   "source": [
    "dic = {'mid0': {'mid0': 1.8478254234701663, 'in1': 1.7749427743018464, 'mid2': -3.906241416145277}, 'mid1': -0.9999224478418683, 'mid2': {'in1': -0.07153975278498398, 'mid1': -0.792797192125744}, 'out1': {'in1': -3.3650541736609187, 'mid0': 0.92733099343812, 'mid2': -3.8355562337860523}}\n",
    "dic"
   ]
  },
  {
   "cell_type": "code",
   "execution_count": 4,
   "id": "bbf91b47",
   "metadata": {},
   "outputs": [
    {
     "data": {
      "text/plain": [
       "{'mid0': {'mid0': 1.8478254234701663,\n",
       "  'in1': 1.7749427743018464,\n",
       "  'mid2': -3.906241416145277},\n",
       " 'mid2': {'in1': -0.07153975278498398, 'mid1': -1.7927196399676122},\n",
       " 'out1': {'in1': -3.3650541736609187,\n",
       "  'mid0': 0.92733099343812,\n",
       "  'mid2': -3.8355562337860523}}"
      ]
     },
     "execution_count": 4,
     "metadata": {},
     "output_type": "execute_result"
    }
   ],
   "source": [
    "dic = {'mid0': {'mid0': 1.8478254234701663, 'in1': 1.7749427743018464, 'mid2': -3.906241416145277}, 'mid1': -0.9999224478418683, 'mid2': {'in1': -0.07153975278498398, 'mid1': -0.792797192125744}, 'out1': {'in1': -3.3650541736609187, 'mid0': 0.92733099343812, 'mid2': -3.8355562337860523}}\n",
    "\n",
    "mid_value = {}\n",
    "\n",
    "for key in dic:\n",
    "#     print(key)\n",
    "    if 'mid' in key and isinstance(dic[key], float):\n",
    "        mid_value[key] = dic[key]\n",
    "\n",
    "    elif 'mid' in key and isinstance(dic[key], dict):\n",
    "        for sub_key in dic[key]:\n",
    "            if sub_key in mid_value:\n",
    "                dic[key][sub_key] += mid_value[sub_key]\n",
    "\n",
    "for key in mid_value:\n",
    "    del dic[key]\n",
    "\n",
    "# dic_list = {}\n",
    "# for key in dic:\n",
    "#     lista = []\n",
    "#     for sub_key in dic[key]:\n",
    "#         if sub_key in dic:\n",
    "#             lista.append(sub_key)\n",
    "#     dic_list[key] = lista\n",
    "    \n",
    "# def sum_weights(dic):\n",
    "#     for key in dic_list:\n",
    "#         if dic_list:\n",
    "#             sum_weights\n",
    "\n",
    "            \n",
    "    \n",
    "\n",
    "dic"
   ]
  },
  {
   "cell_type": "code",
   "execution_count": null,
   "id": "d55d6571",
   "metadata": {},
   "outputs": [],
   "source": [
    "any(dic['mid0']) in dic"
   ]
  },
  {
   "cell_type": "code",
   "execution_count": null,
   "id": "018d783e",
   "metadata": {},
   "outputs": [],
   "source": [
    " np.tanh(sum([-0.9999224478418683, 1.8478254234701663, -0.9530708314545707, 1.7749427743018464]))"
   ]
  },
  {
   "cell_type": "code",
   "execution_count": null,
   "id": "65a25788",
   "metadata": {},
   "outputs": [],
   "source": [
    "out_to_weight(dic)"
   ]
  },
  {
   "cell_type": "code",
   "execution_count": null,
   "id": "cdb656d2",
   "metadata": {},
   "outputs": [],
   "source": [
    "len({'in1': -0.07153975278498398, 'mid1': -0.792797192125744})"
   ]
  },
  {
   "cell_type": "code",
   "execution_count": null,
   "id": "07669b0e",
   "metadata": {
    "scrolled": true
   },
   "outputs": [],
   "source": [
    "dic"
   ]
  },
  {
   "cell_type": "code",
   "execution_count": null,
   "id": "2aff38fc",
   "metadata": {
    "ExecuteTime": {
     "end_time": "2022-05-27T20:01:01.813305Z",
     "start_time": "2022-05-27T20:01:01.799301Z"
    },
    "scrolled": true
   },
   "outputs": [],
   "source": [
    "initial_dic_of_output_neurons = {}\n",
    "\n",
    "## sum duplicates\n",
    "individuals_sum_dup = sum_duplicated_neurons(individuals)\n",
    "\n",
    "## remove self loops\n",
    "individuals_sum_dup_no_self_loop = remove_self_loop(individuals_sum_dup)\n",
    "\n",
    "## brain generator\n",
    "for individual in individuals_sum_dup_no_self_loop:\n",
    "    \n",
    "    ## init brain neuron generator\n",
    "    \n",
    "    ## preprocessing\n",
    "    edges = individuals_sum_dup_no_self_loop[individual]\n",
    "    edges = [tuple(edges[i]) for i in edges]\n",
    "\n",
    "    remove_mid_with_no_predecessor(edges) \n",
    "    dic = weight_sum_preprocessing(edges)\n",
    "\n",
    "    ## calculate weight sum\n",
    "    mid_to_weight(dic)\n",
    "    out_to_weight(dic)\n",
    "       \n",
    "    dic = {k:v for k, v in dic.items() if 'out' in k}    \n",
    "    \n",
    "    initial_dic_of_output_neurons[individual] = {}\n",
    "    initial_dic_of_output_neurons[individual]['output'] = dic\n",
    "    \n",
    "    ## position\n",
    "#     initial_dic_of_output_neurons[individual]['position'] = {}\n",
    "#     initial_dic_of_output_neurons[individual]['position']['x'] = x[individual]\n",
    "#     initial_dic_of_output_neurons[individual]['position']['y'] = y[individual] \n",
    "    \n",
    "    ## position history\n",
    "    initial_dic_of_output_neurons[individual]['history_position'] = [(x[individual], y[individual])]"
   ]
  },
  {
   "cell_type": "code",
   "execution_count": null,
   "id": "37a4e64d",
   "metadata": {
    "ExecuteTime": {
     "end_time": "2022-05-27T20:01:01.829301Z",
     "start_time": "2022-05-27T20:01:01.814301Z"
    }
   },
   "outputs": [],
   "source": [
    "initial_dic_of_output_neurons"
   ]
  },
  {
   "cell_type": "code",
   "execution_count": null,
   "id": "675d302d",
   "metadata": {
    "ExecuteTime": {
     "end_time": "2022-05-27T20:23:03.597160Z",
     "start_time": "2022-05-27T20:23:03.581159Z"
    }
   },
   "outputs": [],
   "source": [
    "a = [(3, 0),(4,1),(5,2)]"
   ]
  },
  {
   "cell_type": "code",
   "execution_count": null,
   "id": "fb0ff57e",
   "metadata": {
    "ExecuteTime": {
     "end_time": "2022-05-27T20:15:26.036428Z",
     "start_time": "2022-05-27T20:15:26.011830Z"
    }
   },
   "outputs": [],
   "source": [
    "def slope_intercept(x1,y1,x2,y2):\n",
    "    a = (y2 - y1) / (x2 - x1)\n",
    "    b = y1 - a * x1     \n",
    "    return a,b\n",
    "\n",
    "print(slope_intercept(3,0,2,1))"
   ]
  },
  {
   "cell_type": "code",
   "execution_count": null,
   "id": "8ca05899",
   "metadata": {
    "ExecuteTime": {
     "end_time": "2022-05-27T20:22:17.197947Z",
     "start_time": "2022-05-27T20:22:17.180390Z"
    }
   },
   "outputs": [],
   "source": [
    "a"
   ]
  },
  {
   "cell_type": "code",
   "execution_count": null,
   "id": "c09bb447",
   "metadata": {
    "ExecuteTime": {
     "end_time": "2022-05-27T20:23:05.833265Z",
     "start_time": "2022-05-27T20:23:05.820276Z"
    }
   },
   "outputs": [],
   "source": [
    "if a[-2][0] == a[-1][0]:\n",
    "    x = a[-1][0]\n",
    "elif a[-2][0] > a[-1][0]:\n",
    "    x = a[-2][0] + 1\n",
    "elif a[-2][0] < a[-1][0]:\n",
    "    x = a[-2][0] - 1\n",
    "print(x)"
   ]
  },
  {
   "cell_type": "code",
   "execution_count": null,
   "id": "91e7bb9d",
   "metadata": {
    "ExecuteTime": {
     "end_time": "2022-05-27T20:22:29.407155Z",
     "start_time": "2022-05-27T20:22:29.397644Z"
    }
   },
   "outputs": [],
   "source": [
    "a[-2][0]"
   ]
  },
  {
   "cell_type": "code",
   "execution_count": null,
   "id": "89c5b605",
   "metadata": {},
   "outputs": [],
   "source": []
  }
 ],
 "metadata": {
  "kernelspec": {
   "display_name": "Python 3 (ipykernel)",
   "language": "python",
   "name": "python3"
  },
  "language_info": {
   "codemirror_mode": {
    "name": "ipython",
    "version": 3
   },
   "file_extension": ".py",
   "mimetype": "text/x-python",
   "name": "python",
   "nbconvert_exporter": "python",
   "pygments_lexer": "ipython3",
   "version": "3.9.12"
  }
 },
 "nbformat": 4,
 "nbformat_minor": 5
}
