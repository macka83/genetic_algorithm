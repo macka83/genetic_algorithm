{
 "cells": [
  {
   "cell_type": "code",
   "execution_count": 1,
   "id": "64e1e30b",
   "metadata": {},
   "outputs": [],
   "source": [
    "from genetic_algorithm import *\n",
    "import re\n",
    "import json"
   ]
  },
  {
   "cell_type": "markdown",
   "id": "a4aa7361",
   "metadata": {},
   "source": [
    "## hexadecimal generator"
   ]
  },
  {
   "cell_type": "code",
   "execution_count": 2,
   "id": "e85a93ac",
   "metadata": {},
   "outputs": [],
   "source": [
    "nr_of_input = 3\n",
    "nr_of_actions = 3\n",
    "nr_of_inner = 2\n",
    "nr_of_genes = 16\n",
    "nr_individuals = 4\n",
    "\n",
    "res = generate_initial_genomes_for_population(nr_individuals, nr_of_genes, nr_of_input, nr_of_actions, nr_of_inner)"
   ]
  },
  {
   "cell_type": "markdown",
   "id": "991e86ea",
   "metadata": {},
   "source": [
    "## Sumuj duble"
   ]
  },
  {
   "cell_type": "code",
   "execution_count": null,
   "id": "7ffd1364",
   "metadata": {},
   "outputs": [],
   "source": [
    "dic = sum_duplicated_neurons(res)"
   ]
  },
  {
   "cell_type": "markdown",
   "id": "69161a40",
   "metadata": {},
   "source": [
    "## brain generator"
   ]
  },
  {
   "cell_type": "code",
   "execution_count": 4,
   "id": "6625f189",
   "metadata": {},
   "outputs": [],
   "source": [
    "edges = dic[1]\n",
    "def generate_brain_output_dictionary(edges):\n",
    "    '''generate list of outputs dictionary to store 'mid' and 'in' neurons'''\n",
    "    brain = {}\n",
    "    for i in edges:\n",
    "        if 'out' in edges[i][1]:\n",
    "            brain.update({edges[i][1]:{}})"
   ]
  },
  {
   "cell_type": "code",
   "execution_count": 5,
   "id": "acfc2e31",
   "metadata": {},
   "outputs": [
    {
     "data": {
      "text/plain": [
       "{'0out': {'2in': {'w': -3.2361361208606745},\n",
       "  '1mid': {'w': -0.9595605066381809,\n",
       "   '0mid': {'w': -0.26174271326110177, '0in': {'w': -3.582725469250725}},\n",
       "   '1mid': {'w': -0.072272241721349},\n",
       "   '1in': {'w': -1.6096444376621395}}},\n",
       " '1out': {'0in': {'w': 1.107034945826339}},\n",
       " '2out': {'1mid': {'w': 1.738806653441172,\n",
       "   '0mid': {'w': -0.26174271326110177, '0in': {'w': -3.582725469250725}},\n",
       "   '1mid': {'w': -0.072272241721349},\n",
       "   '1in': {'w': -1.6096444376621395}},\n",
       "  '0mid': {'w': -0.7606897604150771, '0in': {'w': -3.582725469250725}}}}"
      ]
     },
     "execution_count": 5,
     "metadata": {},
     "output_type": "execute_result"
    }
   ],
   "source": [
    "mid_neuron(brain, edges)\n",
    "print(brain)\n",
    "\n",
    "analyze_brain(brain)"
   ]
  },
  {
   "cell_type": "code",
   "execution_count": 6,
   "id": "2c3e5a25",
   "metadata": {
    "scrolled": true
   },
   "outputs": [
    {
     "name": "stdout",
     "output_type": "stream",
     "text": [
      "if 0out {'2in': {'w': -3.2361361208606745}, '1mid': {'w': -0.9595605066381809, '0mid': {'w': -0.26174271326110177, '0in': {'w': -3.582725469250725}}, '1mid': {'w': -0.072272241721349}, '1in': {'w': -1.6096444376621395}}}\n",
      "else 1out {'0in': {'w': 1.107034945826339}}\n",
      "if 2out {'1mid': {'w': 1.738806653441172, '0mid': {'w': -0.26174271326110177, '0in': {'w': -3.582725469250725}}, '1mid': {'w': -0.072272241721349}, '1in': {'w': -1.6096444376621395}}, '0mid': {'w': -0.7606897604150771, '0in': {'w': -3.582725469250725}}}\n"
     ]
    }
   ],
   "source": [
    "\n",
    "            \n",
    "analyze_brain(brain)"
   ]
  },
  {
   "cell_type": "markdown",
   "id": "c0bf6b4b",
   "metadata": {},
   "source": [
    "get dictionary depth  \n",
    "https://stackoverflow.com/questions/23499017/know-the-depth-of-a-dictionary\n",
    "https://www.tutorialspoint.com/find-depth-of-a-dictionary-in-python"
   ]
  },
  {
   "cell_type": "markdown",
   "id": "ec147961",
   "metadata": {},
   "source": [
    "https://stackoverflow.com/questions/47265412/custom-connections-between-layers-keras"
   ]
  }
 ],
 "metadata": {
  "kernelspec": {
   "display_name": "Python 3 (ipykernel)",
   "language": "python",
   "name": "python3"
  },
  "language_info": {
   "codemirror_mode": {
    "name": "ipython",
    "version": 3
   },
   "file_extension": ".py",
   "mimetype": "text/x-python",
   "name": "python",
   "nbconvert_exporter": "python",
   "pygments_lexer": "ipython3",
   "version": "3.9.12"
  }
 },
 "nbformat": 4,
 "nbformat_minor": 5
}
