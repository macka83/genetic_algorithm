{
 "cells": [
  {
   "cell_type": "code",
   "execution_count": 1,
   "id": "64e1e30b",
   "metadata": {
    "ExecuteTime": {
     "end_time": "2022-05-25T20:18:00.250387Z",
     "start_time": "2022-05-25T20:17:59.464584Z"
    }
   },
   "outputs": [],
   "source": [
    "from genetic_algorithm import *\n",
    "import re\n",
    "import json\n",
    "import numpy as np\n",
    "from collections import Counter\n",
    "import copy"
   ]
  },
  {
   "cell_type": "markdown",
   "id": "a4aa7361",
   "metadata": {},
   "source": [
    "## hexadecimal generator"
   ]
  },
  {
   "cell_type": "code",
   "execution_count": 2,
   "id": "e85a93ac",
   "metadata": {
    "ExecuteTime": {
     "end_time": "2022-05-25T20:18:00.266385Z",
     "start_time": "2022-05-25T20:18:00.252349Z"
    }
   },
   "outputs": [],
   "source": [
    "nr_of_input = 3\n",
    "nr_of_actions = 3\n",
    "nr_of_inner = 2\n",
    "nr_of_genes = 16\n",
    "nr_individuals = 20\n",
    "\n",
    "individuals = generate_initial_genomes_for_population(nr_individuals, nr_of_genes, nr_of_input, nr_of_actions, nr_of_inner)"
   ]
  },
  {
   "cell_type": "code",
   "execution_count": 12,
   "id": "2aff38fc",
   "metadata": {
    "ExecuteTime": {
     "end_time": "2022-05-25T20:18:00.314295Z",
     "start_time": "2022-05-25T20:18:00.267926Z"
    },
    "scrolled": true
   },
   "outputs": [
    {
     "name": "stdout",
     "output_type": "stream",
     "text": [
      "{\n",
      "    \"out0\": -0.9884078125303537,\n",
      "    \"out1\": -0.024533525331122213,\n",
      "    \"out2\": 0.9999958776168677\n",
      "}\n",
      "\n",
      "{\n",
      "    \"out0\": 0.990212978082521,\n",
      "    \"out1\": 0.18688186258306475,\n",
      "    \"out2\": -0.7154683334692711\n",
      "}\n",
      "\n",
      "{\n",
      "    \"out0\": 0.9707445912193801,\n",
      "    \"out1\": -0.9062512248140372,\n",
      "    \"out2\": 0.9999465053683078\n",
      "}\n",
      "\n",
      "{\n",
      "    \"out0\": -0.9995595383453032,\n",
      "    \"out1\": -0.7256442035892058,\n",
      "    \"out2\": -0.9991728549445408\n",
      "}\n",
      "\n",
      "{\n",
      "    \"out0\": -0.7166295074933271,\n",
      "    \"out1\": 0.9922863514483884,\n",
      "    \"out2\": 0.9911279204224654\n",
      "}\n",
      "\n",
      "{\n",
      "    \"out1\": -0.7060798213246395,\n",
      "    \"out2\": 0.9976642696956707\n",
      "}\n",
      "\n",
      "{\n",
      "    \"out0\": -0.9985415944465937,\n",
      "    \"out1\": 0.9974827632002929,\n",
      "    \"out2\": -0.37388850638715293\n",
      "}\n",
      "\n",
      "{\n",
      "    \"out0\": -0.9732186436726274,\n",
      "    \"out1\": 0.99998466736118,\n",
      "    \"out2\": -0.9997679230866032\n",
      "}\n",
      "\n",
      "{\n",
      "    \"out0\": -0.994024807806663,\n",
      "    \"out1\": 0.9793372597238998,\n",
      "    \"out2\": -0.9999839494749168\n",
      "}\n",
      "\n",
      "{\n",
      "    \"out0\": -0.7814352787011383,\n",
      "    \"out2\": -0.9999480668342098\n",
      "}\n",
      "\n",
      "{\n",
      "    \"out0\": 0.9954545371171831,\n",
      "    \"out1\": -0.9609759136121143\n",
      "}\n",
      "\n",
      "{\n",
      "    \"out0\": 0.9380511396490635,\n",
      "    \"out1\": -0.9999420021146238,\n",
      "    \"out2\": -0.9414215460151049\n",
      "}\n",
      "\n",
      "{\n",
      "    \"out0\": -0.8252101185091307,\n",
      "    \"out1\": -0.9610562703268689,\n",
      "    \"out2\": -0.6111712413788489\n",
      "}\n",
      "\n",
      "{\n",
      "    \"out0\": 0.9803516018114022,\n",
      "    \"out1\": 0.8173621846266598\n",
      "}\n",
      "\n",
      "{\n",
      "    \"out0\": 0.9806052617390352,\n",
      "    \"out1\": -0.9784207496108782\n",
      "}\n",
      "\n",
      "{\n",
      "    \"out1\": -0.6817533838206209,\n",
      "    \"out2\": 0.9695675412542732\n",
      "}\n",
      "\n",
      "{\n",
      "    \"out0\": 0.9965410449365603,\n",
      "    \"out1\": 0.995694853148519,\n",
      "    \"out2\": -0.996120846389062\n",
      "}\n",
      "\n",
      "{\n",
      "    \"out0\": -0.982196663767931,\n",
      "    \"out1\": 0.9998703119589748\n",
      "}\n",
      "\n",
      "{\n",
      "    \"out0\": 0.9992754161315802,\n",
      "    \"out1\": -0.8940314590127808\n",
      "}\n",
      "\n",
      "{\n",
      "    \"out0\": -0.9347228893666815,\n",
      "    \"out1\": -0.9950663538944671,\n",
      "    \"out2\": 0.15424296632259943\n",
      "}\n",
      "\n"
     ]
    }
   ],
   "source": [
    "## sum duplicates\n",
    "individuals_sum_dup = sum_duplicated_neurons(individuals)\n",
    "\n",
    "## remove self loops\n",
    "individuals_sum_dup_no_self_loop = remove_self_loop(individuals_sum_dup)\n",
    "\n",
    "## brain generator\n",
    "for individual in individuals_sum_dup_no_self_loop:\n",
    "#     try:\n",
    "    edges = individuals_sum_dup_no_self_loop[individual]\n",
    "    edges = [tuple(edges[i]) for i in edges]\n",
    "\n",
    "    ## preprocessing\n",
    "    remove_mid_with_no_predecessor(edges) \n",
    "    dic = weight_sum_preprocessing(edges)\n",
    "\n",
    "    ## calculate weight sum\n",
    "    mid_to_weight(dic)\n",
    "    out_to_weight(dic)\n",
    "       \n",
    "    dic = {k:v for k, v in dic.items() if 'out' in k}    \n",
    "    print(json.dumps(dic, indent=4, sort_keys=True))\n",
    "    print()"
   ]
  }
 ],
 "metadata": {
  "kernelspec": {
   "display_name": "Python 3 (ipykernel)",
   "language": "python",
   "name": "python3"
  },
  "language_info": {
   "codemirror_mode": {
    "name": "ipython",
    "version": 3
   },
   "file_extension": ".py",
   "mimetype": "text/x-python",
   "name": "python",
   "nbconvert_exporter": "python",
   "pygments_lexer": "ipython3",
   "version": "3.9.12"
  }
 },
 "nbformat": 4,
 "nbformat_minor": 5
}
