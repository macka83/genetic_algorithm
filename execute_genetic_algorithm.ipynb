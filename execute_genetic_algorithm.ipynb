{
 "cells": [
  {
   "cell_type": "code",
   "execution_count": null,
   "id": "07647a75",
   "metadata": {
    "ExecuteTime": {
     "end_time": "2022-07-26T07:42:23.515400Z",
     "start_time": "2022-07-26T07:42:23.487184Z"
    }
   },
   "outputs": [],
   "source": [
    "from genetic_algorithm import *\n",
    "from numpy.random import default_rng\n",
    "import pickle\n",
    "\n",
    "import binascii\n",
    "\n",
    "import matplotlib.pyplot as plt\n",
    "import math\n",
    "from matplotlib.animation import FuncAnimation\n",
    "%matplotlib notebook\n",
    "\n",
    "import copy\n",
    "from collections import Counter\n",
    "import pandas as pd"
   ]
  },
  {
   "cell_type": "code",
   "execution_count": null,
   "id": "89c5b605",
   "metadata": {
    "ExecuteTime": {
     "end_time": "2022-07-26T07:42:23.543051Z",
     "start_time": "2022-07-26T07:42:23.520412Z"
    }
   },
   "outputs": [],
   "source": [
    "## hexadecimal generator\n",
    "\n",
    "nr_of_input = 2\n",
    "nr_of_actions = 5\n",
    "nr_of_inner = 3\n",
    "nr_of_genes = 8\n",
    "nr_individuals = 10\n",
    "\n",
    "## world size\n",
    "world_size = 30\n",
    "world_size_x = world_size\n",
    "world_size_y = world_size"
   ]
  },
  {
   "cell_type": "markdown",
   "id": "531da81b",
   "metadata": {},
   "source": [
    "## generations"
   ]
  },
  {
   "cell_type": "code",
   "execution_count": null,
   "id": "33949ec2",
   "metadata": {
    "ExecuteTime": {
     "end_time": "2022-07-26T07:43:14.904750Z",
     "start_time": "2022-07-26T07:42:23.554707Z"
    },
    "scrolled": true
   },
   "outputs": [],
   "source": [
    "result = {}\n",
    "for gen_nr in range(10):\n",
    "    print(gen_nr)\n",
    "    if gen_nr == 0:\n",
    "        result = initial_population(nr_individuals:int, nr_of_genes:int, nr_of_input:int, nr_of_actions:int, nr_of_inner:int, world_size:int)\n",
    "        result = steps_in_generation(world_size*2, result, world_size_x, world_size_y)\n",
    "#         print(result[0])\n",
    "    else:\n",
    "        \n",
    "        result = asexual_reproduction_and_mutation(world_size, result, nr_individuals)\n",
    "        \n",
    "        result = next_generation(result,nr_of_input, nr_of_actions, nr_of_inner, world_size, nr_individuals)\n",
    "        result = steps_in_generation(world_size*2, result, world_size_x, world_size_y)\n",
    "\n",
    "    result.update(result)\n",
    "    \n",
    "    dic_color = {}\n",
    "    for indiv in result:\n",
    "        rgb_colors = list(map(hex_to_rgb, result[indiv]['genome']))\n",
    "        color = tuple(pd.DataFrame(rgb_colors).median()) \n",
    "        dic_color[indiv] = color\n",
    "        \n",
    "    coords = generate_dictionary_of_coords(result, world_size*2, dic_color)\n",
    "    \n",
    "    def update(i):\n",
    "        ax.clear()\n",
    "        ax.set_facecolor(plt.cm.Blues(.2))\n",
    "\n",
    "        ax.set_xlim([0,world_size_x])\n",
    "        ax.set_ylim([0,world_size_y])\n",
    "        ax.set_title('moving')\n",
    "        ax.scatter(x=coords[i]['x'],y=coords[i]['y'], c=coords[i]['color'], s=20, marker='o')\n",
    "        [spine.set_visible(False) for spine in ax.spines.values()]\n",
    "\n",
    "\n",
    "    fig, ax = plt.subplots(figsize=(6,6))\n",
    "    myAnimation = FuncAnimation(\n",
    "        fig = fig,\n",
    "        func = update,\n",
    "        frames = len(coords),\n",
    "        interval = 10, repeat=False\n",
    "    )\n",
    "    myAnimation.save(f'./output/generation-{gen_nr}.gif', writer='imagemagick' , fps=10)\n",
    "    # create a binary pickle file \n",
    "    f = open(f'./output/generation-{gen_nr}.pkl',\"wb\")\n",
    "    pickle.dump(dict,f)\n",
    "    f.close()"
   ]
  }
 ],
 "metadata": {
  "kernelspec": {
   "display_name": "Python 3 (ipykernel)",
   "language": "python",
   "name": "python3"
  },
  "language_info": {
   "codemirror_mode": {
    "name": "ipython",
    "version": 3
   },
   "file_extension": ".py",
   "mimetype": "text/x-python",
   "name": "python",
   "nbconvert_exporter": "python",
   "pygments_lexer": "ipython3",
   "version": "3.11.7"
  }
 },
 "nbformat": 4,
 "nbformat_minor": 5
}
