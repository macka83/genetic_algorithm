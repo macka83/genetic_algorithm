{
 "cells": [
  {
   "cell_type": "code",
   "execution_count": 1,
   "id": "07647a75",
   "metadata": {
    "ExecuteTime": {
     "end_time": "2022-06-12T18:33:20.452316Z",
     "start_time": "2022-06-12T18:33:20.157945Z"
    }
   },
   "outputs": [],
   "source": [
    "from genetic_algorithm import *\n",
    "from numpy.random import default_rng"
   ]
  },
  {
   "cell_type": "code",
   "execution_count": 2,
   "id": "89c5b605",
   "metadata": {
    "ExecuteTime": {
     "end_time": "2022-06-12T18:33:21.035584Z",
     "start_time": "2022-06-12T18:33:21.013405Z"
    }
   },
   "outputs": [
    {
     "name": "stdout",
     "output_type": "stream",
     "text": [
      "{0: {'out0': 0.027, 'out1': 0.133, 'out3': 0.897, 'out4': 0.001, 'out2': 0.042}, 1: {'out3': 0.0, 'out1': 0.932, 'out4': 0.001}, 2: {'out0': 0.966, 'out3': 0.859, 'out4': 0.0, 'out2': 0.804, 'out1': 0.881}, 3: {'out2': 0.993, 'out0': 0.0, 'out3': 0.779}}\n"
     ]
    }
   ],
   "source": [
    "\n",
    "# ## hexadecimal generator\n",
    "\n",
    "nr_of_input = 3\n",
    "nr_of_actions = 5\n",
    "nr_of_inner = 3\n",
    "nr_of_genes = 16\n",
    "nr_individuals = 4\n",
    "\n",
    "individuals = generate_initial_genomes_for_population(nr_individuals, nr_of_genes, nr_of_input, nr_of_actions, nr_of_inner)\n",
    "\n",
    "## world size\n",
    "world_size_x = 20\n",
    "world_size_y = 20\n",
    "\n",
    "rng = default_rng()\n",
    "x = rng.choice(world_size_x, size=nr_individuals, replace=False)\n",
    "y = rng.choice(world_size_y, size=nr_individuals, replace=False)\n",
    "\n",
    "# ## initial brain and position generator\n",
    "\n",
    "result = calculate_individual_output_weights(individuals)\n",
    "print(result)\n",
    "\n"
   ]
  },
  {
   "cell_type": "code",
   "execution_count": 3,
   "id": "34bfa09f",
   "metadata": {
    "ExecuteTime": {
     "end_time": "2022-06-12T18:33:21.798188Z",
     "start_time": "2022-06-12T18:33:21.780041Z"
    }
   },
   "outputs": [],
   "source": [
    "for indiv in result:\n",
    "    result[indiv]['position'] = [(x[indiv], y[indiv])]"
   ]
  },
  {
   "cell_type": "code",
   "execution_count": 4,
   "id": "ef6175cc",
   "metadata": {
    "ExecuteTime": {
     "end_time": "2022-06-12T18:33:22.706448Z",
     "start_time": "2022-06-12T18:33:22.679403Z"
    }
   },
   "outputs": [
    {
     "data": {
      "text/plain": [
       "{0: {'out0': 0.027,\n",
       "  'out1': 0.133,\n",
       "  'out3': 0.897,\n",
       "  'out4': 0.001,\n",
       "  'out2': 0.042,\n",
       "  'position': [(17, 18)]},\n",
       " 1: {'out3': 0.0, 'out1': 0.932, 'out4': 0.001, 'position': [(9, 0)]},\n",
       " 2: {'out0': 0.966,\n",
       "  'out3': 0.859,\n",
       "  'out4': 0.0,\n",
       "  'out2': 0.804,\n",
       "  'out1': 0.881,\n",
       "  'position': [(13, 14)]},\n",
       " 3: {'out2': 0.993, 'out0': 0.0, 'out3': 0.779, 'position': [(18, 17)]}}"
      ]
     },
     "execution_count": 4,
     "metadata": {},
     "output_type": "execute_result"
    }
   ],
   "source": [
    "result"
   ]
  },
  {
   "cell_type": "code",
   "execution_count": 9,
   "id": "40079ed6",
   "metadata": {
    "ExecuteTime": {
     "end_time": "2022-06-12T18:34:50.432881Z",
     "start_time": "2022-06-12T18:34:50.384168Z"
    },
    "scrolled": true
   },
   "outputs": [
    {
     "data": {
      "text/plain": [
       "{0: {'out0': 0.027,\n",
       "  'out1': 0.133,\n",
       "  'out3': 0.897,\n",
       "  'out4': 0.001,\n",
       "  'out2': 0.042,\n",
       "  'position': [(17, 18),\n",
       "   (16, 18),\n",
       "   (15, 17),\n",
       "   (15, 17),\n",
       "   (14, 17),\n",
       "   (13, 17),\n",
       "   (12, 17),\n",
       "   (11, 17),\n",
       "   (10, 17),\n",
       "   (9, 17),\n",
       "   (8, 17),\n",
       "   (7, 17),\n",
       "   (6, 16),\n",
       "   (5, 16),\n",
       "   (4, 16),\n",
       "   (3, 15)]},\n",
       " 1: {'out3': 0.0,\n",
       "  'out1': 0.932,\n",
       "  'out4': 0.001,\n",
       "  'position': [(9, 0),\n",
       "   (9, 0),\n",
       "   (9, -1),\n",
       "   (9, -1),\n",
       "   (9, -2),\n",
       "   (9, -3),\n",
       "   (9, -4),\n",
       "   (9, -5),\n",
       "   (9, -6),\n",
       "   (9, -7),\n",
       "   (9, -8),\n",
       "   (9, -9),\n",
       "   (9, -10),\n",
       "   (9, -11),\n",
       "   (9, -12),\n",
       "   (9, -13)]},\n",
       " 2: {'out0': 0.966,\n",
       "  'out3': 0.859,\n",
       "  'out4': 0.0,\n",
       "  'out2': 0.804,\n",
       "  'out1': 0.881,\n",
       "  'position': [(13, 14),\n",
       "   (13, 14),\n",
       "   (13, 14),\n",
       "   (13, 14),\n",
       "   (13, 14),\n",
       "   (13, 14),\n",
       "   (14, 14),\n",
       "   (15, 14),\n",
       "   (15, 15),\n",
       "   (15, 15),\n",
       "   (15, 15),\n",
       "   (15, 15),\n",
       "   (15, 15),\n",
       "   (15, 15),\n",
       "   (15, 15),\n",
       "   (15, 15)]},\n",
       " 3: {'out2': 0.993,\n",
       "  'out0': 0.0,\n",
       "  'out3': 0.779,\n",
       "  'position': [(18, 17),\n",
       "   (19, 17),\n",
       "   (19, 17),\n",
       "   (19, 17),\n",
       "   (19, 17),\n",
       "   (19, 17),\n",
       "   (19, 17),\n",
       "   (19, 17),\n",
       "   (19, 17),\n",
       "   (19, 17),\n",
       "   (20, 17),\n",
       "   (20, 17),\n",
       "   (20, 17),\n",
       "   (20, 17),\n",
       "   (21, 17),\n",
       "   (21, 17)]}}"
      ]
     },
     "execution_count": 9,
     "metadata": {},
     "output_type": "execute_result"
    }
   ],
   "source": [
    "k = 15\n",
    "n = 0\n",
    "while k>n:  \n",
    "    for indiv in result:\n",
    "        x = result[indiv]['position'][-1][0]\n",
    "        y = result[indiv]['position'][-1][1]\n",
    "        position_list = []\n",
    "        for out in result[indiv]:\n",
    "            if 'out' in out:\n",
    "                new_pos = move(x, y, out, result[indiv][out])\n",
    "                position_list.append(new_pos)\n",
    "        position_list = tuple(map(sum, zip(*[[x, y]] + position_list)))\n",
    "        result[indiv]['position'].append(position_list)\n",
    "    n += 1\n",
    "            \n",
    "result"
   ]
  },
  {
   "cell_type": "code",
   "execution_count": 8,
   "id": "0249f5d7",
   "metadata": {
    "ExecuteTime": {
     "end_time": "2022-06-12T12:49:09.855223Z",
     "start_time": "2022-06-12T12:49:09.303017Z"
    }
   },
   "outputs": [
    {
     "ename": "TypeError",
     "evalue": "unsupported operand type(s) for +: 'int' and 'tuple'",
     "output_type": "error",
     "traceback": [
      "\u001b[1;31m---------------------------------------------------------------------------\u001b[0m",
      "\u001b[1;31mTypeError\u001b[0m                                 Traceback (most recent call last)",
      "Input \u001b[1;32mIn [8]\u001b[0m, in \u001b[0;36m<cell line: 1>\u001b[1;34m()\u001b[0m\n\u001b[1;32m----> 1\u001b[0m \u001b[38;5;28;43msum\u001b[39;49m\u001b[43m(\u001b[49m\u001b[43m[\u001b[49m\u001b[43m(\u001b[49m\u001b[38;5;241;43m1\u001b[39;49m\u001b[43m,\u001b[49m\u001b[38;5;241;43m2\u001b[39;49m\u001b[43m)\u001b[49m\u001b[43m,\u001b[49m\u001b[43m(\u001b[49m\u001b[38;5;241;43m2\u001b[39;49m\u001b[43m,\u001b[49m\u001b[38;5;241;43m1\u001b[39;49m\u001b[43m)\u001b[49m\u001b[43m]\u001b[49m\u001b[43m)\u001b[49m\n",
      "\u001b[1;31mTypeError\u001b[0m: unsupported operand type(s) for +: 'int' and 'tuple'"
     ]
    }
   ],
   "source": [
    "sum([(1,2),(2,1)])"
   ]
  },
  {
   "cell_type": "code",
   "execution_count": 6,
   "id": "44a7d51e",
   "metadata": {
    "ExecuteTime": {
     "end_time": "2022-06-12T12:44:09.919634Z",
     "start_time": "2022-06-12T12:44:09.894163Z"
    }
   },
   "outputs": [
    {
     "data": {
      "text/plain": [
       "4"
      ]
     },
     "execution_count": 6,
     "metadata": {},
     "output_type": "execute_result"
    }
   ],
   "source": [
    "a = [(3, 0),(4,1),(5,2)]\n",
    "\n",
    "def slope_intercept(x1,y1,x2,y2):\n",
    "    a = (y2 - y1) / (x2 - x1)\n",
    "    b = y1 - a * x1     \n",
    "    return a,b\n",
    "\n",
    "# print(slope_intercept(3,0,2,1))\n",
    "\n",
    "if a[-2][0] == a[-1][0]:\n",
    "    x = a[-1][0]\n",
    "elif a[-2][0] > a[-1][0]:\n",
    "    x = a[-2][0] + 1\n",
    "elif a[-2][0] < a[-1][0]:\n",
    "    x = a[-2][0] - 1\n",
    "# print(x)\n",
    "\n",
    "a[-2][0]\n",
    "\n"
   ]
  }
 ],
 "metadata": {
  "kernelspec": {
   "display_name": "Python 3 (ipykernel)",
   "language": "python",
   "name": "python3"
  },
  "language_info": {
   "codemirror_mode": {
    "name": "ipython",
    "version": 3
   },
   "file_extension": ".py",
   "mimetype": "text/x-python",
   "name": "python",
   "nbconvert_exporter": "python",
   "pygments_lexer": "ipython3",
   "version": "3.9.12"
  }
 },
 "nbformat": 4,
 "nbformat_minor": 5
}
