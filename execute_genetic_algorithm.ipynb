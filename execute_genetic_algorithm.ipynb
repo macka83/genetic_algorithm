{
 "cells": [
  {
   "cell_type": "markdown",
   "id": "6499aef8",
   "metadata": {
    "ExecuteTime": {
     "end_time": "2022-06-28T19:40:02.442018Z",
     "start_time": "2022-06-28T19:40:00.122777Z"
    }
   },
   "source": [
    "!jt -t chesterish\n",
    "# !jt -r"
   ]
  },
  {
   "cell_type": "code",
   "execution_count": 21,
   "id": "07647a75",
   "metadata": {
    "ExecuteTime": {
     "end_time": "2022-07-01T19:40:31.240869Z",
     "start_time": "2022-07-01T19:40:31.224512Z"
    }
   },
   "outputs": [],
   "source": [
    "from genetic_algorithm import *\n",
    "from numpy.random import default_rng\n",
    "\n",
    "%matplotlib notebook\n",
    "\n",
    "import matplotlib.pyplot as plt\n",
    "import math\n",
    "from matplotlib.animation import FuncAnimation"
   ]
  },
  {
   "cell_type": "code",
   "execution_count": 22,
   "id": "89c5b605",
   "metadata": {
    "ExecuteTime": {
     "end_time": "2022-07-01T19:40:31.479709Z",
     "start_time": "2022-07-01T19:40:31.244914Z"
    }
   },
   "outputs": [],
   "source": [
    "\n",
    "# ## hexadecimal generator\n",
    "\n",
    "nr_of_input = 2\n",
    "nr_of_actions = 5\n",
    "nr_of_inner = 3\n",
    "nr_of_genes = 8\n",
    "nr_individuals = 500\n",
    "\n",
    "individuals = generate_initial_genomes_for_population(nr_individuals, nr_of_genes, nr_of_input, nr_of_actions, nr_of_inner)\n",
    "\n",
    "## world size\n",
    "world_size_x = 120\n",
    "world_size_y = 120\n",
    "\n",
    "rng = default_rng()\n",
    "x = rng.choice(world_size_x, size=nr_individuals, replace=True)\n",
    "y = rng.choice(world_size_y, size=nr_individuals, replace=True)\n",
    "\n",
    "# ## initial brain and position generator\n",
    "\n",
    "result = calculate_individual_output_weights(individuals)\n",
    "\n",
    "for indiv in result:\n",
    "    result[indiv]['position'] = [[x[indiv], y[indiv]]]"
   ]
  },
  {
   "cell_type": "code",
   "execution_count": null,
   "id": "b7942306",
   "metadata": {},
   "outputs": [],
   "source": []
  },
  {
   "cell_type": "code",
   "execution_count": 23,
   "id": "8e973d32",
   "metadata": {
    "ExecuteTime": {
     "end_time": "2022-07-01T19:40:31.511868Z",
     "start_time": "2022-07-01T19:40:31.483580Z"
    }
   },
   "outputs": [
    {
     "data": {
      "text/plain": [
       "'00110111001111001011000000010001'"
      ]
     },
     "execution_count": 23,
     "metadata": {},
     "output_type": "execute_result"
    }
   ],
   "source": [
    "binary = bin(int(individuals[0][0].hex_id, 16))[2:]\n",
    "if len(binary) < 32:\n",
    "    factor = 32 - len(binary)\n",
    "    binary = '0' * factor + binary\n",
    "binary"
   ]
  },
  {
   "cell_type": "code",
   "execution_count": 24,
   "id": "40079ed6",
   "metadata": {
    "ExecuteTime": {
     "end_time": "2022-07-01T19:41:07.110319Z",
     "start_time": "2022-07-01T19:40:31.519085Z"
    },
    "scrolled": true
   },
   "outputs": [
    {
     "ename": "IndexError",
     "evalue": "list index out of range",
     "output_type": "error",
     "traceback": [
      "\u001b[1;31m---------------------------------------------------------------------------\u001b[0m",
      "\u001b[1;31mIndexError\u001b[0m                                Traceback (most recent call last)",
      "Input \u001b[1;32mIn [24]\u001b[0m, in \u001b[0;36m<cell line: 3>\u001b[1;34m()\u001b[0m\n\u001b[0;32m     31\u001b[0m     \u001b[38;5;28;01mfor\u001b[39;00m i_nr, i \u001b[38;5;129;01min\u001b[39;00m \u001b[38;5;28menumerate\u001b[39m(last_pos_list[obj\u001b[38;5;241m+\u001b[39m\u001b[38;5;241m1\u001b[39m:], start\u001b[38;5;241m=\u001b[39mobj\u001b[38;5;241m+\u001b[39m\u001b[38;5;241m1\u001b[39m):\n\u001b[0;32m     32\u001b[0m         \u001b[38;5;28;01mif\u001b[39;00m last_pos_list[obj] \u001b[38;5;241m==\u001b[39m i:\n\u001b[1;32m---> 33\u001b[0m             result[i_nr][\u001b[38;5;124m'\u001b[39m\u001b[38;5;124mposition\u001b[39m\u001b[38;5;124m'\u001b[39m][\u001b[38;5;241m-\u001b[39m\u001b[38;5;241m1\u001b[39m] \u001b[38;5;241m=\u001b[39m \u001b[43mresult\u001b[49m\u001b[43m[\u001b[49m\u001b[43mi_nr\u001b[49m\u001b[43m]\u001b[49m\u001b[43m[\u001b[49m\u001b[38;5;124;43m'\u001b[39;49m\u001b[38;5;124;43mposition\u001b[39;49m\u001b[38;5;124;43m'\u001b[39;49m\u001b[43m]\u001b[49m\u001b[43m[\u001b[49m\u001b[38;5;241;43m-\u001b[39;49m\u001b[38;5;241;43m2\u001b[39;49m\u001b[43m]\u001b[49m     \n\u001b[0;32m     34\u001b[0m n \u001b[38;5;241m+\u001b[39m\u001b[38;5;241m=\u001b[39m \u001b[38;5;241m1\u001b[39m\n",
      "\u001b[1;31mIndexError\u001b[0m: list index out of range"
     ]
    }
   ],
   "source": [
    "k = 120\n",
    "n = 0\n",
    "while k>n: \n",
    "#     print('n',n)\n",
    "    for indiv in result:\n",
    "#         print('indiv', indiv)\n",
    "        x, y = result[indiv]['position'][-1][0], result[indiv]['position'][-1][1]\n",
    "        position_list = []\n",
    "        for out in result[indiv]['out']:\n",
    "#             if 'out' in out:\n",
    "            new_pos = move(out, result[indiv]['out'][out])\n",
    "            position_list.append(new_pos)\n",
    "        if position_list:\n",
    "            position_list = list(map(sum, zip(*position_list)))\n",
    "            position_list = make_smaller_(position_list)\n",
    "            position_list = list(map(sum, zip(*[[x, y]] + [position_list])))\n",
    "\n",
    "            position_list[0] = normalize_position_if_outside_world(position_list[0], world_size_x)\n",
    "            position_list[1] = normalize_position_if_outside_world(position_list[1], world_size_y)\n",
    "    #         print('norm', position_list)\n",
    "            result[indiv]['position'].append(position_list)\n",
    "    ######### if n>=1 proceed with neurons #######        \n",
    "            if n >= 1:\n",
    "                apply_input(result, indiv)\n",
    "            else:\n",
    "                pass\n",
    "        \n",
    "    last_pos_list = [result[obj]['position'][-1] for obj in result]\n",
    "    \n",
    "    for obj in range(len(last_pos_list)):\n",
    "        for i_nr, i in enumerate(last_pos_list[obj+1:], start=obj+1):\n",
    "            if last_pos_list[obj] == i:\n",
    "                result[i_nr]['position'][-1] = result[i_nr]['position'][-2]     \n",
    "    n += 1\n",
    "#     print()        \n",
    "# result"
   ]
  },
  {
   "cell_type": "code",
   "execution_count": null,
   "id": "6cb0faf0",
   "metadata": {
    "ExecuteTime": {
     "end_time": "2022-07-01T19:41:07.114916Z",
     "start_time": "2022-07-01T19:41:07.114916Z"
    }
   },
   "outputs": [],
   "source": [
    "last_pos_list"
   ]
  },
  {
   "cell_type": "code",
   "execution_count": null,
   "id": "ecb9c93d",
   "metadata": {
    "ExecuteTime": {
     "end_time": "2022-07-01T19:41:07.118321Z",
     "start_time": "2022-07-01T19:41:07.118321Z"
    }
   },
   "outputs": [],
   "source": [
    "coords = [{'x':[], 'y':[]} for key in range(len(result[indiv]['position']))]\n",
    "for indiv in result:\n",
    "    for pos_nr, pos in enumerate(result[indiv]['position']):\n",
    "        coords[pos_nr]['x'].append(pos[0])\n",
    "        coords[pos_nr]['y'].append(pos[1])"
   ]
  },
  {
   "cell_type": "code",
   "execution_count": null,
   "id": "2654710a",
   "metadata": {
    "ExecuteTime": {
     "end_time": "2022-07-01T19:41:07.128420Z",
     "start_time": "2022-07-01T19:41:07.128420Z"
    },
    "scrolled": true
   },
   "outputs": [],
   "source": [
    "def update(i):\n",
    "    ax.clear()\n",
    "    ax.set_facecolor(plt.cm.Blues(.2))\n",
    "\n",
    "    ax.set_xlim([0,120])\n",
    "    ax.set_ylim([0,120])\n",
    "    ax.set_title('moving')\n",
    "    ax.scatter(x=coords[i]['x'],y=coords[i]['y'], c='red', s=2, marker='o')\n",
    "    [spine.set_visible(False) for spine in ax.spines.values()] #remove chart \n",
    "    \n",
    "fig, ax = plt.subplots(figsize=(6,6))\n",
    "anime = FuncAnimation(\n",
    "    fig = fig,\n",
    "    func = update,\n",
    "    frames = len(coords),\n",
    "    interval = 10, repeat=False\n",
    ")\n"
   ]
  },
  {
   "cell_type": "code",
   "execution_count": null,
   "id": "276f99e7",
   "metadata": {},
   "outputs": [],
   "source": []
  },
  {
   "cell_type": "code",
   "execution_count": null,
   "id": "878906b5",
   "metadata": {},
   "outputs": [],
   "source": []
  }
 ],
 "metadata": {
  "kernelspec": {
   "display_name": "Python 3 (ipykernel)",
   "language": "python",
   "name": "python3"
  },
  "language_info": {
   "codemirror_mode": {
    "name": "ipython",
    "version": 3
   },
   "file_extension": ".py",
   "mimetype": "text/x-python",
   "name": "python",
   "nbconvert_exporter": "python",
   "pygments_lexer": "ipython3",
   "version": "3.9.12"
  }
 },
 "nbformat": 4,
 "nbformat_minor": 5
}
