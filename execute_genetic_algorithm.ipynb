{
 "cells": [
  {
   "cell_type": "code",
   "execution_count": 1,
   "id": "64e1e30b",
   "metadata": {
    "ExecuteTime": {
     "end_time": "2022-05-25T20:18:00.250387Z",
     "start_time": "2022-05-25T20:17:59.464584Z"
    }
   },
   "outputs": [],
   "source": [
    "from genetic_algorithm import *\n",
    "import re\n",
    "import json\n",
    "import numpy as np\n",
    "from collections import Counter\n",
    "import copy"
   ]
  },
  {
   "cell_type": "markdown",
   "id": "a4aa7361",
   "metadata": {},
   "source": [
    "## hexadecimal generator"
   ]
  },
  {
   "cell_type": "code",
   "execution_count": 5,
   "id": "e85a93ac",
   "metadata": {
    "ExecuteTime": {
     "end_time": "2022-05-25T20:18:00.266385Z",
     "start_time": "2022-05-25T20:18:00.252349Z"
    }
   },
   "outputs": [],
   "source": [
    "nr_of_input = 3\n",
    "nr_of_actions = 3\n",
    "nr_of_inner = 2\n",
    "nr_of_genes = 16\n",
    "nr_individuals = 4\n",
    "\n",
    "individuals = generate_initial_genomes_for_population(nr_individuals, nr_of_genes, nr_of_input, nr_of_actions, nr_of_inner)"
   ]
  },
  {
   "cell_type": "code",
   "execution_count": 6,
   "id": "2aff38fc",
   "metadata": {
    "ExecuteTime": {
     "end_time": "2022-05-25T20:18:00.314295Z",
     "start_time": "2022-05-25T20:18:00.267926Z"
    },
    "scrolled": true
   },
   "outputs": [
    {
     "name": "stdout",
     "output_type": "stream",
     "text": [
      "out_to_weight 3\n",
      "[('mid0', 'out2', 3.2788646421486343), ('in0', 'mid1', -0.9787273004730658), ('in2', 'out1', 0.939539142377537), ('mid1', 'mid1', -2.1861132305814133), ('in2', 'mid1', 1.0906760262475201), ('in1', 'mid1', 0.23232107431710666), ('in1', 'out0', -0.38052800244162976), ('mid0', 'out1', -1.9724706241416146)]\n",
      "\n"
     ]
    }
   ],
   "source": [
    "## sum duplicates\n",
    "individuals_sum_dup = sum_duplicated_neurons(individuals)\n",
    "\n",
    "## remove self loops\n",
    "individuals_sum_dup_no_self_loop = remove_self_loop(individuals_sum_dup)\n",
    "\n",
    "## brain generator\n",
    "# one individual to change to multiple\n",
    "for individual in individuals_sum_dup_no_self_loop:\n",
    "#     try:\n",
    "    edges = individuals_sum_dup_no_self_loop[individual]\n",
    "    edges = [tuple(edges[i]) for i in edges]\n",
    "\n",
    "    ## preprocessing\n",
    "    dic = weight_sum_preprocessing(edges)\n",
    "\n",
    "    ## calculate weight sum\n",
    "#     except:\n",
    "#         print(individual)\n",
    "#         print(edges)\n",
    "        \n",
    "#         continue\n",
    "    try:\n",
    "        mid_to_weight(dic)\n",
    "    except:\n",
    "        print('mid_to_weight', individual)\n",
    "        print(edges)\n",
    "        print()\n",
    "        continue   \n",
    "    try:    \n",
    "        out_to_weight(dic)\n",
    "    except:\n",
    "        print('out_to_weight', individual)\n",
    "        print(edges)\n",
    "        print()    "
   ]
  },
  {
   "cell_type": "code",
   "execution_count": 7,
   "id": "cf323226",
   "metadata": {
    "ExecuteTime": {
     "end_time": "2022-05-25T20:19:19.818810Z",
     "start_time": "2022-05-25T20:19:19.801269Z"
    }
   },
   "outputs": [
    {
     "data": {
      "text/plain": [
       "{'0mid2out': ['mid0', 'out2', 3.2788646421486343],\n",
       " '0in1mid': ['in0', 'mid1', -0.9787273004730658],\n",
       " '2in1out': ['in2', 'out1', 0.939539142377537],\n",
       " '1mid1mid': ['mid1', 'mid1', -2.1861132305814133],\n",
       " '2in1mid': ['in2', 'mid1', 1.0906760262475201],\n",
       " '1in1mid': ['in1', 'mid1', 0.23232107431710666],\n",
       " '1in0out': ['in1', 'out0', -0.38052800244162976],\n",
       " '0mid1out': ['mid0', 'out1', -1.9724706241416146]}"
      ]
     },
     "execution_count": 7,
     "metadata": {},
     "output_type": "execute_result"
    }
   ],
   "source": [
    "individuals_sum_dup_no_self_loop[3]"
   ]
  },
  {
   "cell_type": "code",
   "execution_count": 8,
   "id": "bcf5fcb1",
   "metadata": {},
   "outputs": [
    {
     "data": {
      "text/plain": [
       "[('mid0', 'out2', 3.2788646421486343),\n",
       " ('in0', 'mid1', -0.9787273004730658),\n",
       " ('in2', 'out1', 0.939539142377537),\n",
       " ('mid1', 'mid1', -2.1861132305814133),\n",
       " ('in2', 'mid1', 1.0906760262475201),\n",
       " ('in1', 'mid1', 0.23232107431710666),\n",
       " ('in1', 'out0', -0.38052800244162976),\n",
       " ('mid0', 'out1', -1.9724706241416146)]"
      ]
     },
     "execution_count": 8,
     "metadata": {},
     "output_type": "execute_result"
    }
   ],
   "source": [
    "edges = individuals_sum_dup_no_self_loop[3]\n",
    "edges = [tuple(edges[i]) for i in edges]\n",
    "edges"
   ]
  },
  {
   "cell_type": "code",
   "execution_count": null,
   "id": "d2b0f5d1",
   "metadata": {},
   "outputs": [],
   "source": []
  },
  {
   "cell_type": "code",
   "execution_count": 9,
   "id": "44de995f",
   "metadata": {
    "ExecuteTime": {
     "end_time": "2022-05-25T20:18:46.569646Z",
     "start_time": "2022-05-25T20:18:46.551845Z"
    }
   },
   "outputs": [
    {
     "data": {
      "text/plain": [
       "{'mid1': {'in0': -0.9787273004730658,\n",
       "  'mid1': -2.1861132305814133,\n",
       "  'in2': 1.0906760262475201,\n",
       "  'in1': 0.23232107431710666},\n",
       " 'out0': {'in1': -0.38052800244162976},\n",
       " 'out1': {'in2': 0.939539142377537, 'mid0': -1.9724706241416146},\n",
       " 'out2': {'mid0': 3.2788646421486343}}"
      ]
     },
     "execution_count": 9,
     "metadata": {},
     "output_type": "execute_result"
    }
   ],
   "source": [
    "dic = weight_sum_preprocessing(edges)\n",
    "dic"
   ]
  },
  {
   "cell_type": "code",
   "execution_count": 12,
   "id": "0f470420",
   "metadata": {
    "ExecuteTime": {
     "end_time": "2022-05-25T20:23:34.656989Z",
     "start_time": "2022-05-25T20:23:34.640105Z"
    }
   },
   "outputs": [
    {
     "data": {
      "text/plain": [
       "{'mid1': -0.9509717816997041,\n",
       " 'out0': {'in1': -0.38052800244162976},\n",
       " 'out1': {'in2': 0.939539142377537, 'mid0': -1.9724706241416146},\n",
       " 'out2': {'mid0': 3.2788646421486343}}"
      ]
     },
     "execution_count": 12,
     "metadata": {},
     "output_type": "execute_result"
    }
   ],
   "source": [
    "def mid_to_weight(dic):\n",
    "    '''weight for clear input ie. no nested weights: 0mid:{0in, 1in} or 0mid:{0mid, 0in}'''\n",
    "    for key in dic:\n",
    "        \n",
    "        if 'mid' in key and isinstance(dic[key], dict):\n",
    "#             print(key)\n",
    "            if set(i[:2] for i in dic[key]) == set(['in']):\n",
    "                \n",
    "                dic[key] = np.tanh(sum(dic[key].values()))\n",
    "                mid_to_weight(dic)\n",
    "                \n",
    "            elif key in dic[key].keys() and Counter(i[:2] for i in dic[key])['mi'] == 1:\n",
    "                \n",
    "#                 print(dic[key])\n",
    "                dic[key] = np.tanh(sum(dic[key].values()))\n",
    "                mid_to_weight(dic)\n",
    "mid_to_weight(dic)\n",
    "dic"
   ]
  },
  {
   "cell_type": "code",
   "execution_count": 13,
   "id": "00930ed8",
   "metadata": {
    "ExecuteTime": {
     "end_time": "2022-05-25T20:18:00.771818Z",
     "start_time": "2022-05-25T20:18:00.364222Z"
    }
   },
   "outputs": [],
   "source": [
    "def out_to_weight(dic):\n",
    "    '''weight for nested input ie.  0mid:{1mid} or out:{0mid, 0in}\n",
    "    use 'mid' neuron only if feeded with 'in' neurons'''\n",
    "    for key in dic:\n",
    "        if 'mid' in key and isinstance(dic[key], dict):\n",
    "            for sub_key in dic[key]:\n",
    "                if 'mid' in sub_key and sub_key != key:\n",
    "                    dic[key][sub_key] += dic[sub_key]\n",
    "\n",
    "            dic[key] = np.tanh(sum(dic[key].values()))\n",
    "            out_to_weight(dic)\n",
    "                \n",
    "        elif 'out' in key and isinstance(dic[key], dict):\n",
    "            for sub_key in dic[key]:\n",
    "                if 'mid' in sub_key and sub_key in dic:\n",
    "                    dic[key][sub_key] += dic[sub_key]\n",
    "            dic[key] = np.tanh(sum(dic[key].values()))\n",
    "            out_to_weight(dic)\n",
    "            \n",
    "out_to_weight(dic)"
   ]
  },
  {
   "cell_type": "code",
   "execution_count": 14,
   "id": "6ddc8a5e",
   "metadata": {
    "ExecuteTime": {
     "end_time": "2022-05-25T20:18:00.773785Z",
     "start_time": "2022-05-25T20:18:00.773785Z"
    }
   },
   "outputs": [
    {
     "data": {
      "text/plain": [
       "{'mid1': -0.9509717816997041,\n",
       " 'out0': -0.36316591991614544,\n",
       " 'out1': -0.7750813925109867,\n",
       " 'out2': 0.9971658131325868}"
      ]
     },
     "execution_count": 14,
     "metadata": {},
     "output_type": "execute_result"
    }
   ],
   "source": [
    "mid_to_weight(dic)\n",
    "dic"
   ]
  },
  {
   "cell_type": "code",
   "execution_count": null,
   "id": "a0d7d912",
   "metadata": {
    "ExecuteTime": {
     "end_time": "2022-05-25T20:18:00.775786Z",
     "start_time": "2022-05-25T20:18:00.775786Z"
    }
   },
   "outputs": [],
   "source": [
    "dic"
   ]
  },
  {
   "cell_type": "code",
   "execution_count": null,
   "id": "a21f5a28",
   "metadata": {},
   "outputs": [],
   "source": []
  }
 ],
 "metadata": {
  "kernelspec": {
   "display_name": "Python 3 (ipykernel)",
   "language": "python",
   "name": "python3"
  },
  "language_info": {
   "codemirror_mode": {
    "name": "ipython",
    "version": 3
   },
   "file_extension": ".py",
   "mimetype": "text/x-python",
   "name": "python",
   "nbconvert_exporter": "python",
   "pygments_lexer": "ipython3",
   "version": "3.9.12"
  }
 },
 "nbformat": 4,
 "nbformat_minor": 5
}
