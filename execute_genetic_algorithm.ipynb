{
 "cells": [
  {
   "cell_type": "code",
   "execution_count": 11,
   "id": "07647a75",
   "metadata": {
    "ExecuteTime": {
     "end_time": "2022-06-13T20:52:59.991098Z",
     "start_time": "2022-06-13T20:52:59.675983Z"
    }
   },
   "outputs": [],
   "source": [
    "from genetic_algorithm import *\n",
    "from numpy.random import default_rng\n",
    "import matplotlib.pyplot as plt\n"
   ]
  },
  {
   "cell_type": "code",
   "execution_count": 2,
   "id": "89c5b605",
   "metadata": {
    "ExecuteTime": {
     "end_time": "2022-06-13T20:53:00.036101Z",
     "start_time": "2022-06-13T20:52:59.996887Z"
    }
   },
   "outputs": [
    {
     "name": "stdout",
     "output_type": "stream",
     "text": [
      "{0: {'out0': 0.983, 'out3': 0.003, 'out4': 0.003, 'out2': 0.881, 'out1': 0.004}, 1: {'out1': 0.999, 'out0': 0.006}, 2: {'out1': 1.0, 'out2': 0.5, 'out0': 0.02, 'out4': 0.5}, 3: {'out2': 0.551, 'out3': 0.009, 'out1': 0.087}}\n"
     ]
    }
   ],
   "source": [
    "\n",
    "# ## hexadecimal generator\n",
    "\n",
    "nr_of_input = 3\n",
    "nr_of_actions = 5\n",
    "nr_of_inner = 3\n",
    "nr_of_genes = 16\n",
    "nr_individuals = 4\n",
    "\n",
    "individuals = generate_initial_genomes_for_population(nr_individuals, nr_of_genes, nr_of_input, nr_of_actions, nr_of_inner)\n",
    "\n",
    "## world size\n",
    "world_size_x = 20\n",
    "world_size_y = 20\n",
    "\n",
    "rng = default_rng()\n",
    "x = rng.choice(world_size_x, size=nr_individuals, replace=False)\n",
    "y = rng.choice(world_size_y, size=nr_individuals, replace=False)\n",
    "\n",
    "# ## initial brain and position generator\n",
    "\n",
    "result = calculate_individual_output_weights(individuals)\n",
    "print(result)\n",
    "\n"
   ]
  },
  {
   "cell_type": "code",
   "execution_count": 3,
   "id": "34bfa09f",
   "metadata": {
    "ExecuteTime": {
     "end_time": "2022-06-13T20:53:00.055359Z",
     "start_time": "2022-06-13T20:53:00.047001Z"
    }
   },
   "outputs": [],
   "source": [
    "for indiv in result:\n",
    "    result[indiv]['position'] = [(x[indiv], y[indiv])]"
   ]
  },
  {
   "cell_type": "code",
   "execution_count": 4,
   "id": "ef6175cc",
   "metadata": {
    "ExecuteTime": {
     "end_time": "2022-06-13T20:53:00.091011Z",
     "start_time": "2022-06-13T20:53:00.059483Z"
    }
   },
   "outputs": [
    {
     "data": {
      "text/plain": [
       "{0: {'out0': 0.983,\n",
       "  'out3': 0.003,\n",
       "  'out4': 0.003,\n",
       "  'out2': 0.881,\n",
       "  'out1': 0.004,\n",
       "  'position': [(1, 3)]},\n",
       " 1: {'out1': 0.999, 'out0': 0.006, 'position': [(6, 12)]},\n",
       " 2: {'out1': 1.0,\n",
       "  'out2': 0.5,\n",
       "  'out0': 0.02,\n",
       "  'out4': 0.5,\n",
       "  'position': [(18, 19)]},\n",
       " 3: {'out2': 0.551, 'out3': 0.009, 'out1': 0.087, 'position': [(9, 8)]}}"
      ]
     },
     "execution_count": 4,
     "metadata": {},
     "output_type": "execute_result"
    }
   ],
   "source": [
    "result"
   ]
  },
  {
   "cell_type": "code",
   "execution_count": 5,
   "id": "40079ed6",
   "metadata": {
    "ExecuteTime": {
     "end_time": "2022-06-13T20:53:00.189793Z",
     "start_time": "2022-06-13T20:53:00.096139Z"
    },
    "scrolled": true
   },
   "outputs": [
    {
     "data": {
      "text/plain": [
       "{0: {'out0': 0.983,\n",
       "  'out3': 0.003,\n",
       "  'out4': 0.003,\n",
       "  'out2': 0.881,\n",
       "  'out1': 0.004,\n",
       "  'position': [(1, 3),\n",
       "   [2, 4],\n",
       "   [3, 5],\n",
       "   [4, 6],\n",
       "   [5, 7],\n",
       "   [5, 8],\n",
       "   [6, 9],\n",
       "   [7, 10],\n",
       "   [8, 11],\n",
       "   [9, 12],\n",
       "   [10, 13],\n",
       "   [11, 14],\n",
       "   [12, 15],\n",
       "   [12, 16],\n",
       "   [13, 17],\n",
       "   [14, 18]]},\n",
       " 1: {'out1': 0.999,\n",
       "  'out0': 0.006,\n",
       "  'position': [(6, 12),\n",
       "   [6, 11],\n",
       "   [6, 10],\n",
       "   [6, 9],\n",
       "   [6, 8],\n",
       "   [6, 7],\n",
       "   [6, 6],\n",
       "   [6, 5],\n",
       "   [6, 4],\n",
       "   [6, 3],\n",
       "   [6, 2],\n",
       "   [6, 1],\n",
       "   [6, 0],\n",
       "   [6, 0],\n",
       "   [6, 0],\n",
       "   [6, 0]]},\n",
       " 2: {'out1': 1.0,\n",
       "  'out2': 0.5,\n",
       "  'out0': 0.02,\n",
       "  'out4': 0.5,\n",
       "  'position': [(18, 19),\n",
       "   [18, 18],\n",
       "   [19, 17],\n",
       "   [18, 16],\n",
       "   [18, 15],\n",
       "   [17, 14],\n",
       "   [17, 13],\n",
       "   [17, 12],\n",
       "   [17, 11],\n",
       "   [17, 10],\n",
       "   [17, 9],\n",
       "   [16, 8],\n",
       "   [16, 7],\n",
       "   [16, 6],\n",
       "   [17, 5],\n",
       "   [17, 4]]},\n",
       " 3: {'out2': 0.551,\n",
       "  'out3': 0.009,\n",
       "  'out1': 0.087,\n",
       "  'position': [(9, 8),\n",
       "   [9, 8],\n",
       "   [9, 8],\n",
       "   [9, 8],\n",
       "   [10, 8],\n",
       "   [11, 8],\n",
       "   [12, 8],\n",
       "   [13, 8],\n",
       "   [14, 8],\n",
       "   [15, 8],\n",
       "   [16, 8],\n",
       "   [17, 8],\n",
       "   [18, 8],\n",
       "   [19, 7],\n",
       "   [19, 7],\n",
       "   [19, 7]]}}"
      ]
     },
     "execution_count": 5,
     "metadata": {},
     "output_type": "execute_result"
    }
   ],
   "source": [
    "k = 15\n",
    "n = 0\n",
    "while k>n:  \n",
    "    for indiv in result:\n",
    "        x = result[indiv]['position'][-1][0]\n",
    "        y = result[indiv]['position'][-1][1]\n",
    "        position_list = []\n",
    "        for out in result[indiv]:\n",
    "            if 'out' in out:\n",
    "                new_pos = move(x, y, out, result[indiv][out])\n",
    "                position_list.append(new_pos)\n",
    "        \n",
    "        position_list = list(map(sum, zip(*position_list)))\n",
    "#         print(position_list)\n",
    "        position_list = make_smaller_(position_list)\n",
    "#         print(position_list)\n",
    "        position_list = list(map(sum, zip(*[[x, y]] + [position_list])))\n",
    "\n",
    "        position_list[0] = normalize_position_if_outside_world(position_list[0], world_size_x)\n",
    "        position_list[1] = normalize_position_if_outside_world(position_list[1], world_size_y)\n",
    "        \n",
    "        \n",
    "        result[indiv]['position'].append(position_list)\n",
    "    n += 1\n",
    "            \n",
    "result"
   ]
  },
  {
   "cell_type": "code",
   "execution_count": 22,
   "id": "b2c4fc5c",
   "metadata": {},
   "outputs": [
    {
     "data": {
      "text/plain": [
       "True"
      ]
     },
     "execution_count": 22,
     "metadata": {},
     "output_type": "execute_result"
    }
   ],
   "source": [
    "[9, 8]==[9, 8]"
   ]
  },
  {
   "cell_type": "code",
   "execution_count": 20,
   "id": "31118f68",
   "metadata": {},
   "outputs": [
    {
     "ename": "ZeroDivisionError",
     "evalue": "division by zero",
     "output_type": "error",
     "traceback": [
      "\u001b[1;31m---------------------------------------------------------------------------\u001b[0m",
      "\u001b[1;31mZeroDivisionError\u001b[0m                         Traceback (most recent call last)",
      "Input \u001b[1;32mIn [20]\u001b[0m, in \u001b[0;36m<cell line: 1>\u001b[1;34m()\u001b[0m\n\u001b[1;32m----> 1\u001b[0m \u001b[43mslope_intercept\u001b[49m\u001b[43m(\u001b[49m\u001b[38;5;241;43m9\u001b[39;49m\u001b[43m,\u001b[49m\u001b[43m \u001b[49m\u001b[38;5;241;43m8\u001b[39;49m\u001b[43m,\u001b[49m\u001b[43m \u001b[49m\u001b[38;5;241;43m9\u001b[39;49m\u001b[43m,\u001b[49m\u001b[43m \u001b[49m\u001b[38;5;241;43m8\u001b[39;49m\u001b[43m)\u001b[49m\n",
      "Input \u001b[1;32mIn [7]\u001b[0m, in \u001b[0;36mslope_intercept\u001b[1;34m(x1, y1, x2, y2)\u001b[0m\n\u001b[0;32m      3\u001b[0m \u001b[38;5;28;01mdef\u001b[39;00m \u001b[38;5;21mslope_intercept\u001b[39m(x1,y1,x2,y2):\n\u001b[1;32m----> 4\u001b[0m     a \u001b[38;5;241m=\u001b[39m \u001b[43m(\u001b[49m\u001b[43my2\u001b[49m\u001b[43m \u001b[49m\u001b[38;5;241;43m-\u001b[39;49m\u001b[43m \u001b[49m\u001b[43my1\u001b[49m\u001b[43m)\u001b[49m\u001b[43m \u001b[49m\u001b[38;5;241;43m/\u001b[39;49m\u001b[43m \u001b[49m\u001b[43m(\u001b[49m\u001b[43mx2\u001b[49m\u001b[43m \u001b[49m\u001b[38;5;241;43m-\u001b[39;49m\u001b[43m \u001b[49m\u001b[43mx1\u001b[49m\u001b[43m)\u001b[49m\n\u001b[0;32m      5\u001b[0m     b \u001b[38;5;241m=\u001b[39m y1 \u001b[38;5;241m-\u001b[39m a \u001b[38;5;241m*\u001b[39m x1     \n\u001b[0;32m      6\u001b[0m     \u001b[38;5;28;01mreturn\u001b[39;00m a,b\n",
      "\u001b[1;31mZeroDivisionError\u001b[0m: division by zero"
     ]
    }
   ],
   "source": [
    "slope_intercept(9, 8, 9, 8)"
   ]
  },
  {
   "cell_type": "code",
   "execution_count": 7,
   "id": "44a7d51e",
   "metadata": {
    "ExecuteTime": {
     "end_time": "2022-06-13T20:53:00.277312Z",
     "start_time": "2022-06-13T20:53:00.245074Z"
    }
   },
   "outputs": [
    {
     "data": {
      "text/plain": [
       "4"
      ]
     },
     "execution_count": 7,
     "metadata": {},
     "output_type": "execute_result"
    }
   ],
   "source": [
    "a = [(3, 0),(4,1),(5,2)]\n",
    "\n",
    "def slope_intercept(x1,y1,x2,y2):\n",
    "    a = (y2 - y1) / (x2 - x1)\n",
    "    b = y1 - a * x1     \n",
    "    return a,b\n",
    "\n",
    "# print(slope_intercept(3,0,2,1))\n",
    "\n",
    "if a[-2][0] == a[-1][0]:\n",
    "    x = a[-1][0]\n",
    "elif a[-2][0] > a[-1][0]:\n",
    "    x = a[-2][0] + 1\n",
    "elif a[-2][0] < a[-1][0]:\n",
    "    x = a[-2][0] - 1\n",
    "# print(x)\n",
    "\n",
    "a[-2][0]\n",
    "\n"
   ]
  },
  {
   "cell_type": "code",
   "execution_count": null,
   "id": "032bc083",
   "metadata": {},
   "outputs": [],
   "source": []
  }
 ],
 "metadata": {
  "kernelspec": {
   "display_name": "Python 3 (ipykernel)",
   "language": "python",
   "name": "python3"
  },
  "language_info": {
   "codemirror_mode": {
    "name": "ipython",
    "version": 3
   },
   "file_extension": ".py",
   "mimetype": "text/x-python",
   "name": "python",
   "nbconvert_exporter": "python",
   "pygments_lexer": "ipython3",
   "version": "3.9.12"
  }
 },
 "nbformat": 4,
 "nbformat_minor": 5
}
