{
 "cells": [
  {
   "cell_type": "code",
   "execution_count": 1,
   "id": "64e1e30b",
   "metadata": {
    "ExecuteTime": {
     "end_time": "2022-05-29T13:05:39.957027Z",
     "start_time": "2022-05-29T13:05:39.931004Z"
    }
   },
   "outputs": [],
   "source": [
    "from genetic_algorithm import *\n",
    "import re\n",
    "import json\n",
    "import numpy as np\n",
    "from numpy.random import default_rng\n",
    "from collections import Counter\n",
    "import copy\n",
    "import matplotlib.pyplot as plt\n"
   ]
  },
  {
   "cell_type": "markdown",
   "id": "a4aa7361",
   "metadata": {},
   "source": [
    "## hexadecimal generator"
   ]
  },
  {
   "cell_type": "code",
   "execution_count": 2,
   "id": "e85a93ac",
   "metadata": {
    "ExecuteTime": {
     "end_time": "2022-05-27T20:01:01.782792Z",
     "start_time": "2022-05-27T20:01:01.735730Z"
    }
   },
   "outputs": [],
   "source": [
    "nr_of_input = 3\n",
    "nr_of_actions = 3\n",
    "nr_of_inner = 3\n",
    "nr_of_genes = 16\n",
    "nr_individuals = 4\n",
    "\n",
    "individuals = generate_initial_genomes_for_population(nr_individuals, nr_of_genes, nr_of_input, nr_of_actions, nr_of_inner)"
   ]
  },
  {
   "cell_type": "code",
   "execution_count": 3,
   "id": "153d2d10",
   "metadata": {
    "ExecuteTime": {
     "end_time": "2022-05-27T20:01:01.798304Z",
     "start_time": "2022-05-27T20:01:01.784347Z"
    }
   },
   "outputs": [],
   "source": [
    "## world size\n",
    "world_size_x = 128\n",
    "world_size_y = 128\n",
    "\n",
    "rng = default_rng()\n",
    "x = rng.choice(world_size_x, size=nr_individuals, replace=False)\n",
    "y = rng.choice(world_size_y, size=nr_individuals, replace=False)\n"
   ]
  },
  {
   "cell_type": "code",
   "execution_count": 4,
   "id": "688473c6",
   "metadata": {},
   "outputs": [],
   "source": [
    "individuals_sum_dup = sum_duplicated_neurons(individuals)"
   ]
  },
  {
   "cell_type": "markdown",
   "id": "97385a42",
   "metadata": {},
   "source": [
    "## initial brain and position generator"
   ]
  },
  {
   "cell_type": "code",
   "execution_count": 16,
   "id": "8611dba8",
   "metadata": {},
   "outputs": [
    {
     "name": "stdout",
     "output_type": "stream",
     "text": [
      "0\n",
      "{'out1': {'mid0': 0.21895150768090438, 'out1': {'mid0': 2.139600183122234, 'in2': -0.4231344422401953}}, 'out2': {'mid0': 0.21895150768090438, 'mid2': {'in2': 1.9296200213642607, 'mid0': 2.97695711887685, 'in1': -0.8125743934075996}, 'out2': {'mid2': -0.20302151686250572}}, 'out0': {'mid0': 0.21895150768090438, 'mid2': {'in2': 1.9296200213642607, 'mid0': 2.97695711887685, 'in1': -0.8125743934075996}, 'out0': {'in1': -2.410865252556081, 'mid0': 1.7019380436441325, 'mid2': -3.42450785899588}}}\n",
      "\n",
      "1\n",
      "{'out1': {'mid1': -0.9023550677480728, 'out1': {'in1': -0.07446970853044407, 'mid1': -0.40103769265985045, 'in2': 1.0042423317564475}}, 'out2': {'mid1': -0.9023550677480728, 'out2': {'mid1': 1.6211200976651916}}, 'out0': {'out0': {'in2': 3.2983976804517017, 'in0': -3.3694491072791086}}}\n",
      "\n",
      "2\n",
      "{'out1': {'out1': {'in0': 0.3170456279566611, 'in2': -0.9643216847245536, 'in1': 0.8184343048985198}}, 'out2': {'mid1': {'in0': 3.811994506332977, 'mid2': 3.044712345490615}, 'mid2': -0.9413659853767962, 'out2': {'in0': 3.644376621394781, 'mid1': 1.6384556691591639, 'in1': 0.05847703341980772}}, 'out0': {'out0': {'in2': 2.2215168625057227, 'in0': 3.5680756905234245}}}\n",
      "\n",
      "3\n",
      "{'out2': {'mid0': 0.9901939361952762, 'mid1': -0.8966706992163574, 'mid2': {'in2': -0.6113840988860064, 'mid0': 3.5628261864794752, 'mid1': 3.4666259728368685}, 'out2': {'mid2': 3.6171524492598808}}, 'out1': {'mid0': 0.9901939361952762, 'mid1': -0.8966706992163574, 'mid2': {'in2': -0.6113840988860064, 'mid0': 3.5628261864794752, 'mid1': 3.4666259728368685}, 'out1': {'in0': -3.1268731878528917, 'in1': 0.03601403937128033, 'mid0': -3.0725469250724857, 'mid2': -3.168014649778727, 'in2': 0.36661071265069434}}}\n",
      "\n"
     ]
    }
   ],
   "source": [
    "initial_dic_of_output_neurons = {}\n",
    "\n",
    "## sum duplicates\n",
    "individuals_sum_dup = sum_duplicated_neurons(individuals)\n",
    "\n",
    "## brain generator\n",
    "for individual in individuals_sum_dup:\n",
    "    \n",
    "    ## init brain neuron generator\n",
    "    print(individual)\n",
    "    ## preprocessing\n",
    "    edges = individuals_sum_dup[individual]\n",
    "    edges = [tuple(edges[i]) for i in edges]\n",
    "    edges_no_weight = [i[:-1] for i in edges]\n",
    "    \n",
    "    G = nx.MultiDiGraph()\n",
    "    G.add_edges_from(edges)\n",
    "    \n",
    "    out_list = list(set([i[1] for i in edges if 'out' in i[1]]))\n",
    "    init_list = list(set([i[0] for i in edges if 'in' in i[0]]))\n",
    "\n",
    "    # generate dict of paths\n",
    "    dic_of_paths = generate_dict_of_paths(out_list, init_list, G)\n",
    "\n",
    "    lis = filtered_neurons_paths(dic_of_paths)\n",
    "    \n",
    "    dic = append_weight_to_neurons_in_path(lis, edges_no_weight, edges)\n",
    "    print(dic)\n",
    "    \n",
    "        \n",
    "        \n",
    "\n",
    "#     print(dic)\n",
    "    print()"
   ]
  },
  {
   "cell_type": "code",
   "execution_count": 20,
   "id": "e4267cc8",
   "metadata": {},
   "outputs": [
    {
     "name": "stdout",
     "output_type": "stream",
     "text": [
      "out2\n",
      "{'mid0': 0.9901939361952762, 'mid1': -0.8966706992163574, 'mid2': {'in2': -0.6113840988860064, 'mid0': 3.5628261864794752, 'mid1': 3.4666259728368685}, 'out2': {'mid2': 3.6171524492598808}}\n",
      "\n",
      "out1\n",
      "{'mid0': 0.9901939361952762, 'mid1': -0.8966706992163574, 'mid2': {'in2': -0.6113840988860064, 'mid0': 3.5628261864794752, 'mid1': 3.4666259728368685}, 'out1': {'in0': -3.1268731878528917, 'in1': 0.03601403937128033, 'mid0': -3.0725469250724857, 'mid2': -3.168014649778727, 'in2': 0.36661071265069434}}\n",
      "\n"
     ]
    }
   ],
   "source": [
    "for i in dic:\n",
    "    print(i)\n",
    "    print(dic[i])\n",
    "    print()"
   ]
  },
  {
   "cell_type": "code",
   "execution_count": 7,
   "id": "f4f8828a",
   "metadata": {},
   "outputs": [
    {
     "data": {
      "text/plain": [
       "{'mid0': 0.9901939361952762,\n",
       " 'mid1': -0.8966706992163574,\n",
       " 'mid2': {'in2': -0.6113840988860064,\n",
       "  'mid0': 3.5628261864794752,\n",
       "  'mid1': 3.4666259728368685},\n",
       " 'out1': {'in0': -3.1268731878528917,\n",
       "  'in1': 0.03601403937128033,\n",
       "  'mid0': -3.0725469250724857,\n",
       "  'mid2': -3.168014649778727,\n",
       "  'in2': 0.36661071265069434}}"
      ]
     },
     "execution_count": 7,
     "metadata": {},
     "output_type": "execute_result"
    }
   ],
   "source": [
    "dic['out1']"
   ]
  },
  {
   "cell_type": "code",
   "execution_count": 8,
   "id": "2aff38fc",
   "metadata": {
    "ExecuteTime": {
     "end_time": "2022-05-27T20:01:01.813305Z",
     "start_time": "2022-05-27T20:01:01.799301Z"
    },
    "scrolled": true
   },
   "outputs": [],
   "source": [
    "initial_dic_of_output_neurons = {}\n",
    "\n",
    "## sum duplicates\n",
    "individuals_sum_dup = sum_duplicated_neurons(individuals)\n",
    "\n",
    "## remove self loops\n",
    "individuals_sum_dup_no_self_loop = remove_self_loop(individuals_sum_dup)\n",
    "\n",
    "## brain generator\n",
    "for individual in individuals_sum_dup_no_self_loop:\n",
    "    \n",
    "    ## init brain neuron generator\n",
    "    \n",
    "    ## preprocessing\n",
    "    edges = individuals_sum_dup_no_self_loop[individual]\n",
    "    edges = [tuple(edges[i]) for i in edges]\n",
    "\n",
    "    remove_mid_with_no_predecessor(edges) \n",
    "    dic = weight_sum_preprocessing(edges)\n",
    "\n",
    "    ## calculate weight sum\n",
    "    mid_to_weight(dic)\n",
    "    out_to_weight(dic)\n",
    "       \n",
    "    dic = {k:v for k, v in dic.items() if 'out' in k}    \n",
    "    \n",
    "    initial_dic_of_output_neurons[individual] = {}\n",
    "    initial_dic_of_output_neurons[individual]['output'] = dic\n",
    "    \n",
    "    ## position\n",
    "#     initial_dic_of_output_neurons[individual]['position'] = {}\n",
    "#     initial_dic_of_output_neurons[individual]['position']['x'] = x[individual]\n",
    "#     initial_dic_of_output_neurons[individual]['position']['y'] = y[individual] \n",
    "    \n",
    "    ## position history\n",
    "    initial_dic_of_output_neurons[individual]['history_position'] = [(x[individual], y[individual])]"
   ]
  },
  {
   "cell_type": "code",
   "execution_count": 9,
   "id": "37a4e64d",
   "metadata": {
    "ExecuteTime": {
     "end_time": "2022-05-27T20:01:01.829301Z",
     "start_time": "2022-05-27T20:01:01.814301Z"
    }
   },
   "outputs": [
    {
     "data": {
      "text/plain": [
       "{0: {'output': {'out0': -0.9941392171560546,\n",
       "   'out1': -0.3995677412004998,\n",
       "   'out2': -0.559667317504093},\n",
       "  'history_position': [(90, 1)]},\n",
       " 1: {'output': {'out0': -0.07093210467435282,\n",
       "   'out1': -0.4384494215569999,\n",
       "   'out2': 0.5525715141627122},\n",
       "  'history_position': [(23, 123)]},\n",
       " 2: {'output': {'out0': 0.9984096476650253,\n",
       "   'out1': 0.8128864397791226,\n",
       "   'out2': 0.9895769484375675},\n",
       "  'history_position': [(119, 73)]},\n",
       " 3: {'output': {'out1': -0.9999982503498028, 'out2': 0.9998047532689923},\n",
       "  'history_position': [(121, 93)]}}"
      ]
     },
     "execution_count": 9,
     "metadata": {},
     "output_type": "execute_result"
    }
   ],
   "source": [
    "initial_dic_of_output_neurons"
   ]
  },
  {
   "cell_type": "code",
   "execution_count": 10,
   "id": "675d302d",
   "metadata": {
    "ExecuteTime": {
     "end_time": "2022-05-27T20:23:03.597160Z",
     "start_time": "2022-05-27T20:23:03.581159Z"
    }
   },
   "outputs": [],
   "source": [
    "a = [(3, 0),(4,1),(5,2)]"
   ]
  },
  {
   "cell_type": "code",
   "execution_count": 11,
   "id": "fb0ff57e",
   "metadata": {
    "ExecuteTime": {
     "end_time": "2022-05-27T20:15:26.036428Z",
     "start_time": "2022-05-27T20:15:26.011830Z"
    }
   },
   "outputs": [
    {
     "name": "stdout",
     "output_type": "stream",
     "text": [
      "(-1.0, 3.0)\n"
     ]
    }
   ],
   "source": [
    "def slope_intercept(x1,y1,x2,y2):\n",
    "    a = (y2 - y1) / (x2 - x1)\n",
    "    b = y1 - a * x1     \n",
    "    return a,b\n",
    "\n",
    "print(slope_intercept(3,0,2,1))"
   ]
  },
  {
   "cell_type": "code",
   "execution_count": 12,
   "id": "8ca05899",
   "metadata": {
    "ExecuteTime": {
     "end_time": "2022-05-27T20:22:17.197947Z",
     "start_time": "2022-05-27T20:22:17.180390Z"
    }
   },
   "outputs": [
    {
     "data": {
      "text/plain": [
       "[(3, 0), (4, 1), (5, 2)]"
      ]
     },
     "execution_count": 12,
     "metadata": {},
     "output_type": "execute_result"
    }
   ],
   "source": [
    "a"
   ]
  },
  {
   "cell_type": "code",
   "execution_count": 13,
   "id": "c09bb447",
   "metadata": {
    "ExecuteTime": {
     "end_time": "2022-05-27T20:23:05.833265Z",
     "start_time": "2022-05-27T20:23:05.820276Z"
    }
   },
   "outputs": [
    {
     "name": "stdout",
     "output_type": "stream",
     "text": [
      "3\n"
     ]
    }
   ],
   "source": [
    "if a[-2][0] == a[-1][0]:\n",
    "    x = a[-1][0]\n",
    "elif a[-2][0] > a[-1][0]:\n",
    "    x = a[-2][0] + 1\n",
    "elif a[-2][0] < a[-1][0]:\n",
    "    x = a[-2][0] - 1\n",
    "print(x)"
   ]
  },
  {
   "cell_type": "code",
   "execution_count": 14,
   "id": "91e7bb9d",
   "metadata": {
    "ExecuteTime": {
     "end_time": "2022-05-27T20:22:29.407155Z",
     "start_time": "2022-05-27T20:22:29.397644Z"
    }
   },
   "outputs": [
    {
     "data": {
      "text/plain": [
       "4"
      ]
     },
     "execution_count": 14,
     "metadata": {},
     "output_type": "execute_result"
    }
   ],
   "source": [
    "a[-2][0]"
   ]
  },
  {
   "cell_type": "code",
   "execution_count": null,
   "id": "89c5b605",
   "metadata": {},
   "outputs": [],
   "source": []
  }
 ],
 "metadata": {
  "kernelspec": {
   "display_name": "Python 3 (ipykernel)",
   "language": "python",
   "name": "python3"
  },
  "language_info": {
   "codemirror_mode": {
    "name": "ipython",
    "version": 3
   },
   "file_extension": ".py",
   "mimetype": "text/x-python",
   "name": "python",
   "nbconvert_exporter": "python",
   "pygments_lexer": "ipython3",
   "version": "3.9.12"
  }
 },
 "nbformat": 4,
 "nbformat_minor": 5
}
