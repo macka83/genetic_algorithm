{
 "cells": [
  {
   "cell_type": "code",
   "execution_count": 2,
   "id": "64e1e30b",
   "metadata": {},
   "outputs": [],
   "source": [
    "from genetic_algorithm import *\n",
    "import re"
   ]
  },
  {
   "cell_type": "markdown",
   "id": "a4aa7361",
   "metadata": {},
   "source": [
    "## hexadecimal generator"
   ]
  },
  {
   "cell_type": "code",
   "execution_count": 3,
   "id": "e85a93ac",
   "metadata": {},
   "outputs": [],
   "source": [
    "nr_of_input = 3\n",
    "nr_of_actions = 3\n",
    "nr_of_inner = 1\n",
    "nr_of_genes = 8\n",
    "nr_individuals = 4\n",
    "\n",
    "res = generate_initial_genomes_for_population(nr_individuals, nr_of_genes, nr_of_input, nr_of_actions, nr_of_inner)"
   ]
  },
  {
   "cell_type": "markdown",
   "id": "991e86ea",
   "metadata": {},
   "source": [
    "## Sumuj duble"
   ]
  },
  {
   "cell_type": "code",
   "execution_count": 5,
   "id": "0ac99015",
   "metadata": {},
   "outputs": [],
   "source": [
    "dic = {}\n",
    "for nr in res:\n",
    "    dic[nr] = {}\n",
    "    for i in res[nr]:\n",
    "        total = dic.get(i.differ_neuron, 0) + i.weight \n",
    "        dic[nr][i.differ_neuron] = total"
   ]
  },
  {
   "cell_type": "markdown",
   "id": "74f4fa7d",
   "metadata": {},
   "source": [
    "## grupuj "
   ]
  },
  {
   "cell_type": "code",
   "execution_count": 6,
   "id": "690c4e8e",
   "metadata": {},
   "outputs": [
    {
     "data": {
      "text/plain": [
       "{0: {'0in2out': -3.8865862963528155,\n",
       "  '2in1out': 2.8368075690523424,\n",
       "  '0mid0mid': -2.7595299862658322,\n",
       "  '0mid2out': -2.2975736303982908,\n",
       "  '2in0out': 1.8031435983519},\n",
       " 1: {'0in0mid': 3.020540210590569,\n",
       "  '0mid0out': -1.9686860979703953,\n",
       "  '0mid2out': -3.6433999694796277,\n",
       "  '0mid0mid': 3.3629787883412177,\n",
       "  '2in0mid': 3.5905386845719516,\n",
       "  '1in0out': -3.7167709446055244},\n",
       " 2: {'2in0out': 1.5790019838242026,\n",
       "  '0in0mid': -1.4516709903860827,\n",
       "  '0mid0mid': 0.7499465893483901,\n",
       "  '0in1out': 0.35000763009308716,\n",
       "  '2in1out': -0.1146345185411262},\n",
       " 3: {'2in2out': -0.6157790325041965,\n",
       "  '0in0out': -0.6806043033725011,\n",
       "  '2in0mid': -0.26137646879291926,\n",
       "  '0mid2out': -1.0173050511216237,\n",
       "  '0mid0mid': -2.2215168625057227,\n",
       "  '0mid0out': -2.445048069586449}}"
      ]
     },
     "execution_count": 6,
     "metadata": {},
     "output_type": "execute_result"
    }
   ],
   "source": [
    "dic"
   ]
  },
  {
   "cell_type": "code",
   "execution_count": 13,
   "id": "c042cc6f",
   "metadata": {},
   "outputs": [
    {
     "name": "stdout",
     "output_type": "stream",
     "text": [
      "{'0mid1out': -2.8990691286433696, '0in2out': -2.022279871814436, '0in0out': -1.7821455821761025, '0mid0mid': -2.805066381809858, '0mid0out': -2.48020753853197}\n",
      "{'0mid1out': -2.8990691286433696, '0in2out': -2.022279871814436, '0in0out': -1.7821455821761025, '0mid0mid': -2.805066381809858, '0mid0out': -2.48020753853197}\n"
     ]
    }
   ],
   "source": [
    "# wybierz wszystkie in_mid\n",
    "\n",
    "nr_neuronu = 3\n",
    "print(dic[nr_neuronu])\n",
    "list_of_keys = []\n",
    "for i in dic[nr_neuronu]:\n",
    "    if 'in' in i and 'mid' in i:\n",
    "        print('in_mid', i)\n",
    "        list_of_keys.append(i)\n",
    "        \n",
    "for i in list_of_keys:\n",
    "    dic[nr_neuronu].pop(i)\n",
    "\n",
    "print(dic[nr_neuronu])"
   ]
  },
  {
   "cell_type": "code",
   "execution_count": 14,
   "id": "09693ab6",
   "metadata": {},
   "outputs": [
    {
     "data": {
      "text/plain": [
       "{'0mid1out': -2.8990691286433696,\n",
       " '0in2out': -2.022279871814436,\n",
       " '0in0out': -1.7821455821761025,\n",
       " '0mid0mid': -2.805066381809858,\n",
       " '0mid0out': -2.48020753853197}"
      ]
     },
     "execution_count": 14,
     "metadata": {},
     "output_type": "execute_result"
    }
   ],
   "source": [
    "dic[nr_neuronu]"
   ]
  },
  {
   "cell_type": "code",
   "execution_count": 10,
   "id": "99e59ff4",
   "metadata": {},
   "outputs": [
    {
     "data": {
      "text/plain": [
       "{'0mid': ['2in0mid', '0in0mid']}"
      ]
     },
     "execution_count": 10,
     "metadata": {},
     "output_type": "execute_result"
    }
   ],
   "source": [
    "list_of_out = ['0mid']\n",
    "\n",
    "d = {}\n",
    "for n in list_of_out:\n",
    "    d[n] = [k for k in list_of_keys if n in k]\n",
    "    \n",
    "d"
   ]
  },
  {
   "cell_type": "code",
   "execution_count": null,
   "id": "2a74873c",
   "metadata": {},
   "outputs": [],
   "source": []
  }
 ],
 "metadata": {
  "kernelspec": {
   "display_name": "Python 3 (ipykernel)",
   "language": "python",
   "name": "python3"
  },
  "language_info": {
   "codemirror_mode": {
    "name": "ipython",
    "version": 3
   },
   "file_extension": ".py",
   "mimetype": "text/x-python",
   "name": "python",
   "nbconvert_exporter": "python",
   "pygments_lexer": "ipython3",
   "version": "3.9.7"
  }
 },
 "nbformat": 4,
 "nbformat_minor": 5
}
