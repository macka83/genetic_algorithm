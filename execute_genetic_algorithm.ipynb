{
 "cells": [
  {
   "cell_type": "markdown",
   "id": "6499aef8",
   "metadata": {
    "ExecuteTime": {
     "end_time": "2022-06-28T19:40:02.442018Z",
     "start_time": "2022-06-28T19:40:00.122777Z"
    }
   },
   "source": [
    "!jt -t chesterish\n",
    "# !jt -r"
   ]
  },
  {
   "cell_type": "code",
   "execution_count": 1,
   "id": "07647a75",
   "metadata": {
    "ExecuteTime": {
     "end_time": "2022-08-18T13:50:27.702499Z",
     "start_time": "2022-08-18T13:50:26.718811Z"
    }
   },
   "outputs": [],
   "source": [
    "from genetic_algorithm import *\n",
    "from movement import *\n",
    "from numpy.random import default_rng\n",
    "import pickle\n",
    "\n",
    "import binascii\n",
    "\n",
    "\n",
    "import matplotlib.pyplot as plt\n",
    "import math\n",
    "from matplotlib.animation import FuncAnimation\n",
    "# %matplotlib notebook\n",
    "\n",
    "import copy\n",
    "from collections import Counter\n",
    "import pandas as pd"
   ]
  },
  {
   "cell_type": "code",
   "execution_count": 2,
   "id": "89c5b605",
   "metadata": {
    "ExecuteTime": {
     "end_time": "2022-08-18T13:50:27.717944Z",
     "start_time": "2022-08-18T13:50:27.702499Z"
    }
   },
   "outputs": [],
   "source": [
    "## hexadecimal generator\n",
    "\n",
    "nr_of_input = 2\n",
    "nr_of_actions = 5\n",
    "nr_of_inner = 2\n",
    "nr_of_genes = 8\n",
    "nr_individuals = 600\n",
    "\n",
    "## world size\n",
    "world_size = 100\n",
    "world_size_x = world_size\n",
    "world_size_y = world_size"
   ]
  },
  {
   "cell_type": "markdown",
   "id": "531da81b",
   "metadata": {},
   "source": [
    "## generations"
   ]
  },
  {
   "cell_type": "code",
   "execution_count": 3,
   "id": "33949ec2",
   "metadata": {
    "ExecuteTime": {
     "end_time": "2022-08-18T13:52:11.586109Z",
     "start_time": "2022-08-18T13:50:27.719929Z"
    },
    "scrolled": true
   },
   "outputs": [
    {
     "name": "stdout",
     "output_type": "stream",
     "text": [
      "0\n"
     ]
    },
    {
     "name": "stderr",
     "output_type": "stream",
     "text": [
      " 72%|████████████████████████████████████████████████████████▌                      | 86/120.0 [00:11<00:04,  7.37it/s]"
     ]
    },
    {
     "data": {
      "text/html": [
       "<b>limit_output extension: Maximum message size of 10000 exceeded with 10082 characters</b>"
      ]
     },
     "metadata": {},
     "output_type": "display_data"
    },
    {
     "ename": "AttributeError",
     "evalue": "'NoneType' object has no attribute 'update'",
     "output_type": "error",
     "traceback": [
      "\u001b[1;31m---------------------------------------------------------------------------\u001b[0m",
      "\u001b[1;31mAttributeError\u001b[0m                            Traceback (most recent call last)",
      "Input \u001b[1;32mIn [3]\u001b[0m, in \u001b[0;36m<cell line: 3>\u001b[1;34m()\u001b[0m\n\u001b[0;32m     14\u001b[0m         result, a,b,c,d  \u001b[38;5;241m=\u001b[39m steps_in_generation(world_size\u001b[38;5;241m*\u001b[39m\u001b[38;5;241m1.2\u001b[39m, result, world_size_x, world_size_y)\n\u001b[0;32m     15\u001b[0m         time_list\u001b[38;5;241m.\u001b[39mappend([a,b,c,d])\n\u001b[1;32m---> 16\u001b[0m \u001b[43mresult\u001b[49m\u001b[38;5;241;43m.\u001b[39;49m\u001b[43mupdate\u001b[49m(result)\n\u001b[0;32m     18\u001b[0m dic_color \u001b[38;5;241m=\u001b[39m {}\n\u001b[0;32m     19\u001b[0m \u001b[38;5;28;01mfor\u001b[39;00m indiv \u001b[38;5;129;01min\u001b[39;00m result:\n",
      "\u001b[1;31mAttributeError\u001b[0m: 'NoneType' object has no attribute 'update'"
     ]
    }
   ],
   "source": [
    "time_list = []\n",
    "result = {}\n",
    "for gen_nr in range(100):\n",
    "    print(gen_nr)\n",
    "    if gen_nr == 0:\n",
    "        result = initial_population(nr_individuals, nr_of_genes, nr_of_input, nr_of_actions, nr_of_inner, world_size)\n",
    "        result, a,b,c,d = steps_in_generation(world_size*1.2, result, world_size_x, world_size_y)\n",
    "#         print(result[0])\n",
    "    else:\n",
    "        \n",
    "        result = asexual_reproduction_and_mutation(world_size, result, nr_individuals)\n",
    "        if result:\n",
    "            result = next_generation(result,nr_of_input, nr_of_actions, nr_of_inner, world_size, nr_individuals)\n",
    "            result, a,b,c,d  = steps_in_generation(world_size*1.2, result, world_size_x, world_size_y)\n",
    "            time_list.append([a,b,c,d])\n",
    "    result.update(result)\n",
    "    \n",
    "    dic_color = {}\n",
    "    for indiv in result:\n",
    "        rgb_colors = list(map(hex_to_rgb, result[indiv]['genome']))\n",
    "        color = tuple(pd.DataFrame(rgb_colors).median()) \n",
    "        dic_color[indiv] = color\n",
    "        \n",
    "    coords = generate_dictionary_of_coords(result, world_size*2, dic_color)\n",
    "    \n",
    "    def update(i):\n",
    "        ax.clear()\n",
    "        ax.set_facecolor(plt.cm.Blues(.2))\n",
    "\n",
    "        ax.set_xlim([0,world_size_x])\n",
    "        ax.set_ylim([0,world_size_y])\n",
    "        ax.set_title('moving')\n",
    "        ax.scatter(x=coords[i]['x'],y=coords[i]['y'], c=coords[i]['color'], s=20, marker='o')\n",
    "        [spine.set_visible(False) for spine in ax.spines.values()]\n",
    "\n",
    "\n",
    "    fig, ax = plt.subplots(figsize=(6,6))\n",
    "    myAnimation = FuncAnimation(\n",
    "        fig = fig,\n",
    "        func = update,\n",
    "        frames = len(coords),\n",
    "        interval = 10, repeat=False\n",
    "    )\n",
    "    myAnimation.save(f'./output/generation-{gen_nr}.gif', writer='imagemagick' , fps=10)\n",
    "    # create a binary pickle file \n",
    "    f = open(f'./output/generation-{gen_nr}.pkl',\"wb\")\n",
    "    pickle.dump(result, f)\n",
    "    f.close()"
   ]
  },
  {
   "cell_type": "code",
   "execution_count": null,
   "id": "6acb13d2",
   "metadata": {},
   "outputs": [],
   "source": []
  }
 ],
 "metadata": {
  "kernelspec": {
   "display_name": "Python 3 (ipykernel)",
   "language": "python",
   "name": "python3"
  },
  "language_info": {
   "codemirror_mode": {
    "name": "ipython",
    "version": 3
   },
   "file_extension": ".py",
   "mimetype": "text/x-python",
   "name": "python",
   "nbconvert_exporter": "python",
   "pygments_lexer": "ipython3",
   "version": "3.9.12"
  }
 },
 "nbformat": 4,
 "nbformat_minor": 5
}
