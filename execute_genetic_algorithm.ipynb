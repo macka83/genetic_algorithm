{
 "cells": [
  {
   "cell_type": "markdown",
   "id": "6499aef8",
   "metadata": {
    "ExecuteTime": {
     "end_time": "2022-06-28T19:40:02.442018Z",
     "start_time": "2022-06-28T19:40:00.122777Z"
    }
   },
   "source": [
    "!jt -t chesterish\n",
    "# !jt -r"
   ]
  },
  {
   "cell_type": "code",
   "execution_count": 1,
   "id": "07647a75",
   "metadata": {
    "ExecuteTime": {
     "end_time": "2022-08-18T13:50:27.702499Z",
     "start_time": "2022-08-18T13:50:26.718811Z"
    }
   },
   "outputs": [],
   "source": [
    "from genetic_algorithm import *\n",
    "from movement import *\n",
    "from numpy.random import default_rng\n",
    "import pickle\n",
    "\n",
    "import binascii\n",
    "\n",
    "\n",
    "import matplotlib.pyplot as plt\n",
    "import math\n",
    "from matplotlib.animation import FuncAnimation\n",
    "# %matplotlib notebook\n",
    "\n",
    "import copy\n",
    "from collections import Counter\n",
    "import pandas as pd"
   ]
  },
  {
   "cell_type": "code",
   "execution_count": 2,
   "id": "89c5b605",
   "metadata": {
    "ExecuteTime": {
     "end_time": "2022-08-18T13:50:27.717944Z",
     "start_time": "2022-08-18T13:50:27.702499Z"
    }
   },
   "outputs": [],
   "source": [
    "## hexadecimal generator\n",
    "\n",
    "nr_of_input = 2\n",
    "nr_of_actions = 5\n",
    "nr_of_inner = 2\n",
    "nr_of_genes = 8\n",
    "nr_individuals = 60\n",
    "\n",
    "nr_of_generations = 10\n",
    "\n",
    "## world size\n",
    "world_size = 10\n",
    "world_size_x = world_size\n",
    "world_size_y = world_size"
   ]
  },
  {
   "cell_type": "markdown",
   "id": "531da81b",
   "metadata": {},
   "source": [
    "## generations"
   ]
  },
  {
   "cell_type": "code",
   "execution_count": 3,
   "id": "6acb13d2",
   "metadata": {},
   "outputs": [],
   "source": [
    "# for gen_nr in range(nr_of_generations):\n",
    "#     print(gen_nr)\n",
    "#     if gen_nr == 0:\n",
    "#         result = initial_population(nr_individuals, nr_of_genes, nr_of_input, nr_of_actions, nr_of_inner, world_size)\n",
    "#         result, a,b,c,d,e = steps_in_generation(world_size*1.2, result, world_size_x, world_size_y)\n",
    "#         print(a,b,c,d,e)"
   ]
  },
  {
   "cell_type": "markdown",
   "id": "1aec42fa",
   "metadata": {
    "ExecuteTime": {
     "end_time": "2022-08-18T13:52:11.586109Z",
     "start_time": "2022-08-18T13:50:27.719929Z"
    },
    "scrolled": true
   },
   "source": [
    "time_list = []\n",
    "result = {}\n",
    "for gen_nr in range(nr_of_generations):\n",
    "    print(gen_nr)\n",
    "    if gen_nr == 0:\n",
    "        result = initial_population(nr_individuals, nr_of_genes, nr_of_input, nr_of_actions, nr_of_inner, world_size)\n",
    "        result = steps_in_generation(world_size*1.2, result, world_size_x, world_size_y)\n",
    "    else:\n",
    "        \n",
    "        result = asexual_reproduction_and_mutation(world_size, result, nr_individuals)\n",
    "        if result:\n",
    "            result = next_generation(result,nr_of_input, nr_of_actions, nr_of_inner, world_size, nr_individuals)\n",
    "            result = steps_in_generation(world_size*1.2, result, world_size_x, world_size_y)\n",
    "    result.update(result)\n",
    "    \n",
    "    dic_color = {}\n",
    "    for indiv in result:\n",
    "        rgb_colors = list(map(hex_to_rgb, result[indiv]['genome']))\n",
    "        color = tuple(pd.DataFrame(rgb_colors).median()) \n",
    "        dic_color[indiv] = color\n",
    "        \n",
    "    coords = generate_dictionary_of_coords(result, world_size*2, dic_color)\n",
    "    \n",
    "    def update(i):\n",
    "        ax.clear()\n",
    "        ax.set_facecolor(plt.cm.Blues(.2))\n",
    "\n",
    "        ax.set_xlim([0,world_size_x])\n",
    "        ax.set_ylim([0,world_size_y])\n",
    "        ax.set_title('moving')\n",
    "        ax.scatter(x=coords[i]['x'],y=coords[i]['y'], c=coords[i]['color'], s=20, marker='o')\n",
    "        [spine.set_visible(False) for spine in ax.spines.values()]\n",
    "\n",
    "\n",
    "    fig, ax = plt.subplots(figsize=(6,6))\n",
    "    myAnimation = FuncAnimation(\n",
    "        fig = fig,\n",
    "        func = update,\n",
    "        frames = len(coords),\n",
    "        interval = 10, repeat=False\n",
    "    )\n",
    "    myAnimation.save(f'./output/generation-{gen_nr}.gif', writer='imagemagick' , fps=10)\n",
    "    # create a binary pickle file \n",
    "    f = open(f'./output/generation-{gen_nr}.pkl',\"wb\")\n",
    "    pickle.dump(result, f)\n",
    "    f.close()"
   ]
  },
  {
   "cell_type": "code",
   "execution_count": 4,
   "id": "ca6925d6",
   "metadata": {},
   "outputs": [],
   "source": [
    "# def steps_in_generation(world_size, result, world_size_x, world_size_y):\n",
    "#     for step_nr in range(int(world_size)):\n",
    "#         for indiv in result:\n",
    "#             position = result[indiv]['position']\n",
    "#             x, y = position[-1][0], position[-1][1]\n",
    "#             if step_nr < 1:\n",
    "#                 calculate_position(result, indiv, x, y, world_size_x, world_size_y)\n",
    "#             elif step_nr >= 1:\n",
    "#                 apply_input(result, indiv)\n",
    "#                 calculate_position(result, indiv, x, y, world_size_x, world_size_y)\n",
    "\n",
    "#             # prevent_overlap_movement(last_pos_list, result)\n",
    "#             for prev in sorted(result.keys()): \n",
    "#                 if prev != indiv and result[prev]['position'][-1] == position[-1]:\n",
    "#                     position[-1] = position[-2]\n"
   ]
  },
  {
   "cell_type": "code",
   "execution_count": 5,
   "id": "2b2968b6",
   "metadata": {},
   "outputs": [
    {
     "name": "stdout",
     "output_type": "stream",
     "text": [
      "0\n",
      "0.009048700332641602\n",
      "[[3, 6]]\n",
      "1\n",
      "0.07504868507385254\n",
      "[[0, 2]]\n",
      "2\n",
      "0.045758962631225586\n",
      "[[3, 8]]\n",
      "3\n",
      "0.05718111991882324\n",
      "[[9, 1]]\n",
      "4\n",
      "0.05295562744140625\n",
      "[[1, 0]]\n",
      "5\n",
      "0.04982590675354004\n",
      "[[2, 1]]\n",
      "6\n",
      "0.03986167907714844\n",
      "[[3, 5]]\n",
      "7\n",
      "0.0400543212890625\n",
      "[[6, 3]]\n",
      "8\n",
      "0.04531216621398926\n",
      "[[2, 3]]\n",
      "9\n",
      "0.03487396240234375\n",
      "[[4, 6]]\n"
     ]
    }
   ],
   "source": [
    "for gen_nr in range(nr_of_generations):\n",
    "    print(gen_nr)\n",
    "    if gen_nr == 0:\n",
    "        s = time.time()\n",
    "        result = initial_population(nr_individuals, nr_of_genes, nr_of_input, nr_of_actions, nr_of_inner, world_size)\n",
    "        steps_in_generation(world_size*1.2, result, world_size_x, world_size_y)\n",
    "        \n",
    "        e = time.time()\n",
    "    else:\n",
    "        s = time.time()\n",
    "        result = asexual_reproduction_and_mutation(world_size, result, nr_individuals)\n",
    "        if result:\n",
    "            result = next_generation(result,nr_of_input, nr_of_actions, nr_of_inner, world_size, nr_individuals)\n",
    "            steps_in_generation(world_size*1.2, result, world_size_x, world_size_y)\n",
    "        e = time.time()\n",
    "    print(e-s)\n",
    "    print(result[0]['position'])"
   ]
  },
  {
   "cell_type": "code",
   "execution_count": 5,
   "id": "8fcbd94e",
   "metadata": {},
   "outputs": [
    {
     "data": {
      "text/plain": [
       "{'out': {'out0': 0.525, 'out2': 0.97, 'out4': 0.507},\n",
       " 'brain': {'mid0out0': ['mid0', 'out0', 0.0494430032046391],\n",
       "  'mid0mid0': ['mid0', 'mid0', -3.700289943537311],\n",
       "  'in0out2': ['in0', 'out2', 1.7461315428048223],\n",
       "  'in0mid1': ['in0', 'mid1', 2.9750038150465437],\n",
       "  'mid0out2': ['mid0', 'out2', -3.116984587211964],\n",
       "  'mid0out4': ['mid0', 'out4', -1.117656035403632]},\n",
       " 'in': ['in0'],\n",
       " 'genome': ['d2c1bb7a',\n",
       "  'ec6c5ced',\n",
       "  '5eaab7df',\n",
       "  '3c5ddf31',\n",
       "  'b6f88195',\n",
       "  '825a7666',\n",
       "  'd4cd63bc',\n",
       "  'baf223c3'],\n",
       " 'position': [[69, 9]]}"
      ]
     },
     "execution_count": 5,
     "metadata": {},
     "output_type": "execute_result"
    }
   ],
   "source": [
    "result[0]"
   ]
  },
  {
   "cell_type": "code",
   "execution_count": 4,
   "id": "c07cfa7d",
   "metadata": {
    "scrolled": true
   },
   "outputs": [],
   "source": [
    "def steps_in_generation(world_size, result, world_size_x, world_size_y):\n",
    "    n = 0\n",
    "    while  world_size>n:\n",
    "        for indiv in result:\n",
    "            x, y = result[indiv]['position'][-1][0], result[indiv]['position'][-1][1]\n",
    "            if n<1:\n",
    "                calculate_position(result, indiv, x, y, world_size_x, world_size_y)\n",
    "            elif n >= 1:\n",
    "                apply_input(result, indiv)\n",
    "                calculate_position(result, indiv, x, y, world_size_x, world_size_y)\n",
    "            # prevent_overlap_movement(last_pos_list, result)\n",
    "            for prev in sorted(result.keys()): \n",
    "                if prev != indiv and result[prev]['position'][-1] == result[indiv]['position'][-1]:\n",
    "                    result[indiv]['position'][-1] = result[indiv]['position'][-2]\n",
    "        n += 1\n",
    "    yield result"
   ]
  },
  {
   "cell_type": "code",
   "execution_count": 5,
   "id": "8f3a7386",
   "metadata": {},
   "outputs": [],
   "source": [
    "rr = steps_in_generation(world_size, result, world_size_x, world_size_y)"
   ]
  },
  {
   "cell_type": "code",
   "execution_count": null,
   "id": "30cc267b",
   "metadata": {},
   "outputs": [],
   "source": []
  }
 ],
 "metadata": {
  "kernelspec": {
   "display_name": "Python 3 (ipykernel)",
   "language": "python",
   "name": "python3"
  },
  "language_info": {
   "codemirror_mode": {
    "name": "ipython",
    "version": 3
   },
   "file_extension": ".py",
   "mimetype": "text/x-python",
   "name": "python",
   "nbconvert_exporter": "python",
   "pygments_lexer": "ipython3",
   "version": "3.9.15"
  }
 },
 "nbformat": 4,
 "nbformat_minor": 5
}
