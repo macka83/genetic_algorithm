{
 "cells": [
  {
   "cell_type": "code",
   "execution_count": 1,
   "id": "64e1e30b",
   "metadata": {
    "ExecuteTime": {
     "end_time": "2022-05-25T20:18:00.250387Z",
     "start_time": "2022-05-25T20:17:59.464584Z"
    }
   },
   "outputs": [],
   "source": [
    "from genetic_algorithm import *\n",
    "import re\n",
    "import json\n",
    "import numpy as np\n",
    "from numpy.random import default_rng\n",
    "from collections import Counter\n",
    "import copy\n",
    "import matplotlib.pyplot as plt"
   ]
  },
  {
   "cell_type": "markdown",
   "id": "a4aa7361",
   "metadata": {},
   "source": [
    "## hexadecimal generator"
   ]
  },
  {
   "cell_type": "code",
   "execution_count": 2,
   "id": "e85a93ac",
   "metadata": {
    "ExecuteTime": {
     "end_time": "2022-05-25T20:18:00.266385Z",
     "start_time": "2022-05-25T20:18:00.252349Z"
    }
   },
   "outputs": [],
   "source": [
    "nr_of_input = 3\n",
    "nr_of_actions = 3\n",
    "nr_of_inner = 2\n",
    "nr_of_genes = 16\n",
    "nr_individuals = 20\n",
    "\n",
    "individuals = generate_initial_genomes_for_population(nr_individuals, nr_of_genes, nr_of_input, nr_of_actions, nr_of_inner)"
   ]
  },
  {
   "cell_type": "code",
   "execution_count": 3,
   "id": "967eef50",
   "metadata": {},
   "outputs": [],
   "source": [
    "## world size\n",
    "world_size_x = 128\n",
    "world_size_y = 128\n",
    "\n",
    "rng = default_rng()\n",
    "x = rng.choice(world_size_x, size=nr_individuals, replace=False)\n",
    "y = rng.choice(world_size_y, size=nr_individuals, replace=False)\n"
   ]
  },
  {
   "cell_type": "markdown",
   "id": "c3a900ae",
   "metadata": {},
   "source": [
    "## initial brain and position generator"
   ]
  },
  {
   "cell_type": "code",
   "execution_count": 9,
   "id": "2aff38fc",
   "metadata": {
    "ExecuteTime": {
     "end_time": "2022-05-25T20:18:00.314295Z",
     "start_time": "2022-05-25T20:18:00.267926Z"
    },
    "scrolled": true
   },
   "outputs": [],
   "source": [
    "initial_dic_of_output_neurons = {}\n",
    "\n",
    "## sum duplicates\n",
    "individuals_sum_dup = sum_duplicated_neurons(individuals)\n",
    "\n",
    "## remove self loops\n",
    "individuals_sum_dup_no_self_loop = remove_self_loop(individuals_sum_dup)\n",
    "\n",
    "## brain generator\n",
    "for individual in individuals_sum_dup_no_self_loop:\n",
    "    \n",
    "    ## init brain neuron generator\n",
    "    \n",
    "    ## preprocessing\n",
    "    edges = individuals_sum_dup_no_self_loop[individual]\n",
    "    edges = [tuple(edges[i]) for i in edges]\n",
    "\n",
    "    remove_mid_with_no_predecessor(edges) \n",
    "    dic = weight_sum_preprocessing(edges)\n",
    "\n",
    "    ## calculate weight sum\n",
    "    mid_to_weight(dic)\n",
    "    out_to_weight(dic)\n",
    "       \n",
    "    dic = {k:v for k, v in dic.items() if 'out' in k}    \n",
    "    \n",
    "    initial_dic_of_output_neurons[individual] = {}\n",
    "    initial_dic_of_output_neurons[individual]['output'] = dic\n",
    "    \n",
    "    ## position\n",
    "    initial_dic_of_output_neurons[individual]['position'] = {}\n",
    "    initial_dic_of_output_neurons[individual]['position']['x'] = x[individual]\n",
    "    initial_dic_of_output_neurons[individual]['position']['y'] = y[individual]    "
   ]
  },
  {
   "cell_type": "code",
   "execution_count": 10,
   "id": "5be300a7",
   "metadata": {},
   "outputs": [
    {
     "data": {
      "text/plain": [
       "{0: {'output': {'out0': 0.9999674815144484,\n",
       "   'out1': -0.9056591344045303,\n",
       "   'out2': -0.9370515264342253},\n",
       "  'position': {'x': 80, 'y': 4}},\n",
       " 1: {'output': {'out0': -0.958808284760194,\n",
       "   'out1': 0.9999535350940449,\n",
       "   'out2': 0.783720241107488},\n",
       "  'position': {'x': 32, 'y': 5}},\n",
       " 2: {'output': {'out0': 0.9877927659887416, 'out2': -0.9998622926214814},\n",
       "  'position': {'x': 95, 'y': 78}},\n",
       " 3: {'output': {'out0': 0.9972642633578218, 'out1': 0.9995637647715601},\n",
       "  'position': {'x': 56, 'y': 80}},\n",
       " 4: {'output': {'out0': -0.9989189372678696,\n",
       "   'out1': -0.8076079319990677,\n",
       "   'out2': -0.9984828889120981},\n",
       "  'position': {'x': 118, 'y': 114}},\n",
       " 5: {'output': {'out0': -0.3199337703573075,\n",
       "   'out1': 0.3673975906765415,\n",
       "   'out2': 0.9973105612989845},\n",
       "  'position': {'x': 102, 'y': 26}},\n",
       " 6: {'output': {'out0': 0.8330403218294933,\n",
       "   'out1': -0.9291491654049273,\n",
       "   'out2': -0.9850346557843904},\n",
       "  'position': {'x': 24, 'y': 124}},\n",
       " 7: {'output': {'out0': -0.9953719101912819, 'out1': 0.8682879019414288},\n",
       "  'position': {'x': 4, 'y': 125}},\n",
       " 8: {'output': {'out0': -0.999568301851037,\n",
       "   'out1': -0.9869098775240485,\n",
       "   'out2': 0.9943847618494626},\n",
       "  'position': {'x': 119, 'y': 98}},\n",
       " 9: {'output': {'out0': 0.999904912446524,\n",
       "   'out1': -0.9486140862880037,\n",
       "   'out2': 0.9349323677253177},\n",
       "  'position': {'x': 106, 'y': 97}},\n",
       " 10: {'output': {'out0': 0.9954651604709738,\n",
       "   'out1': 0.9996414168368847,\n",
       "   'out2': 0.6906610966429046},\n",
       "  'position': {'x': 7, 'y': 67}},\n",
       " 11: {'output': {'out0': -0.8692086738138851,\n",
       "   'out1': 0.939464093248259,\n",
       "   'out2': 0.9937059080007093},\n",
       "  'position': {'x': 101, 'y': 81}},\n",
       " 12: {'output': {'out1': -0.8870843264250203, 'out2': -0.9999806147618082},\n",
       "  'position': {'x': 44, 'y': 1}},\n",
       " 13: {'output': {'out1': -0.9996970224366121, 'out2': -0.9973163347500673},\n",
       "  'position': {'x': 23, 'y': 127}},\n",
       " 14: {'output': {'out0': 0.9965349417143721,\n",
       "   'out1': -0.9987585193722074,\n",
       "   'out2': -0.9515032141107398},\n",
       "  'position': {'x': 5, 'y': 119}},\n",
       " 15: {'output': {'out0': -0.7224166655678366,\n",
       "   'out1': -0.8816591034013154,\n",
       "   'out2': -0.9750030208885234},\n",
       "  'position': {'x': 48, 'y': 51}},\n",
       " 16: {'output': {'out0': -0.19147263787232763,\n",
       "   'out1': 0.6865876662796605,\n",
       "   'out2': -0.7997928535997629},\n",
       "  'position': {'x': 18, 'y': 56}},\n",
       " 17: {'output': {'out0': -0.9997362597660014,\n",
       "   'out1': 0.9999735580959492,\n",
       "   'out2': -0.4475332588300932},\n",
       "  'position': {'x': 27, 'y': 9}},\n",
       " 18: {'output': {'out0': 0.748927995205968,\n",
       "   'out1': 0.9952832846452505,\n",
       "   'out2': -0.9711723946251205},\n",
       "  'position': {'x': 83, 'y': 86}},\n",
       " 19: {'output': {'out0': 0.9761564806852768,\n",
       "   'out1': -0.8348608230456908,\n",
       "   'out2': -0.6363001085430968},\n",
       "  'position': {'x': 126, 'y': 107}}}"
      ]
     },
     "execution_count": 10,
     "metadata": {},
     "output_type": "execute_result"
    }
   ],
   "source": [
    "initial_dic_of_output_neurons"
   ]
  },
  {
   "cell_type": "code",
   "execution_count": null,
   "id": "aa5dfa34",
   "metadata": {},
   "outputs": [],
   "source": []
  },
  {
   "cell_type": "code",
   "execution_count": null,
   "id": "60960865",
   "metadata": {},
   "outputs": [],
   "source": [
    "dic_of_output_neurons"
   ]
  },
  {
   "cell_type": "code",
   "execution_count": null,
   "id": "4c5220a1",
   "metadata": {},
   "outputs": [],
   "source": []
  }
 ],
 "metadata": {
  "kernelspec": {
   "display_name": "Python 3 (ipykernel)",
   "language": "python",
   "name": "python3"
  },
  "language_info": {
   "codemirror_mode": {
    "name": "ipython",
    "version": 3
   },
   "file_extension": ".py",
   "mimetype": "text/x-python",
   "name": "python",
   "nbconvert_exporter": "python",
   "pygments_lexer": "ipython3",
   "version": "3.9.12"
  }
 },
 "nbformat": 4,
 "nbformat_minor": 5
}
