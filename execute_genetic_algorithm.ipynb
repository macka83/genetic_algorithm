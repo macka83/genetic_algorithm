{
 "cells": [
  {
   "cell_type": "code",
   "execution_count": 1,
   "id": "0f9bdca1",
   "metadata": {},
   "outputs": [
    {
     "name": "stdout",
     "output_type": "stream",
     "text": [
      "in_mid 2in0mid\n",
      "mid+mid or out 0mid2out\n",
      "mid+mid or out 2in1out\n",
      "mid+mid or out 2in0mid\n",
      "mid+mid or out 0mid1out\n",
      "mid+mid or out 0mid0out\n",
      "mid+mid or out 0in0out\n"
     ]
    }
   ],
   "source": [
    "from genetic_algorithm import *"
   ]
  },
  {
   "cell_type": "code",
   "execution_count": 2,
   "id": "ad8e779e",
   "metadata": {},
   "outputs": [],
   "source": [
    "# hexadecimal generator\n",
    "\n",
    "# In[ ]:\n",
    "\n",
    "\n",
    "nr_of_input = 3\n",
    "nr_of_actions = 3\n",
    "nr_of_inner = 1\n",
    "nr_of_genes = 6\n",
    "nr_individuals = 6\n",
    "\n",
    "res = generate_initial_genomes_for_population(nr_individuals, nr_of_genes, nr_of_input, nr_of_actions, nr_of_inner)\n",
    "\n",
    "\n",
    "# ## Sumuj duble\n",
    "\n",
    "# In[ ]:\n",
    "\n",
    "\n",
    "dic = {}\n",
    "for nr in res:\n",
    "    dic[nr] = {}\n",
    "    for i in res[nr]:\n",
    "        total = dic.get(i.differ_neuron, 0) + i.weight \n",
    "        dic[nr][i.differ_neuron] = total\n",
    "\n",
    "\n",
    "# ## grupuj \n",
    "\n",
    "# In[ ]:\n",
    "\n",
    "\n",
    "# wybierz wszystkie in_mid\n",
    "\n",
    "nr_neuronu = 4\n",
    "for i in dic[nr_neuronu]:\n",
    "    if 'in' in i and 'mid' in i:\n",
    "        print('in_mid', i)\n",
    "        \n",
    "for i in dic[nr_neuronu]:\n",
    "    if 'mid' in i and 'mid' in i or 'out' in i:\n",
    "        print('mid+mid or out', i)\n",
    "\n"
   ]
  },
  {
   "cell_type": "code",
   "execution_count": null,
   "id": "dd64af7f",
   "metadata": {},
   "outputs": [],
   "source": []
  }
 ],
 "metadata": {
  "kernelspec": {
   "display_name": "Python 3 (ipykernel)",
   "language": "python",
   "name": "python3"
  },
  "language_info": {
   "codemirror_mode": {
    "name": "ipython",
    "version": 3
   },
   "file_extension": ".py",
   "mimetype": "text/x-python",
   "name": "python",
   "nbconvert_exporter": "python",
   "pygments_lexer": "ipython3",
   "version": "3.9.7"
  }
 },
 "nbformat": 4,
 "nbformat_minor": 5
}
