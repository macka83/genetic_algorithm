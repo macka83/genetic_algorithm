{
 "cells": [
  {
   "cell_type": "code",
   "execution_count": 1,
   "id": "64e1e30b",
   "metadata": {
    "ExecuteTime": {
     "end_time": "2022-05-29T13:05:39.957027Z",
     "start_time": "2022-05-29T13:05:39.931004Z"
    }
   },
   "outputs": [],
   "source": [
    "from genetic_algorithm import *\n",
    "import re\n",
    "import json\n",
    "import numpy as np\n",
    "from numpy.random import default_rng\n",
    "from collections import Counter\n",
    "import copy\n",
    "import matplotlib.pyplot as plt\n",
    "# from itertools import product"
   ]
  },
  {
   "cell_type": "markdown",
   "id": "a4aa7361",
   "metadata": {},
   "source": [
    "## hexadecimal generator"
   ]
  },
  {
   "cell_type": "code",
   "execution_count": 2,
   "id": "e85a93ac",
   "metadata": {
    "ExecuteTime": {
     "end_time": "2022-05-27T20:01:01.782792Z",
     "start_time": "2022-05-27T20:01:01.735730Z"
    }
   },
   "outputs": [],
   "source": [
    "nr_of_input = 3\n",
    "nr_of_actions = 3\n",
    "nr_of_inner = 3\n",
    "nr_of_genes = 16\n",
    "nr_individuals = 4\n",
    "\n",
    "individuals = generate_initial_genomes_for_population(nr_individuals, nr_of_genes, nr_of_input, nr_of_actions, nr_of_inner)"
   ]
  },
  {
   "cell_type": "code",
   "execution_count": 3,
   "id": "153d2d10",
   "metadata": {
    "ExecuteTime": {
     "end_time": "2022-05-27T20:01:01.798304Z",
     "start_time": "2022-05-27T20:01:01.784347Z"
    }
   },
   "outputs": [],
   "source": [
    "## world size\n",
    "world_size_x = 128\n",
    "world_size_y = 128\n",
    "\n",
    "rng = default_rng()\n",
    "x = rng.choice(world_size_x, size=nr_individuals, replace=False)\n",
    "y = rng.choice(world_size_y, size=nr_individuals, replace=False)\n"
   ]
  },
  {
   "cell_type": "code",
   "execution_count": 4,
   "id": "688473c6",
   "metadata": {},
   "outputs": [],
   "source": [
    "individuals_sum_dup = sum_duplicated_neurons(individuals)"
   ]
  },
  {
   "cell_type": "markdown",
   "id": "97385a42",
   "metadata": {},
   "source": [
    "## initial brain and position generator"
   ]
  },
  {
   "cell_type": "code",
   "execution_count": 5,
   "id": "8611dba8",
   "metadata": {},
   "outputs": [
    {
     "name": "stdout",
     "output_type": "stream",
     "text": [
      "0\n",
      "{'out2': {'mid1': 0.9954491963281817, 'out2': {'in1': 3.519853502212727, 'in0': 0.13074927514115672, 'mid1': -2.5820235006867085}}, 'out1': {'mid1': 0.9954491963281817, 'out1': {'mid1': -0.22499618495345644}}, 'out0': {'mid1': 0.9954491963281817, 'out0': {'mid1': 2.163039829085915, 'in1': 3.9770486799938958}}}\n",
      "\n",
      "1\n",
      "{'out2': {'mid1': -0.9980422446657246, 'mid2': {'mid1': -2.5434457500381504, 'in2': -1.1937128032962, 'in0': 0.8477338623531208}, 'out2': {'mid2': 2.170364718449565}}, 'out1': {'mid0': {'mid1': 1.115580650083931, 'in0': 0.07288264916831985, 'in1': 3.89842820082405}, 'mid1': {'in0': -3.464062261559591, 'mid2': 0.3714939722264612}, 'mid2': -0.33280465141384813, 'out1': {'mid0': 0.11829696322295132}}, 'out0': {'mid0': {'mid1': 1.115580650083931, 'in0': 0.07288264916831985, 'in1': 3.89842820082405}, 'mid1': {'in0': -3.464062261559591, 'mid2': 0.3714939722264612}, 'mid2': {'mid1': -2.5434457500381504, 'in2': -1.1937128032962, 'in0': 0.8477338623531208}, 'out0': {'mid0': 3.403998168777659, 'mid2': -0.5596215473828781}}}\n",
      "\n",
      "2\n",
      "{'out1': {'out1': {'in0': 1.6723943232107432, 'in1': 1.2352205096902182}}, 'out0': {'mid0': {'mid1': -0.8068365634060736, 'in2': -3.122966580192278}, 'mid1': 0.9999591445083128, 'out0': {'mid0': -1.4771860216694643, 'in2': 1.0606439798565543}}, 'out2': {'mid1': 0.9999591445083128, 'mid2': {'mid1': 0.5634060735540973, 'in2': -0.3906607660613459, 'in0': -1.3641385624904623}, 'out2': {'in2': 1.4768197772012819, 'in0': -1.9052037234854264, 'mid2': -3.7192125743934077}}}\n",
      "\n",
      "3\n",
      "{'out1': {'out1': {'in1': 3.2004883259575765, 'in2': 3.1945063329772623}}, 'out0': {'mid0': -0.9968891785861455, 'mid1': -0.4076410405214311, 'out0': {'mid0': -0.5028536548145888, 'mid1': 3.8384861895315123}}, 'out2': {'mid1': -0.4076410405214311, 'mid2': 0.8651826862374834, 'out2': {'in0': -2.7912711735083167, 'mid2': -3.0939111857164656, 'mid1': -0.4042118113840989}}}\n",
      "\n"
     ]
    }
   ],
   "source": [
    "initial_dic_of_output_neurons = {}\n",
    "\n",
    "## sum duplicates\n",
    "individuals_sum_dup = sum_duplicated_neurons(individuals)\n",
    "\n",
    "## brain generator\n",
    "for individual in individuals_sum_dup:\n",
    "    \n",
    "    ## init brain neuron generator\n",
    "    print(individual)\n",
    "    ## preprocessing\n",
    "    edges = individuals_sum_dup[individual]\n",
    "    edges = [tuple(edges[i]) for i in edges]\n",
    "    edges_no_weight = [i[:-1] for i in edges]\n",
    "    \n",
    "    G = nx.MultiDiGraph()\n",
    "    G.add_edges_from(edges)\n",
    "    \n",
    "    out_list = list(set([i[1] for i in edges if 'out' in i[1]]))\n",
    "    init_list = list(set([i[0] for i in edges if 'in' in i[0]]))\n",
    "\n",
    "    # generate dict of paths\n",
    "    dic_of_paths = generate_dict_of_paths(out_list, init_list, G)\n",
    "\n",
    "    lis = filtered_neurons_paths(dic_of_paths)\n",
    "    \n",
    "    dic = append_weight_to_neurons_in_path(lis, edges_no_weight, edges)\n",
    "    print(dic)\n",
    "    \n",
    "        \n",
    "        \n",
    "\n",
    "#     print(dic)\n",
    "    print()"
   ]
  },
  {
   "cell_type": "code",
   "execution_count": 26,
   "id": "69753bd9",
   "metadata": {},
   "outputs": [],
   "source": [
    "def generate_dict_of_paths(out_list, init_list, G):\n",
    "    '''generate list of paths lead for output neurons'''\n",
    "    \n",
    "    selfloop = list(nx.nodes_with_selfloops(G))\n",
    "    dic_of_paths = {}\n",
    "    for out in out_list:\n",
    "        dic_of_paths[out] = []\n",
    "        for inp in init_list:\n",
    "            for path in nx.all_simple_paths(G, inp, out):\n",
    "                if path:\n",
    "                    ind = [i_nr for i_nr, i in enumerate(path) if i in selfloop][::-1]\n",
    "                    if ind:\n",
    "                        for i in ind:\n",
    "                            path.insert(i+1, path[i])\n",
    "                    dic_of_paths[out].append(path)\n",
    "               \n",
    "    return dic_of_paths"
   ]
  },
  {
   "cell_type": "code",
   "execution_count": 27,
   "id": "f9547449",
   "metadata": {},
   "outputs": [
    {
     "data": {
      "text/plain": [
       "{'out2': [['in0', 'mid2', 'mid2', 'out2'],\n",
       "  ['in1', 'mid0', 'mid0', 'out2'],\n",
       "  ['in1', 'out2'],\n",
       "  ['in2', 'mid0', 'mid0', 'out2']],\n",
       " 'out0': [['in0', 'mid2', 'mid2', 'out0'], ['in2', 'out0']],\n",
       " 'out1': [['in0', 'mid2', 'mid2', 'out1'], ['in2', 'out1']]}"
      ]
     },
     "execution_count": 27,
     "metadata": {},
     "output_type": "execute_result"
    }
   ],
   "source": [
    "G = nx.MultiDiGraph()\n",
    "G.add_edges_from(edges)\n",
    "\n",
    "out_list = list(set([i[1] for i in edges if 'out' in i[1]]))\n",
    "init_list = list(set([i[0] for i in edges if 'in' in i[0]]))\n",
    "\n",
    "# generate dict of paths\n",
    "dic_of_paths = generate_dict_of_paths(out_list, init_list, G)\n",
    "\n",
    "dic_of_paths"
   ]
  },
  {
   "cell_type": "code",
   "execution_count": 57,
   "id": "b2ae4a55",
   "metadata": {
    "scrolled": true
   },
   "outputs": [
    {
     "data": {
      "image/png": "[encoded data removed]",
      "text/plain": [
       "<Figure size 720x720 with 1 Axes>"
      ]
     },
     "metadata": {},
     "output_type": "display_data"
    }
   ],
   "source": [
    "plt.figure(figsize=[10,10])\n",
    "nx.draw_networkx(G)\n",
    "nx.spring_layout(G, iterations=1000)\n",
    "plt.show()"
   ]
  },
  {
   "cell_type": "code",
   "execution_count": 75,
   "id": "f192ea63",
   "metadata": {},
   "outputs": [
    {
     "data": {
      "text/plain": [
       "[3, 2]"
      ]
     },
     "execution_count": 75,
     "metadata": {},
     "output_type": "execute_result"
    }
   ],
   "source": [
    "l = [1,2,3,4]\n",
    "m = [3,4]\n",
    "\n",
    "ind = [i_nr for i_nr, i in enumerate(l) if i in m][::-1]\n",
    "l = [l.insert(i+1, l[i]) for i in ind]"
   ]
  },
  {
   "cell_type": "code",
   "execution_count": 76,
   "id": "19b6a0ee",
   "metadata": {},
   "outputs": [
    {
     "data": {
      "text/plain": [
       "[1, 2, 3, 3, 4, 4]"
      ]
     },
     "execution_count": 76,
     "metadata": {},
     "output_type": "execute_result"
    }
   ],
   "source": [
    "[l.insert(i+1, l[i]) for i in ind]\n",
    "    \n",
    "l"
   ]
  },
  {
   "cell_type": "code",
   "execution_count": 50,
   "id": "1761af42",
   "metadata": {},
   "outputs": [
    {
     "name": "stdout",
     "output_type": "stream",
     "text": [
      "1\n"
     ]
    }
   ],
   "source": []
  },
  {
   "cell_type": "code",
   "execution_count": null,
   "id": "4280de03",
   "metadata": {},
   "outputs": [],
   "source": []
  },
  {
   "cell_type": "code",
   "execution_count": null,
   "id": "3e396a99",
   "metadata": {},
   "outputs": [],
   "source": []
  },
  {
   "cell_type": "code",
   "execution_count": 20,
   "id": "e4267cc8",
   "metadata": {},
   "outputs": [
    {
     "name": "stdout",
     "output_type": "stream",
     "text": [
      "out2\n",
      "{'mid0': 0.9901939361952762, 'mid1': -0.8966706992163574, 'mid2': {'in2': -0.6113840988860064, 'mid0': 3.5628261864794752, 'mid1': 3.4666259728368685}, 'out2': {'mid2': 3.6171524492598808}}\n",
      "\n",
      "out1\n",
      "{'mid0': 0.9901939361952762, 'mid1': -0.8966706992163574, 'mid2': {'in2': -0.6113840988860064, 'mid0': 3.5628261864794752, 'mid1': 3.4666259728368685}, 'out1': {'in0': -3.1268731878528917, 'in1': 0.03601403937128033, 'mid0': -3.0725469250724857, 'mid2': -3.168014649778727, 'in2': 0.36661071265069434}}\n",
      "\n"
     ]
    }
   ],
   "source": [
    "for i in dic:\n",
    "    print(i)\n",
    "    print(dic[i])\n",
    "    print()"
   ]
  },
  {
   "cell_type": "code",
   "execution_count": 7,
   "id": "f4f8828a",
   "metadata": {},
   "outputs": [
    {
     "data": {
      "text/plain": [
       "{'mid0': 0.9901939361952762,\n",
       " 'mid1': -0.8966706992163574,\n",
       " 'mid2': {'in2': -0.6113840988860064,\n",
       "  'mid0': 3.5628261864794752,\n",
       "  'mid1': 3.4666259728368685},\n",
       " 'out1': {'in0': -3.1268731878528917,\n",
       "  'in1': 0.03601403937128033,\n",
       "  'mid0': -3.0725469250724857,\n",
       "  'mid2': -3.168014649778727,\n",
       "  'in2': 0.36661071265069434}}"
      ]
     },
     "execution_count": 7,
     "metadata": {},
     "output_type": "execute_result"
    }
   ],
   "source": [
    "dic['out1']"
   ]
  },
  {
   "cell_type": "code",
   "execution_count": 8,
   "id": "2aff38fc",
   "metadata": {
    "ExecuteTime": {
     "end_time": "2022-05-27T20:01:01.813305Z",
     "start_time": "2022-05-27T20:01:01.799301Z"
    },
    "scrolled": true
   },
   "outputs": [],
   "source": [
    "initial_dic_of_output_neurons = {}\n",
    "\n",
    "## sum duplicates\n",
    "individuals_sum_dup = sum_duplicated_neurons(individuals)\n",
    "\n",
    "## remove self loops\n",
    "individuals_sum_dup_no_self_loop = remove_self_loop(individuals_sum_dup)\n",
    "\n",
    "## brain generator\n",
    "for individual in individuals_sum_dup_no_self_loop:\n",
    "    \n",
    "    ## init brain neuron generator\n",
    "    \n",
    "    ## preprocessing\n",
    "    edges = individuals_sum_dup_no_self_loop[individual]\n",
    "    edges = [tuple(edges[i]) for i in edges]\n",
    "\n",
    "    remove_mid_with_no_predecessor(edges) \n",
    "    dic = weight_sum_preprocessing(edges)\n",
    "\n",
    "    ## calculate weight sum\n",
    "    mid_to_weight(dic)\n",
    "    out_to_weight(dic)\n",
    "       \n",
    "    dic = {k:v for k, v in dic.items() if 'out' in k}    \n",
    "    \n",
    "    initial_dic_of_output_neurons[individual] = {}\n",
    "    initial_dic_of_output_neurons[individual]['output'] = dic\n",
    "    \n",
    "    ## position\n",
    "#     initial_dic_of_output_neurons[individual]['position'] = {}\n",
    "#     initial_dic_of_output_neurons[individual]['position']['x'] = x[individual]\n",
    "#     initial_dic_of_output_neurons[individual]['position']['y'] = y[individual] \n",
    "    \n",
    "    ## position history\n",
    "    initial_dic_of_output_neurons[individual]['history_position'] = [(x[individual], y[individual])]"
   ]
  },
  {
   "cell_type": "code",
   "execution_count": 9,
   "id": "37a4e64d",
   "metadata": {
    "ExecuteTime": {
     "end_time": "2022-05-27T20:01:01.829301Z",
     "start_time": "2022-05-27T20:01:01.814301Z"
    }
   },
   "outputs": [
    {
     "data": {
      "text/plain": [
       "{0: {'output': {'out0': -0.9941392171560546,\n",
       "   'out1': -0.3995677412004998,\n",
       "   'out2': -0.559667317504093},\n",
       "  'history_position': [(90, 1)]},\n",
       " 1: {'output': {'out0': -0.07093210467435282,\n",
       "   'out1': -0.4384494215569999,\n",
       "   'out2': 0.5525715141627122},\n",
       "  'history_position': [(23, 123)]},\n",
       " 2: {'output': {'out0': 0.9984096476650253,\n",
       "   'out1': 0.8128864397791226,\n",
       "   'out2': 0.9895769484375675},\n",
       "  'history_position': [(119, 73)]},\n",
       " 3: {'output': {'out1': -0.9999982503498028, 'out2': 0.9998047532689923},\n",
       "  'history_position': [(121, 93)]}}"
      ]
     },
     "execution_count": 9,
     "metadata": {},
     "output_type": "execute_result"
    }
   ],
   "source": [
    "initial_dic_of_output_neurons"
   ]
  },
  {
   "cell_type": "code",
   "execution_count": 10,
   "id": "675d302d",
   "metadata": {
    "ExecuteTime": {
     "end_time": "2022-05-27T20:23:03.597160Z",
     "start_time": "2022-05-27T20:23:03.581159Z"
    }
   },
   "outputs": [],
   "source": [
    "a = [(3, 0),(4,1),(5,2)]"
   ]
  },
  {
   "cell_type": "code",
   "execution_count": 11,
   "id": "fb0ff57e",
   "metadata": {
    "ExecuteTime": {
     "end_time": "2022-05-27T20:15:26.036428Z",
     "start_time": "2022-05-27T20:15:26.011830Z"
    }
   },
   "outputs": [
    {
     "name": "stdout",
     "output_type": "stream",
     "text": [
      "(-1.0, 3.0)\n"
     ]
    }
   ],
   "source": [
    "def slope_intercept(x1,y1,x2,y2):\n",
    "    a = (y2 - y1) / (x2 - x1)\n",
    "    b = y1 - a * x1     \n",
    "    return a,b\n",
    "\n",
    "print(slope_intercept(3,0,2,1))"
   ]
  },
  {
   "cell_type": "code",
   "execution_count": 12,
   "id": "8ca05899",
   "metadata": {
    "ExecuteTime": {
     "end_time": "2022-05-27T20:22:17.197947Z",
     "start_time": "2022-05-27T20:22:17.180390Z"
    }
   },
   "outputs": [
    {
     "data": {
      "text/plain": [
       "[(3, 0), (4, 1), (5, 2)]"
      ]
     },
     "execution_count": 12,
     "metadata": {},
     "output_type": "execute_result"
    }
   ],
   "source": [
    "a"
   ]
  },
  {
   "cell_type": "code",
   "execution_count": 13,
   "id": "c09bb447",
   "metadata": {
    "ExecuteTime": {
     "end_time": "2022-05-27T20:23:05.833265Z",
     "start_time": "2022-05-27T20:23:05.820276Z"
    }
   },
   "outputs": [
    {
     "name": "stdout",
     "output_type": "stream",
     "text": [
      "3\n"
     ]
    }
   ],
   "source": [
    "if a[-2][0] == a[-1][0]:\n",
    "    x = a[-1][0]\n",
    "elif a[-2][0] > a[-1][0]:\n",
    "    x = a[-2][0] + 1\n",
    "elif a[-2][0] < a[-1][0]:\n",
    "    x = a[-2][0] - 1\n",
    "print(x)"
   ]
  },
  {
   "cell_type": "code",
   "execution_count": 14,
   "id": "91e7bb9d",
   "metadata": {
    "ExecuteTime": {
     "end_time": "2022-05-27T20:22:29.407155Z",
     "start_time": "2022-05-27T20:22:29.397644Z"
    }
   },
   "outputs": [
    {
     "data": {
      "text/plain": [
       "4"
      ]
     },
     "execution_count": 14,
     "metadata": {},
     "output_type": "execute_result"
    }
   ],
   "source": [
    "a[-2][0]"
   ]
  },
  {
   "cell_type": "code",
   "execution_count": null,
   "id": "89c5b605",
   "metadata": {},
   "outputs": [],
   "source": []
  }
 ],
 "metadata": {
  "kernelspec": {
   "display_name": "Python 3 (ipykernel)",
   "language": "python",
   "name": "python3"
  },
  "language_info": {
   "codemirror_mode": {
    "name": "ipython",
    "version": 3
   },
   "file_extension": ".py",
   "mimetype": "text/x-python",
   "name": "python",
   "nbconvert_exporter": "python",
   "pygments_lexer": "ipython3",
   "version": "3.9.12"
  }
 },
 "nbformat": 4,
 "nbformat_minor": 5
}
