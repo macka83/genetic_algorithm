{
 "cells": [
  {
   "cell_type": "code",
   "execution_count": 3,
   "id": "64e1e30b",
   "metadata": {
    "ExecuteTime": {
     "end_time": "2022-05-29T13:05:39.957027Z",
     "start_time": "2022-05-29T13:05:39.931004Z"
    }
   },
   "outputs": [],
   "source": [
    "from genetic_algorithm import *\n",
    "import re\n",
    "import json\n",
    "import numpy as np\n",
    "from numpy.random import default_rng\n",
    "from collections import Counter\n",
    "import copy\n",
    "import matplotlib.pyplot as plt\n",
    "from itertools import groupby"
   ]
  },
  {
   "cell_type": "markdown",
   "id": "a4aa7361",
   "metadata": {},
   "source": [
    "## hexadecimal generator"
   ]
  },
  {
   "cell_type": "code",
   "execution_count": 51,
   "id": "e85a93ac",
   "metadata": {
    "ExecuteTime": {
     "end_time": "2022-05-27T20:01:01.782792Z",
     "start_time": "2022-05-27T20:01:01.735730Z"
    }
   },
   "outputs": [],
   "source": [
    "nr_of_input = 3\n",
    "nr_of_actions = 3\n",
    "nr_of_inner = 3\n",
    "nr_of_genes = 16\n",
    "nr_individuals = 20\n",
    "\n",
    "individuals = generate_initial_genomes_for_population(nr_individuals, nr_of_genes, nr_of_input, nr_of_actions, nr_of_inner)"
   ]
  },
  {
   "cell_type": "code",
   "execution_count": 52,
   "id": "153d2d10",
   "metadata": {
    "ExecuteTime": {
     "end_time": "2022-05-27T20:01:01.798304Z",
     "start_time": "2022-05-27T20:01:01.784347Z"
    }
   },
   "outputs": [],
   "source": [
    "## world size\n",
    "world_size_x = 128\n",
    "world_size_y = 128\n",
    "\n",
    "rng = default_rng()\n",
    "x = rng.choice(world_size_x, size=nr_individuals, replace=False)\n",
    "y = rng.choice(world_size_y, size=nr_individuals, replace=False)\n"
   ]
  },
  {
   "cell_type": "code",
   "execution_count": 53,
   "id": "688473c6",
   "metadata": {},
   "outputs": [],
   "source": [
    "individuals_sum_dup = sum_duplicated_neurons(individuals)"
   ]
  },
  {
   "cell_type": "markdown",
   "id": "97385a42",
   "metadata": {},
   "source": [
    "## initial brain and position generator"
   ]
  },
  {
   "cell_type": "code",
   "execution_count": 54,
   "id": "8611dba8",
   "metadata": {
    "scrolled": true
   },
   "outputs": [
    {
     "name": "stdout",
     "output_type": "stream",
     "text": [
      "0\n",
      "['in0', 'in1']\n",
      "{'mid0': {'mid2': -2.7630703494582636, 'in0': 3.8327483595299863, 'mid0': 2.7793071875476882}, 'mid1': -0.7302600376663501, 'mid2': {'mid1': 2.3455516557302, 'mid2': 2.635373111551961}, 'out2': {'mid0': -0.04333892873493057, 'mid2': 0.7360292995574546}}\n",
      "{'out1': {'out1': -0.9993175754035977}, 'out2': {'out2': 0.9908517382709082}, 'out0': {'out0': -0.09430069463663865}}\n",
      "\n",
      "1\n",
      "['in0', 'in1', 'in2']\n",
      "{'out0': {'out0': -0.9999860429919202}, 'out1': {'out1': 0.7081702535913587}}\n",
      "\n",
      "2\n",
      "['in0', 'in1', 'in2']\n",
      "{'out1': {'out1': -0.9130485400417707}, 'out0': {'out0': 0.9999947571432442}}\n",
      "\n",
      "3\n",
      "['in0', 'in1', 'in2']\n",
      "{'mid0': {'mid2': 3.014680299099649}, 'mid1': 0.7318514403383639, 'mid2': {'mid1': -3.2010987334045473, 'mid2': -2.885762246299405, 'in1': -3.5873645658477034, 'in0': -2.603265679841294}, 'out2': {'mid0': -0.6823134442240195, 'mid2': 3.2311307797955133}}\n",
      "{'out1': {'out1': 0.9693767017691123}, 'out2': {'out2': 0.9877353444794669}, 'out0': {'out0': -0.17045103720481336}}\n",
      "\n",
      "4\n",
      "['in0', 'in2', 'in1']\n",
      "{'out0': {'out0': -0.07832152111298817}, 'out2': {'out2': 0.9985536892698275}, 'out1': {'out1': -0.8557001537939299}}\n",
      "\n",
      "5\n",
      "['in0', 'in1', 'in2']\n",
      "{'out2': {'out2': 0.8391753109766655}, 'out0': {'out0': 0.9903733556110785}, 'out1': {'out1': 0.2247551256746886}}\n",
      "\n",
      "6\n",
      "['in0', 'in1', 'in2']\n",
      "{'out1': {'out1': -0.9827497558805538}, 'out2': {'out2': -0.999217464628288}, 'out0': {'out0': -0.8982265467807113}}\n",
      "\n",
      "7\n",
      "['in0', 'in1', 'in2']\n",
      "{'mid0': {'in0': 3.683076453532733, 'mid1': 2.572623226003357}, 'mid1': {'mid2': -2.139600183122234, 'in0': -0.6721806806043034}, 'mid2': -0.999946570123526, 'out0': {'mid1': 3.5782084541431405, 'mid0': 1.3732946741950252}}\n",
      "{'mid0': {'in0': 3.683076453532733, 'mid1': 2.572623226003357}, 'mid1': {'mid2': -2.139600183122234, 'in0': -0.6721806806043034}, 'mid2': -0.999946570123526, 'out2': {'in0': -0.7163741797649932, 'mid0': 3.9296810621089575, 'mid1': 0.2704104990080879}}\n",
      "{'out0': {'out0': 0.9999001507200023}, 'out2': {'out2': 0.9981212847026978}, 'out1': {'out1': -0.9987631291481995}}\n",
      "\n",
      "8\n",
      "['in0', 'in1', 'in2']\n",
      "{'out2': {'out2': 0.24098060084630743}, 'out1': {'out1': 0.7932809478332628}}\n",
      "\n",
      "9\n",
      "['in0', 'in1', 'in2']\n",
      "{'out2': {'out2': -0.9880199951489667}}\n",
      "\n",
      "10\n",
      "['in0', 'in1', 'in2']\n",
      "{'out1': {'out1': 0.9999997413714409}, 'out2': {'out2': 0.8310025382329489}, 'out0': {'out0': -0.9290823898275589}}\n",
      "\n",
      "11\n",
      "['in0', 'in1', 'in2']\n",
      "{'out0': {'out0': 0.9999970351597812}, 'out2': {'out2': -0.9997853423585228}, 'out1': {'out1': 0.9999975756086261}}\n",
      "\n",
      "12\n",
      "['in0', 'in2']\n",
      "{'mid0': {'mid2': 0.4420570730962918, 'in0': 2.421486342133374}, 'mid1': 0.9955565563281532, 'mid2': {'in2': 3.346741950251793, 'mid1': -0.10535632534716924}, 'out1': {'mid0': 3.9516557301999082, 'in0': 3.5714939722264614}}\n",
      "{'mid0': {'mid2': 0.4420570730962918, 'in0': 2.421486342133374}, 'mid1': 0.9955565563281532, 'mid2': {'in2': 3.346741950251793, 'mid1': -0.10535632534716924}, 'out2': {'in0': 2.6031435983519, 'mid0': 1.0234091255913322, 'in2': 1.6948573172592705, 'mid1': -1.7584617732336334}}\n",
      "{'out1': {'out1': 0.9999999199142856}, 'out2': {'out2': 0.9999698972371404}, 'out0': {'out0': -0.9927641210523381}}\n",
      "\n",
      "13\n",
      "['in0', 'in2', 'in1']\n",
      "{'out1': {'out1': -0.9992334604330845}, 'out2': {'out2': -0.9996199509040364}, 'out0': {'out0': 0.9635544814476856}}\n",
      "\n",
      "14\n",
      "['in0', 'in1', 'in2']\n",
      "{'out1': {'out1': 0.9999708657677349}, 'out0': {'out0': -0.9815082434586688}}\n",
      "\n",
      "15\n",
      "['in0', 'in1']\n",
      "{'out1': {'out1': 0.38849734240592776}, 'out2': {'out2': -0.48134510774452466}, 'out0': {'out0': 0.940855601661418}}\n",
      "\n",
      "16\n",
      "['in0', 'in2', 'in1']\n",
      "{'out0': {'out0': -0.9774937296782626}, 'out2': {'out2': 0.9984864937874737}, 'out1': {'out1': 0.9688108544671894}}\n",
      "\n",
      "17\n",
      "['in0', 'in1', 'in2']\n",
      "{'out0': {'out0': -0.9999714905513031}, 'out2': {'out2': -0.9796821604828614}, 'out1': {'out1': -0.7654481186367869}}\n",
      "\n",
      "18\n",
      "['in0', 'in1', 'in2']\n",
      "{'mid0': {'mid2': 3.0785289180528004, 'mid0': 1.033175644742866}, 'mid1': 0.9972083348022068, 'mid2': {'mid1': 1.8600335724095833, 'in1': 3.7678010071722876, 'in0': 3.3544330840836256}, 'out0': {'in0': -2.0678162673584617, 'in1': 1.8627193651762552, 'mid0': -2.2043033725011445}}\n",
      "{'out1': {'out1': 0.9999774825008124}, 'out2': {'out2': 0.9634232026280118}, 'out0': {'out0': -0.8874806961183609}}\n",
      "\n",
      "19\n",
      "['in0', 'in1', 'in2']\n",
      "{'out1': {'out1': -0.9998415899378629}, 'out2': {'out2': -0.9849689992184214}, 'out0': {'out0': -0.9942026972239821}}\n",
      "\n"
     ]
    }
   ],
   "source": [
    "initial_dic_of_output_neurons = {}\n",
    "\n",
    "## sum duplicates\n",
    "individuals_sum_dup = sum_duplicated_neurons(individuals)\n",
    "\n",
    "## brain generator\n",
    "for individual in individuals_sum_dup:\n",
    "    \n",
    "    ## init brain neuron generator\n",
    "    print(individual)\n",
    "    ## preprocessing\n",
    "    edges = individuals_sum_dup[individual]\n",
    "    edges = [tuple(edges[i]) for i in edges]\n",
    "    edges_no_weight = [i[:-1] for i in edges]\n",
    "    \n",
    "    G = nx.MultiDiGraph()\n",
    "    G.add_edges_from(edges)\n",
    "    \n",
    "    out_list = list(set([i[1] for i in edges if 'out' in i[1]]))\n",
    "    init_list = list(set([i[0] for i in edges if 'in' in i[0]]))\n",
    "    print(init_list)\n",
    "    # generate dict of paths\n",
    "    dic_of_paths = generate_dict_of_paths(out_list, init_list, G)\n",
    "\n",
    "    lis = filtered_neurons_paths(dic_of_paths)\n",
    "    \n",
    "    dic = append_weight_to_neurons_in_path(lis, edges_no_weight, edges)\n",
    "\n",
    "    initial_dic_of_output_neurons[individual] = dic\n",
    "    print(dic)    \n",
    "        \n",
    "\n",
    "#     print(dic)\n",
    "    print()"
   ]
  },
  {
   "cell_type": "code",
   "execution_count": 37,
   "id": "bbf0066f",
   "metadata": {},
   "outputs": [
    {
     "data": {
      "text/plain": [
       "{'mid0': {'mid0': 1.8478254234701663,\n",
       "  'in1': 1.7749427743018464,\n",
       "  'mid2': -3.906241416145277},\n",
       " 'mid1': -0.9999224478418683,\n",
       " 'mid2': {'in1': -0.07153975278498398, 'mid1': -0.792797192125744},\n",
       " 'out1': {'in1': -3.3650541736609187,\n",
       "  'mid0': 0.92733099343812,\n",
       "  'mid2': -3.8355562337860523}}"
      ]
     },
     "execution_count": 37,
     "metadata": {},
     "output_type": "execute_result"
    }
   ],
   "source": [
    "dic = {'mid0': {'mid0': 1.8478254234701663, 'in1': 1.7749427743018464, 'mid2': -3.906241416145277}, 'mid1': -0.9999224478418683, 'mid2': {'in1': -0.07153975278498398, 'mid1': -0.792797192125744}, 'out1': {'in1': -3.3650541736609187, 'mid0': 0.92733099343812, 'mid2': -3.8355562337860523}}\n",
    "dic"
   ]
  },
  {
   "cell_type": "code",
   "execution_count": null,
   "id": "ca1a2ed5",
   "metadata": {},
   "outputs": [],
   "source": []
  },
  {
   "cell_type": "code",
   "execution_count": 42,
   "id": "c7846eef",
   "metadata": {
    "collapsed": true
   },
   "outputs": [
    {
     "name": "stdout",
     "output_type": "stream",
     "text": [
      "{'in1': -3.3650541736609187, 'mid0': 0.9576568054653422, 'mid2': -0.9997997269485884}\n"
     ]
    },
    {
     "data": {
      "text/plain": [
       "{'mid0': 0.9895169151581463,\n",
       " 'mid1': -0.9999224478418683,\n",
       " 'mid2': -0.7688817184613416,\n",
       " 'out1': -0.9978066917654894}"
      ]
     },
     "execution_count": 42,
     "metadata": {},
     "output_type": "execute_result"
    }
   ],
   "source": [
    "filter_list = ['in0', 'in2', 'in1']\n",
    "def sum_weights(dic, filter_list):\n",
    "    for key in dic:\n",
    "        if 'mid' in key and isinstance(dic[key], dict):\n",
    "            mid_to_update = set(dic[key]).difference(set(filter_list + [key]))\n",
    "            k = 0\n",
    "            for mid_key in mid_to_update:\n",
    "                if isinstance(dic[mid_key], float):\n",
    "                    dic[key][mid_key] = np.tanh(sum([dic[key][mid_key], dic[mid_key]]))\n",
    "                    k+=1\n",
    "            if k == len(mid_to_update):\n",
    "                dic[key] = np.tanh(sum(dic[key].values()))\n",
    "                sum_weights(dic, filter_list)\n",
    "                \n",
    "        elif 'out' in key and isinstance(dic[key], dict):\n",
    "            for mid_key in dic[key]:\n",
    "                if 'mid' in mid_key and isinstance(dic[mid_key], float):\n",
    "                    dic[key][mid_key] = np.tanh(sum([dic[key][mid_key], dic[mid_key]]))\n",
    "            print(dic[key])\n",
    "            dic[key] = np.tanh(sum(dic[key].values()))    \n",
    "\n",
    "sum_weights(dic, filter_list)\n",
    "dic\n"
   ]
  },
  {
   "cell_type": "code",
   "execution_count": 38,
   "id": "756fc572",
   "metadata": {
    "collapsed": true
   },
   "outputs": [
    {
     "data": {
      "text/plain": [
       "{'mid0': {'mid0': 1.8478254234701663,\n",
       "  'in1': 1.7749427743018464,\n",
       "  'mid2': -3.906241416145277},\n",
       " 'mid1': -0.9999224478418683,\n",
       " 'mid2': {'in1': -0.07153975278498398, 'mid1': -0.792797192125744},\n",
       " 'out1': {'in1': -3.3650541736609187,\n",
       "  'mid0': 0.92733099343812,\n",
       "  'mid2': -3.8355562337860523}}"
      ]
     },
     "execution_count": 38,
     "metadata": {},
     "output_type": "execute_result"
    }
   ],
   "source": [
    "dic"
   ]
  },
  {
   "cell_type": "code",
   "execution_count": 44,
   "id": "14d07aed",
   "metadata": {},
   "outputs": [
    {
     "data": {
      "text/plain": [
       "(-3.3650541736609187, 0.9576568054653422, -0.9997997269485884)"
      ]
     },
     "execution_count": 44,
     "metadata": {},
     "output_type": "execute_result"
    }
   ],
   "source": [
    "mid0 = np.tanh(sum([0.9895169151581463, 0.92733099343812]))\n",
    "mid2 = np.tanh(sum([-3.8355562337860523, -0.7688817184613416]))\n",
    "in1 = -3.3650541736609187\n",
    "in1, mid0, mid2"
   ]
  },
  {
   "cell_type": "code",
   "execution_count": 45,
   "id": "a9abfab1",
   "metadata": {},
   "outputs": [
    {
     "data": {
      "text/plain": [
       "-0.9978066917654894"
      ]
     },
     "execution_count": 45,
     "metadata": {},
     "output_type": "execute_result"
    }
   ],
   "source": [
    "np.tanh(sum([mid0, mid2, in1]))"
   ]
  },
  {
   "cell_type": "code",
   "execution_count": null,
   "id": "bbf91b47",
   "metadata": {},
   "outputs": [],
   "source": [
    "dic = {'mid0': {'mid0': 1.8478254234701663, 'in1': 1.7749427743018464, 'mid2': -3.906241416145277}, 'mid1': -0.9999224478418683, 'mid2': {'in1': -0.07153975278498398, 'mid1': -0.792797192125744}, 'out1': {'in1': -3.3650541736609187, 'mid0': 0.92733099343812, 'mid2': -3.8355562337860523}}\n",
    "\n",
    "mid_value = {}\n",
    "\n",
    "for key in dic:\n",
    "#     print(key)\n",
    "    if 'mid' in key and isinstance(dic[key], float):\n",
    "        mid_value[key] = dic[key]\n",
    "\n",
    "    elif 'mid' in key and isinstance(dic[key], dict):\n",
    "        for sub_key in dic[key]:\n",
    "            if sub_key in mid_value:\n",
    "                dic[key][sub_key] += mid_value[sub_key]\n",
    "\n",
    "for key in mid_value:\n",
    "    del dic[key]\n",
    "\n",
    "# dic_list = {}\n",
    "# for key in dic:\n",
    "#     lista = []\n",
    "#     for sub_key in dic[key]:\n",
    "#         if sub_key in dic:\n",
    "#             lista.append(sub_key)\n",
    "#     dic_list[key] = lista\n",
    "    \n",
    "# def sum_weights(dic):\n",
    "#     for key in dic_list:\n",
    "#         if dic_list:\n",
    "#             sum_weights\n",
    "\n",
    "            \n",
    "    \n",
    "\n",
    "dic"
   ]
  },
  {
   "cell_type": "code",
   "execution_count": null,
   "id": "d55d6571",
   "metadata": {},
   "outputs": [],
   "source": [
    "any(dic['mid0']) in dic"
   ]
  },
  {
   "cell_type": "code",
   "execution_count": null,
   "id": "018d783e",
   "metadata": {},
   "outputs": [],
   "source": [
    " np.tanh(sum([-0.9999224478418683, 1.8478254234701663, -0.9530708314545707, 1.7749427743018464]))"
   ]
  },
  {
   "cell_type": "code",
   "execution_count": null,
   "id": "65a25788",
   "metadata": {},
   "outputs": [],
   "source": [
    "out_to_weight(dic)"
   ]
  },
  {
   "cell_type": "code",
   "execution_count": null,
   "id": "cdb656d2",
   "metadata": {},
   "outputs": [],
   "source": [
    "len({'in1': -0.07153975278498398, 'mid1': -0.792797192125744})"
   ]
  },
  {
   "cell_type": "code",
   "execution_count": null,
   "id": "07669b0e",
   "metadata": {
    "scrolled": true
   },
   "outputs": [],
   "source": [
    "dic"
   ]
  },
  {
   "cell_type": "code",
   "execution_count": null,
   "id": "2aff38fc",
   "metadata": {
    "ExecuteTime": {
     "end_time": "2022-05-27T20:01:01.813305Z",
     "start_time": "2022-05-27T20:01:01.799301Z"
    },
    "scrolled": true
   },
   "outputs": [],
   "source": [
    "initial_dic_of_output_neurons = {}\n",
    "\n",
    "## sum duplicates\n",
    "individuals_sum_dup = sum_duplicated_neurons(individuals)\n",
    "\n",
    "## remove self loops\n",
    "individuals_sum_dup_no_self_loop = remove_self_loop(individuals_sum_dup)\n",
    "\n",
    "## brain generator\n",
    "for individual in individuals_sum_dup_no_self_loop:\n",
    "    \n",
    "    ## init brain neuron generator\n",
    "    \n",
    "    ## preprocessing\n",
    "    edges = individuals_sum_dup_no_self_loop[individual]\n",
    "    edges = [tuple(edges[i]) for i in edges]\n",
    "\n",
    "    remove_mid_with_no_predecessor(edges) \n",
    "    dic = weight_sum_preprocessing(edges)\n",
    "\n",
    "    ## calculate weight sum\n",
    "    mid_to_weight(dic)\n",
    "    out_to_weight(dic)\n",
    "       \n",
    "    dic = {k:v for k, v in dic.items() if 'out' in k}    \n",
    "    \n",
    "    initial_dic_of_output_neurons[individual] = {}\n",
    "    initial_dic_of_output_neurons[individual]['output'] = dic\n",
    "    \n",
    "    ## position\n",
    "#     initial_dic_of_output_neurons[individual]['position'] = {}\n",
    "#     initial_dic_of_output_neurons[individual]['position']['x'] = x[individual]\n",
    "#     initial_dic_of_output_neurons[individual]['position']['y'] = y[individual] \n",
    "    \n",
    "    ## position history\n",
    "    initial_dic_of_output_neurons[individual]['history_position'] = [(x[individual], y[individual])]"
   ]
  },
  {
   "cell_type": "code",
   "execution_count": null,
   "id": "37a4e64d",
   "metadata": {
    "ExecuteTime": {
     "end_time": "2022-05-27T20:01:01.829301Z",
     "start_time": "2022-05-27T20:01:01.814301Z"
    }
   },
   "outputs": [],
   "source": [
    "initial_dic_of_output_neurons"
   ]
  },
  {
   "cell_type": "code",
   "execution_count": null,
   "id": "675d302d",
   "metadata": {
    "ExecuteTime": {
     "end_time": "2022-05-27T20:23:03.597160Z",
     "start_time": "2022-05-27T20:23:03.581159Z"
    }
   },
   "outputs": [],
   "source": [
    "a = [(3, 0),(4,1),(5,2)]"
   ]
  },
  {
   "cell_type": "code",
   "execution_count": null,
   "id": "fb0ff57e",
   "metadata": {
    "ExecuteTime": {
     "end_time": "2022-05-27T20:15:26.036428Z",
     "start_time": "2022-05-27T20:15:26.011830Z"
    }
   },
   "outputs": [],
   "source": [
    "def slope_intercept(x1,y1,x2,y2):\n",
    "    a = (y2 - y1) / (x2 - x1)\n",
    "    b = y1 - a * x1     \n",
    "    return a,b\n",
    "\n",
    "print(slope_intercept(3,0,2,1))"
   ]
  },
  {
   "cell_type": "code",
   "execution_count": null,
   "id": "8ca05899",
   "metadata": {
    "ExecuteTime": {
     "end_time": "2022-05-27T20:22:17.197947Z",
     "start_time": "2022-05-27T20:22:17.180390Z"
    }
   },
   "outputs": [],
   "source": [
    "a"
   ]
  },
  {
   "cell_type": "code",
   "execution_count": null,
   "id": "c09bb447",
   "metadata": {
    "ExecuteTime": {
     "end_time": "2022-05-27T20:23:05.833265Z",
     "start_time": "2022-05-27T20:23:05.820276Z"
    }
   },
   "outputs": [],
   "source": [
    "if a[-2][0] == a[-1][0]:\n",
    "    x = a[-1][0]\n",
    "elif a[-2][0] > a[-1][0]:\n",
    "    x = a[-2][0] + 1\n",
    "elif a[-2][0] < a[-1][0]:\n",
    "    x = a[-2][0] - 1\n",
    "print(x)"
   ]
  },
  {
   "cell_type": "code",
   "execution_count": null,
   "id": "91e7bb9d",
   "metadata": {
    "ExecuteTime": {
     "end_time": "2022-05-27T20:22:29.407155Z",
     "start_time": "2022-05-27T20:22:29.397644Z"
    }
   },
   "outputs": [],
   "source": [
    "a[-2][0]"
   ]
  },
  {
   "cell_type": "code",
   "execution_count": null,
   "id": "89c5b605",
   "metadata": {},
   "outputs": [],
   "source": []
  }
 ],
 "metadata": {
  "kernelspec": {
   "display_name": "Python 3 (ipykernel)",
   "language": "python",
   "name": "python3"
  },
  "language_info": {
   "codemirror_mode": {
    "name": "ipython",
    "version": 3
   },
   "file_extension": ".py",
   "mimetype": "text/x-python",
   "name": "python",
   "nbconvert_exporter": "python",
   "pygments_lexer": "ipython3",
   "version": "3.9.12"
  }
 },
 "nbformat": 4,
 "nbformat_minor": 5
}
