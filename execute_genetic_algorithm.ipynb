{
 "cells": [
  {
   "cell_type": "code",
   "execution_count": 1,
   "id": "64e1e30b",
   "metadata": {
    "ExecuteTime": {
     "end_time": "2022-05-29T13:05:39.957027Z",
     "start_time": "2022-05-29T13:05:39.931004Z"
    }
   },
   "outputs": [],
   "source": [
    "from genetic_algorithm import *\n",
    "import re\n",
    "import json\n",
    "import numpy as np\n",
    "from numpy.random import default_rng\n",
    "from collections import Counter\n",
    "import copy\n",
    "import matplotlib.pyplot as plt\n",
    "from itertools import groupby"
   ]
  },
  {
   "cell_type": "markdown",
   "id": "a4aa7361",
   "metadata": {},
   "source": [
    "## hexadecimal generator"
   ]
  },
  {
   "cell_type": "code",
   "execution_count": 2,
   "id": "e85a93ac",
   "metadata": {
    "ExecuteTime": {
     "end_time": "2022-05-27T20:01:01.782792Z",
     "start_time": "2022-05-27T20:01:01.735730Z"
    }
   },
   "outputs": [],
   "source": [
    "nr_of_input = 3\n",
    "nr_of_actions = 3\n",
    "nr_of_inner = 3\n",
    "nr_of_genes = 16\n",
    "nr_individuals = 100\n",
    "\n",
    "individuals = generate_initial_genomes_for_population(nr_individuals, nr_of_genes, nr_of_input, nr_of_actions, nr_of_inner)"
   ]
  },
  {
   "cell_type": "code",
   "execution_count": 3,
   "id": "153d2d10",
   "metadata": {
    "ExecuteTime": {
     "end_time": "2022-05-27T20:01:01.798304Z",
     "start_time": "2022-05-27T20:01:01.784347Z"
    }
   },
   "outputs": [],
   "source": [
    "## world size\n",
    "world_size_x = 128\n",
    "world_size_y = 128\n",
    "\n",
    "rng = default_rng()\n",
    "x = rng.choice(world_size_x, size=nr_individuals, replace=False)\n",
    "y = rng.choice(world_size_y, size=nr_individuals, replace=False)\n"
   ]
  },
  {
   "cell_type": "code",
   "execution_count": 4,
   "id": "688473c6",
   "metadata": {},
   "outputs": [],
   "source": [
    "individuals_sum_dup = sum_duplicated_neurons(individuals)"
   ]
  },
  {
   "cell_type": "markdown",
   "id": "97385a42",
   "metadata": {},
   "source": [
    "## initial brain and position generator"
   ]
  },
  {
   "cell_type": "code",
   "execution_count": 5,
   "id": "8611dba8",
   "metadata": {
    "scrolled": true
   },
   "outputs": [
    {
     "name": "stdout",
     "output_type": "stream",
     "text": [
      "0\n",
      "\n",
      "1\n",
      "{'mid0': {'in1': 3.5745460094613155, 'in2': 3.9926751106363496, 'mid2': 2.5132916221577903}, 'mid1': {'in2': 2.066839615443308, 'in1': 1.7200061040744696, 'mid1': -3.176438272546925, 'mid0': 1.6261254387303525}, 'mid2': {'mid0': 3.391057530901877, 'mid1': 2.2586296352815505, 'in2': 2.1127422554555166}, 'out0': {'in1': 0.5453380131237601, 'mid1': -0.5548603692965054, 'mid2': 2.7310849992369906}}\n",
      "\n",
      "2\n",
      "\n",
      "3\n",
      "\n",
      "4\n",
      "{'mid0': {'in0': -3.089394170608881, 'mid2': -1.5571493972226462}, 'mid1': -0.9990185205018326, 'mid2': {'mid0': -0.46586296352815504, 'in2': -3.2726384861895315}, 'out2': {'mid1': 3.3276972379063023, 'mid0': 2.3129558980619565, 'mid2': -1.26659545246452}}\n",
      "\n",
      "5\n",
      "\n",
      "6\n",
      "\n",
      "7\n",
      "\n",
      "8\n",
      "{'mid0': {'mid0': -2.6490462383641082, 'in2': -1.099710056462689, 'mid2': 0.5635281550434915}, 'mid1': {'mid0': 3.0530138867694188, 'mid2': 3.9139325499771096}, 'mid2': {'in1': 2.2265222035708834, 'mid0': 3.209888600640928}, 'out0': {'in1': 0.25649320921715246, 'mid1': 2.3741187242484356, 'in0': 0.06665649320921715}}\n",
      "{'mid0': -0.9965830912620646, 'mid1': {'mid0': 2.056430795507354, 'mid2': 3.9139325499771096}, 'mid2': {'in1': 2.2265222035708834, 'mid0': 3.209888600640928}, 'out0': {'in1': 0.25649320921715246, 'mid1': 2.3741187242484356, 'in0': 0.06665649320921715}}\n",
      "\n",
      "9\n",
      "\n",
      "10\n",
      "\n",
      "11\n",
      "\n",
      "12\n",
      "{'mid0': {'mid1': 0.7100259423164963, 'mid2': -3.7298336639707004}, 'mid1': {'mid0': 1.3275141156722112, 'in0': 1.3868457195177781}, 'mid2': {'in1': 2.4647031893789104, 'in2': -1.950007630093087, 'mid1': -1.096902182206623}, 'out0': {'mid0': 3.4937280634823744, 'mid1': 2.5169540668396153, 'in0': 1.2200824050053412}}\n",
      "{'mid0': {'mid1': 0.7100259423164963, 'mid2': -3.7298336639707004}, 'mid1': {'mid0': 1.3275141156722112, 'in0': 1.3868457195177781}, 'mid2': {'in1': 2.4647031893789104, 'in2': -1.950007630093087, 'mid1': -1.096902182206623}, 'out0': {'mid0': 3.4937280634823744, 'mid1': 2.5169540668396153, 'in0': 1.2200824050053412}}\n",
      "\n",
      "13\n",
      "\n",
      "14\n",
      "\n",
      "15\n",
      "\n",
      "16\n",
      "\n",
      "17\n",
      "\n",
      "18\n",
      "\n",
      "19\n",
      "\n",
      "20\n",
      "\n",
      "21\n",
      "\n",
      "22\n",
      "{'mid0': -0.9959554001792897, 'mid1': {'mid2': -3.576255150312834}, 'mid2': {'in0': -3.924431558065008, 'mid2': 0.7953609034030216, 'in1': -2.14826796886922, 'mid0': -2.755745460094613}, 'out0': {'mid1': 1.82890279261407, 'in0': -3.701632839920647, 'mid2': -1.9988402258507554}}\n",
      "{'mid0': -0.9959554001792897, 'mid1': {'mid2': -3.576255150312834}, 'mid2': {'in0': -3.924431558065008, 'mid2': 0.7953609034030216, 'in1': -2.14826796886922, 'mid0': -2.755745460094613}, 'out2': {'mid1': 0.5291011750343354, 'in0': 0.21864794750495956, 'mid0': 2.8817335571493974}}\n",
      "\n",
      "23\n",
      "{'mid0': {'mid1': -2.3554402563711276, 'in2': -1.1297421028536547}, 'mid1': {'in2': -0.5236075080115977, 'in0': -0.46134594842057075, 'mid2': 0.7307797955135052}, 'mid2': -0.5935750778703606, 'out1': {'mid0': 1.9575766824355256, 'in0': 1.1774759652067754}}\n",
      "\n",
      "24\n",
      "{'mid0': {'mid1': 2.6085151838852436, 'in2': 2.3489699374332367}, 'mid1': {'in2': -2.786265832443156, 'in0': 0.7738745612696475, 'mid2': 1.0728521287959714}, 'mid2': -0.4272966213870889, 'out2': {'mid2': 3.6416908286281093, 'in1': -2.7352357698763923, 'mid0': 1.7021822066229209}}\n",
      "\n",
      "25\n",
      "\n",
      "26\n",
      "\n",
      "27\n",
      "\n",
      "28\n",
      "\n",
      "29\n",
      "{'mid0': {'mid1': 3.285212879597131, 'in2': 2.667602624752022}, 'mid1': {'in0': 0.5941706088814284, 'mid2': -1.3314207233328246}, 'mid2': {'in0': -3.91539752784984, 'mid0': 2.8504806958644897, 'in2': -3.61947199755837}, 'out2': {'mid1': 0.15455516557302, 'mid2': -0.9244010376926598, 'in2': 1.913383183274836}}\n",
      "{'mid0': 0.9999864955403198, 'mid1': {'in0': 0.5941706088814284, 'mid2': -1.3314207233328246}, 'mid2': {'in0': -3.91539752784984, 'mid0': 2.8504806958644897, 'in2': -3.61947199755837}, 'out2': {'mid1': 0.15455516557302, 'mid2': -0.9244010376926598, 'in2': 1.913383183274836}}\n",
      "\n",
      "30\n",
      "\n",
      "31\n",
      "\n",
      "32\n",
      "\n",
      "33\n",
      "{'mid1': {'in0': 2.4396764840531056, 'mid2': 2.6751716770944607}, 'mid2': {'in0': -1.8915305966732794, 'mid1': -2.632687318785289}, 'out1': {'mid1': -2.005798870746223, 'mid2': 1.7617579734472761}}\n",
      "\n",
      "34\n",
      "\n",
      "35\n",
      "\n",
      "36\n",
      "\n",
      "37\n",
      "\n",
      "38\n",
      "\n",
      "39\n",
      "{'mid0': {'in1': -2.7816267358461775, 'mid1': 1.346767010543224, 'mid2': 1.3626735846177322}, 'mid1': 0.963309052356134, 'mid2': {'mid1': -3.3959407904776437}, 'out0': {'in1': -0.9677399664275904, 'mid0': 0.22047916984587212, 'in0': -1.287227224172135}}\n",
      "\n",
      "40\n",
      "\n",
      "41\n",
      "{'mid0': {'mid0': -1.969906912864337, 'mid2': -3.594323210743171}, 'mid1': -0.04318996202146033, 'mid2': {'mid1': -3.0201739661223868}, 'out1': {'mid1': -3.0030825576072027, 'mid0': 1.0744391881580955}}\n",
      "\n",
      "42\n",
      "\n",
      "43\n",
      "{'mid0': 0.9999663854621268, 'mid1': {'mid0': 2.3564138141207565, 'in0': 3.800274683351137, 'mid2': -2.6345185411262015, 'in1': 0.17994811536700747}, 'mid2': {'mid0': -1.3944147718602167, 'in2': -0.0034182817030367772}, 'out1': {'mid1': 0.8789867236380284}}\n",
      "\n",
      "44\n",
      "\n",
      "45\n",
      "\n",
      "46\n",
      "\n",
      "47\n",
      "{'mid0': {'mid1': -1.16388799902226, 'in2': -2.7668548756294826, 'mid2': 0.4132458415992675}, 'mid1': -0.9683134530127986, 'mid2': {'in1': 0.043461010224324734, 'mid0': -2.7701510758431254}, 'out0': {'in1': -3.176926598504502, 'mid0': -0.32998626583244317, 'in2': 3.788188615901114, 'mid1': -3.289485731725927, 'mid2': -1.3586448954677246}}\n",
      "\n",
      "48\n",
      "\n",
      "49\n",
      "{'mid0': {'mid1': -0.10767587364565848, 'in2': -1.4920799633755533}, 'mid1': {'in2': 2.9664581107889516, 'mid1': 3.1360292995574546, 'mid0': 2.474469708530444}, 'mid2': 0.42279548047835946, 'out0': {'mid0': 3.6259423164962614, 'in2': 3.159957271478712, 'mid1': -0.41922783457958185, 'mid2': -3.5230276209369755}}\n",
      "\n",
      "50\n",
      "\n",
      "51\n",
      "\n",
      "52\n",
      "\n",
      "53\n",
      "\n",
      "54\n",
      "\n",
      "55\n",
      "\n",
      "56\n",
      "{'mid0': {'mid0': -2.5856859453685335, 'mid2': -2.3016023195482984}, 'mid1': 0.9956908853986832, 'mid2': {'mid1': -2.55309018770029}, 'out1': {'in1': 1.417610254845109, 'mid1': 3.6420570730962916, 'mid0': 1.4477643827254691}}\n",
      "{'mid0': {'mid0': -2.5856859453685335, 'mid2': -2.3016023195482984}, 'mid1': 0.9956908853986832, 'mid2': {'mid1': -2.55309018770029}, 'out0': {'mid0': -1.0606439798565543, 'mid1': 2.8267968869220206}}\n",
      "\n",
      "57\n",
      "\n",
      "58\n",
      "\n",
      "59\n",
      "\n",
      "60\n",
      "\n",
      "61\n",
      "\n",
      "62\n",
      "\n",
      "63\n",
      "\n",
      "64\n",
      "\n",
      "65\n",
      "\n",
      "66\n",
      "\n",
      "67\n",
      "{'mid0': -0.9761564806852768, 'mid1': {'in2': 0.021120097665191514, 'mid0': -3.051297637407389, 'mid2': -0.3641690828628109}, 'mid2': {'mid2': 2.056462688844804, 'in1': -0.8394323210743171, 'mid0': -2.720585991149092}, 'out2': {'mid1': 3.874744391881581}}\n",
      "\n",
      "68\n",
      "\n",
      "69\n",
      "\n",
      "70\n",
      "\n",
      "71\n",
      "\n",
      "72\n",
      "\n",
      "73\n",
      "\n",
      "74\n",
      "\n",
      "75\n",
      "\n",
      "76\n",
      "{'mid0': {'in0': 3.9919426216999847, 'mid1': -2.5495203777600386, 'mid0': 1.686677857469861, 'mid2': 2.635617274530749}, 'mid1': -0.9978646475601299, 'mid2': {'mid2': -2.106149855028231, 'in2': -2.1866015565389896, 'mid1': -0.6436136120860675}, 'out1': {'mid0': 3.198046696169693}}\n",
      "{'mid0': {'in0': 3.9919426216999847, 'mid0': 1.686677857469861, 'mid1': -2.5495203777600386, 'mid2': 2.635617274530749}, 'mid1': -0.9978646475601299, 'mid2': {'mid2': -2.106149855028231, 'in2': -2.1866015565389896, 'mid1': -0.6436136120860675}, 'out0': {'in1': 3.30743171066687, 'mid0': 0.9821455821761026, 'mid1': 3.0240805737830003, 'in0': 3.276423012360751, 'mid2': 0.7750953761635891}}\n",
      "\n",
      "77\n",
      "{'mid0': 0.8529055107223927, 'mid1': {'mid1': 2.1127422554555166, 'mid0': 3.067097483864465, 'mid2': -1.0328094002746833, 'in1': 3.7305661529070653}, 'mid2': {'in1': -3.90282313444224, 'mid0': -3.7212879597131083}, 'out1': {'in1': 3.889150007630093, 'mid1': 1.270868304593316, 'mid0': -3.09549824507859, 'mid2': -2.058049748206928}}\n",
      "\n",
      "78\n",
      "\n",
      "79\n",
      "\n",
      "80\n",
      "\n",
      "81\n",
      "\n",
      "82\n",
      "\n",
      "83\n",
      "\n",
      "84\n",
      "\n",
      "85\n",
      "\n",
      "86\n",
      "{'mid0': 0.4376183915104922, 'mid1': {'mid2': -3.900625667633145}, 'mid2': {'in1': 2.4040286891500076, 'mid0': 3.8129711582481307}, 'out1': {'mid1': 2.9585228139783304, 'in0': -1.6184343048985197}}\n",
      "\n",
      "87\n",
      "\n",
      "88\n",
      "\n",
      "89\n",
      "\n",
      "90\n",
      "\n",
      "91\n",
      "{'mid0': {'in0': 3.8149244620784373, 'mid1': 3.408881428353426, 'mid2': 3.3903250419655118}, 'mid1': {'in2': -3.7464367465283077, 'mid2': -0.4645200671448192}, 'mid2': 0.7315678444515152, 'out2': {'mid1': 3.182664428506028, 'mid2': 2.3216236838089426, 'mid0': -2.077949030978178}}\n",
      "\n",
      "92\n",
      "{'mid0': {'in1': 1.6456584770334197, 'in2': -2.21822066229208, 'mid2': -3.852037234854265}, 'mid1': 0.9951634513155608, 'mid2': {'in0': 3.2023195482984894, 'mid1': 3.7657256218525865, 'in2': 3.4718754768808178}, 'out1': {'in0': 2.393285518083321, 'mid0': 1.281489394170609}}\n",
      "{'mid0': {'in1': 1.6456584770334197, 'in2': -2.21822066229208, 'mid2': -3.852037234854265}, 'mid1': {'mid1': -0.6353120708072638, 'mid0': 1.114115672211201, 'in0': 3.646452006714482}, 'mid2': {'in0': 3.2023195482984894, 'mid1': 3.7657256218525865, 'in2': 3.4718754768808178}, 'out0': {'mid0': 2.3831527544636044, 'mid1': -1.5529986265832443}}\n",
      "\n",
      "93\n",
      "{'mid0': {'in0': 3.062047916984587, 'mid1': -2.4903701244668426, 'in2': 0.6188310697390508, 'mid2': 3.1694796276514574}, 'mid1': 0.968442633048799, 'mid2': {'mid2': -2.3623989012665954, 'mid1': 2.7710056462688843}, 'out1': {'in1': -3.717381352052495, 'mid0': -3.992797192125744, 'in2': 1.6971768655577597}}\n",
      "{'mid0': {'in0': 3.062047916984587, 'mid1': -2.4903701244668426, 'in2': 0.6188310697390508, 'mid2': 3.1694796276514574}, 'mid1': 0.968442633048799, 'mid2': {'mid2': -2.3623989012665954, 'mid1': 2.7710056462688843}, 'out0': {'mid0': 2.93215321226919, 'in2': 0.11365786662597284, 'mid2': -0.9107279108805127}}\n",
      "\n",
      "94\n",
      "\n",
      "95\n",
      "{'mid0': {'in1': 3.333679230886617, 'mid0': 1.5648405310544788, 'mid2': -3.787944452922326}, 'mid1': -0.9999995768112618, 'mid2': {'in1': 0.21999084388829543, 'mid1': 0.37283686860979703}, 'out0': {'mid0': 0.5767129558980619, 'mid2': 2.3987791851060583}}\n",
      "\n",
      "96\n",
      "{'mid0': {'mid1': -1.747298334409933, 'mid2': -1.0278040592095223}, 'mid1': 0.503151841082208, 'mid2': {'mid0': 1.686555775980467, 'mid1': 3.462597283686861}, 'out1': {'in1': 1.8949488783763162, 'mid0': -3.1550740119029452, 'mid2': 3.4679688692202046}}\n",
      "{'mid0': {'mid1': -1.747298334409933, 'mid2': -1.0278040592095223}, 'mid1': 0.503151841082208, 'mid2': {'mid0': 1.686555775980467, 'mid1': 3.462597283686861}, 'out0': {'mid0': 3.044590264001221, 'in2': 0.16737372195940792, 'mid1': -2.4540820998016177, 'mid2': -2.593987486647337}}\n",
      "\n",
      "97\n",
      "\n",
      "98\n",
      "{'mid0': {'in0': -0.0010987334045475354, 'mid1': 3.40735427935529, 'mid0': -1.8025331909049291, 'mid2': 0.5068823439645964}, 'mid1': 0.41635778919810984, 'mid2': {'in0': -3.906363497634671, 'mid1': 3.59078284755074}, 'out1': {'mid1': -3.3241568747138714, 'mid0': -3.9683808942469097, 'in0': 1.5243094765756142}}\n",
      "\n",
      "99\n",
      "\n"
     ]
    }
   ],
   "source": [
    "initial_dic_of_output_neurons = {}\n",
    "\n",
    "## sum duplicates\n",
    "individuals_sum_dup = sum_duplicated_neurons(individuals)\n",
    "\n",
    "## brain generator\n",
    "for individual in individuals_sum_dup:\n",
    "    \n",
    "    ## init brain neuron generator\n",
    "    print(individual)\n",
    "    ## preprocessing\n",
    "    edges = individuals_sum_dup[individual]\n",
    "    edges = [tuple(edges[i]) for i in edges]\n",
    "    edges_no_weight = [i[:-1] for i in edges]\n",
    "    \n",
    "    G = nx.MultiDiGraph()\n",
    "    G.add_edges_from(edges)\n",
    "    \n",
    "    out_list = list(set([i[1] for i in edges if 'out' in i[1]]))\n",
    "    init_list = list(set([i[0] for i in edges if 'in' in i[0]]))\n",
    "\n",
    "    # generate dict of paths\n",
    "    dic_of_paths = generate_dict_of_paths(out_list, init_list, G)\n",
    "\n",
    "    lis = filtered_neurons_paths(dic_of_paths)\n",
    "    \n",
    "    dic = append_weight_to_neurons_in_path(lis, edges_no_weight, edges)\n",
    "\n",
    "    initial_dic_of_output_neurons[individual] = dic\n",
    "        \n",
    "        \n",
    "\n",
    "#     print(dic)\n",
    "    print()"
   ]
  },
  {
   "cell_type": "code",
   "execution_count": 51,
   "id": "b098d473",
   "metadata": {},
   "outputs": [
    {
     "data": {
      "text/plain": [
       "{'mid0': {'mid0': 1.8478254234701663,\n",
       "  'in1': 1.7749427743018464,\n",
       "  'mid2': -3.906241416145277},\n",
       " 'mid1': -0.9999224478418683,\n",
       " 'mid2': {'in1': -0.07153975278498398, 'mid1': -0.792797192125744},\n",
       " 'out1': {'in1': -3.3650541736609187,\n",
       "  'mid0': 0.92733099343812,\n",
       "  'mid2': -3.8355562337860523}}"
      ]
     },
     "execution_count": 51,
     "metadata": {},
     "output_type": "execute_result"
    }
   ],
   "source": [
    "dic = {'mid0': {'mid0': 1.8478254234701663, 'in1': 1.7749427743018464, 'mid2': -3.906241416145277}, 'mid1': -0.9999224478418683, 'mid2': {'in1': -0.07153975278498398, 'mid1': -0.792797192125744}, 'out1': {'in1': -3.3650541736609187, 'mid0': 0.92733099343812, 'mid2': -3.8355562337860523}}\n",
    "dic"
   ]
  },
  {
   "cell_type": "code",
   "execution_count": 78,
   "id": "b58f578a",
   "metadata": {},
   "outputs": [
    {
     "name": "stdout",
     "output_type": "stream",
     "text": [
      "mid0\n",
      "mid1\n",
      "mid2\n",
      "out1\n"
     ]
    },
    {
     "data": {
      "text/plain": [
       "{'mid0': {'mid0': 1.8478254234701663,\n",
       "  'in1': 1.7749427743018464,\n",
       "  'mid2': -3.906241416145277},\n",
       " 'mid2': {'in1': -0.07153975278498398, 'mid1': -1.7927196399676122},\n",
       " 'out1': {'in1': -3.3650541736609187,\n",
       "  'mid0': 0.92733099343812,\n",
       "  'mid2': -3.8355562337860523}}"
      ]
     },
     "execution_count": 78,
     "metadata": {},
     "output_type": "execute_result"
    }
   ],
   "source": [
    "dic = {'mid0': {'mid0': 1.8478254234701663, 'in1': 1.7749427743018464, 'mid2': -3.906241416145277}, 'mid1': -0.9999224478418683, 'mid2': {'in1': -0.07153975278498398, 'mid1': -0.792797192125744}, 'out1': {'in1': -3.3650541736609187, 'mid0': 0.92733099343812, 'mid2': -3.8355562337860523}}\n",
    "\n",
    "mid_value = {}\n",
    "\n",
    "for key in dic:\n",
    "    print(key)\n",
    "    if 'mid' in key and isinstance(dic[key], float):\n",
    "        mid_value[key] = dic[key]\n",
    "\n",
    "    elif 'mid' in key and isinstance(dic[key], dict):\n",
    "        for sub_key in dic[key]:\n",
    "            if sub_key in mid_value:\n",
    "                dic[key][sub_key] += mid_value[sub_key]\n",
    "\n",
    "for key in mid_value:\n",
    "    del dic[key]\n",
    "\n",
    "    \n",
    "    \n",
    "lista = {}    \n",
    "for key in dic:\n",
    "    lista = {}\n",
    "    for sub_key in dic[key] \n",
    "        if sub_key in dic:\n",
    "            \n",
    "            lista.append(sub_key)\n",
    "\n",
    "        \n",
    "    \n",
    "# def out_to_weight_new(dic, mid_value):\n",
    "    \n",
    "#             if_no_mid = set(dic[key]).difference(set(mid_value.keys()))\n",
    "#             print(if_no_mid)\n",
    "# #             if key in if_no_mid:\n",
    "# #                 if_no_mid.remove(key)\n",
    "#             only = [i for i in if_no_mid if 'in' not in i]\n",
    "#             print(if_no_mid_sel)\n",
    "                    \n",
    "\n",
    "#                 print('elif', if_no_mid, key, dic[key])\n",
    "#                 dic[key] = np.tanh(sum(dic[key].values()))\n",
    "#                 out_to_weight_new(dic, mid_value)\n",
    "                        \n",
    "                        \n",
    "                        \n",
    "                    \n",
    "# out_to_weight_new(dic, mid_value)\n",
    "dic"
   ]
  },
  {
   "cell_type": "code",
   "execution_count": 72,
   "id": "ea10ac35",
   "metadata": {},
   "outputs": [
    {
     "data": {
      "text/plain": [
       "{'in1', 'mid0'}"
      ]
     },
     "execution_count": 72,
     "metadata": {},
     "output_type": "execute_result"
    }
   ],
   "source": [
    "d = {'mid2', 'mid0', 'in1'}\n",
    "d.remove('mid2')\n",
    "d"
   ]
  },
  {
   "cell_type": "code",
   "execution_count": 54,
   "id": "ad9b2829",
   "metadata": {},
   "outputs": [
    {
     "data": {
      "text/plain": [
       "0.9315219200181031"
      ]
     },
     "execution_count": 54,
     "metadata": {},
     "output_type": "execute_result"
    }
   ],
   "source": [
    " np.tanh(sum([-0.9999224478418683, 1.8478254234701663, -0.9530708314545707, 1.7749427743018464]))"
   ]
  },
  {
   "cell_type": "code",
   "execution_count": 16,
   "id": "17591231",
   "metadata": {},
   "outputs": [
    {
     "ename": "TypeError",
     "evalue": "object of type 'float' has no len()",
     "output_type": "error",
     "traceback": [
      "\u001b[1;31m---------------------------------------------------------------------------\u001b[0m",
      "\u001b[1;31mTypeError\u001b[0m                                 Traceback (most recent call last)",
      "Input \u001b[1;32mIn [16]\u001b[0m, in \u001b[0;36m<cell line: 1>\u001b[1;34m()\u001b[0m\n\u001b[1;32m----> 1\u001b[0m \u001b[43mout_to_weight\u001b[49m\u001b[43m(\u001b[49m\u001b[43mdic\u001b[49m\u001b[43m)\u001b[49m\n",
      "Input \u001b[1;32mIn [7]\u001b[0m, in \u001b[0;36mout_to_weight\u001b[1;34m(dic)\u001b[0m\n\u001b[0;32m      8\u001b[0m             dic[key][sub_key] \u001b[38;5;241m+\u001b[39m\u001b[38;5;241m=\u001b[39m dic[sub_key]\n\u001b[0;32m     12\u001b[0m     dic[key] \u001b[38;5;241m=\u001b[39m np\u001b[38;5;241m.\u001b[39mtanh(\u001b[38;5;28msum\u001b[39m(dic[key]\u001b[38;5;241m.\u001b[39mvalues()))\n\u001b[1;32m---> 13\u001b[0m     \u001b[43mout_to_weight\u001b[49m\u001b[43m(\u001b[49m\u001b[43mdic\u001b[49m\u001b[43m)\u001b[49m\n\u001b[0;32m     15\u001b[0m \u001b[38;5;28;01melif\u001b[39;00m \u001b[38;5;124m'\u001b[39m\u001b[38;5;124mout\u001b[39m\u001b[38;5;124m'\u001b[39m \u001b[38;5;129;01min\u001b[39;00m key \u001b[38;5;129;01mand\u001b[39;00m \u001b[38;5;28misinstance\u001b[39m(dic[key], \u001b[38;5;28mdict\u001b[39m):\n\u001b[0;32m     16\u001b[0m     \u001b[38;5;28;01mfor\u001b[39;00m sub_key \u001b[38;5;129;01min\u001b[39;00m dic[key]:\n",
      "Input \u001b[1;32mIn [7]\u001b[0m, in \u001b[0;36mout_to_weight\u001b[1;34m(dic)\u001b[0m\n\u001b[0;32m      5\u001b[0m \u001b[38;5;28;01mif\u001b[39;00m \u001b[38;5;124m'\u001b[39m\u001b[38;5;124mmid\u001b[39m\u001b[38;5;124m'\u001b[39m \u001b[38;5;129;01min\u001b[39;00m key \u001b[38;5;129;01mand\u001b[39;00m \u001b[38;5;28misinstance\u001b[39m(dic[key], \u001b[38;5;28mdict\u001b[39m):\n\u001b[0;32m      6\u001b[0m     \u001b[38;5;28;01mfor\u001b[39;00m sub_key \u001b[38;5;129;01min\u001b[39;00m dic[key]:\n\u001b[1;32m----> 7\u001b[0m         \u001b[38;5;28;01mif\u001b[39;00m \u001b[38;5;124m'\u001b[39m\u001b[38;5;124mmid\u001b[39m\u001b[38;5;124m'\u001b[39m \u001b[38;5;129;01min\u001b[39;00m sub_key \u001b[38;5;129;01mand\u001b[39;00m sub_key\u001b[38;5;241m!=\u001b[39mkey \u001b[38;5;129;01mand\u001b[39;00m \u001b[38;5;28;43mlen\u001b[39;49m\u001b[43m(\u001b[49m\u001b[43mdic\u001b[49m\u001b[43m[\u001b[49m\u001b[43msub_key\u001b[49m\u001b[43m]\u001b[49m\u001b[43m)\u001b[49m\u001b[38;5;241m==\u001b[39m\u001b[38;5;241m1\u001b[39m:\n\u001b[0;32m      8\u001b[0m             dic[key][sub_key] \u001b[38;5;241m+\u001b[39m\u001b[38;5;241m=\u001b[39m dic[sub_key]\n\u001b[0;32m     12\u001b[0m     dic[key] \u001b[38;5;241m=\u001b[39m np\u001b[38;5;241m.\u001b[39mtanh(\u001b[38;5;28msum\u001b[39m(dic[key]\u001b[38;5;241m.\u001b[39mvalues()))\n",
      "\u001b[1;31mTypeError\u001b[0m: object of type 'float' has no len()"
     ]
    }
   ],
   "source": [
    "out_to_weight(dic)"
   ]
  },
  {
   "cell_type": "code",
   "execution_count": null,
   "id": "2aef05c0",
   "metadata": {},
   "outputs": [],
   "source": [
    "len({'in1': -0.07153975278498398, 'mid1': -0.792797192125744})"
   ]
  },
  {
   "cell_type": "code",
   "execution_count": null,
   "id": "07669b0e",
   "metadata": {
    "scrolled": true
   },
   "outputs": [],
   "source": [
    "dic"
   ]
  },
  {
   "cell_type": "code",
   "execution_count": null,
   "id": "2aff38fc",
   "metadata": {
    "ExecuteTime": {
     "end_time": "2022-05-27T20:01:01.813305Z",
     "start_time": "2022-05-27T20:01:01.799301Z"
    },
    "scrolled": true
   },
   "outputs": [],
   "source": [
    "initial_dic_of_output_neurons = {}\n",
    "\n",
    "## sum duplicates\n",
    "individuals_sum_dup = sum_duplicated_neurons(individuals)\n",
    "\n",
    "## remove self loops\n",
    "individuals_sum_dup_no_self_loop = remove_self_loop(individuals_sum_dup)\n",
    "\n",
    "## brain generator\n",
    "for individual in individuals_sum_dup_no_self_loop:\n",
    "    \n",
    "    ## init brain neuron generator\n",
    "    \n",
    "    ## preprocessing\n",
    "    edges = individuals_sum_dup_no_self_loop[individual]\n",
    "    edges = [tuple(edges[i]) for i in edges]\n",
    "\n",
    "    remove_mid_with_no_predecessor(edges) \n",
    "    dic = weight_sum_preprocessing(edges)\n",
    "\n",
    "    ## calculate weight sum\n",
    "    mid_to_weight(dic)\n",
    "    out_to_weight(dic)\n",
    "       \n",
    "    dic = {k:v for k, v in dic.items() if 'out' in k}    \n",
    "    \n",
    "    initial_dic_of_output_neurons[individual] = {}\n",
    "    initial_dic_of_output_neurons[individual]['output'] = dic\n",
    "    \n",
    "    ## position\n",
    "#     initial_dic_of_output_neurons[individual]['position'] = {}\n",
    "#     initial_dic_of_output_neurons[individual]['position']['x'] = x[individual]\n",
    "#     initial_dic_of_output_neurons[individual]['position']['y'] = y[individual] \n",
    "    \n",
    "    ## position history\n",
    "    initial_dic_of_output_neurons[individual]['history_position'] = [(x[individual], y[individual])]"
   ]
  },
  {
   "cell_type": "code",
   "execution_count": null,
   "id": "37a4e64d",
   "metadata": {
    "ExecuteTime": {
     "end_time": "2022-05-27T20:01:01.829301Z",
     "start_time": "2022-05-27T20:01:01.814301Z"
    }
   },
   "outputs": [],
   "source": [
    "initial_dic_of_output_neurons"
   ]
  },
  {
   "cell_type": "code",
   "execution_count": null,
   "id": "675d302d",
   "metadata": {
    "ExecuteTime": {
     "end_time": "2022-05-27T20:23:03.597160Z",
     "start_time": "2022-05-27T20:23:03.581159Z"
    }
   },
   "outputs": [],
   "source": [
    "a = [(3, 0),(4,1),(5,2)]"
   ]
  },
  {
   "cell_type": "code",
   "execution_count": null,
   "id": "fb0ff57e",
   "metadata": {
    "ExecuteTime": {
     "end_time": "2022-05-27T20:15:26.036428Z",
     "start_time": "2022-05-27T20:15:26.011830Z"
    }
   },
   "outputs": [],
   "source": [
    "def slope_intercept(x1,y1,x2,y2):\n",
    "    a = (y2 - y1) / (x2 - x1)\n",
    "    b = y1 - a * x1     \n",
    "    return a,b\n",
    "\n",
    "print(slope_intercept(3,0,2,1))"
   ]
  },
  {
   "cell_type": "code",
   "execution_count": null,
   "id": "8ca05899",
   "metadata": {
    "ExecuteTime": {
     "end_time": "2022-05-27T20:22:17.197947Z",
     "start_time": "2022-05-27T20:22:17.180390Z"
    }
   },
   "outputs": [],
   "source": [
    "a"
   ]
  },
  {
   "cell_type": "code",
   "execution_count": null,
   "id": "c09bb447",
   "metadata": {
    "ExecuteTime": {
     "end_time": "2022-05-27T20:23:05.833265Z",
     "start_time": "2022-05-27T20:23:05.820276Z"
    }
   },
   "outputs": [],
   "source": [
    "if a[-2][0] == a[-1][0]:\n",
    "    x = a[-1][0]\n",
    "elif a[-2][0] > a[-1][0]:\n",
    "    x = a[-2][0] + 1\n",
    "elif a[-2][0] < a[-1][0]:\n",
    "    x = a[-2][0] - 1\n",
    "print(x)"
   ]
  },
  {
   "cell_type": "code",
   "execution_count": null,
   "id": "91e7bb9d",
   "metadata": {
    "ExecuteTime": {
     "end_time": "2022-05-27T20:22:29.407155Z",
     "start_time": "2022-05-27T20:22:29.397644Z"
    }
   },
   "outputs": [],
   "source": [
    "a[-2][0]"
   ]
  },
  {
   "cell_type": "code",
   "execution_count": null,
   "id": "89c5b605",
   "metadata": {},
   "outputs": [],
   "source": []
  }
 ],
 "metadata": {
  "kernelspec": {
   "display_name": "Python 3 (ipykernel)",
   "language": "python",
   "name": "python3"
  },
  "language_info": {
   "codemirror_mode": {
    "name": "ipython",
    "version": 3
   },
   "file_extension": ".py",
   "mimetype": "text/x-python",
   "name": "python",
   "nbconvert_exporter": "python",
   "pygments_lexer": "ipython3",
   "version": "3.9.12"
  }
 },
 "nbformat": 4,
 "nbformat_minor": 5
}
