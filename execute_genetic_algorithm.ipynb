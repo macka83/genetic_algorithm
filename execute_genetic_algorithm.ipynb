{
 "cells": [
  {
   "cell_type": "code",
   "execution_count": 13,
   "id": "64e1e30b",
   "metadata": {
    "ExecuteTime": {
     "end_time": "2022-05-29T13:05:39.957027Z",
     "start_time": "2022-05-29T13:05:39.931004Z"
    }
   },
   "outputs": [],
   "source": [
    "from genetic_algorithm import *\n",
    "import re\n",
    "import json\n",
    "import numpy as np\n",
    "from numpy.random import default_rng\n",
    "from collections import Counter\n",
    "import copy\n",
    "import matplotlib.pyplot as plt\n",
    "from itertools import groupby"
   ]
  },
  {
   "cell_type": "markdown",
   "id": "a4aa7361",
   "metadata": {},
   "source": [
    "## hexadecimal generator"
   ]
  },
  {
   "cell_type": "code",
   "execution_count": 14,
   "id": "e85a93ac",
   "metadata": {
    "ExecuteTime": {
     "end_time": "2022-05-27T20:01:01.782792Z",
     "start_time": "2022-05-27T20:01:01.735730Z"
    }
   },
   "outputs": [],
   "source": [
    "nr_of_input = 3\n",
    "nr_of_actions = 3\n",
    "nr_of_inner = 3\n",
    "nr_of_genes = 16\n",
    "nr_individuals = 100\n",
    "\n",
    "individuals = generate_initial_genomes_for_population(nr_individuals, nr_of_genes, nr_of_input, nr_of_actions, nr_of_inner)"
   ]
  },
  {
   "cell_type": "code",
   "execution_count": 15,
   "id": "153d2d10",
   "metadata": {
    "ExecuteTime": {
     "end_time": "2022-05-27T20:01:01.798304Z",
     "start_time": "2022-05-27T20:01:01.784347Z"
    }
   },
   "outputs": [],
   "source": [
    "## world size\n",
    "world_size_x = 128\n",
    "world_size_y = 128\n",
    "\n",
    "rng = default_rng()\n",
    "x = rng.choice(world_size_x, size=nr_individuals, replace=False)\n",
    "y = rng.choice(world_size_y, size=nr_individuals, replace=False)\n"
   ]
  },
  {
   "cell_type": "code",
   "execution_count": 16,
   "id": "688473c6",
   "metadata": {},
   "outputs": [],
   "source": [
    "individuals_sum_dup = sum_duplicated_neurons(individuals)"
   ]
  },
  {
   "cell_type": "markdown",
   "id": "97385a42",
   "metadata": {},
   "source": [
    "## initial brain and position generator"
   ]
  },
  {
   "cell_type": "code",
   "execution_count": 17,
   "id": "8611dba8",
   "metadata": {
    "scrolled": true
   },
   "outputs": [
    {
     "name": "stdout",
     "output_type": "stream",
     "text": [
      "0\n",
      "\n",
      "1\n",
      "{'mid0': {'in2': 3.1479932855180834, 'in0': -1.0909201892263085, 'mid2': -0.07068518235922479}, 'mid2': {'mid0': 3.5739356020143447, 'in0': 0.6481306271936518}, 'out0': {'mid0': -2.4526171219288875, 'mid2': -2.9312986418434304}}\n",
      "\n",
      "2\n",
      "\n",
      "3\n",
      "\n",
      "4\n",
      "\n",
      "5\n",
      "\n",
      "6\n",
      "{'mid0': {'in0': -3.0022279871814437, 'mid0': 3.754738287807111, 'in1': -1.7972836868609796, 'mid2': -3.159835189989318, 'mid1': -1.522112009766519}, 'mid1': -0.9997789612228204, 'mid2': {'in1': 3.594201129253777, 'mid1': 2.97695711887685}, 'out0': {'mid0': -1.6340607355409735, 'mid2': 1.3507095986571036, 'in1': -0.3373111551960934}}\n",
      "{'mid0': {'in0': -3.0022279871814437, 'mid0': 3.754738287807111, 'in1': -1.7972836868609796, 'mid2': -3.159835189989318, 'mid1': -1.522112009766519}, 'mid1': -0.9997789612228204, 'mid2': {'in1': 3.594201129253777, 'mid1': 2.97695711887685}, 'out1': {'mid2': 0.3056920494430032, 'mid0': -0.7726537463757058}}\n",
      "\n",
      "7\n",
      "\n",
      "8\n",
      "\n",
      "9\n",
      "\n",
      "10\n",
      "\n",
      "11\n",
      "{'mid0': {'in2': -3.0622920799633757, 'in0': -0.514451396307035, 'mid0': -1.2390050358614375, 'mid2': -0.44681825118266444}, 'mid1': {'mid1': -1.6770334198077217, 'in0': -3.0401953303830305, 'mid0': 2.883198535022127}, 'mid2': {'mid1': 0.28054326262780405, 'mid2': 2.3102701052952845, 'in2': 2.4434610102243246}, 'out1': {'mid2': 0.11170456279566611, 'mid1': 0.948817335571494}}\n",
      "\n",
      "12\n",
      "\n",
      "13\n",
      "{'mid0': {'in0': 3.256035403631924, 'mid0': 3.1157637723180223, 'mid2': 2.9598657103616666}, 'mid1': -0.9972695945789736, 'mid2': {'in0': 2.603998168777659, 'mid2': 0.279078284755074, 'mid1': 3.5739356020143447, 'in2': 3.2533496108652527}, 'out0': {'mid0': 3.9414008850907982}}\n",
      "\n",
      "14\n",
      "\n",
      "15\n",
      "\n",
      "16\n",
      "{'mid0': {'in0': 3.093422859758889, 'mid2': -3.9757486523681322, 'mid1': 3.5016633602929956}, 'mid1': {'mid2': -0.21168930260949184}, 'mid2': -0.9995240224276467, 'out1': {'mid0': 2.5891042270715703, 'in0': 3.2955898061956357}}\n",
      "\n",
      "17\n",
      "{'mid0': -0.2726169336220846, 'mid1': {'mid2': 3.119914542957424, 'in2': -1.7394170608881427}, 'mid2': {'mid0': 1.3560811841904472}, 'out0': {'mid1': -2.6611323058141307}}\n",
      "\n",
      "18\n",
      "\n",
      "19\n",
      "\n",
      "20\n",
      "\n",
      "21\n",
      "{'mid0': {'mid0': 2.61486342133374, 'mid1': -0.6874408667785747}, 'mid1': {'mid2': 3.7472913169540667}, 'mid2': 0.9991184520435251, 'out1': {'mid0': -3.5504959560506637, 'in1': -1.8324431558065009}}\n",
      "\n",
      "22\n",
      "\n",
      "23\n",
      "\n",
      "24\n",
      "\n",
      "25\n",
      "\n",
      "26\n",
      "\n",
      "27\n",
      "\n",
      "28\n",
      "\n",
      "29\n",
      "\n",
      "30\n",
      "\n",
      "31\n",
      "{'mid0': {'in2': 0.7063634976346711, 'mid2': 2.9619251514019638, 'mid1': -0.9793377079200366}, 'mid1': {'in1': -3.3699374332366854, 'mid2': -0.701236075080116, 'in0': -3.8157790325041967}, 'mid2': -0.4188775343908028, 'out2': {'in0': -3.0145582176102548, 'mid0': 2.2366549671905998, 'in1': -3.881092629330078}}\n",
      "\n",
      "32\n",
      "\n",
      "33\n",
      "\n",
      "34\n",
      "\n",
      "35\n",
      "\n",
      "36\n",
      "\n",
      "37\n",
      "{'mid0': {'in2': -1.1746680909507097, 'in0': 0.7865710361666413, 'mid1': -2.7403631924309475}, 'mid1': {'mid2': 2.0753853197009002, 'mid0': 1.9509842820082406, 'in0': 1.5091713718907371}, 'mid2': {'mid2': 0.15272394323210745, 'mid1': 0.9222035708835647, 'in2': -3.697115824813063}, 'out2': {'mid0': 2.458721196398596, 'mid2': 0.8310086983061193}}\n",
      "{'mid0': -0.9961730556691405, 'mid1': {'mid2': 2.0753853197009002, 'mid0': 1.9509842820082406, 'in0': 1.5091713718907371}, 'mid2': {'mid2': 0.15272394323210745, 'mid1': 0.9222035708835647, 'in2': -3.697115824813063}, 'out2': {'mid0': 2.458721196398596, 'mid2': 0.8310086983061193}}\n",
      "\n",
      "38\n",
      "\n",
      "39\n",
      "{'mid0': -0.934916995732163, 'mid1': {'mid2': -2.0042118113840988, 'mid1': 0.019288875324278955, 'mid0': 1.2893026094918358}, 'mid2': {'mid0': 0.8709293453380131, 'mid2': 2.2143140546314664}, 'out2': {'in2': 1.7651762551503127, 'mid1': -3.1007477491225393}}\n",
      "{'mid0': -0.934916995732163, 'mid1': {'mid2': -2.0042118113840988, 'mid1': 0.019288875324278955, 'mid0': 1.2893026094918358}, 'mid2': {'mid0': 0.8709293453380131, 'mid2': 2.2143140546314664}, 'out1': {'mid2': -2.372287501907523, 'mid1': 0.2180375400579887, 'in0': 2.0991912101327634}}\n",
      "\n",
      "40\n",
      "\n",
      "41\n",
      "\n",
      "42\n",
      "\n",
      "43\n",
      "{'mid0': {'mid0': -3.173508316801465, 'mid2': 1.8224324736761788, 'mid1': 3.9788799023348087}, 'mid1': -0.510409953468228, 'mid2': {'mid0': 2.7373111551960934, 'in0': -0.8395544025637113, 'mid1': 2.2558217610254845}, 'out2': {'mid0': 3.222096749580345, 'mid2': -2.409278193193957, 'in0': -0.9486952540820998}}\n",
      "{'mid0': {'mid0': -3.173508316801465, 'mid2': 1.8224324736761788, 'mid1': 3.9788799023348087}, 'mid1': -0.510409953468228, 'mid2': {'mid0': 2.7373111551960934, 'in0': -0.8395544025637113, 'mid1': 2.2558217610254845}, 'out0': {'mid0': -1.0009461315428048, 'in1': 0.4626888448039066, 'mid2': 0.5150618037540058}}\n",
      "\n",
      "44\n",
      "\n",
      "45\n",
      "\n",
      "46\n",
      "{'mid0': {'in2': 3.7464367465283077, 'mid0': -1.257317259270563, 'mid2': -1.1473218373264154}, 'mid1': {'in2': -2.9813520524950405, 'mid0': 2.3622768197772013}, 'mid2': {'in0': -0.8095223561727453, 'in1': -0.9779948115367008, 'mid1': -0.7250419655119792}, 'out1': {'mid2': 2.6923851670990384, 'mid1': 3.0650999542194413, 'in0': -1.9390202960476117}}\n",
      "\n",
      "47\n",
      "{'mid0': {'in1': -2.3915763772318024, 'mid2': 3.9713108499923697, 'mid1': 0.32827712498092476}, 'mid1': 0.15178605605631906, 'mid2': {'mid0': 2.7144819166793837, 'in0': 1.8766366549671907, 'in2': 2.967923088661682}, 'out2': {'mid2': -3.4757820845414313, 'in2': 2.6124217915458567, 'mid0': -1.5153975278498397}}\n",
      "\n",
      "48\n",
      "\n",
      "49\n",
      "\n",
      "50\n",
      "\n",
      "51\n",
      "\n",
      "52\n",
      "\n",
      "53\n",
      "\n",
      "54\n",
      "{'mid0': {'in0': -0.8611628261864794, 'mid0': -2.934472760567679, 'mid1': 1.5852281397833055}, 'mid1': {'mid1': 3.1396917442392795, 'mid0': 2.7080115977414922, 'in2': -2.741217762856707, 'in0': -1.0785899587974974}, 'out2': {'in2': -1.8634518541126202, 'mid1': 0.5396001831222341, 'in0': -3.6564626888448037, 'mid0': 0.714909201892263}}\n",
      "\n",
      "55\n",
      "\n",
      "56\n",
      "{'mid0': {'in0': -0.4680604303372501, 'mid2': -3.2440714176712957}, 'mid1': 0.7278005819438078, 'mid2': {'in0': 0.638242026552724, 'mid1': -1.981382572867389}, 'out2': {'mid0': -1.355226613764688, 'in2': -1.1237601098733405, 'in1': -3.3941095681367313}}\n",
      "{'mid0': {'in0': -0.4680604303372501, 'mid2': -3.2440714176712957}, 'mid1': {'in1': 0.9240347932244773, 'mid0': -1.955623378605219}, 'mid2': {'in0': 0.638242026552724, 'mid1': -1.981382572867389}, 'out1': {'mid1': -1.9027620936975431, 'mid0': 3.142865862963528}}\n",
      "\n",
      "57\n",
      "\n",
      "58\n",
      "\n",
      "59\n",
      "\n",
      "60\n",
      "\n",
      "61\n",
      "\n",
      "62\n",
      "\n",
      "63\n",
      "\n",
      "64\n",
      "\n",
      "65\n",
      "{'mid0': 0.8266153985202067, 'mid1': {'in1': -0.12757515641690828, 'mid2': 1.6271020906455058, 'in0': 2.301968564016481, 'in2': -0.11402411109415535, 'mid0': 0.4648863116130017}, 'mid2': {'mid0': -1.0650389134747444}, 'out0': {'mid0': 1.7549214100412025, 'mid1': -0.9218373264153823}}\n",
      "{'mid0': 0.8266153985202067, 'mid1': {'in1': -0.12757515641690828, 'mid2': 1.6271020906455058, 'in0': 2.301968564016481, 'in2': -0.11402411109415535, 'mid0': 0.4648863116130017}, 'mid2': {'mid0': -1.0650389134747444}, 'out1': {'mid1': 2.148145887379826, 'in1': -3.2993743323668547}}\n",
      "\n",
      "66\n",
      "\n",
      "67\n",
      "\n",
      "68\n",
      "\n",
      "69\n",
      "\n",
      "70\n",
      "\n",
      "71\n",
      "\n",
      "72\n",
      "{'mid0': {'mid0': 0.1988707462231039, 'mid2': -3.7297115824813063}, 'mid1': 0.9334562555934338, 'mid2': {'in0': -1.299435373111552, 'mid1': -1.8418434304898519}, 'out2': {'mid0': -3.4871356630550894}}\n",
      "\n",
      "73\n",
      "\n",
      "74\n",
      "{'mid0': {'mid2': 1.2735540973599877, 'mid1': -0.46122386693117656}, 'mid1': -0.9964953688586667, 'mid2': {'in1': -2.7515946894552115, 'in0': -1.13486952540821, 'mid1': -2.120189226308561}, 'out0': {'mid1': -3.474805432626278, 'mid0': -2.776377231802228}}\n",
      "\n",
      "75\n",
      "\n",
      "76\n",
      "\n",
      "77\n",
      "\n",
      "78\n",
      "\n",
      "79\n",
      "\n",
      "80\n",
      "{'mid0': -0.8979077788914428, 'mid1': {'mid2': -0.1320921715244926}, 'mid2': {'mid0': 2.560292995574546}, 'out0': {'mid0': -3.3584617732336333, 'mid2': 2.8661071265069435, 'mid1': 1.979307187547688}}\n",
      "\n",
      "81\n",
      "\n",
      "82\n",
      "{'mid0': 0.7613761676913814, 'mid1': {'mid2': 2.453960018312223}, 'mid2': {'mid0': -1.3585228139783305, 'in2': 3.1007477491225393}, 'out2': {'mid1': -3.4845719517778115}}\n",
      "{'mid0': 0.7613761676913814, 'mid1': {'mid2': 2.453960018312223}, 'mid2': {'mid0': -1.3585228139783305, 'in2': 3.1007477491225393}, 'out0': {'mid2': -0.43888295437204333, 'mid1': -3.0392186784678774, 'in2': -2.1907523271783917}}\n",
      "{'mid0': 0.7613761676913814, 'mid1': {'mid2': 2.453960018312223}, 'mid2': {'mid0': -1.3585228139783305, 'in2': 3.1007477491225393}, 'out1': {'mid1': -2.568838699832138, 'in2': -2.971707614832901, 'in1': 0.7211353578513657}}\n",
      "\n",
      "83\n",
      "\n",
      "84\n",
      "\n",
      "85\n",
      "{'mid0': {'in2': -2.9513200061040745, 'mid0': -1.5435983518998933, 'mid2': -2.8853960018312224, 'mid1': 1.3170151075843126}, 'mid1': {'in0': -3.184983976804517, 'mid0': 3.268731878528918}, 'mid2': {'in1': 2.777231802227987, 'mid1': -1.9609949641385624, 'mid2': -3.941889211048375}, 'out1': {'mid2': 0.9997253166488631, 'mid0': -3.587730810315886, 'in0': 3.0781626735846177, 'in1': 0.37320311307797954}}\n",
      "{'mid0': {'in2': -2.9513200061040745, 'mid0': -1.5435983518998933, 'mid2': -2.8853960018312224, 'mid1': 1.3170151075843126}, 'mid1': {'in0': -3.184983976804517, 'mid0': 3.268731878528918}, 'mid2': {'in1': 2.777231802227987, 'mid1': -1.9609949641385624, 'mid2': -3.941889211048375}, 'out1': {'mid2': 0.9997253166488631, 'mid0': -3.587730810315886, 'in0': 3.0781626735846177, 'in1': 0.37320311307797954}}\n",
      "\n",
      "86\n",
      "\n",
      "87\n",
      "\n",
      "88\n",
      "\n",
      "89\n",
      "\n",
      "90\n",
      "{'mid0': 0.9734177655172815, 'mid1': {'mid2': 1.6476117808637265, 'mid1': -1.0435525713413705}, 'mid2': {'mid0': -2.171707614832901, 'in1': -1.6219746680909508}, 'out0': {'in0': 0.44462078437356933, 'mid1': -2.149000457805585, 'in2': 1.3543720433389288}}\n",
      "\n",
      "91\n",
      "\n",
      "92\n",
      "\n",
      "93\n",
      "\n",
      "94\n",
      "{'mid0': 0.9640060108354686, 'mid1': {'in1': 0.42594231649626124, 'mid2': 0.17347779642911643, 'in2': -3.6769723790630247}, 'mid2': {'mid0': 1.4121165878223714, 'in2': 2.276087288264917}, 'out0': {'mid2': 2.7271783915763774, 'mid1': 1.4381199450633297, 'in2': -2.3559285823287044}}\n",
      "\n",
      "95\n",
      "{'mid0': {'in2': -3.7776896078132154, 'mid0': -0.651182664428506, 'in1': -3.751930413551045, 'mid1': -0.3445139630703495}, 'mid1': {'mid2': 3.40753853197009, 'mid1': -0.0693422859758889}, 'mid2': -0.9489712366573047, 'out1': {'mid2': -2.9614527697237905, 'mid0': -3.7447276056767893}}\n",
      "\n",
      "96\n",
      "{'mid0': {'mid2': 2.7818708988249656, 'mid1': 3.7691439035556233}, 'mid1': 0.10569259385943928, 'mid2': {'in1': 3.7601098733404545, 'mid1': 2.530138867694186}, 'out0': {'mid1': -2.3555623378605217, 'mid0': -2.306363497634671, 'in1': -0.002807874256065924, 'in2': -2.6585685945368533}}\n",
      "\n",
      "97\n",
      "{'mid0': {'in0': 2.123607508011598, 'in1': -0.8936365023653289, 'mid2': 0.8900961391728979}, 'mid1': -0.621298606560736, 'mid2': {'mid2': 1.4698611323058142, 'mid1': -1.547627041049901}, 'out1': {'mid2': -0.7598351899893179, 'mid1': 3.5909049290401343, 'in2': -2.0613459484205707, 'mid0': 3.3927666717533955, 'in0': -3.0694948878376316}}\n",
      "\n",
      "98\n",
      "\n",
      "99\n",
      "\n"
     ]
    }
   ],
   "source": [
    "initial_dic_of_output_neurons = {}\n",
    "\n",
    "## sum duplicates\n",
    "individuals_sum_dup = sum_duplicated_neurons(individuals)\n",
    "\n",
    "## brain generator\n",
    "for individual in individuals_sum_dup:\n",
    "    \n",
    "    ## init brain neuron generator\n",
    "    print(individual)\n",
    "    ## preprocessing\n",
    "    edges = individuals_sum_dup[individual]\n",
    "    edges = [tuple(edges[i]) for i in edges]\n",
    "    edges_no_weight = [i[:-1] for i in edges]\n",
    "    \n",
    "    G = nx.MultiDiGraph()\n",
    "    G.add_edges_from(edges)\n",
    "    \n",
    "    out_list = list(set([i[1] for i in edges if 'out' in i[1]]))\n",
    "    init_list = list(set([i[0] for i in edges if 'in' in i[0]]))\n",
    "\n",
    "    # generate dict of paths\n",
    "    dic_of_paths = generate_dict_of_paths(out_list, init_list, G)\n",
    "\n",
    "    lis = filtered_neurons_paths(dic_of_paths)\n",
    "    \n",
    "    dic = append_weight_to_neurons_in_path(lis, edges_no_weight, edges)\n",
    "\n",
    "    initial_dic_of_output_neurons[individual] = dic\n",
    "        \n",
    "        \n",
    "\n",
    "#     print(dic)\n",
    "    print()"
   ]
  },
  {
   "cell_type": "markdown",
   "id": "99856040",
   "metadata": {},
   "source": [
    "mid predecessors variants"
   ]
  },
  {
   "cell_type": "code",
   "execution_count": 4,
   "id": "7ebdfc10",
   "metadata": {
    "ExecuteTime": {
     "end_time": "2022-06-05T21:06:53.467577Z",
     "start_time": "2022-06-05T21:06:53.444000Z"
    }
   },
   "outputs": [
    {
     "name": "stdout",
     "output_type": "stream",
     "text": [
      "()\n",
      "('in1',)\n",
      "('in2',)\n",
      "('mid1',)\n",
      "('mid2',)\n",
      "('in1', 'in2')\n",
      "('in1', 'mid1')\n",
      "('in1', 'mid2')\n",
      "('in2', 'mid1')\n",
      "('in2', 'mid2')\n",
      "('mid1', 'mid2')\n",
      "('in1', 'in2', 'mid1')\n",
      "('in1', 'in2', 'mid2')\n",
      "('in1', 'mid1', 'mid2')\n",
      "('in2', 'mid1', 'mid2')\n",
      "('in1', 'in2', 'mid1', 'mid2')\n"
     ]
    }
   ],
   "source": [
    "from itertools import combinations\n",
    "\n",
    "sample_list = ['in1', 'in2', 'mid1', 'mid2']\n",
    "list_combinations = list()\n",
    "\n",
    "for n in range(len(sample_list) + 1):\n",
    "    list_combinations += list(combinations(sample_list, n))\n",
    "for i in list_combinations:\n",
    "    print(i)"
   ]
  },
  {
   "cell_type": "code",
   "execution_count": 18,
   "id": "bbf0066f",
   "metadata": {},
   "outputs": [
    {
     "data": {
      "text/plain": [
       "{'mid0': {'mid0': 1.8478254234701663,\n",
       "  'in1': 1.7749427743018464,\n",
       "  'mid2': -3.906241416145277},\n",
       " 'mid1': -0.9999224478418683,\n",
       " 'mid2': {'in1': -0.07153975278498398, 'mid1': -0.792797192125744},\n",
       " 'out1': {'in1': -3.3650541736609187,\n",
       "  'mid0': 0.92733099343812,\n",
       "  'mid2': -3.8355562337860523}}"
      ]
     },
     "execution_count": 18,
     "metadata": {},
     "output_type": "execute_result"
    }
   ],
   "source": [
    "dic = {'mid0': {'mid0': 1.8478254234701663, 'in1': 1.7749427743018464, 'mid2': -3.906241416145277}, 'mid1': -0.9999224478418683, 'mid2': {'in1': -0.07153975278498398, 'mid1': -0.792797192125744}, 'out1': {'in1': -3.3650541736609187, 'mid0': 0.92733099343812, 'mid2': -3.8355562337860523}}\n",
    "dic"
   ]
  },
  {
   "cell_type": "code",
   "execution_count": 20,
   "id": "bbf91b47",
   "metadata": {},
   "outputs": [
    {
     "data": {
      "text/plain": [
       "{'mid0': {'mid0': 1.8478254234701663,\n",
       "  'in1': 1.7749427743018464,\n",
       "  'mid2': -3.906241416145277},\n",
       " 'mid2': {'in1': -0.07153975278498398, 'mid1': -1.7927196399676122},\n",
       " 'out1': {'in1': -3.3650541736609187,\n",
       "  'mid0': 0.92733099343812,\n",
       "  'mid2': -3.8355562337860523}}"
      ]
     },
     "execution_count": 20,
     "metadata": {},
     "output_type": "execute_result"
    }
   ],
   "source": [
    "dic = {'mid0': {'mid0': 1.8478254234701663, 'in1': 1.7749427743018464, 'mid2': -3.906241416145277}, 'mid1': -0.9999224478418683, 'mid2': {'in1': -0.07153975278498398, 'mid1': -0.792797192125744}, 'out1': {'in1': -3.3650541736609187, 'mid0': 0.92733099343812, 'mid2': -3.8355562337860523}}\n",
    "\n",
    "mid_value = {}\n",
    "\n",
    "for key in dic:\n",
    "#     print(key)\n",
    "    if 'mid' in key and isinstance(dic[key], float):\n",
    "        mid_value[key] = dic[key]\n",
    "\n",
    "    elif 'mid' in key and isinstance(dic[key], dict):\n",
    "        for sub_key in dic[key]:\n",
    "            if sub_key in mid_value:\n",
    "                dic[key][sub_key] += mid_value[sub_key]\n",
    "\n",
    "for key in mid_value:\n",
    "    del dic[key]\n",
    "\n",
    "# dic_list = {}\n",
    "# for key in dic:\n",
    "#     lista = []\n",
    "#     for sub_key in dic[key]:\n",
    "#         if sub_key in dic:\n",
    "#             lista.append(sub_key)\n",
    "#     dic_list[key] = lista\n",
    "    \n",
    "# def sum_weights(dic):\n",
    "#     for key in dic_list:\n",
    "#         if dic_list:\n",
    "#             sum_weights\n",
    "\n",
    "            \n",
    "    \n",
    "\n",
    "dic"
   ]
  },
  {
   "cell_type": "code",
   "execution_count": 11,
   "id": "d55d6571",
   "metadata": {},
   "outputs": [
    {
     "data": {
      "text/plain": [
       "False"
      ]
     },
     "execution_count": 11,
     "metadata": {},
     "output_type": "execute_result"
    }
   ],
   "source": [
    "any(dic['mid0']) in dic"
   ]
  },
  {
   "cell_type": "code",
   "execution_count": 54,
   "id": "018d783e",
   "metadata": {},
   "outputs": [
    {
     "data": {
      "text/plain": [
       "0.9315219200181031"
      ]
     },
     "execution_count": 54,
     "metadata": {},
     "output_type": "execute_result"
    }
   ],
   "source": [
    " np.tanh(sum([-0.9999224478418683, 1.8478254234701663, -0.9530708314545707, 1.7749427743018464]))"
   ]
  },
  {
   "cell_type": "code",
   "execution_count": 16,
   "id": "65a25788",
   "metadata": {},
   "outputs": [
    {
     "ename": "TypeError",
     "evalue": "object of type 'float' has no len()",
     "output_type": "error",
     "traceback": [
      "\u001b[1;31m---------------------------------------------------------------------------\u001b[0m",
      "\u001b[1;31mTypeError\u001b[0m                                 Traceback (most recent call last)",
      "Input \u001b[1;32mIn [16]\u001b[0m, in \u001b[0;36m<cell line: 1>\u001b[1;34m()\u001b[0m\n\u001b[1;32m----> 1\u001b[0m \u001b[43mout_to_weight\u001b[49m\u001b[43m(\u001b[49m\u001b[43mdic\u001b[49m\u001b[43m)\u001b[49m\n",
      "Input \u001b[1;32mIn [7]\u001b[0m, in \u001b[0;36mout_to_weight\u001b[1;34m(dic)\u001b[0m\n\u001b[0;32m      8\u001b[0m             dic[key][sub_key] \u001b[38;5;241m+\u001b[39m\u001b[38;5;241m=\u001b[39m dic[sub_key]\n\u001b[0;32m     12\u001b[0m     dic[key] \u001b[38;5;241m=\u001b[39m np\u001b[38;5;241m.\u001b[39mtanh(\u001b[38;5;28msum\u001b[39m(dic[key]\u001b[38;5;241m.\u001b[39mvalues()))\n\u001b[1;32m---> 13\u001b[0m     \u001b[43mout_to_weight\u001b[49m\u001b[43m(\u001b[49m\u001b[43mdic\u001b[49m\u001b[43m)\u001b[49m\n\u001b[0;32m     15\u001b[0m \u001b[38;5;28;01melif\u001b[39;00m \u001b[38;5;124m'\u001b[39m\u001b[38;5;124mout\u001b[39m\u001b[38;5;124m'\u001b[39m \u001b[38;5;129;01min\u001b[39;00m key \u001b[38;5;129;01mand\u001b[39;00m \u001b[38;5;28misinstance\u001b[39m(dic[key], \u001b[38;5;28mdict\u001b[39m):\n\u001b[0;32m     16\u001b[0m     \u001b[38;5;28;01mfor\u001b[39;00m sub_key \u001b[38;5;129;01min\u001b[39;00m dic[key]:\n",
      "Input \u001b[1;32mIn [7]\u001b[0m, in \u001b[0;36mout_to_weight\u001b[1;34m(dic)\u001b[0m\n\u001b[0;32m      5\u001b[0m \u001b[38;5;28;01mif\u001b[39;00m \u001b[38;5;124m'\u001b[39m\u001b[38;5;124mmid\u001b[39m\u001b[38;5;124m'\u001b[39m \u001b[38;5;129;01min\u001b[39;00m key \u001b[38;5;129;01mand\u001b[39;00m \u001b[38;5;28misinstance\u001b[39m(dic[key], \u001b[38;5;28mdict\u001b[39m):\n\u001b[0;32m      6\u001b[0m     \u001b[38;5;28;01mfor\u001b[39;00m sub_key \u001b[38;5;129;01min\u001b[39;00m dic[key]:\n\u001b[1;32m----> 7\u001b[0m         \u001b[38;5;28;01mif\u001b[39;00m \u001b[38;5;124m'\u001b[39m\u001b[38;5;124mmid\u001b[39m\u001b[38;5;124m'\u001b[39m \u001b[38;5;129;01min\u001b[39;00m sub_key \u001b[38;5;129;01mand\u001b[39;00m sub_key\u001b[38;5;241m!=\u001b[39mkey \u001b[38;5;129;01mand\u001b[39;00m \u001b[38;5;28;43mlen\u001b[39;49m\u001b[43m(\u001b[49m\u001b[43mdic\u001b[49m\u001b[43m[\u001b[49m\u001b[43msub_key\u001b[49m\u001b[43m]\u001b[49m\u001b[43m)\u001b[49m\u001b[38;5;241m==\u001b[39m\u001b[38;5;241m1\u001b[39m:\n\u001b[0;32m      8\u001b[0m             dic[key][sub_key] \u001b[38;5;241m+\u001b[39m\u001b[38;5;241m=\u001b[39m dic[sub_key]\n\u001b[0;32m     12\u001b[0m     dic[key] \u001b[38;5;241m=\u001b[39m np\u001b[38;5;241m.\u001b[39mtanh(\u001b[38;5;28msum\u001b[39m(dic[key]\u001b[38;5;241m.\u001b[39mvalues()))\n",
      "\u001b[1;31mTypeError\u001b[0m: object of type 'float' has no len()"
     ]
    }
   ],
   "source": [
    "out_to_weight(dic)"
   ]
  },
  {
   "cell_type": "code",
   "execution_count": null,
   "id": "cdb656d2",
   "metadata": {},
   "outputs": [],
   "source": [
    "len({'in1': -0.07153975278498398, 'mid1': -0.792797192125744})"
   ]
  },
  {
   "cell_type": "code",
   "execution_count": null,
   "id": "07669b0e",
   "metadata": {
    "scrolled": true
   },
   "outputs": [],
   "source": [
    "dic"
   ]
  },
  {
   "cell_type": "code",
   "execution_count": null,
   "id": "2aff38fc",
   "metadata": {
    "ExecuteTime": {
     "end_time": "2022-05-27T20:01:01.813305Z",
     "start_time": "2022-05-27T20:01:01.799301Z"
    },
    "scrolled": true
   },
   "outputs": [],
   "source": [
    "initial_dic_of_output_neurons = {}\n",
    "\n",
    "## sum duplicates\n",
    "individuals_sum_dup = sum_duplicated_neurons(individuals)\n",
    "\n",
    "## remove self loops\n",
    "individuals_sum_dup_no_self_loop = remove_self_loop(individuals_sum_dup)\n",
    "\n",
    "## brain generator\n",
    "for individual in individuals_sum_dup_no_self_loop:\n",
    "    \n",
    "    ## init brain neuron generator\n",
    "    \n",
    "    ## preprocessing\n",
    "    edges = individuals_sum_dup_no_self_loop[individual]\n",
    "    edges = [tuple(edges[i]) for i in edges]\n",
    "\n",
    "    remove_mid_with_no_predecessor(edges) \n",
    "    dic = weight_sum_preprocessing(edges)\n",
    "\n",
    "    ## calculate weight sum\n",
    "    mid_to_weight(dic)\n",
    "    out_to_weight(dic)\n",
    "       \n",
    "    dic = {k:v for k, v in dic.items() if 'out' in k}    \n",
    "    \n",
    "    initial_dic_of_output_neurons[individual] = {}\n",
    "    initial_dic_of_output_neurons[individual]['output'] = dic\n",
    "    \n",
    "    ## position\n",
    "#     initial_dic_of_output_neurons[individual]['position'] = {}\n",
    "#     initial_dic_of_output_neurons[individual]['position']['x'] = x[individual]\n",
    "#     initial_dic_of_output_neurons[individual]['position']['y'] = y[individual] \n",
    "    \n",
    "    ## position history\n",
    "    initial_dic_of_output_neurons[individual]['history_position'] = [(x[individual], y[individual])]"
   ]
  },
  {
   "cell_type": "code",
   "execution_count": null,
   "id": "37a4e64d",
   "metadata": {
    "ExecuteTime": {
     "end_time": "2022-05-27T20:01:01.829301Z",
     "start_time": "2022-05-27T20:01:01.814301Z"
    }
   },
   "outputs": [],
   "source": [
    "initial_dic_of_output_neurons"
   ]
  },
  {
   "cell_type": "code",
   "execution_count": null,
   "id": "675d302d",
   "metadata": {
    "ExecuteTime": {
     "end_time": "2022-05-27T20:23:03.597160Z",
     "start_time": "2022-05-27T20:23:03.581159Z"
    }
   },
   "outputs": [],
   "source": [
    "a = [(3, 0),(4,1),(5,2)]"
   ]
  },
  {
   "cell_type": "code",
   "execution_count": null,
   "id": "fb0ff57e",
   "metadata": {
    "ExecuteTime": {
     "end_time": "2022-05-27T20:15:26.036428Z",
     "start_time": "2022-05-27T20:15:26.011830Z"
    }
   },
   "outputs": [],
   "source": [
    "def slope_intercept(x1,y1,x2,y2):\n",
    "    a = (y2 - y1) / (x2 - x1)\n",
    "    b = y1 - a * x1     \n",
    "    return a,b\n",
    "\n",
    "print(slope_intercept(3,0,2,1))"
   ]
  },
  {
   "cell_type": "code",
   "execution_count": null,
   "id": "8ca05899",
   "metadata": {
    "ExecuteTime": {
     "end_time": "2022-05-27T20:22:17.197947Z",
     "start_time": "2022-05-27T20:22:17.180390Z"
    }
   },
   "outputs": [],
   "source": [
    "a"
   ]
  },
  {
   "cell_type": "code",
   "execution_count": null,
   "id": "c09bb447",
   "metadata": {
    "ExecuteTime": {
     "end_time": "2022-05-27T20:23:05.833265Z",
     "start_time": "2022-05-27T20:23:05.820276Z"
    }
   },
   "outputs": [],
   "source": [
    "if a[-2][0] == a[-1][0]:\n",
    "    x = a[-1][0]\n",
    "elif a[-2][0] > a[-1][0]:\n",
    "    x = a[-2][0] + 1\n",
    "elif a[-2][0] < a[-1][0]:\n",
    "    x = a[-2][0] - 1\n",
    "print(x)"
   ]
  },
  {
   "cell_type": "code",
   "execution_count": null,
   "id": "91e7bb9d",
   "metadata": {
    "ExecuteTime": {
     "end_time": "2022-05-27T20:22:29.407155Z",
     "start_time": "2022-05-27T20:22:29.397644Z"
    }
   },
   "outputs": [],
   "source": [
    "a[-2][0]"
   ]
  },
  {
   "cell_type": "code",
   "execution_count": null,
   "id": "89c5b605",
   "metadata": {},
   "outputs": [],
   "source": []
  }
 ],
 "metadata": {
  "kernelspec": {
   "display_name": "Python 3 (ipykernel)",
   "language": "python",
   "name": "python3"
  },
  "language_info": {
   "codemirror_mode": {
    "name": "ipython",
    "version": 3
   },
   "file_extension": ".py",
   "mimetype": "text/x-python",
   "name": "python",
   "nbconvert_exporter": "python",
   "pygments_lexer": "ipython3",
   "version": "3.9.12"
  }
 },
 "nbformat": 4,
 "nbformat_minor": 5
}
