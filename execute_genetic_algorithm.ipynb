{
 "cells": [
  {
   "cell_type": "code",
   "execution_count": null,
   "id": "64e1e30b",
   "metadata": {
    "ExecuteTime": {
     "end_time": "2022-05-26T17:41:03.500911Z",
     "start_time": "2022-05-26T17:41:00.872828Z"
    }
   },
   "outputs": [],
   "source": [
    "from genetic_algorithm import *\n",
    "import re\n",
    "import json\n",
    "import numpy as np\n",
    "from collections import Counter\n",
    "import copy"
   ]
  },
  {
   "cell_type": "markdown",
   "id": "a4aa7361",
   "metadata": {},
   "source": [
    "## hexadecimal generator"
   ]
  },
  {
   "cell_type": "code",
   "execution_count": null,
   "id": "e85a93ac",
   "metadata": {
    "ExecuteTime": {
     "end_time": "2022-05-25T20:18:00.266385Z",
     "start_time": "2022-05-25T20:18:00.252349Z"
    }
   },
   "outputs": [],
   "source": [
    "nr_of_input = 3\n",
    "nr_of_actions = 3\n",
    "nr_of_inner = 2\n",
    "nr_of_genes = 16\n",
    "nr_individuals = 4\n",
    "\n",
    "individuals = generate_initial_genomes_for_population(nr_individuals, nr_of_genes, nr_of_input, nr_of_actions, nr_of_inner)"
   ]
  },
  {
   "cell_type": "code",
   "execution_count": null,
   "id": "2aff38fc",
   "metadata": {
    "ExecuteTime": {
     "end_time": "2022-05-25T20:18:00.314295Z",
     "start_time": "2022-05-25T20:18:00.267926Z"
    },
    "scrolled": true
   },
   "outputs": [],
   "source": [
    "## sum duplicates\n",
    "individuals_sum_dup = sum_duplicated_neurons(individuals)\n",
    "\n",
    "## remove self loops\n",
    "individuals_sum_dup_no_self_loop = remove_self_loop(individuals_sum_dup)\n",
    "\n",
    "## brain generator\n",
    "# one individual to change to multiple\n",
    "for individual in individuals_sum_dup_no_self_loop:\n",
    "#     try:\n",
    "    edges = individuals_sum_dup_no_self_loop[individual]\n",
    "    edges = [tuple(edges[i]) for i in edges]\n",
    "\n",
    "    ## preprocessing\n",
    "    dic = weight_sum_preprocessing(edges)\n",
    "\n",
    "    ## calculate weight sum\n",
    "#     except:\n",
    "#         print(individual)\n",
    "#         print(edges)\n",
    "        \n",
    "#         continue\n",
    "    try:\n",
    "        mid_to_weight(dic)\n",
    "    except:\n",
    "        print('mid_to_weight', individual)\n",
    "        print(edges)\n",
    "        print()\n",
    "        continue   \n",
    "    try:    \n",
    "        out_to_weight(dic)\n",
    "    except:\n",
    "        print('out_to_weight', individual)\n",
    "        print(edges)\n",
    "        print()    "
   ]
  },
  {
   "cell_type": "code",
   "execution_count": null,
   "id": "cf323226",
   "metadata": {
    "ExecuteTime": {
     "end_time": "2022-05-25T20:19:19.818810Z",
     "start_time": "2022-05-25T20:19:19.801269Z"
    }
   },
   "outputs": [],
   "source": [
    "individuals_sum_dup_no_self_loop[2]"
   ]
  },
  {
   "cell_type": "code",
   "execution_count": null,
   "id": "c5dcfa88",
   "metadata": {},
   "outputs": [],
   "source": [
    "edges = individuals_sum_dup_no_self_loop[2]\n",
    "edges = [tuple(edges[i]) for i in edges]\n",
    "edges"
   ]
  },
  {
   "cell_type": "code",
   "execution_count": null,
   "id": "8296f309",
   "metadata": {
    "ExecuteTime": {
     "end_time": "2022-05-26T17:41:06.275625Z",
     "start_time": "2022-05-26T17:41:06.261640Z"
    }
   },
   "outputs": [],
   "source": [
    "edges = [('mid0', 'mid1', 2.602655272394323),\n",
    " ('mid0', 'out2', -1.8113230581413093),\n",
    " ('mid1', 'out0', 1.7328246604608577),\n",
    " ('in1', 'mid1', 3.0427590416603083),\n",
    " ('mid0', 'out0', -1.9767434762704106),\n",
    " ('mid1', 'mid1', -2.559560506638181),\n",
    " ('in2', 'out1', 2.1034640622615597),\n",
    " ('in0', 'out2', 1.4107736914390356),\n",
    " ('in2', 'mid1', -1.4333587669769572)]"
   ]
  },
  {
   "cell_type": "code",
   "execution_count": 4,
   "id": "f91e0e49",
   "metadata": {
    "ExecuteTime": {
     "end_time": "2022-05-26T17:56:53.693493Z",
     "start_time": "2022-05-26T17:56:53.671691Z"
    }
   },
   "outputs": [
    {
     "name": "stdout",
     "output_type": "stream",
     "text": [
      "('mid1', 'out0', 1.7328246604608577)\n",
      "('mid1', 'out0', 1.7328246604608577)\n",
      "('mid1', 'out0', 1.7328246604608577)\n",
      "('mid1', 'out0', 1.7328246604608577)\n"
     ]
    }
   ],
   "source": [
    "for i_nr, i in enumerate(edges):\n",
    "    for j_nr, j in enumerate(edges):\n",
    "        if i[0] != i[1] and i[0] == j[1]:\n",
    "            print(i)\n",
    "            "
   ]
  },
  {
   "cell_type": "code",
   "execution_count": null,
   "id": "44de995f",
   "metadata": {
    "ExecuteTime": {
     "end_time": "2022-05-25T20:18:46.569646Z",
     "start_time": "2022-05-25T20:18:46.551845Z"
    }
   },
   "outputs": [],
   "source": [
    "dic = weight_sum_preprocessing(edges)\n",
    "dic"
   ]
  },
  {
   "cell_type": "code",
   "execution_count": null,
   "id": "0f470420",
   "metadata": {
    "ExecuteTime": {
     "end_time": "2022-05-25T20:23:34.656989Z",
     "start_time": "2022-05-25T20:23:34.640105Z"
    }
   },
   "outputs": [],
   "source": [
    "def mid_to_weight(dic):\n",
    "    '''weight for clear input ie. no nested weights: 0mid:{0in, 1in} or 0mid:{0mid, 0in}'''\n",
    "    for key in dic:\n",
    "        \n",
    "        if 'mid' in key and isinstance(dic[key], dict):\n",
    "#             print(key)\n",
    "            if set(i[:2] for i in dic[key]) == set(['in']):\n",
    "                \n",
    "                dic[key] = np.tanh(sum(dic[key].values()))\n",
    "                mid_to_weight(dic)\n",
    "                \n",
    "            elif key in dic[key].keys() and Counter(i[:2] for i in dic[key])['mi'] == 1:\n",
    "                \n",
    "#                 print(dic[key])\n",
    "                dic[key] = np.tanh(sum(dic[key].values()))\n",
    "                mid_to_weight(dic)\n",
    "mid_to_weight(dic)\n",
    "dic"
   ]
  },
  {
   "cell_type": "code",
   "execution_count": null,
   "id": "00930ed8",
   "metadata": {
    "ExecuteTime": {
     "end_time": "2022-05-25T20:18:00.771818Z",
     "start_time": "2022-05-25T20:18:00.364222Z"
    }
   },
   "outputs": [],
   "source": [
    "def out_to_weight(dic):\n",
    "    '''weight for nested input ie.  0mid:{1mid} or out:{0mid, 0in}\n",
    "    use 'mid' neuron only if feeded with 'in' neurons'''\n",
    "    for key in dic:\n",
    "        if 'mid' in key and isinstance(dic[key], dict):\n",
    "            for sub_key in dic[key]:\n",
    "                if dic[sub_key] and 'mid' in sub_key and isinstance(dic[sub_key], float):\n",
    "#                     print(sub_key, dic[sub_key])\n",
    "                    dic[key][sub_key] += dic[sub_key]\n",
    "\n",
    "            dic[key] = np.tanh(sum(dic[key].values()))\n",
    "            out_to_weight(dic)\n",
    "                \n",
    "        elif 'out' in key and isinstance(dic[key], dict):\n",
    "            for sub_key in dic[key]:\n",
    "                if 'mid' in sub_key and sub_key in dic:\n",
    "                    dic[key][sub_key] += dic[sub_key]\n",
    "            dic[key] = np.tanh(sum(dic[key].values()))\n",
    "            out_to_weight(dic)\n",
    "            \n",
    "out_to_weight(dic)\n",
    "dic"
   ]
  },
  {
   "cell_type": "code",
   "execution_count": null,
   "id": "0c327ef6",
   "metadata": {},
   "outputs": [],
   "source": [
    "dic[sub_key]"
   ]
  },
  {
   "cell_type": "code",
   "execution_count": null,
   "id": "6ddc8a5e",
   "metadata": {
    "ExecuteTime": {
     "end_time": "2022-05-25T20:18:00.773785Z",
     "start_time": "2022-05-25T20:18:00.773785Z"
    }
   },
   "outputs": [],
   "source": [
    "mid_to_weight(dic)\n",
    "dic"
   ]
  },
  {
   "cell_type": "code",
   "execution_count": null,
   "id": "a0d7d912",
   "metadata": {
    "ExecuteTime": {
     "end_time": "2022-05-25T20:18:00.775786Z",
     "start_time": "2022-05-25T20:18:00.775786Z"
    }
   },
   "outputs": [],
   "source": [
    "dic"
   ]
  },
  {
   "cell_type": "code",
   "execution_count": null,
   "id": "a21f5a28",
   "metadata": {},
   "outputs": [],
   "source": []
  },
  {
   "cell_type": "code",
   "execution_count": null,
   "id": "b9b6a4c1",
   "metadata": {},
   "outputs": [],
   "source": []
  },
  {
   "cell_type": "code",
   "execution_count": null,
   "id": "55b0fa52",
   "metadata": {
    "ExecuteTime": {
     "end_time": "2022-05-25T20:18:45.042556Z",
     "start_time": "2022-05-25T20:18:45.029004Z"
    }
   },
   "outputs": [],
   "source": [
    "edges = [('in1', 'out0', 1.4279871814436136), ('in0', 'out0', -3.0119945063329774), ('mid1', 'out0', -1.1555012971158247), ('in1', 'mid1', -1.2089729894704715), ('mid1', 'out2', -2.6342743781474134), ('mid0', 'out0', -3.9923088661681674)]"
   ]
  }
 ],
 "metadata": {
  "kernelspec": {
   "display_name": "Python 3 (ipykernel)",
   "language": "python",
   "name": "python3"
  },
  "language_info": {
   "codemirror_mode": {
    "name": "ipython",
    "version": 3
   },
   "file_extension": ".py",
   "mimetype": "text/x-python",
   "name": "python",
   "nbconvert_exporter": "python",
   "pygments_lexer": "ipython3",
   "version": "3.9.12"
  }
 },
 "nbformat": 4,
 "nbformat_minor": 5
}
