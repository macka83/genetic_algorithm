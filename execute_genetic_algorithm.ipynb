{
 "cells": [
  {
   "cell_type": "markdown",
   "id": "6499aef8",
   "metadata": {
    "ExecuteTime": {
     "end_time": "2022-06-28T19:40:02.442018Z",
     "start_time": "2022-06-28T19:40:00.122777Z"
    }
   },
   "source": [
    "!jt -t chesterish\n",
    "# !jt -r"
   ]
  },
  {
   "cell_type": "code",
   "execution_count": 1,
   "id": "07647a75",
   "metadata": {
    "ExecuteTime": {
     "end_time": "2022-06-28T19:46:59.994032Z",
     "start_time": "2022-06-28T19:46:59.988448Z"
    }
   },
   "outputs": [],
   "source": [
    "from genetic_algorithm import *\n",
    "from numpy.random import default_rng\n",
    "import matplotlib.pyplot as plt"
   ]
  },
  {
   "cell_type": "code",
   "execution_count": 2,
   "id": "89c5b605",
   "metadata": {
    "ExecuteTime": {
     "end_time": "2022-06-28T19:47:00.632234Z",
     "start_time": "2022-06-28T19:47:00.601568Z"
    }
   },
   "outputs": [],
   "source": [
    "\n",
    "# ## hexadecimal generator\n",
    "\n",
    "nr_of_input = 2\n",
    "nr_of_actions = 5\n",
    "nr_of_inner = 3\n",
    "nr_of_genes = 16\n",
    "nr_individuals = 4\n",
    "\n",
    "individuals = generate_initial_genomes_for_population(nr_individuals, nr_of_genes, nr_of_input, nr_of_actions, nr_of_inner)\n",
    "\n",
    "## world size\n",
    "world_size_x = 20\n",
    "world_size_y = 20\n",
    "\n",
    "rng = default_rng()\n",
    "x = rng.choice(world_size_x, size=nr_individuals, replace=False)\n",
    "y = rng.choice(world_size_y, size=nr_individuals, replace=False)\n",
    "\n",
    "# ## initial brain and position generator\n",
    "\n",
    "result = calculate_individual_output_weights(individuals)\n",
    "\n",
    "for indiv in result:\n",
    "    result[indiv]['position'] = [[x[indiv], y[indiv]]]"
   ]
  },
  {
   "cell_type": "code",
   "execution_count": 3,
   "id": "c33e99d9",
   "metadata": {
    "ExecuteTime": {
     "end_time": "2022-06-28T19:43:47.353763Z",
     "start_time": "2022-06-28T19:43:47.353343Z"
    }
   },
   "outputs": [],
   "source": [
    "## def sum_duplicated_neurons_with_input(res, input_list):\n",
    "##     '''input_list - list of neuron and its weight'''\n",
    "# res = copy.copy(individuals)\n",
    "# dic = {}\n",
    "# for nr in res:\n",
    "# #     print(nr)\n",
    "#     dic[nr] = {}\n",
    "#     for i in res[nr]:\n",
    "#         n_output = f'{i.output_type}{i.output_id}'\n",
    "#         n_input = f'{i.input_type}{i.input_id}'\n",
    "#         dic[nr][i.differ_neuron] = [n_input, n_output, i.weight]\n",
    "##     return dic\n",
    "##     pass"
   ]
  },
  {
   "cell_type": "code",
   "execution_count": null,
   "id": "568c3ffe",
   "metadata": {},
   "outputs": [],
   "source": []
  },
  {
   "cell_type": "code",
   "execution_count": 4,
   "id": "40079ed6",
   "metadata": {
    "ExecuteTime": {
     "end_time": "2022-06-28T19:55:54.191637Z",
     "start_time": "2022-06-28T19:55:54.163719Z"
    },
    "scrolled": true
   },
   "outputs": [
    {
     "name": "stdout",
     "output_type": "stream",
     "text": [
      "n 0\n",
      "indiv 0\n",
      "indiv 1\n",
      "indiv 2\n",
      "indiv 3\n",
      "n 1\n",
      "indiv 0\n",
      "[[18, 15], [17, 14], [16, 13]]\n",
      "('in0', 0)\n",
      "[[18, 15], [17, 14], [16, 13]]\n",
      "('in0', 0)\n",
      "[[18, 15], [17, 14], [16, 13]]\n",
      "('in0', 0)\n",
      "[[18, 15], [17, 14], [16, 13]]\n",
      "('in0', 0)\n",
      "[[18, 15], [17, 14], [16, 13]]\n",
      "('in0', 0)\n",
      "[[18, 15], [17, 14], [16, 13]]\n",
      "('in0', 0)\n",
      "[[18, 15], [17, 14], [16, 13]]\n",
      "('in0', 0)\n",
      "[[18, 15], [17, 14], [16, 13]]\n",
      "('in0', 0)\n",
      "[[18, 15], [17, 14], [16, 13]]\n",
      "('in0', 0)\n",
      "[[18, 15], [17, 14], [16, 13]]\n",
      "('in0', 0)\n",
      "[[18, 15], [17, 14], [16, 13]]\n",
      "('in0', 0)\n",
      "[[18, 15], [17, 14], [16, 13]]\n",
      "('in0', 0)\n",
      "[[18, 15], [17, 14], [16, 13]]\n",
      "('in0', 0)\n",
      "[[18, 15], [17, 14], [16, 13]]\n",
      "('in1', 0)\n",
      "[[18, 15], [17, 14], [16, 13]]\n",
      "('in1', 0)\n",
      "[[18, 15], [17, 14], [16, 13]]\n",
      "('in1', 0)\n",
      "[[18, 15], [17, 14], [16, 13]]\n",
      "('in1', 0)\n",
      "[[18, 15], [17, 14], [16, 13]]\n",
      "('in1', 0)\n",
      "[[18, 15], [17, 14], [16, 13]]\n",
      "('in1', 0)\n",
      "[[18, 15], [17, 14], [16, 13]]\n",
      "('in1', 0)\n",
      "[[18, 15], [17, 14], [16, 13]]\n",
      "('in1', 0)\n",
      "[[18, 15], [17, 14], [16, 13]]\n",
      "('in1', 0)\n",
      "[[18, 15], [17, 14], [16, 13]]\n",
      "('in1', 0)\n",
      "[[18, 15], [17, 14], [16, 13]]\n",
      "('in1', 0)\n",
      "[[18, 15], [17, 14], [16, 13]]\n",
      "('in1', 0)\n",
      "[[18, 15], [17, 14], [16, 13]]\n",
      "('in1', 0)\n",
      "indiv 1\n"
     ]
    },
    {
     "ename": "TypeError",
     "evalue": "'NoneType' object is not subscriptable",
     "output_type": "error",
     "traceback": [
      "\u001b[1;31m---------------------------------------------------------------------------\u001b[0m",
      "\u001b[1;31mTypeError\u001b[0m                                 Traceback (most recent call last)",
      "Input \u001b[1;32mIn [4]\u001b[0m, in \u001b[0;36m<cell line: 3>\u001b[1;34m()\u001b[0m\n\u001b[0;32m      5\u001b[0m     \u001b[38;5;28;01mfor\u001b[39;00m indiv \u001b[38;5;129;01min\u001b[39;00m result:\n\u001b[0;32m      6\u001b[0m         \u001b[38;5;28mprint\u001b[39m(\u001b[38;5;124m'\u001b[39m\u001b[38;5;124mindiv\u001b[39m\u001b[38;5;124m'\u001b[39m, indiv)\n\u001b[1;32m----> 7\u001b[0m         x, y \u001b[38;5;241m=\u001b[39m \u001b[43mresult\u001b[49m\u001b[43m[\u001b[49m\u001b[43mindiv\u001b[49m\u001b[43m]\u001b[49m[\u001b[38;5;124m'\u001b[39m\u001b[38;5;124mposition\u001b[39m\u001b[38;5;124m'\u001b[39m][\u001b[38;5;241m-\u001b[39m\u001b[38;5;241m1\u001b[39m][\u001b[38;5;241m0\u001b[39m], result[indiv][\u001b[38;5;124m'\u001b[39m\u001b[38;5;124mposition\u001b[39m\u001b[38;5;124m'\u001b[39m][\u001b[38;5;241m-\u001b[39m\u001b[38;5;241m1\u001b[39m][\u001b[38;5;241m1\u001b[39m]\n\u001b[0;32m      8\u001b[0m         position_list \u001b[38;5;241m=\u001b[39m []\n\u001b[0;32m      9\u001b[0m         \u001b[38;5;28;01mfor\u001b[39;00m out \u001b[38;5;129;01min\u001b[39;00m result[indiv][\u001b[38;5;124m'\u001b[39m\u001b[38;5;124mout\u001b[39m\u001b[38;5;124m'\u001b[39m]:\n\u001b[0;32m     10\u001b[0m \u001b[38;5;66;03m#             if 'out' in out:\u001b[39;00m\n",
      "\u001b[1;31mTypeError\u001b[0m: 'NoneType' object is not subscriptable"
     ]
    }
   ],
   "source": [
    "k = 4\n",
    "n = 0\n",
    "while k>n: \n",
    "    print('n',n)\n",
    "    for indiv in result:\n",
    "        print('indiv', indiv)\n",
    "        x, y = result[indiv]['position'][-1][0], result[indiv]['position'][-1][1]\n",
    "        position_list = []\n",
    "        for out in result[indiv]['out']:\n",
    "#             if 'out' in out:\n",
    "            new_pos = move(out, result[indiv]['out'][out])\n",
    "            position_list.append(new_pos)\n",
    "        \n",
    "        position_list = list(map(sum, zip(*position_list)))\n",
    "        position_list = make_smaller_(position_list)\n",
    "        position_list = list(map(sum, zip(*[[x, y]] + [position_list])))\n",
    "                            \n",
    "        position_list[0] = normalize_position_if_outside_world(position_list[0], world_size_x)\n",
    "        position_list[1] = normalize_position_if_outside_world(position_list[1], world_size_y)\n",
    "#         print('norm', position_list)\n",
    "        result[indiv]['position'].append(position_list)\n",
    "######### if n>=1 proceed with neurons #######        \n",
    "        if n >= 1:\n",
    "            result = apply_input(result, indiv)\n",
    "        else:\n",
    "            pass\n",
    "        \n",
    "    last_pos_list = [result[obj]['position'][-1] for obj in result]\n",
    "    \n",
    "    for obj in range(len(last_pos_list)):\n",
    "        for i_nr, i in enumerate(last_pos_list[obj+1:], start=obj+1):\n",
    "            if last_pos_list[obj] == i:\n",
    "                result[i_nr]['position'][-1] = result[i_nr]['position'][-2]     \n",
    "    n += 1\n",
    "#     print()        \n",
    "# result"
   ]
  },
  {
   "cell_type": "code",
   "execution_count": null,
   "id": "390eb4d7",
   "metadata": {},
   "outputs": [],
   "source": []
  }
 ],
 "metadata": {
  "kernelspec": {
   "display_name": "Python 3 (ipykernel)",
   "language": "python",
   "name": "python3"
  },
  "language_info": {
   "codemirror_mode": {
    "name": "ipython",
    "version": 3
   },
   "file_extension": ".py",
   "mimetype": "text/x-python",
   "name": "python",
   "nbconvert_exporter": "python",
   "pygments_lexer": "ipython3",
   "version": "3.9.12"
  }
 },
 "nbformat": 4,
 "nbformat_minor": 5
}
