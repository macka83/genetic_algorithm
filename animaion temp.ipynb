{
 "cells": [
  {
   "cell_type": "code",
   "execution_count": 1,
   "id": "df39c550",
   "metadata": {
    "ExecuteTime": {
     "end_time": "2022-06-12T19:32:58.713109Z",
     "start_time": "2022-06-12T19:32:56.323884Z"
    },
    "scrolled": true
   },
   "outputs": [
    {
     "data": {
      "image/png": "[encoded data removed]",
      "text/plain": [
       "<Figure size 576x576 with 1 Axes>"
      ]
     },
     "metadata": {
      "needs_background": "light"
     },
     "output_type": "display_data"
    }
   ],
   "source": [
    "import sympy\n",
    "import numpy as np\n",
    "import matplotlib.pyplot as plt\n",
    "import matplotlib.animation as ani\n",
    "\n",
    "\n",
    "def convert_to_polar_coordinates(num):\n",
    "    return num*np.cos(num), num*np.sin(num)\n",
    "\n",
    "\n",
    "lim = 5000\n",
    "\n",
    "fig, ax = plt.subplots(figsize = (8, 8))\n",
    "primes = sympy.primerange(0, lim)\n",
    "primes = np.array(list(primes))\n",
    "x, y = convert_to_polar_coordinates(primes)\n",
    "\n",
    "\n",
    "def init():\n",
    "    ax.cla()\n",
    "    ax.plot([], [])\n",
    "\n",
    "\n",
    "def plot_in_polar(i):\n",
    "    ax.cla()\n",
    "    ax.plot(x[:i], y[:i], linestyle = '', marker = 'o', markersize = 1)\n",
    "    ax.set_xlim(-lim, lim)\n",
    "    ax.set_ylim(-lim, lim)\n",
    "    ax.axis(\"off\")\n"
   ]
  },
  {
   "cell_type": "code",
   "execution_count": 2,
   "id": "b7190833",
   "metadata": {
    "ExecuteTime": {
     "end_time": "2022-06-12T19:32:58.733006Z",
     "start_time": "2022-06-12T19:32:58.718118Z"
    }
   },
   "outputs": [],
   "source": [
    "animator = ani.FuncAnimation(fig = fig, func = plot_in_polar, interval = 20, frames = len(primes))\n",
    "\n",
    "plt.show()"
   ]
  },
  {
   "cell_type": "code",
   "execution_count": null,
   "id": "96b6e19e",
   "metadata": {},
   "outputs": [],
   "source": []
  }
 ],
 "metadata": {
  "kernelspec": {
   "display_name": "Python 3 (ipykernel)",
   "language": "python",
   "name": "python3"
  },
  "language_info": {
   "codemirror_mode": {
    "name": "ipython",
    "version": 3
   },
   "file_extension": ".py",
   "mimetype": "text/x-python",
   "name": "python",
   "nbconvert_exporter": "python",
   "pygments_lexer": "ipython3",
   "version": "3.9.12"
  }
 },
 "nbformat": 4,
 "nbformat_minor": 5
}
