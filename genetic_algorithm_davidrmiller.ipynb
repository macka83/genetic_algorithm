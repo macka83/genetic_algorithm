{
 "cells": [
  {
   "cell_type": "markdown",
   "id": "d3baa2e9",
   "metadata": {},
   "source": [
    "https://github.com/davidrmiller/biosim4\n"
   ]
  },
  {
   "cell_type": "code",
   "execution_count": 1,
   "id": "e089dc6f",
   "metadata": {},
   "outputs": [],
   "source": [
    "from secrets import token_hex\n",
    "import secrets\n",
    "import random\n",
    "from collections import Counter\n",
    "import numpy as np\n",
    "import matplotlib.pyplot as plt"
   ]
  },
  {
   "cell_type": "markdown",
   "id": "86d2e542",
   "metadata": {},
   "source": [
    "decode hexadecimal"
   ]
  },
  {
   "cell_type": "code",
   "execution_count": 2,
   "id": "14c578ca",
   "metadata": {},
   "outputs": [],
   "source": [
    "def split_genome(hexval):\n",
    "    binary = bin(int(hexval, 16))[2:]\n",
    "    if len(binary) < 32:\n",
    "        factor = 32 - len(binary)\n",
    "        binary = '0' * factor + binary\n",
    "  \n",
    "    source_type, source_id = binary[0], binary[1:8]\n",
    "    sink_type, sink_id = binary[8], binary[9:16]\n",
    "    weight_sign, weight = binary[16], binary[17:]\n",
    "\n",
    "    gene_value_list = {key:int(val, 2) for key, val in zip(['source_type', 'source_id', 'sink_type', 'sink_id', 'weight_sign', 'weight'],\n",
    "                                          [source_type, source_id, sink_type, sink_id, weight_sign, weight])}\n",
    "    \n",
    "    return gene_value_list"
   ]
  },
  {
   "cell_type": "markdown",
   "id": "2393430c",
   "metadata": {},
   "source": [
    "hexadecimal generator"
   ]
  },
  {
   "cell_type": "code",
   "execution_count": 3,
   "id": "e7984d1e",
   "metadata": {},
   "outputs": [],
   "source": [
    "nr_of_input = 13\n",
    "nr_of_actions = 5\n",
    "nr_of_inner = 1\n",
    "nr_of_genes = 4\n",
    "\n",
    "def generate_initial_genomes_for_population(nr_individuals, nr_of_genes, nr_of_input, nr_of_actions, nr_of_inner):\n",
    "    lista = {}\n",
    "    for nr_idividual in range(nr_individuals):\n",
    "        gene_translated = {}\n",
    "        hexa_list = [token_hex(4) for i in range(nr_of_genes)]\n",
    "        for hexval in hexa_list:\n",
    "\n",
    "            gen_component = split_genome(hexval)\n",
    "            \n",
    "            if gen_component['source_type'] == 0:\n",
    "                input_id = [gen_component['source_id'] % nr_of_input, 'in']\n",
    "            elif gen_component['source_type'] == 1:\n",
    "                input_id = [gen_component['source_id'] % nr_of_inner, 'mid']\n",
    "            \n",
    "            if gen_component['sink_type'] == 0:\n",
    "                output_id = [gen_component['sink_id'] % nr_of_inner, 'mid']\n",
    "            elif gen_component['sink_type'] == 1:\n",
    "                output_id = [gen_component['sink_id'] % nr_of_actions, 'out']\n",
    "\n",
    "            if gen_component['weight_sign'] == 0:\n",
    "                weight_val = (gen_component['weight'] /8191.25) * -1\n",
    "            elif gen_component['weight_sign'] == 1:\n",
    "                weight_val = gen_component['weight'] / 8191.25\n",
    "\n",
    "            gene_translated[hexval] = {'input':input_id, 'weight':weight_val, 'output':output_id}\n",
    "        lista[nr_idividual] = gene_translated\n",
    "    return lista          "
   ]
  },
  {
   "cell_type": "code",
   "execution_count": 4,
   "id": "90222154",
   "metadata": {},
   "outputs": [
    {
     "data": {
      "text/plain": [
       "{0: {'b05068dc': {'input': [0, 'mid'],\n",
       "   'weight': -3.277155501297116,\n",
       "   'output': [0, 'mid']},\n",
       "  'a299194d': {'input': [0, 'mid'],\n",
       "   'weight': -0.790721806806043,\n",
       "   'output': [0, 'out']},\n",
       "  '61922695': {'input': [6, 'in'],\n",
       "   'weight': -1.205798870746223,\n",
       "   'output': [3, 'out']},\n",
       "  '503eb1a2': {'input': [2, 'in'],\n",
       "   'weight': 1.5511674042423318,\n",
       "   'output': [0, 'mid']}},\n",
       " 1: {'4edee770': {'input': [0, 'in'],\n",
       "   'weight': 3.2327178391576377,\n",
       "   'output': [4, 'out']},\n",
       "  '8f83055b': {'input': [0, 'mid'],\n",
       "   'weight': -0.16737372195940792,\n",
       "   'output': [3, 'out']},\n",
       "  'd152833f': {'input': [0, 'mid'],\n",
       "   'weight': 0.10144971768655578,\n",
       "   'output': [0, 'mid']},\n",
       "  '644b6221': {'input': [9, 'in'],\n",
       "   'weight': -3.0668090950709597,\n",
       "   'output': [0, 'mid']}}}"
      ]
     },
     "execution_count": 4,
     "metadata": {},
     "output_type": "execute_result"
    }
   ],
   "source": [
    "res = generate_initial_genomes_for_population(2, 4, nr_of_input, nr_of_actions, nr_of_inner)\n",
    "res"
   ]
  },
  {
   "cell_type": "code",
   "execution_count": 5,
   "id": "5f201c27",
   "metadata": {},
   "outputs": [
    {
     "data": {
      "text/plain": [
       "{'4edee770': {'input': [0, 'in'],\n",
       "  'weight': 3.2327178391576377,\n",
       "  'output': [4, 'out']},\n",
       " '8f83055b': {'input': [0, 'mid'],\n",
       "  'weight': -0.16737372195940792,\n",
       "  'output': [3, 'out']},\n",
       " 'd152833f': {'input': [0, 'mid'],\n",
       "  'weight': 0.10144971768655578,\n",
       "  'output': [0, 'mid']},\n",
       " '644b6221': {'input': [9, 'in'],\n",
       "  'weight': -3.0668090950709597,\n",
       "  'output': [0, 'mid']}}"
      ]
     },
     "execution_count": 5,
     "metadata": {},
     "output_type": "execute_result"
    }
   ],
   "source": [
    "res[1]"
   ]
  },
  {
   "cell_type": "code",
   "execution_count": 6,
   "id": "7bb8bcde",
   "metadata": {},
   "outputs": [
    {
     "name": "stdout",
     "output_type": "stream",
     "text": [
      "{'input': [0, 'mid'], 'weight': -3.277155501297116, 'output': [0, 'mid']}\n",
      "{'input': [0, 'mid'], 'weight': -0.790721806806043, 'output': [0, 'out']}\n",
      "{'input': [6, 'in'], 'weight': -1.205798870746223, 'output': [3, 'out']}\n",
      "{'input': [2, 'in'], 'weight': 1.5511674042423318, 'output': [0, 'mid']}\n"
     ]
    }
   ],
   "source": [
    "\n",
    "for hexa in res[0]:\n",
    "    print(res[0][hexa])"
   ]
  },
  {
   "cell_type": "markdown",
   "id": "0c50b70f",
   "metadata": {},
   "source": [
    "### data model"
   ]
  },
  {
   "cell_type": "code",
   "execution_count": 7,
   "id": "b4523c17",
   "metadata": {},
   "outputs": [],
   "source": [
    "obj_list = {0:{'coord': [[2,3]], 'neuron':\n",
    "               {'e20775ad': {'input': [0, 'mid'],'weight': -3.6777048679993896, 'output': [0, 'mid']},\n",
    "                'ef9aa29c': {'input': [0, 'mid'], 'weight': 1.0816419960323516, 'output': [1, 'out']},\n",
    "                '9bdf3966': {'input': [0, 'mid'], 'weight': -1.793865405157943,'output': [0, 'out']},\n",
    "                'a079dd71': {'input': [0, 'mid'], 'weight': 2.920311307797955,'output': [0, 'mid']}}},\n",
    "            1:{'coord': [[2,3]], 'neuron':\n",
    "              {'b18c8e5e': {'input': [0, 'mid'],'weight': 0.4490157179917595,'output': [2, 'out']},\n",
    "               'b8f967c7': {'input': [0, 'mid'],  'weight': -3.2433389287349303, 'output': [1, 'out']},\n",
    "               '673cf9a3': {'input': [12, 'in'], 'weight': 3.8014954982450786, 'output': [0, 'mid']},\n",
    "               'c1a2706c': {'input': [0, 'mid'], 'weight': -3.51350526476423, 'output': [4, 'out']}}}}\n"
   ]
  },
  {
   "cell_type": "markdown",
   "id": "80f5a777",
   "metadata": {},
   "source": [
    "## or"
   ]
  },
  {
   "cell_type": "code",
   "execution_count": null,
   "id": "9628b086",
   "metadata": {},
   "outputs": [],
   "source": [
    "class Creature():\n",
    "    "
   ]
  },
  {
   "cell_type": "markdown",
   "id": "46817ce8",
   "metadata": {},
   "source": [
    "### funkcje neuronów"
   ]
  },
  {
   "cell_type": "markdown",
   "id": "d2b1545b",
   "metadata": {},
   "source": [
    "input"
   ]
  },
  {
   "cell_type": "code",
   "execution_count": 8,
   "id": "9d1e9424",
   "metadata": {},
   "outputs": [],
   "source": [
    "# Odległość od granicy świata x \n",
    "\n",
    "# -5-5\n",
    "\n",
    "# Odległość od granicy świata y\n",
    "\n",
    "# -5-5\n",
    "\n",
    "# Bliska przeszkoda\n",
    "\n",
    "def close_obstacle(obj_loc_x, obj_loc_y, obj_list):\n",
    "    select_obst = 0\n",
    "    # iteruj po liście bez obiektu\n",
    "    for obj_nr in obj_list:\n",
    "        if obj_nr['coord'][0] - obj_loc_x == abs(1) and obj_nr['coord'][1] - obj_loc_y == abs(1):\n",
    "            select_obst += 1\n",
    "            \n",
    "    return select_obst/8\n",
    "       \n",
    "# Daleka przeszkoda gdy ruch po osi x\n",
    "\n",
    "def distant_obstacle_x_coord(obj_loc_x, obj_list):\n",
    "    select_obst = 0\n",
    "    # iteruj po liście bez obiektu\n",
    "    for obj_nr in obj_list:\n",
    "        if obj_nr['coord'][0] - obj_loc_x <= abs(5):\n",
    "            select_obst += 1\n",
    "            \n",
    "    return select_obst/121\n",
    "\n",
    "# Daleka przeszkoda gdy ruch po osi y\n",
    "\n",
    "# to samo j.w.\n",
    "def distant_obstacle_y_coord(obj_loc_y, obj_list):\n",
    "    select_obst = 0\n",
    "    # iteruj po liście bez obiektu\n",
    "    for obj_nr in obj_list:\n",
    "        if obj_nr['coord'][0] - obj_loc_y <= abs(5):\n",
    "            select_obst += 1\n",
    "            \n",
    "    return select_obst/121\n"
   ]
  },
  {
   "cell_type": "markdown",
   "id": "a067128c",
   "metadata": {},
   "source": [
    "output"
   ]
  },
  {
   "cell_type": "markdown",
   "id": "d33b1140",
   "metadata": {},
   "source": [
    "przykład jak zastosować neurony executeActions.cpp"
   ]
  },
  {
   "cell_type": "code",
   "execution_count": 9,
   "id": "596fa753",
   "metadata": {},
   "outputs": [],
   "source": [
    "def ruch_x(weight):\n",
    "    weight_abs = abs(weight)\n",
    "    x = np.random.choice(2, 1, p=[1-weight_abs, weight_abs])\n",
    "    if weight < 0:\n",
    "        x = x * -1\n",
    "    return x\n",
    "\n",
    "def ruch_y(weight):\n",
    "    weight_abs = abs(weight)\n",
    "    y = np.random.choice(2, 1, p=[1-weight_abs, weight_abs])\n",
    "    if weight < 0:\n",
    "        y = y * -1\n",
    "    return y\n",
    "   \n",
    "# Ruch losowy\n",
    "\n",
    "def random_move():\n",
    "    x,y = np.round(np.random.uniform(low=-1, high=1.0, size=2))\n",
    "    return x,y\n",
    "    "
   ]
  },
  {
   "cell_type": "markdown",
   "id": "4b571e4e",
   "metadata": {},
   "source": [
    "generate coord with given p value"
   ]
  },
  {
   "cell_type": "code",
   "execution_count": 10,
   "id": "c20c2586",
   "metadata": {
    "scrolled": true
   },
   "outputs": [
    {
     "name": "stdout",
     "output_type": "stream",
     "text": [
      "[1]\n",
      "[0]\n",
      "[1]\n",
      "[0]\n",
      "[1]\n",
      "[1]\n",
      "[1]\n",
      "[0]\n",
      "[1]\n",
      "[1]\n",
      "[1]\n",
      "[1]\n",
      "[1]\n",
      "[0]\n",
      "[1]\n",
      "[0]\n",
      "[1]\n",
      "[0]\n",
      "[1]\n",
      "[0]\n"
     ]
    }
   ],
   "source": [
    "# prawdopodobieństwo wystąpienia 1\n",
    "\n",
    "for i in range(10):\n",
    "    print(np.random.choice(2, 1, p=[0.01,0.99]))\n",
    "    print(np.random.choice(2, 1, p=[0.71,0.29]))\n"
   ]
  },
  {
   "cell_type": "code",
   "execution_count": null,
   "id": "b0ee0647",
   "metadata": {},
   "outputs": [],
   "source": []
  }
 ],
 "metadata": {
  "kernelspec": {
   "display_name": "Python 3 (ipykernel)",
   "language": "python",
   "name": "python3"
  },
  "language_info": {
   "codemirror_mode": {
    "name": "ipython",
    "version": 3
   },
   "file_extension": ".py",
   "mimetype": "text/x-python",
   "name": "python",
   "nbconvert_exporter": "python",
   "pygments_lexer": "ipython3",
   "version": "3.9.7"
  }
 },
 "nbformat": 4,
 "nbformat_minor": 5
}
