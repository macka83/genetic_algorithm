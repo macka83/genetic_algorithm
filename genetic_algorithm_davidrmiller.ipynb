{
 "cells": [
  {
   "cell_type": "markdown",
   "id": "d3baa2e9",
   "metadata": {},
   "source": [
    "https://github.com/davidrmiller/biosim4\n"
   ]
  },
  {
   "cell_type": "code",
   "execution_count": 1,
   "id": "e089dc6f",
   "metadata": {},
   "outputs": [],
   "source": [
    "from secrets import token_hex\n",
    "import secrets\n",
    "import random\n",
    "from collections import Counter\n",
    "import numpy as np\n",
    "import matplotlib.pyplot as plt"
   ]
  },
  {
   "cell_type": "markdown",
   "id": "46817ce8",
   "metadata": {},
   "source": [
    "### funkcje neuronów"
   ]
  },
  {
   "cell_type": "markdown",
   "id": "d2b1545b",
   "metadata": {},
   "source": [
    "input"
   ]
  },
  {
   "cell_type": "code",
   "execution_count": 2,
   "id": "9d1e9424",
   "metadata": {
    "code_folding": [
     4,
     15,
     27
    ]
   },
   "outputs": [],
   "source": [
    "# Bliska przeszkoda\n",
    "def close_obstacle(obj_loc_x, obj_loc_y, obj_list):\n",
    "    select_obst = 0\n",
    "    # iteruj po liście bez obiektu\n",
    "    for obj_nr in obj_list:\n",
    "        if obj_nr['coord'][0] - obj_loc_x == abs(1) and obj_nr['coord'][1] - obj_loc_y == abs(1):\n",
    "            select_obst += 1\n",
    "            \n",
    "    return select_obst/8\n",
    "       \n",
    "# Daleka przeszkoda gdy ruch po osi x\n",
    "def distant_obstacle_x_coord(obj_loc_x, obj_list):\n",
    "    select_obst = 0\n",
    "    # iteruj po liście bez obiektu\n",
    "    for obj_nr in obj_list:\n",
    "        if obj_nr['coord'][0] - obj_loc_x <= abs(5):\n",
    "            select_obst += 1\n",
    "            \n",
    "    return select_obst/121\n",
    "\n",
    "# Daleka przeszkoda gdy ruch po osi y\n",
    "# to samo j.w.\n",
    "def distant_obstacle_y_coord(obj_loc_y, obj_list):\n",
    "    select_obst = 0\n",
    "    # iteruj po liście bez obiektu\n",
    "    for obj_nr in obj_list:\n",
    "        if obj_nr['coord'][0] - obj_loc_y <= abs(5):\n",
    "            select_obst += 1\n",
    "            \n",
    "    return select_obst/121\n"
   ]
  },
  {
   "cell_type": "markdown",
   "id": "a067128c",
   "metadata": {},
   "source": [
    "output"
   ]
  },
  {
   "cell_type": "markdown",
   "id": "d33b1140",
   "metadata": {},
   "source": [
    "przykład jak zastosować neurony executeActions.cpp"
   ]
  },
  {
   "cell_type": "code",
   "execution_count": 3,
   "id": "596fa753",
   "metadata": {
    "code_folding": [
     0,
     7,
     14
    ]
   },
   "outputs": [],
   "source": [
    "def move_x(weight):\n",
    "    weight_abs = abs(weight)\n",
    "    x = np.random.choice(2, 1, p=[1-weight_abs, weight_abs])\n",
    "    if weight < 0:\n",
    "        x = x * -1\n",
    "    return x\n",
    "\n",
    "def move_y(weight):\n",
    "    weight_abs = abs(weight)\n",
    "    y = np.random.choice(2, 1, p=[1-weight_abs, weight_abs])\n",
    "    if weight < 0:\n",
    "        y = y * -1\n",
    "    return y\n",
    "\n",
    "def random_move():\n",
    "    x,y = np.round(np.random.uniform(low=-1, high=1.0, size=2))\n",
    "    return x,y\n",
    "    "
   ]
  },
  {
   "cell_type": "markdown",
   "id": "86d2e542",
   "metadata": {},
   "source": [
    "decode hexadecimal"
   ]
  },
  {
   "cell_type": "code",
   "execution_count": 4,
   "id": "14c578ca",
   "metadata": {
    "code_folding": [
     15,
     66,
     72
    ]
   },
   "outputs": [],
   "source": [
    "def split_genome(hexval):\n",
    "    binary = bin(int(hexval, 16))[2:]\n",
    "    if len(binary) < 32:\n",
    "        factor = 32 - len(binary)\n",
    "        binary = '0' * factor + binary\n",
    "  \n",
    "    source_type, source_id = binary[0], binary[1:8]\n",
    "    sink_type, sink_id = binary[8], binary[9:16]\n",
    "    weight_sign, weight = binary[16], binary[17:]\n",
    "\n",
    "    gene_value_list = {key:int(val, 2) for key, val in zip(['source_type', 'source_id', 'sink_type', 'sink_id', 'weight_sign', 'weight'],\n",
    "                                          [source_type, source_id, sink_type, sink_id, weight_sign, weight])}\n",
    "    \n",
    "    return gene_value_list\n",
    "\n",
    "def get_neurons_body(gen_component, nr_of_input, nr_of_inner, nr_of_actions):\n",
    "    if gen_component['source_type'] == 0:\n",
    "        input_id = gen_component['source_id'] % nr_of_input\n",
    "        input_type = 'in'\n",
    "    elif gen_component['source_type'] == 1:\n",
    "        input_id = gen_component['source_id'] % nr_of_inner\n",
    "        input_type = 'mid'\n",
    "\n",
    "    if gen_component['sink_type'] == 0:\n",
    "        output_id = gen_component['sink_id'] % nr_of_inner\n",
    "        output_type = 'mid'\n",
    "    elif gen_component['sink_type'] == 1:\n",
    "        output_id = gen_component['sink_id'] % nr_of_actions\n",
    "        output_type = 'out'\n",
    "\n",
    "    if gen_component['weight_sign'] == 0:\n",
    "        weight = (gen_component['weight'] /8191.25) * -1\n",
    "    elif gen_component['weight_sign'] == 1:\n",
    "        weight = gen_component['weight'] / 8191.25\n",
    "\n",
    "    differ_neuron = f'{input_id}{input_type}{output_id}{output_type}'\n",
    "    \n",
    "    return input_id, input_type, weight, output_id, output_type, differ_neuron\n",
    "\n",
    "def sum_weights_from_duplicated_neurons(gene_translated, l):\n",
    "    if gene_translated:\n",
    "        for neuron in gene_translated:\n",
    "    #                     print('neuron', neuron.differ_neuron)\n",
    "            if neuron.differ_neuron == l.differ_neuron:\n",
    "                neuron.weight = neuron.weight + l.weight\n",
    "            else:\n",
    "                gene_translated.append(l)\n",
    "                break\n",
    "    else:\n",
    "        gene_translated.append(l)\n",
    "\n",
    "def generate_initial_genomes_for_population(nr_individuals, nr_of_genes, nr_of_input, nr_of_actions, nr_of_inner):\n",
    "    lista = {}\n",
    "    for nr_idividual in range(nr_individuals):\n",
    "        gene_translated = []\n",
    "        hexa_list = [token_hex(4) for i in range(nr_of_genes)]\n",
    "        for l, hex_id in enumerate(hexa_list):\n",
    "\n",
    "            gen_component = split_genome(hex_id)\n",
    "            \n",
    "            input_id, input_type, weight, output_id, output_type, differ_neuron = get_neurons_body(gen_component, nr_of_input, nr_of_inner, nr_of_actions)\n",
    "            \n",
    "            l = Neuron(hex_id, input_id, input_type, weight, output_id, output_type, differ_neuron)\n",
    "\n",
    "            sum_weights_from_duplicated_neurons(gene_translated, l)\n",
    "\n",
    "        lista[nr_idividual] = gene_translated\n",
    "    return lista          \n",
    "\n",
    "class Creature():\n",
    "    def __init__(self, brain, x, y):\n",
    "        self.brain = brain\n",
    "        self.x = x\n",
    "        self.y = y\n",
    "\n",
    "class Neuron():\n",
    "    def __init__(self, hex_id, input_id, input_type, weight, \n",
    "                 output_id, output_type, differ_neuron):\n",
    "        self.hex_id = hex_id\n",
    "        self.input_id = input_id\n",
    "        self.input_type = input_type\n",
    "        self.weight = weight\n",
    "        self.output_id = output_id\n",
    "        self.output_type = output_type\n",
    "        self.differ_neuron = differ_neuron"
   ]
  },
  {
   "cell_type": "markdown",
   "id": "2393430c",
   "metadata": {},
   "source": [
    "hexadecimal generator"
   ]
  },
  {
   "cell_type": "code",
   "execution_count": 14,
   "id": "e7984d1e",
   "metadata": {},
   "outputs": [
    {
     "name": "stdout",
     "output_type": "stream",
     "text": [
      "0 1in2out\n",
      "1 0mid0mid\n",
      "2 2in0mid\n",
      "3 0in0mid\n",
      "\n",
      "0 1in0out\n",
      "1 0mid0mid\n",
      "2 0mid0out\n",
      "3 2in0out\n",
      "\n",
      "0 2in0mid\n",
      "1 0mid0mid\n",
      "2 0mid0mid\n",
      "3 0mid0out\n",
      "\n",
      "0 0mid0mid\n",
      "1 0in2out\n",
      "2 0mid2out\n",
      "3 0mid0mid\n",
      "\n"
     ]
    }
   ],
   "source": [
    "nr_of_input = 3\n",
    "nr_of_actions = 3\n",
    "nr_of_inner = 1\n",
    "nr_of_genes = 4\n",
    "nr_individuals = 4\n",
    "\n",
    "\n",
    "res = generate_initial_genomes_for_population(nr_individuals, nr_of_genes, nr_of_input, nr_of_actions, nr_of_inner)\n",
    "\n",
    "for l in res:\n",
    "    for nr, i in enumerate(res[l]):\n",
    "        print(nr, i.differ_neuron)\n",
    "    print()\n"
   ]
  },
  {
   "cell_type": "code",
   "execution_count": 10,
   "id": "7bb8bcde",
   "metadata": {},
   "outputs": [
    {
     "name": "stdout",
     "output_type": "stream",
     "text": [
      "0 0mid0mid\n",
      "1 0in1out\n",
      "2 0mid0mid\n"
     ]
    }
   ],
   "source": [
    "for nr, i in enumerate(res[1]):\n",
    "    print(nr, i.differ_neuron)\n",
    "#     print(i)\n"
   ]
  },
  {
   "cell_type": "markdown",
   "id": "0c50b70f",
   "metadata": {},
   "source": [
    "### old data model"
   ]
  },
  {
   "cell_type": "code",
   "execution_count": 7,
   "id": "b4523c17",
   "metadata": {},
   "outputs": [],
   "source": [
    "obj_list = {0:{'coord': [[2,3]], 'neuron':\n",
    "               {'e20775ad': {'input': [0, 'mid'],'weight': -3.6777048679993896, 'output': [0, 'mid']},\n",
    "                'ef9aa29c': {'input': [0, 'mid'], 'weight': 1.0816419960323516, 'output': [1, 'out']},\n",
    "                '9bdf3966': {'input': [0, 'mid'], 'weight': -1.793865405157943,'output': [0, 'out']},\n",
    "                'a079dd71': {'input': [0, 'mid'], 'weight': 2.920311307797955,'output': [0, 'mid']}}},\n",
    "            1:{'coord': [[2,3]], 'neuron':\n",
    "              {'b18c8e5e': {'input': [0, 'mid'],'weight': 0.4490157179917595,'output': [2, 'out']},\n",
    "               'b8f967c7': {'input': [0, 'mid'],  'weight': -3.2433389287349303, 'output': [1, 'out']},\n",
    "               '673cf9a3': {'input': [12, 'in'], 'weight': 3.8014954982450786, 'output': [0, 'mid']},\n",
    "               'c1a2706c': {'input': [0, 'mid'], 'weight': -3.51350526476423, 'output': [4, 'out']}}}}\n"
   ]
  }
 ],
 "metadata": {
  "kernelspec": {
   "display_name": "Python 3 (ipykernel)",
   "language": "python",
   "name": "python3"
  },
  "language_info": {
   "codemirror_mode": {
    "name": "ipython",
    "version": 3
   },
   "file_extension": ".py",
   "mimetype": "text/x-python",
   "name": "python",
   "nbconvert_exporter": "python",
   "pygments_lexer": "ipython3",
   "version": "3.9.7"
  }
 },
 "nbformat": 4,
 "nbformat_minor": 5
}
