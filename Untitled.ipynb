{
 "cells": [
  {
   "cell_type": "markdown",
   "id": "c5db8aae",
   "metadata": {},
   "source": [
    "* 1) inital population\n",
    "* 2) movement with respect to inout neurons  \n",
    "    * a) input neurons sensitive to  \n",
    "        * aa) close obstacle (1 point ahead)  \n",
    "        * bb) distant obstacle (up to 5 points ahead)  \n",
    "    b) output neurons move  \n",
    "        aa) north  \n",
    "        bb) south  \n",
    "        cc) east  \n",
    "        dd) west  \n",
    "        ee) randomly  \n",
    "    \n",
    "3) select individuals from safe zone\n",
    "4) asexual reproduction + mutation"
   ]
  },
  {
   "cell_type": "code",
   "execution_count": null,
   "id": "d7577afa",
   "metadata": {},
   "outputs": [],
   "source": []
  }
 ],
 "metadata": {
  "kernelspec": {
   "display_name": "Python 3 (ipykernel)",
   "language": "python",
   "name": "python3"
  },
  "language_info": {
   "codemirror_mode": {
    "name": "ipython",
    "version": 3
   },
   "file_extension": ".py",
   "mimetype": "text/x-python",
   "name": "python",
   "nbconvert_exporter": "python",
   "pygments_lexer": "ipython3",
   "version": "3.9.12"
  }
 },
 "nbformat": 4,
 "nbformat_minor": 5
}
