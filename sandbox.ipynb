{
 "cells": [
  {
   "cell_type": "markdown",
   "id": "d1c50c7f",
   "metadata": {},
   "source": [
    "https://www.geeksforgeeks.org/building-an-undirected-graph-and-finding-shortest-path-using-dictionaries-in-python/"
   ]
  },
  {
   "cell_type": "code",
   "execution_count": 1,
   "id": "a8a82ced",
   "metadata": {},
   "outputs": [],
   "source": [
    "a = {0: {'1in1mid': ['1in', '1mid', -3.4778574698611324],\n",
    "  '2in1mid': ['2in', '1mid', -3.537189073706699],\n",
    "  '0in2out': ['0in', '2out', 3.4962917747596522],\n",
    "  '1mid0out': ['1mid', '0out', 1.4107736914390356],\n",
    "  '2in0out': ['2in', '0out', -2.4223409125591333],\n",
    "  '2in0mid': ['2in', '0mid', 3.093300778269495],\n",
    "  '0in0mid': ['0in', '0mid', 3.600671448191668],\n",
    "  '1in2out': ['1in', '2out', 1.9732031130779795],\n",
    "  '0in1mid': ['0in', '1mid', 1.185655424996185],\n",
    "  '1mid1out': ['1mid', '1out', -3.5000763009308713],\n",
    "  '0mid0out': ['0mid', '0out', -1.4421486342133374],\n",
    "  '1mid1mid': ['1mid', '1mid', -1.641385624904624],\n",
    "  '2in1out': ['2in', '1out', 0.8849687166183428]},\n",
    " 1: {'0mid1out': ['0mid', '1out', -2.2372653746375706],\n",
    "  '0in1mid': ['0in', '1mid', 0.4576835037387456],\n",
    "  '1mid1out': ['1mid', '1out', -0.02539294979398749],\n",
    "  '1in0mid': ['1in', '0mid', 2.5090187700289945],\n",
    "  '0in2out': ['0in', '2out', 3.17131084999237],\n",
    "  '2in1out': ['2in', '1out', 3.8260338776133067],\n",
    "  '1in1mid': ['1in', '1mid', 0.7398138257286739],\n",
    "  '1mid0mid': ['1mid', '0mid', 1.7587059362124218],\n",
    "  '2in1mid': ['2in', '1mid', 3.0035708835647794],\n",
    "  '0mid1mid': ['0mid', '1mid', -2.4100106821303218]}}"
   ]
  },
  {
   "cell_type": "code",
   "execution_count": null,
   "id": "4ec3e476",
   "metadata": {},
   "outputs": [],
   "source": []
  },
  {
   "cell_type": "code",
   "execution_count": 2,
   "id": "03c0a070",
   "metadata": {},
   "outputs": [],
   "source": [
    "dic = {}\n",
    "for i in a[0]:\n",
    "    partial_out = a[0][i][1]\n",
    "    weight = a[0][i][2]\n",
    "    if partial_out not in dic:\n",
    "        dic[partial_out] = weight\n",
    "    else:\n",
    "        dic[partial_out] += weight"
   ]
  },
  {
   "cell_type": "code",
   "execution_count": 3,
   "id": "cd781b79",
   "metadata": {},
   "outputs": [
    {
     "name": "stdout",
     "output_type": "stream",
     "text": [
      "dict_keys(['1mid', '2out', '0out', '0mid', '1out'])\n",
      "{'1mid': -7.47077674347627, '2out': 5.469494887837632, '0out': -2.453715855333435, '0mid': 6.693972226461163, '1out': -2.6151075843125287}\n"
     ]
    }
   ],
   "source": [
    "print(dic.keys())\n",
    "print(dic)"
   ]
  },
  {
   "cell_type": "code",
   "execution_count": 4,
   "id": "ef884b86",
   "metadata": {},
   "outputs": [],
   "source": [
    "dic_sec_round = {}\n",
    "for j in a[0]:\n",
    "    partial_in = a[0][j][0]\n",
    "    partial_out = a[0][j][1]\n",
    "    intersect = set([partial_in, partial_out]).intersection(set(dic.keys()))\n",
    "    if len(intersect) == 2 and partial_out in dic_sec_round:\n",
    "        dic_sec_round[partial_out].append(partial_in)\n",
    "    elif len(intersect) == 2 and partial_out not in dic_sec_round:\n",
    "        dic_sec_round[partial_out] = [partial_in]        "
   ]
  },
  {
   "cell_type": "code",
   "execution_count": 5,
   "id": "dc6db77a",
   "metadata": {},
   "outputs": [
    {
     "data": {
      "text/plain": [
       "{'0out': ['1mid', '0mid'], '1out': ['1mid']}"
      ]
     },
     "execution_count": 5,
     "metadata": {},
     "output_type": "execute_result"
    }
   ],
   "source": [
    "dic_sec_round"
   ]
  },
  {
   "cell_type": "code",
   "execution_count": null,
   "id": "8b968ebf",
   "metadata": {},
   "outputs": [],
   "source": []
  }
 ],
 "metadata": {
  "kernelspec": {
   "display_name": "Python 3 (ipykernel)",
   "language": "python",
   "name": "python3"
  },
  "language_info": {
   "codemirror_mode": {
    "name": "ipython",
    "version": 3
   },
   "file_extension": ".py",
   "mimetype": "text/x-python",
   "name": "python",
   "nbconvert_exporter": "python",
   "pygments_lexer": "ipython3",
   "version": "3.9.7"
  }
 },
 "nbformat": 4,
 "nbformat_minor": 5
}
