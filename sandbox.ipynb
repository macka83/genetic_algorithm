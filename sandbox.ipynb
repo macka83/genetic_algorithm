{
 "cells": [
  {
   "cell_type": "markdown",
   "id": "d1c50c7f",
   "metadata": {},
   "source": [
    "https://www.geeksforgeeks.org/building-an-undirected-graph-and-finding-shortest-path-using-dictionaries-in-python/"
   ]
  },
  {
   "cell_type": "code",
   "execution_count": null,
   "id": "1d3de85e",
   "metadata": {
    "code_folding": [
     33,
     53,
     54,
     58,
     61
    ]
   },
   "outputs": [],
   "source": [
    "generate network from out up, calculate down\n",
    "\n",
    "\n",
    "# n_mid = 0\n",
    "# n_out = 2\n",
    "# edges = [['2in','2out'],\n",
    "#   ['0in','0out'],\n",
    "#   ['2in','0mid'],\n",
    "#   ['0mid','2out'],\n",
    "#   ['0mid','0mid'],\n",
    "#   ['0mid','0out']]\n",
    "\n",
    "\n",
    "# n_out = 2\n",
    "# edges = [['0in', '0mid'],\n",
    "#          ['2in', '1mid'],\n",
    "#          ['0mid', '1mid'],\n",
    "#          ['0in', '0out'],\n",
    "#          ['1mid', '1mid'],\n",
    "#          ['0mid', '0mid'],\n",
    "#          ['2in', '1mid'],\n",
    "#          ['1mid', '0mid'],\n",
    "#          ['0mid', '0out'],\n",
    "#          ['2in', '1out'],\n",
    "#          ['0mid', '2out'],\n",
    "#          ['1mid', '0mid'],\n",
    "#          ['0mid', '0mid'],\n",
    "#          ['0in', '0mid'],\n",
    "#          ['0in', '1out'],\n",
    "#          ['0in', '0mid']]\n",
    "\n",
    "n_mid = 1\n",
    "n_out = 2\n",
    "edges = [['1mid','0mid'],\n",
    "      ['0mid','2out'],\n",
    "      ['1in','1out'],\n",
    "      ['0in','0mid'],\n",
    "      ['0in','2out'],\n",
    "      ['0in','0out'],\n",
    "      ['0mid','0mid'],\n",
    "      ['2in','0mid'],\n",
    "      ['0mid','1out'],\n",
    "      ['0in','1out']]\n",
    "\n",
    "new algoritm for neuron creation\n",
    "\n",
    "out = {f'{n}out':{} for n in range(n_out+1)}\n",
    "sorted(edges, key=lambda x: x[1])\n",
    "\n",
    "out = {f'{n}out':{} for n in range(n_out+1)}\n",
    "\n",
    "def mid_neuron(out, edges):\n",
    "    for key in out:\n",
    "        for item in edges:\n",
    "            if key == item[1] and 'mid' in item[0] and key != item[0]:\n",
    "                out[key].update({item[0]:{}})\n",
    "                mid_neuron(out[key], edges)\n",
    "                \n",
    "            elif key == item[1] and 'mid' in item[0] and key == item[0]:\n",
    "                out[key].update({item[0]:{}})\n",
    "                \n",
    "            elif key == item[1] and 'mid' not in item[0]:\n",
    "                out[key].update({item[0]:{}})\n",
    "\n",
    "mid_neuron(out, edges)\n",
    "\n",
    "out\n",
    "\n"
   ]
  },
  {
   "cell_type": "code",
   "execution_count": 1,
   "id": "886b286f",
   "metadata": {},
   "outputs": [],
   "source": [
    "class small_neuron():\n",
    "    def __init__(self, name, weight):\n",
    "        self.name = name\n",
    "        self.weight = weight\n",
    "        \n"
   ]
  },
  {
   "cell_type": "code",
   "execution_count": 2,
   "id": "51750e6f",
   "metadata": {},
   "outputs": [],
   "source": [
    "a = small_neuron('in', 657)\n",
    "b = small_neuron('mid', 234)"
   ]
  },
  {
   "cell_type": "code",
   "execution_count": 3,
   "id": "9e14c2a1",
   "metadata": {},
   "outputs": [],
   "source": [
    "c = [a,b]"
   ]
  },
  {
   "cell_type": "code",
   "execution_count": 4,
   "id": "2c697807",
   "metadata": {},
   "outputs": [
    {
     "name": "stdout",
     "output_type": "stream",
     "text": [
      "in\n",
      "mid\n"
     ]
    }
   ],
   "source": [
    "for l in c:\n",
    "    print(l.name)"
   ]
  },
  {
   "cell_type": "code",
   "execution_count": null,
   "id": "b9d1e975",
   "metadata": {},
   "outputs": [],
   "source": []
  }
 ],
 "metadata": {
  "kernelspec": {
   "display_name": "Python 3 (ipykernel)",
   "language": "python",
   "name": "python3"
  },
  "language_info": {
   "codemirror_mode": {
    "name": "ipython",
    "version": 3
   },
   "file_extension": ".py",
   "mimetype": "text/x-python",
   "name": "python",
   "nbconvert_exporter": "python",
   "pygments_lexer": "ipython3",
   "version": "3.9.7"
  }
 },
 "nbformat": 4,
 "nbformat_minor": 5
}
