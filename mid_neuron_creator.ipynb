{
 "cells": [
  {
   "cell_type": "code",
   "execution_count": 1,
   "id": "b572aa67",
   "metadata": {},
   "outputs": [
    {
     "name": "stdout",
     "output_type": "stream",
     "text": [
      "Reset css and font defaults in:\n",
      "C:\\Users\\umag\\.jupyter\\custom &\n",
      "C:\\Users\\umag\\AppData\\Roaming\\jupyter\\nbextensions\n"
     ]
    }
   ],
   "source": [
    "# select chesterish\n",
    "# !jt -t chesterish\n",
    "# restore\n",
    "!jt -r"
   ]
  },
  {
   "cell_type": "code",
   "execution_count": 2,
   "id": "17a1b37c",
   "metadata": {},
   "outputs": [],
   "source": [
    "import copy"
   ]
  },
  {
   "cell_type": "code",
   "execution_count": 3,
   "id": "c6ad421a",
   "metadata": {},
   "outputs": [],
   "source": [
    "edges = {'0in1out': ['0in', '1out', -3.6377842209674958],\n",
    "'1mid0mid': ['1mid', '0mid', 0.6165115214405615],\n",
    "'1in1mid': ['1in', '1mid', 3.6368075690523423],\n",
    "'0in1mid': ['0in', '1mid', -2.76795360903403],\n",
    "'0mid0out': ['0mid', '0out', -0.7665496719059972],\n",
    "'0mid1out': ['0mid', '1out', 2.0047001373416755],\n",
    "'0mid1mid': ['0mid', '1mid', -1.34533801312376],\n",
    "'1in0mid': ['1in', '0mid', 2.136059819929803],\n",
    "'0mid0mid': ['0mid', '0mid', -1.8265832443155807],\n",
    "'1mid0out': ['1mid', '0out', 2.9330077826949488],\n",
    "'0in0out': ['0in', '0out', 2.913596825881276],\n",
    "'1in2out': ['1in', '2out', 3.5933465588280176]}"
   ]
  },
  {
   "cell_type": "markdown",
   "id": "aae04256",
   "metadata": {},
   "source": [
    "### generate brain list like"
   ]
  },
  {
   "cell_type": "code",
   "execution_count": 4,
   "id": "1bb9bb12",
   "metadata": {
    "code_folding": [
     0
    ]
   },
   "outputs": [],
   "source": [
    "# dic = {}\n",
    "# for pair in edges:\n",
    "#     if edges[pair][1] not in dic:\n",
    "#         if 'in' in edges[pair][0]:\n",
    "#             dic[edges[pair][1]] = [edges[pair][2]]\n",
    "            \n",
    "#         elif edges[pair][0] == edges[pair][1]:\n",
    "#             dic[edges[pair][1]] = [edges[pair][0]]\n",
    "            \n",
    "#         elif 'mid' in edges[pair][0] and edges[pair][0] != edges[pair][1]:\n",
    "#             dic[edges[pair][1]] = [edges[pair][0]]\n",
    "            \n",
    "#     elif edges[pair][1] in dic:\n",
    "#         if 'in' in edges[pair][0]:\n",
    "#             dic[edges[pair][1]].append(edges[pair][2])\n",
    "            \n",
    "#         elif edges[pair][0] == edges[pair][1]:\n",
    "#             dic[edges[pair][1]].append(edges[pair][0])\n",
    "\n",
    "#         elif 'mid' in edges[pair][0] and edges[pair][0] != edges[pair][1]:\n",
    "#             dic[edges[pair][1]].append(edges[pair][0])"
   ]
  },
  {
   "cell_type": "markdown",
   "id": "c9d61355",
   "metadata": {},
   "source": [
    "### generate brain dict like"
   ]
  },
  {
   "cell_type": "code",
   "execution_count": 32,
   "id": "b56e4c91",
   "metadata": {},
   "outputs": [],
   "source": [
    "dic = {}\n",
    "for pair in edges:\n",
    "    if edges[pair][1] not in dic:\n",
    "        if 'in' in edges[pair][0]:\n",
    "            dic[edges[pair][1]] = {edges[pair][0]:edges[pair][2]}           \n",
    "        elif edges[pair][0] == edges[pair][1]:\n",
    "#             print('if',edges[pair][1], {edges[pair][0]:edges[pair][2]})\n",
    "            dic[edges[pair][1]] = {edges[pair][0]:edges[pair][2]}          \n",
    "        elif 'mid' in edges[pair][0] and edges[pair][0] != edges[pair][1]:\n",
    "            dic[edges[pair][1]] = {edges[pair][0]:{'weight':edges[pair][2]}}\n",
    "                     \n",
    "    elif edges[pair][1] in dic:\n",
    "        if 'in' in edges[pair][0]:\n",
    "            dic[edges[pair][1]].update({edges[pair][0]:edges[pair][2]})  \n",
    "        elif edges[pair][0] == edges[pair][1]:\n",
    "#             print('elif',edges[pair][1], {edges[pair][0]:edges[pair][2]})           \n",
    "            dic[edges[pair][1]].update({edges[pair][0]:edges[pair][2]})\n",
    "        elif 'mid' in edges[pair][0] and edges[pair][0] != edges[pair][1]:\n",
    "            dic[edges[pair][1]].update({edges[pair][0]:{'weight':edges[pair][2]}})     "
   ]
  },
  {
   "cell_type": "code",
   "execution_count": 33,
   "id": "53ebc807",
   "metadata": {},
   "outputs": [
    {
     "data": {
      "text/plain": [
       "{'1out': {'0in': -3.6377842209674958, '0mid': {'weight': 2.0047001373416755}},\n",
       " '0mid': {'1mid': {'weight': 0.6165115214405615},\n",
       "  '1in': 2.136059819929803,\n",
       "  '0mid': -1.8265832443155807},\n",
       " '1mid': {'1in': 3.6368075690523423,\n",
       "  '0in': -2.76795360903403,\n",
       "  '0mid': {'weight': -1.34533801312376}},\n",
       " '0out': {'0mid': {'weight': -0.7665496719059972},\n",
       "  '1mid': {'weight': 2.9330077826949488},\n",
       "  '0in': 2.913596825881276},\n",
       " '2out': {'1in': 3.5933465588280176}}"
      ]
     },
     "execution_count": 33,
     "metadata": {},
     "output_type": "execute_result"
    }
   ],
   "source": [
    "dic"
   ]
  },
  {
   "cell_type": "code",
   "execution_count": 24,
   "id": "b314f9c7",
   "metadata": {
    "code_folding": []
   },
   "outputs": [
    {
     "data": {
      "text/plain": [
       "{'1out': {'0in': -3.6377842209674958,\n",
       "  '0mid': {'1mid': {'weight': 0.6165115214405615},\n",
       "   '1in': 2.136059819929803,\n",
       "   '0mid': -1.8265832443155807}},\n",
       " '0out': {'0mid': {'1mid': {'weight': 0.6165115214405615},\n",
       "   '1in': 2.136059819929803,\n",
       "   '0mid': -1.8265832443155807},\n",
       "  '1mid': {'1in': 3.6368075690523423,\n",
       "   '0in': -2.76795360903403,\n",
       "   '0mid': {'weight': -1.34533801312376}},\n",
       "  '0in': 2.913596825881276},\n",
       " '2out': {'1in': 3.5933465588280176}}"
      ]
     },
     "execution_count": 24,
     "metadata": {},
     "output_type": "execute_result"
    }
   ],
   "source": [
    "for key in dic:\n",
    "    if 'out' in key:\n",
    "        for sub_key in (dic[key]):\n",
    "            if 'mid' in sub_key:\n",
    "                mid_dict_copy = copy.copy(dic[sub_key])\n",
    "                dic[key][sub_key] = mid_dict_copy\n",
    "                for sub_sub_key in dic[key][sub_key]:\n",
    "                    if not dic[key][sub_key][sub_sub_key] and sub_key != sub_sub_key:\n",
    "                        mid_copy = copy.copy(dic[sub_sub_key])\n",
    "                        del mid_copy[sub_key]\n",
    "                        dic[key][sub_key][sub_sub_key] = mid_copy\n",
    "                        for sub_sub_sub_key in dic[key][sub_key][sub_sub_key]:\n",
    "                            if not dic[key][sub_key][sub_sub_key][sub_sub_sub_key] and sub_sub_key == sub_sub_sub_key:\n",
    "                                mid2x_key = ''.join([sub_sub_sub_key,sub_sub_sub_key])\n",
    "                                \n",
    "final_dic = copy.copy(dic)\n",
    "for item_to_del in dic:\n",
    "    if 'mid' in item_to_del:\n",
    "        del final_dic[item_to_del]\n",
    "\n",
    "final_dic           "
   ]
  },
  {
   "cell_type": "markdown",
   "id": "41f4018e",
   "metadata": {},
   "source": [
    "Simplified vs split tree approach"
   ]
  },
  {
   "cell_type": "code",
   "execution_count": 35,
   "id": "a239944f",
   "metadata": {},
   "outputs": [
    {
     "data": {
      "text/plain": [
       "{'0in1out': ['0in', '1out', -3.6377842209674958],\n",
       " '1mid0mid': ['1mid', '0mid', 0.6165115214405615],\n",
       " '1in1mid': ['1in', '1mid', 3.6368075690523423],\n",
       " '0in1mid': ['0in', '1mid', -2.76795360903403],\n",
       " '0mid0out': ['0mid', '0out', -0.7665496719059972],\n",
       " '0mid1out': ['0mid', '1out', 2.0047001373416755],\n",
       " '0mid1mid': ['0mid', '1mid', -1.34533801312376],\n",
       " '1in0mid': ['1in', '0mid', 2.136059819929803],\n",
       " '0mid0mid': ['0mid', '0mid', -1.8265832443155807],\n",
       " '1mid0out': ['1mid', '0out', 2.9330077826949488],\n",
       " '0in0out': ['0in', '0out', 2.913596825881276],\n",
       " '1in2out': ['1in', '2out', 3.5933465588280176]}"
      ]
     },
     "execution_count": 35,
     "metadata": {},
     "output_type": "execute_result"
    }
   ],
   "source": [
    "edges"
   ]
  },
  {
   "cell_type": "code",
   "execution_count": null,
   "id": "f2828797",
   "metadata": {},
   "outputs": [],
   "source": [
    "out:{1mid:{0mid:{0mid,1in},1in,0in}}"
   ]
  },
  {
   "cell_type": "code",
   "execution_count": 38,
   "id": "ad51e1e5",
   "metadata": {},
   "outputs": [],
   "source": [
    "dic = {}\n",
    "for pair in edges:\n",
    "    if edges[pair][1] == '0out' and edges[pair][1] == '0mid':\n",
    "        dic['0out'] = {edges[pair][2]}\n",
    "        "
   ]
  },
  {
   "cell_type": "code",
   "execution_count": 39,
   "id": "4dc387bb",
   "metadata": {},
   "outputs": [
    {
     "data": {
      "text/plain": [
       "{}"
      ]
     },
     "execution_count": 39,
     "metadata": {},
     "output_type": "execute_result"
    }
   ],
   "source": [
    "dic"
   ]
  },
  {
   "cell_type": "code",
   "execution_count": null,
   "id": "4a422f04",
   "metadata": {},
   "outputs": [],
   "source": []
  }
 ],
 "metadata": {
  "kernelspec": {
   "display_name": "Python 3 (ipykernel)",
   "language": "python",
   "name": "python3"
  },
  "language_info": {
   "codemirror_mode": {
    "name": "ipython",
    "version": 3
   },
   "file_extension": ".py",
   "mimetype": "text/x-python",
   "name": "python",
   "nbconvert_exporter": "python",
   "pygments_lexer": "ipython3",
   "version": "3.9.12"
  }
 },
 "nbformat": 4,
 "nbformat_minor": 5
}
