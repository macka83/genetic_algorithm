{
 "cells": [
  {
   "cell_type": "markdown",
   "id": "e28d1996",
   "metadata": {},
   "source": [
    "https://stackoverflow.com/questions/63528705/how-to-modify-edge-labels-in-digraph-of-networkx"
   ]
  },
  {
   "cell_type": "code",
   "execution_count": 1,
   "id": "142b8431",
   "metadata": {
    "ExecuteTime": {
     "end_time": "2022-05-23T19:53:43.324935Z",
     "start_time": "2022-05-23T19:53:42.349392Z"
    }
   },
   "outputs": [],
   "source": [
    "import networkx as nx\n",
    "from networkx.drawing.nx_agraph import write_dot, graphviz_layout\n",
    "from matplotlib import pyplot as plt\n",
    "import numpy as np"
   ]
  },
  {
   "cell_type": "code",
   "execution_count": 2,
   "id": "c77cfec8",
   "metadata": {
    "ExecuteTime": {
     "end_time": "2022-05-23T19:53:43.357062Z",
     "start_time": "2022-05-23T19:53:43.330865Z"
    }
   },
   "outputs": [],
   "source": [
    "edges = {'0in1out': ['0in', '1out', -3.6377842209674958],\n",
    "# '1mid0mid': ['1mid', '0mid', 0.6165115214405615],\n",
    "'1in1mid': ['1in', '1mid', 3.6368075690523423],\n",
    "'0in1mid': ['0in', '1mid', -2.76795360903403],\n",
    "'0mid0out': ['0mid', '0out', -0.7665496719059972],\n",
    "'0mid1out': ['0mid', '1out', 2.0047001373416755],\n",
    "# '0mid1mid': ['0mid', '1mid', -1.34533801312376],\n",
    "'1in0mid': ['1in', '0mid', 2.136059819929803],\n",
    "'0mid0mid': ['0mid', '0mid', -1.8265832443155807],\n",
    "'1mid0out': ['1mid', '0out', 2.9330077826949488],\n",
    "'0in0out': ['0in', '0out', 2.913596825881276],\n",
    "'1in2out': ['1in', '2out', 3.5933465588280176]}\n",
    "\n",
    "edges = [tuple(edges[i]) for i in edges]"
   ]
  },
  {
   "cell_type": "code",
   "execution_count": 3,
   "id": "2e9fdf44",
   "metadata": {
    "ExecuteTime": {
     "end_time": "2022-05-23T19:53:43.372565Z",
     "start_time": "2022-05-23T19:53:43.360546Z"
    }
   },
   "outputs": [],
   "source": [
    "dic = {}\n",
    "for item in edges:\n",
    "    if item[1] in dic:\n",
    "        dic[item[1]].update({item[0]:[item[2]]})\n",
    "    else:\n",
    "        dic[item[1]] = {item[0]:[item[2]]}"
   ]
  },
  {
   "cell_type": "code",
   "execution_count": 4,
   "id": "6f200e0c",
   "metadata": {
    "ExecuteTime": {
     "end_time": "2022-05-23T19:53:43.388402Z",
     "start_time": "2022-05-23T19:53:43.374223Z"
    }
   },
   "outputs": [
    {
     "data": {
      "text/plain": [
       "{'1out': {'0in': [-3.6377842209674958], '0mid': [2.0047001373416755]},\n",
       " '1mid': {'1in': [3.6368075690523423], '0in': [-2.76795360903403]},\n",
       " '0out': {'0mid': [-0.7665496719059972],\n",
       "  '1mid': [2.9330077826949488],\n",
       "  '0in': [2.913596825881276]},\n",
       " '0mid': {'1in': [2.136059819929803], '0mid': [-1.8265832443155807]},\n",
       " '2out': {'1in': [3.5933465588280176]}}"
      ]
     },
     "execution_count": 4,
     "metadata": {},
     "output_type": "execute_result"
    }
   ],
   "source": [
    "dic"
   ]
  },
  {
   "cell_type": "code",
   "execution_count": 5,
   "id": "80186a63",
   "metadata": {
    "ExecuteTime": {
     "end_time": "2022-05-23T19:53:43.404185Z",
     "start_time": "2022-05-23T19:53:43.390231Z"
    },
    "code_folding": [
     0
    ]
   },
   "outputs": [],
   "source": [
    "# my_graph = nx.MultiDiGraph()\n",
    "# my_graph.add_weighted_edges_from(edges)"
   ]
  },
  {
   "cell_type": "code",
   "execution_count": 6,
   "id": "137bc587",
   "metadata": {
    "ExecuteTime": {
     "end_time": "2022-05-23T19:53:43.420087Z",
     "start_time": "2022-05-23T19:53:43.406185Z"
    },
    "code_folding": [
     0
    ]
   },
   "outputs": [],
   "source": [
    "# for i in my_graph.adjacency():\n",
    "#     print(i)"
   ]
  },
  {
   "cell_type": "code",
   "execution_count": 7,
   "id": "fe1b8ad1",
   "metadata": {
    "ExecuteTime": {
     "end_time": "2022-05-23T19:53:43.435447Z",
     "start_time": "2022-05-23T19:53:43.421949Z"
    },
    "code_folding": [
     0
    ]
   },
   "outputs": [],
   "source": [
    "# dic_in_out = {'in':[], 'out':[]}\n",
    "# for i,j,_ in edges:\n",
    "#     if 'in' in i and 'out' in j:\n",
    "#         dic_in_out['in'].append(i)\n",
    "#         dic_in_out['out'].append(j)\n",
    "#     if 'in' in i:\n",
    "#         dic_in_out['in'].append(i)\n",
    "#     elif 'out' in j:\n",
    "#         dic_in_out['out'].append(j)\n",
    "        \n",
    "# dic_in_out['in'] = list(set(dic_in_out['in']))\n",
    "# dic_in_out['out'] = list(set(dic_in_out['out']))"
   ]
  },
  {
   "cell_type": "code",
   "execution_count": 8,
   "id": "ed115b58",
   "metadata": {
    "ExecuteTime": {
     "end_time": "2022-05-23T19:53:43.451065Z",
     "start_time": "2022-05-23T19:53:43.437298Z"
    },
    "code_folding": [
     0
    ]
   },
   "outputs": [],
   "source": [
    "# plt.figure(figsize=[8,8])\n",
    "# pos = graphviz_layout(my_graph, prog='dot')\n",
    "# labels = nx.get_edge_attributes(my_graph, 'w')\n",
    "\n",
    "# nx.draw_networkx_edge_labels(my_graph, pos)\n",
    "# nx.draw(my_graph, pos, with_labels=True, arrows=True)\n",
    "# nx.draw_networkx_edges(my_graph, pos)\n",
    "\n",
    "# plt.show()\n",
    "# plt.clf()"
   ]
  },
  {
   "cell_type": "markdown",
   "id": "c724ac27",
   "metadata": {},
   "source": [
    "automate patchs"
   ]
  },
  {
   "cell_type": "code",
   "execution_count": 9,
   "id": "baa23928",
   "metadata": {
    "ExecuteTime": {
     "end_time": "2022-05-23T19:53:43.466980Z",
     "start_time": "2022-05-23T19:53:43.452903Z"
    },
    "code_folding": [
     0
    ]
   },
   "outputs": [],
   "source": [
    "# dic_out = {i:{} for i in dic_in_out['out']}\n",
    "# for out_n in dic_in_out['out']:\n",
    "#     for in_n in dic_in_out['in']:\n",
    "#         # in-mid-out loop\n",
    "#         for path in nx.all_simple_edge_paths(my_graph, source=in_n, target=out_n):\n",
    "#             if len(path) > 1:\n",
    "#                 if dic_out[out_n] and len(path) == len(dic_out[out_n][0]):\n",
    "#                     dic_out[out_n].append(path)\n",
    "#                 elif not dic_out[out_n]:\n",
    "#                     dic_out[out_n] = [path]\n",
    "#                 elif dic_out[out_n] and len(path) > len(dic_out[out_n][0]):\n",
    "#                     dic_out[out_n] = [path]\n",
    "#         # in-out loop       \n",
    "#         for path in nx.all_simple_edge_paths(my_graph, source=in_n, target=out_n):\n",
    "#             if len(path) == 1:\n",
    "#                 if dic_out[out_n]:\n",
    "#                     dic_out[out_n].append(path)\n",
    "#                 elif not dic_out[out_n]:\n",
    "#                     dic_out[out_n] = [path]"
   ]
  },
  {
   "cell_type": "markdown",
   "id": "0c1090ef",
   "metadata": {},
   "source": [
    "add tanh(sum(inputs))"
   ]
  },
  {
   "cell_type": "markdown",
   "id": "37901ea3",
   "metadata": {},
   "source": [
    "https://networkx.org/documentation/stable/reference/classes/generated/networkx.MultiGraph.edge_subgraph.html?highlight=multigraph  https://networkx.org/documentation/stable/reference/classes/generated/networkx.MultiDiGraph.predecessors.html#networkx.MultiDiGraph.predecessors"
   ]
  },
  {
   "cell_type": "code",
   "execution_count": 10,
   "id": "1f5bd7e5",
   "metadata": {
    "ExecuteTime": {
     "end_time": "2022-05-23T19:53:43.482990Z",
     "start_time": "2022-05-23T19:53:43.468990Z"
    },
    "code_folding": [
     0
    ]
   },
   "outputs": [],
   "source": [
    "# for path in nx.all_simple_edge_paths(my_graph, source='1in', target='2out'):\n",
    "#     print(path)"
   ]
  },
  {
   "cell_type": "code",
   "execution_count": 11,
   "id": "846a872e",
   "metadata": {
    "ExecuteTime": {
     "end_time": "2022-05-23T19:53:43.498183Z",
     "start_time": "2022-05-23T19:53:43.484026Z"
    },
    "code_folding": [
     0
    ]
   },
   "outputs": [],
   "source": [
    "# dic_out = {i:{} for i in dic_in_out['out']}\n",
    "# for out_n in dic_in_out['out']:\n",
    "# #     print(out_n)\n",
    "#     for in_n in dic_in_out['in']:\n",
    "#         # in-mid-out loop\n",
    "#         for path in nx.all_simple_edge_paths(my_graph, source=in_n, target=out_n):\n",
    "#             if dic_out[out_n]:\n",
    "#                 dic_out[out_n].append(path)\n",
    "#             elif not dic_out[out_n]:\n",
    "#                 dic_out[out_n] = [path]"
   ]
  },
  {
   "cell_type": "code",
   "execution_count": 12,
   "id": "ae9f76c6",
   "metadata": {
    "ExecuteTime": {
     "end_time": "2022-05-23T19:53:43.513394Z",
     "start_time": "2022-05-23T19:53:43.499166Z"
    },
    "code_folding": [
     0
    ]
   },
   "outputs": [],
   "source": [
    "# l = []\n",
    "# for i in dic_out['0out']:\n",
    "#     for j in i:\n",
    "#         l.append(j)\n",
    "# l = list(set(l))\n",
    "\n",
    "# dic = {}\n",
    "# for i in l:\n",
    "#     if i[1] in dic:\n",
    "#         dic[i[1]].append(i[0])\n",
    "#     else:\n",
    "#         dic[i[1]] = [i[0]]\n",
    "# dic"
   ]
  },
  {
   "cell_type": "markdown",
   "id": "ba18b4bc",
   "metadata": {},
   "source": [
    "calculate weight sum"
   ]
  },
  {
   "cell_type": "code",
   "execution_count": 13,
   "id": "715de045",
   "metadata": {
    "ExecuteTime": {
     "end_time": "2022-05-23T19:53:43.528604Z",
     "start_time": "2022-05-23T19:53:43.515392Z"
    },
    "code_folding": [
     0
    ]
   },
   "outputs": [],
   "source": [
    "# for key in dic:\n",
    "#     if set(i[-2:] for i in dic[key]) == set(['in']):\n",
    "#         print(dic[key])"
   ]
  },
  {
   "cell_type": "markdown",
   "id": "61437e09",
   "metadata": {},
   "source": [
    "back to old version"
   ]
  },
  {
   "cell_type": "code",
   "execution_count": 23,
   "id": "7334cca7",
   "metadata": {
    "ExecuteTime": {
     "end_time": "2022-05-23T19:57:41.488591Z",
     "start_time": "2022-05-23T19:57:41.471795Z"
    }
   },
   "outputs": [
    {
     "name": "stdout",
     "output_type": "stream",
     "text": [
      "1mid\n",
      "{'1in': [3.6368075690523423], '0in': [-2.76795360903403]} {'0in', '1in'}\n",
      "0mid\n",
      "{'1in': [2.136059819929803], '0mid': [-1.8265832443155807]} {'1in', '0mid'}\n"
     ]
    }
   ],
   "source": [
    "for key in dic:\n",
    "    if 'mid' in key:\n",
    "        print(key)\n",
    "        print(dic[key], set(dic[key].keys()))"
   ]
  },
  {
   "cell_type": "code",
   "execution_count": 17,
   "id": "8e95e3f4",
   "metadata": {
    "ExecuteTime": {
     "end_time": "2022-05-23T19:55:44.627226Z",
     "start_time": "2022-05-23T19:55:44.605056Z"
    }
   },
   "outputs": [
    {
     "data": {
      "text/plain": [
       "{'1in': [3.5933465588280176]}"
      ]
     },
     "execution_count": 17,
     "metadata": {},
     "output_type": "execute_result"
    }
   ],
   "source": []
  },
  {
   "cell_type": "code",
   "execution_count": 22,
   "id": "f19a193c",
   "metadata": {
    "ExecuteTime": {
     "end_time": "2022-05-23T19:57:35.505215Z",
     "start_time": "2022-05-23T19:57:35.492373Z"
    }
   },
   "outputs": [
    {
     "data": {
      "text/plain": [
       "{'1in'}"
      ]
     },
     "execution_count": 22,
     "metadata": {},
     "output_type": "execute_result"
    }
   ],
   "source": [
    "set(dic[key].keys())"
   ]
  },
  {
   "cell_type": "code",
   "execution_count": null,
   "id": "548a7a2e",
   "metadata": {},
   "outputs": [],
   "source": []
  }
 ],
 "metadata": {
  "kernelspec": {
   "display_name": "Python 3 (ipykernel)",
   "language": "python",
   "name": "python3"
  },
  "language_info": {
   "codemirror_mode": {
    "name": "ipython",
    "version": 3
   },
   "file_extension": ".py",
   "mimetype": "text/x-python",
   "name": "python",
   "nbconvert_exporter": "python",
   "pygments_lexer": "ipython3",
   "version": "3.9.12"
  }
 },
 "nbformat": 4,
 "nbformat_minor": 5
}
