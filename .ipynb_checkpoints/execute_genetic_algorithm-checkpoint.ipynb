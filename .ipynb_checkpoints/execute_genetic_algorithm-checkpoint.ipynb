{
 "cells": [
  {
   "cell_type": "code",
   "execution_count": 1,
   "id": "07647a75",
   "metadata": {
    "ExecuteTime": {
     "end_time": "2022-06-12T12:44:09.776225Z",
     "start_time": "2022-06-12T12:44:09.462053Z"
    }
   },
   "outputs": [],
   "source": [
    "from genetic_algorithm import *\n",
    "from numpy.random import default_rng"
   ]
  },
  {
   "cell_type": "code",
   "execution_count": 2,
   "id": "89c5b605",
   "metadata": {
    "ExecuteTime": {
     "end_time": "2022-06-12T12:44:09.801939Z",
     "start_time": "2022-06-12T12:44:09.781036Z"
    }
   },
   "outputs": [
    {
     "name": "stdout",
     "output_type": "stream",
     "text": [
      "{0: {'out1': 0.769, 'out3': 0.006, 'out4': 0.032, 'out2': 0.239}, 1: {'out0': 0.002, 'out1': 1.0, 'out3': 0.013}, 2: {'out0': 0.999, 'out4': 0.58, 'out3': 0.501}, 3: {'out1': 0.023, 'out3': 1.0, 'out0': 0.588}}\n"
     ]
    }
   ],
   "source": [
    "\n",
    "# ## hexadecimal generator\n",
    "\n",
    "nr_of_input = 3\n",
    "nr_of_actions = 5\n",
    "nr_of_inner = 3\n",
    "nr_of_genes = 16\n",
    "nr_individuals = 4\n",
    "\n",
    "individuals = generate_initial_genomes_for_population(nr_individuals, nr_of_genes, nr_of_input, nr_of_actions, nr_of_inner)\n",
    "\n",
    "## world size\n",
    "world_size_x = 20\n",
    "world_size_y = 20\n",
    "\n",
    "rng = default_rng()\n",
    "x = rng.choice(world_size_x, size=nr_individuals, replace=False)\n",
    "y = rng.choice(world_size_y, size=nr_individuals, replace=False)\n",
    "\n",
    "# ## initial brain and position generator\n",
    "\n",
    "result = calculate_individual_output_weights(individuals)\n",
    "print(result)\n",
    "\n"
   ]
  },
  {
   "cell_type": "code",
   "execution_count": 3,
   "id": "34bfa09f",
   "metadata": {
    "ExecuteTime": {
     "end_time": "2022-06-12T12:44:09.826411Z",
     "start_time": "2022-06-12T12:44:09.805159Z"
    }
   },
   "outputs": [],
   "source": [
    "for indiv in result:\n",
    "    result[indiv]['position'] = [(x[indiv], y[indiv])]"
   ]
  },
  {
   "cell_type": "code",
   "execution_count": 4,
   "id": "ef6175cc",
   "metadata": {
    "ExecuteTime": {
     "end_time": "2022-06-12T12:44:09.856533Z",
     "start_time": "2022-06-12T12:44:09.831429Z"
    }
   },
   "outputs": [
    {
     "data": {
      "text/plain": [
       "{0: {'out1': 0.769,\n",
       "  'out3': 0.006,\n",
       "  'out4': 0.032,\n",
       "  'out2': 0.239,\n",
       "  'position': [(17, 13)]},\n",
       " 1: {'out0': 0.002, 'out1': 1.0, 'out3': 0.013, 'position': [(7, 5)]},\n",
       " 2: {'out0': 0.999, 'out4': 0.58, 'out3': 0.501, 'position': [(9, 16)]},\n",
       " 3: {'out1': 0.023, 'out3': 1.0, 'out0': 0.588, 'position': [(18, 12)]}}"
      ]
     },
     "execution_count": 4,
     "metadata": {},
     "output_type": "execute_result"
    }
   ],
   "source": [
    "result"
   ]
  },
  {
   "cell_type": "code",
   "execution_count": 7,
   "id": "40079ed6",
   "metadata": {
    "ExecuteTime": {
     "end_time": "2022-06-12T12:48:14.358492Z",
     "start_time": "2022-06-12T12:48:14.309692Z"
    },
    "scrolled": true
   },
   "outputs": [
    {
     "data": {
      "text/plain": [
       "{0: {'out1': 0.769,\n",
       "  'out3': 0.006,\n",
       "  'out4': 0.032,\n",
       "  'out2': 0.239,\n",
       "  'position': [(17, 13),\n",
       "   (0, -1),\n",
       "   (1, -1),\n",
       "   (0, -1),\n",
       "   (0, 0),\n",
       "   (1, -1),\n",
       "   (0, 0),\n",
       "   (0, 0),\n",
       "   (0, -1),\n",
       "   (0, 0),\n",
       "   (0, -1),\n",
       "   (0, -1),\n",
       "   (0, -1),\n",
       "   (0, -1),\n",
       "   (0, -1),\n",
       "   (1, -1),\n",
       "   (0, -1)]},\n",
       " 1: {'out0': 0.002,\n",
       "  'out1': 1.0,\n",
       "  'out3': 0.013,\n",
       "  'position': [(7, 5),\n",
       "   (0, -1),\n",
       "   (0, -1),\n",
       "   (0, -1),\n",
       "   (0, -1),\n",
       "   (0, -1),\n",
       "   (0, -1),\n",
       "   (0, -1),\n",
       "   (0, -1),\n",
       "   (0, -1),\n",
       "   (0, -1),\n",
       "   (0, -1),\n",
       "   (0, -1),\n",
       "   (0, -1),\n",
       "   (0, -1),\n",
       "   (0, -1),\n",
       "   (0, -1)]},\n",
       " 2: {'out0': 0.999,\n",
       "  'out4': 0.58,\n",
       "  'out3': 0.501,\n",
       "  'position': [(9, 16),\n",
       "   (-1, 1),\n",
       "   (-2, 0),\n",
       "   (-1, 1),\n",
       "   (-1, 0),\n",
       "   (0, 1),\n",
       "   (-2, 1),\n",
       "   (-2, 1),\n",
       "   (-1, 1),\n",
       "   (-2, 0),\n",
       "   (0, 0),\n",
       "   (-1, 1),\n",
       "   (-1, 1),\n",
       "   (-2, 1),\n",
       "   (-2, 1),\n",
       "   (-2, 1),\n",
       "   (0, 1)]},\n",
       " 3: {'out1': 0.023,\n",
       "  'out3': 1.0,\n",
       "  'out0': 0.588,\n",
       "  'position': [(18, 12),\n",
       "   (-1, 0),\n",
       "   (-1, 1),\n",
       "   (-1, 1),\n",
       "   (-1, 0),\n",
       "   (-1, 1),\n",
       "   (-1, 0),\n",
       "   (-1, 1),\n",
       "   (-1, 1),\n",
       "   (-1, 1),\n",
       "   (-1, 1),\n",
       "   (-1, 1),\n",
       "   (-1, 1),\n",
       "   (-1, 1),\n",
       "   (-1, 1),\n",
       "   (-1, 0),\n",
       "   (-1, 0)]}}"
      ]
     },
     "execution_count": 7,
     "metadata": {},
     "output_type": "execute_result"
    }
   ],
   "source": [
    "k = 15\n",
    "n = 0\n",
    "while k>n:  \n",
    "    for indiv in result:\n",
    "        x = result[indiv]['position'][-1][0]\n",
    "        y = result[indiv]['position'][-1][1]\n",
    "        position_list = []\n",
    "        for out in result[indiv]:\n",
    "            if 'out' in out:\n",
    "                new_pos = move(x, y, out, result[indiv][out])\n",
    "                position_list.append(new_pos)\n",
    "        position_list = tuple(map(sum, zip(*position_list)))\n",
    "        result[indiv]['position'].append(position_list)\n",
    "    n += 1\n",
    "            \n",
    "result"
   ]
  },
  {
   "cell_type": "code",
   "execution_count": 8,
   "id": "0249f5d7",
   "metadata": {
    "ExecuteTime": {
     "end_time": "2022-06-12T12:49:09.855223Z",
     "start_time": "2022-06-12T12:49:09.303017Z"
    }
   },
   "outputs": [
    {
     "ename": "TypeError",
     "evalue": "unsupported operand type(s) for +: 'int' and 'tuple'",
     "output_type": "error",
     "traceback": [
      "\u001b[1;31m---------------------------------------------------------------------------\u001b[0m",
      "\u001b[1;31mTypeError\u001b[0m                                 Traceback (most recent call last)",
      "Input \u001b[1;32mIn [8]\u001b[0m, in \u001b[0;36m<cell line: 1>\u001b[1;34m()\u001b[0m\n\u001b[1;32m----> 1\u001b[0m \u001b[38;5;28;43msum\u001b[39;49m\u001b[43m(\u001b[49m\u001b[43m[\u001b[49m\u001b[43m(\u001b[49m\u001b[38;5;241;43m1\u001b[39;49m\u001b[43m,\u001b[49m\u001b[38;5;241;43m2\u001b[39;49m\u001b[43m)\u001b[49m\u001b[43m,\u001b[49m\u001b[43m(\u001b[49m\u001b[38;5;241;43m2\u001b[39;49m\u001b[43m,\u001b[49m\u001b[38;5;241;43m1\u001b[39;49m\u001b[43m)\u001b[49m\u001b[43m]\u001b[49m\u001b[43m)\u001b[49m\n",
      "\u001b[1;31mTypeError\u001b[0m: unsupported operand type(s) for +: 'int' and 'tuple'"
     ]
    }
   ],
   "source": [
    "sum([(1,2),(2,1)])"
   ]
  },
  {
   "cell_type": "code",
   "execution_count": 6,
   "id": "44a7d51e",
   "metadata": {
    "ExecuteTime": {
     "end_time": "2022-06-12T12:44:09.919634Z",
     "start_time": "2022-06-12T12:44:09.894163Z"
    }
   },
   "outputs": [
    {
     "data": {
      "text/plain": [
       "4"
      ]
     },
     "execution_count": 6,
     "metadata": {},
     "output_type": "execute_result"
    }
   ],
   "source": [
    "a = [(3, 0),(4,1),(5,2)]\n",
    "\n",
    "def slope_intercept(x1,y1,x2,y2):\n",
    "    a = (y2 - y1) / (x2 - x1)\n",
    "    b = y1 - a * x1     \n",
    "    return a,b\n",
    "\n",
    "# print(slope_intercept(3,0,2,1))\n",
    "\n",
    "if a[-2][0] == a[-1][0]:\n",
    "    x = a[-1][0]\n",
    "elif a[-2][0] > a[-1][0]:\n",
    "    x = a[-2][0] + 1\n",
    "elif a[-2][0] < a[-1][0]:\n",
    "    x = a[-2][0] - 1\n",
    "# print(x)\n",
    "\n",
    "a[-2][0]\n",
    "\n"
   ]
  }
 ],
 "metadata": {
  "kernelspec": {
   "display_name": "Python 3 (ipykernel)",
   "language": "python",
   "name": "python3"
  },
  "language_info": {
   "codemirror_mode": {
    "name": "ipython",
    "version": 3
   },
   "file_extension": ".py",
   "mimetype": "text/x-python",
   "name": "python",
   "nbconvert_exporter": "python",
   "pygments_lexer": "ipython3",
   "version": "3.9.12"
  }
 },
 "nbformat": 4,
 "nbformat_minor": 5
}
