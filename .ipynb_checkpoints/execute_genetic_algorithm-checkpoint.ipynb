{
 "cells": [
  {
   "cell_type": "code",
   "execution_count": 1,
   "id": "64e1e30b",
   "metadata": {},
   "outputs": [],
   "source": [
    "from genetic_algorithm import *\n",
    "import re\n",
    "import json"
   ]
  },
  {
   "cell_type": "markdown",
   "id": "a4aa7361",
   "metadata": {},
   "source": [
    "## hexadecimal generator"
   ]
  },
  {
   "cell_type": "code",
   "execution_count": 2,
   "id": "e85a93ac",
   "metadata": {},
   "outputs": [],
   "source": [
    "nr_of_input = 3\n",
    "nr_of_actions = 3\n",
    "nr_of_inner = 2\n",
    "nr_of_genes = 6\n",
    "nr_individuals = 4\n",
    "\n",
    "res = generate_initial_genomes_for_population(nr_individuals, nr_of_genes, nr_of_input, nr_of_actions, nr_of_inner)"
   ]
  },
  {
   "cell_type": "markdown",
   "id": "991e86ea",
   "metadata": {},
   "source": [
    "## Sumuj duble"
   ]
  },
  {
   "cell_type": "code",
   "execution_count": 3,
   "id": "0ac99015",
   "metadata": {},
   "outputs": [],
   "source": [
    "dic = {}\n",
    "for nr in res:\n",
    "    dic[nr] = {}\n",
    "    for i in res[nr]:\n",
    "        total = dic.get(i.differ_neuron, 0) + i.weight\n",
    "        n_output = f'{i.output_id}{i.output_type}'\n",
    "        n_input = f'{i.input_id}{i.input_type}'\n",
    "        dic[nr][i.differ_neuron] = [n_input, n_output, total]"
   ]
  },
  {
   "cell_type": "code",
   "execution_count": 4,
   "id": "82f070e4",
   "metadata": {},
   "outputs": [
    {
     "data": {
      "text/plain": [
       "{0: {'1mid0mid': ['1mid', '0mid', -3.257866625972837],\n",
       "  '1in2out': ['1in', '2out', 0.8874103464062262],\n",
       "  '1mid0out': ['1mid', '0out', 0.4567068518235923],\n",
       "  '2in2out': ['2in', '2out', -3.4632076911338316],\n",
       "  '2in1out': ['2in', '1out', 3.9166183427437815]},\n",
       " 1: {'0mid0mid': ['0mid', '0mid', 1.0041202502670532],\n",
       "  '1mid2out': ['1mid', '2out', -0.8820387608728827],\n",
       "  '0mid1mid': ['0mid', '1mid', 1.8599114909201893],\n",
       "  '1in0mid': ['1in', '0mid', -0.9571188768502976],\n",
       "  '1in1out': ['1in', '1out', -3.1147871204028688]},\n",
       " 2: {'0mid0mid': ['0mid', '0mid', -3.034945826339081],\n",
       "  '2in1mid': ['2in', '1mid', 1.060399816877766],\n",
       "  '1in0out': ['1in', '0out', -1.3878223714329314],\n",
       "  '2in0mid': ['2in', '0mid', -1.7987486647337096],\n",
       "  '0mid1mid': ['0mid', '1mid', 3.924919884022585],\n",
       "  '2in1out': ['2in', '1out', 3.2267358461773235]},\n",
       " 3: {'0mid1mid': ['0mid', '1mid', -3.685273920341828],\n",
       "  '2in0mid': ['2in', '0mid', 0.278345795818709],\n",
       "  '0in1out': ['0in', '1out', 3.539142377537006],\n",
       "  '1mid0mid': ['1mid', '0mid', 3.905508927208912],\n",
       "  '0mid2out': ['0mid', '2out', 1.979917594994659]}}"
      ]
     },
     "execution_count": 4,
     "metadata": {},
     "output_type": "execute_result"
    }
   ],
   "source": [
    "dic"
   ]
  },
  {
   "cell_type": "markdown",
   "id": "69161a40",
   "metadata": {},
   "source": [
    "## brain generator"
   ]
  },
  {
   "cell_type": "code",
   "execution_count": 11,
   "id": "6625f189",
   "metadata": {},
   "outputs": [],
   "source": [
    "edges = dic[1]\n",
    "\n",
    "brain = {}\n",
    "for i in edges:\n",
    "    if 'out' in edges[i][1]:\n",
    "        brain.update({edges[i][1]:{}})"
   ]
  },
  {
   "cell_type": "code",
   "execution_count": 12,
   "id": "dcc58bd2",
   "metadata": {},
   "outputs": [
    {
     "data": {
      "text/plain": [
       "{'2out': {}, '1out': {}}"
      ]
     },
     "execution_count": 12,
     "metadata": {},
     "output_type": "execute_result"
    }
   ],
   "source": [
    "brain"
   ]
  },
  {
   "cell_type": "code",
   "execution_count": 13,
   "id": "acfc2e31",
   "metadata": {},
   "outputs": [
    {
     "data": {
      "text/plain": [
       "{'2out': {'1mid': {'w': -0.8820387608728827,\n",
       "   '0mid': {'w': 1.8599114909201893,\n",
       "    '0mid': {'w': 1.0041202502670532},\n",
       "    '1in': {'w': -0.9571188768502976}}}},\n",
       " '1out': {'1in': {'w': -3.1147871204028688}}}"
      ]
     },
     "execution_count": 13,
     "metadata": {},
     "output_type": "execute_result"
    }
   ],
   "source": [
    "\n",
    "\n",
    "def mid_neuron(brain, edges):\n",
    "    for key in brain:\n",
    "        for pair in edges:\n",
    "            item = edges[pair]\n",
    "            if key == item[1] and 'mid' in item[0] and key != item[0]:\n",
    "                brain[key].update({item[0]: {'w':item[2]}})\n",
    "                mid_neuron(brain[key], edges)\n",
    "                \n",
    "            elif key == item[1] and 'mid' in item[0] and key == item[0]:\n",
    "                brain[key].update({item[0]:{'w':item[2]}})\n",
    "                \n",
    "            elif key == item[1] and 'mid' not in item[0]:\n",
    "                brain[key].update({item[0]:{'w':item[2]}})\n",
    "                \n",
    "                \n",
    "\n",
    "mid_neuron(brain, edges)\n",
    "\n",
    "brain"
   ]
  },
  {
   "cell_type": "code",
   "execution_count": 9,
   "id": "2c3e5a25",
   "metadata": {
    "scrolled": true
   },
   "outputs": [
    {
     "name": "stdout",
     "output_type": "stream",
     "text": [
      "if 2out {'1in': {'w': 0.8874103464062262}, '2in': {'w': -3.4632076911338316}}\n",
      "else 0out {'1mid': {'w': 0.4567068518235923}}\n",
      "else 1out {'2in': {'w': 3.9166183427437815}}\n"
     ]
    }
   ],
   "source": [
    "def analyze_brain(brain):\n",
    "    for k, v in brain.items():\n",
    "        if isinstance(v, dict) and len(v) >= 2:\n",
    "            print('if', k, v)\n",
    "#             analyze_brain(brain)\n",
    "        else:\n",
    "            print('else', k, v)\n",
    "            \n",
    "analyze_brain(brain)"
   ]
  },
  {
   "cell_type": "markdown",
   "id": "c0bf6b4b",
   "metadata": {},
   "source": [
    "get dictionary depth  \n",
    "https://stackoverflow.com/questions/23499017/know-the-depth-of-a-dictionary\n",
    "https://www.tutorialspoint.com/find-depth-of-a-dictionary-in-python"
   ]
  },
  {
   "cell_type": "markdown",
   "id": "ec147961",
   "metadata": {},
   "source": [
    "https://stackoverflow.com/questions/47265412/custom-connections-between-layers-keras"
   ]
  }
 ],
 "metadata": {
  "kernelspec": {
   "display_name": "Python 3 (ipykernel)",
   "language": "python",
   "name": "python3"
  },
  "language_info": {
   "codemirror_mode": {
    "name": "ipython",
    "version": 3
   },
   "file_extension": ".py",
   "mimetype": "text/x-python",
   "name": "python",
   "nbconvert_exporter": "python",
   "pygments_lexer": "ipython3",
   "version": "3.9.7"
  }
 },
 "nbformat": 4,
 "nbformat_minor": 5
}
