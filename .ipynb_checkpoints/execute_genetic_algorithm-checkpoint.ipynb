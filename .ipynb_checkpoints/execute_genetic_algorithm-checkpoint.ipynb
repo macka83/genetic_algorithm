{
 "cells": [
  {
   "cell_type": "code",
   "execution_count": 1,
   "id": "07647a75",
   "metadata": {
    "ExecuteTime": {
     "end_time": "2022-06-24T20:37:27.158237Z",
     "start_time": "2022-06-24T20:37:25.168622Z"
    }
   },
   "outputs": [],
   "source": [
    "from genetic_algorithm import *\n",
    "from numpy.random import default_rng\n",
    "import matplotlib.pyplot as plt"
   ]
  },
  {
   "cell_type": "code",
   "execution_count": 2,
   "id": "89c5b605",
   "metadata": {
    "ExecuteTime": {
     "end_time": "2022-06-24T20:37:27.235262Z",
     "start_time": "2022-06-24T20:37:27.162502Z"
    }
   },
   "outputs": [
    {
     "name": "stdout",
     "output_type": "stream",
     "text": [
      "{0: {'out4': 0.996, 'out3': 0.001, 'out2': 0.762, 'out1': 0.996, 'position': [[3, 18]]}, 1: {'out4': 0.0, 'out2': 0.999, 'out3': 0.0, 'out1': 0.957, 'position': [[19, 4]]}, 2: {'out0': 0.995, 'position': [[10, 1]]}, 3: {'out0': 0.988, 'out2': 0.006, 'out3': 0.997, 'position': [[7, 17]]}}\n"
     ]
    }
   ],
   "source": [
    "\n",
    "# ## hexadecimal generator\n",
    "\n",
    "nr_of_input = 3\n",
    "nr_of_actions = 5\n",
    "nr_of_inner = 3\n",
    "nr_of_genes = 16\n",
    "nr_individuals = 4\n",
    "\n",
    "individuals = generate_initial_genomes_for_population(nr_individuals, nr_of_genes, nr_of_input, nr_of_actions, nr_of_inner)\n",
    "\n",
    "## world size\n",
    "world_size_x = 20\n",
    "world_size_y = 20\n",
    "\n",
    "rng = default_rng()\n",
    "x = rng.choice(world_size_x, size=nr_individuals, replace=False)\n",
    "y = rng.choice(world_size_y, size=nr_individuals, replace=False)\n",
    "\n",
    "# ## initial brain and position generator\n",
    "\n",
    "result = calculate_individual_output_weights(individuals)\n",
    "\n",
    "for indiv in result:\n",
    "    result[indiv]['position'] = [[x[indiv], y[indiv]]]\n",
    "\n",
    "print(result)\n",
    "\n"
   ]
  },
  {
   "cell_type": "code",
   "execution_count": 3,
   "id": "9222f90b",
   "metadata": {
    "ExecuteTime": {
     "end_time": "2022-06-24T20:37:27.263873Z",
     "start_time": "2022-06-24T20:37:27.240266Z"
    }
   },
   "outputs": [],
   "source": [
    "result = {0: {'out3': 1.0, 'out2': 0.087, 'out0': 0.995, 'out4': 0.992, 'out1': 0.069, 'position': [[14, 4]]},\n",
    "          1: {'out1': 0.004, 'out2': 0.318, 'out4': 0.966, 'out3': 0.005, 'out0': 0.997, 'position': [[4, 5]]},\n",
    "          2: {'out4': 1.0, 'out0': 0.048, 'out2': 0.88, 'out1': 0.732, 'out3': 0.831, 'position': [[3, 3]]},\n",
    "          3: {'out2': 0.536, 'out1': 1.0, 'out4': 0.067, 'position': [[17, 15]]}}"
   ]
  },
  {
   "cell_type": "code",
   "execution_count": 8,
   "id": "40079ed6",
   "metadata": {
    "ExecuteTime": {
     "end_time": "2022-06-24T20:53:54.789123Z",
     "start_time": "2022-06-24T20:53:54.761252Z"
    },
    "scrolled": true
   },
   "outputs": [],
   "source": [
    "k = 5\n",
    "n = 0\n",
    "while k>n:  \n",
    "    for indiv in result:\n",
    "        x, y = result[indiv]['position'][-1][0], result[indiv]['position'][-1][1]\n",
    "\n",
    "        position_list = []\n",
    "        for out in result[indiv]:\n",
    "            if 'out' in out:\n",
    "                new_pos = move(out, result[indiv][out])\n",
    "\n",
    "                position_list.append(new_pos)\n",
    "        \n",
    "        position_list = list(map(sum, zip(*position_list)))\n",
    "        position_list = make_smaller_(position_list)\n",
    "        position_list = list(map(sum, zip(*[[x, y]] + [position_list])))\n",
    "        \n",
    "#         for j in range(len(position_list)):\n",
    "#             for i_nr, i in enumerate(position_list[j+1:], start=j+1):\n",
    "#                 if position_list[j] == i:\n",
    "#                     position_list[i_nr] = result[indiv]['position'][-1]\n",
    "                    \n",
    "        position_list[0] = normalize_position_if_outside_world(position_list[0], world_size_x)\n",
    "        position_list[1] = normalize_position_if_outside_world(position_list[1], world_size_y)\n",
    "#         print('norm', position_list)\n",
    "        result[indiv]['position'].append(position_list)\n",
    "    \n",
    "    last_pos_list = [result[obj]['position'][-1] for obj in result]\n",
    "   \n",
    "    for obj in range(len(last_pos_list)):\n",
    "        for i_nr, i in enumerate(last_pos_list[obj+1:], start=obj+1):\n",
    "            if last_pos_list[obj] == i:\n",
    "                result[i_nr]['position'][-1] = result[i_nr]['position'][-2]     \n",
    "    n += 1\n",
    "#     print()        \n",
    "# result"
   ]
  },
  {
   "cell_type": "code",
   "execution_count": 13,
   "id": "cf5e547b",
   "metadata": {
    "ExecuteTime": {
     "end_time": "2022-06-24T21:04:58.985929Z",
     "start_time": "2022-06-24T21:04:58.959354Z"
    }
   },
   "outputs": [
    {
     "name": "stdout",
     "output_type": "stream",
     "text": [
      "source 0 1\n",
      "0 2\n",
      "0 3\n",
      "0 4\n",
      "0 5\n",
      "0 6\n"
     ]
    }
   ],
   "source": [
    "x1,y1,x2,y2 = 3,0,3,1\n",
    "dx = x2-x1\n",
    "dy = y2-y1\n",
    "x3,y3 = x2+dx,y2+dy\n",
    "# print(x3,y3)\n",
    "print('source', dx,dy)\n",
    "for i in range(5):\n",
    "    if dx != 0:\n",
    "        dx += 1\n",
    "    if dy != 0:\n",
    "        dy += 1\n",
    "    print(dx,dy)"
   ]
  },
  {
   "cell_type": "code",
   "execution_count": 10,
   "id": "ae6ae315",
   "metadata": {
    "ExecuteTime": {
     "end_time": "2022-06-24T21:00:51.154332Z",
     "start_time": "2022-06-24T21:00:51.137777Z"
    }
   },
   "outputs": [
    {
     "name": "stdout",
     "output_type": "stream",
     "text": [
      "0\n",
      "1\n",
      "2\n",
      "3\n",
      "4\n"
     ]
    }
   ],
   "source": [
    "for i in range(5):\n",
    "    print(i)"
   ]
  },
  {
   "cell_type": "code",
   "execution_count": null,
   "id": "a90d02c7",
   "metadata": {},
   "outputs": [],
   "source": []
  },
  {
   "cell_type": "code",
   "execution_count": 5,
   "id": "44a7d51e",
   "metadata": {
    "ExecuteTime": {
     "end_time": "2022-06-24T20:37:27.339028Z",
     "start_time": "2022-06-24T20:37:27.311882Z"
    }
   },
   "outputs": [
    {
     "data": {
      "text/plain": [
       "4"
      ]
     },
     "execution_count": 5,
     "metadata": {},
     "output_type": "execute_result"
    }
   ],
   "source": [
    "a = [(3, 0),(4,1),(5,2)]\n",
    "\n",
    "def slope_intercept(x1,y1,x2,y2):\n",
    "    a = (y2 - y1) / (x2 - x1)\n",
    "    b = y1 - a * x1     \n",
    "    return a,b\n",
    "\n",
    "# print(slope_intercept(3,0,2,1))\n",
    "\n",
    "if a[-2][0] == a[-1][0]:\n",
    "    x = a[-1][0]\n",
    "elif a[-2][0] > a[-1][0]:\n",
    "    x = a[-2][0] + 1\n",
    "elif a[-2][0] < a[-1][0]:\n",
    "    x = a[-2][0] - 1\n",
    "# print(x)\n",
    "\n",
    "a[-2][0]\n",
    "\n"
   ]
  },
  {
   "cell_type": "code",
   "execution_count": null,
   "id": "032bc083",
   "metadata": {},
   "outputs": [],
   "source": []
  }
 ],
 "metadata": {
  "kernelspec": {
   "display_name": "Python 3 (ipykernel)",
   "language": "python",
   "name": "python3"
  },
  "language_info": {
   "codemirror_mode": {
    "name": "ipython",
    "version": 3
   },
   "file_extension": ".py",
   "mimetype": "text/x-python",
   "name": "python",
   "nbconvert_exporter": "python",
   "pygments_lexer": "ipython3",
   "version": "3.9.12"
  }
 },
 "nbformat": 4,
 "nbformat_minor": 5
}
