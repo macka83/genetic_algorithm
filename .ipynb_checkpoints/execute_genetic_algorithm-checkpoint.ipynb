{
 "cells": [
  {
   "cell_type": "code",
   "execution_count": 1,
   "id": "64e1e30b",
   "metadata": {
    "ExecuteTime": {
     "end_time": "2022-05-25T19:51:11.489480Z",
     "start_time": "2022-05-25T19:51:10.714222Z"
    }
   },
   "outputs": [],
   "source": [
    "from genetic_algorithm import *\n",
    "import re\n",
    "import json\n",
    "import numpy as np\n",
    "from collections import Counter\n",
    "import copy"
   ]
  },
  {
   "cell_type": "markdown",
   "id": "a4aa7361",
   "metadata": {},
   "source": [
    "## hexadecimal generator"
   ]
  },
  {
   "cell_type": "code",
   "execution_count": 2,
   "id": "e85a93ac",
   "metadata": {
    "ExecuteTime": {
     "end_time": "2022-05-25T19:51:11.505456Z",
     "start_time": "2022-05-25T19:51:11.490423Z"
    }
   },
   "outputs": [],
   "source": [
    "nr_of_input = 3\n",
    "nr_of_actions = 3\n",
    "nr_of_inner = 2\n",
    "nr_of_genes = 16\n",
    "nr_individuals = 4\n",
    "\n",
    "individuals = generate_initial_genomes_for_population(nr_individuals, nr_of_genes, nr_of_input, nr_of_actions, nr_of_inner)"
   ]
  },
  {
   "cell_type": "code",
   "execution_count": 13,
   "id": "2aff38fc",
   "metadata": {
    "ExecuteTime": {
     "end_time": "2022-05-25T19:59:24.937400Z",
     "start_time": "2022-05-25T19:59:24.917859Z"
    },
    "scrolled": true
   },
   "outputs": [
    {
     "name": "stdout",
     "output_type": "stream",
     "text": [
      "out_to_weight 0\n",
      "[('1mid', '1mid', 3.230642453837937), ('0in', '0mid', -1.3017549214100412), ('0mid', '1out', -1.385991149092019), ('1mid', '1out', 2.9065160994964137), ('0mid', '0out', -2.036319243094766), ('1mid', '2out', -2.326506943384709), ('1in', '0mid', -0.12867388982145583), ('0in', '2out', 2.68188615901114), ('1in', '1mid', -2.455791240653136), ('0mid', '0mid', -0.7721654204181291), ('2in', '0mid', 3.7680451701510758), ('0mid', '2out', 1.8157179917594994), ('1mid', '0mid', -2.731329162215779)]\n",
      "\n",
      "out_to_weight 1\n",
      "[('1mid', '2out', 2.97402716313139), ('0in', '0out', -2.705325804974821), ('0mid', '0out', 0.25612696474896995), ('0in', '0mid', 0.24636044559743628), ('0mid', '0mid', 2.0812452311918204)]\n",
      "\n",
      "out_to_weight 2\n",
      "[('0in', '0mid', -2.650633297726232), ('1mid', '1mid', 1.679352968106211), ('1mid', '0out', 1.8092476728216085), ('1in', '0out', -1.152815504349153), ('1in', '1mid', -1.5775370059514726), ('2in', '0mid', -3.554280482221883), ('1mid', '1out', -2.4712955898061955), ('0mid', '2out', 3.7870898824965664), ('0mid', '0out', 3.5324278956203266)]\n",
      "\n"
     ]
    }
   ],
   "source": [
    "## sum duplicates\n",
    "individuals_sum_dup = sum_duplicated_neurons(individuals)\n",
    "\n",
    "## remove self loops\n",
    "individuals_sum_dup_no_self_loop = remove_self_loop(individuals_sum_dup)\n",
    "\n",
    "## brain generator\n",
    "# one individual to change to multiple\n",
    "for individual in individuals_sum_dup_no_self_loop:\n",
    "#     try:\n",
    "    edges = individuals_sum_dup_no_self_loop[individual]\n",
    "    edges = [tuple(edges[i]) for i in edges]\n",
    "\n",
    "    ## preprocessing\n",
    "    dic = weight_sum_preprocessing(edges)\n",
    "\n",
    "    ## calculate weight sum\n",
    "#     except:\n",
    "#         print(individual)\n",
    "#         print(edges)\n",
    "        \n",
    "#         continue\n",
    "    try:\n",
    "        mid_to_weight(dic)\n",
    "    except:\n",
    "        print('mid_to_weight', individual)\n",
    "        print(edges)\n",
    "        print()\n",
    "        continue   \n",
    "    try:    \n",
    "        out_to_weight(dic)\n",
    "    except:\n",
    "        print('out_to_weight', individual)\n",
    "        print(edges)\n",
    "        print()    "
   ]
  },
  {
   "cell_type": "code",
   "execution_count": 23,
   "id": "ebc2c043",
   "metadata": {
    "ExecuteTime": {
     "end_time": "2022-05-25T20:01:21.050721Z",
     "start_time": "2022-05-25T20:01:21.031135Z"
    }
   },
   "outputs": [],
   "source": [
    "edges = [('1mid', '1mid', 3.230642453837937), ('0in', '0mid', -1.3017549214100412), ('0mid', '1out', -1.385991149092019), ('1mid', '1out', 2.9065160994964137), ('0mid', '0out', -2.036319243094766), ('1mid', '2out', -2.326506943384709), ('1in', '0mid', -0.12867388982145583), ('0in', '2out', 2.68188615901114), ('1in', '1mid', -2.455791240653136), ('0mid', '0mid', -0.7721654204181291), ('2in', '0mid', 3.7680451701510758), ('0mid', '2out', 1.8157179917594994), ('1mid', '0mid', -2.731329162215779)]"
   ]
  },
  {
   "cell_type": "code",
   "execution_count": 26,
   "id": "0f0ad942",
   "metadata": {
    "ExecuteTime": {
     "end_time": "2022-05-25T20:05:12.139666Z",
     "start_time": "2022-05-25T20:05:12.129124Z"
    }
   },
   "outputs": [
    {
     "data": {
      "text/plain": [
       "{'0mid': {'0in': -1.3017549214100412,\n",
       "  '1in': -0.12867388982145583,\n",
       "  '0mid': -0.7721654204181291,\n",
       "  '2in': 3.7680451701510758,\n",
       "  '1mid': -2.731329162215779},\n",
       " '0out': {'0mid': -2.036319243094766},\n",
       " '1mid': {'1mid': 3.230642453837937, '1in': -2.455791240653136},\n",
       " '1out': {'0mid': -1.385991149092019, '1mid': 2.9065160994964137},\n",
       " '2out': {'1mid': -2.326506943384709,\n",
       "  '0in': 2.68188615901114,\n",
       "  '0mid': 1.8157179917594994}}"
      ]
     },
     "execution_count": 26,
     "metadata": {},
     "output_type": "execute_result"
    }
   ],
   "source": [
    "dic = weight_sum_preprocessing(edges)\n",
    "dic"
   ]
  },
  {
   "cell_type": "code",
   "execution_count": 28,
   "id": "81c002ff",
   "metadata": {
    "ExecuteTime": {
     "end_time": "2022-05-25T20:05:18.913716Z",
     "start_time": "2022-05-25T20:05:18.888561Z"
    }
   },
   "outputs": [
    {
     "data": {
      "text/plain": [
       "{'0mid': {'0in': -1.3017549214100412,\n",
       "  '1in': -0.12867388982145583,\n",
       "  '0mid': -0.7721654204181291,\n",
       "  '2in': 3.7680451701510758,\n",
       "  '1mid': -2.731329162215779},\n",
       " '0out': {'0mid': -2.036319243094766},\n",
       " '1mid': {'1mid': 3.230642453837937, '1in': -2.455791240653136},\n",
       " '1out': {'0mid': -1.385991149092019, '1mid': 2.9065160994964137},\n",
       " '2out': {'1mid': -2.326506943384709,\n",
       "  '0in': 2.68188615901114,\n",
       "  '0mid': 1.8157179917594994}}"
      ]
     },
     "execution_count": 28,
     "metadata": {},
     "output_type": "execute_result"
    }
   ],
   "source": [
    "def mid_to_weight(dic):\n",
    "    '''weight for clear input ie. no nested weights: 0mid:{0in, 1in} or 0mid:{0mid, 0in}'''\n",
    "    for key in dic:\n",
    "        if 'mid' in key and isinstance(dic[key], dict):\n",
    "            if set(i[:2] for i in dic[key]) == set(['in']):\n",
    "                dic[key] = np.tanh(sum(dic[key].values()))\n",
    "                mid_to_weight(dic)\n",
    "                \n",
    "            elif key in dic[key].keys() and Counter(i[:2] for i in dic[key])['mi'] == 1:\n",
    "                dic[key] = np.tanh(sum(dic[key].values()))\n",
    "                mid_to_weight(dic)\n",
    "mid_to_weight(dic)\n",
    "dic"
   ]
  },
  {
   "cell_type": "code",
   "execution_count": null,
   "id": "e57bf647",
   "metadata": {},
   "outputs": [],
   "source": []
  },
  {
   "cell_type": "code",
   "execution_count": 19,
   "id": "b358427f",
   "metadata": {
    "ExecuteTime": {
     "end_time": "2022-05-25T20:00:46.636794Z",
     "start_time": "2022-05-25T20:00:46.223834Z"
    }
   },
   "outputs": [
    {
     "ename": "TypeError",
     "evalue": "unsupported operand type(s) for +=: 'float' and 'dict'",
     "output_type": "error",
     "traceback": [
      "\u001b[1;31m---------------------------------------------------------------------------\u001b[0m",
      "\u001b[1;31mTypeError\u001b[0m                                 Traceback (most recent call last)",
      "Input \u001b[1;32mIn [19]\u001b[0m, in \u001b[0;36m<cell line: 21>\u001b[1;34m()\u001b[0m\n\u001b[0;32m     18\u001b[0m             dic[key] \u001b[38;5;241m=\u001b[39m np\u001b[38;5;241m.\u001b[39mtanh(\u001b[38;5;28msum\u001b[39m(dic[key]\u001b[38;5;241m.\u001b[39mvalues()))\n\u001b[0;32m     19\u001b[0m             out_to_weight(dic)\n\u001b[1;32m---> 21\u001b[0m \u001b[43mout_to_weight\u001b[49m\u001b[43m(\u001b[49m\u001b[43mdic\u001b[49m\u001b[43m)\u001b[49m\n",
      "Input \u001b[1;32mIn [19]\u001b[0m, in \u001b[0;36mout_to_weight\u001b[1;34m(dic)\u001b[0m\n\u001b[0;32m      7\u001b[0m \u001b[38;5;28;01mfor\u001b[39;00m sub_key \u001b[38;5;129;01min\u001b[39;00m dic[key]:\n\u001b[0;32m      8\u001b[0m     \u001b[38;5;28;01mif\u001b[39;00m \u001b[38;5;124m'\u001b[39m\u001b[38;5;124mmid\u001b[39m\u001b[38;5;124m'\u001b[39m \u001b[38;5;129;01min\u001b[39;00m sub_key \u001b[38;5;129;01mand\u001b[39;00m sub_key \u001b[38;5;241m!=\u001b[39m key:\n\u001b[1;32m----> 9\u001b[0m         dic[key][sub_key] \u001b[38;5;241m+\u001b[39m\u001b[38;5;241m=\u001b[39m dic[sub_key]\n\u001b[0;32m     11\u001b[0m dic[key] \u001b[38;5;241m=\u001b[39m np\u001b[38;5;241m.\u001b[39mtanh(\u001b[38;5;28msum\u001b[39m(dic[key]\u001b[38;5;241m.\u001b[39mvalues()))\n\u001b[0;32m     12\u001b[0m out_to_weight(dic)\n",
      "\u001b[1;31mTypeError\u001b[0m: unsupported operand type(s) for +=: 'float' and 'dict'"
     ]
    }
   ],
   "source": [
    "def out_to_weight(dic):\n",
    "    '''weight for nested input ie.  0mid:{1mid} or out:{0mid, 0in}'''\n",
    "    for key in dic:\n",
    "        if 'mid' in key and isinstance(dic[key], dict):\n",
    "            for sub_key in dic[key]:\n",
    "                if 'mid' in sub_key and sub_key != key:\n",
    "                    dic[key][sub_key] += dic[sub_key]\n",
    "\n",
    "            dic[key] = np.tanh(sum(dic[key].values()))\n",
    "            out_to_weight(dic)\n",
    "                \n",
    "        elif 'out' in key and isinstance(dic[key], dict):\n",
    "            for sub_key in dic[key]:\n",
    "                if 'mid' in sub_key:\n",
    "                    dic[key][sub_key] += dic[sub_key]\n",
    "            dic[key] = np.tanh(sum(dic[key].values()))\n",
    "            out_to_weight(dic)\n",
    "            \n",
    "out_to_weight(dic)"
   ]
  },
  {
   "cell_type": "code",
   "execution_count": 25,
   "id": "3cfcb7c7",
   "metadata": {
    "ExecuteTime": {
     "end_time": "2022-05-25T20:01:22.702068Z",
     "start_time": "2022-05-25T20:01:22.691648Z"
    }
   },
   "outputs": [
    {
     "data": {
      "text/plain": [
       "{'0mid': {'0in': -1.3017549214100412,\n",
       "  '1in': -0.12867388982145583,\n",
       "  '0mid': -0.7721654204181291,\n",
       "  '2in': 3.7680451701510758,\n",
       "  '1mid': -2.731329162215779},\n",
       " '0out': {'0mid': -2.036319243094766},\n",
       " '1mid': {'1mid': 3.230642453837937, '1in': -2.455791240653136},\n",
       " '1out': {'0mid': -1.385991149092019, '1mid': 2.9065160994964137},\n",
       " '2out': {'1mid': -2.326506943384709,\n",
       "  '0in': 2.68188615901114,\n",
       "  '0mid': 1.8157179917594994}}"
      ]
     },
     "execution_count": 25,
     "metadata": {},
     "output_type": "execute_result"
    }
   ],
   "source": [
    "mid_to_weight(dic)\n",
    "dic"
   ]
  },
  {
   "cell_type": "code",
   "execution_count": 15,
   "id": "1db257bd",
   "metadata": {
    "ExecuteTime": {
     "end_time": "2022-05-25T20:00:27.812342Z",
     "start_time": "2022-05-25T20:00:27.791236Z"
    }
   },
   "outputs": [
    {
     "data": {
      "text/plain": [
       "{'0mid': -0.9665860251799056,\n",
       " '0out': -0.6046523034543023,\n",
       " '1mid': -0.9941823553520475,\n",
       " '1out': 0.9998599242145619}"
      ]
     },
     "execution_count": 15,
     "metadata": {},
     "output_type": "execute_result"
    }
   ],
   "source": [
    "dic"
   ]
  },
  {
   "cell_type": "code",
   "execution_count": null,
   "id": "db2c348d",
   "metadata": {},
   "outputs": [],
   "source": []
  }
 ],
 "metadata": {
  "kernelspec": {
   "display_name": "Python 3 (ipykernel)",
   "language": "python",
   "name": "python3"
  },
  "language_info": {
   "codemirror_mode": {
    "name": "ipython",
    "version": 3
   },
   "file_extension": ".py",
   "mimetype": "text/x-python",
   "name": "python",
   "nbconvert_exporter": "python",
   "pygments_lexer": "ipython3",
   "version": "3.9.12"
  }
 },
 "nbformat": 4,
 "nbformat_minor": 5
}
