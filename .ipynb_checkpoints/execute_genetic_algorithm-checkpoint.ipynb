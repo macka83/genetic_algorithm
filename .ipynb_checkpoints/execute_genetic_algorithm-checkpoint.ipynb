{
 "cells": [
  {
   "cell_type": "markdown",
   "id": "6499aef8",
   "metadata": {
    "ExecuteTime": {
     "end_time": "2022-06-28T19:40:02.442018Z",
     "start_time": "2022-06-28T19:40:00.122777Z"
    }
   },
   "source": [
    "!jt -t chesterish\n",
    "# !jt -r"
   ]
  },
  {
   "cell_type": "code",
   "execution_count": 9,
   "id": "07647a75",
   "metadata": {
    "ExecuteTime": {
     "end_time": "2022-08-18T13:50:27.702499Z",
     "start_time": "2022-08-18T13:50:26.718811Z"
    }
   },
   "outputs": [],
   "source": [
    "from genetic_algorithm import *\n",
    "from movement import *\n",
    "from numpy.random import default_rng\n",
    "import pickle\n",
    "import random \n",
    "import binascii\n",
    "\n",
    "import matplotlib.pyplot as plt\n",
    "# import math\n",
    "from matplotlib.animation import FuncAnimation\n",
    "# %matplotlib notebook\n",
    "\n",
    "import copy\n",
    "from collections import Counter\n",
    "import pandas as pd"
   ]
  },
  {
   "cell_type": "code",
   "execution_count": 2,
   "id": "89c5b605",
   "metadata": {
    "ExecuteTime": {
     "end_time": "2022-08-18T13:50:27.717944Z",
     "start_time": "2022-08-18T13:50:27.702499Z"
    }
   },
   "outputs": [],
   "source": [
    "## hexadecimal generator\n",
    "\n",
    "nr_of_input = 2\n",
    "nr_of_actions = 5\n",
    "nr_of_inner = 2\n",
    "nr_of_genes = 8\n",
    "nr_individuals = 60\n",
    "\n",
    "nr_of_generations = 10\n",
    "\n",
    "## world size\n",
    "world_size = 10\n",
    "world_size_x = world_size\n",
    "world_size_y = world_size"
   ]
  },
  {
   "cell_type": "markdown",
   "id": "531da81b",
   "metadata": {},
   "source": [
    "## generations"
   ]
  },
  {
   "cell_type": "code",
   "execution_count": 4,
   "id": "6acb13d2",
   "metadata": {},
   "outputs": [],
   "source": [
    "# for gen_nr in range(nr_of_generations):\n",
    "#     print(gen_nr)\n",
    "#     if gen_nr == 0:\n",
    "#         result = initial_population(nr_individuals, nr_of_genes, nr_of_input, nr_of_actions, nr_of_inner, world_size)\n",
    "#         result, a,b,c,d,e = steps_in_generation(world_size*1.2, result, world_size_x, world_size_y)\n",
    "#         print(a,b,c,d,e)"
   ]
  },
  {
   "cell_type": "markdown",
   "id": "1aec42fa",
   "metadata": {
    "ExecuteTime": {
     "end_time": "2022-08-18T13:52:11.586109Z",
     "start_time": "2022-08-18T13:50:27.719929Z"
    },
    "scrolled": true
   },
   "source": [
    "time_list = []\n",
    "result = {}\n",
    "for gen_nr in range(nr_of_generations):\n",
    "    print(gen_nr)\n",
    "    if gen_nr == 0:\n",
    "        result = initial_population(nr_individuals, nr_of_genes, nr_of_input, nr_of_actions, nr_of_inner, world_size)\n",
    "        result = steps_in_generation(world_size*1.2, result, world_size_x, world_size_y)\n",
    "    else:\n",
    "        \n",
    "        result = asexual_reproduction_and_mutation(world_size, result, nr_individuals)\n",
    "        if result:\n",
    "            result = next_generation(result,nr_of_input, nr_of_actions, nr_of_inner, world_size, nr_individuals)\n",
    "            result = steps_in_generation(world_size*1.2, result, world_size_x, world_size_y)\n",
    "    result.update(result)\n",
    "    \n",
    "    dic_color = {}\n",
    "    for indiv in result:\n",
    "        rgb_colors = list(map(hex_to_rgb, result[indiv]['genome']))\n",
    "        color = tuple(pd.DataFrame(rgb_colors).median()) \n",
    "        dic_color[indiv] = color\n",
    "        \n",
    "    coords = generate_dictionary_of_coords(result, world_size*2, dic_color)\n",
    "    \n",
    "    def update(i):\n",
    "        ax.clear()\n",
    "        ax.set_facecolor(plt.cm.Blues(.2))\n",
    "\n",
    "        ax.set_xlim([0,world_size_x])\n",
    "        ax.set_ylim([0,world_size_y])\n",
    "        ax.set_title('moving')\n",
    "        ax.scatter(x=coords[i]['x'],y=coords[i]['y'], c=coords[i]['color'], s=20, marker='o')\n",
    "        [spine.set_visible(False) for spine in ax.spines.values()]\n",
    "\n",
    "\n",
    "    fig, ax = plt.subplots(figsize=(6,6))\n",
    "    myAnimation = FuncAnimation(\n",
    "        fig = fig,\n",
    "        func = update,\n",
    "        frames = len(coords),\n",
    "        interval = 10, repeat=False\n",
    "    )\n",
    "    myAnimation.save(f'./output/generation-{gen_nr}.gif', writer='imagemagick' , fps=10)\n",
    "    # create a binary pickle file \n",
    "    f = open(f'./output/generation-{gen_nr}.pkl',\"wb\")\n",
    "    pickle.dump(result, f)\n",
    "    f.close()"
   ]
  },
  {
   "cell_type": "code",
   "execution_count": 5,
   "id": "ca6925d6",
   "metadata": {},
   "outputs": [],
   "source": [
    "# def steps_in_generation(world_size, result, world_size_x, world_size_y):\n",
    "#     for step_nr in range(int(world_size)):\n",
    "#         for indiv in result:\n",
    "#             position = result[indiv]['position']\n",
    "#             x, y = position[-1][0], position[-1][1]\n",
    "#             if step_nr < 1:\n",
    "#                 calculate_position(result, indiv, x, y, world_size_x, world_size_y)\n",
    "#             elif step_nr >= 1:\n",
    "#                 apply_input(result, indiv)\n",
    "#                 calculate_position(result, indiv, x, y, world_size_x, world_size_y)\n",
    "\n",
    "#             # prevent_overlap_movement(last_pos_list, result)\n",
    "#             for prev in sorted(result.keys()): \n",
    "#                 if prev != indiv and result[prev]['position'][-1] == position[-1]:\n",
    "#                     position[-1] = position[-2]\n"
   ]
  },
  {
   "cell_type": "code",
   "execution_count": 3,
   "id": "2b2968b6",
   "metadata": {},
   "outputs": [
    {
     "name": "stdout",
     "output_type": "stream",
     "text": [
      "0\n",
      "1\n",
      "2\n",
      "3\n",
      "4\n",
      "5\n",
      "6\n",
      "7\n",
      "8\n",
      "9\n"
     ]
    }
   ],
   "source": [
    "for gen_nr in range(nr_of_generations):\n",
    "    print(gen_nr)\n",
    "    if gen_nr == 0:\n",
    "        s = time.time()\n",
    "        result = initial_population(nr_individuals, nr_of_genes, nr_of_input, nr_of_actions, nr_of_inner, world_size)\n",
    "        steps_in_generation(world_size*1.2, result, world_size_x, world_size_y)\n",
    "        \n",
    "        e = time.time()\n",
    "    else:\n",
    "        s = time.time()\n",
    "        result = asexual_reproduction_and_mutation(world_size, result, nr_individuals)\n",
    "        if result:\n",
    "            result = next_generation(result,nr_of_input, nr_of_actions, nr_of_inner, world_size, nr_individuals)\n",
    "            steps_in_generation(world_size*1.2, result, world_size_x, world_size_y)\n",
    "        e = time.time()\n",
    "    # print(e-s)\n",
    "    # print(result[0]['position'])"
   ]
  },
  {
   "cell_type": "code",
   "execution_count": 12,
   "id": "b6f32caf",
   "metadata": {},
   "outputs": [],
   "source": [
    "\n",
    "out4 = {f'out{str(weight)}': random.random() for weight in range(4)}"
   ]
  },
  {
   "cell_type": "code",
   "execution_count": 6,
   "id": "30cc267b",
   "metadata": {},
   "outputs": [],
   "source": [
    "result = initial_population(nr_individuals, nr_of_genes, nr_of_input, nr_of_actions, nr_of_inner, world_size)"
   ]
  },
  {
   "cell_type": "code",
   "execution_count": 28,
   "id": "2d18b76f",
   "metadata": {},
   "outputs": [
    {
     "data": {
      "text/plain": [
       "{'out0': 0.482, 'out3': 0.983}"
      ]
     },
     "execution_count": 28,
     "metadata": {},
     "output_type": "execute_result"
    }
   ],
   "source": [
    "result[0]['out']"
   ]
  },
  {
   "cell_type": "code",
   "execution_count": 31,
   "id": "fb7ffc1b",
   "metadata": {},
   "outputs": [
    {
     "data": {
      "text/plain": [
       "{'out0': 0.4796205872250582,\n",
       " 'out1': 0.37714768548295674,\n",
       " 'out2': 0.9471701970901344,\n",
       " 'out3': 0.7749270030660038}"
      ]
     },
     "execution_count": 31,
     "metadata": {},
     "output_type": "execute_result"
    }
   ],
   "source": [
    "out4"
   ]
  },
  {
   "cell_type": "code",
   "execution_count": 33,
   "id": "913ab9db",
   "metadata": {},
   "outputs": [],
   "source": [
    "result_1 = {key: out4.get(key, 0) + result[0]['out'].get(key, 0) for key in max([out4,result[0]['out']], key=len)}"
   ]
  },
  {
   "cell_type": "code",
   "execution_count": 34,
   "id": "3cf5c608",
   "metadata": {},
   "outputs": [
    {
     "data": {
      "text/plain": [
       "{'out0': 0.9616205872250582,\n",
       " 'out1': 0.37714768548295674,\n",
       " 'out2': 0.9471701970901344,\n",
       " 'out3': 1.757927003066004}"
      ]
     },
     "execution_count": 34,
     "metadata": {},
     "output_type": "execute_result"
    }
   ],
   "source": [
    "result_1"
   ]
  },
  {
   "cell_type": "code",
   "execution_count": 30,
   "id": "36597593",
   "metadata": {},
   "outputs": [
    {
     "data": {
      "text/plain": [
       "{'out0': 0, 'out1': 0, 'out2': 0, 'out3': 0}"
      ]
     },
     "execution_count": 30,
     "metadata": {},
     "output_type": "execute_result"
    }
   ],
   "source": [
    "result_1"
   ]
  },
  {
   "cell_type": "code",
   "execution_count": null,
   "id": "df69ba5d",
   "metadata": {},
   "outputs": [],
   "source": []
  }
 ],
 "metadata": {
  "kernelspec": {
   "display_name": "Python 3 (ipykernel)",
   "language": "python",
   "name": "python3"
  },
  "language_info": {
   "codemirror_mode": {
    "name": "ipython",
    "version": 3
   },
   "file_extension": ".py",
   "mimetype": "text/x-python",
   "name": "python",
   "nbconvert_exporter": "python",
   "pygments_lexer": "ipython3",
   "version": "3.9.15"
  },
  "vscode": {
   "interpreter": {
    "hash": "9e35676d33e03a9093a17dc7760f2b2aa4960ff6d3c0d7dc06348afdc0ca22c8"
   }
  }
 },
 "nbformat": 4,
 "nbformat_minor": 5
}
