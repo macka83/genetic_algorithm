{
 "cells": [
  {
   "cell_type": "code",
   "execution_count": 1,
   "id": "64e1e30b",
   "metadata": {},
   "outputs": [],
   "source": [
    "from genetic_algorithm import *\n",
    "import re"
   ]
  },
  {
   "cell_type": "markdown",
   "id": "a4aa7361",
   "metadata": {},
   "source": [
    "## hexadecimal generator"
   ]
  },
  {
   "cell_type": "code",
   "execution_count": 9,
   "id": "e85a93ac",
   "metadata": {},
   "outputs": [],
   "source": [
    "nr_of_input = 3\n",
    "nr_of_actions = 3\n",
    "nr_of_inner = 2\n",
    "nr_of_genes = 16\n",
    "nr_individuals = 4\n",
    "\n",
    "res = generate_initial_genomes_for_population(nr_individuals, nr_of_genes, nr_of_input, nr_of_actions, nr_of_inner)"
   ]
  },
  {
   "cell_type": "markdown",
   "id": "991e86ea",
   "metadata": {},
   "source": [
    "## Sumuj duble"
   ]
  },
  {
   "cell_type": "code",
   "execution_count": 10,
   "id": "0ac99015",
   "metadata": {},
   "outputs": [],
   "source": [
    "dic = {}\n",
    "for nr in res:\n",
    "    dic[nr] = {}\n",
    "    for i in res[nr]:\n",
    "        total = dic.get(i.differ_neuron, 0) + i.weight\n",
    "        n_output = f'{i.output_id}{i.output_type}'\n",
    "        n_input = f'{i.input_id}{i.input_type}'\n",
    "        dic[nr][i.differ_neuron] = [n_input, n_output, total]"
   ]
  },
  {
   "cell_type": "code",
   "execution_count": 11,
   "id": "82f070e4",
   "metadata": {},
   "outputs": [
    {
     "data": {
      "text/plain": [
       "{0: {'0mid0out': ['0mid', '0out', -0.06860979703952388],\n",
       "  '0mid1mid': ['0mid', '1mid', 3.6415687471387153],\n",
       "  '0in0out': ['0in', '0out', -2.7246146802990996],\n",
       "  '1in1out': ['1in', '1out', -3.930779795513505],\n",
       "  '0in1mid': ['0in', '1mid', -2.8151991454295744],\n",
       "  '0mid0mid': ['0mid', '0mid', 2.4620173966122385],\n",
       "  '2in2out': ['2in', '2out', -2.4962002136426062],\n",
       "  '2in1out': ['2in', '1out', 3.330749275141157],\n",
       "  '2in0mid': ['2in', '0mid', -1.421883106973905],\n",
       "  '1mid2out': ['1mid', '2out', 2.5674958034488022]},\n",
       " 1: {'1in0mid': ['1in', '0mid', 2.0073859301083474],\n",
       "  '0in0mid': ['0in', '0mid', -2.003479322447734],\n",
       "  '1mid1mid': ['1mid', '1mid', -0.009888600640927819],\n",
       "  '0in1out': ['0in', '1out', -2.2045475354799327],\n",
       "  '0mid0mid': ['0mid', '0mid', 1.9815046543567831],\n",
       "  '0in1mid': ['0in', '1mid', -2.892110483747902],\n",
       "  '1in0out': ['1in', '0out', 3.661101785441782],\n",
       "  '1mid0mid': ['1mid', '0mid', 2.0531664886311614],\n",
       "  '0mid0out': ['0mid', '0out', -1.1988402258507553],\n",
       "  '1in2out': ['1in', '2out', 1.7429574240805739],\n",
       "  '0in0out': ['0in', '0out', -0.08008545704257591],\n",
       "  '1in1mid': ['1in', '1mid', 0.429360598199298]},\n",
       " 2: {'1in0out': ['1in', '0out', -0.289088966885396],\n",
       "  '2in0out': ['2in', '0out', 3.718968411414619],\n",
       "  '0mid0mid': ['0mid', '0mid', 3.4302456889974056],\n",
       "  '1in1mid': ['1in', '1mid', -3.295101480238059],\n",
       "  '0in0out': ['0in', '0out', -3.4989775675263237],\n",
       "  '0mid1mid': ['0mid', '1mid', 3.7841599267511064],\n",
       "  '1mid1mid': ['1mid', '1mid', 2.7618495345643215],\n",
       "  '2in2out': ['2in', '2out', 2.432717839157638],\n",
       "  '1mid1out': ['1mid', '1out', -3.896841141461926],\n",
       "  '1mid0mid': ['1mid', '0mid', 1.9782084541431406],\n",
       "  '2in0mid': ['2in', '0mid', 2.087471387150923]},\n",
       " 3: {'1mid2out': ['1mid', '2out', 2.158034488020754],\n",
       "  '1in0out': ['1in', '0out', -2.7034945826339083],\n",
       "  '0in2out': ['0in', '2out', 2.0957729284297266],\n",
       "  '2in1out': ['2in', '1out', 3.9208911948725773],\n",
       "  '0mid1out': ['0mid', '1out', 0.4977262322600336],\n",
       "  '1mid1mid': ['1mid', '1mid', 2.7786967801007174],\n",
       "  '1mid1out': ['1mid', '1out', -1.0613764687929192],\n",
       "  '0mid0out': ['0mid', '0out', 3.2841141461925836],\n",
       "  '1in1out': ['1in', '1out', -3.218678467877308],\n",
       "  '2in1mid': ['2in', '1mid', -3.549030978177934],\n",
       "  '0mid2out': ['0mid', '2out', 1.0195025179307187],\n",
       "  '0in1mid': ['0in', '1mid', 2.3180833206165117],\n",
       "  '2in0mid': ['2in', '0mid', 2.37717076148329]}}"
      ]
     },
     "execution_count": 11,
     "metadata": {},
     "output_type": "execute_result"
    }
   ],
   "source": [
    "dic"
   ]
  },
  {
   "cell_type": "markdown",
   "id": "69161a40",
   "metadata": {},
   "source": [
    "## brain generator"
   ]
  },
  {
   "cell_type": "code",
   "execution_count": 12,
   "id": "6625f189",
   "metadata": {},
   "outputs": [],
   "source": [
    "edges = dic[0]\n",
    "\n",
    "brain = {}\n",
    "for i in edges:\n",
    "    if 'out' in edges[i][1]:\n",
    "        brain.update({edges[i][1]:{}})"
   ]
  },
  {
   "cell_type": "code",
   "execution_count": 13,
   "id": "dcc58bd2",
   "metadata": {},
   "outputs": [
    {
     "data": {
      "text/plain": [
       "{'0out': {}, '1out': {}, '2out': {}}"
      ]
     },
     "execution_count": 13,
     "metadata": {},
     "output_type": "execute_result"
    }
   ],
   "source": [
    "brain"
   ]
  },
  {
   "cell_type": "code",
   "execution_count": 14,
   "id": "acfc2e31",
   "metadata": {},
   "outputs": [
    {
     "data": {
      "text/plain": [
       "{'0out': {'0mid': {'w': -0.06860979703952388,\n",
       "   '0mid': {'w': 2.4620173966122385},\n",
       "   '2in': {'w': -1.421883106973905}},\n",
       "  '0in': {'w': -2.7246146802990996}},\n",
       " '1out': {'1in': {'w': -3.930779795513505}, '2in': {'w': 3.330749275141157}},\n",
       " '2out': {'2in': {'w': -2.4962002136426062},\n",
       "  '1mid': {'w': 2.5674958034488022,\n",
       "   '0mid': {'w': 3.6415687471387153,\n",
       "    '0mid': {'w': 2.4620173966122385},\n",
       "    '2in': {'w': -1.421883106973905}},\n",
       "   '0in': {'w': -2.8151991454295744}}}}"
      ]
     },
     "execution_count": 14,
     "metadata": {},
     "output_type": "execute_result"
    }
   ],
   "source": [
    "\n",
    "\n",
    "def mid_neuron(brain, edges):\n",
    "    for key in brain:\n",
    "        for pair in edges:\n",
    "            item = edges[pair]\n",
    "            if key == item[1] and 'mid' in item[0] and key != item[0]:\n",
    "                brain[key].update({item[0]: {'w':item[2]}})\n",
    "                mid_neuron(brain[key], edges)\n",
    "                \n",
    "            elif key == item[1] and 'mid' in item[0] and key == item[0]:\n",
    "                brain[key].update({item[0]:{'w':item[2]}})\n",
    "                \n",
    "            elif key == item[1] and 'mid' not in item[0]:\n",
    "                brain[key].update({item[0]:{'w':item[2]}})\n",
    "                \n",
    "                \n",
    "\n",
    "mid_neuron(brain, edges)\n",
    "\n",
    "brain"
   ]
  },
  {
   "cell_type": "code",
   "execution_count": 15,
   "id": "2c3e5a25",
   "metadata": {},
   "outputs": [
    {
     "name": "stdout",
     "output_type": "stream",
     "text": [
      "if 0out {'0mid': {'w': -0.06860979703952388, '0mid': {'w': 2.4620173966122385}, '2in': {'w': -1.421883106973905}}, '0in': {'w': -2.7246146802990996}}\n",
      "if 1out {'1in': {'w': -3.930779795513505}, '2in': {'w': 3.330749275141157}}\n",
      "if 2out {'2in': {'w': -2.4962002136426062}, '1mid': {'w': 2.5674958034488022, '0mid': {'w': 3.6415687471387153, '0mid': {'w': 2.4620173966122385}, '2in': {'w': -1.421883106973905}}, '0in': {'w': -2.8151991454295744}}}\n"
     ]
    }
   ],
   "source": [
    "def analyze_brain(brain):\n",
    "    for k, v in brain.items():\n",
    "        if isinstance(v, dict) and len(v) >= 2:\n",
    "            print('if', k, v)\n",
    "#             analyze_brain(brain)\n",
    "        else:\n",
    "            print('else', k, v)\n",
    "            \n",
    "analyze_brain(brain)"
   ]
  },
  {
   "cell_type": "markdown",
   "id": "c0bf6b4b",
   "metadata": {},
   "source": [
    "get dictionary depth  \n",
    "https://stackoverflow.com/questions/23499017/know-the-depth-of-a-dictionary\n",
    "https://www.tutorialspoint.com/find-depth-of-a-dictionary-in-python"
   ]
  },
  {
   "cell_type": "markdown",
   "id": "ec147961",
   "metadata": {},
   "source": [
    "https://stackoverflow.com/questions/47265412/custom-connections-between-layers-keras"
   ]
  },
  {
   "cell_type": "code",
   "execution_count": null,
   "id": "9001cf8e",
   "metadata": {},
   "outputs": [],
   "source": []
  }
 ],
 "metadata": {
  "kernelspec": {
   "display_name": "Python 3 (ipykernel)",
   "language": "python",
   "name": "python3"
  },
  "language_info": {
   "codemirror_mode": {
    "name": "ipython",
    "version": 3
   },
   "file_extension": ".py",
   "mimetype": "text/x-python",
   "name": "python",
   "nbconvert_exporter": "python",
   "pygments_lexer": "ipython3",
   "version": "3.9.7"
  }
 },
 "nbformat": 4,
 "nbformat_minor": 5
}
