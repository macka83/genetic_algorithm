{
 "cells": [
  {
   "cell_type": "code",
   "execution_count": 1,
   "id": "07647a75",
   "metadata": {
    "ExecuteTime": {
     "end_time": "2022-06-24T20:37:27.158237Z",
     "start_time": "2022-06-24T20:37:25.168622Z"
    }
   },
   "outputs": [],
   "source": [
    "from genetic_algorithm import *\n",
    "from numpy.random import default_rng\n",
    "import matplotlib.pyplot as plt"
   ]
  },
  {
   "cell_type": "code",
   "execution_count": 2,
   "id": "89c5b605",
   "metadata": {
    "ExecuteTime": {
     "end_time": "2022-06-24T20:37:27.235262Z",
     "start_time": "2022-06-24T20:37:27.162502Z"
    }
   },
   "outputs": [
    {
     "name": "stdout",
     "output_type": "stream",
     "text": [
      "{0: {'out4': 0.996, 'out3': 0.001, 'out2': 0.762, 'out1': 0.996, 'position': [[3, 18]]}, 1: {'out4': 0.0, 'out2': 0.999, 'out3': 0.0, 'out1': 0.957, 'position': [[19, 4]]}, 2: {'out0': 0.995, 'position': [[10, 1]]}, 3: {'out0': 0.988, 'out2': 0.006, 'out3': 0.997, 'position': [[7, 17]]}}\n"
     ]
    }
   ],
   "source": [
    "\n",
    "# ## hexadecimal generator\n",
    "\n",
    "nr_of_input = 3\n",
    "nr_of_actions = 5\n",
    "nr_of_inner = 3\n",
    "nr_of_genes = 16\n",
    "nr_individuals = 4\n",
    "\n",
    "individuals = generate_initial_genomes_for_population(nr_individuals, nr_of_genes, nr_of_input, nr_of_actions, nr_of_inner)\n",
    "\n",
    "## world size\n",
    "world_size_x = 20\n",
    "world_size_y = 20\n",
    "\n",
    "rng = default_rng()\n",
    "x = rng.choice(world_size_x, size=nr_individuals, replace=False)\n",
    "y = rng.choice(world_size_y, size=nr_individuals, replace=False)\n",
    "\n",
    "# ## initial brain and position generator\n",
    "\n",
    "result = calculate_individual_output_weights(individuals)\n",
    "\n",
    "for indiv in result:\n",
    "    result[indiv]['position'] = [[x[indiv], y[indiv]]]\n",
    "\n",
    "print(result)\n",
    "\n"
   ]
  },
  {
   "cell_type": "code",
   "execution_count": 17,
   "id": "20f15500",
   "metadata": {
    "ExecuteTime": {
     "end_time": "2022-06-24T21:45:37.897675Z",
     "start_time": "2022-06-24T21:45:37.885934Z"
    }
   },
   "outputs": [],
   "source": [
    "def sum_duplicated_neurons(res):\n",
    "    '''sum duplicatd neurons and return bunch neurons dictionary'''\n",
    "    dic = {}\n",
    "    for nr in res:\n",
    "        dic[nr] = {}\n",
    "        for i in res[nr]:\n",
    "            total = dic.get(i.differ_neuron, 0) + i.weight\n",
    "            n_output = f'{i.output_type}{i.output_id}'\n",
    "            n_input = f'{i.input_type}{i.input_id}'\n",
    "            dic[nr][i.differ_neuron] = [n_input, n_output, total]\n",
    "    return dic"
   ]
  },
  {
   "cell_type": "code",
   "execution_count": 16,
   "id": "6d000f9d",
   "metadata": {
    "ExecuteTime": {
     "end_time": "2022-06-24T21:45:32.964177Z",
     "start_time": "2022-06-24T21:45:32.934086Z"
    }
   },
   "outputs": [
    {
     "data": {
      "text/plain": [
       "{0: {'mid1out4': ['mid1', 'out4', 2.4731268121471084],\n",
       "  'in0out4': ['in0', 'out4', 1.8373264153822677],\n",
       "  'in0out3': ['in0', 'out3', -2.363253471692355],\n",
       "  'in0out2': ['in0', 'out2', 0.583183274835953],\n",
       "  'in2out0': ['in2', 'out0', -3.203418281703037],\n",
       "  'mid0out1': ['mid0', 'out1', 3.966427590416603],\n",
       "  'in0mid0': ['in0', 'mid0', 0.5966122386693118],\n",
       "  'mid0out4': ['mid0', 'out4', -3.0370212116587822],\n",
       "  'in1out1': ['in1', 'out1', -1.1901724401037692],\n",
       "  'in2mid1': ['in2', 'mid1', 3.353822676636655],\n",
       "  'mid1mid2': ['mid1', 'mid2', 1.5239432321074318],\n",
       "  'in1mid2': ['in1', 'mid2', 2.9515641690828627],\n",
       "  'in1mid0': ['in1', 'mid0', 2.685548603692965],\n",
       "  'mid2out4': ['mid2', 'out4', 1.5106363497634672],\n",
       "  'mid1out3': ['mid1', 'out3', -1.4279871814436136],\n",
       "  'in0mid1': ['in0', 'mid1', -1.4336029299557456]},\n",
       " 1: {'in2out4': ['in2', 'out4', -2.1070044254539906],\n",
       "  'in0out2': ['in0', 'out2', 1.6205096902182206],\n",
       "  'in0mid1': ['in0', 'mid1', -3.746558828017702],\n",
       "  'mid1out3': ['mid1', 'out3', -2.8662292079963376],\n",
       "  'in0out3': ['in0', 'out3', -2.508042118113841],\n",
       "  'in2out2': ['in2', 'out2', 1.8126659545246453],\n",
       "  'mid2mid2': ['mid2', 'mid2', -3.4208454143140545],\n",
       "  'mid1out1': ['mid1', 'out1', 1.549092018922631],\n",
       "  'in0mid2': ['in0', 'mid2', 0.46671753395391424],\n",
       "  'mid1out4': ['mid1', 'out4', -2.750495956050664],\n",
       "  'mid0mid1': ['mid0', 'mid1', 0.822951320006104],\n",
       "  'mid0out4': ['mid0', 'out4', 1.1519609339233938],\n",
       "  'in2mid1': ['in2', 'mid1', -0.48039066076606135],\n",
       "  'in0out4': ['in0', 'out4', -1.1822371432931482],\n",
       "  'in2mid0': ['in2', 'mid0', 0.44059209522356174],\n",
       "  'mid2mid0': ['mid2', 'mid0', 3.9445750038150464]},\n",
       " 2: {'mid1mid0': ['mid1', 'mid0', 3.4352510300625667],\n",
       "  'mid2mid1': ['mid2', 'mid1', 0.5295895009919122],\n",
       "  'mid1mid1': ['mid1', 'mid1', 1.3900198382420266],\n",
       "  'in2mid0': ['in2', 'mid0', 3.6918663207691136],\n",
       "  'in0mid2': ['in0', 'mid2', -2.1828170303677705],\n",
       "  'mid1out0': ['mid1', 'out0', 2.5449107279108807],\n",
       "  'mid0mid2': ['mid0', 'mid2', 1.9855333435067908],\n",
       "  'in2mid1': ['in2', 'mid1', 1.7279414008850909],\n",
       "  'in0mid0': ['in0', 'mid0', -2.7688081794597896],\n",
       "  'in1out0': ['in1', 'out0', 0.11744239279719212],\n",
       "  'in1mid2': ['in1', 'mid2', -3.654387303525103],\n",
       "  'in0mid1': ['in0', 'mid1', -0.6834121776285671]},\n",
       " 3: {'in1mid1': ['in1', 'mid1', 1.531268121471082],\n",
       "  'mid2mid0': ['mid2', 'mid0', -3.591149092018923],\n",
       "  'mid0mid1': ['mid0', 'mid1', 1.7715244925988096],\n",
       "  'in2out0': ['in2', 'out0', 2.2169998473981383],\n",
       "  'in2mid1': ['in2', 'mid1', -2.9123760109873342],\n",
       "  'mid1mid1': ['mid1', 'mid1', -0.3331603845566916],\n",
       "  'mid0out2': ['mid0', 'out2', -2.5505264764230122],\n",
       "  'in0mid2': ['in0', 'mid2', -0.6582633908133679],\n",
       "  'mid0mid2': ['mid0', 'mid2', 1.7069433847092934],\n",
       "  'in0mid0': ['in0', 'mid0', -0.11121623683808943],\n",
       "  'mid1mid0': ['mid1', 'mid0', -0.7002594231649626],\n",
       "  'mid2mid1': ['mid2', 'mid1', 3.834091255913322],\n",
       "  'mid2mid2': ['mid2', 'mid2', -3.2633602929955745],\n",
       "  'mid2out3': ['mid2', 'out3', 2.9657256218525867]}}"
      ]
     },
     "execution_count": 16,
     "metadata": {},
     "output_type": "execute_result"
    }
   ],
   "source": [
    "sum_duplicated_neurons(individuals)"
   ]
  },
  {
   "cell_type": "code",
   "execution_count": null,
   "id": "4332ac5a",
   "metadata": {},
   "outputs": [],
   "source": []
  },
  {
   "cell_type": "code",
   "execution_count": 3,
   "id": "9222f90b",
   "metadata": {
    "ExecuteTime": {
     "end_time": "2022-06-24T20:37:27.263873Z",
     "start_time": "2022-06-24T20:37:27.240266Z"
    }
   },
   "outputs": [],
   "source": [
    "result = {0: {'out3': 1.0, 'out2': 0.087, 'out0': 0.995, 'out4': 0.992, 'out1': 0.069, 'position': [[14, 4]]},\n",
    "          1: {'out1': 0.004, 'out2': 0.318, 'out4': 0.966, 'out3': 0.005, 'out0': 0.997, 'position': [[4, 5]]},\n",
    "          2: {'out4': 1.0, 'out0': 0.048, 'out2': 0.88, 'out1': 0.732, 'out3': 0.831, 'position': [[3, 3]]},\n",
    "          3: {'out2': 0.536, 'out1': 1.0, 'out4': 0.067, 'position': [[17, 15]]}}"
   ]
  },
  {
   "cell_type": "code",
   "execution_count": 8,
   "id": "40079ed6",
   "metadata": {
    "ExecuteTime": {
     "end_time": "2022-06-24T20:53:54.789123Z",
     "start_time": "2022-06-24T20:53:54.761252Z"
    },
    "scrolled": true
   },
   "outputs": [],
   "source": [
    "k = 5\n",
    "n = 0\n",
    "while k>n:  \n",
    "    for indiv in result:\n",
    "        x, y = result[indiv]['position'][-1][0], result[indiv]['position'][-1][1]\n",
    "\n",
    "        position_list = []\n",
    "        for out in result[indiv]:\n",
    "            if 'out' in out:\n",
    "                new_pos = move(out, result[indiv][out])\n",
    "\n",
    "                position_list.append(new_pos)\n",
    "        \n",
    "        position_list = list(map(sum, zip(*position_list)))\n",
    "        position_list = make_smaller_(position_list)\n",
    "        position_list = list(map(sum, zip(*[[x, y]] + [position_list])))\n",
    "                            \n",
    "        position_list[0] = normalize_position_if_outside_world(position_list[0], world_size_x)\n",
    "        position_list[1] = normalize_position_if_outside_world(position_list[1], world_size_y)\n",
    "#         print('norm', position_list)\n",
    "        result[indiv]['position'].append(position_list)\n",
    "    \n",
    "    last_pos_list = [result[obj]['position'][-1] for obj in result]\n",
    "   \n",
    "    for obj in range(len(last_pos_list)):\n",
    "        for i_nr, i in enumerate(last_pos_list[obj+1:], start=obj+1):\n",
    "            if last_pos_list[obj] == i:\n",
    "                result[i_nr]['position'][-1] = result[i_nr]['position'][-2]     \n",
    "    n += 1\n",
    "#     print()        \n",
    "# result"
   ]
  },
  {
   "cell_type": "code",
   "execution_count": null,
   "id": "26bd7db5",
   "metadata": {},
   "outputs": [],
   "source": []
  },
  {
   "cell_type": "code",
   "execution_count": 5,
   "id": "44a7d51e",
   "metadata": {
    "ExecuteTime": {
     "end_time": "2022-06-24T20:37:27.339028Z",
     "start_time": "2022-06-24T20:37:27.311882Z"
    }
   },
   "outputs": [
    {
     "data": {
      "text/plain": [
       "4"
      ]
     },
     "execution_count": 5,
     "metadata": {},
     "output_type": "execute_result"
    }
   ],
   "source": [
    "a = [(3, 0),(4,1),(5,2)]\n",
    "\n",
    "def slope_intercept(x1,y1,x2,y2):\n",
    "    a = (y2 - y1) / (x2 - x1)\n",
    "    b = y1 - a * x1     \n",
    "    return a,b\n",
    "\n",
    "# print(slope_intercept(3,0,2,1))\n",
    "\n",
    "if a[-2][0] == a[-1][0]:\n",
    "    x = a[-1][0]\n",
    "elif a[-2][0] > a[-1][0]:\n",
    "    x = a[-2][0] + 1\n",
    "elif a[-2][0] < a[-1][0]:\n",
    "    x = a[-2][0] - 1\n",
    "# print(x)\n",
    "\n",
    "a[-2][0]\n",
    "\n"
   ]
  },
  {
   "cell_type": "code",
   "execution_count": null,
   "id": "032bc083",
   "metadata": {},
   "outputs": [],
   "source": []
  }
 ],
 "metadata": {
  "kernelspec": {
   "display_name": "Python 3 (ipykernel)",
   "language": "python",
   "name": "python3"
  },
  "language_info": {
   "codemirror_mode": {
    "name": "ipython",
    "version": 3
   },
   "file_extension": ".py",
   "mimetype": "text/x-python",
   "name": "python",
   "nbconvert_exporter": "python",
   "pygments_lexer": "ipython3",
   "version": "3.9.12"
  }
 },
 "nbformat": 4,
 "nbformat_minor": 5
}
