{
 "cells": [
  {
   "cell_type": "code",
   "execution_count": 22,
   "id": "07647a75",
   "metadata": {
    "ExecuteTime": {
     "end_time": "2022-06-13T17:05:41.532392Z",
     "start_time": "2022-06-13T17:05:41.516318Z"
    }
   },
   "outputs": [],
   "source": [
    "from genetic_algorithm import *\n",
    "from numpy.random import default_rng"
   ]
  },
  {
   "cell_type": "code",
   "execution_count": 23,
   "id": "89c5b605",
   "metadata": {
    "ExecuteTime": {
     "end_time": "2022-06-13T17:05:41.799624Z",
     "start_time": "2022-06-13T17:05:41.786558Z"
    }
   },
   "outputs": [
    {
     "name": "stdout",
     "output_type": "stream",
     "text": [
      "{0: {'out1': 0.723, 'out3': 0.526, 'out2': 0.5, 'out0': 0.858, 'out4': 0.881}, 1: {'out1': 0.001, 'out2': 0.069, 'out4': 0.02, 'out0': 0.195}, 2: {'out2': 0.101, 'out3': 0.0, 'out1': 0.07, 'out4': 0.511, 'out0': 1.0}, 3: {'out4': 0.999, 'out3': 0.999, 'out2': 0.999, 'out1': 0.979, 'out0': 0.999}}\n"
     ]
    }
   ],
   "source": [
    "\n",
    "# ## hexadecimal generator\n",
    "\n",
    "nr_of_input = 3\n",
    "nr_of_actions = 5\n",
    "nr_of_inner = 3\n",
    "nr_of_genes = 16\n",
    "nr_individuals = 4\n",
    "\n",
    "individuals = generate_initial_genomes_for_population(nr_individuals, nr_of_genes, nr_of_input, nr_of_actions, nr_of_inner)\n",
    "\n",
    "## world size\n",
    "world_size_x = 20\n",
    "world_size_y = 20\n",
    "\n",
    "rng = default_rng()\n",
    "x = rng.choice(world_size_x, size=nr_individuals, replace=False)\n",
    "y = rng.choice(world_size_y, size=nr_individuals, replace=False)\n",
    "\n",
    "# ## initial brain and position generator\n",
    "\n",
    "result = calculate_individual_output_weights(individuals)\n",
    "print(result)\n",
    "\n"
   ]
  },
  {
   "cell_type": "code",
   "execution_count": 24,
   "id": "34bfa09f",
   "metadata": {
    "ExecuteTime": {
     "end_time": "2022-06-13T17:05:42.136118Z",
     "start_time": "2022-06-13T17:05:42.126991Z"
    }
   },
   "outputs": [],
   "source": [
    "for indiv in result:\n",
    "    result[indiv]['position'] = [(x[indiv], y[indiv])]"
   ]
  },
  {
   "cell_type": "code",
   "execution_count": 25,
   "id": "ef6175cc",
   "metadata": {
    "ExecuteTime": {
     "end_time": "2022-06-13T17:05:42.529203Z",
     "start_time": "2022-06-13T17:05:42.508174Z"
    }
   },
   "outputs": [
    {
     "data": {
      "text/plain": [
       "{0: {'out1': 0.723,\n",
       "  'out3': 0.526,\n",
       "  'out2': 0.5,\n",
       "  'out0': 0.858,\n",
       "  'out4': 0.881,\n",
       "  'position': [(2, 10)]},\n",
       " 1: {'out1': 0.001,\n",
       "  'out2': 0.069,\n",
       "  'out4': 0.02,\n",
       "  'out0': 0.195,\n",
       "  'position': [(9, 17)]},\n",
       " 2: {'out2': 0.101,\n",
       "  'out3': 0.0,\n",
       "  'out1': 0.07,\n",
       "  'out4': 0.511,\n",
       "  'out0': 1.0,\n",
       "  'position': [(14, 0)]},\n",
       " 3: {'out4': 0.999,\n",
       "  'out3': 0.999,\n",
       "  'out2': 0.999,\n",
       "  'out1': 0.979,\n",
       "  'out0': 0.999,\n",
       "  'position': [(10, 19)]}}"
      ]
     },
     "execution_count": 25,
     "metadata": {},
     "output_type": "execute_result"
    }
   ],
   "source": [
    "result"
   ]
  },
  {
   "cell_type": "code",
   "execution_count": 27,
   "id": "40079ed6",
   "metadata": {
    "ExecuteTime": {
     "end_time": "2022-06-13T17:05:43.414496Z",
     "start_time": "2022-06-13T17:05:43.339657Z"
    },
    "scrolled": true
   },
   "outputs": [
    {
     "data": {
      "text/plain": [
       "{0: {'out1': 0.723,\n",
       "  'out3': 0.526,\n",
       "  'out2': 0.5,\n",
       "  'out0': 0.858,\n",
       "  'out4': 0.881,\n",
       "  'position': [(2, 10),\n",
       "   [1, 8],\n",
       "   [0, 7],\n",
       "   [0, 5],\n",
       "   [0, 5],\n",
       "   [0, 4],\n",
       "   [0, 4],\n",
       "   [0, 4],\n",
       "   [0, 3],\n",
       "   [0, 2],\n",
       "   [0, 1],\n",
       "   [0, 0],\n",
       "   [0, 1],\n",
       "   [0, 0],\n",
       "   [0, 0],\n",
       "   [0, 0]]},\n",
       " 1: {'out1': 0.001,\n",
       "  'out2': 0.069,\n",
       "  'out4': 0.02,\n",
       "  'out0': 0.195,\n",
       "  'position': [(9, 17),\n",
       "   [9, 17],\n",
       "   [9, 18],\n",
       "   [9, 18],\n",
       "   [9, 18],\n",
       "   [9, 18],\n",
       "   [9, 18],\n",
       "   [9, 19],\n",
       "   [9, 19],\n",
       "   [9, 19],\n",
       "   [9, 19],\n",
       "   [9, 19],\n",
       "   [9, 20],\n",
       "   [10, 20],\n",
       "   [10, 20],\n",
       "   [10, 20]]},\n",
       " 2: {'out2': 0.101,\n",
       "  'out3': 0.0,\n",
       "  'out1': 0.07,\n",
       "  'out4': 0.511,\n",
       "  'out0': 1.0,\n",
       "  'position': [(14, 0),\n",
       "   [14, 0],\n",
       "   [14, 1],\n",
       "   [14, 2],\n",
       "   [13, 3],\n",
       "   [12, 4],\n",
       "   [11, 4],\n",
       "   [11, 3],\n",
       "   [10, 4],\n",
       "   [10, 4],\n",
       "   [10, 5],\n",
       "   [9, 5],\n",
       "   [10, 5],\n",
       "   [9, 5],\n",
       "   [9, 6],\n",
       "   [8, 6]]},\n",
       " 3: {'out4': 0.999,\n",
       "  'out3': 0.999,\n",
       "  'out2': 0.999,\n",
       "  'out1': 0.979,\n",
       "  'out0': 0.999,\n",
       "  'position': [(10, 19),\n",
       "   [9, 18],\n",
       "   [8, 17],\n",
       "   [7, 16],\n",
       "   [6, 15],\n",
       "   [5, 14],\n",
       "   [4, 13],\n",
       "   [3, 12],\n",
       "   [2, 11],\n",
       "   [1, 10],\n",
       "   [0, 9],\n",
       "   [0, 8],\n",
       "   [0, 7],\n",
       "   [0, 6],\n",
       "   [0, 5],\n",
       "   [0, 4]]}}"
      ]
     },
     "execution_count": 27,
     "metadata": {},
     "output_type": "execute_result"
    }
   ],
   "source": [
    "k = 15\n",
    "n = 0\n",
    "while k>n:  \n",
    "    for indiv in result:\n",
    "        x = result[indiv]['position'][-1][0]\n",
    "        y = result[indiv]['position'][-1][1]\n",
    "        position_list = []\n",
    "        for out in result[indiv]:\n",
    "            if 'out' in out:\n",
    "                new_pos = move(x, y, out, result[indiv][out])\n",
    "                position_list.append(new_pos)\n",
    "        position_list = list(map(sum, zip(*[[x, y]] + position_list)))\n",
    "        \n",
    "        position_list[0] = normalize_position_if_outside_world(position_list[0], world_size_x)\n",
    "        position_list[1] = normalize_position_if_outside_world(position_list[1], world_size_y)\n",
    "        \n",
    "        \n",
    "        result[indiv]['position'].append(position_list)\n",
    "    n += 1\n",
    "            \n",
    "result"
   ]
  },
  {
   "cell_type": "code",
   "execution_count": null,
   "id": "44a7d51e",
   "metadata": {
    "ExecuteTime": {
     "end_time": "2022-06-13T16:47:26.767364Z",
     "start_time": "2022-06-13T16:47:26.767364Z"
    }
   },
   "outputs": [],
   "source": [
    "a = [(3, 0),(4,1),(5,2)]\n",
    "\n",
    "def slope_intercept(x1,y1,x2,y2):\n",
    "    a = (y2 - y1) / (x2 - x1)\n",
    "    b = y1 - a * x1     \n",
    "    return a,b\n",
    "\n",
    "# print(slope_intercept(3,0,2,1))\n",
    "\n",
    "if a[-2][0] == a[-1][0]:\n",
    "    x = a[-1][0]\n",
    "elif a[-2][0] > a[-1][0]:\n",
    "    x = a[-2][0] + 1\n",
    "elif a[-2][0] < a[-1][0]:\n",
    "    x = a[-2][0] - 1\n",
    "# print(x)\n",
    "\n",
    "a[-2][0]\n",
    "\n"
   ]
  }
 ],
 "metadata": {
  "kernelspec": {
   "display_name": "Python 3 (ipykernel)",
   "language": "python",
   "name": "python3"
  },
  "language_info": {
   "codemirror_mode": {
    "name": "ipython",
    "version": 3
   },
   "file_extension": ".py",
   "mimetype": "text/x-python",
   "name": "python",
   "nbconvert_exporter": "python",
   "pygments_lexer": "ipython3",
   "version": "3.9.12"
  }
 },
 "nbformat": 4,
 "nbformat_minor": 5
}
