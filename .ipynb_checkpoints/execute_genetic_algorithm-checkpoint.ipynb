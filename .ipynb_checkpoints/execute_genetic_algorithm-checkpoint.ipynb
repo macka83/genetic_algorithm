{
 "cells": [
  {
   "cell_type": "code",
   "execution_count": 19,
   "id": "07647a75",
   "metadata": {
    "ExecuteTime": {
     "end_time": "2022-06-24T21:47:17.868736Z",
     "start_time": "2022-06-24T21:47:17.850998Z"
    }
   },
   "outputs": [],
   "source": [
    "from genetic_algorithm import *\n",
    "from numpy.random import default_rng\n",
    "import matplotlib.pyplot as plt"
   ]
  },
  {
   "cell_type": "code",
   "execution_count": 22,
   "id": "89c5b605",
   "metadata": {
    "ExecuteTime": {
     "end_time": "2022-06-24T21:47:40.531547Z",
     "start_time": "2022-06-24T21:47:40.510414Z"
    }
   },
   "outputs": [
    {
     "name": "stdout",
     "output_type": "stream",
     "text": [
      "{0: {'out1': 0.146, 'out2': 0.476, 'position': [[19, 11]]}, 1: {'out2': 0.991, 'out1': 0.128, 'out0': 0.077, 'out4': 0.576, 'position': [[1, 12]]}, 2: {'out1': 0.222, 'out3': 0.997, 'out4': 0.012, 'position': [[15, 14]]}, 3: {'out0': 0.077, 'out3': 0.734, 'position': [[3, 7]]}}\n"
     ]
    }
   ],
   "source": [
    "\n",
    "# ## hexadecimal generator\n",
    "\n",
    "nr_of_input = 2\n",
    "nr_of_actions = 5\n",
    "nr_of_inner = 3\n",
    "nr_of_genes = 16\n",
    "nr_individuals = 4\n",
    "\n",
    "individuals = generate_initial_genomes_for_population(nr_individuals, nr_of_genes, nr_of_input, nr_of_actions, nr_of_inner)\n",
    "\n",
    "## world size\n",
    "world_size_x = 20\n",
    "world_size_y = 20\n",
    "\n",
    "rng = default_rng()\n",
    "x = rng.choice(world_size_x, size=nr_individuals, replace=False)\n",
    "y = rng.choice(world_size_y, size=nr_individuals, replace=False)\n",
    "\n",
    "# ## initial brain and position generator\n",
    "\n",
    "result = calculate_individual_output_weights(individuals)\n",
    "\n",
    "for indiv in result:\n",
    "    result[indiv]['position'] = [[x[indiv], y[indiv]]]\n",
    "\n",
    "print(result)\n",
    "\n"
   ]
  },
  {
   "cell_type": "code",
   "execution_count": 23,
   "id": "55ddc844",
   "metadata": {
    "ExecuteTime": {
     "end_time": "2022-06-24T21:47:41.966643Z",
     "start_time": "2022-06-24T21:47:41.950174Z"
    }
   },
   "outputs": [],
   "source": [
    "def sum_duplicated_neurons(res):\n",
    "    '''sum duplicatd neurons and return bunch neurons dictionary'''\n",
    "    dic = {}\n",
    "    for nr in res:\n",
    "        dic[nr] = {}\n",
    "        for i in res[nr]:\n",
    "            total = dic.get(i.differ_neuron, 0) + i.weight\n",
    "            n_output = f'{i.output_type}{i.output_id}'\n",
    "            n_input = f'{i.input_type}{i.input_id}'\n",
    "            dic[nr][i.differ_neuron] = [n_input, n_output, total]\n",
    "    return dic\n",
    "\n",
    "def "
   ]
  },
  {
   "cell_type": "code",
   "execution_count": 24,
   "id": "abf341a4",
   "metadata": {
    "ExecuteTime": {
     "end_time": "2022-06-24T21:47:42.493603Z",
     "start_time": "2022-06-24T21:47:42.472118Z"
    }
   },
   "outputs": [
    {
     "data": {
      "text/plain": [
       "{0: {'in0out1': ['in0', 'out1', -0.883015412788036],\n",
       "  'in1mid1': ['in1', 'mid1', 0.38272546925072487],\n",
       "  'mid2mid1': ['mid2', 'mid1', -2.0950404394933617],\n",
       "  'mid0out3': ['mid0', 'out3', -3.5861437509537617],\n",
       "  'in1mid0': ['in1', 'mid0', 0.6108957729284298],\n",
       "  'mid0out2': ['mid0', 'out2', 3.2749580344880207],\n",
       "  'in0out2': ['in0', 'out2', -0.04712345490614985],\n",
       "  'mid1mid2': ['mid1', 'mid2', 0.3857775064855791],\n",
       "  'mid0mid2': ['mid0', 'mid2', -0.6193193956966275],\n",
       "  'mid1mid1': ['mid1', 'mid1', 2.8210590569204945],\n",
       "  'mid0out1': ['mid0', 'out1', 2.8969937433236685],\n",
       "  'in0mid1': ['in0', 'mid1', -0.40763009308713566],\n",
       "  'in0mid2': ['in0', 'mid2', -1.0878681519914544]},\n",
       " 1: {'in0out2': ['in0', 'out2', 0.5482679688692202],\n",
       "  'mid0out1': ['mid0', 'out1', 2.695681367312681],\n",
       "  'in1out0': ['in1', 'out0', -1.2385167099038608],\n",
       "  'mid2out0': ['mid2', 'out0', 0.40067144819166794],\n",
       "  'mid2out4': ['mid2', 'out4', -1.9290096139172899],\n",
       "  'mid1mid1': ['mid1', 'mid1', 2.865862963528155],\n",
       "  'in0out4': ['in0', 'out4', -0.900961391728979],\n",
       "  'in1out2': ['in1', 'out2', 1.7916679383488479],\n",
       "  'mid1mid0': ['mid1', 'mid0', 2.3703341980772166],\n",
       "  'in1out1': ['in1', 'out1', -3.6540210590569204],\n",
       "  'in1out4': ['in1', 'out4', 1.05466198687624],\n",
       "  'in1mid0': ['in1', 'mid0', -1.2442545399053868],\n",
       "  'in0mid0': ['in0', 'mid0', 3.552083015412788],\n",
       "  'in0mid1': ['in0', 'mid1', -1.140607355409736]},\n",
       " 2: {'in1mid2': ['in1', 'mid2', 2.611200976651915],\n",
       "  'mid0mid1': ['mid0', 'mid1', -0.3452464520067145],\n",
       "  'mid0out1': ['mid0', 'out1', -0.6256676331451244],\n",
       "  'in0mid2': ['in0', 'mid2', 1.333862353120708],\n",
       "  'mid1out3': ['mid1', 'out3', -1.019624599420113],\n",
       "  'in1mid1': ['in1', 'mid1', -1.6433389287349305],\n",
       "  'mid0mid2': ['mid0', 'mid2', -3.7634060735540973],\n",
       "  'mid2mid0': ['mid2', 'mid0', 1.9257134137036471],\n",
       "  'mid2out4': ['mid2', 'out4', -3.848252708683046],\n",
       "  'in0out4': ['in0', 'out4', -2.7365786662597285],\n",
       "  'in0mid1': ['in0', 'mid1', 1.0293911185716467],\n",
       "  'in0out3': ['in0', 'out3', 2.048039066076606],\n",
       "  'in1out4': ['in1', 'out4', 0.5271478712040287],\n",
       "  'in1out3': ['in1', 'out3', 1.8072943689913017]},\n",
       " 3: {'in1mid1': ['in1', 'mid1', -0.2055852281397833],\n",
       "  'mid1mid2': ['mid1', 'mid2', 0.4850297573630398],\n",
       "  'mid2mid2': ['mid2', 'mid2', -3.3621242179154587],\n",
       "  'mid1mid1': ['mid1', 'mid1', 2.7408515183885243],\n",
       "  'in0out0': ['in0', 'out0', -1.2441324584159927],\n",
       "  'mid2mid1': ['mid2', 'mid1', 1.3190904929040135],\n",
       "  'in1mid0': ['in1', 'mid0', 2.7705173203113076],\n",
       "  'mid2out3': ['mid2', 'out3', -3.8752327178391575],\n",
       "  'in1mid2': ['in1', 'mid2', 3.726659545246452],\n",
       "  'in0mid0': ['in0', 'mid0', 1.5185716465740882],\n",
       "  'mid0mid1': ['mid0', 'mid1', -0.08240500534106517],\n",
       "  'mid2mid0': ['mid2', 'mid0', -2.1135968258812756],\n",
       "  'mid1out3': ['mid1', 'out3', -0.9898367160079353],\n",
       "  'mid0mid2': ['mid0', 'mid2', -1.85319700900351]}}"
      ]
     },
     "execution_count": 24,
     "metadata": {},
     "output_type": "execute_result"
    }
   ],
   "source": [
    "sum_duplicated_neurons(individuals)"
   ]
  },
  {
   "cell_type": "code",
   "execution_count": null,
   "id": "0762b87e",
   "metadata": {},
   "outputs": [],
   "source": []
  },
  {
   "cell_type": "code",
   "execution_count": 3,
   "id": "9222f90b",
   "metadata": {
    "ExecuteTime": {
     "end_time": "2022-06-24T20:37:27.263873Z",
     "start_time": "2022-06-24T20:37:27.240266Z"
    }
   },
   "outputs": [],
   "source": [
    "result = {0: {'out3': 1.0, 'out2': 0.087, 'out0': 0.995, 'out4': 0.992, 'out1': 0.069, 'position': [[14, 4]]},\n",
    "          1: {'out1': 0.004, 'out2': 0.318, 'out4': 0.966, 'out3': 0.005, 'out0': 0.997, 'position': [[4, 5]]},\n",
    "          2: {'out4': 1.0, 'out0': 0.048, 'out2': 0.88, 'out1': 0.732, 'out3': 0.831, 'position': [[3, 3]]},\n",
    "          3: {'out2': 0.536, 'out1': 1.0, 'out4': 0.067, 'position': [[17, 15]]}}"
   ]
  },
  {
   "cell_type": "code",
   "execution_count": 8,
   "id": "40079ed6",
   "metadata": {
    "ExecuteTime": {
     "end_time": "2022-06-24T20:53:54.789123Z",
     "start_time": "2022-06-24T20:53:54.761252Z"
    },
    "scrolled": true
   },
   "outputs": [],
   "source": [
    "k = 5\n",
    "n = 0\n",
    "while k>n:  \n",
    "    for indiv in result:\n",
    "        x, y = result[indiv]['position'][-1][0], result[indiv]['position'][-1][1]\n",
    "\n",
    "        position_list = []\n",
    "        for out in result[indiv]:\n",
    "            if 'out' in out:\n",
    "                new_pos = move(out, result[indiv][out])\n",
    "\n",
    "                position_list.append(new_pos)\n",
    "        \n",
    "        position_list = list(map(sum, zip(*position_list)))\n",
    "        position_list = make_smaller_(position_list)\n",
    "        position_list = list(map(sum, zip(*[[x, y]] + [position_list])))\n",
    "                            \n",
    "        position_list[0] = normalize_position_if_outside_world(position_list[0], world_size_x)\n",
    "        position_list[1] = normalize_position_if_outside_world(position_list[1], world_size_y)\n",
    "#         print('norm', position_list)\n",
    "        result[indiv]['position'].append(position_list)\n",
    "    \n",
    "    last_pos_list = [result[obj]['position'][-1] for obj in result]\n",
    "   \n",
    "    for obj in range(len(last_pos_list)):\n",
    "        for i_nr, i in enumerate(last_pos_list[obj+1:], start=obj+1):\n",
    "            if last_pos_list[obj] == i:\n",
    "                result[i_nr]['position'][-1] = result[i_nr]['position'][-2]     \n",
    "    n += 1\n",
    "#     print()        \n",
    "# result"
   ]
  },
  {
   "cell_type": "code",
   "execution_count": null,
   "id": "ab60a44a",
   "metadata": {},
   "outputs": [],
   "source": []
  },
  {
   "cell_type": "code",
   "execution_count": 5,
   "id": "44a7d51e",
   "metadata": {
    "ExecuteTime": {
     "end_time": "2022-06-24T20:37:27.339028Z",
     "start_time": "2022-06-24T20:37:27.311882Z"
    }
   },
   "outputs": [
    {
     "data": {
      "text/plain": [
       "4"
      ]
     },
     "execution_count": 5,
     "metadata": {},
     "output_type": "execute_result"
    }
   ],
   "source": [
    "a = [(3, 0),(4,1),(5,2)]\n",
    "\n",
    "def slope_intercept(x1,y1,x2,y2):\n",
    "    a = (y2 - y1) / (x2 - x1)\n",
    "    b = y1 - a * x1     \n",
    "    return a,b\n",
    "\n",
    "# print(slope_intercept(3,0,2,1))\n",
    "\n",
    "if a[-2][0] == a[-1][0]:\n",
    "    x = a[-1][0]\n",
    "elif a[-2][0] > a[-1][0]:\n",
    "    x = a[-2][0] + 1\n",
    "elif a[-2][0] < a[-1][0]:\n",
    "    x = a[-2][0] - 1\n",
    "# print(x)\n",
    "\n",
    "a[-2][0]\n",
    "\n"
   ]
  },
  {
   "cell_type": "code",
   "execution_count": null,
   "id": "032bc083",
   "metadata": {},
   "outputs": [],
   "source": []
  }
 ],
 "metadata": {
  "kernelspec": {
   "display_name": "Python 3 (ipykernel)",
   "language": "python",
   "name": "python3"
  },
  "language_info": {
   "codemirror_mode": {
    "name": "ipython",
    "version": 3
   },
   "file_extension": ".py",
   "mimetype": "text/x-python",
   "name": "python",
   "nbconvert_exporter": "python",
   "pygments_lexer": "ipython3",
   "version": "3.9.12"
  }
 },
 "nbformat": 4,
 "nbformat_minor": 5
}
