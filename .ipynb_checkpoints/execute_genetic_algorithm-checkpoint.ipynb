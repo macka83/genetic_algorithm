{
 "cells": [
  {
   "cell_type": "code",
   "execution_count": 1,
   "id": "64e1e30b",
   "metadata": {},
   "outputs": [],
   "source": [
    "from genetic_algorithm import *\n",
    "import re"
   ]
  },
  {
   "cell_type": "markdown",
   "id": "a4aa7361",
   "metadata": {},
   "source": [
    "## hexadecimal generator"
   ]
  },
  {
   "cell_type": "code",
   "execution_count": 2,
   "id": "e85a93ac",
   "metadata": {},
   "outputs": [],
   "source": [
    "nr_of_input = 3\n",
    "nr_of_actions = 3\n",
    "nr_of_inner = 3\n",
    "nr_of_genes = 16\n",
    "nr_individuals = 4\n",
    "\n",
    "res = generate_initial_genomes_for_population(nr_individuals, nr_of_genes, nr_of_input, nr_of_actions, nr_of_inner)"
   ]
  },
  {
   "cell_type": "markdown",
   "id": "991e86ea",
   "metadata": {},
   "source": [
    "## Sumuj duble"
   ]
  },
  {
   "cell_type": "code",
   "execution_count": 3,
   "id": "0ac99015",
   "metadata": {},
   "outputs": [],
   "source": [
    "dic = {}\n",
    "for nr in res:\n",
    "    dic[nr] = {}\n",
    "    for i in res[nr]:\n",
    "        total = dic.get(i.differ_neuron, 0) + i.weight\n",
    "        n_output = f'{i.output_id}{i.output_type}'\n",
    "        n_input = f'{i.input_id}{i.input_type}'\n",
    "        dic[nr][i.differ_neuron] = [n_input, n_output, total]"
   ]
  },
  {
   "cell_type": "code",
   "execution_count": 4,
   "id": "82f070e4",
   "metadata": {},
   "outputs": [
    {
     "data": {
      "text/plain": [
       "{0: {'0mid0out': ['0mid', '0out', -1.7999694796276515],\n",
       "  '1mid2mid': ['1mid', '2mid', -1.4321379520830153],\n",
       "  '1in2mid': ['1in', '2mid', 2.5018159621547382],\n",
       "  '1mid0out': ['1mid', '0out', 0.08936365023653288],\n",
       "  '0mid1out': ['0mid', '1out', -3.5811384098886005],\n",
       "  '1mid2out': ['1mid', '2out', 0.3887074622310392],\n",
       "  '1in1out': ['1in', '1out', -0.6005188463299252],\n",
       "  '0mid2out': ['0mid', '2out', -1.9437814741339845],\n",
       "  '2mid2out': ['2mid', '2out', -3.0720585991149094],\n",
       "  '2mid2mid': ['2mid', '2mid', -3.0630245688997406],\n",
       "  '1mid0mid': ['1mid', '0mid', 3.9869372806348236],\n",
       "  '1in1mid': ['1in', '1mid', -1.9623378605218984],\n",
       "  '0mid0mid': ['0mid', '0mid', -0.1250114451396307]},\n",
       " 1: {'0mid2mid': ['0mid', '2mid', 1.2398596062871967],\n",
       "  '2mid0out': ['2mid', '0out', 3.5722264611628263],\n",
       "  '0mid0out': ['0mid', '0out', -0.5251945673737219],\n",
       "  '2in1mid': ['2in', '1mid', 0.5338623531207081],\n",
       "  '1in1mid': ['1in', '1mid', 2.0247215016023197],\n",
       "  '2mid1mid': ['2mid', '1mid', 2.707523271783916],\n",
       "  '2mid2out': ['2mid', '2out', 1.1686860979703952],\n",
       "  '0in0mid': ['0in', '0mid', 2.586906760262475],\n",
       "  '0in2mid': ['0in', '2mid', -2.572501144513963],\n",
       "  '0in1out': ['0in', '1out', -3.0090645505875173],\n",
       "  '0in1mid': ['0in', '1mid', 0.976041507706394],\n",
       "  '1mid0out': ['1mid', '0out', -3.3301388676941857],\n",
       "  '1mid2mid': ['1mid', '2mid', 1.9027620936975431],\n",
       "  '2in0out': ['2in', '0out', 0.4780711124675721]},\n",
       " 2: {'0mid0out': ['0mid', '0out', 0.8344269800091562],\n",
       "  '2mid0mid': ['2mid', '0mid', 1.6889974057683503],\n",
       "  '1mid0mid': ['1mid', '0mid', -0.8223409125591332],\n",
       "  '0in2out': ['0in', '2out', -3.9948725774454448],\n",
       "  '2mid1mid': ['2mid', '1mid', 3.706027773538837],\n",
       "  '2mid2out': ['2mid', '2out', 1.612818556386388],\n",
       "  '0in1mid': ['0in', '1mid', 3.6265527239432322],\n",
       "  '0mid1mid': ['0mid', '1mid', -2.5374637570578362],\n",
       "  '2in2mid': ['2in', '2mid', 1.2977262322600336],\n",
       "  '2in0out': ['2in', '0out', 3.7201892263085607],\n",
       "  '0in0mid': ['0in', '0mid', 3.1330993438119945]},\n",
       " 3: {'1mid1out': ['1mid', '1out', -3.1130779795513503],\n",
       "  '0in2out': ['0in', '2out', 0.41446665649320924],\n",
       "  '2mid0out': ['2mid', '0out', 3.8745002289027926],\n",
       "  '2mid1out': ['2mid', '1out', 2.41171982298184],\n",
       "  '0mid1mid': ['0mid', '1mid', 0.3421944147718602],\n",
       "  '0mid0mid': ['0mid', '0mid', -3.9833969174423927],\n",
       "  '0mid2out': ['0mid', '2out', -3.0328704410193805],\n",
       "  '2mid2out': ['2mid', '2out', 1.7512589653593773],\n",
       "  '0in1mid': ['0in', '1mid', -3.1180833206165115],\n",
       "  '2in2out': ['2in', '2out', -1.900564626888448],\n",
       "  '2in1out': ['2in', '1out', -2.480085457042576],\n",
       "  '0in1out': ['0in', '1out', -3.8868304593316036],\n",
       "  '1in1out': ['1in', '1out', -3.8715702731573325],\n",
       "  '2in0mid': ['2in', '0mid', 2.414893941706089]}}"
      ]
     },
     "execution_count": 4,
     "metadata": {},
     "output_type": "execute_result"
    }
   ],
   "source": [
    "dic"
   ]
  },
  {
   "cell_type": "markdown",
   "id": "69161a40",
   "metadata": {},
   "source": [
    "## brain generator"
   ]
  },
  {
   "cell_type": "code",
   "execution_count": 5,
   "id": "6625f189",
   "metadata": {},
   "outputs": [],
   "source": [
    "edges = dic[0]\n",
    "\n",
    "brain = {}\n",
    "for i in edges:\n",
    "    if 'out' in edges[i][1]:\n",
    "        brain.update({edges[i][1]:{}})"
   ]
  },
  {
   "cell_type": "code",
   "execution_count": 6,
   "id": "dcc58bd2",
   "metadata": {},
   "outputs": [
    {
     "data": {
      "text/plain": [
       "{'0out': {}, '1out': {}, '2out': {}}"
      ]
     },
     "execution_count": 6,
     "metadata": {},
     "output_type": "execute_result"
    }
   ],
   "source": [
    "brain"
   ]
  },
  {
   "cell_type": "code",
   "execution_count": 7,
   "id": "acfc2e31",
   "metadata": {},
   "outputs": [
    {
     "data": {
      "text/plain": [
       "{'0out': {'0mid': {'w': -1.7999694796276515,\n",
       "   '1mid': {'w': 3.9869372806348236, '1in': {'w': -1.9623378605218984}},\n",
       "   '0mid': {'w': -0.1250114451396307}},\n",
       "  '1mid': {'w': 0.08936365023653288, '1in': {'w': -1.9623378605218984}}},\n",
       " '1out': {'0mid': {'w': -3.5811384098886005,\n",
       "   '1mid': {'w': 3.9869372806348236, '1in': {'w': -1.9623378605218984}},\n",
       "   '0mid': {'w': -0.1250114451396307}},\n",
       "  '1in': {'w': -0.6005188463299252}},\n",
       " '2out': {'1mid': {'w': 0.3887074622310392, '1in': {'w': -1.9623378605218984}},\n",
       "  '0mid': {'w': -1.9437814741339845,\n",
       "   '1mid': {'w': 3.9869372806348236, '1in': {'w': -1.9623378605218984}},\n",
       "   '0mid': {'w': -0.1250114451396307}},\n",
       "  '2mid': {'w': -3.0720585991149094,\n",
       "   '1mid': {'w': -1.4321379520830153, '1in': {'w': -1.9623378605218984}},\n",
       "   '1in': {'w': 2.5018159621547382},\n",
       "   '2mid': {'w': -3.0630245688997406}}}}"
      ]
     },
     "execution_count": 7,
     "metadata": {},
     "output_type": "execute_result"
    }
   ],
   "source": [
    "\n",
    "\n",
    "def mid_neuron(brain, edges):\n",
    "    for key in brain:\n",
    "        for pair in edges:\n",
    "            item = edges[pair]\n",
    "            if key == item[1] and 'mid' in item[0] and key != item[0]:\n",
    "                brain[key].update({item[0]: {'w':item[2]}})\n",
    "                mid_neuron(brain[key], edges)\n",
    "                \n",
    "            elif key == item[1] and 'mid' in item[0] and key == item[0]:\n",
    "                brain[key].update({item[0]:{'w':item[2]}})\n",
    "                \n",
    "            elif key == item[1] and 'mid' not in item[0]:\n",
    "                brain[key].update({item[0]:{'w':item[2]}})\n",
    "                \n",
    "                \n",
    "\n",
    "mid_neuron(brain, edges)\n",
    "\n",
    "brain"
   ]
  },
  {
   "cell_type": "code",
   "execution_count": 8,
   "id": "2c3e5a25",
   "metadata": {},
   "outputs": [
    {
     "name": "stdout",
     "output_type": "stream",
     "text": [
      "if 0out {'0mid': {'w': -1.7999694796276515, '1mid': {'w': 3.9869372806348236, '1in': {'w': -1.9623378605218984}}, '0mid': {'w': -0.1250114451396307}}, '1mid': {'w': 0.08936365023653288, '1in': {'w': -1.9623378605218984}}}\n",
      "if 1out {'0mid': {'w': -3.5811384098886005, '1mid': {'w': 3.9869372806348236, '1in': {'w': -1.9623378605218984}}, '0mid': {'w': -0.1250114451396307}}, '1in': {'w': -0.6005188463299252}}\n",
      "if 2out {'1mid': {'w': 0.3887074622310392, '1in': {'w': -1.9623378605218984}}, '0mid': {'w': -1.9437814741339845, '1mid': {'w': 3.9869372806348236, '1in': {'w': -1.9623378605218984}}, '0mid': {'w': -0.1250114451396307}}, '2mid': {'w': -3.0720585991149094, '1mid': {'w': -1.4321379520830153, '1in': {'w': -1.9623378605218984}}, '1in': {'w': 2.5018159621547382}, '2mid': {'w': -3.0630245688997406}}}\n"
     ]
    }
   ],
   "source": [
    "def analyze_brain(brain):\n",
    "    for k, v in brain.items():\n",
    "        if isinstance(v, dict) and len(v) >= 2:\n",
    "            print('if', k, v)\n",
    "#             analyze_brain(brain)\n",
    "        else:\n",
    "            print('else', k, v)\n",
    "            \n",
    "analyze_brain(brain)"
   ]
  },
  {
   "cell_type": "markdown",
   "id": "c0bf6b4b",
   "metadata": {},
   "source": [
    "get dictionary depth  \n",
    "https://stackoverflow.com/questions/23499017/know-the-depth-of-a-dictionary\n",
    "https://www.tutorialspoint.com/find-depth-of-a-dictionary-in-python"
   ]
  },
  {
   "cell_type": "code",
   "execution_count": null,
   "id": "80467967",
   "metadata": {},
   "outputs": [],
   "source": []
  }
 ],
 "metadata": {
  "kernelspec": {
   "display_name": "Python 3 (ipykernel)",
   "language": "python",
   "name": "python3"
  },
  "language_info": {
   "codemirror_mode": {
    "name": "ipython",
    "version": 3
   },
   "file_extension": ".py",
   "mimetype": "text/x-python",
   "name": "python",
   "nbconvert_exporter": "python",
   "pygments_lexer": "ipython3",
   "version": "3.9.7"
  }
 },
 "nbformat": 4,
 "nbformat_minor": 5
}
