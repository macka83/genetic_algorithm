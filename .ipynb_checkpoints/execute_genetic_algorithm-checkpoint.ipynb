{
 "cells": [
  {
   "cell_type": "code",
   "execution_count": 15,
   "id": "7f7a3869",
   "metadata": {
    "ExecuteTime": {
     "end_time": "2022-06-12T12:32:55.668156Z",
     "start_time": "2022-06-12T12:32:55.654220Z"
    }
   },
   "outputs": [],
   "source": [
    "from genetic_algorithm import *\n",
    "from numpy.random import default_rng"
   ]
  },
  {
   "cell_type": "code",
   "execution_count": 16,
   "id": "89c5b605",
   "metadata": {
    "ExecuteTime": {
     "end_time": "2022-06-12T12:32:55.702571Z",
     "start_time": "2022-06-12T12:32:55.675242Z"
    }
   },
   "outputs": [
    {
     "name": "stdout",
     "output_type": "stream",
     "text": [
      "{0: {'out4': 0.749, 'out2': 0.999, 'out3': 0.995, 'out0': 0.999}, 1: {'out4': 0.883, 'out2': 0.0, 'out3': 0.0, 'out0': 0.0, 'out1': 0.878}, 2: {'out0': 0.001, 'out2': 1.0, 'out3': 0.501, 'out4': 0.879}, 3: {'out3': 0.998, 'out4': 0.629}}\n"
     ]
    }
   ],
   "source": [
    "\n",
    "# ## hexadecimal generator\n",
    "\n",
    "nr_of_input = 3\n",
    "nr_of_actions = 5\n",
    "nr_of_inner = 3\n",
    "nr_of_genes = 16\n",
    "nr_individuals = 4\n",
    "\n",
    "individuals = generate_initial_genomes_for_population(nr_individuals, nr_of_genes, nr_of_input, nr_of_actions, nr_of_inner)\n",
    "\n",
    "## world size\n",
    "world_size_x = 128\n",
    "world_size_y = 128\n",
    "\n",
    "rng = default_rng()\n",
    "x = rng.choice(world_size_x, size=nr_individuals, replace=False)\n",
    "y = rng.choice(world_size_y, size=nr_individuals, replace=False)\n",
    "\n",
    "# ## initial brain and position generator\n",
    "\n",
    "result = calculate_individual_output_weights(individuals)\n",
    "print(result)\n",
    "\n"
   ]
  },
  {
   "cell_type": "code",
   "execution_count": 17,
   "id": "ffda091e",
   "metadata": {
    "ExecuteTime": {
     "end_time": "2022-06-12T12:32:55.719378Z",
     "start_time": "2022-06-12T12:32:55.706519Z"
    }
   },
   "outputs": [],
   "source": [
    "for indiv in result:\n",
    "    result[indiv]['position'] = [(x[indiv], y[indiv])]"
   ]
  },
  {
   "cell_type": "code",
   "execution_count": 18,
   "id": "3d57183e",
   "metadata": {
    "ExecuteTime": {
     "end_time": "2022-06-12T12:32:55.743311Z",
     "start_time": "2022-06-12T12:32:55.724070Z"
    }
   },
   "outputs": [
    {
     "data": {
      "text/plain": [
       "{0: {'out4': 0.749,\n",
       "  'out2': 0.999,\n",
       "  'out3': 0.995,\n",
       "  'out0': 0.999,\n",
       "  'position': [(109, 75)]},\n",
       " 1: {'out4': 0.883,\n",
       "  'out2': 0.0,\n",
       "  'out3': 0.0,\n",
       "  'out0': 0.0,\n",
       "  'out1': 0.878,\n",
       "  'position': [(57, 99)]},\n",
       " 2: {'out0': 0.001,\n",
       "  'out2': 1.0,\n",
       "  'out3': 0.501,\n",
       "  'out4': 0.879,\n",
       "  'position': [(6, 0)]},\n",
       " 3: {'out3': 0.998, 'out4': 0.629, 'position': [(39, 60)]}}"
      ]
     },
     "execution_count": 18,
     "metadata": {},
     "output_type": "execute_result"
    }
   ],
   "source": [
    "result"
   ]
  },
  {
   "cell_type": "code",
   "execution_count": 19,
   "id": "403ca4e5",
   "metadata": {
    "ExecuteTime": {
     "end_time": "2022-06-12T12:32:55.785369Z",
     "start_time": "2022-06-12T12:32:55.749539Z"
    }
   },
   "outputs": [
    {
     "data": {
      "text/plain": [
       "{0: {'out4': 0.749,\n",
       "  'out2': 0.999,\n",
       "  'out3': 0.995,\n",
       "  'out0': 0.999,\n",
       "  'position': [(109, 75), (-1, 0)]},\n",
       " 1: {'out4': 0.883,\n",
       "  'out2': 0.0,\n",
       "  'out3': 0.0,\n",
       "  'out0': 0.0,\n",
       "  'out1': 0.878,\n",
       "  'position': [(57, 99), (-1, -2)]},\n",
       " 2: {'out0': 0.001,\n",
       "  'out2': 1.0,\n",
       "  'out3': 0.501,\n",
       "  'out4': 0.879,\n",
       "  'position': [(6, 0), (0, -1)]},\n",
       " 3: {'out3': 0.998, 'out4': 0.629, 'position': [(39, 60), (-1, -1)]}}"
      ]
     },
     "execution_count": 19,
     "metadata": {},
     "output_type": "execute_result"
    }
   ],
   "source": [
    "for indiv in result:\n",
    "    x = result[indiv]['position'][-1][0]\n",
    "    y = result[indiv]['position'][-1][1]\n",
    "    position_list = []\n",
    "    for out in result[indiv]:\n",
    "        if 'out' in out:\n",
    "            new_pos = move(x, y, out, result[indiv][out])\n",
    "            position_list.append(new_pos)\n",
    "    position_list = tuple(map(sum, zip(*position_list)))\n",
    "    result[indiv]['position'].append(position_list)\n",
    "            \n",
    "result"
   ]
  },
  {
   "cell_type": "code",
   "execution_count": 20,
   "id": "336fa367",
   "metadata": {
    "ExecuteTime": {
     "end_time": "2022-06-12T12:32:55.800703Z",
     "start_time": "2022-06-12T12:32:55.788826Z"
    }
   },
   "outputs": [
    {
     "data": {
      "text/plain": [
       "(0, -1)"
      ]
     },
     "execution_count": 20,
     "metadata": {},
     "output_type": "execute_result"
    }
   ],
   "source": [
    "new_pos"
   ]
  },
  {
   "cell_type": "code",
   "execution_count": 21,
   "id": "537d2a71",
   "metadata": {
    "ExecuteTime": {
     "end_time": "2022-06-12T12:32:55.823004Z",
     "start_time": "2022-06-12T12:32:55.806912Z"
    }
   },
   "outputs": [],
   "source": [
    "Lista1 = [(1, 0), (0, 0), (-1, -1)]"
   ]
  },
  {
   "cell_type": "code",
   "execution_count": 22,
   "id": "eedf3b1e",
   "metadata": {
    "ExecuteTime": {
     "end_time": "2022-06-12T12:32:55.843166Z",
     "start_time": "2022-06-12T12:32:55.828907Z"
    }
   },
   "outputs": [
    {
     "data": {
      "text/plain": [
       "[0, -1]"
      ]
     },
     "execution_count": 22,
     "metadata": {},
     "output_type": "execute_result"
    }
   ],
   "source": [
    "list(map(sum, zip(*Lista1)))"
   ]
  },
  {
   "cell_type": "code",
   "execution_count": 23,
   "id": "f22c7dd7",
   "metadata": {
    "ExecuteTime": {
     "end_time": "2022-06-12T12:32:55.882163Z",
     "start_time": "2022-06-12T12:32:55.847346Z"
    }
   },
   "outputs": [
    {
     "data": {
      "text/plain": [
       "4"
      ]
     },
     "execution_count": 23,
     "metadata": {},
     "output_type": "execute_result"
    }
   ],
   "source": [
    "a = [(3, 0),(4,1),(5,2)]\n",
    "\n",
    "def slope_intercept(x1,y1,x2,y2):\n",
    "    a = (y2 - y1) / (x2 - x1)\n",
    "    b = y1 - a * x1     \n",
    "    return a,b\n",
    "\n",
    "# print(slope_intercept(3,0,2,1))\n",
    "\n",
    "if a[-2][0] == a[-1][0]:\n",
    "    x = a[-1][0]\n",
    "elif a[-2][0] > a[-1][0]:\n",
    "    x = a[-2][0] + 1\n",
    "elif a[-2][0] < a[-1][0]:\n",
    "    x = a[-2][0] - 1\n",
    "# print(x)\n",
    "\n",
    "a[-2][0]\n",
    "\n"
   ]
  }
 ],
 "metadata": {
  "kernelspec": {
   "display_name": "Python 3 (ipykernel)",
   "language": "python",
   "name": "python3"
  },
  "language_info": {
   "codemirror_mode": {
    "name": "ipython",
    "version": 3
   },
   "file_extension": ".py",
   "mimetype": "text/x-python",
   "name": "python",
   "nbconvert_exporter": "python",
   "pygments_lexer": "ipython3",
   "version": "3.9.12"
  }
 },
 "nbformat": 4,
 "nbformat_minor": 5
}
