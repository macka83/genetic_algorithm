{
 "cells": [
  {
   "cell_type": "code",
   "execution_count": 49,
   "id": "07647a75",
   "metadata": {
    "ExecuteTime": {
     "end_time": "2022-06-13T20:45:38.209451Z",
     "start_time": "2022-06-13T20:45:38.195304Z"
    }
   },
   "outputs": [],
   "source": [
    "from genetic_algorithm import *\n",
    "from numpy.random import default_rng"
   ]
  },
  {
   "cell_type": "code",
   "execution_count": 50,
   "id": "89c5b605",
   "metadata": {
    "ExecuteTime": {
     "end_time": "2022-06-13T20:45:38.614191Z",
     "start_time": "2022-06-13T20:45:38.598192Z"
    }
   },
   "outputs": [
    {
     "name": "stdout",
     "output_type": "stream",
     "text": [
      "{0: {'out4': 0.998, 'out3': 0.002, 'out1': 0.462, 'out0': 1.0}, 1: {'out0': 0.507, 'out1': 0.004, 'out4': 0.997, 'out2': 0.693}, 2: {'out0': 1.0, 'out3': 0.015, 'out4': 0.107, 'out1': 0.898}, 3: {'out4': 0.004, 'out1': 1.0, 'out0': 0.006, 'out2': 0.999}}\n"
     ]
    }
   ],
   "source": [
    "\n",
    "# ## hexadecimal generator\n",
    "\n",
    "nr_of_input = 3\n",
    "nr_of_actions = 5\n",
    "nr_of_inner = 3\n",
    "nr_of_genes = 16\n",
    "nr_individuals = 4\n",
    "\n",
    "individuals = generate_initial_genomes_for_population(nr_individuals, nr_of_genes, nr_of_input, nr_of_actions, nr_of_inner)\n",
    "\n",
    "## world size\n",
    "world_size_x = 20\n",
    "world_size_y = 20\n",
    "\n",
    "rng = default_rng()\n",
    "x = rng.choice(world_size_x, size=nr_individuals, replace=False)\n",
    "y = rng.choice(world_size_y, size=nr_individuals, replace=False)\n",
    "\n",
    "# ## initial brain and position generator\n",
    "\n",
    "result = calculate_individual_output_weights(individuals)\n",
    "print(result)\n",
    "\n"
   ]
  },
  {
   "cell_type": "code",
   "execution_count": 51,
   "id": "34bfa09f",
   "metadata": {
    "ExecuteTime": {
     "end_time": "2022-06-13T20:45:39.048196Z",
     "start_time": "2022-06-13T20:45:39.025229Z"
    }
   },
   "outputs": [],
   "source": [
    "for indiv in result:\n",
    "    result[indiv]['position'] = [(x[indiv], y[indiv])]"
   ]
  },
  {
   "cell_type": "code",
   "execution_count": 52,
   "id": "ef6175cc",
   "metadata": {
    "ExecuteTime": {
     "end_time": "2022-06-13T20:45:39.467840Z",
     "start_time": "2022-06-13T20:45:39.452249Z"
    }
   },
   "outputs": [
    {
     "data": {
      "text/plain": [
       "{0: {'out4': 0.998,\n",
       "  'out3': 0.002,\n",
       "  'out1': 0.462,\n",
       "  'out0': 1.0,\n",
       "  'position': [(19, 7)]},\n",
       " 1: {'out0': 0.507,\n",
       "  'out1': 0.004,\n",
       "  'out4': 0.997,\n",
       "  'out2': 0.693,\n",
       "  'position': [(7, 6)]},\n",
       " 2: {'out0': 1.0,\n",
       "  'out3': 0.015,\n",
       "  'out4': 0.107,\n",
       "  'out1': 0.898,\n",
       "  'position': [(14, 14)]},\n",
       " 3: {'out4': 0.004,\n",
       "  'out1': 1.0,\n",
       "  'out0': 0.006,\n",
       "  'out2': 0.999,\n",
       "  'position': [(1, 16)]}}"
      ]
     },
     "execution_count": 52,
     "metadata": {},
     "output_type": "execute_result"
    }
   ],
   "source": [
    "result"
   ]
  },
  {
   "cell_type": "code",
   "execution_count": 53,
   "id": "40079ed6",
   "metadata": {
    "ExecuteTime": {
     "end_time": "2022-06-13T20:45:40.140806Z",
     "start_time": "2022-06-13T20:45:40.061677Z"
    },
    "scrolled": true
   },
   "outputs": [
    {
     "data": {
      "text/plain": [
       "{0: {'out4': 0.998,\n",
       "  'out3': 0.002,\n",
       "  'out1': 0.462,\n",
       "  'out0': 1.0,\n",
       "  'position': [(19, 7),\n",
       "   [18, 6],\n",
       "   [17, 6],\n",
       "   [16, 5],\n",
       "   [15, 5],\n",
       "   [14, 5],\n",
       "   [13, 5],\n",
       "   [12, 5],\n",
       "   [11, 4],\n",
       "   [10, 3],\n",
       "   [9, 2],\n",
       "   [8, 1],\n",
       "   [7, 0],\n",
       "   [6, 0],\n",
       "   [5, 0],\n",
       "   [4, 0]]},\n",
       " 1: {'out0': 0.507,\n",
       "  'out1': 0.004,\n",
       "  'out4': 0.997,\n",
       "  'out2': 0.693,\n",
       "  'position': [(7, 6),\n",
       "   [7, 5],\n",
       "   [6, 4],\n",
       "   [6, 3],\n",
       "   [6, 2],\n",
       "   [5, 1],\n",
       "   [5, 0],\n",
       "   [4, 0],\n",
       "   [3, 0],\n",
       "   [3, 0],\n",
       "   [3, 0],\n",
       "   [3, 0],\n",
       "   [3, 0],\n",
       "   [3, 0],\n",
       "   [3, 0],\n",
       "   [3, 0]]},\n",
       " 2: {'out0': 1.0,\n",
       "  'out3': 0.015,\n",
       "  'out4': 0.107,\n",
       "  'out1': 0.898,\n",
       "  'position': [(14, 14),\n",
       "   [14, 14],\n",
       "   [14, 14],\n",
       "   [14, 14],\n",
       "   [14, 14],\n",
       "   [14, 14],\n",
       "   [13, 14],\n",
       "   [13, 14],\n",
       "   [13, 14],\n",
       "   [13, 14],\n",
       "   [13, 14],\n",
       "   [13, 14],\n",
       "   [13, 14],\n",
       "   [13, 14],\n",
       "   [12, 14],\n",
       "   [11, 13]]},\n",
       " 3: {'out4': 0.004,\n",
       "  'out1': 1.0,\n",
       "  'out0': 0.006,\n",
       "  'out2': 0.999,\n",
       "  'position': [(1, 16),\n",
       "   [2, 15],\n",
       "   [3, 14],\n",
       "   [4, 13],\n",
       "   [5, 12],\n",
       "   [6, 11],\n",
       "   [7, 10],\n",
       "   [8, 9],\n",
       "   [9, 8],\n",
       "   [10, 7],\n",
       "   [11, 6],\n",
       "   [12, 5],\n",
       "   [13, 4],\n",
       "   [14, 3],\n",
       "   [15, 2],\n",
       "   [16, 1]]}}"
      ]
     },
     "execution_count": 53,
     "metadata": {},
     "output_type": "execute_result"
    }
   ],
   "source": [
    "k = 15\n",
    "n = 0\n",
    "while k>n:  \n",
    "    for indiv in result:\n",
    "        x = result[indiv]['position'][-1][0]\n",
    "        y = result[indiv]['position'][-1][1]\n",
    "        position_list = []\n",
    "        for out in result[indiv]:\n",
    "            if 'out' in out:\n",
    "                new_pos = move(x, y, out, result[indiv][out])\n",
    "                position_list.append(new_pos)\n",
    "                \n",
    "        \n",
    "        position_list = list(map(sum, zip(*[[x, y]] + position_list)))\n",
    "\n",
    "        position_list[0] = normalize_position_if_outside_world(position_list[0], world_size_x)\n",
    "        position_list[1] = normalize_position_if_outside_world(position_list[1], world_size_y)\n",
    "        \n",
    "        \n",
    "        result[indiv]['position'].append(position_list)\n",
    "    n += 1\n",
    "            \n",
    "result"
   ]
  },
  {
   "cell_type": "code",
   "execution_count": 47,
   "id": "dba8d445",
   "metadata": {
    "ExecuteTime": {
     "end_time": "2022-06-13T20:44:05.424121Z",
     "start_time": "2022-06-13T20:44:05.402208Z"
    }
   },
   "outputs": [
    {
     "data": {
      "text/plain": [
       "[-1, 0]"
      ]
     },
     "execution_count": 47,
     "metadata": {},
     "output_type": "execute_result"
    }
   ],
   "source": [
    "def make_smaller_(l):\n",
    "    if max(l) == 2:\n",
    "        l[l.index(2)] = 1\n",
    "    elif min(l) == -2:\n",
    "        l[l.index(-2)] = -1\n"
   ]
  },
  {
   "cell_type": "code",
   "execution_count": 45,
   "id": "4a4bc296",
   "metadata": {
    "ExecuteTime": {
     "end_time": "2022-06-13T20:43:03.519387Z",
     "start_time": "2022-06-13T20:43:03.503755Z"
    }
   },
   "outputs": [
    {
     "data": {
      "text/plain": [
       "[-1, 0]"
      ]
     },
     "execution_count": 45,
     "metadata": {},
     "output_type": "execute_result"
    }
   ],
   "source": [
    "l = [-2, 0]\n",
    "l[l.index(-2)] = -1\n",
    "l"
   ]
  },
  {
   "cell_type": "code",
   "execution_count": null,
   "id": "c6ec3e8a",
   "metadata": {},
   "outputs": [],
   "source": []
  },
  {
   "cell_type": "code",
   "execution_count": null,
   "id": "44a7d51e",
   "metadata": {
    "ExecuteTime": {
     "end_time": "2022-06-13T16:47:26.767364Z",
     "start_time": "2022-06-13T16:47:26.767364Z"
    }
   },
   "outputs": [],
   "source": [
    "a = [(3, 0),(4,1),(5,2)]\n",
    "\n",
    "def slope_intercept(x1,y1,x2,y2):\n",
    "    a = (y2 - y1) / (x2 - x1)\n",
    "    b = y1 - a * x1     \n",
    "    return a,b\n",
    "\n",
    "# print(slope_intercept(3,0,2,1))\n",
    "\n",
    "if a[-2][0] == a[-1][0]:\n",
    "    x = a[-1][0]\n",
    "elif a[-2][0] > a[-1][0]:\n",
    "    x = a[-2][0] + 1\n",
    "elif a[-2][0] < a[-1][0]:\n",
    "    x = a[-2][0] - 1\n",
    "# print(x)\n",
    "\n",
    "a[-2][0]\n",
    "\n"
   ]
  },
  {
   "cell_type": "code",
   "execution_count": null,
   "id": "1578e882",
   "metadata": {},
   "outputs": [],
   "source": []
  }
 ],
 "metadata": {
  "kernelspec": {
   "display_name": "Python 3 (ipykernel)",
   "language": "python",
   "name": "python3"
  },
  "language_info": {
   "codemirror_mode": {
    "name": "ipython",
    "version": 3
   },
   "file_extension": ".py",
   "mimetype": "text/x-python",
   "name": "python",
   "nbconvert_exporter": "python",
   "pygments_lexer": "ipython3",
   "version": "3.9.12"
  }
 },
 "nbformat": 4,
 "nbformat_minor": 5
}
