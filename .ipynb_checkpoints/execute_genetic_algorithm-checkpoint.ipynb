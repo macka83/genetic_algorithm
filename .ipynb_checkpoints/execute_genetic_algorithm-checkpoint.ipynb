{
 "cells": [
  {
   "cell_type": "code",
   "execution_count": 2,
   "id": "64e1e30b",
   "metadata": {},
   "outputs": [],
   "source": [
    "from genetic_algorithm import *\n",
    "import re\n",
    "import json"
   ]
  },
  {
   "cell_type": "markdown",
   "id": "a4aa7361",
   "metadata": {},
   "source": [
    "## hexadecimal generator"
   ]
  },
  {
   "cell_type": "code",
   "execution_count": 3,
   "id": "e85a93ac",
   "metadata": {},
   "outputs": [],
   "source": [
    "nr_of_input = 3\n",
    "nr_of_actions = 3\n",
    "nr_of_inner = 2\n",
    "nr_of_genes = 16\n",
    "nr_individuals = 4\n",
    "\n",
    "res = generate_initial_genomes_for_population(nr_individuals, nr_of_genes, nr_of_input, nr_of_actions, nr_of_inner)"
   ]
  },
  {
   "cell_type": "markdown",
   "id": "991e86ea",
   "metadata": {},
   "source": [
    "## Sumuj duble"
   ]
  },
  {
   "cell_type": "code",
   "execution_count": 3,
   "id": "0ac99015",
   "metadata": {},
   "outputs": [],
   "source": [
    "dic = {}\n",
    "for nr in res:\n",
    "    dic[nr] = {}\n",
    "    for i in res[nr]:\n",
    "        total = dic.get(i.differ_neuron, 0) + i.weight\n",
    "        n_output = f'{i.output_id}{i.output_type}'\n",
    "        n_input = f'{i.input_id}{i.input_type}'\n",
    "        dic[nr][i.differ_neuron] = [n_input, n_output, total]"
   ]
  },
  {
   "cell_type": "markdown",
   "id": "69161a40",
   "metadata": {},
   "source": [
    "## brain generator"
   ]
  },
  {
   "cell_type": "code",
   "execution_count": 5,
   "id": "6625f189",
   "metadata": {},
   "outputs": [],
   "source": [
    "edges = dic[1]\n",
    "\n",
    "brain = {}\n",
    "for i in edges:\n",
    "    if 'out' in edges[i][1]:\n",
    "        brain.update({edges[i][1]:{}})"
   ]
  },
  {
   "cell_type": "code",
   "execution_count": 7,
   "id": "acfc2e31",
   "metadata": {},
   "outputs": [
    {
     "data": {
      "text/plain": [
       "{'1out': {'0mid': {'w': 0.04968716618342744,\n",
       "   '2in': {'w': -3.583580039676484},\n",
       "   '1in': {'w': 3.924797802533191},\n",
       "   '0mid': {'w': 2.8447428658629637}},\n",
       "  '1mid': {'w': -3.501052952846025,\n",
       "   '0mid': {'w': -0.28799023348084846,\n",
       "    '2in': {'w': -3.583580039676484},\n",
       "    '1in': {'w': 3.924797802533191},\n",
       "    '0mid': {'w': 2.8447428658629637}},\n",
       "   '1mid': {'w': -2.3339539142377537}}},\n",
       " '2out': {'0in': {'w': -0.21877002899435374},\n",
       "  '1in': {'w': -3.478345795818709}},\n",
       " '0out': {'1in': {'w': 0.22243247367617885}}}"
      ]
     },
     "execution_count": 7,
     "metadata": {},
     "output_type": "execute_result"
    }
   ],
   "source": [
    "def mid_neuron(brain, edges):\n",
    "    for key in brain:\n",
    "        for pair in edges:\n",
    "            item = edges[pair]\n",
    "            if key == item[1] and 'mid' in item[0] and key != item[0]:\n",
    "                brain[key].update({item[0]: {'w':item[2]}})\n",
    "                mid_neuron(brain[key], edges)\n",
    "#                 print(key,item[0],item[2])\n",
    "            elif key == item[1] and 'mid' in item[0] and key == item[0]:\n",
    "                brain[key].update({item[0]:{'w':item[2]}})\n",
    "#                 print(key,item[0],item[2])\n",
    "            elif key == item[1] and 'mid' not in item[0]:\n",
    "                brain[key].update({item[0]:{'w':item[2]}})\n",
    "#                 print(key,item[0],item[2])\n",
    "                \n",
    "mid_neuron(brain, edges)\n",
    "brain"
   ]
  },
  {
   "cell_type": "code",
   "execution_count": 9,
   "id": "2c3e5a25",
   "metadata": {
    "scrolled": true
   },
   "outputs": [
    {
     "name": "stdout",
     "output_type": "stream",
     "text": [
      "if 1out {'0mid': {'w': 0.04968716618342744, '2in': {'w': -3.583580039676484}, '1in': {'w': 3.924797802533191}, '0mid': {'w': 2.8447428658629637}}, '1mid': {'w': -3.501052952846025, '0mid': {'w': -0.28799023348084846, '2in': {'w': -3.583580039676484}, '1in': {'w': 3.924797802533191}, '0mid': {'w': 2.8447428658629637}}, '1mid': {'w': -2.3339539142377537}}}\n",
      "if 2out {'0in': {'w': -0.21877002899435374}, '1in': {'w': -3.478345795818709}}\n",
      "else 0out {'1in': {'w': 0.22243247367617885}}\n"
     ]
    }
   ],
   "source": [
    "def analyze_brain(brain):\n",
    "    for k, v in brain.items():\n",
    "        if isinstance(v, dict) and len(v) >= 2:\n",
    "            print('if', k, v)\n",
    "#             analyze_brain(brain)\n",
    "        else:\n",
    "            print('else', k, v)\n",
    "            \n",
    "analyze_brain(brain)"
   ]
  },
  {
   "cell_type": "markdown",
   "id": "c0bf6b4b",
   "metadata": {},
   "source": [
    "get dictionary depth  \n",
    "https://stackoverflow.com/questions/23499017/know-the-depth-of-a-dictionary\n",
    "https://www.tutorialspoint.com/find-depth-of-a-dictionary-in-python"
   ]
  },
  {
   "cell_type": "markdown",
   "id": "ec147961",
   "metadata": {},
   "source": [
    "https://stackoverflow.com/questions/47265412/custom-connections-between-layers-keras"
   ]
  }
 ],
 "metadata": {
  "kernelspec": {
   "display_name": "Python 3 (ipykernel)",
   "language": "python",
   "name": "python3"
  },
  "language_info": {
   "codemirror_mode": {
    "name": "ipython",
    "version": 3
   },
   "file_extension": ".py",
   "mimetype": "text/x-python",
   "name": "python",
   "nbconvert_exporter": "python",
   "pygments_lexer": "ipython3",
   "version": "3.9.12"
  }
 },
 "nbformat": 4,
 "nbformat_minor": 5
}
