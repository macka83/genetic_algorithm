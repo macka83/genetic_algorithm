{
 "cells": [
  {
   "cell_type": "code",
   "execution_count": 1,
   "id": "64e1e30b",
   "metadata": {
    "ExecuteTime": {
     "end_time": "2022-06-09T20:20:22.206408Z",
     "start_time": "2022-06-09T20:20:21.224892Z"
    }
   },
   "outputs": [],
   "source": [
    "from genetic_algorithm import *\n",
    "import re\n",
    "import json\n",
    "import numpy as np\n",
    "from numpy.random import default_rng\n",
    "from collections import Counter\n",
    "import copy\n",
    "import matplotlib.pyplot as plt\n",
    "from itertools import groupby"
   ]
  },
  {
   "cell_type": "markdown",
   "id": "a4aa7361",
   "metadata": {},
   "source": [
    "## hexadecimal generator"
   ]
  },
  {
   "cell_type": "code",
   "execution_count": 2,
   "id": "e85a93ac",
   "metadata": {
    "ExecuteTime": {
     "end_time": "2022-06-09T20:20:22.221924Z",
     "start_time": "2022-06-09T20:20:22.208406Z"
    }
   },
   "outputs": [],
   "source": [
    "nr_of_input = 3\n",
    "nr_of_actions = 3\n",
    "nr_of_inner = 3\n",
    "nr_of_genes = 16\n",
    "nr_individuals = 20\n",
    "\n",
    "individuals = generate_initial_genomes_for_population(nr_individuals, nr_of_genes, nr_of_input, nr_of_actions, nr_of_inner)"
   ]
  },
  {
   "cell_type": "code",
   "execution_count": 3,
   "id": "153d2d10",
   "metadata": {
    "ExecuteTime": {
     "end_time": "2022-06-09T20:20:22.253527Z",
     "start_time": "2022-06-09T20:20:22.223473Z"
    }
   },
   "outputs": [],
   "source": [
    "## world size\n",
    "world_size_x = 128\n",
    "world_size_y = 128\n",
    "\n",
    "rng = default_rng()\n",
    "x = rng.choice(world_size_x, size=nr_individuals, replace=False)\n",
    "y = rng.choice(world_size_y, size=nr_individuals, replace=False)\n"
   ]
  },
  {
   "cell_type": "markdown",
   "id": "97385a42",
   "metadata": {},
   "source": [
    "## initial brain and position generator"
   ]
  },
  {
   "cell_type": "code",
   "execution_count": 10,
   "id": "b0d09d3b",
   "metadata": {
    "ExecuteTime": {
     "end_time": "2022-06-09T20:22:02.417526Z",
     "start_time": "2022-06-09T20:22:02.386243Z"
    }
   },
   "outputs": [
    {
     "data": {
      "text/plain": [
       "{0: {'out1': -0.9990655035115049},\n",
       " 1: {'out2': 0.999994872215,\n",
       "  'out0': 0.9990235376314807,\n",
       "  'out1': 0.8552315420448342},\n",
       " 2: {'out1': 0.9998854393183795,\n",
       "  'out2': 0.9952371033095788,\n",
       "  'out0': 0.654472944573609},\n",
       " 3: {'out0': -0.9990035571925671,\n",
       "  'out2': -0.9984258603742214,\n",
       "  'out1': -0.9314531662102123},\n",
       " 4: {'out2': -0.9406249652775878,\n",
       "  'out0': -0.9980833536336798,\n",
       "  'out1': 0.7513628360603709},\n",
       " 5: {'out0': -0.9990779631979998, 'out1': -0.9987199091895224},\n",
       " 6: {'out1': 0.9999981293568201,\n",
       "  'out0': -0.9480650255759827,\n",
       "  'out2': 0.9967086534437872},\n",
       " 7: {'out2': -0.9999999505896017, 'out1': -0.9990461486158893},\n",
       " 8: {'out0': -0.9999739553565754,\n",
       "  'out2': -0.9990103428444086,\n",
       "  'out1': 0.7537857929190052},\n",
       " 9: {'out1': -0.9999965959388473, 'out2': 0.4034589449279828},\n",
       " 10: {'out2': 0.5586834125683285, 'out0': 0.9999999628403794},\n",
       " 11: {'out2': 0.7524551018322977,\n",
       "  'out1': 0.9810869524574521,\n",
       "  'out0': 0.9924381360124689},\n",
       " 12: {'out0': 0.9999999810820336, 'out2': 0.3217954853551093},\n",
       " 13: {'out0': 0.9970176518773989,\n",
       "  'out1': 0.9994261196273934,\n",
       "  'out2': 0.09783952009261218},\n",
       " 14: {'out0': -0.9965352876569022, 'out2': -0.9993274965624732},\n",
       " 15: {'out1': -0.6561841739828526,\n",
       "  'out0': 0.9999976694864591,\n",
       "  'out2': -0.6789168965812158},\n",
       " 16: {'out0': -0.9999892177304983,\n",
       "  'out2': 0.9998951042866406,\n",
       "  'out1': 0.009277926965775868},\n",
       " 17: {'out0': -0.9349477362098176,\n",
       "  'out2': 0.999972997005641,\n",
       "  'out1': -0.9983881641651349},\n",
       " 18: {'out1': 0.9893574143815522,\n",
       "  'out2': 0.761222189892816,\n",
       "  'out0': -0.37056140366236234},\n",
       " 19: {'out2': 0.9867270427252707,\n",
       "  'out1': -0.7624516102080307,\n",
       "  'out0': -0.8397992962917086}}"
      ]
     },
     "execution_count": 10,
     "metadata": {},
     "output_type": "execute_result"
    }
   ],
   "source": [
    "calculate_individual_output_weights(individuals)"
   ]
  },
  {
   "cell_type": "code",
   "execution_count": 5,
   "id": "675d302d",
   "metadata": {
    "ExecuteTime": {
     "end_time": "2022-06-09T20:20:22.285527Z",
     "start_time": "2022-06-09T20:20:22.270523Z"
    }
   },
   "outputs": [],
   "source": [
    "a = [(3, 0),(4,1),(5,2)]"
   ]
  },
  {
   "cell_type": "code",
   "execution_count": 6,
   "id": "fb0ff57e",
   "metadata": {
    "ExecuteTime": {
     "end_time": "2022-06-09T20:20:22.301527Z",
     "start_time": "2022-06-09T20:20:22.287528Z"
    }
   },
   "outputs": [
    {
     "name": "stdout",
     "output_type": "stream",
     "text": [
      "(-1.0, 3.0)\n"
     ]
    }
   ],
   "source": [
    "def slope_intercept(x1,y1,x2,y2):\n",
    "    a = (y2 - y1) / (x2 - x1)\n",
    "    b = y1 - a * x1     \n",
    "    return a,b\n",
    "\n",
    "print(slope_intercept(3,0,2,1))"
   ]
  },
  {
   "cell_type": "code",
   "execution_count": 7,
   "id": "8ca05899",
   "metadata": {
    "ExecuteTime": {
     "end_time": "2022-06-09T20:20:22.317524Z",
     "start_time": "2022-06-09T20:20:22.302524Z"
    }
   },
   "outputs": [
    {
     "data": {
      "text/plain": [
       "[(3, 0), (4, 1), (5, 2)]"
      ]
     },
     "execution_count": 7,
     "metadata": {},
     "output_type": "execute_result"
    }
   ],
   "source": [
    "a"
   ]
  },
  {
   "cell_type": "code",
   "execution_count": 8,
   "id": "c09bb447",
   "metadata": {
    "ExecuteTime": {
     "end_time": "2022-06-09T20:20:22.333522Z",
     "start_time": "2022-06-09T20:20:22.318524Z"
    }
   },
   "outputs": [
    {
     "name": "stdout",
     "output_type": "stream",
     "text": [
      "3\n"
     ]
    }
   ],
   "source": [
    "if a[-2][0] == a[-1][0]:\n",
    "    x = a[-1][0]\n",
    "elif a[-2][0] > a[-1][0]:\n",
    "    x = a[-2][0] + 1\n",
    "elif a[-2][0] < a[-1][0]:\n",
    "    x = a[-2][0] - 1\n",
    "print(x)"
   ]
  },
  {
   "cell_type": "code",
   "execution_count": 9,
   "id": "91e7bb9d",
   "metadata": {
    "ExecuteTime": {
     "end_time": "2022-06-09T20:20:22.349522Z",
     "start_time": "2022-06-09T20:20:22.334524Z"
    }
   },
   "outputs": [
    {
     "data": {
      "text/plain": [
       "4"
      ]
     },
     "execution_count": 9,
     "metadata": {},
     "output_type": "execute_result"
    }
   ],
   "source": [
    "a[-2][0]"
   ]
  },
  {
   "cell_type": "code",
   "execution_count": null,
   "id": "89c5b605",
   "metadata": {},
   "outputs": [],
   "source": []
  }
 ],
 "metadata": {
  "kernelspec": {
   "display_name": "Python 3 (ipykernel)",
   "language": "python",
   "name": "python3"
  },
  "language_info": {
   "codemirror_mode": {
    "name": "ipython",
    "version": 3
   },
   "file_extension": ".py",
   "mimetype": "text/x-python",
   "name": "python",
   "nbconvert_exporter": "python",
   "pygments_lexer": "ipython3",
   "version": "3.9.12"
  }
 },
 "nbformat": 4,
 "nbformat_minor": 5
}
