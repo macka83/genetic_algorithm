{
 "cells": [
  {
   "cell_type": "markdown",
   "id": "6499aef8",
   "metadata": {
    "ExecuteTime": {
     "end_time": "2022-06-28T19:40:02.442018Z",
     "start_time": "2022-06-28T19:40:00.122777Z"
    }
   },
   "source": [
    "!jt -t chesterish\n",
    "# !jt -r"
   ]
  },
  {
   "cell_type": "code",
   "execution_count": 7,
   "id": "07647a75",
   "metadata": {
    "ExecuteTime": {
     "end_time": "2022-06-28T19:46:59.994032Z",
     "start_time": "2022-06-28T19:46:59.988448Z"
    }
   },
   "outputs": [],
   "source": [
    "from genetic_algorithm import *\n",
    "from numpy.random import default_rng\n",
    "import matplotlib.pyplot as plt\n",
    "\n",
    "import copy"
   ]
  },
  {
   "cell_type": "code",
   "execution_count": 8,
   "id": "89c5b605",
   "metadata": {
    "ExecuteTime": {
     "end_time": "2022-06-28T19:47:00.632234Z",
     "start_time": "2022-06-28T19:47:00.601568Z"
    }
   },
   "outputs": [],
   "source": [
    "\n",
    "# ## hexadecimal generator\n",
    "\n",
    "nr_of_input = 2\n",
    "nr_of_actions = 5\n",
    "nr_of_inner = 3\n",
    "nr_of_genes = 16\n",
    "nr_individuals = 4\n",
    "\n",
    "individuals = generate_initial_genomes_for_population(nr_individuals, nr_of_genes, nr_of_input, nr_of_actions, nr_of_inner)\n",
    "\n",
    "## world size\n",
    "world_size_x = 20\n",
    "world_size_y = 20\n",
    "\n",
    "rng = default_rng()\n",
    "x = rng.choice(world_size_x, size=nr_individuals, replace=False)\n",
    "y = rng.choice(world_size_y, size=nr_individuals, replace=False)\n",
    "\n",
    "# ## initial brain and position generator\n",
    "\n",
    "result = calculate_individual_output_weights(individuals)\n",
    "\n",
    "for indiv in result:\n",
    "    result[indiv]['position'] = [[x[indiv], y[indiv]]]"
   ]
  },
  {
   "cell_type": "code",
   "execution_count": 4,
   "id": "55ddc844",
   "metadata": {
    "ExecuteTime": {
     "end_time": "2022-06-28T19:43:46.376235Z",
     "start_time": "2022-06-28T19:43:46.359249Z"
    }
   },
   "outputs": [],
   "source": [
    "def sum_duplicated_neurons(res):\n",
    "    '''sum duplicatd neurons and return bunch neurons dictionary'''\n",
    "    dic = {}\n",
    "    for nr in res:\n",
    "        dic[nr] = {}\n",
    "        for i in res[nr]:\n",
    "            total = dic.get(i.differ_neuron, 0) + i.weight\n",
    "#             print(dic.get(i.differ_neuron, 0), i.weight)\n",
    "            n_output = f'{i.output_type}{i.output_id}'\n",
    "            n_input = f'{i.input_type}{i.input_id}'\n",
    "            dic[nr][i.differ_neuron] = [n_input, n_output, total]\n",
    "    return dic\n",
    " "
   ]
  },
  {
   "cell_type": "code",
   "execution_count": 5,
   "id": "a9eb4c58",
   "metadata": {
    "ExecuteTime": {
     "end_time": "2022-06-28T19:43:47.347679Z",
     "start_time": "2022-06-28T19:43:46.382375Z"
    }
   },
   "outputs": [
    {
     "ename": "NameError",
     "evalue": "name 'res' is not defined",
     "output_type": "error",
     "traceback": [
      "\u001b[1;31m---------------------------------------------------------------------------\u001b[0m",
      "\u001b[1;31mNameError\u001b[0m                                 Traceback (most recent call last)",
      "Input \u001b[1;32mIn [5]\u001b[0m, in \u001b[0;36m<cell line: 1>\u001b[1;34m()\u001b[0m\n\u001b[1;32m----> 1\u001b[0m sum_duplicated_neurons(\u001b[43mres\u001b[49m)\n",
      "\u001b[1;31mNameError\u001b[0m: name 'res' is not defined"
     ]
    }
   ],
   "source": [
    "sum_duplicated_neurons(res)"
   ]
  },
  {
   "cell_type": "code",
   "execution_count": null,
   "id": "c33e99d9",
   "metadata": {
    "ExecuteTime": {
     "end_time": "2022-06-28T19:43:47.353763Z",
     "start_time": "2022-06-28T19:43:47.353343Z"
    }
   },
   "outputs": [],
   "source": [
    "# def sum_duplicated_neurons_with_input(res, input_list):\n",
    "#     '''input_list - list of neuron and its weight'''\n",
    "res = copy.copy(individuals)\n",
    "dic = {}\n",
    "for nr in res:\n",
    "#     print(nr)\n",
    "    dic[nr] = {}\n",
    "    for i in res[nr]:\n",
    "        n_output = f'{i.output_type}{i.output_id}'\n",
    "        n_input = f'{i.input_type}{i.input_id}'\n",
    "        dic[nr][i.differ_neuron] = [n_input, n_output, i.weight]\n",
    "#     return dic\n",
    "#     pass"
   ]
  },
  {
   "cell_type": "code",
   "execution_count": 13,
   "id": "40079ed6",
   "metadata": {
    "ExecuteTime": {
     "end_time": "2022-06-28T19:55:54.191637Z",
     "start_time": "2022-06-28T19:55:54.163719Z"
    },
    "scrolled": true
   },
   "outputs": [],
   "source": [
    "k = 5\n",
    "n = 0\n",
    "while k>n:  \n",
    "    for indiv in result:\n",
    "        x, y = result[indiv]['position'][-1][0], result[indiv]['position'][-1][1]\n",
    "\n",
    "        position_list = []\n",
    "        for out in result[indiv]['out']:\n",
    "            if 'out' in out:\n",
    "                new_pos = move(out, result[indiv]['out'][out])\n",
    "                position_list.append(new_pos)\n",
    "        \n",
    "        position_list = list(map(sum, zip(*position_list)))\n",
    "        position_list = make_smaller_(position_list)\n",
    "        position_list = list(map(sum, zip(*[[x, y]] + [position_list])))\n",
    "                            \n",
    "        position_list[0] = normalize_position_if_outside_world(position_list[0], world_size_x)\n",
    "        position_list[1] = normalize_position_if_outside_world(position_list[1], world_size_y)\n",
    "#         print('norm', position_list)\n",
    "        result[indiv]['position'].append(position_list)\n",
    "    \n",
    "    last_pos_list = [result[obj]['position'][-1] for obj in result]\n",
    "    \n",
    "    for obj in range(len(last_pos_list)):\n",
    "        for i_nr, i in enumerate(last_pos_list[obj+1:], start=obj+1):\n",
    "            if last_pos_list[obj] == i:\n",
    "                result[i_nr]['position'][-1] = result[i_nr]['position'][-2]     \n",
    "    n += 1\n",
    "#     print()        \n",
    "# result"
   ]
  },
  {
   "cell_type": "code",
   "execution_count": 14,
   "id": "ab60a44a",
   "metadata": {
    "ExecuteTime": {
     "end_time": "2022-06-28T19:55:55.525521Z",
     "start_time": "2022-06-28T19:55:55.488599Z"
    }
   },
   "outputs": [
    {
     "data": {
      "text/plain": [
       "{0: {'out': {'out0': 0.0, 'out3': 1.0, 'out1': 0.549, 'out2': 0.999},\n",
       "  'src': {'in1out0': ['in1', 'out0', -1.4237143293148176],\n",
       "   'mid2out3': ['mid2', 'out3', 3.5330383030672974],\n",
       "   'in1mid0': ['in1', 'mid0', -0.34195025179307187],\n",
       "   'in1mid2': ['in1', 'mid2', 2.5942316496261255],\n",
       "   'mid0mid0': ['mid0', 'mid0', -2.504990080878987],\n",
       "   'in1mid1': ['in1', 'mid1', -2.3594689455211353],\n",
       "   'in0out0': ['in0', 'out0', -3.637173813520525],\n",
       "   'mid2mid0': ['mid2', 'mid0', -1.8677247062414162],\n",
       "   'in0out3': ['in0', 'out3', 0.9329467419502518],\n",
       "   'mid2out1': ['mid2', 'out1', -2.1105447886464215],\n",
       "   'in0mid2': ['in0', 'mid2', 3.004059209522356],\n",
       "   'in0out2': ['in0', 'out2', 3.511918205402106]},\n",
       "  'position': [[14, 16], [14, 16], [14, 16], [14, 15], [14, 15], [14, 14]]},\n",
       " 1: {'out': {'out0': 0.003, 'out4': 0.995, 'out3': 1.0, 'out2': 0.062},\n",
       "  'src': {'in1out0': ['in1', 'out0', 0.1765298336639707],\n",
       "   'mid0mid0': ['mid0', 'mid0', -3.132733099343812],\n",
       "   'in1mid2': ['in1', 'mid2', 1.2261864794750497],\n",
       "   'mid0out4': ['mid0', 'out4', 1.697421028536548],\n",
       "   'mid1mid0': ['mid1', 'mid0', 0.9396612238669312],\n",
       "   'in1out3': ['in1', 'out3', 1.2545093850144973],\n",
       "   'in0mid1': ['in0', 'mid1', 2.9068823439645963],\n",
       "   'in1mid1': ['in1', 'mid1', 1.4847550740119029],\n",
       "   'mid0out2': ['mid0', 'out2', 3.7321532122691896],\n",
       "   'in0out3': ['in0', 'out3', 2.9249504043949335],\n",
       "   'mid0out0': ['mid0', 'out0', -3.1681367312681217],\n",
       "   'in0out2': ['in0', 'out2', -2.3526323821150616],\n",
       "   'mid2out4': ['mid2', 'out4', 0.5293453380131238],\n",
       "   'mid0out3': ['mid0', 'out3', 0.04224019533038303]},\n",
       "  'position': [[2, 13], [1, 12], [0, 11], [0, 10], [0, 9], [0, 8]]},\n",
       " 2: {'out': {'out2': 0.013,\n",
       "   'out4': 0.0,\n",
       "   'out3': 0.581,\n",
       "   'out1': 0.173,\n",
       "   'out0': 0.915},\n",
       "  'src': {'in1mid2': ['in1', 'mid2', 0.7555623378605218],\n",
       "   'in1out2': ['in1', 'out2', -3.0659545246452007],\n",
       "   'in0out4': ['in0', 'out4', -0.5772012818556387],\n",
       "   'mid1mid1': ['mid1', 'mid1', -3.2660460857622464],\n",
       "   'in0out3': ['in0', 'out3', 0.16383335876697697],\n",
       "   'in0mid0': ['in0', 'mid0', 3.784770334198077],\n",
       "   'in1out1': ['in1', 'out1', -0.7816877765908744],\n",
       "   'mid2mid0': ['mid2', 'mid0', -2.163161910575309],\n",
       "   'mid1mid2': ['mid1', 'mid2', 3.1366397070044254],\n",
       "   'mid2out2': ['mid2', 'out2', 0.8908286281092629],\n",
       "   'mid1out0': ['mid1', 'out0', 1.2608576224629942],\n",
       "   'mid2out0': ['mid2', 'out0', -0.8213642606439798],\n",
       "   'in1out4': ['in1', 'out4', -3.5965206775522662]},\n",
       "  'position': [[18, 8], [18, 8], [17, 9], [16, 10], [15, 10], [14, 10]]},\n",
       " 3: {'out': {'out4': 0.15,\n",
       "   'out3': 0.956,\n",
       "   'out1': 0.009,\n",
       "   'out0': 0.54,\n",
       "   'out2': 0.012},\n",
       "  'src': {'in1mid0': ['in1', 'mid0', -1.248649473523577],\n",
       "   'in0out4': ['in0', 'out4', -0.8662902487410347],\n",
       "   'in0out3': ['in0', 'out3', 3.451121623683809],\n",
       "   'in0mid2': ['in0', 'mid2', -1.421883106973905],\n",
       "   'mid1mid0': ['mid1', 'mid0', -0.1457652983366397],\n",
       "   'mid2mid1': ['mid2', 'mid1', -0.6303067297421029],\n",
       "   'mid2out1': ['mid2', 'out1', -3.791240653135968],\n",
       "   'in1out3': ['in1', 'out3', -1.9069128643369448],\n",
       "   'in1out0': ['in1', 'out0', -3.403998168777659],\n",
       "   'in0out0': ['in0', 'out0', 3.4848161147566],\n",
       "   'in1out1': ['in1', 'out1', -2.3622768197772013],\n",
       "   'mid0out0': ['mid0', 'out0', -3.2810621089577294],\n",
       "   'in0out2': ['in0', 'out2', -2.188921104837479]},\n",
       "  'position': [[9, 0], [8, 0], [7, 0], [6, 0], [5, 0], [4, 0]]}}"
      ]
     },
     "execution_count": 14,
     "metadata": {},
     "output_type": "execute_result"
    }
   ],
   "source": [
    "result"
   ]
  },
  {
   "cell_type": "code",
   "execution_count": null,
   "id": "44a7d51e",
   "metadata": {
    "ExecuteTime": {
     "end_time": "2022-06-28T19:43:47.379079Z",
     "start_time": "2022-06-28T19:43:47.379079Z"
    }
   },
   "outputs": [],
   "source": [
    "a = [(3, 0),(4,1),(5,2)]\n",
    "\n",
    "def slope_intercept(x1,y1,x2,y2):\n",
    "    a = (y2 - y1) / (x2 - x1)\n",
    "    b = y1 - a * x1     \n",
    "    return a,b\n",
    "\n",
    "# print(slope_intercept(3,0,2,1))\n",
    "\n",
    "if a[-2][0] == a[-1][0]:\n",
    "    x = a[-1][0]\n",
    "elif a[-2][0] > a[-1][0]:\n",
    "    x = a[-2][0] + 1\n",
    "elif a[-2][0] < a[-1][0]:\n",
    "    x = a[-2][0] - 1\n",
    "# print(x)\n",
    "\n",
    "a[-2][0]\n",
    "\n"
   ]
  },
  {
   "cell_type": "code",
   "execution_count": null,
   "id": "032bc083",
   "metadata": {},
   "outputs": [],
   "source": []
  }
 ],
 "metadata": {
  "kernelspec": {
   "display_name": "Python 3 (ipykernel)",
   "language": "python",
   "name": "python3"
  },
  "language_info": {
   "codemirror_mode": {
    "name": "ipython",
    "version": 3
   },
   "file_extension": ".py",
   "mimetype": "text/x-python",
   "name": "python",
   "nbconvert_exporter": "python",
   "pygments_lexer": "ipython3",
   "version": "3.9.12"
  }
 },
 "nbformat": 4,
 "nbformat_minor": 5
}
