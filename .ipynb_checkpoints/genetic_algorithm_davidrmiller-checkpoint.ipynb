{
 "cells": [
  {
   "cell_type": "markdown",
   "id": "d3baa2e9",
   "metadata": {},
   "source": [
    "https://github.com/davidrmiller/biosim4\n"
   ]
  },
  {
   "cell_type": "code",
   "execution_count": 79,
   "id": "e089dc6f",
   "metadata": {},
   "outputs": [],
   "source": [
    "from secrets import token_hex\n",
    "import secrets\n",
    "import random\n",
    "from collections import Counter\n",
    "from itertools import groupby\n",
    "\n",
    "import numpy as np\n",
    "import matplotlib.pyplot as plt"
   ]
  },
  {
   "cell_type": "markdown",
   "id": "46817ce8",
   "metadata": {},
   "source": [
    "### funkcje neuronów"
   ]
  },
  {
   "cell_type": "markdown",
   "id": "d2b1545b",
   "metadata": {},
   "source": [
    "input"
   ]
  },
  {
   "cell_type": "code",
   "execution_count": 2,
   "id": "9d1e9424",
   "metadata": {
    "code_folding": [
     1,
     4,
     11,
     15,
     22
    ]
   },
   "outputs": [],
   "source": [
    "# Bliska przeszkoda\n",
    "# 0in\n",
    "def close_obstacle(obj_loc_x, obj_loc_y, obj_list):\n",
    "    select_obst = 0\n",
    "    # iteruj po liście bez obiektu\n",
    "    for obj_nr in obj_list:\n",
    "        if obj_nr['coord'][0] - obj_loc_x == abs(1) and obj_nr['coord'][1] - obj_loc_y == abs(1):\n",
    "            select_obst += 1\n",
    "            \n",
    "    return select_obst/8\n",
    "       \n",
    "# Daleka przeszkoda gdy ruch po osi x\n",
    "# 1in\n",
    "def distant_obstacle_x_coord(obj_loc_x, obj_list):\n",
    "    select_obst = 0\n",
    "    # iteruj po liście bez obiektu\n",
    "    for obj_nr in obj_list:\n",
    "        if obj_nr['coord'][0] - obj_loc_x <= abs(5):\n",
    "            select_obst += 1\n",
    "            \n",
    "    return select_obst/121\n",
    "\n",
    "# Daleka przeszkoda gdy ruch po osi y\n",
    "# to samo j.w.\n",
    "# 2in\n",
    "def distant_obstacle_y_coord(obj_loc_y, obj_list):\n",
    "    select_obst = 0\n",
    "    # iteruj po liście bez obiektu\n",
    "    for obj_nr in obj_list:\n",
    "        if obj_nr['coord'][0] - obj_loc_y <= abs(5):\n",
    "            select_obst += 1\n",
    "            \n",
    "    return select_obst/121\n"
   ]
  },
  {
   "cell_type": "markdown",
   "id": "a067128c",
   "metadata": {},
   "source": [
    "output"
   ]
  },
  {
   "cell_type": "markdown",
   "id": "d33b1140",
   "metadata": {},
   "source": [
    "przykład jak zastosować neurony executeActions.cpp"
   ]
  },
  {
   "cell_type": "code",
   "execution_count": 3,
   "id": "596fa753",
   "metadata": {
    "code_folding": [
     0,
     7,
     14
    ]
   },
   "outputs": [],
   "source": [
    "def move_x(weight):\n",
    "    weight_abs = abs(weight)\n",
    "    x = np.random.choice(2, 1, p=[1-weight_abs, weight_abs])\n",
    "    if weight < 0:\n",
    "        x = x * -1\n",
    "    return x\n",
    "\n",
    "def move_y(weight):\n",
    "    weight_abs = abs(weight)\n",
    "    y = np.random.choice(2, 1, p=[1-weight_abs, weight_abs])\n",
    "    if weight < 0:\n",
    "        y = y * -1\n",
    "    return y\n",
    "\n",
    "def random_move():\n",
    "    x,y = np.round(np.random.uniform(low=-1, high=1.0, size=2))\n",
    "    return x,y\n",
    "    "
   ]
  },
  {
   "cell_type": "markdown",
   "id": "86d2e542",
   "metadata": {},
   "source": [
    "decode hexadecimal"
   ]
  },
  {
   "cell_type": "code",
   "execution_count": 4,
   "id": "14c578ca",
   "metadata": {
    "code_folding": [
     0,
     15,
     39,
     81
    ]
   },
   "outputs": [],
   "source": [
    "def split_genome(hexval):\n",
    "    binary = bin(int(hexval, 16))[2:]\n",
    "    if len(binary) < 32:\n",
    "        factor = 32 - len(binary)\n",
    "        binary = '0' * factor + binary\n",
    "  \n",
    "    source_type, source_id = binary[0], binary[1:8]\n",
    "    sink_type, sink_id = binary[8], binary[9:16]\n",
    "    weight_sign, weight = binary[16], binary[17:]\n",
    "\n",
    "    gene_value_list = {key:int(val, 2) for key, val in zip(['source_type', 'source_id', 'sink_type', 'sink_id', 'weight_sign', 'weight'],\n",
    "                                          [source_type, source_id, sink_type, sink_id, weight_sign, weight])}\n",
    "    \n",
    "    return gene_value_list\n",
    "\n",
    "def get_neurons_body(gen_component, nr_of_input, nr_of_inner, nr_of_actions):\n",
    "    if gen_component['source_type'] == 0:\n",
    "        input_id = gen_component['source_id'] % nr_of_input\n",
    "        input_type = 'in'\n",
    "    elif gen_component['source_type'] == 1:\n",
    "        input_id = gen_component['source_id'] % nr_of_inner\n",
    "        input_type = 'mid'\n",
    "\n",
    "    if gen_component['sink_type'] == 0:\n",
    "        output_id = gen_component['sink_id'] % nr_of_inner\n",
    "        output_type = 'mid'\n",
    "    elif gen_component['sink_type'] == 1:\n",
    "        output_id = gen_component['sink_id'] % nr_of_actions\n",
    "        output_type = 'out'\n",
    "\n",
    "    if gen_component['weight_sign'] == 0:\n",
    "        weight = (gen_component['weight'] /8191.25) * -1\n",
    "    elif gen_component['weight_sign'] == 1:\n",
    "        weight = gen_component['weight'] / 8191.25\n",
    "\n",
    "    differ_neuron = f'{input_id}{input_type}{output_id}{output_type}'\n",
    "    \n",
    "    return input_id, input_type, weight, output_id, output_type, differ_neuron\n",
    "\n",
    "def sum_weights_from_duplicated_neurons(gene_translated, l):\n",
    "#     print('l', l.differ_neuron)\n",
    "    if gene_translated:\n",
    "        for neuron in gene_translated:\n",
    "            \n",
    "            if neuron.differ_neuron == l.differ_neuron:\n",
    "#                 print('==', neuron.differ_neuron, l.differ_neuron)\n",
    "                neuron.weight = neuron.weight + l.weight\n",
    "\n",
    "            else:\n",
    "#                 print('!=', neuron.differ_neuron, l.differ_neuron)\n",
    "                gene_translated.append(l)\n",
    "\n",
    "    else:\n",
    "        gene_translated.append(l)\n",
    "    print('final', [i.differ_neuron for i in gene_translated])\n",
    "\n",
    "def generate_initial_genomes_for_population(nr_individuals, nr_of_genes, nr_of_input, nr_of_actions, nr_of_inner):\n",
    "    lista = {}\n",
    "    for nr_idividual in range(nr_individuals):\n",
    "        gene_translated = []\n",
    "        hexa_list = [token_hex(4) for i in range(nr_of_genes)]\n",
    "        for l, hex_id in enumerate(hexa_list):\n",
    "\n",
    "            gen_component = split_genome(hex_id)\n",
    "            \n",
    "            input_id, input_type, weight, output_id, output_type, differ_neuron = get_neurons_body(gen_component, nr_of_input, nr_of_inner, nr_of_actions)\n",
    "            \n",
    "            l = Neuron(hex_id, input_id, input_type, weight, output_id, output_type, differ_neuron)\n",
    "            gene_translated.append(l)\n",
    "#             sum_weights_from_duplicated_neurons(gene_translated, l)\n",
    "\n",
    "        lista[nr_idividual] = gene_translated\n",
    "#         print()\n",
    "    return lista          \n",
    "\n",
    "class Creature():\n",
    "    def __init__(self, brain, x, y):\n",
    "        self.brain = brain\n",
    "        self.x = x\n",
    "        self.y = y\n",
    "\n",
    "class Neuron():\n",
    "    def __init__(self, hex_id, input_id, input_type, weight, \n",
    "                 output_id, output_type, differ_neuron):\n",
    "        self.hex_id = hex_id\n",
    "        self.input_id = input_id\n",
    "        self.input_type = input_type\n",
    "        self.weight = weight\n",
    "        self.output_id = output_id\n",
    "        self.output_type = output_type\n",
    "        self.differ_neuron = differ_neuron"
   ]
  },
  {
   "cell_type": "markdown",
   "id": "2393430c",
   "metadata": {},
   "source": [
    "hexadecimal generator"
   ]
  },
  {
   "cell_type": "code",
   "execution_count": 67,
   "id": "e7984d1e",
   "metadata": {},
   "outputs": [],
   "source": [
    "nr_of_input = 3\n",
    "nr_of_actions = 3\n",
    "nr_of_inner = 1\n",
    "nr_of_genes = 6\n",
    "nr_individuals = 6\n",
    "\n",
    "res = generate_initial_genomes_for_population(nr_individuals, nr_of_genes, nr_of_input, nr_of_actions, nr_of_inner)"
   ]
  },
  {
   "cell_type": "code",
   "execution_count": 68,
   "id": "ac457f97",
   "metadata": {
    "collapsed": true
   },
   "outputs": [
    {
     "data": {
      "text/plain": [
       "{0: [<__main__.Neuron at 0x217364e8490>,\n",
       "  <__main__.Neuron at 0x217364f1c70>,\n",
       "  <__main__.Neuron at 0x217364f1fd0>,\n",
       "  <__main__.Neuron at 0x217364f1e80>,\n",
       "  <__main__.Neuron at 0x217364f1f70>,\n",
       "  <__main__.Neuron at 0x217364f1f40>],\n",
       " 1: [<__main__.Neuron at 0x217364f11f0>,\n",
       "  <__main__.Neuron at 0x217364f1190>,\n",
       "  <__main__.Neuron at 0x217364f1e50>,\n",
       "  <__main__.Neuron at 0x217364f16d0>,\n",
       "  <__main__.Neuron at 0x217364f19a0>,\n",
       "  <__main__.Neuron at 0x217364f1a60>],\n",
       " 2: [<__main__.Neuron at 0x217364f1610>,\n",
       "  <__main__.Neuron at 0x217364f13a0>,\n",
       "  <__main__.Neuron at 0x217364f1f10>,\n",
       "  <__main__.Neuron at 0x217364f1bb0>,\n",
       "  <__main__.Neuron at 0x217364f14f0>,\n",
       "  <__main__.Neuron at 0x217364f1760>],\n",
       " 3: [<__main__.Neuron at 0x217364f1700>,\n",
       "  <__main__.Neuron at 0x217364f1160>,\n",
       "  <__main__.Neuron at 0x217364f1df0>,\n",
       "  <__main__.Neuron at 0x217364f1b80>,\n",
       "  <__main__.Neuron at 0x217364f1490>,\n",
       "  <__main__.Neuron at 0x217364f1a30>],\n",
       " 4: [<__main__.Neuron at 0x217364c1520>,\n",
       "  <__main__.Neuron at 0x217364c1b20>,\n",
       "  <__main__.Neuron at 0x217364c1dc0>,\n",
       "  <__main__.Neuron at 0x217364c1b80>,\n",
       "  <__main__.Neuron at 0x217364c1f40>,\n",
       "  <__main__.Neuron at 0x217364c14f0>],\n",
       " 5: [<__main__.Neuron at 0x217364c1c70>,\n",
       "  <__main__.Neuron at 0x217364c1430>,\n",
       "  <__main__.Neuron at 0x217364c19d0>,\n",
       "  <__main__.Neuron at 0x217364c1460>,\n",
       "  <__main__.Neuron at 0x217364c1d00>,\n",
       "  <__main__.Neuron at 0x217364c1cd0>]}"
      ]
     },
     "execution_count": 68,
     "metadata": {},
     "output_type": "execute_result"
    }
   ],
   "source": [
    "res"
   ]
  },
  {
   "cell_type": "code",
   "execution_count": 70,
   "id": "2fd74e49",
   "metadata": {},
   "outputs": [],
   "source": [
    "dic = {}\n",
    "for nr in res:\n",
    "    dic[nr] = {}\n",
    "    for i in res[nr]:\n",
    "        total = dic.get(i.differ_neuron, 0) + i.weight \n",
    "        dic[nr][i.differ_neuron] = total"
   ]
  },
  {
   "cell_type": "code",
   "execution_count": 75,
   "id": "9a8777f7",
   "metadata": {},
   "outputs": [
    {
     "name": "stdout",
     "output_type": "stream",
     "text": [
      "0in0mid\n",
      "2in1out\n",
      "0in0out\n",
      "2in0out\n"
     ]
    }
   ],
   "source": [
    "nr_neu = 4\n",
    "for i in dic[nr_neu]:\n",
    "    if 'in' in i:\n",
    "        print(i)"
   ]
  },
  {
   "cell_type": "code",
   "execution_count": 81,
   "id": "4c412c1b",
   "metadata": {},
   "outputs": [
    {
     "data": {
      "text/plain": [
       "[['0in0mid'], ['0in0out'], ['2in0out'], ['2in1out']]"
      ]
     },
     "execution_count": 81,
     "metadata": {},
     "output_type": "execute_result"
    }
   ],
   "source": []
  },
  {
   "cell_type": "code",
   "execution_count": null,
   "id": "808cd41a",
   "metadata": {},
   "outputs": [],
   "source": []
  },
  {
   "cell_type": "code",
   "execution_count": 64,
   "id": "dbbbc2f4",
   "metadata": {},
   "outputs": [
    {
     "data": {
      "text/plain": [
       "array([0.81351865])"
      ]
     },
     "execution_count": 64,
     "metadata": {},
     "output_type": "execute_result"
    }
   ],
   "source": [
    "np.random.seed(1)\n",
    "in_1 = np.random.uniform(0,1,1)\n",
    "in_2 = np.random.uniform(0,1,1)\n",
    "in_sum = sum(in_1, in_2)\n",
    "\n",
    "np.tanh(in_sum)\n"
   ]
  },
  {
   "cell_type": "code",
   "execution_count": 83,
   "id": "b9172b6d",
   "metadata": {},
   "outputs": [
    {
     "name": "stdout",
     "output_type": "stream",
     "text": [
      "Collecting anytree\n",
      "  Downloading anytree-2.8.0-py2.py3-none-any.whl (41 kB)\n",
      "Requirement already satisfied: six>=1.9.0 in c:\\users\\maciek\\anaconda3\\lib\\site-packages (from anytree) (1.16.0)\n",
      "Installing collected packages: anytree\n",
      "Successfully installed anytree-2.8.0\n"
     ]
    }
   ],
   "source": [
    "!pip install anytree"
   ]
  },
  {
   "cell_type": "code",
   "execution_count": 89,
   "id": "a37e2737",
   "metadata": {},
   "outputs": [
    {
     "name": "stdout",
     "output_type": "stream",
     "text": [
      "Node('/10')\n",
      "Node('/10/34')\n",
      "Node('/10/34/45')\n",
      "Node('/10/89')\n",
      "Node('/10/89/50')\n"
     ]
    }
   ],
   "source": [
    "from anytree import Node, RenderTree\n",
    "\n",
    "root = Node(10)\n",
    "\n",
    "level_1_child_1 = Node(34, parent=root)\n",
    "level_1_child_2 = Node(89, parent=root)\n",
    "level_2_child_1 = Node(45, parent=level_1_child_1)\n",
    "level_2_child_2 = Node(50, parent=level_1_child_2)\n",
    "\n",
    "for pre, fill, node in RenderTree(root):\n",
    "    print(node)\n",
    "#     print(\"%s%s\" % (pre, node.name))"
   ]
  },
  {
   "cell_type": "code",
   "execution_count": 86,
   "id": "89c656dd",
   "metadata": {},
   "outputs": [
    {
     "data": {
      "text/plain": [
       "RenderTree(Node('/10'), style=ContStyle(), childiter=<class 'list'>)"
      ]
     },
     "execution_count": 86,
     "metadata": {},
     "output_type": "execute_result"
    }
   ],
   "source": [
    "RenderTree(root)"
   ]
  },
  {
   "cell_type": "code",
   "execution_count": null,
   "id": "97c05cf7",
   "metadata": {},
   "outputs": [],
   "source": []
  }
 ],
 "metadata": {
  "kernelspec": {
   "display_name": "Python 3 (ipykernel)",
   "language": "python",
   "name": "python3"
  },
  "language_info": {
   "codemirror_mode": {
    "name": "ipython",
    "version": 3
   },
   "file_extension": ".py",
   "mimetype": "text/x-python",
   "name": "python",
   "nbconvert_exporter": "python",
   "pygments_lexer": "ipython3",
   "version": "3.9.7"
  }
 },
 "nbformat": 4,
 "nbformat_minor": 5
}
