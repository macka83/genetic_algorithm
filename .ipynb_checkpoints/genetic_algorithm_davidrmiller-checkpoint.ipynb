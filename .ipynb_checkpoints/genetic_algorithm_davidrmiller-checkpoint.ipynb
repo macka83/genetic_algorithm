{
 "cells": [
  {
   "cell_type": "markdown",
   "id": "d3baa2e9",
   "metadata": {},
   "source": [
    "https://github.com/davidrmiller/biosim4\n"
   ]
  },
  {
   "cell_type": "code",
   "execution_count": 1,
   "id": "e089dc6f",
   "metadata": {},
   "outputs": [],
   "source": [
    "from secrets import token_hex\n",
    "import secrets\n",
    "import random\n",
    "from collections import Counter\n",
    "from itertools import groupby\n",
    "\n",
    "import numpy as np\n",
    "import matplotlib.pyplot as plt"
   ]
  },
  {
   "cell_type": "markdown",
   "id": "46817ce8",
   "metadata": {},
   "source": [
    "### funkcje neuronów"
   ]
  },
  {
   "cell_type": "markdown",
   "id": "d2b1545b",
   "metadata": {},
   "source": [
    "input"
   ]
  },
  {
   "cell_type": "code",
   "execution_count": 2,
   "id": "9d1e9424",
   "metadata": {
    "code_folding": [
     1,
     4,
     11,
     15,
     22
    ]
   },
   "outputs": [],
   "source": [
    "# Bliska przeszkoda\n",
    "# 0in\n",
    "def close_obstacle(obj_loc_x, obj_loc_y, obj_list):\n",
    "    select_obst = 0\n",
    "    # iteruj po liście bez obiektu\n",
    "    for obj_nr in obj_list:\n",
    "        if obj_nr['coord'][0] - obj_loc_x == abs(1) and obj_nr['coord'][1] - obj_loc_y == abs(1):\n",
    "            select_obst += 1\n",
    "            \n",
    "    return select_obst/8\n",
    "       \n",
    "# Daleka przeszkoda gdy ruch po osi x\n",
    "# 1in\n",
    "def distant_obstacle_x_coord(obj_loc_x, obj_list):\n",
    "    select_obst = 0\n",
    "    # iteruj po liście bez obiektu\n",
    "    for obj_nr in obj_list:\n",
    "        if obj_nr['coord'][0] - obj_loc_x <= abs(5):\n",
    "            select_obst += 1\n",
    "            \n",
    "    return select_obst/121\n",
    "\n",
    "# Daleka przeszkoda gdy ruch po osi y\n",
    "# to samo j.w.\n",
    "# 2in\n",
    "def distant_obstacle_y_coord(obj_loc_y, obj_list):\n",
    "    select_obst = 0\n",
    "    # iteruj po liście bez obiektu\n",
    "    for obj_nr in obj_list:\n",
    "        if obj_nr['coord'][0] - obj_loc_y <= abs(5):\n",
    "            select_obst += 1\n",
    "            \n",
    "    return select_obst/121\n"
   ]
  },
  {
   "cell_type": "markdown",
   "id": "a067128c",
   "metadata": {},
   "source": [
    "output"
   ]
  },
  {
   "cell_type": "markdown",
   "id": "d33b1140",
   "metadata": {},
   "source": [
    "przykład jak zastosować neurony executeActions.cpp"
   ]
  },
  {
   "cell_type": "code",
   "execution_count": 3,
   "id": "596fa753",
   "metadata": {
    "code_folding": [
     0,
     7,
     14
    ]
   },
   "outputs": [],
   "source": [
    "def move_x(weight):\n",
    "    weight_abs = abs(weight)\n",
    "    x = np.random.choice(2, 1, p=[1-weight_abs, weight_abs])\n",
    "    if weight < 0:\n",
    "        x = x * -1\n",
    "    return x\n",
    "\n",
    "def move_y(weight):\n",
    "    weight_abs = abs(weight)\n",
    "    y = np.random.choice(2, 1, p=[1-weight_abs, weight_abs])\n",
    "    if weight < 0:\n",
    "        y = y * -1\n",
    "    return y\n",
    "\n",
    "def random_move():\n",
    "    x,y = np.round(np.random.uniform(low=-1, high=1.0, size=2))\n",
    "    return x,y\n",
    "    "
   ]
  },
  {
   "cell_type": "markdown",
   "id": "86d2e542",
   "metadata": {},
   "source": [
    "decode hexadecimal"
   ]
  },
  {
   "cell_type": "code",
   "execution_count": 4,
   "id": "14c578ca",
   "metadata": {
    "code_folding": [
     0,
     15,
     39,
     56,
     75,
     81
    ]
   },
   "outputs": [],
   "source": [
    "def split_genome(hexval):\n",
    "    binary = bin(int(hexval, 16))[2:]\n",
    "    if len(binary) < 32:\n",
    "        factor = 32 - len(binary)\n",
    "        binary = '0' * factor + binary\n",
    "  \n",
    "    source_type, source_id = binary[0], binary[1:8]\n",
    "    sink_type, sink_id = binary[8], binary[9:16]\n",
    "    weight_sign, weight = binary[16], binary[17:]\n",
    "\n",
    "    gene_value_list = {key:int(val, 2) for key, val in zip(['source_type', 'source_id', 'sink_type', 'sink_id', 'weight_sign', 'weight'],\n",
    "                                          [source_type, source_id, sink_type, sink_id, weight_sign, weight])}\n",
    "    \n",
    "    return gene_value_list\n",
    "\n",
    "def get_neurons_body(gen_component, nr_of_input, nr_of_inner, nr_of_actions):\n",
    "    if gen_component['source_type'] == 0:\n",
    "        input_id = gen_component['source_id'] % nr_of_input\n",
    "        input_type = 'in'\n",
    "    elif gen_component['source_type'] == 1:\n",
    "        input_id = gen_component['source_id'] % nr_of_inner\n",
    "        input_type = 'mid'\n",
    "\n",
    "    if gen_component['sink_type'] == 0:\n",
    "        output_id = gen_component['sink_id'] % nr_of_inner\n",
    "        output_type = 'mid'\n",
    "    elif gen_component['sink_type'] == 1:\n",
    "        output_id = gen_component['sink_id'] % nr_of_actions\n",
    "        output_type = 'out'\n",
    "\n",
    "    if gen_component['weight_sign'] == 0:\n",
    "        weight = (gen_component['weight'] /8191.25) * -1\n",
    "    elif gen_component['weight_sign'] == 1:\n",
    "        weight = gen_component['weight'] / 8191.25\n",
    "\n",
    "    differ_neuron = f'{input_id}{input_type}{output_id}{output_type}'\n",
    "    \n",
    "    return input_id, input_type, weight, output_id, output_type, differ_neuron\n",
    "\n",
    "def sum_weights_from_duplicated_neurons(gene_translated, l):\n",
    "#     print('l', l.differ_neuron)\n",
    "    if gene_translated:\n",
    "        for neuron in gene_translated:\n",
    "            \n",
    "            if neuron.differ_neuron == l.differ_neuron:\n",
    "#                 print('==', neuron.differ_neuron, l.differ_neuron)\n",
    "                neuron.weight = neuron.weight + l.weight\n",
    "\n",
    "            else:\n",
    "#                 print('!=', neuron.differ_neuron, l.differ_neuron)\n",
    "                gene_translated.append(l)\n",
    "\n",
    "    else:\n",
    "        gene_translated.append(l)\n",
    "    print('final', [i.differ_neuron for i in gene_translated])\n",
    "\n",
    "def generate_initial_genomes_for_population(nr_individuals, nr_of_genes, nr_of_input, nr_of_actions, nr_of_inner):\n",
    "    lista = {}\n",
    "    for nr_idividual in range(nr_individuals):\n",
    "        gene_translated = []\n",
    "        hexa_list = [token_hex(4) for i in range(nr_of_genes)]\n",
    "        for l, hex_id in enumerate(hexa_list):\n",
    "\n",
    "            gen_component = split_genome(hex_id)\n",
    "            \n",
    "            input_id, input_type, weight, output_id, output_type, differ_neuron = get_neurons_body(gen_component, nr_of_input, nr_of_inner, nr_of_actions)\n",
    "            \n",
    "            l = Neuron(hex_id, input_id, input_type, weight, output_id, output_type, differ_neuron)\n",
    "            gene_translated.append(l)\n",
    "#             sum_weights_from_duplicated_neurons(gene_translated, l)\n",
    "\n",
    "        lista[nr_idividual] = gene_translated\n",
    "#         print()\n",
    "    return lista          \n",
    "\n",
    "class Creature():\n",
    "    def __init__(self, brain, x, y):\n",
    "        self.brain = brain\n",
    "        self.x = x\n",
    "        self.y = y\n",
    "\n",
    "class Neuron():\n",
    "    def __init__(self, hex_id, input_id, input_type, weight, \n",
    "                 output_id, output_type, differ_neuron):\n",
    "        self.hex_id = hex_id\n",
    "        self.input_id = input_id\n",
    "        self.input_type = input_type\n",
    "        self.weight = weight\n",
    "        self.output_id = output_id\n",
    "        self.output_type = output_type\n",
    "        self.differ_neuron = differ_neuron"
   ]
  },
  {
   "cell_type": "markdown",
   "id": "2393430c",
   "metadata": {},
   "source": [
    "hexadecimal generator"
   ]
  },
  {
   "cell_type": "code",
   "execution_count": 5,
   "id": "e7984d1e",
   "metadata": {},
   "outputs": [],
   "source": [
    "nr_of_input = 3\n",
    "nr_of_actions = 3\n",
    "nr_of_inner = 1\n",
    "nr_of_genes = 6\n",
    "nr_individuals = 6\n",
    "\n",
    "res = generate_initial_genomes_for_population(nr_individuals, nr_of_genes, nr_of_input, nr_of_actions, nr_of_inner)"
   ]
  },
  {
   "cell_type": "code",
   "execution_count": 6,
   "id": "28b16af7",
   "metadata": {},
   "outputs": [
    {
     "data": {
      "text/plain": [
       "{0: [<__main__.Neuron at 0x222eeccd100>,\n",
       "  <__main__.Neuron at 0x222eeccd910>,\n",
       "  <__main__.Neuron at 0x222eeccd8b0>,\n",
       "  <__main__.Neuron at 0x222eeccd8e0>,\n",
       "  <__main__.Neuron at 0x222eeccdf10>,\n",
       "  <__main__.Neuron at 0x222eeccd490>],\n",
       " 1: [<__main__.Neuron at 0x222eeccd610>,\n",
       "  <__main__.Neuron at 0x222eeccdc40>,\n",
       "  <__main__.Neuron at 0x222eeccdca0>,\n",
       "  <__main__.Neuron at 0x222eeccd0d0>,\n",
       "  <__main__.Neuron at 0x222eeccdeb0>,\n",
       "  <__main__.Neuron at 0x222eeccd790>],\n",
       " 2: [<__main__.Neuron at 0x222eeccd7c0>,\n",
       "  <__main__.Neuron at 0x222eeccd7f0>,\n",
       "  <__main__.Neuron at 0x222eeccd730>,\n",
       "  <__main__.Neuron at 0x222eeccda90>,\n",
       "  <__main__.Neuron at 0x222eeccda30>,\n",
       "  <__main__.Neuron at 0x222eeccd850>],\n",
       " 3: [<__main__.Neuron at 0x222eeccd970>,\n",
       "  <__main__.Neuron at 0x222eeccd580>,\n",
       "  <__main__.Neuron at 0x222eeccd0a0>,\n",
       "  <__main__.Neuron at 0x222eeccdcd0>,\n",
       "  <__main__.Neuron at 0x222eeccdd00>,\n",
       "  <__main__.Neuron at 0x222eecb19a0>],\n",
       " 4: [<__main__.Neuron at 0x222eecb1850>,\n",
       "  <__main__.Neuron at 0x222eecb1880>,\n",
       "  <__main__.Neuron at 0x222eecb1f10>,\n",
       "  <__main__.Neuron at 0x222eecb1400>,\n",
       "  <__main__.Neuron at 0x222eecb1ca0>,\n",
       "  <__main__.Neuron at 0x222eecb1f70>],\n",
       " 5: [<__main__.Neuron at 0x222eecb12b0>,\n",
       "  <__main__.Neuron at 0x222eecb1250>,\n",
       "  <__main__.Neuron at 0x222eecb1280>,\n",
       "  <__main__.Neuron at 0x222eecb1190>,\n",
       "  <__main__.Neuron at 0x222eecb1160>,\n",
       "  <__main__.Neuron at 0x222eecb1100>]}"
      ]
     },
     "execution_count": 6,
     "metadata": {},
     "output_type": "execute_result"
    }
   ],
   "source": [
    "res"
   ]
  },
  {
   "cell_type": "code",
   "execution_count": 7,
   "id": "2fd74e49",
   "metadata": {},
   "outputs": [],
   "source": [
    "dic = {}\n",
    "for nr in res:\n",
    "    dic[nr] = {}\n",
    "    for i in res[nr]:\n",
    "        total = dic.get(i.differ_neuron, 0) + i.weight \n",
    "        dic[nr][i.differ_neuron] = total"
   ]
  },
  {
   "cell_type": "code",
   "execution_count": 14,
   "id": "9a8777f7",
   "metadata": {},
   "outputs": [
    {
     "name": "stdout",
     "output_type": "stream",
     "text": [
      "1in0mid\n",
      "2in1out\n"
     ]
    }
   ],
   "source": [
    "nr_neu = 4\n",
    "for i in dic[nr_neu]:\n",
    "    if 'in' in i:\n",
    "        print(i)"
   ]
  },
  {
   "cell_type": "code",
   "execution_count": 15,
   "id": "2e77227d",
   "metadata": {},
   "outputs": [
    {
     "data": {
      "text/plain": [
       "{0: {'0in2out': 0.6216389439951168,\n",
       "  '0mid0out': -1.671661834274378,\n",
       "  '1in0mid': 0.8481001068213032,\n",
       "  '2in0mid': 2.7736914390355563,\n",
       "  '0mid2out': 3.9498245078589957,\n",
       "  '0mid0mid': 0.7339539142377537},\n",
       " 1: {'0mid0mid': -3.2633602929955745,\n",
       "  '0mid0out': -2.8790477643827255,\n",
       "  '0mid1out': -2.610834732183733,\n",
       "  '2in0mid': -0.8411414619258355},\n",
       " 2: {'0in0mid': -2.480940027468335,\n",
       "  '1in0mid': 1.0800549366702275,\n",
       "  '0mid0mid': 2.06366549671906,\n",
       "  '0mid1out': 0.5820845414314054,\n",
       "  '0mid2out': 2.3793682282923854},\n",
       " 3: {'0mid0mid': -1.652250877460705,\n",
       "  '0mid2out': 3.1323668548756296,\n",
       "  '0mid1out': 0.02014344575003815,\n",
       "  '2in0mid': -0.1383183274835953,\n",
       "  '0in0mid': 1.306638180985808},\n",
       " 4: {'0mid0mid': -2.4,\n",
       "  '1in0mid': -1.0613764687929192,\n",
       "  '2in1out': -1.2788036014039372},\n",
       " 5: {'0mid2out': -3.0399511674042423,\n",
       "  '0mid0out': 1.7418586906760263,\n",
       "  '0in0mid': 3.3499160689760417,\n",
       "  '0mid0mid': -2.9019990843888297,\n",
       "  '2in1out': 1.114848161147566}}"
      ]
     },
     "execution_count": 15,
     "metadata": {},
     "output_type": "execute_result"
    }
   ],
   "source": [
    "dic"
   ]
  },
  {
   "cell_type": "code",
   "execution_count": null,
   "id": "dd7ef043",
   "metadata": {},
   "outputs": [],
   "source": []
  },
  {
   "cell_type": "code",
   "execution_count": 9,
   "id": "f8ee2f91",
   "metadata": {},
   "outputs": [
    {
     "data": {
      "text/plain": [
       "array([0.81351865])"
      ]
     },
     "execution_count": 9,
     "metadata": {},
     "output_type": "execute_result"
    }
   ],
   "source": [
    "np.random.seed(1)\n",
    "in_1 = np.random.uniform(0,1,1)\n",
    "in_2 = np.random.uniform(0,1,1)\n",
    "in_sum = sum(in_1, in_2)\n",
    "\n",
    "np.tanh(in_sum)\n"
   ]
  },
  {
   "cell_type": "code",
   "execution_count": 16,
   "id": "3c8fb430",
   "metadata": {},
   "outputs": [
    {
     "name": "stdout",
     "output_type": "stream",
     "text": [
      "The dot product is: 2.1672\n"
     ]
    }
   ],
   "source": [
    "input_vector = [1.72, 1.23]\n",
    "weights_1 = [1.26, 0]\n",
    "weights_2 = [2.17, 0.32]\n",
    "\n",
    "# Computing the dot product of input_vector and weights_1\n",
    "first_indexes_mult = input_vector[0] * weights_1[0]\n",
    "second_indexes_mult = input_vector[1] * weights_1[1]\n",
    "dot_product_1 = first_indexes_mult + second_indexes_mult\n",
    "\n",
    "print(f\"The dot product is: {dot_product_1}\")"
   ]
  },
  {
   "cell_type": "code",
   "execution_count": 17,
   "id": "46414281",
   "metadata": {},
   "outputs": [
    {
     "name": "stdout",
     "output_type": "stream",
     "text": [
      "The dot product is: 2.1672\n"
     ]
    }
   ],
   "source": [
    "dot_product_1 = np.dot(input_vector, weights_1)\n",
    "\n",
    "print(f\"The dot product is: {dot_product_1}\")"
   ]
  },
  {
   "cell_type": "code",
   "execution_count": 18,
   "id": "9e000f49",
   "metadata": {},
   "outputs": [
    {
     "name": "stdout",
     "output_type": "stream",
     "text": [
      "The dot product is: 4.1259999999999994\n"
     ]
    }
   ],
   "source": [
    "dot_product_2 = np.dot(input_vector, weights_2)\n",
    "\n",
    "print(f\"The dot product is: {dot_product_2}\")"
   ]
  },
  {
   "cell_type": "code",
   "execution_count": null,
   "id": "6a25b63d",
   "metadata": {},
   "outputs": [],
   "source": [
    "input_vector = np.array([1.66, 1.56])\n",
    "weights_1 = np.array([1.45, -0.66])"
   ]
  },
  {
   "cell_type": "code",
   "execution_count": 19,
   "id": "2b594f0c",
   "metadata": {},
   "outputs": [
    {
     "name": "stdout",
     "output_type": "stream",
     "text": [
      "The prediction result is: [0.7985731]\n"
     ]
    }
   ],
   "source": [
    "# Wrapping the vectors in NumPy arrays\n",
    "input_vector = np.array([1.66, 1.56])\n",
    "weights_1 = np.array([1.45, -0.66])\n",
    "bias = np.array([0.0])\n",
    "\n",
    "def sigmoid(x):\n",
    "    return 1 / (1 + np.exp(-x))\n",
    "\n",
    "def make_prediction(input_vector, weights, bias):\n",
    "     layer_1 = np.dot(input_vector, weights) + bias\n",
    "     layer_2 = sigmoid(layer_1)\n",
    "     return layer_2\n",
    "\n",
    "prediction = make_prediction(input_vector, weights_1, bias)\n",
    "\n",
    "print(f\"The prediction result is: {prediction}\")\n"
   ]
  },
  {
   "cell_type": "code",
   "execution_count": null,
   "id": "2bcd95d6",
   "metadata": {},
   "outputs": [],
   "source": [
    "{'0in2out': 0.6216389439951168,\n",
    "  '0mid0out': -1.671661834274378,\n",
    "  '1in0mid': 0.8481001068213032,\n",
    "  '2in0mid': 2.7736914390355563,\n",
    "  '0mid2out': 3.9498245078589957,\n",
    "  '0mid0mid': 0.7339539142377537}"
   ]
  },
  {
   "cell_type": "code",
   "execution_count": null,
   "id": "7edcbca6",
   "metadata": {},
   "outputs": [],
   "source": [
    "in_1 = np.random.uniform(0,1,1)\n",
    "in_2 = np.random.uniform(0,1,1)\n",
    "in_3 = np.random.uniform(0,1,1)\n",
    "in_vec = [in_1, in_2, in_3]\n",
    "weight = []"
   ]
  }
 ],
 "metadata": {
  "kernelspec": {
   "display_name": "Python 3 (ipykernel)",
   "language": "python",
   "name": "python3"
  },
  "language_info": {
   "codemirror_mode": {
    "name": "ipython",
    "version": 3
   },
   "file_extension": ".py",
   "mimetype": "text/x-python",
   "name": "python",
   "nbconvert_exporter": "python",
   "pygments_lexer": "ipython3",
   "version": "3.9.7"
  }
 },
 "nbformat": 4,
 "nbformat_minor": 5
}
