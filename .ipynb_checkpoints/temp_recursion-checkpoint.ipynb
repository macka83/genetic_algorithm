{
 "cells": [
  {
   "cell_type": "markdown",
   "id": "d1c50c7f",
   "metadata": {},
   "source": [
    "https://www.geeksforgeeks.org/building-an-undirected-graph-and-finding-shortest-path-using-dictionaries-in-python/"
   ]
  },
  {
   "cell_type": "code",
   "execution_count": 4,
   "id": "7277a8ba",
   "metadata": {},
   "outputs": [],
   "source": [
    "from collections import defaultdict"
   ]
  },
  {
   "cell_type": "markdown",
   "id": "24c82074",
   "metadata": {},
   "source": [
    "generate network from out up, calculate down"
   ]
  },
  {
   "cell_type": "code",
   "execution_count": 5,
   "id": "cf8aea59",
   "metadata": {},
   "outputs": [],
   "source": [
    "edges = [['2in','2out'],\n",
    "  ['0in','0out'],\n",
    "  ['2in','0mid'],\n",
    "  ['0mid','2out'],\n",
    "  ['0mid','0mid'],\n",
    "  ['0mid','0out']]"
   ]
  },
  {
   "cell_type": "code",
   "execution_count": 21,
   "id": "f713bb8b",
   "metadata": {},
   "outputs": [
    {
     "name": "stdout",
     "output_type": "stream",
     "text": [
      "defaultdict(<class 'list'>, {'2in': ['2out', '0mid'], '2out': ['2in', '0mid'], '0in': ['0out'], '0out': ['0in', '0mid'], '0mid': ['2in', '2out', '0mid', '0mid', '0out']})\n",
      "\n",
      "defaultdict(<class 'list'>, {'2out': ['2in', '0mid'], '0out': ['0in', '0mid'], '0mid': ['2in', '0mid']})\n",
      "\n"
     ]
    }
   ],
   "source": [
    "graph = defaultdict(list)\n",
    "     \n",
    "# Loop to iterate over every\n",
    "# edge of the graph\n",
    "for edge in edges:\n",
    "    a, b = edge[0], edge[1]\n",
    "\n",
    "    # Creating the graph\n",
    "    # as adjacency list\n",
    "    graph[a].append(b)\n",
    "    graph[b].append(a)\n",
    "print(graph)\n",
    "print()\n",
    "list_to_pop = [key for key in graph if 'in' in key]\n",
    "\n",
    "for key in list_to_pop:\n",
    "    graph.pop(key)\n",
    "    \n",
    "# print(graph)\n",
    "# print()\n",
    "\n",
    "for mid in graph:\n",
    "    if 'mid' in mid:\n",
    "        list_mid_connection = [out_neroun for out_neroun in list(set(graph[mid])) if 'out' not in out_neroun]\n",
    "        graph[mid] = list_mid_connection\n",
    "        \n",
    "print(graph)\n",
    "print()\n",
    "\n"
   ]
  },
  {
   "cell_type": "code",
   "execution_count": 38,
   "id": "6eb66237",
   "metadata": {},
   "outputs": [
    {
     "name": "stdout",
     "output_type": "stream",
     "text": [
      "2in 2out\n",
      "0mid 2out\n",
      "2in 0mid\n",
      "0mid 0mid\n",
      "\n",
      "0in 0out\n",
      "0mid 0out\n",
      "2in 0mid\n",
      "0mid 0mid\n",
      "\n",
      "\n"
     ]
    }
   ],
   "source": [
    "for key_out in graph:\n",
    "    if 'out' in key_out:\n",
    "        for val_out in graph[key_out]:\n",
    "            if 'in' in val_out:\n",
    "                print(val_out, key_out)\n",
    "            elif 'mid' in val_out:\n",
    "                print(val_out, key_out)\n",
    "                for key_mid in graph:\n",
    "                    if 'mid' in key_mid and val_out == key_mid:\n",
    "                        for mid_val in graph[key_mid]:\n",
    "                            print(mid_val, val_out)\n",
    "    print()"
   ]
  },
  {
   "cell_type": "code",
   "execution_count": null,
   "id": "9feaf56f",
   "metadata": {},
   "outputs": [],
   "source": []
  },
  {
   "cell_type": "code",
   "execution_count": null,
   "id": "e2a06a71",
   "metadata": {},
   "outputs": [],
   "source": []
  },
  {
   "cell_type": "code",
   "execution_count": null,
   "id": "358f4f1e",
   "metadata": {},
   "outputs": [],
   "source": []
  },
  {
   "cell_type": "code",
   "execution_count": null,
   "id": "4f14573e",
   "metadata": {},
   "outputs": [],
   "source": []
  },
  {
   "cell_type": "code",
   "execution_count": 9,
   "id": "25c0d867",
   "metadata": {},
   "outputs": [],
   "source": [
    "# Function to build the graph\n",
    "def build_graph(edges):\n",
    "    \n",
    "    graph = defaultdict(list)\n",
    "     \n",
    "    # Loop to iterate over every\n",
    "    # edge of the graph\n",
    "    for edge in edges:\n",
    "        a, b = edge[0], edge[1]\n",
    "         \n",
    "        # Creating the graph\n",
    "        # as adjacency list\n",
    "        graph[a].append(b)\n",
    "        graph[b].append(a)\n",
    "    return graph\n"
   ]
  },
  {
   "cell_type": "code",
   "execution_count": 10,
   "id": "978e96af",
   "metadata": {},
   "outputs": [],
   "source": [
    "edges = [\n",
    "        [\"A\", \"B\"], [\"A\", \"E\"],\n",
    "        [\"A\", \"C\"], [\"B\", \"D\"],\n",
    "        [\"B\", \"E\"], [\"C\", \"F\"],\n",
    "        [\"C\", \"G\"], [\"D\", \"E\"]\n",
    "    ]"
   ]
  },
  {
   "cell_type": "code",
   "execution_count": 11,
   "id": "e6cef12c",
   "metadata": {},
   "outputs": [
    {
     "name": "stdout",
     "output_type": "stream",
     "text": [
      "defaultdict(<class 'list'>, {'A': ['B', 'E', 'C'], 'B': ['A', 'D', 'E'], 'E': ['A', 'B', 'D'], 'C': ['A', 'F', 'G'], 'D': ['B', 'E'], 'F': ['C'], 'G': ['C']})\n"
     ]
    }
   ],
   "source": [
    "graph = build_graph(edges)\n",
    "\n",
    "print(graph)"
   ]
  },
  {
   "cell_type": "code",
   "execution_count": null,
   "id": "f320881d",
   "metadata": {},
   "outputs": [],
   "source": []
  },
  {
   "cell_type": "code",
   "execution_count": 14,
   "id": "8a1f3d8a",
   "metadata": {},
   "outputs": [],
   "source": [
    "edges = [['2in','2out'],\n",
    "  ['0in','0out'],\n",
    "  ['2in','0mid'],\n",
    "  ['0mid','2out'],\n",
    "  ['0mid','0mid'],\n",
    "  ['0mid','0out']]\n",
    "\n",
    "graph = build_graph(edges)"
   ]
  },
  {
   "cell_type": "code",
   "execution_count": 13,
   "id": "fac77f44",
   "metadata": {},
   "outputs": [
    {
     "data": {
      "text/plain": [
       "defaultdict(list,\n",
       "            {'2in': ['2out', '0mid'],\n",
       "             '2out': ['2in', '0mid'],\n",
       "             '0in': ['0out'],\n",
       "             '0out': ['0in', '0mid'],\n",
       "             '0mid': ['2in', '2out', '0mid', '0mid', '0out']})"
      ]
     },
     "execution_count": 13,
     "metadata": {},
     "output_type": "execute_result"
    }
   ],
   "source": [
    "graph"
   ]
  },
  {
   "cell_type": "code",
   "execution_count": null,
   "id": "2f3b26d3",
   "metadata": {},
   "outputs": [],
   "source": []
  }
 ],
 "metadata": {
  "kernelspec": {
   "display_name": "Python 3 (ipykernel)",
   "language": "python",
   "name": "python3"
  },
  "language_info": {
   "codemirror_mode": {
    "name": "ipython",
    "version": 3
   },
   "file_extension": ".py",
   "mimetype": "text/x-python",
   "name": "python",
   "nbconvert_exporter": "python",
   "pygments_lexer": "ipython3",
   "version": "3.9.7"
  }
 },
 "nbformat": 4,
 "nbformat_minor": 5
}
