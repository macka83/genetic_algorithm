{
 "cells": [
  {
   "cell_type": "markdown",
   "id": "da3549b8",
   "metadata": {},
   "source": [
    "https://www.geeksforgeeks.org/building-an-undirected-graph-and-finding-shortest-path-using-dictionaries-in-python/"
   ]
  },
  {
   "cell_type": "code",
   "execution_count": 8,
   "id": "cc61e038",
   "metadata": {},
   "outputs": [],
   "source": [
    "from collections import defaultdict"
   ]
  },
  {
   "cell_type": "code",
   "execution_count": 9,
   "id": "0eb72873",
   "metadata": {},
   "outputs": [],
   "source": [
    "# Function to build the graph\n",
    "def build_graph(edges):\n",
    "    \n",
    "    graph = defaultdict(list)\n",
    "     \n",
    "    # Loop to iterate over every\n",
    "    # edge of the graph\n",
    "    for edge in edges:\n",
    "        a, b = edge[0], edge[1]\n",
    "         \n",
    "        # Creating the graph\n",
    "        # as adjacency list\n",
    "        graph[a].append(b)\n",
    "        graph[b].append(a)\n",
    "    return graph\n"
   ]
  },
  {
   "cell_type": "code",
   "execution_count": 10,
   "id": "f7f65c60",
   "metadata": {},
   "outputs": [],
   "source": [
    "edges = [\n",
    "        [\"A\", \"B\"], [\"A\", \"E\"],\n",
    "        [\"A\", \"C\"], [\"B\", \"D\"],\n",
    "        [\"B\", \"E\"], [\"C\", \"F\"],\n",
    "        [\"C\", \"G\"], [\"D\", \"E\"]\n",
    "    ]"
   ]
  },
  {
   "cell_type": "code",
   "execution_count": 11,
   "id": "346029a0",
   "metadata": {},
   "outputs": [
    {
     "name": "stdout",
     "output_type": "stream",
     "text": [
      "defaultdict(<class 'list'>, {'A': ['B', 'E', 'C'], 'B': ['A', 'D', 'E'], 'E': ['A', 'B', 'D'], 'C': ['A', 'F', 'G'], 'D': ['B', 'E'], 'F': ['C'], 'G': ['C']})\n"
     ]
    }
   ],
   "source": [
    "graph = build_graph(edges)\n",
    "\n",
    "print(graph)"
   ]
  },
  {
   "cell_type": "code",
   "execution_count": null,
   "id": "3a9bb0a5",
   "metadata": {},
   "outputs": [],
   "source": []
  },
  {
   "cell_type": "code",
   "execution_count": 12,
   "id": "363a2339",
   "metadata": {},
   "outputs": [
    {
     "name": "stdout",
     "output_type": "stream",
     "text": [
      "defaultdict(<class 'list'>, {'2in': ['2out', '0mid'], '2out': ['2in', '0mid'], '0in': ['0out'], '0out': ['0in', '0mid'], '0mid': ['2in', '2out', '0mid', '0mid', '0out']})\n"
     ]
    }
   ],
   "source": [
    "edges = [['2in','2out'],\n",
    "  ['0in','0out'],\n",
    "  ['2in','0mid'],\n",
    "  ['0mid','2out'],\n",
    "  ['0mid','0mid'],\n",
    "  ['0mid','0out']]\n",
    "\n",
    "graph = build_graph(edges)\n",
    "\n",
    "print(graph)"
   ]
  },
  {
   "cell_type": "code",
   "execution_count": null,
   "id": "4cb08f0e",
   "metadata": {},
   "outputs": [],
   "source": []
  }
 ],
 "metadata": {
  "kernelspec": {
   "display_name": "Python 3 (ipykernel)",
   "language": "python",
   "name": "python3"
  },
  "language_info": {
   "codemirror_mode": {
    "name": "ipython",
    "version": 3
   },
   "file_extension": ".py",
   "mimetype": "text/x-python",
   "name": "python",
   "nbconvert_exporter": "python",
   "pygments_lexer": "ipython3",
   "version": "3.9.7"
  }
 },
 "nbformat": 4,
 "nbformat_minor": 5
}
