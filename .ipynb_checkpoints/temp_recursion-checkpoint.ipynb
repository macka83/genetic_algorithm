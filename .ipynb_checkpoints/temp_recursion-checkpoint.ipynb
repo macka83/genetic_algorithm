{
 "cells": [
  {
   "cell_type": "markdown",
   "id": "d1c50c7f",
   "metadata": {},
   "source": [
    "https://www.geeksforgeeks.org/building-an-undirected-graph-and-finding-shortest-path-using-dictionaries-in-python/"
   ]
  },
  {
   "cell_type": "code",
   "execution_count": 1,
   "id": "7277a8ba",
   "metadata": {},
   "outputs": [],
   "source": [
    "from collections import defaultdict\n",
    "import numpy as np"
   ]
  },
  {
   "cell_type": "markdown",
   "id": "95166626",
   "metadata": {},
   "source": [
    "generate network from out up, calculate down"
   ]
  },
  {
   "cell_type": "code",
   "execution_count": 2,
   "id": "4f46a9a8",
   "metadata": {},
   "outputs": [],
   "source": [
    "\n",
    "# n_mid = 0\n",
    "# edges = [['2in','2out'],\n",
    "#   ['0in','0out'],\n",
    "#   ['2in','0mid'],\n",
    "#   ['0mid','2out'],\n",
    "#   ['0mid','0mid'],\n",
    "#   ['0mid','0out']]\n",
    "\n",
    "\n",
    "# n_mid = 0\n",
    "# edges = [['2in','0out'],\n",
    "#       ['0in','0mid'],\n",
    "#       ['0mid','0mid'],\n",
    "#       ['0in','1out'],\n",
    "#       ['2in','1out']]\n",
    "\n",
    "n_mid = 1\n",
    "n_out = 2\n",
    "edges = [['1mid','0mid'],\n",
    "      ['0mid','2out'],\n",
    "      ['1in','1out'],\n",
    "      ['0in','0mid'],\n",
    "      ['0in','2out'],\n",
    "      ['0in','0out'],\n",
    "      ['0mid','0mid'],\n",
    "      ['2in','0mid'],\n",
    "      ['0mid','1out'],\n",
    "      ['0in','1out']]"
   ]
  },
  {
   "cell_type": "markdown",
   "id": "824befc0",
   "metadata": {},
   "source": [
    "new algoritm for neuron creation"
   ]
  },
  {
   "cell_type": "code",
   "execution_count": 7,
   "id": "39408b78",
   "metadata": {
    "scrolled": true
   },
   "outputs": [
    {
     "data": {
      "text/plain": [
       "[['1mid', '0mid'],\n",
       " ['0mid', '2out'],\n",
       " ['1in', '1out'],\n",
       " ['0in', '0mid'],\n",
       " ['0in', '2out'],\n",
       " ['0in', '0out'],\n",
       " ['0mid', '0mid'],\n",
       " ['2in', '0mid'],\n",
       " ['0mid', '1out'],\n",
       " ['0in', '1out']]"
      ]
     },
     "execution_count": 7,
     "metadata": {},
     "output_type": "execute_result"
    }
   ],
   "source": [
    "edges"
   ]
  },
  {
   "cell_type": "code",
   "execution_count": 8,
   "id": "a2db01a6",
   "metadata": {},
   "outputs": [
    {
     "data": {
      "text/plain": [
       "{'0out': {'0in': {}},\n",
       " '1out': {'1in': {}, '0mid': {}, '0in': {}},\n",
       " '2out': {'0mid': {}, '0in': {}}}"
      ]
     },
     "execution_count": 8,
     "metadata": {},
     "output_type": "execute_result"
    }
   ],
   "source": [
    "out = {f'{n}out':{} for n in range(n_out+1)}\n",
    "\n",
    "for out_neuron in edges:\n",
    "    if 'out' in out_neuron[1] and out_neuron[1] not in out:\n",
    "        out[out_neuron[1]] = {out_neuron[0]:{}}\n",
    "    elif 'out' in out_neuron[1] and out_neuron[1] in out:\n",
    "        out[out_neuron[1]].update({out_neuron[0]:{}})\n",
    "        \n",
    "out"
   ]
  },
  {
   "cell_type": "code",
   "execution_count": 9,
   "id": "d3071caf",
   "metadata": {},
   "outputs": [],
   "source": [
    "\n",
    "def mid_neuron(out):\n",
    "    for key in out:\n",
    "        for mid in out[key]:\n",
    "            \n",
    "            if 'mid' in mid:\n",
    "                out[key][mid] = {}\n",
    "                for item in edges:\n",
    "                    if mid == item[1]:\n",
    "                        out[key][mid].update({item[0]:{}})\n",
    "                mid_neuron(out[key][mid])\n",
    "                \n",
    "\n",
    "mid_neuron(out)"
   ]
  },
  {
   "cell_type": "code",
   "execution_count": 10,
   "id": "3c712266",
   "metadata": {},
   "outputs": [
    {
     "data": {
      "text/plain": [
       "{'0out': {'0in': {}},\n",
       " '1out': {'1in': {},\n",
       "  '0mid': {'1mid': {}, '0in': {}, '0mid': {}, '2in': {}},\n",
       "  '0in': {}},\n",
       " '2out': {'0mid': {'1mid': {}, '0in': {}, '0mid': {}, '2in': {}}, '0in': {}}}"
      ]
     },
     "execution_count": 10,
     "metadata": {},
     "output_type": "execute_result"
    }
   ],
   "source": [
    "out"
   ]
  },
  {
   "cell_type": "code",
   "execution_count": 11,
   "id": "3c971608",
   "metadata": {},
   "outputs": [
    {
     "data": {
      "text/plain": [
       "{'0out': {'0in': {}},\n",
       " '1out': {'1in': {}, '0mid': {'1mid': {}, '0in': {}, '0mid': {}}, '0in': {}},\n",
       " '2out': {'0mid': {'1mid': {}, '0in': {}, '0mid': {}}, '0in': {}}}"
      ]
     },
     "execution_count": 11,
     "metadata": {},
     "output_type": "execute_result"
    }
   ],
   "source": [
    "\n",
    "\n",
    "        \n",
    "def init_mid_leyer(n_mid, out):\n",
    "          \n",
    "    for nr_mid in range(n_mid+1):        \n",
    "        for key in out:\n",
    "            for mid in out[key]:\n",
    "                if f'{nr_mid}mid' in mid:\n",
    "                    item_list = {}\n",
    "                    for item in edges:\n",
    "                        if item[1] == mid and item[1] not in item_list: \n",
    "                            item_list.update({item[0]:{}})\n",
    "                    out[key][mid] = item_list\n",
    "    \n",
    "init_mid_leyer(n_mid, out)\n",
    "    \n",
    "out            "
   ]
  },
  {
   "cell_type": "code",
   "execution_count": null,
   "id": "16f72e68",
   "metadata": {},
   "outputs": [],
   "source": []
  }
 ],
 "metadata": {
  "kernelspec": {
   "display_name": "Python 3 (ipykernel)",
   "language": "python",
   "name": "python3"
  },
  "language_info": {
   "codemirror_mode": {
    "name": "ipython",
    "version": 3
   },
   "file_extension": ".py",
   "mimetype": "text/x-python",
   "name": "python",
   "nbconvert_exporter": "python",
   "pygments_lexer": "ipython3",
   "version": "3.9.7"
  }
 },
 "nbformat": 4,
 "nbformat_minor": 5
}
