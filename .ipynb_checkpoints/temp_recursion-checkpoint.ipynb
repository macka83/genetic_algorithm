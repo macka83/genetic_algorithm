{
 "cells": [
  {
   "cell_type": "markdown",
   "id": "d1c50c7f",
   "metadata": {},
   "source": [
    "https://www.geeksforgeeks.org/building-an-undirected-graph-and-finding-shortest-path-using-dictionaries-in-python/"
   ]
  },
  {
   "cell_type": "code",
   "execution_count": 1,
   "id": "7277a8ba",
   "metadata": {},
   "outputs": [],
   "source": [
    "from collections import defaultdict\n",
    "import numpy as np"
   ]
  },
  {
   "cell_type": "markdown",
   "id": "95166626",
   "metadata": {},
   "source": [
    "generate network from out up, calculate down"
   ]
  },
  {
   "cell_type": "code",
   "execution_count": 2,
   "id": "4f46a9a8",
   "metadata": {},
   "outputs": [],
   "source": [
    "\n",
    "# n_mid = 0\n",
    "# edges = [['2in','2out'],\n",
    "#   ['0in','0out'],\n",
    "#   ['2in','0mid'],\n",
    "#   ['0mid','2out'],\n",
    "#   ['0mid','0mid'],\n",
    "#   ['0mid','0out']]\n",
    "\n",
    "\n",
    "# n_mid = 0\n",
    "# edges = [['2in','0out'],\n",
    "#       ['0in','0mid'],\n",
    "#       ['0mid','0mid'],\n",
    "#       ['0in','1out'],\n",
    "#       ['2in','1out']]\n",
    "\n",
    "n_mid = 1\n",
    "n_out = 2\n",
    "edges = [['1mid','0mid'],\n",
    "      ['0mid','2out'],\n",
    "      ['1in','1out'],\n",
    "      ['0in','0mid'],\n",
    "      ['0in','2out'],\n",
    "      ['0in','0out'],\n",
    "      ['0mid','0mid'],\n",
    "      ['2in','0mid'],\n",
    "      ['0mid','1out'],\n",
    "      ['0in','1out']]"
   ]
  },
  {
   "cell_type": "code",
   "execution_count": 3,
   "id": "d3ebd388",
   "metadata": {
    "code_folding": [
     4,
     15,
     21
    ]
   },
   "outputs": [
    {
     "name": "stdout",
     "output_type": "stream",
     "text": [
      "defaultdict(<class 'list'>, {'1mid': ['0mid'], '0mid': ['1mid', '2out', '0in', '0mid', '0mid', '2in', '1out'], '2out': ['0mid', '0in'], '1in': ['1out'], '1out': ['1in', '0mid', '0in'], '0in': ['0mid', '2out', '0out', '1out'], '0out': ['0in'], '2in': ['0mid']})\n",
      "\n",
      "defaultdict(<class 'list'>, {'1mid': ['0mid'], '0mid': ['0mid', '0in', '2in', '1mid'], '2out': ['0mid', '0in'], '1out': ['1in', '0mid', '0in'], '0out': ['0in']})\n",
      "\n"
     ]
    }
   ],
   "source": [
    "graph = defaultdict(list)\n",
    "     \n",
    "# Loop to iterate over every\n",
    "# edge of the graph\n",
    "for edge in edges:\n",
    "    a, b = edge[0], edge[1]\n",
    "\n",
    "    # Creating the graph\n",
    "    # as adjacency list\n",
    "    graph[a].append(b)\n",
    "    graph[b].append(a)\n",
    "print(graph)\n",
    "print()\n",
    "list_to_pop = [key for key in graph if 'in' in key]\n",
    "\n",
    "for key in list_to_pop:\n",
    "    graph.pop(key)\n",
    "    \n",
    "# print(graph)\n",
    "# print()\n",
    "\n",
    "for mid in graph:\n",
    "    if 'mid' in mid:\n",
    "        list_mid_connection = [out_neroun for out_neroun in list(set(graph[mid])) if 'out' not in out_neroun]\n",
    "        graph[mid] = list_mid_connection\n",
    "        \n",
    "print(graph)\n",
    "print()\n",
    "\n"
   ]
  },
  {
   "cell_type": "code",
   "execution_count": 4,
   "id": "6a1ad85c",
   "metadata": {
    "code_folding": [
     0
    ]
   },
   "outputs": [],
   "source": [
    "# for key_out in graph:\n",
    "#     if 'out' in key_out:\n",
    "#         for val_out in graph[key_out]:\n",
    "#             if 'in' in val_out:\n",
    "#                 print(val_out, key_out)\n",
    "#             elif 'mid' in val_out:\n",
    "#                 print(val_out, key_out)\n",
    "#                 for key_mid in graph:\n",
    "#                     if 'mid' in key_mid and val_out == key_mid:\n",
    "#                         for mid_val in graph[key_mid]:\n",
    "#                             print(mid_val, val_out)\n"
   ]
  },
  {
   "cell_type": "markdown",
   "id": "036eada9",
   "metadata": {},
   "source": [
    "neuron creation refine version"
   ]
  },
  {
   "cell_type": "code",
   "execution_count": 5,
   "id": "e83a8602",
   "metadata": {
    "code_folding": [
     0
    ]
   },
   "outputs": [
    {
     "name": "stdout",
     "output_type": "stream",
     "text": [
      "defaultdict(<class 'list'>, {'2out': ['0mid', '0in'], '1out': ['1in', '0mid', '0in'], '0out': ['0in']})\n",
      "\n"
     ]
    }
   ],
   "source": [
    "def get_neuron_dict(edges, key):\n",
    "    graph = defaultdict(list)\n",
    "\n",
    "    # Loop to iterate over every\n",
    "    # edge of the graph\n",
    "    for edge in edges:\n",
    "        a, b = edge[0], edge[1]\n",
    "\n",
    "        # Creating the graph\n",
    "        # as adjacency list\n",
    "        if key in b:\n",
    "    #         graph[a].append(b)\n",
    "            graph[b].append(a)\n",
    "    return graph\n",
    "graph = get_neuron_dict(edges, 'out')        \n",
    "print(graph)\n",
    "print()"
   ]
  },
  {
   "cell_type": "code",
   "execution_count": 6,
   "id": "26ec2bfd",
   "metadata": {
    "code_folding": [
     0
    ]
   },
   "outputs": [
    {
     "name": "stdout",
     "output_type": "stream",
     "text": [
      "key 2out\n",
      "defaultdict(<class 'list'>, {'0mid': ['1mid', '0in', '0mid', '2in']})\n",
      "\n",
      "key 1out\n",
      "defaultdict(<class 'list'>, {'0mid': ['1mid', '0in', '0mid', '2in']})\n",
      "\n",
      "key 0out\n",
      "\n"
     ]
    }
   ],
   "source": [
    "for key in graph:\n",
    "    print('key', key)\n",
    "    for val in graph[key]:\n",
    "        if 'mid' in val:\n",
    "            graph_mid = get_neuron_dict(edges, 'mid')\n",
    "            print(graph_mid)\n",
    "    print()"
   ]
  },
  {
   "cell_type": "markdown",
   "id": "824befc0",
   "metadata": {},
   "source": [
    "new algoritm for neuron creation"
   ]
  },
  {
   "cell_type": "code",
   "execution_count": 23,
   "id": "39408b78",
   "metadata": {
    "scrolled": true
   },
   "outputs": [
    {
     "data": {
      "text/plain": [
       "[['1mid', '0mid'],\n",
       " ['0mid', '2out'],\n",
       " ['1in', '1out'],\n",
       " ['0in', '0mid'],\n",
       " ['0in', '2out'],\n",
       " ['0in', '0out'],\n",
       " ['0mid', '0mid'],\n",
       " ['2in', '0mid'],\n",
       " ['0mid', '1out'],\n",
       " ['0in', '1out']]"
      ]
     },
     "execution_count": 23,
     "metadata": {},
     "output_type": "execute_result"
    }
   ],
   "source": [
    "edges"
   ]
  },
  {
   "cell_type": "code",
   "execution_count": 3,
   "id": "a2db01a6",
   "metadata": {},
   "outputs": [
    {
     "data": {
      "text/plain": [
       "{'0out': {'0in': {}},\n",
       " '1out': {'1in': {}, '0mid': {}, '0in': {}},\n",
       " '2out': {'0mid': {}, '0in': {}}}"
      ]
     },
     "execution_count": 3,
     "metadata": {},
     "output_type": "execute_result"
    }
   ],
   "source": [
    "out = {f'{n}out':{} for n in range(n_out+1)}\n",
    "\n",
    "for out_neuron in edges:\n",
    "    if 'out' in out_neuron[1] and out_neuron[1] not in out:\n",
    "        out[out_neuron[1]] = {out_neuron[0]:{}}\n",
    "    elif 'out' in out_neuron[1] and out_neuron[1] in out:\n",
    "        out[out_neuron[1]].update({out_neuron[0]:{}})\n",
    "        \n",
    "out"
   ]
  },
  {
   "cell_type": "code",
   "execution_count": 4,
   "id": "d3071caf",
   "metadata": {},
   "outputs": [],
   "source": [
    "\n",
    "def mid_neuron(out):\n",
    "    for key in out:\n",
    "        for mid in out[key]:\n",
    "            \n",
    "            if 'mid' in mid:\n",
    "                out[key][mid] = {}\n",
    "                for item in edges:\n",
    "                    if mid == item[1]:\n",
    "                        out[key][mid].update({item[0]:{}})\n",
    "                mid_neuron(out[key][mid])\n",
    "                \n",
    "\n",
    "mid_neuron(out)"
   ]
  },
  {
   "cell_type": "code",
   "execution_count": 5,
   "id": "3c712266",
   "metadata": {},
   "outputs": [
    {
     "data": {
      "text/plain": [
       "{'0out': {'0in': {}},\n",
       " '1out': {'1in': {},\n",
       "  '0mid': {'1mid': {}, '0in': {}, '0mid': {}, '2in': {}},\n",
       "  '0in': {}},\n",
       " '2out': {'0mid': {'1mid': {}, '0in': {}, '0mid': {}, '2in': {}}, '0in': {}}}"
      ]
     },
     "execution_count": 5,
     "metadata": {},
     "output_type": "execute_result"
    }
   ],
   "source": [
    "out"
   ]
  },
  {
   "cell_type": "code",
   "execution_count": 34,
   "id": "917f84da",
   "metadata": {},
   "outputs": [
    {
     "data": {
      "text/plain": [
       "{}"
      ]
     },
     "execution_count": 34,
     "metadata": {},
     "output_type": "execute_result"
    }
   ],
   "source": [
    "out[key]['0mid']"
   ]
  },
  {
   "cell_type": "code",
   "execution_count": 8,
   "id": "3c971608",
   "metadata": {},
   "outputs": [
    {
     "data": {
      "text/plain": [
       "{'0out': {'0in': {}},\n",
       " '1out': {'1in': {}, '0mid': {'1mid': {}, '0in': {}, '0mid': {}}, '0in': {}},\n",
       " '2out': {'0mid': {'1mid': {}, '0in': {}, '0mid': {}}, '0in': {}}}"
      ]
     },
     "execution_count": 8,
     "metadata": {},
     "output_type": "execute_result"
    }
   ],
   "source": [
    "\n",
    "\n",
    "        \n",
    "def init_mid_leyer(n_mid, out):\n",
    "          \n",
    "    for nr_mid in range(n_mid+1):        \n",
    "        for key in out:\n",
    "            for mid in out[key]:\n",
    "                if f'{nr_mid}mid' in mid:\n",
    "                    item_list = {}\n",
    "                    for item in edges:\n",
    "                        if item[1] == mid and item[1] not in item_list: \n",
    "                            item_list.update({item[0]:{}})\n",
    "                    out[key][mid] = item_list\n",
    "    \n",
    "init_mid_leyer(n_mid, out)\n",
    "    \n",
    "out            "
   ]
  },
  {
   "cell_type": "code",
   "execution_count": 18,
   "id": "1b949263",
   "metadata": {},
   "outputs": [
    {
     "name": "stdout",
     "output_type": "stream",
     "text": [
      "0mid\n",
      "['2in', '0mid']\n",
      "['0mid', '0mid']\n",
      "0mid\n",
      "['2in', '0mid']\n",
      "['0mid', '0mid']\n"
     ]
    },
    {
     "data": {
      "text/plain": [
       "{'0out': {'0in': {}},\n",
       " '1out': {'1in': {}, '0mid': {'1mid': {}, '0in': {}, '0mid': {}}, '0in': {}},\n",
       " '2out': {'0mid': {'1mid': {}, '0in': {}, '0mid': {}}, '0in': {}}}"
      ]
     },
     "execution_count": 18,
     "metadata": {},
     "output_type": "execute_result"
    }
   ],
   "source": [
    "def mid_neuron_crawler(out, edges):\n",
    "    for key in out:\n",
    "        for mid in out[key]:\n",
    "            if 'mid' in mid:\n",
    "                for sub_mid in out[key][mid]:\n",
    "                    for item in edges:\n",
    "                        if mid == item[1]:\n",
    "                            print(item)\n",
    "\n",
    "mid_neuron_crawler(out, edges)                        \n",
    "out                        "
   ]
  },
  {
   "cell_type": "code",
   "execution_count": null,
   "id": "16f72e68",
   "metadata": {},
   "outputs": [],
   "source": []
  },
  {
   "cell_type": "code",
   "execution_count": 10,
   "id": "25c0d867",
   "metadata": {},
   "outputs": [],
   "source": [
    "# Function to build the graph\n",
    "def build_graph(edges):\n",
    "    \n",
    "    graph = defaultdict(list)\n",
    "     \n",
    "    # Loop to iterate over every\n",
    "    # edge of the graph\n",
    "    for edge in edges:\n",
    "        a, b = edge[0], edge[1]\n",
    "         \n",
    "        # Creating the graph\n",
    "        # as adjacency list\n",
    "        graph[a].append(b)\n",
    "        graph[b].append(a)\n",
    "    return graph\n"
   ]
  },
  {
   "cell_type": "code",
   "execution_count": 11,
   "id": "978e96af",
   "metadata": {},
   "outputs": [],
   "source": [
    "edges = [\n",
    "        [\"A\", \"B\"], [\"A\", \"E\"],\n",
    "        [\"A\", \"C\"], [\"B\", \"D\"],\n",
    "        [\"B\", \"E\"], [\"C\", \"F\"],\n",
    "        [\"C\", \"G\"], [\"D\", \"E\"]\n",
    "    ]"
   ]
  },
  {
   "cell_type": "code",
   "execution_count": 12,
   "id": "e6cef12c",
   "metadata": {},
   "outputs": [
    {
     "name": "stdout",
     "output_type": "stream",
     "text": [
      "defaultdict(<class 'list'>, {'A': ['B', 'E', 'C'], 'B': ['A', 'D', 'E'], 'E': ['A', 'B', 'D'], 'C': ['A', 'F', 'G'], 'D': ['B', 'E'], 'F': ['C'], 'G': ['C']})\n"
     ]
    }
   ],
   "source": [
    "graph = build_graph(edges)\n",
    "\n",
    "print(graph)"
   ]
  },
  {
   "cell_type": "code",
   "execution_count": null,
   "id": "f320881d",
   "metadata": {},
   "outputs": [],
   "source": []
  },
  {
   "cell_type": "code",
   "execution_count": 13,
   "id": "8a1f3d8a",
   "metadata": {},
   "outputs": [],
   "source": [
    "edges = [['2in','2out'],\n",
    "  ['0in','0out'],\n",
    "  ['2in','0mid'],\n",
    "  ['0mid','2out'],\n",
    "  ['0mid','0mid'],\n",
    "  ['0mid','0out']]\n",
    "\n",
    "graph = build_graph(edges)"
   ]
  },
  {
   "cell_type": "code",
   "execution_count": 14,
   "id": "fac77f44",
   "metadata": {},
   "outputs": [
    {
     "data": {
      "text/plain": [
       "defaultdict(list,\n",
       "            {'2in': ['2out', '0mid'],\n",
       "             '2out': ['2in', '0mid'],\n",
       "             '0in': ['0out'],\n",
       "             '0out': ['0in', '0mid'],\n",
       "             '0mid': ['2in', '2out', '0mid', '0mid', '0out']})"
      ]
     },
     "execution_count": 14,
     "metadata": {},
     "output_type": "execute_result"
    }
   ],
   "source": [
    "graph"
   ]
  },
  {
   "cell_type": "code",
   "execution_count": null,
   "id": "2f3b26d3",
   "metadata": {},
   "outputs": [],
   "source": []
  }
 ],
 "metadata": {
  "kernelspec": {
   "display_name": "Python 3 (ipykernel)",
   "language": "python",
   "name": "python3"
  },
  "language_info": {
   "codemirror_mode": {
    "name": "ipython",
    "version": 3
   },
   "file_extension": ".py",
   "mimetype": "text/x-python",
   "name": "python",
   "nbconvert_exporter": "python",
   "pygments_lexer": "ipython3",
   "version": "3.9.7"
  }
 },
 "nbformat": 4,
 "nbformat_minor": 5
}
