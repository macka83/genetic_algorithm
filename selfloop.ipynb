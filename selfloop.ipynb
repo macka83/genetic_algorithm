{
 "cells": [
  {
   "cell_type": "code",
   "execution_count": 1,
   "id": "668ad0a7",
   "metadata": {},
   "outputs": [],
   "source": [
    "import copy\n",
    "from itertools import tee\n",
    "\n",
    "def pairwise(iterable):\n",
    "    a, b = tee(iterable)\n",
    "    next(b, None)\n",
    "    return zip(a, b)\n",
    "\n"
   ]
  },
  {
   "cell_type": "code",
   "execution_count": 12,
   "id": "97552b3e",
   "metadata": {
    "ExecuteTime": {
     "end_time": "2022-05-30T20:39:20.116331Z",
     "start_time": "2022-05-30T20:39:20.096335Z"
    }
   },
   "outputs": [],
   "source": [
    "edges = {'in0mid1': ['in0', 'mid1', -3.2813062719365176],\n",
    "         'in1mid1': ['in1', 'mid1', 3.9387150923241263],\n",
    "         'in2out2': ['in2', 'out2', -1.7019380436441325],\n",
    "         'mid1out1': ['mid1', 'out1', -3.451121623683809],\n",
    "         'in1out0': ['in1', 'out0', 1.841110941553487],\n",
    "         'mid0out0': ['mid0', 'out0', -0.28884480390660766],\n",
    "         'mid0mid2': ['mid0', 'mid2', 2.1289790935449413],\n",
    "         'mid0mid0': ['mid0', 'mid0', -3.204883259575767],\n",
    "         'in2mid0': ['in2', 'mid0', -3.0564321684724556],\n",
    "         'in0out0': ['in0', 'out0', -1.3365481458873798],\n",
    "         'mid1mid0': ['mid1', 'mid0', -1.8015565389897756],\n",
    "         'mid2mid1': ['mid2', 'mid1', -2.2041812910117504],\n",
    "         'mid2out1': ['mid2', 'out1', -0.2574698611323058],\n",
    "         'in2mid1': ['in2', 'mid1', 2.4166030825576073]}\n",
    "\n",
    "# edges = [('in2', 'out2',1),\n",
    "#          ('in1', 'mid2',2),\n",
    "#          ('mid2','mid0',2.1),\n",
    "#          ('mid0','mid2',2.2),\n",
    "#          ('mid0','mid1',3),\n",
    "#          ('mid1','mid0',4), \n",
    "#          ('mid1','mid1',5),\n",
    "#          ('mid1','out1',6),\n",
    "#          ('mid1','out0',7),\n",
    "#          ('in0','out0',8),\n",
    "#         ('mid2','mid1',9),\n",
    "#         ('mid1','mid2',10),\n",
    "#         ('in3','mid2', 11)]"
   ]
  },
  {
   "cell_type": "code",
   "execution_count": 22,
   "id": "7156257c",
   "metadata": {},
   "outputs": [],
   "source": [
    "edges_no_key = [edges[i] for i in edges]\n",
    "edges_no_weight = [i[:-1] for i in edges_no_key]"
   ]
  },
  {
   "cell_type": "code",
   "execution_count": 16,
   "id": "8fdc6c3a",
   "metadata": {},
   "outputs": [
    {
     "data": {
      "image/png": "[encoded data removed]",
      "text/plain": [
       "<Figure size 648x648 with 1 Axes>"
      ]
     },
     "metadata": {},
     "output_type": "display_data"
    }
   ],
   "source": [
    "import networkx as nx\n",
    "import matplotlib.pyplot as plt\n",
    "\n",
    "G = nx.MultiDiGraph()\n",
    "G.add_edges_from(edges_no_key)\n",
    "  \n",
    "plt.figure(figsize =(9, 9))\n",
    "nx.draw_networkx(G)"
   ]
  },
  {
   "cell_type": "code",
   "execution_count": 48,
   "id": "947f09e8",
   "metadata": {},
   "outputs": [],
   "source": [
    "out = list(set([i[1] for i in edges_no_key if 'out' in i[1]]))\n",
    "init = list(set([i[0] for i in edges_no_key if 'in' in i[0]]))\n",
    "\n",
    "dic = {}\n",
    "for out in out:\n",
    "    dic[out] = []\n",
    "    for inp in init:\n",
    "        for i in nx.all_simple_paths(G, inp, out):\n",
    "            \n",
    "            dic[out].append(i)\n",
    "\n",
    "lis = []\n",
    "for item in dic['out0']:\n",
    "    lis += [i for i in pairwise(item)]\n",
    "lis = list(set(lis))  \n",
    "\n",
    "list_plus_weight = []\n",
    "for li in lis:\n",
    "    for it_nr, it in enumerate(edges_no_weight):\n",
    "        if li == tuple(it):\n",
    "            list_plus_weight.append(tuple(edges_no_key[it_nr]))"
   ]
  },
  {
   "cell_type": "code",
   "execution_count": 49,
   "id": "3c28ffd9",
   "metadata": {},
   "outputs": [
    {
     "data": {
      "text/plain": [
       "[('in0', 'out0', -1.3365481458873798),\n",
       " ('in2', 'mid1', 2.4166030825576073),\n",
       " ('in0', 'mid1', -3.2813062719365176),\n",
       " ('in1', 'out0', 1.841110941553487),\n",
       " ('mid1', 'mid0', -1.8015565389897756),\n",
       " ('mid0', 'out0', -0.28884480390660766),\n",
       " ('in1', 'mid1', 3.9387150923241263),\n",
       " ('in2', 'mid0', -3.0564321684724556)]"
      ]
     },
     "execution_count": 49,
     "metadata": {},
     "output_type": "execute_result"
    }
   ],
   "source": [
    "list_plus_weight"
   ]
  },
  {
   "cell_type": "markdown",
   "id": "952816ca",
   "metadata": {},
   "source": [
    "input"
   ]
  },
  {
   "cell_type": "code",
   "execution_count": 39,
   "id": "8d312f00",
   "metadata": {
    "scrolled": false
   },
   "outputs": [],
   "source": [
    "dic = {}\n",
    "for i in list_plus_weight:\n",
    "    if 'in' in i[0] and 'mid' in i[1]:\n",
    "        if i[1] in dic:\n",
    "            dic[i[1]] += [i[2]]\n",
    "        else:\n",
    "            dic[i[1]] = [i[2]]"
   ]
  },
  {
   "cell_type": "code",
   "execution_count": 40,
   "id": "42a994a1",
   "metadata": {},
   "outputs": [
    {
     "data": {
      "text/plain": [
       "{'mid1': [2.4166030825576073, -3.2813062719365176, 3.9387150923241263],\n",
       " 'mid0': [-3.0564321684724556]}"
      ]
     },
     "execution_count": 40,
     "metadata": {},
     "output_type": "execute_result"
    }
   ],
   "source": [
    "dic"
   ]
  },
  {
   "cell_type": "code",
   "execution_count": null,
   "id": "a50ba8db",
   "metadata": {},
   "outputs": [],
   "source": []
  }
 ],
 "metadata": {
  "kernelspec": {
   "display_name": "Python 3 (ipykernel)",
   "language": "python",
   "name": "python3"
  },
  "language_info": {
   "codemirror_mode": {
    "name": "ipython",
    "version": 3
   },
   "file_extension": ".py",
   "mimetype": "text/x-python",
   "name": "python",
   "nbconvert_exporter": "python",
   "pygments_lexer": "ipython3",
   "version": "3.9.12"
  }
 },
 "nbformat": 4,
 "nbformat_minor": 5
}
