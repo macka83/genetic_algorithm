{
 "cells": [
  {
   "cell_type": "code",
   "execution_count": 9,
   "id": "61167fbc",
   "metadata": {},
   "outputs": [
    {
     "data": {
      "image/png": "[encoded data removed]",
      "text/plain": [
       "<Figure size 1368x72 with 1 Axes>"
      ]
     },
     "metadata": {},
     "output_type": "display_data"
    }
   ],
   "source": [
    "import seaborn as sns\n",
    "import pandas as pd\n",
    "sns.set()\n",
    "\n",
    "def hex_to_rgb(hex_value):\n",
    "  h = hex_value.lstrip('#')\n",
    "  return tuple(int(h[i:i + 2], 16) / 255.0 for i in (0, 2, 4))\n",
    "\n",
    "hex_colors = [\n",
    "  '#f0787e', '#f5a841', '#5ac5bc', '#ee65a3', '#f5e34b', '#640587', '#c2c36d',\n",
    "  '#2e003a', '#878587', '#d3abea', '#f2a227', '#f0db08', '#148503', '#0a6940',\n",
    "  '#043834', '#726edb', '#db6e6e', '#db6ecb', '#6edb91'\n",
    "]\n",
    "\n",
    "rgb_colors = list(map(hex_to_rgb, hex_colors))\n",
    "\n",
    "sns.palplot(rgb_colors)"
   ]
  },
  {
   "cell_type": "code",
   "execution_count": 28,
   "id": "30dfd95b",
   "metadata": {},
   "outputs": [],
   "source": [
    "hex_colors = ['d92dd288',\n",
    " 'd9aa745f',\n",
    " '44b84f7',\n",
    " '41535e1f',\n",
    " '8a24add5',\n",
    " '2c951e81',\n",
    " '4871f27c',\n",
    " '37afa830']"
   ]
  },
  {
   "cell_type": "code",
   "execution_count": 41,
   "id": "eae178bb",
   "metadata": {},
   "outputs": [
    {
     "data": {
      "text/plain": [
       "[(0.8509803921568627, 0.17647058823529413, 0.8235294117647058),\n",
       " (0.8509803921568627, 0.6666666666666666, 0.4549019607843137),\n",
       " (0.26666666666666666, 0.7215686274509804, 0.30980392156862746),\n",
       " (0.2549019607843137, 0.3254901960784314, 0.3686274509803922),\n",
       " (0.5411764705882353, 0.1411764705882353, 0.6784313725490196),\n",
       " (0.17254901960784313, 0.5843137254901961, 0.11764705882352941),\n",
       " (0.2823529411764706, 0.44313725490196076, 0.9490196078431372),\n",
       " (0.21568627450980393, 0.6862745098039216, 0.6588235294117647)]"
      ]
     },
     "execution_count": 41,
     "metadata": {},
     "output_type": "execute_result"
    }
   ],
   "source": [
    "rgb_colors = list(map(hex_to_rgb, hex_colors))\n",
    "rgb_colors"
   ]
  },
  {
   "cell_type": "code",
   "execution_count": 30,
   "id": "2ffe4779",
   "metadata": {},
   "outputs": [
    {
     "data": {
      "image/png": "[encoded data removed]",
      "text/plain": [
       "<Figure size 576x72 with 1 Axes>"
      ]
     },
     "metadata": {},
     "output_type": "display_data"
    }
   ],
   "source": [
    "sns.palplot(rgb_colors)"
   ]
  },
  {
   "cell_type": "code",
   "execution_count": 42,
   "id": "34d43c11",
   "metadata": {},
   "outputs": [],
   "source": [
    "df = pd.DataFrame(rgb_colors) "
   ]
  },
  {
   "cell_type": "code",
   "execution_count": 40,
   "id": "21efe48a",
   "metadata": {},
   "outputs": [
    {
     "data": {
      "text/plain": [
       "(0.2992156862745098, 0.5101960784313726, 0.5501960784313725)"
      ]
     },
     "execution_count": 40,
     "metadata": {},
     "output_type": "execute_result"
    }
   ],
   "source": [
    "df[0].quantile([.40,.60]).mean(), df[1].quantile([.40,.60]).mean(), df[2].quantile([.40,.60]).mean()"
   ]
  },
  {
   "cell_type": "code",
   "execution_count": 43,
   "id": "05b9b31f",
   "metadata": {},
   "outputs": [
    {
     "data": {
      "image/png": "[encoded data removed]",
      "text/plain": [
       "<Figure size 72x72 with 1 Axes>"
      ]
     },
     "metadata": {},
     "output_type": "display_data"
    }
   ],
   "source": [
    "sns.palplot([(0.2992156862745098, 0.5101960784313726, 0.5501960784313725)])"
   ]
  },
  {
   "cell_type": "code",
   "execution_count": 24,
   "id": "deb5f7bd",
   "metadata": {},
   "outputs": [
    {
     "data": {
      "text/plain": [
       "0    0.429412\n",
       "1    0.468137\n",
       "2    0.545098\n",
       "dtype: float64"
      ]
     },
     "execution_count": 24,
     "metadata": {},
     "output_type": "execute_result"
    }
   ],
   "source": [
    "df.mean()"
   ]
  },
  {
   "cell_type": "code",
   "execution_count": null,
   "id": "c3670814",
   "metadata": {},
   "outputs": [],
   "source": []
  }
 ],
 "metadata": {
  "kernelspec": {
   "display_name": "Python 3 (ipykernel)",
   "language": "python",
   "name": "python3"
  },
  "language_info": {
   "codemirror_mode": {
    "name": "ipython",
    "version": 3
   },
   "file_extension": ".py",
   "mimetype": "text/x-python",
   "name": "python",
   "nbconvert_exporter": "python",
   "pygments_lexer": "ipython3",
   "version": "3.9.12"
  }
 },
 "nbformat": 4,
 "nbformat_minor": 5
}
